{
 "cells": [
  {
   "cell_type": "markdown",
   "metadata": {},
   "source": [
    "The following code defines LSTM model setup trained on audio modality data. "
   ]
  },
  {
   "cell_type": "code",
   "execution_count": 1,
   "metadata": {},
   "outputs": [],
   "source": [
    "import numpy as np\n",
    "import pandas as pd\n",
    "import matplotlib.pyplot as plt"
   ]
  },
  {
   "cell_type": "code",
   "execution_count": 2,
   "metadata": {},
   "outputs": [
    {
     "name": "stderr",
     "output_type": "stream",
     "text": [
      "2022-05-28 10:18:05.222719: I tensorflow/stream_executor/platform/default/dso_loader.cc:49] Successfully opened dynamic library libcudart.so.10.1\n"
     ]
    }
   ],
   "source": [
    "import tensorflow as tf\n",
    "from tensorflow import keras\n",
    "from tensorflow.keras.models import Sequential\n",
    "from tensorflow.keras import layers\n",
    "from sklearn.preprocessing import StandardScaler"
   ]
  },
  {
   "cell_type": "code",
   "execution_count": 3,
   "metadata": {},
   "outputs": [],
   "source": [
    "import sys\n",
    "sys.path.insert(1, '../')\n",
    "\n",
    "from data_preparation import prepare_x_data, get_Y_labels, reshape_Y, reshape_X, unscale_Y"
   ]
  },
  {
   "cell_type": "code",
   "execution_count": 4,
   "metadata": {},
   "outputs": [],
   "source": [
    "scaler = StandardScaler()"
   ]
  },
  {
   "cell_type": "markdown",
   "metadata": {},
   "source": [
    "## Data preparation"
   ]
  },
  {
   "cell_type": "markdown",
   "metadata": {},
   "source": [
    "Data preparation includes: <br>\n",
    "<ul>\n",
    "  <li>selecting necessary features from source files</li>\n",
    "  <li>creating combined dataset for the model training</li>\n",
    "  <li>reshaping data for model training.</li>\n"
   ]
  },
  {
   "cell_type": "markdown",
   "metadata": {},
   "source": [
    "### X data - audio features"
   ]
  },
  {
   "cell_type": "code",
   "execution_count": 5,
   "metadata": {},
   "outputs": [],
   "source": [
    "x_train = prepare_x_data('../Data/LLDs_audio_eGeMAPS/train',';', 2, scaler) "
   ]
  },
  {
   "cell_type": "code",
   "execution_count": 6,
   "metadata": {},
   "outputs": [],
   "source": [
    "x_test = prepare_x_data('../Data/LLDs_audio_eGeMAPS/dev',';', 2, scaler) "
   ]
  },
  {
   "cell_type": "markdown",
   "metadata": {},
   "source": [
    "### Y data - YMRS score"
   ]
  },
  {
   "cell_type": "code",
   "execution_count": 7,
   "metadata": {},
   "outputs": [],
   "source": [
    "y_train = get_Y_labels('../Data/labels_metadata.csv', 60, 164, scaler)\n",
    "y_train = reshape_Y(y_train,len(x_train),1,1)"
   ]
  },
  {
   "cell_type": "code",
   "execution_count": 8,
   "metadata": {},
   "outputs": [],
   "source": [
    "y_test = get_Y_labels('../Data/labels_metadata.csv', 0, 60, scaler)\n",
    "y_test = reshape_Y(y_test,len(x_test),1,1)"
   ]
  },
  {
   "cell_type": "markdown",
   "metadata": {},
   "source": [
    "## Model setup - LSTM"
   ]
  },
  {
   "cell_type": "markdown",
   "metadata": {},
   "source": [
    "Proposed model for LSTM recurrent neural network architecture."
   ]
  },
  {
   "cell_type": "markdown",
   "metadata": {},
   "source": [
    "### Defining the model"
   ]
  },
  {
   "cell_type": "code",
   "execution_count": 9,
   "metadata": {},
   "outputs": [
    {
     "name": "stderr",
     "output_type": "stream",
     "text": [
      "2022-05-28 10:18:18.386429: I tensorflow/compiler/jit/xla_cpu_device.cc:41] Not creating XLA devices, tf_xla_enable_xla_devices not set\n",
      "2022-05-28 10:18:18.396909: I tensorflow/stream_executor/platform/default/dso_loader.cc:49] Successfully opened dynamic library libcuda.so.1\n",
      "2022-05-28 10:18:19.992873: E tensorflow/stream_executor/cuda/cuda_gpu_executor.cc:927] could not open file to read NUMA node: /sys/bus/pci/devices/0000:01:00.0/numa_node\n",
      "Your kernel may have been built without NUMA support.\n",
      "2022-05-28 10:18:19.997361: I tensorflow/core/common_runtime/gpu/gpu_device.cc:1720] Found device 0 with properties: \n",
      "pciBusID: 0000:01:00.0 name: NVIDIA GeForce GTX 1660 Ti computeCapability: 7.5\n",
      "coreClock: 1.59GHz coreCount: 24 deviceMemorySize: 6.00GiB deviceMemoryBandwidth: 268.26GiB/s\n",
      "2022-05-28 10:18:19.997446: I tensorflow/stream_executor/platform/default/dso_loader.cc:49] Successfully opened dynamic library libcudart.so.10.1\n",
      "2022-05-28 10:18:20.026903: I tensorflow/stream_executor/platform/default/dso_loader.cc:49] Successfully opened dynamic library libcublas.so.10\n",
      "2022-05-28 10:18:20.027003: I tensorflow/stream_executor/platform/default/dso_loader.cc:49] Successfully opened dynamic library libcublasLt.so.10\n",
      "2022-05-28 10:18:20.046243: I tensorflow/stream_executor/platform/default/dso_loader.cc:49] Successfully opened dynamic library libcufft.so.10\n",
      "2022-05-28 10:18:20.050724: I tensorflow/stream_executor/platform/default/dso_loader.cc:49] Successfully opened dynamic library libcurand.so.10\n",
      "2022-05-28 10:18:20.080270: I tensorflow/stream_executor/platform/default/dso_loader.cc:49] Successfully opened dynamic library libcusolver.so.10\n",
      "2022-05-28 10:18:20.085526: I tensorflow/stream_executor/platform/default/dso_loader.cc:49] Successfully opened dynamic library libcusparse.so.10\n",
      "2022-05-28 10:18:20.134698: I tensorflow/stream_executor/platform/default/dso_loader.cc:49] Successfully opened dynamic library libcudnn.so.7\n",
      "2022-05-28 10:18:20.134885: E tensorflow/stream_executor/cuda/cuda_gpu_executor.cc:927] could not open file to read NUMA node: /sys/bus/pci/devices/0000:01:00.0/numa_node\n",
      "Your kernel may have been built without NUMA support.\n",
      "2022-05-28 10:18:20.134929: E tensorflow/stream_executor/cuda/cuda_gpu_executor.cc:927] could not open file to read NUMA node: /sys/bus/pci/devices/0000:01:00.0/numa_node\n",
      "Your kernel may have been built without NUMA support.\n",
      "2022-05-28 10:18:20.134936: I tensorflow/core/common_runtime/gpu/gpu_device.cc:1862] Adding visible gpu devices: 0\n",
      "2022-05-28 10:18:20.135555: I tensorflow/core/platform/cpu_feature_guard.cc:142] This TensorFlow binary is optimized with oneAPI Deep Neural Network Library (oneDNN) to use the following CPU instructions in performance-critical operations:  SSE4.1 SSE4.2 AVX AVX2 FMA\n",
      "To enable them in other operations, rebuild TensorFlow with the appropriate compiler flags.\n",
      "2022-05-28 10:18:20.137876: I tensorflow/compiler/jit/xla_gpu_device.cc:99] Not creating XLA devices, tf_xla_enable_xla_devices not set\n",
      "2022-05-28 10:18:20.138091: E tensorflow/stream_executor/cuda/cuda_gpu_executor.cc:927] could not open file to read NUMA node: /sys/bus/pci/devices/0000:01:00.0/numa_node\n",
      "Your kernel may have been built without NUMA support.\n",
      "2022-05-28 10:18:20.138117: I tensorflow/core/common_runtime/gpu/gpu_device.cc:1720] Found device 0 with properties: \n",
      "pciBusID: 0000:01:00.0 name: NVIDIA GeForce GTX 1660 Ti computeCapability: 7.5\n",
      "coreClock: 1.59GHz coreCount: 24 deviceMemorySize: 6.00GiB deviceMemoryBandwidth: 268.26GiB/s\n",
      "2022-05-28 10:18:20.138145: I tensorflow/stream_executor/platform/default/dso_loader.cc:49] Successfully opened dynamic library libcudart.so.10.1\n",
      "2022-05-28 10:18:20.138163: I tensorflow/stream_executor/platform/default/dso_loader.cc:49] Successfully opened dynamic library libcublas.so.10\n",
      "2022-05-28 10:18:20.138172: I tensorflow/stream_executor/platform/default/dso_loader.cc:49] Successfully opened dynamic library libcublasLt.so.10\n",
      "2022-05-28 10:18:20.138181: I tensorflow/stream_executor/platform/default/dso_loader.cc:49] Successfully opened dynamic library libcufft.so.10\n",
      "2022-05-28 10:18:20.138189: I tensorflow/stream_executor/platform/default/dso_loader.cc:49] Successfully opened dynamic library libcurand.so.10\n",
      "2022-05-28 10:18:20.138197: I tensorflow/stream_executor/platform/default/dso_loader.cc:49] Successfully opened dynamic library libcusolver.so.10\n",
      "2022-05-28 10:18:20.138205: I tensorflow/stream_executor/platform/default/dso_loader.cc:49] Successfully opened dynamic library libcusparse.so.10\n",
      "2022-05-28 10:18:20.138213: I tensorflow/stream_executor/platform/default/dso_loader.cc:49] Successfully opened dynamic library libcudnn.so.7\n",
      "2022-05-28 10:18:20.138247: E tensorflow/stream_executor/cuda/cuda_gpu_executor.cc:927] could not open file to read NUMA node: /sys/bus/pci/devices/0000:01:00.0/numa_node\n",
      "Your kernel may have been built without NUMA support.\n",
      "2022-05-28 10:18:20.138277: E tensorflow/stream_executor/cuda/cuda_gpu_executor.cc:927] could not open file to read NUMA node: /sys/bus/pci/devices/0000:01:00.0/numa_node\n",
      "Your kernel may have been built without NUMA support.\n",
      "2022-05-28 10:18:20.138282: I tensorflow/core/common_runtime/gpu/gpu_device.cc:1862] Adding visible gpu devices: 0\n",
      "2022-05-28 10:18:20.138750: I tensorflow/stream_executor/platform/default/dso_loader.cc:49] Successfully opened dynamic library libcudart.so.10.1\n",
      "2022-05-28 10:18:21.299851: I tensorflow/core/common_runtime/gpu/gpu_device.cc:1261] Device interconnect StreamExecutor with strength 1 edge matrix:\n",
      "2022-05-28 10:18:21.299878: I tensorflow/core/common_runtime/gpu/gpu_device.cc:1267]      0 \n",
      "2022-05-28 10:18:21.299883: I tensorflow/core/common_runtime/gpu/gpu_device.cc:1280] 0:   N \n",
      "2022-05-28 10:18:21.301273: E tensorflow/stream_executor/cuda/cuda_gpu_executor.cc:927] could not open file to read NUMA node: /sys/bus/pci/devices/0000:01:00.0/numa_node\n",
      "Your kernel may have been built without NUMA support.\n",
      "2022-05-28 10:18:21.301307: I tensorflow/core/common_runtime/gpu/gpu_device.cc:1489] Could not identify NUMA node of platform GPU id 0, defaulting to 0.  Your kernel may not have been built with NUMA support.\n",
      "2022-05-28 10:18:21.301432: E tensorflow/stream_executor/cuda/cuda_gpu_executor.cc:927] could not open file to read NUMA node: /sys/bus/pci/devices/0000:01:00.0/numa_node\n",
      "Your kernel may have been built without NUMA support.\n",
      "2022-05-28 10:18:21.301527: E tensorflow/stream_executor/cuda/cuda_gpu_executor.cc:927] could not open file to read NUMA node: /sys/bus/pci/devices/0000:01:00.0/numa_node\n",
      "Your kernel may have been built without NUMA support.\n",
      "2022-05-28 10:18:21.301563: I tensorflow/core/common_runtime/gpu/gpu_device.cc:1406] Created TensorFlow device (/job:localhost/replica:0/task:0/device:GPU:0 with 4716 MB memory) -> physical GPU (device: 0, name: NVIDIA GeForce GTX 1660 Ti, pci bus id: 0000:01:00.0, compute capability: 7.5)\n"
     ]
    }
   ],
   "source": [
    "model = keras.Sequential()"
   ]
  },
  {
   "cell_type": "code",
   "execution_count": 10,
   "metadata": {},
   "outputs": [],
   "source": [
    "model.add(layers.LSTM(units = 12, input_shape=(None,23), return_sequences=True))\n",
    "model.add(layers.Dropout(0.004))\n",
    "model.add(layers.LSTM(units = 11, input_shape=(None,15), return_sequences=False))\n",
    "model.add(layers.Dropout(0.004))\n",
    "model.add(layers.Dense(1, activation='linear'))"
   ]
  },
  {
   "cell_type": "code",
   "execution_count": 11,
   "metadata": {},
   "outputs": [],
   "source": [
    "model.compile(\n",
    "    loss=\"mse\", \n",
    "    metrics=[keras.metrics.MeanAbsoluteError()],\n",
    "    optimizer=keras.optimizers.Adam(learning_rate=0.004)\n",
    "    )"
   ]
  },
  {
   "cell_type": "code",
   "execution_count": 12,
   "metadata": {},
   "outputs": [
    {
     "name": "stdout",
     "output_type": "stream",
     "text": [
      "Model: \"sequential\"\n",
      "_________________________________________________________________\n",
      "Layer (type)                 Output Shape              Param #   \n",
      "=================================================================\n",
      "lstm (LSTM)                  (None, None, 12)          1728      \n",
      "_________________________________________________________________\n",
      "dropout (Dropout)            (None, None, 12)          0         \n",
      "_________________________________________________________________\n",
      "lstm_1 (LSTM)                (None, 11)                1056      \n",
      "_________________________________________________________________\n",
      "dropout_1 (Dropout)          (None, 11)                0         \n",
      "_________________________________________________________________\n",
      "dense (Dense)                (None, 1)                 12        \n",
      "=================================================================\n",
      "Total params: 2,796\n",
      "Trainable params: 2,796\n",
      "Non-trainable params: 0\n",
      "_________________________________________________________________\n"
     ]
    }
   ],
   "source": [
    "model.summary()"
   ]
  },
  {
   "cell_type": "code",
   "execution_count": 13,
   "metadata": {},
   "outputs": [
    {
     "data": {
      "image/png": "[encoded data removed]",
      "text/plain": [
       "<IPython.core.display.Image object>"
      ]
     },
     "execution_count": 13,
     "metadata": {},
     "output_type": "execute_result"
    }
   ],
   "source": [
    "keras.utils.plot_model(model=model, show_dtype=True, show_layer_names=True, show_shapes=True, to_file='LSTM_unimodal_audio.png')"
   ]
  },
  {
   "cell_type": "markdown",
   "metadata": {},
   "source": [
    "### Model training"
   ]
  },
  {
   "cell_type": "markdown",
   "metadata": {},
   "source": [
    "Model training setup is based on an iterative approach where model is trained one file at a time, then learned parameters are saved and loaded in the next iterative step. This setup is necessary due to the fact that source files does not have an uniform size and differ in number of frames."
   ]
  },
  {
   "cell_type": "code",
   "execution_count": 14,
   "metadata": {},
   "outputs": [
    {
     "name": "stderr",
     "output_type": "stream",
     "text": [
      "2022-05-28 10:18:22.284731: I tensorflow/compiler/mlir/mlir_graph_optimization_pass.cc:116] None of the MLIR optimization passes are enabled (registered 2)\n",
      "2022-05-28 10:18:22.288596: I tensorflow/core/platform/profile_utils/cpu_utils.cc:112] CPU Frequency: 2994365000 Hz\n"
     ]
    },
    {
     "name": "stdout",
     "output_type": "stream",
     "text": [
      "Epoch 1/10\n"
     ]
    },
    {
     "name": "stderr",
     "output_type": "stream",
     "text": [
      "2022-05-28 10:18:23.682909: I tensorflow/stream_executor/platform/default/dso_loader.cc:49] Successfully opened dynamic library libcublas.so.10\n",
      "2022-05-28 10:18:24.042391: I tensorflow/stream_executor/platform/default/dso_loader.cc:49] Successfully opened dynamic library libcudnn.so.7\n"
     ]
    },
    {
     "name": "stdout",
     "output_type": "stream",
     "text": [
      "1/1 [==============================] - 4s 4s/step - loss: 0.0109 - mean_absolute_error: 0.1046\n",
      "Epoch 2/10\n",
      "1/1 [==============================] - 1s 568ms/step - loss: 0.0036 - mean_absolute_error: 0.0601\n",
      "Epoch 3/10\n",
      "1/1 [==============================] - 1s 840ms/step - loss: 0.0062 - mean_absolute_error: 0.0787\n",
      "Epoch 4/10\n",
      "1/1 [==============================] - 1s 564ms/step - loss: 0.0019 - mean_absolute_error: 0.0437\n",
      "Epoch 5/10\n",
      "1/1 [==============================] - 1s 570ms/step - loss: 5.0337e-04 - mean_absolute_error: 0.0224\n",
      "Epoch 6/10\n",
      "1/1 [==============================] - 1s 568ms/step - loss: 9.7630e-05 - mean_absolute_error: 0.0099\n",
      "Epoch 7/10\n",
      "1/1 [==============================] - 1s 580ms/step - loss: 0.0011 - mean_absolute_error: 0.0333\n",
      "Epoch 8/10\n",
      "1/1 [==============================] - 1s 574ms/step - loss: 0.0017 - mean_absolute_error: 0.0410\n",
      "Epoch 9/10\n",
      "1/1 [==============================] - 1s 737ms/step - loss: 8.5046e-04 - mean_absolute_error: 0.0292\n",
      "Epoch 10/10\n",
      "1/1 [==============================] - 1s 566ms/step - loss: 6.1150e-05 - mean_absolute_error: 0.0078\n"
     ]
    },
    {
     "name": "stderr",
     "output_type": "stream",
     "text": [
      "2022-05-28 10:18:34.793977: W tensorflow/python/util/util.cc:348] Sets are not currently considered sequences, but this may change in the future, so consider avoiding using them.\n",
      "WARNING:absl:Found untraced functions such as lstm_cell_layer_call_and_return_conditional_losses, lstm_cell_layer_call_fn, lstm_cell_1_layer_call_and_return_conditional_losses, lstm_cell_1_layer_call_fn, lstm_cell_layer_call_fn while saving (showing 5 of 10). These functions will not be directly callable after loading.\n",
      "WARNING:absl:Found untraced functions such as lstm_cell_layer_call_and_return_conditional_losses, lstm_cell_layer_call_fn, lstm_cell_1_layer_call_and_return_conditional_losses, lstm_cell_1_layer_call_fn, lstm_cell_layer_call_fn while saving (showing 5 of 10). These functions will not be directly callable after loading.\n"
     ]
    },
    {
     "name": "stdout",
     "output_type": "stream",
     "text": [
      "INFO:tensorflow:Assets written to: LSTM_train_audio/assets\n"
     ]
    },
    {
     "name": "stderr",
     "output_type": "stream",
     "text": [
      "INFO:tensorflow:Assets written to: LSTM_train_audio/assets\n"
     ]
    },
    {
     "name": "stdout",
     "output_type": "stream",
     "text": [
      "Epoch 1/10\n",
      "1/1 [==============================] - 3s 3s/step - loss: 0.3734 - mean_absolute_error: 0.6111\n",
      "Epoch 2/10\n",
      "1/1 [==============================] - 1s 762ms/step - loss: 0.2265 - mean_absolute_error: 0.4759\n",
      "Epoch 3/10\n",
      "1/1 [==============================] - 1s 879ms/step - loss: 0.1246 - mean_absolute_error: 0.3530\n",
      "Epoch 4/10\n",
      "1/1 [==============================] - 1s 726ms/step - loss: 0.0564 - mean_absolute_error: 0.2375\n",
      "Epoch 5/10\n",
      "1/1 [==============================] - 1s 696ms/step - loss: 0.0191 - mean_absolute_error: 0.1383\n",
      "Epoch 6/10\n",
      "1/1 [==============================] - 1s 734ms/step - loss: 6.3934e-04 - mean_absolute_error: 0.0253\n",
      "Epoch 7/10\n",
      "1/1 [==============================] - 1s 625ms/step - loss: 0.0046 - mean_absolute_error: 0.0680\n",
      "Epoch 8/10\n",
      "1/1 [==============================] - 1s 672ms/step - loss: 0.0179 - mean_absolute_error: 0.1339\n",
      "Epoch 9/10\n",
      "1/1 [==============================] - 1s 774ms/step - loss: 0.0261 - mean_absolute_error: 0.1616\n",
      "Epoch 10/10\n",
      "1/1 [==============================] - 1s 665ms/step - loss: 0.0242 - mean_absolute_error: 0.1557\n"
     ]
    },
    {
     "name": "stderr",
     "output_type": "stream",
     "text": [
      "WARNING:absl:Found untraced functions such as lstm_cell_2_layer_call_and_return_conditional_losses, lstm_cell_2_layer_call_fn, lstm_cell_3_layer_call_and_return_conditional_losses, lstm_cell_3_layer_call_fn, lstm_cell_2_layer_call_fn while saving (showing 5 of 10). These functions will not be directly callable after loading.\n",
      "WARNING:absl:Found untraced functions such as lstm_cell_2_layer_call_and_return_conditional_losses, lstm_cell_2_layer_call_fn, lstm_cell_3_layer_call_and_return_conditional_losses, lstm_cell_3_layer_call_fn, lstm_cell_2_layer_call_fn while saving (showing 5 of 10). These functions will not be directly callable after loading.\n"
     ]
    },
    {
     "name": "stdout",
     "output_type": "stream",
     "text": [
      "INFO:tensorflow:Assets written to: LSTM_train_audio/assets\n"
     ]
    },
    {
     "name": "stderr",
     "output_type": "stream",
     "text": [
      "INFO:tensorflow:Assets written to: LSTM_train_audio/assets\n"
     ]
    },
    {
     "name": "stdout",
     "output_type": "stream",
     "text": [
      "Epoch 1/10\n",
      "1/1 [==============================] - 3s 3s/step - loss: 0.1298 - mean_absolute_error: 0.3603\n",
      "Epoch 2/10\n",
      "1/1 [==============================] - 1s 807ms/step - loss: 0.0611 - mean_absolute_error: 0.2471\n",
      "Epoch 3/10\n",
      "1/1 [==============================] - 1s 804ms/step - loss: 0.0056 - mean_absolute_error: 0.0751\n",
      "Epoch 4/10\n",
      "1/1 [==============================] - 1s 672ms/step - loss: 0.0022 - mean_absolute_error: 0.0470\n",
      "Epoch 5/10\n",
      "1/1 [==============================] - 1s 799ms/step - loss: 0.0189 - mean_absolute_error: 0.1375\n",
      "Epoch 6/10\n",
      "1/1 [==============================] - 1s 658ms/step - loss: 0.0356 - mean_absolute_error: 0.1887\n",
      "Epoch 7/10\n",
      "1/1 [==============================] - 1s 827ms/step - loss: 0.0255 - mean_absolute_error: 0.1598\n",
      "Epoch 8/10\n",
      "1/1 [==============================] - 1s 654ms/step - loss: 0.0116 - mean_absolute_error: 0.1078\n",
      "Epoch 9/10\n",
      "1/1 [==============================] - 1s 693ms/step - loss: 0.0019 - mean_absolute_error: 0.0440\n",
      "Epoch 10/10\n",
      "1/1 [==============================] - 1s 652ms/step - loss: 1.9125e-05 - mean_absolute_error: 0.0044\n"
     ]
    },
    {
     "name": "stderr",
     "output_type": "stream",
     "text": [
      "WARNING:absl:Found untraced functions such as lstm_cell_4_layer_call_and_return_conditional_losses, lstm_cell_4_layer_call_fn, lstm_cell_5_layer_call_and_return_conditional_losses, lstm_cell_5_layer_call_fn, lstm_cell_4_layer_call_fn while saving (showing 5 of 10). These functions will not be directly callable after loading.\n",
      "WARNING:absl:Found untraced functions such as lstm_cell_4_layer_call_and_return_conditional_losses, lstm_cell_4_layer_call_fn, lstm_cell_5_layer_call_and_return_conditional_losses, lstm_cell_5_layer_call_fn, lstm_cell_4_layer_call_fn while saving (showing 5 of 10). These functions will not be directly callable after loading.\n"
     ]
    },
    {
     "name": "stdout",
     "output_type": "stream",
     "text": [
      "INFO:tensorflow:Assets written to: LSTM_train_audio/assets\n"
     ]
    },
    {
     "name": "stderr",
     "output_type": "stream",
     "text": [
      "INFO:tensorflow:Assets written to: LSTM_train_audio/assets\n"
     ]
    },
    {
     "name": "stdout",
     "output_type": "stream",
     "text": [
      "Epoch 1/10\n",
      "1/1 [==============================] - 2s 2s/step - loss: 0.2783 - mean_absolute_error: 0.5276\n",
      "Epoch 2/10\n",
      "1/1 [==============================] - 1s 535ms/step - loss: 0.1921 - mean_absolute_error: 0.4383\n",
      "Epoch 3/10\n",
      "1/1 [==============================] - 1s 624ms/step - loss: 0.0950 - mean_absolute_error: 0.3082\n",
      "Epoch 4/10\n",
      "1/1 [==============================] - 1s 666ms/step - loss: 0.0338 - mean_absolute_error: 0.1838\n",
      "Epoch 5/10\n",
      "1/1 [==============================] - 1s 658ms/step - loss: 0.0045 - mean_absolute_error: 0.0672\n",
      "Epoch 6/10\n",
      "1/1 [==============================] - 1s 657ms/step - loss: 0.0012 - mean_absolute_error: 0.0339\n",
      "Epoch 7/10\n",
      "1/1 [==============================] - 1s 592ms/step - loss: 0.0109 - mean_absolute_error: 0.1042\n",
      "Epoch 8/10\n",
      "1/1 [==============================] - 1s 640ms/step - loss: 0.0187 - mean_absolute_error: 0.1368\n",
      "Epoch 9/10\n",
      "1/1 [==============================] - 1s 540ms/step - loss: 0.0203 - mean_absolute_error: 0.1424\n",
      "Epoch 10/10\n",
      "1/1 [==============================] - 1s 737ms/step - loss: 0.0175 - mean_absolute_error: 0.1323\n"
     ]
    },
    {
     "name": "stderr",
     "output_type": "stream",
     "text": [
      "WARNING:absl:Found untraced functions such as lstm_cell_6_layer_call_and_return_conditional_losses, lstm_cell_6_layer_call_fn, lstm_cell_7_layer_call_and_return_conditional_losses, lstm_cell_7_layer_call_fn, lstm_cell_6_layer_call_fn while saving (showing 5 of 10). These functions will not be directly callable after loading.\n",
      "WARNING:absl:Found untraced functions such as lstm_cell_6_layer_call_and_return_conditional_losses, lstm_cell_6_layer_call_fn, lstm_cell_7_layer_call_and_return_conditional_losses, lstm_cell_7_layer_call_fn, lstm_cell_6_layer_call_fn while saving (showing 5 of 10). These functions will not be directly callable after loading.\n"
     ]
    },
    {
     "name": "stdout",
     "output_type": "stream",
     "text": [
      "INFO:tensorflow:Assets written to: LSTM_train_audio/assets\n"
     ]
    },
    {
     "name": "stderr",
     "output_type": "stream",
     "text": [
      "INFO:tensorflow:Assets written to: LSTM_train_audio/assets\n"
     ]
    },
    {
     "name": "stdout",
     "output_type": "stream",
     "text": [
      "Epoch 1/10\n",
      "1/1 [==============================] - 3s 3s/step - loss: 0.0445 - mean_absolute_error: 0.2110\n",
      "Epoch 2/10\n",
      "1/1 [==============================] - 0s 212ms/step - loss: 0.0115 - mean_absolute_error: 0.1071\n",
      "Epoch 3/10\n",
      "1/1 [==============================] - 0s 249ms/step - loss: 3.7670e-04 - mean_absolute_error: 0.0194\n",
      "Epoch 4/10\n",
      "1/1 [==============================] - 0s 208ms/step - loss: 0.0018 - mean_absolute_error: 0.0422\n",
      "Epoch 5/10\n",
      "1/1 [==============================] - 0s 258ms/step - loss: 0.0068 - mean_absolute_error: 0.0823\n",
      "Epoch 6/10\n",
      "1/1 [==============================] - 0s 270ms/step - loss: 0.0071 - mean_absolute_error: 0.0842\n",
      "Epoch 7/10\n",
      "1/1 [==============================] - 0s 274ms/step - loss: 0.0050 - mean_absolute_error: 0.0709\n",
      "Epoch 8/10\n",
      "1/1 [==============================] - 0s 249ms/step - loss: 0.0020 - mean_absolute_error: 0.0449\n",
      "Epoch 9/10\n",
      "1/1 [==============================] - 0s 299ms/step - loss: 3.4158e-04 - mean_absolute_error: 0.0185\n",
      "Epoch 10/10\n",
      "1/1 [==============================] - 0s 201ms/step - loss: 1.6964e-04 - mean_absolute_error: 0.0130\n",
      "WARNING:tensorflow:5 out of the last 5 calls to <function Model.make_test_function.<locals>.test_function at 0x7fe7932f3dc0> triggered tf.function retracing. Tracing is expensive and the excessive number of tracings could be due to (1) creating @tf.function repeatedly in a loop, (2) passing tensors with different shapes, (3) passing Python objects instead of tensors. For (1), please define your @tf.function outside of the loop. For (2), @tf.function has experimental_relax_shapes=True option that relaxes argument shapes that can avoid unnecessary retracing. For (3), please refer to https://www.tensorflow.org/guide/function#controlling_retracing and https://www.tensorflow.org/api_docs/python/tf/function for  more details.\n"
     ]
    },
    {
     "name": "stderr",
     "output_type": "stream",
     "text": [
      "WARNING:tensorflow:5 out of the last 5 calls to <function Model.make_test_function.<locals>.test_function at 0x7fe7932f3dc0> triggered tf.function retracing. Tracing is expensive and the excessive number of tracings could be due to (1) creating @tf.function repeatedly in a loop, (2) passing tensors with different shapes, (3) passing Python objects instead of tensors. For (1), please define your @tf.function outside of the loop. For (2), @tf.function has experimental_relax_shapes=True option that relaxes argument shapes that can avoid unnecessary retracing. For (3), please refer to https://www.tensorflow.org/guide/function#controlling_retracing and https://www.tensorflow.org/api_docs/python/tf/function for  more details.\n",
      "WARNING:absl:Found untraced functions such as lstm_cell_8_layer_call_and_return_conditional_losses, lstm_cell_8_layer_call_fn, lstm_cell_9_layer_call_and_return_conditional_losses, lstm_cell_9_layer_call_fn, lstm_cell_8_layer_call_fn while saving (showing 5 of 10). These functions will not be directly callable after loading.\n",
      "WARNING:absl:Found untraced functions such as lstm_cell_8_layer_call_and_return_conditional_losses, lstm_cell_8_layer_call_fn, lstm_cell_9_layer_call_and_return_conditional_losses, lstm_cell_9_layer_call_fn, lstm_cell_8_layer_call_fn while saving (showing 5 of 10). These functions will not be directly callable after loading.\n"
     ]
    },
    {
     "name": "stdout",
     "output_type": "stream",
     "text": [
      "INFO:tensorflow:Assets written to: LSTM_train_audio/assets\n"
     ]
    },
    {
     "name": "stderr",
     "output_type": "stream",
     "text": [
      "INFO:tensorflow:Assets written to: LSTM_train_audio/assets\n"
     ]
    },
    {
     "name": "stdout",
     "output_type": "stream",
     "text": [
      "Epoch 1/10\n",
      "1/1 [==============================] - 2s 2s/step - loss: 0.9360 - mean_absolute_error: 0.9675\n",
      "Epoch 2/10\n",
      "1/1 [==============================] - 1s 740ms/step - loss: 0.6715 - mean_absolute_error: 0.8194\n",
      "Epoch 3/10\n",
      "1/1 [==============================] - 1s 778ms/step - loss: 0.4792 - mean_absolute_error: 0.6922\n",
      "Epoch 4/10\n",
      "1/1 [==============================] - 1s 783ms/step - loss: 0.3308 - mean_absolute_error: 0.5751\n",
      "Epoch 5/10\n",
      "1/1 [==============================] - 1s 608ms/step - loss: 0.2088 - mean_absolute_error: 0.4570\n",
      "Epoch 6/10\n",
      "1/1 [==============================] - 1s 781ms/step - loss: 0.1177 - mean_absolute_error: 0.3430\n",
      "Epoch 7/10\n",
      "1/1 [==============================] - 1s 749ms/step - loss: 0.0467 - mean_absolute_error: 0.2162\n",
      "Epoch 8/10\n",
      "1/1 [==============================] - 1s 606ms/step - loss: 0.0091 - mean_absolute_error: 0.0953\n",
      "Epoch 9/10\n",
      "1/1 [==============================] - 1s 633ms/step - loss: 3.7428e-04 - mean_absolute_error: 0.0193\n",
      "Epoch 10/10\n",
      "1/1 [==============================] - 1s 632ms/step - loss: 0.0144 - mean_absolute_error: 0.1200\n",
      "WARNING:tensorflow:6 out of the last 6 calls to <function Model.make_test_function.<locals>.test_function at 0x7fe73063e9d0> triggered tf.function retracing. Tracing is expensive and the excessive number of tracings could be due to (1) creating @tf.function repeatedly in a loop, (2) passing tensors with different shapes, (3) passing Python objects instead of tensors. For (1), please define your @tf.function outside of the loop. For (2), @tf.function has experimental_relax_shapes=True option that relaxes argument shapes that can avoid unnecessary retracing. For (3), please refer to https://www.tensorflow.org/guide/function#controlling_retracing and https://www.tensorflow.org/api_docs/python/tf/function for  more details.\n"
     ]
    },
    {
     "name": "stderr",
     "output_type": "stream",
     "text": [
      "WARNING:tensorflow:6 out of the last 6 calls to <function Model.make_test_function.<locals>.test_function at 0x7fe73063e9d0> triggered tf.function retracing. Tracing is expensive and the excessive number of tracings could be due to (1) creating @tf.function repeatedly in a loop, (2) passing tensors with different shapes, (3) passing Python objects instead of tensors. For (1), please define your @tf.function outside of the loop. For (2), @tf.function has experimental_relax_shapes=True option that relaxes argument shapes that can avoid unnecessary retracing. For (3), please refer to https://www.tensorflow.org/guide/function#controlling_retracing and https://www.tensorflow.org/api_docs/python/tf/function for  more details.\n",
      "WARNING:absl:Found untraced functions such as lstm_cell_10_layer_call_and_return_conditional_losses, lstm_cell_10_layer_call_fn, lstm_cell_11_layer_call_and_return_conditional_losses, lstm_cell_11_layer_call_fn, lstm_cell_10_layer_call_fn while saving (showing 5 of 10). These functions will not be directly callable after loading.\n",
      "WARNING:absl:Found untraced functions such as lstm_cell_10_layer_call_and_return_conditional_losses, lstm_cell_10_layer_call_fn, lstm_cell_11_layer_call_and_return_conditional_losses, lstm_cell_11_layer_call_fn, lstm_cell_10_layer_call_fn while saving (showing 5 of 10). These functions will not be directly callable after loading.\n"
     ]
    },
    {
     "name": "stdout",
     "output_type": "stream",
     "text": [
      "INFO:tensorflow:Assets written to: LSTM_train_audio/assets\n"
     ]
    },
    {
     "name": "stderr",
     "output_type": "stream",
     "text": [
      "INFO:tensorflow:Assets written to: LSTM_train_audio/assets\n"
     ]
    },
    {
     "name": "stdout",
     "output_type": "stream",
     "text": [
      "Epoch 1/10\n",
      "1/1 [==============================] - 2s 2s/step - loss: 1.8124 - mean_absolute_error: 1.3463\n",
      "Epoch 2/10\n",
      "1/1 [==============================] - 1s 562ms/step - loss: 1.5251 - mean_absolute_error: 1.2349\n",
      "Epoch 3/10\n",
      "1/1 [==============================] - 0s 473ms/step - loss: 1.2319 - mean_absolute_error: 1.1099\n",
      "Epoch 4/10\n",
      "1/1 [==============================] - 0s 469ms/step - loss: 0.9472 - mean_absolute_error: 0.9732\n",
      "Epoch 5/10\n",
      "1/1 [==============================] - 0s 436ms/step - loss: 0.6703 - mean_absolute_error: 0.8187\n",
      "Epoch 6/10\n",
      "1/1 [==============================] - 1s 524ms/step - loss: 0.4430 - mean_absolute_error: 0.6656\n",
      "Epoch 7/10\n",
      "1/1 [==============================] - 1s 540ms/step - loss: 0.2510 - mean_absolute_error: 0.5010\n",
      "Epoch 8/10\n",
      "1/1 [==============================] - 1s 540ms/step - loss: 0.1165 - mean_absolute_error: 0.3413\n",
      "Epoch 9/10\n",
      "1/1 [==============================] - 0s 435ms/step - loss: 0.0349 - mean_absolute_error: 0.1869\n",
      "Epoch 10/10\n",
      "1/1 [==============================] - 1s 658ms/step - loss: 0.0022 - mean_absolute_error: 0.0473\n",
      "WARNING:tensorflow:7 out of the last 7 calls to <function Model.make_test_function.<locals>.test_function at 0x7fe793b43c10> triggered tf.function retracing. Tracing is expensive and the excessive number of tracings could be due to (1) creating @tf.function repeatedly in a loop, (2) passing tensors with different shapes, (3) passing Python objects instead of tensors. For (1), please define your @tf.function outside of the loop. For (2), @tf.function has experimental_relax_shapes=True option that relaxes argument shapes that can avoid unnecessary retracing. For (3), please refer to https://www.tensorflow.org/guide/function#controlling_retracing and https://www.tensorflow.org/api_docs/python/tf/function for  more details.\n"
     ]
    },
    {
     "name": "stderr",
     "output_type": "stream",
     "text": [
      "WARNING:tensorflow:7 out of the last 7 calls to <function Model.make_test_function.<locals>.test_function at 0x7fe793b43c10> triggered tf.function retracing. Tracing is expensive and the excessive number of tracings could be due to (1) creating @tf.function repeatedly in a loop, (2) passing tensors with different shapes, (3) passing Python objects instead of tensors. For (1), please define your @tf.function outside of the loop. For (2), @tf.function has experimental_relax_shapes=True option that relaxes argument shapes that can avoid unnecessary retracing. For (3), please refer to https://www.tensorflow.org/guide/function#controlling_retracing and https://www.tensorflow.org/api_docs/python/tf/function for  more details.\n",
      "WARNING:absl:Found untraced functions such as lstm_cell_12_layer_call_and_return_conditional_losses, lstm_cell_12_layer_call_fn, lstm_cell_13_layer_call_and_return_conditional_losses, lstm_cell_13_layer_call_fn, lstm_cell_12_layer_call_fn while saving (showing 5 of 10). These functions will not be directly callable after loading.\n",
      "WARNING:absl:Found untraced functions such as lstm_cell_12_layer_call_and_return_conditional_losses, lstm_cell_12_layer_call_fn, lstm_cell_13_layer_call_and_return_conditional_losses, lstm_cell_13_layer_call_fn, lstm_cell_12_layer_call_fn while saving (showing 5 of 10). These functions will not be directly callable after loading.\n"
     ]
    },
    {
     "name": "stdout",
     "output_type": "stream",
     "text": [
      "INFO:tensorflow:Assets written to: LSTM_train_audio/assets\n"
     ]
    },
    {
     "name": "stderr",
     "output_type": "stream",
     "text": [
      "INFO:tensorflow:Assets written to: LSTM_train_audio/assets\n"
     ]
    },
    {
     "name": "stdout",
     "output_type": "stream",
     "text": [
      "Epoch 1/10\n",
      "1/1 [==============================] - 2s 2s/step - loss: 3.3183 - mean_absolute_error: 1.8216\n",
      "Epoch 2/10\n",
      "1/1 [==============================] - 0s 317ms/step - loss: 2.6010 - mean_absolute_error: 1.6128\n",
      "Epoch 3/10\n",
      "1/1 [==============================] - 0s 424ms/step - loss: 1.8872 - mean_absolute_error: 1.3738\n",
      "Epoch 4/10\n",
      "1/1 [==============================] - 0s 310ms/step - loss: 1.3259 - mean_absolute_error: 1.1515\n",
      "Epoch 5/10\n",
      "1/1 [==============================] - 0s 333ms/step - loss: 0.9445 - mean_absolute_error: 0.9719\n",
      "Epoch 6/10\n",
      "1/1 [==============================] - 0s 350ms/step - loss: 0.6691 - mean_absolute_error: 0.8180\n",
      "Epoch 7/10\n",
      "1/1 [==============================] - 0s 351ms/step - loss: 0.4806 - mean_absolute_error: 0.6933\n",
      "Epoch 8/10\n",
      "1/1 [==============================] - 0s 388ms/step - loss: 0.3387 - mean_absolute_error: 0.5820\n",
      "Epoch 9/10\n",
      "1/1 [==============================] - 0s 308ms/step - loss: 0.2567 - mean_absolute_error: 0.5066\n",
      "Epoch 10/10\n",
      "1/1 [==============================] - 0s 337ms/step - loss: 0.1893 - mean_absolute_error: 0.4350\n",
      "WARNING:tensorflow:8 out of the last 8 calls to <function Model.make_test_function.<locals>.test_function at 0x7fe7acc96f70> triggered tf.function retracing. Tracing is expensive and the excessive number of tracings could be due to (1) creating @tf.function repeatedly in a loop, (2) passing tensors with different shapes, (3) passing Python objects instead of tensors. For (1), please define your @tf.function outside of the loop. For (2), @tf.function has experimental_relax_shapes=True option that relaxes argument shapes that can avoid unnecessary retracing. For (3), please refer to https://www.tensorflow.org/guide/function#controlling_retracing and https://www.tensorflow.org/api_docs/python/tf/function for  more details.\n"
     ]
    },
    {
     "name": "stderr",
     "output_type": "stream",
     "text": [
      "WARNING:tensorflow:8 out of the last 8 calls to <function Model.make_test_function.<locals>.test_function at 0x7fe7acc96f70> triggered tf.function retracing. Tracing is expensive and the excessive number of tracings could be due to (1) creating @tf.function repeatedly in a loop, (2) passing tensors with different shapes, (3) passing Python objects instead of tensors. For (1), please define your @tf.function outside of the loop. For (2), @tf.function has experimental_relax_shapes=True option that relaxes argument shapes that can avoid unnecessary retracing. For (3), please refer to https://www.tensorflow.org/guide/function#controlling_retracing and https://www.tensorflow.org/api_docs/python/tf/function for  more details.\n",
      "WARNING:absl:Found untraced functions such as lstm_cell_14_layer_call_and_return_conditional_losses, lstm_cell_14_layer_call_fn, lstm_cell_15_layer_call_and_return_conditional_losses, lstm_cell_15_layer_call_fn, lstm_cell_14_layer_call_fn while saving (showing 5 of 10). These functions will not be directly callable after loading.\n",
      "WARNING:absl:Found untraced functions such as lstm_cell_14_layer_call_and_return_conditional_losses, lstm_cell_14_layer_call_fn, lstm_cell_15_layer_call_and_return_conditional_losses, lstm_cell_15_layer_call_fn, lstm_cell_14_layer_call_fn while saving (showing 5 of 10). These functions will not be directly callable after loading.\n"
     ]
    },
    {
     "name": "stdout",
     "output_type": "stream",
     "text": [
      "INFO:tensorflow:Assets written to: LSTM_train_audio/assets\n"
     ]
    },
    {
     "name": "stderr",
     "output_type": "stream",
     "text": [
      "INFO:tensorflow:Assets written to: LSTM_train_audio/assets\n"
     ]
    },
    {
     "name": "stdout",
     "output_type": "stream",
     "text": [
      "Epoch 1/10\n",
      "1/1 [==============================] - 2s 2s/step - loss: 2.3675 - mean_absolute_error: 1.5387\n",
      "Epoch 2/10\n",
      "1/1 [==============================] - 0s 302ms/step - loss: 2.0938 - mean_absolute_error: 1.4470\n",
      "Epoch 3/10\n",
      "1/1 [==============================] - 0s 435ms/step - loss: 1.8348 - mean_absolute_error: 1.3545\n",
      "Epoch 4/10\n",
      "1/1 [==============================] - 0s 302ms/step - loss: 1.6261 - mean_absolute_error: 1.2752\n",
      "Epoch 5/10\n",
      "1/1 [==============================] - 0s 304ms/step - loss: 1.4359 - mean_absolute_error: 1.1983\n",
      "Epoch 6/10\n",
      "1/1 [==============================] - 0s 302ms/step - loss: 1.2548 - mean_absolute_error: 1.1202\n",
      "Epoch 7/10\n",
      "1/1 [==============================] - 0s 313ms/step - loss: 1.0726 - mean_absolute_error: 1.0357\n",
      "Epoch 8/10\n",
      "1/1 [==============================] - 0s 306ms/step - loss: 0.8987 - mean_absolute_error: 0.9480\n",
      "Epoch 9/10\n",
      "1/1 [==============================] - 0s 303ms/step - loss: 0.7145 - mean_absolute_error: 0.8453\n",
      "Epoch 10/10\n",
      "1/1 [==============================] - 0s 301ms/step - loss: 0.5468 - mean_absolute_error: 0.7395\n",
      "WARNING:tensorflow:9 out of the last 9 calls to <function Model.make_test_function.<locals>.test_function at 0x7fe7932f35e0> triggered tf.function retracing. Tracing is expensive and the excessive number of tracings could be due to (1) creating @tf.function repeatedly in a loop, (2) passing tensors with different shapes, (3) passing Python objects instead of tensors. For (1), please define your @tf.function outside of the loop. For (2), @tf.function has experimental_relax_shapes=True option that relaxes argument shapes that can avoid unnecessary retracing. For (3), please refer to https://www.tensorflow.org/guide/function#controlling_retracing and https://www.tensorflow.org/api_docs/python/tf/function for  more details.\n"
     ]
    },
    {
     "name": "stderr",
     "output_type": "stream",
     "text": [
      "WARNING:tensorflow:9 out of the last 9 calls to <function Model.make_test_function.<locals>.test_function at 0x7fe7932f35e0> triggered tf.function retracing. Tracing is expensive and the excessive number of tracings could be due to (1) creating @tf.function repeatedly in a loop, (2) passing tensors with different shapes, (3) passing Python objects instead of tensors. For (1), please define your @tf.function outside of the loop. For (2), @tf.function has experimental_relax_shapes=True option that relaxes argument shapes that can avoid unnecessary retracing. For (3), please refer to https://www.tensorflow.org/guide/function#controlling_retracing and https://www.tensorflow.org/api_docs/python/tf/function for  more details.\n",
      "WARNING:absl:Found untraced functions such as lstm_cell_16_layer_call_and_return_conditional_losses, lstm_cell_16_layer_call_fn, lstm_cell_17_layer_call_and_return_conditional_losses, lstm_cell_17_layer_call_fn, lstm_cell_16_layer_call_fn while saving (showing 5 of 10). These functions will not be directly callable after loading.\n",
      "WARNING:absl:Found untraced functions such as lstm_cell_16_layer_call_and_return_conditional_losses, lstm_cell_16_layer_call_fn, lstm_cell_17_layer_call_and_return_conditional_losses, lstm_cell_17_layer_call_fn, lstm_cell_16_layer_call_fn while saving (showing 5 of 10). These functions will not be directly callable after loading.\n"
     ]
    },
    {
     "name": "stdout",
     "output_type": "stream",
     "text": [
      "INFO:tensorflow:Assets written to: LSTM_train_audio/assets\n"
     ]
    },
    {
     "name": "stderr",
     "output_type": "stream",
     "text": [
      "INFO:tensorflow:Assets written to: LSTM_train_audio/assets\n"
     ]
    },
    {
     "name": "stdout",
     "output_type": "stream",
     "text": [
      "Epoch 1/10\n",
      "1/1 [==============================] - 2s 2s/step - loss: 2.0130 - mean_absolute_error: 1.4188\n",
      "Epoch 2/10\n",
      "1/1 [==============================] - 0s 368ms/step - loss: 1.5382 - mean_absolute_error: 1.2402\n",
      "Epoch 3/10\n",
      "1/1 [==============================] - 0s 302ms/step - loss: 1.1618 - mean_absolute_error: 1.0779\n",
      "Epoch 4/10\n",
      "1/1 [==============================] - 0s 300ms/step - loss: 0.8595 - mean_absolute_error: 0.9271\n",
      "Epoch 5/10\n",
      "1/1 [==============================] - 0s 301ms/step - loss: 0.6503 - mean_absolute_error: 0.8064\n",
      "Epoch 6/10\n",
      "1/1 [==============================] - 0s 311ms/step - loss: 0.4714 - mean_absolute_error: 0.6866\n",
      "Epoch 7/10\n",
      "1/1 [==============================] - 0s 301ms/step - loss: 0.3322 - mean_absolute_error: 0.5764\n",
      "Epoch 8/10\n",
      "1/1 [==============================] - 0s 316ms/step - loss: 0.2279 - mean_absolute_error: 0.4774\n",
      "Epoch 9/10\n",
      "1/1 [==============================] - 0s 350ms/step - loss: 0.1434 - mean_absolute_error: 0.3787\n",
      "Epoch 10/10\n",
      "1/1 [==============================] - 0s 302ms/step - loss: 0.0801 - mean_absolute_error: 0.2830\n",
      "WARNING:tensorflow:10 out of the last 10 calls to <function Model.make_test_function.<locals>.test_function at 0x7fe7acf33e50> triggered tf.function retracing. Tracing is expensive and the excessive number of tracings could be due to (1) creating @tf.function repeatedly in a loop, (2) passing tensors with different shapes, (3) passing Python objects instead of tensors. For (1), please define your @tf.function outside of the loop. For (2), @tf.function has experimental_relax_shapes=True option that relaxes argument shapes that can avoid unnecessary retracing. For (3), please refer to https://www.tensorflow.org/guide/function#controlling_retracing and https://www.tensorflow.org/api_docs/python/tf/function for  more details.\n"
     ]
    },
    {
     "name": "stderr",
     "output_type": "stream",
     "text": [
      "WARNING:tensorflow:10 out of the last 10 calls to <function Model.make_test_function.<locals>.test_function at 0x7fe7acf33e50> triggered tf.function retracing. Tracing is expensive and the excessive number of tracings could be due to (1) creating @tf.function repeatedly in a loop, (2) passing tensors with different shapes, (3) passing Python objects instead of tensors. For (1), please define your @tf.function outside of the loop. For (2), @tf.function has experimental_relax_shapes=True option that relaxes argument shapes that can avoid unnecessary retracing. For (3), please refer to https://www.tensorflow.org/guide/function#controlling_retracing and https://www.tensorflow.org/api_docs/python/tf/function for  more details.\n",
      "WARNING:absl:Found untraced functions such as lstm_cell_18_layer_call_and_return_conditional_losses, lstm_cell_18_layer_call_fn, lstm_cell_19_layer_call_and_return_conditional_losses, lstm_cell_19_layer_call_fn, lstm_cell_18_layer_call_fn while saving (showing 5 of 10). These functions will not be directly callable after loading.\n",
      "WARNING:absl:Found untraced functions such as lstm_cell_18_layer_call_and_return_conditional_losses, lstm_cell_18_layer_call_fn, lstm_cell_19_layer_call_and_return_conditional_losses, lstm_cell_19_layer_call_fn, lstm_cell_18_layer_call_fn while saving (showing 5 of 10). These functions will not be directly callable after loading.\n"
     ]
    },
    {
     "name": "stdout",
     "output_type": "stream",
     "text": [
      "INFO:tensorflow:Assets written to: LSTM_train_audio/assets\n"
     ]
    },
    {
     "name": "stderr",
     "output_type": "stream",
     "text": [
      "INFO:tensorflow:Assets written to: LSTM_train_audio/assets\n"
     ]
    },
    {
     "name": "stdout",
     "output_type": "stream",
     "text": [
      "Epoch 1/10\n",
      "1/1 [==============================] - 3s 3s/step - loss: 1.1734 - mean_absolute_error: 1.0832\n",
      "Epoch 2/10\n",
      "1/1 [==============================] - 0s 474ms/step - loss: 0.8190 - mean_absolute_error: 0.9050\n",
      "Epoch 3/10\n",
      "1/1 [==============================] - 0s 333ms/step - loss: 0.5177 - mean_absolute_error: 0.7195\n",
      "Epoch 4/10\n",
      "1/1 [==============================] - 0s 327ms/step - loss: 0.2973 - mean_absolute_error: 0.5452\n",
      "Epoch 5/10\n",
      "1/1 [==============================] - 0s 485ms/step - loss: 0.1488 - mean_absolute_error: 0.3858\n",
      "Epoch 6/10\n",
      "1/1 [==============================] - 0s 407ms/step - loss: 0.0719 - mean_absolute_error: 0.2681\n",
      "Epoch 7/10\n",
      "1/1 [==============================] - 0s 324ms/step - loss: 0.0118 - mean_absolute_error: 0.1084\n",
      "Epoch 8/10\n",
      "1/1 [==============================] - 0s 336ms/step - loss: 9.3942e-06 - mean_absolute_error: 0.0031\n",
      "Epoch 9/10\n",
      "1/1 [==============================] - 0s 322ms/step - loss: 0.0089 - mean_absolute_error: 0.0945\n",
      "Epoch 10/10\n",
      "1/1 [==============================] - 0s 326ms/step - loss: 0.0265 - mean_absolute_error: 0.1628\n",
      "WARNING:tensorflow:11 out of the last 11 calls to <function Model.make_test_function.<locals>.test_function at 0x7fe7acc964c0> triggered tf.function retracing. Tracing is expensive and the excessive number of tracings could be due to (1) creating @tf.function repeatedly in a loop, (2) passing tensors with different shapes, (3) passing Python objects instead of tensors. For (1), please define your @tf.function outside of the loop. For (2), @tf.function has experimental_relax_shapes=True option that relaxes argument shapes that can avoid unnecessary retracing. For (3), please refer to https://www.tensorflow.org/guide/function#controlling_retracing and https://www.tensorflow.org/api_docs/python/tf/function for  more details.\n"
     ]
    },
    {
     "name": "stderr",
     "output_type": "stream",
     "text": [
      "WARNING:tensorflow:11 out of the last 11 calls to <function Model.make_test_function.<locals>.test_function at 0x7fe7acc964c0> triggered tf.function retracing. Tracing is expensive and the excessive number of tracings could be due to (1) creating @tf.function repeatedly in a loop, (2) passing tensors with different shapes, (3) passing Python objects instead of tensors. For (1), please define your @tf.function outside of the loop. For (2), @tf.function has experimental_relax_shapes=True option that relaxes argument shapes that can avoid unnecessary retracing. For (3), please refer to https://www.tensorflow.org/guide/function#controlling_retracing and https://www.tensorflow.org/api_docs/python/tf/function for  more details.\n",
      "WARNING:absl:Found untraced functions such as lstm_cell_20_layer_call_and_return_conditional_losses, lstm_cell_20_layer_call_fn, lstm_cell_21_layer_call_and_return_conditional_losses, lstm_cell_21_layer_call_fn, lstm_cell_20_layer_call_fn while saving (showing 5 of 10). These functions will not be directly callable after loading.\n",
      "WARNING:absl:Found untraced functions such as lstm_cell_20_layer_call_and_return_conditional_losses, lstm_cell_20_layer_call_fn, lstm_cell_21_layer_call_and_return_conditional_losses, lstm_cell_21_layer_call_fn, lstm_cell_20_layer_call_fn while saving (showing 5 of 10). These functions will not be directly callable after loading.\n"
     ]
    },
    {
     "name": "stdout",
     "output_type": "stream",
     "text": [
      "INFO:tensorflow:Assets written to: LSTM_train_audio/assets\n"
     ]
    },
    {
     "name": "stderr",
     "output_type": "stream",
     "text": [
      "INFO:tensorflow:Assets written to: LSTM_train_audio/assets\n"
     ]
    },
    {
     "name": "stdout",
     "output_type": "stream",
     "text": [
      "Epoch 1/10\n",
      "1/1 [==============================] - 3s 3s/step - loss: 0.4908 - mean_absolute_error: 0.7005\n",
      "Epoch 2/10\n",
      "1/1 [==============================] - 1s 505ms/step - loss: 0.3329 - mean_absolute_error: 0.5770\n",
      "Epoch 3/10\n",
      "1/1 [==============================] - 1s 615ms/step - loss: 0.1985 - mean_absolute_error: 0.4456\n",
      "Epoch 4/10\n",
      "1/1 [==============================] - 1s 522ms/step - loss: 0.0996 - mean_absolute_error: 0.3156\n",
      "Epoch 5/10\n",
      "1/1 [==============================] - 1s 553ms/step - loss: 0.0508 - mean_absolute_error: 0.2254\n",
      "Epoch 6/10\n",
      "1/1 [==============================] - 1s 610ms/step - loss: 0.0064 - mean_absolute_error: 0.0802\n",
      "Epoch 7/10\n",
      "1/1 [==============================] - 1s 510ms/step - loss: 8.3197e-05 - mean_absolute_error: 0.0091\n",
      "Epoch 8/10\n",
      "1/1 [==============================] - 1s 528ms/step - loss: 0.0112 - mean_absolute_error: 0.1059\n",
      "Epoch 9/10\n",
      "1/1 [==============================] - 1s 543ms/step - loss: 0.0179 - mean_absolute_error: 0.1338\n",
      "Epoch 10/10\n",
      "1/1 [==============================] - 1s 533ms/step - loss: 0.0254 - mean_absolute_error: 0.1595\n",
      "WARNING:tensorflow:11 out of the last 11 calls to <function Model.make_test_function.<locals>.test_function at 0x7fe7300ae310> triggered tf.function retracing. Tracing is expensive and the excessive number of tracings could be due to (1) creating @tf.function repeatedly in a loop, (2) passing tensors with different shapes, (3) passing Python objects instead of tensors. For (1), please define your @tf.function outside of the loop. For (2), @tf.function has experimental_relax_shapes=True option that relaxes argument shapes that can avoid unnecessary retracing. For (3), please refer to https://www.tensorflow.org/guide/function#controlling_retracing and https://www.tensorflow.org/api_docs/python/tf/function for  more details.\n"
     ]
    },
    {
     "name": "stderr",
     "output_type": "stream",
     "text": [
      "WARNING:tensorflow:11 out of the last 11 calls to <function Model.make_test_function.<locals>.test_function at 0x7fe7300ae310> triggered tf.function retracing. Tracing is expensive and the excessive number of tracings could be due to (1) creating @tf.function repeatedly in a loop, (2) passing tensors with different shapes, (3) passing Python objects instead of tensors. For (1), please define your @tf.function outside of the loop. For (2), @tf.function has experimental_relax_shapes=True option that relaxes argument shapes that can avoid unnecessary retracing. For (3), please refer to https://www.tensorflow.org/guide/function#controlling_retracing and https://www.tensorflow.org/api_docs/python/tf/function for  more details.\n",
      "WARNING:absl:Found untraced functions such as lstm_cell_22_layer_call_and_return_conditional_losses, lstm_cell_22_layer_call_fn, lstm_cell_23_layer_call_and_return_conditional_losses, lstm_cell_23_layer_call_fn, lstm_cell_22_layer_call_fn while saving (showing 5 of 10). These functions will not be directly callable after loading.\n",
      "WARNING:absl:Found untraced functions such as lstm_cell_22_layer_call_and_return_conditional_losses, lstm_cell_22_layer_call_fn, lstm_cell_23_layer_call_and_return_conditional_losses, lstm_cell_23_layer_call_fn, lstm_cell_22_layer_call_fn while saving (showing 5 of 10). These functions will not be directly callable after loading.\n"
     ]
    },
    {
     "name": "stdout",
     "output_type": "stream",
     "text": [
      "INFO:tensorflow:Assets written to: LSTM_train_audio/assets\n"
     ]
    },
    {
     "name": "stderr",
     "output_type": "stream",
     "text": [
      "INFO:tensorflow:Assets written to: LSTM_train_audio/assets\n"
     ]
    },
    {
     "name": "stdout",
     "output_type": "stream",
     "text": [
      "Epoch 1/10\n",
      "1/1 [==============================] - 2s 2s/step - loss: 0.5704 - mean_absolute_error: 0.7552\n",
      "Epoch 2/10\n",
      "1/1 [==============================] - 0s 403ms/step - loss: 0.3836 - mean_absolute_error: 0.6193\n",
      "Epoch 3/10\n",
      "1/1 [==============================] - 0s 380ms/step - loss: 0.2350 - mean_absolute_error: 0.4847\n",
      "Epoch 4/10\n",
      "1/1 [==============================] - 0s 367ms/step - loss: 0.1266 - mean_absolute_error: 0.3558\n",
      "Epoch 5/10\n",
      "1/1 [==============================] - 0s 369ms/step - loss: 0.0540 - mean_absolute_error: 0.2323\n",
      "Epoch 6/10\n",
      "1/1 [==============================] - 0s 369ms/step - loss: 0.0200 - mean_absolute_error: 0.1415\n",
      "Epoch 7/10\n",
      "1/1 [==============================] - 0s 369ms/step - loss: 7.9022e-05 - mean_absolute_error: 0.0089\n",
      "Epoch 8/10\n",
      "1/1 [==============================] - 0s 368ms/step - loss: 0.0074 - mean_absolute_error: 0.0859\n",
      "Epoch 9/10\n",
      "1/1 [==============================] - 0s 368ms/step - loss: 0.0198 - mean_absolute_error: 0.1406\n",
      "Epoch 10/10\n",
      "1/1 [==============================] - 0s 370ms/step - loss: 0.0365 - mean_absolute_error: 0.1912\n",
      "WARNING:tensorflow:11 out of the last 11 calls to <function Model.make_test_function.<locals>.test_function at 0x7fe71194f670> triggered tf.function retracing. Tracing is expensive and the excessive number of tracings could be due to (1) creating @tf.function repeatedly in a loop, (2) passing tensors with different shapes, (3) passing Python objects instead of tensors. For (1), please define your @tf.function outside of the loop. For (2), @tf.function has experimental_relax_shapes=True option that relaxes argument shapes that can avoid unnecessary retracing. For (3), please refer to https://www.tensorflow.org/guide/function#controlling_retracing and https://www.tensorflow.org/api_docs/python/tf/function for  more details.\n"
     ]
    },
    {
     "name": "stderr",
     "output_type": "stream",
     "text": [
      "WARNING:tensorflow:11 out of the last 11 calls to <function Model.make_test_function.<locals>.test_function at 0x7fe71194f670> triggered tf.function retracing. Tracing is expensive and the excessive number of tracings could be due to (1) creating @tf.function repeatedly in a loop, (2) passing tensors with different shapes, (3) passing Python objects instead of tensors. For (1), please define your @tf.function outside of the loop. For (2), @tf.function has experimental_relax_shapes=True option that relaxes argument shapes that can avoid unnecessary retracing. For (3), please refer to https://www.tensorflow.org/guide/function#controlling_retracing and https://www.tensorflow.org/api_docs/python/tf/function for  more details.\n",
      "WARNING:absl:Found untraced functions such as lstm_cell_24_layer_call_and_return_conditional_losses, lstm_cell_24_layer_call_fn, lstm_cell_25_layer_call_and_return_conditional_losses, lstm_cell_25_layer_call_fn, lstm_cell_24_layer_call_fn while saving (showing 5 of 10). These functions will not be directly callable after loading.\n",
      "WARNING:absl:Found untraced functions such as lstm_cell_24_layer_call_and_return_conditional_losses, lstm_cell_24_layer_call_fn, lstm_cell_25_layer_call_and_return_conditional_losses, lstm_cell_25_layer_call_fn, lstm_cell_24_layer_call_fn while saving (showing 5 of 10). These functions will not be directly callable after loading.\n"
     ]
    },
    {
     "name": "stdout",
     "output_type": "stream",
     "text": [
      "INFO:tensorflow:Assets written to: LSTM_train_audio/assets\n"
     ]
    },
    {
     "name": "stderr",
     "output_type": "stream",
     "text": [
      "INFO:tensorflow:Assets written to: LSTM_train_audio/assets\n"
     ]
    },
    {
     "name": "stdout",
     "output_type": "stream",
     "text": [
      "Epoch 1/10\n",
      "1/1 [==============================] - 2s 2s/step - loss: 12.1645 - mean_absolute_error: 3.4878\n",
      "Epoch 2/10\n",
      "1/1 [==============================] - 0s 289ms/step - loss: 11.0967 - mean_absolute_error: 3.3312\n",
      "Epoch 3/10\n",
      "1/1 [==============================] - 0s 290ms/step - loss: 10.5871 - mean_absolute_error: 3.2538\n",
      "Epoch 4/10\n",
      "1/1 [==============================] - 0s 296ms/step - loss: 9.6736 - mean_absolute_error: 3.1102\n",
      "Epoch 5/10\n",
      "1/1 [==============================] - 0s 290ms/step - loss: 8.9512 - mean_absolute_error: 2.9919\n",
      "Epoch 6/10\n",
      "1/1 [==============================] - 0s 316ms/step - loss: 8.1205 - mean_absolute_error: 2.8496\n",
      "Epoch 7/10\n",
      "1/1 [==============================] - 0s 287ms/step - loss: 7.3009 - mean_absolute_error: 2.7020\n",
      "Epoch 8/10\n",
      "1/1 [==============================] - 0s 301ms/step - loss: 6.5616 - mean_absolute_error: 2.5616\n",
      "Epoch 9/10\n",
      "1/1 [==============================] - 0s 300ms/step - loss: 5.8865 - mean_absolute_error: 2.4262\n",
      "Epoch 10/10\n",
      "1/1 [==============================] - 0s 293ms/step - loss: 5.2904 - mean_absolute_error: 2.3001\n",
      "WARNING:tensorflow:11 out of the last 11 calls to <function Model.make_test_function.<locals>.test_function at 0x7fe71c10ad30> triggered tf.function retracing. Tracing is expensive and the excessive number of tracings could be due to (1) creating @tf.function repeatedly in a loop, (2) passing tensors with different shapes, (3) passing Python objects instead of tensors. For (1), please define your @tf.function outside of the loop. For (2), @tf.function has experimental_relax_shapes=True option that relaxes argument shapes that can avoid unnecessary retracing. For (3), please refer to https://www.tensorflow.org/guide/function#controlling_retracing and https://www.tensorflow.org/api_docs/python/tf/function for  more details.\n"
     ]
    },
    {
     "name": "stderr",
     "output_type": "stream",
     "text": [
      "WARNING:tensorflow:11 out of the last 11 calls to <function Model.make_test_function.<locals>.test_function at 0x7fe71c10ad30> triggered tf.function retracing. Tracing is expensive and the excessive number of tracings could be due to (1) creating @tf.function repeatedly in a loop, (2) passing tensors with different shapes, (3) passing Python objects instead of tensors. For (1), please define your @tf.function outside of the loop. For (2), @tf.function has experimental_relax_shapes=True option that relaxes argument shapes that can avoid unnecessary retracing. For (3), please refer to https://www.tensorflow.org/guide/function#controlling_retracing and https://www.tensorflow.org/api_docs/python/tf/function for  more details.\n",
      "WARNING:absl:Found untraced functions such as lstm_cell_26_layer_call_and_return_conditional_losses, lstm_cell_26_layer_call_fn, lstm_cell_27_layer_call_and_return_conditional_losses, lstm_cell_27_layer_call_fn, lstm_cell_26_layer_call_fn while saving (showing 5 of 10). These functions will not be directly callable after loading.\n",
      "WARNING:absl:Found untraced functions such as lstm_cell_26_layer_call_and_return_conditional_losses, lstm_cell_26_layer_call_fn, lstm_cell_27_layer_call_and_return_conditional_losses, lstm_cell_27_layer_call_fn, lstm_cell_26_layer_call_fn while saving (showing 5 of 10). These functions will not be directly callable after loading.\n"
     ]
    },
    {
     "name": "stdout",
     "output_type": "stream",
     "text": [
      "INFO:tensorflow:Assets written to: LSTM_train_audio/assets\n"
     ]
    },
    {
     "name": "stderr",
     "output_type": "stream",
     "text": [
      "INFO:tensorflow:Assets written to: LSTM_train_audio/assets\n"
     ]
    },
    {
     "name": "stdout",
     "output_type": "stream",
     "text": [
      "Epoch 1/10\n",
      "1/1 [==============================] - 2s 2s/step - loss: 0.0328 - mean_absolute_error: 0.1812\n",
      "Epoch 2/10\n",
      "1/1 [==============================] - 0s 115ms/step - loss: 0.0013 - mean_absolute_error: 0.0358\n",
      "Epoch 3/10\n",
      "1/1 [==============================] - 0s 111ms/step - loss: 0.0026 - mean_absolute_error: 0.0509\n",
      "Epoch 4/10\n",
      "1/1 [==============================] - 0s 107ms/step - loss: 0.0117 - mean_absolute_error: 0.1081\n",
      "Epoch 5/10\n",
      "1/1 [==============================] - 0s 129ms/step - loss: 0.0101 - mean_absolute_error: 0.1003\n",
      "Epoch 6/10\n",
      "1/1 [==============================] - 0s 105ms/step - loss: 0.0050 - mean_absolute_error: 0.0710\n",
      "Epoch 7/10\n",
      "1/1 [==============================] - 0s 104ms/step - loss: 0.0012 - mean_absolute_error: 0.0341\n",
      "Epoch 8/10\n",
      "1/1 [==============================] - 0s 106ms/step - loss: 6.2597e-06 - mean_absolute_error: 0.0025\n",
      "Epoch 9/10\n",
      "1/1 [==============================] - 0s 130ms/step - loss: 0.0011 - mean_absolute_error: 0.0331\n",
      "Epoch 10/10\n",
      "1/1 [==============================] - 0s 130ms/step - loss: 0.0023 - mean_absolute_error: 0.0475\n",
      "WARNING:tensorflow:11 out of the last 11 calls to <function Model.make_test_function.<locals>.test_function at 0x7fe79395e790> triggered tf.function retracing. Tracing is expensive and the excessive number of tracings could be due to (1) creating @tf.function repeatedly in a loop, (2) passing tensors with different shapes, (3) passing Python objects instead of tensors. For (1), please define your @tf.function outside of the loop. For (2), @tf.function has experimental_relax_shapes=True option that relaxes argument shapes that can avoid unnecessary retracing. For (3), please refer to https://www.tensorflow.org/guide/function#controlling_retracing and https://www.tensorflow.org/api_docs/python/tf/function for  more details.\n"
     ]
    },
    {
     "name": "stderr",
     "output_type": "stream",
     "text": [
      "WARNING:tensorflow:11 out of the last 11 calls to <function Model.make_test_function.<locals>.test_function at 0x7fe79395e790> triggered tf.function retracing. Tracing is expensive and the excessive number of tracings could be due to (1) creating @tf.function repeatedly in a loop, (2) passing tensors with different shapes, (3) passing Python objects instead of tensors. For (1), please define your @tf.function outside of the loop. For (2), @tf.function has experimental_relax_shapes=True option that relaxes argument shapes that can avoid unnecessary retracing. For (3), please refer to https://www.tensorflow.org/guide/function#controlling_retracing and https://www.tensorflow.org/api_docs/python/tf/function for  more details.\n",
      "WARNING:absl:Found untraced functions such as lstm_cell_28_layer_call_and_return_conditional_losses, lstm_cell_28_layer_call_fn, lstm_cell_29_layer_call_and_return_conditional_losses, lstm_cell_29_layer_call_fn, lstm_cell_28_layer_call_fn while saving (showing 5 of 10). These functions will not be directly callable after loading.\n",
      "WARNING:absl:Found untraced functions such as lstm_cell_28_layer_call_and_return_conditional_losses, lstm_cell_28_layer_call_fn, lstm_cell_29_layer_call_and_return_conditional_losses, lstm_cell_29_layer_call_fn, lstm_cell_28_layer_call_fn while saving (showing 5 of 10). These functions will not be directly callable after loading.\n"
     ]
    },
    {
     "name": "stdout",
     "output_type": "stream",
     "text": [
      "INFO:tensorflow:Assets written to: LSTM_train_audio/assets\n"
     ]
    },
    {
     "name": "stderr",
     "output_type": "stream",
     "text": [
      "INFO:tensorflow:Assets written to: LSTM_train_audio/assets\n"
     ]
    },
    {
     "name": "stdout",
     "output_type": "stream",
     "text": [
      "Epoch 1/10\n",
      "1/1 [==============================] - 2s 2s/step - loss: 0.0635 - mean_absolute_error: 0.2520\n",
      "Epoch 2/10\n",
      "1/1 [==============================] - 0s 312ms/step - loss: 0.0232 - mean_absolute_error: 0.1522\n",
      "Epoch 3/10\n",
      "1/1 [==============================] - 0s 310ms/step - loss: 0.0022 - mean_absolute_error: 0.0464\n",
      "Epoch 4/10\n",
      "1/1 [==============================] - 0s 317ms/step - loss: 0.0033 - mean_absolute_error: 0.0578\n",
      "Epoch 5/10\n",
      "1/1 [==============================] - 0s 307ms/step - loss: 0.0139 - mean_absolute_error: 0.1177\n",
      "Epoch 6/10\n",
      "1/1 [==============================] - 0s 312ms/step - loss: 0.0160 - mean_absolute_error: 0.1264\n",
      "Epoch 7/10\n",
      "1/1 [==============================] - 0s 345ms/step - loss: 0.0113 - mean_absolute_error: 0.1061\n",
      "Epoch 8/10\n",
      "1/1 [==============================] - 0s 330ms/step - loss: 0.0053 - mean_absolute_error: 0.0727\n",
      "Epoch 9/10\n",
      "1/1 [==============================] - 0s 316ms/step - loss: 0.0013 - mean_absolute_error: 0.0363\n",
      "Epoch 10/10\n",
      "1/1 [==============================] - 0s 308ms/step - loss: 0.0011 - mean_absolute_error: 0.0326\n",
      "WARNING:tensorflow:11 out of the last 11 calls to <function Model.make_test_function.<locals>.test_function at 0x7fe793cde430> triggered tf.function retracing. Tracing is expensive and the excessive number of tracings could be due to (1) creating @tf.function repeatedly in a loop, (2) passing tensors with different shapes, (3) passing Python objects instead of tensors. For (1), please define your @tf.function outside of the loop. For (2), @tf.function has experimental_relax_shapes=True option that relaxes argument shapes that can avoid unnecessary retracing. For (3), please refer to https://www.tensorflow.org/guide/function#controlling_retracing and https://www.tensorflow.org/api_docs/python/tf/function for  more details.\n"
     ]
    },
    {
     "name": "stderr",
     "output_type": "stream",
     "text": [
      "WARNING:tensorflow:11 out of the last 11 calls to <function Model.make_test_function.<locals>.test_function at 0x7fe793cde430> triggered tf.function retracing. Tracing is expensive and the excessive number of tracings could be due to (1) creating @tf.function repeatedly in a loop, (2) passing tensors with different shapes, (3) passing Python objects instead of tensors. For (1), please define your @tf.function outside of the loop. For (2), @tf.function has experimental_relax_shapes=True option that relaxes argument shapes that can avoid unnecessary retracing. For (3), please refer to https://www.tensorflow.org/guide/function#controlling_retracing and https://www.tensorflow.org/api_docs/python/tf/function for  more details.\n",
      "WARNING:absl:Found untraced functions such as lstm_cell_30_layer_call_and_return_conditional_losses, lstm_cell_30_layer_call_fn, lstm_cell_31_layer_call_and_return_conditional_losses, lstm_cell_31_layer_call_fn, lstm_cell_30_layer_call_fn while saving (showing 5 of 10). These functions will not be directly callable after loading.\n",
      "WARNING:absl:Found untraced functions such as lstm_cell_30_layer_call_and_return_conditional_losses, lstm_cell_30_layer_call_fn, lstm_cell_31_layer_call_and_return_conditional_losses, lstm_cell_31_layer_call_fn, lstm_cell_30_layer_call_fn while saving (showing 5 of 10). These functions will not be directly callable after loading.\n"
     ]
    },
    {
     "name": "stdout",
     "output_type": "stream",
     "text": [
      "INFO:tensorflow:Assets written to: LSTM_train_audio/assets\n"
     ]
    },
    {
     "name": "stderr",
     "output_type": "stream",
     "text": [
      "INFO:tensorflow:Assets written to: LSTM_train_audio/assets\n"
     ]
    },
    {
     "name": "stdout",
     "output_type": "stream",
     "text": [
      "Epoch 1/10\n",
      "1/1 [==============================] - 5s 5s/step - loss: 7.5680 - mean_absolute_error: 2.7510\n",
      "Epoch 2/10\n",
      "1/1 [==============================] - 3s 3s/step - loss: 7.1042 - mean_absolute_error: 2.6654\n",
      "Epoch 3/10\n",
      "1/1 [==============================] - 2s 2s/step - loss: 6.6928 - mean_absolute_error: 2.5870\n",
      "Epoch 4/10\n",
      "1/1 [==============================] - 2s 2s/step - loss: 5.6883 - mean_absolute_error: 2.3850\n",
      "Epoch 5/10\n",
      "1/1 [==============================] - 2s 2s/step - loss: 6.0885 - mean_absolute_error: 2.4675\n",
      "Epoch 6/10\n",
      "1/1 [==============================] - 3s 3s/step - loss: 5.7435 - mean_absolute_error: 2.3966\n",
      "Epoch 7/10\n",
      "1/1 [==============================] - 3s 3s/step - loss: 5.4780 - mean_absolute_error: 2.3405\n",
      "Epoch 8/10\n",
      "1/1 [==============================] - 2s 2s/step - loss: 5.2665 - mean_absolute_error: 2.2949\n",
      "Epoch 9/10\n",
      "1/1 [==============================] - 2s 2s/step - loss: 5.0589 - mean_absolute_error: 2.2492\n",
      "Epoch 10/10\n",
      "1/1 [==============================] - 2s 2s/step - loss: 4.8635 - mean_absolute_error: 2.2053\n",
      "WARNING:tensorflow:11 out of the last 11 calls to <function Model.make_test_function.<locals>.test_function at 0x7fe6e0349040> triggered tf.function retracing. Tracing is expensive and the excessive number of tracings could be due to (1) creating @tf.function repeatedly in a loop, (2) passing tensors with different shapes, (3) passing Python objects instead of tensors. For (1), please define your @tf.function outside of the loop. For (2), @tf.function has experimental_relax_shapes=True option that relaxes argument shapes that can avoid unnecessary retracing. For (3), please refer to https://www.tensorflow.org/guide/function#controlling_retracing and https://www.tensorflow.org/api_docs/python/tf/function for  more details.\n"
     ]
    },
    {
     "name": "stderr",
     "output_type": "stream",
     "text": [
      "WARNING:tensorflow:11 out of the last 11 calls to <function Model.make_test_function.<locals>.test_function at 0x7fe6e0349040> triggered tf.function retracing. Tracing is expensive and the excessive number of tracings could be due to (1) creating @tf.function repeatedly in a loop, (2) passing tensors with different shapes, (3) passing Python objects instead of tensors. For (1), please define your @tf.function outside of the loop. For (2), @tf.function has experimental_relax_shapes=True option that relaxes argument shapes that can avoid unnecessary retracing. For (3), please refer to https://www.tensorflow.org/guide/function#controlling_retracing and https://www.tensorflow.org/api_docs/python/tf/function for  more details.\n",
      "WARNING:absl:Found untraced functions such as lstm_cell_32_layer_call_and_return_conditional_losses, lstm_cell_32_layer_call_fn, lstm_cell_33_layer_call_and_return_conditional_losses, lstm_cell_33_layer_call_fn, lstm_cell_32_layer_call_fn while saving (showing 5 of 10). These functions will not be directly callable after loading.\n",
      "WARNING:absl:Found untraced functions such as lstm_cell_32_layer_call_and_return_conditional_losses, lstm_cell_32_layer_call_fn, lstm_cell_33_layer_call_and_return_conditional_losses, lstm_cell_33_layer_call_fn, lstm_cell_32_layer_call_fn while saving (showing 5 of 10). These functions will not be directly callable after loading.\n"
     ]
    },
    {
     "name": "stdout",
     "output_type": "stream",
     "text": [
      "INFO:tensorflow:Assets written to: LSTM_train_audio/assets\n"
     ]
    },
    {
     "name": "stderr",
     "output_type": "stream",
     "text": [
      "INFO:tensorflow:Assets written to: LSTM_train_audio/assets\n"
     ]
    },
    {
     "name": "stdout",
     "output_type": "stream",
     "text": [
      "Epoch 1/10\n",
      "1/1 [==============================] - 2s 2s/step - loss: 0.4076 - mean_absolute_error: 0.6385\n",
      "Epoch 2/10\n",
      "1/1 [==============================] - 1s 721ms/step - loss: 0.3309 - mean_absolute_error: 0.5752\n",
      "Epoch 3/10\n",
      "1/1 [==============================] - 1s 593ms/step - loss: 0.2654 - mean_absolute_error: 0.5152\n",
      "Epoch 4/10\n",
      "1/1 [==============================] - 0s 499ms/step - loss: 0.2210 - mean_absolute_error: 0.4701\n",
      "Epoch 5/10\n",
      "1/1 [==============================] - 1s 609ms/step - loss: 0.1839 - mean_absolute_error: 0.4289\n",
      "Epoch 6/10\n",
      "1/1 [==============================] - 1s 501ms/step - loss: 0.1521 - mean_absolute_error: 0.3900\n",
      "Epoch 7/10\n",
      "1/1 [==============================] - 1s 505ms/step - loss: 0.1240 - mean_absolute_error: 0.3522\n",
      "Epoch 8/10\n",
      "1/1 [==============================] - 1s 606ms/step - loss: 0.0987 - mean_absolute_error: 0.3142\n",
      "Epoch 9/10\n",
      "1/1 [==============================] - 1s 611ms/step - loss: 0.0760 - mean_absolute_error: 0.2757\n",
      "Epoch 10/10\n",
      "1/1 [==============================] - 1s 504ms/step - loss: 0.0557 - mean_absolute_error: 0.2360\n",
      "WARNING:tensorflow:11 out of the last 11 calls to <function Model.make_test_function.<locals>.test_function at 0x7fe7930a78b0> triggered tf.function retracing. Tracing is expensive and the excessive number of tracings could be due to (1) creating @tf.function repeatedly in a loop, (2) passing tensors with different shapes, (3) passing Python objects instead of tensors. For (1), please define your @tf.function outside of the loop. For (2), @tf.function has experimental_relax_shapes=True option that relaxes argument shapes that can avoid unnecessary retracing. For (3), please refer to https://www.tensorflow.org/guide/function#controlling_retracing and https://www.tensorflow.org/api_docs/python/tf/function for  more details.\n"
     ]
    },
    {
     "name": "stderr",
     "output_type": "stream",
     "text": [
      "WARNING:tensorflow:11 out of the last 11 calls to <function Model.make_test_function.<locals>.test_function at 0x7fe7930a78b0> triggered tf.function retracing. Tracing is expensive and the excessive number of tracings could be due to (1) creating @tf.function repeatedly in a loop, (2) passing tensors with different shapes, (3) passing Python objects instead of tensors. For (1), please define your @tf.function outside of the loop. For (2), @tf.function has experimental_relax_shapes=True option that relaxes argument shapes that can avoid unnecessary retracing. For (3), please refer to https://www.tensorflow.org/guide/function#controlling_retracing and https://www.tensorflow.org/api_docs/python/tf/function for  more details.\n",
      "WARNING:absl:Found untraced functions such as lstm_cell_34_layer_call_and_return_conditional_losses, lstm_cell_34_layer_call_fn, lstm_cell_35_layer_call_and_return_conditional_losses, lstm_cell_35_layer_call_fn, lstm_cell_34_layer_call_fn while saving (showing 5 of 10). These functions will not be directly callable after loading.\n",
      "WARNING:absl:Found untraced functions such as lstm_cell_34_layer_call_and_return_conditional_losses, lstm_cell_34_layer_call_fn, lstm_cell_35_layer_call_and_return_conditional_losses, lstm_cell_35_layer_call_fn, lstm_cell_34_layer_call_fn while saving (showing 5 of 10). These functions will not be directly callable after loading.\n"
     ]
    },
    {
     "name": "stdout",
     "output_type": "stream",
     "text": [
      "INFO:tensorflow:Assets written to: LSTM_train_audio/assets\n"
     ]
    },
    {
     "name": "stderr",
     "output_type": "stream",
     "text": [
      "INFO:tensorflow:Assets written to: LSTM_train_audio/assets\n"
     ]
    },
    {
     "name": "stdout",
     "output_type": "stream",
     "text": [
      "Epoch 1/10\n",
      "1/1 [==============================] - 2s 2s/step - loss: 0.0198 - mean_absolute_error: 0.1407\n",
      "Epoch 2/10\n",
      "1/1 [==============================] - 1s 704ms/step - loss: 0.0085 - mean_absolute_error: 0.0923\n",
      "Epoch 3/10\n",
      "1/1 [==============================] - 1s 833ms/step - loss: 0.0022 - mean_absolute_error: 0.0469\n",
      "Epoch 4/10\n",
      "1/1 [==============================] - 1s 577ms/step - loss: 3.9271e-05 - mean_absolute_error: 0.0063\n",
      "Epoch 5/10\n",
      "1/1 [==============================] - 1s 579ms/step - loss: 3.1474e-04 - mean_absolute_error: 0.0177\n",
      "Epoch 6/10\n",
      "1/1 [==============================] - 1s 579ms/step - loss: 0.0026 - mean_absolute_error: 0.0511\n",
      "Epoch 7/10\n",
      "1/1 [==============================] - 1s 755ms/step - loss: 0.0040 - mean_absolute_error: 0.0629\n",
      "Epoch 8/10\n",
      "1/1 [==============================] - 1s 726ms/step - loss: 0.0044 - mean_absolute_error: 0.0660\n",
      "Epoch 9/10\n",
      "1/1 [==============================] - 1s 742ms/step - loss: 0.0033 - mean_absolute_error: 0.0576\n",
      "Epoch 10/10\n",
      "1/1 [==============================] - 1s 576ms/step - loss: 0.0023 - mean_absolute_error: 0.0482\n",
      "WARNING:tensorflow:11 out of the last 11 calls to <function Model.make_test_function.<locals>.test_function at 0x7fe730467dc0> triggered tf.function retracing. Tracing is expensive and the excessive number of tracings could be due to (1) creating @tf.function repeatedly in a loop, (2) passing tensors with different shapes, (3) passing Python objects instead of tensors. For (1), please define your @tf.function outside of the loop. For (2), @tf.function has experimental_relax_shapes=True option that relaxes argument shapes that can avoid unnecessary retracing. For (3), please refer to https://www.tensorflow.org/guide/function#controlling_retracing and https://www.tensorflow.org/api_docs/python/tf/function for  more details.\n"
     ]
    },
    {
     "name": "stderr",
     "output_type": "stream",
     "text": [
      "WARNING:tensorflow:11 out of the last 11 calls to <function Model.make_test_function.<locals>.test_function at 0x7fe730467dc0> triggered tf.function retracing. Tracing is expensive and the excessive number of tracings could be due to (1) creating @tf.function repeatedly in a loop, (2) passing tensors with different shapes, (3) passing Python objects instead of tensors. For (1), please define your @tf.function outside of the loop. For (2), @tf.function has experimental_relax_shapes=True option that relaxes argument shapes that can avoid unnecessary retracing. For (3), please refer to https://www.tensorflow.org/guide/function#controlling_retracing and https://www.tensorflow.org/api_docs/python/tf/function for  more details.\n",
      "WARNING:absl:Found untraced functions such as lstm_cell_36_layer_call_and_return_conditional_losses, lstm_cell_36_layer_call_fn, lstm_cell_37_layer_call_and_return_conditional_losses, lstm_cell_37_layer_call_fn, lstm_cell_36_layer_call_fn while saving (showing 5 of 10). These functions will not be directly callable after loading.\n",
      "WARNING:absl:Found untraced functions such as lstm_cell_36_layer_call_and_return_conditional_losses, lstm_cell_36_layer_call_fn, lstm_cell_37_layer_call_and_return_conditional_losses, lstm_cell_37_layer_call_fn, lstm_cell_36_layer_call_fn while saving (showing 5 of 10). These functions will not be directly callable after loading.\n"
     ]
    },
    {
     "name": "stdout",
     "output_type": "stream",
     "text": [
      "INFO:tensorflow:Assets written to: LSTM_train_audio/assets\n"
     ]
    },
    {
     "name": "stderr",
     "output_type": "stream",
     "text": [
      "INFO:tensorflow:Assets written to: LSTM_train_audio/assets\n"
     ]
    },
    {
     "name": "stdout",
     "output_type": "stream",
     "text": [
      "Epoch 1/10\n",
      "1/1 [==============================] - 3s 3s/step - loss: 2.4044 - mean_absolute_error: 1.5506\n",
      "Epoch 2/10\n",
      "1/1 [==============================] - 0s 248ms/step - loss: 1.7435 - mean_absolute_error: 1.3204\n",
      "Epoch 3/10\n",
      "1/1 [==============================] - 0s 199ms/step - loss: 1.2075 - mean_absolute_error: 1.0989\n",
      "Epoch 4/10\n",
      "1/1 [==============================] - 0s 210ms/step - loss: 0.8879 - mean_absolute_error: 0.9423\n",
      "Epoch 5/10\n",
      "1/1 [==============================] - 0s 202ms/step - loss: 0.5337 - mean_absolute_error: 0.7305\n",
      "Epoch 6/10\n",
      "1/1 [==============================] - 0s 207ms/step - loss: 0.3259 - mean_absolute_error: 0.5709\n",
      "Epoch 7/10\n",
      "1/1 [==============================] - 0s 206ms/step - loss: 0.1836 - mean_absolute_error: 0.4285\n",
      "Epoch 8/10\n",
      "1/1 [==============================] - 0s 201ms/step - loss: 0.0957 - mean_absolute_error: 0.3094\n",
      "Epoch 9/10\n",
      "1/1 [==============================] - 0s 206ms/step - loss: 0.0410 - mean_absolute_error: 0.2025\n",
      "Epoch 10/10\n",
      "1/1 [==============================] - 0s 201ms/step - loss: 0.0135 - mean_absolute_error: 0.1163\n",
      "WARNING:tensorflow:11 out of the last 11 calls to <function Model.make_test_function.<locals>.test_function at 0x7fe7acf901f0> triggered tf.function retracing. Tracing is expensive and the excessive number of tracings could be due to (1) creating @tf.function repeatedly in a loop, (2) passing tensors with different shapes, (3) passing Python objects instead of tensors. For (1), please define your @tf.function outside of the loop. For (2), @tf.function has experimental_relax_shapes=True option that relaxes argument shapes that can avoid unnecessary retracing. For (3), please refer to https://www.tensorflow.org/guide/function#controlling_retracing and https://www.tensorflow.org/api_docs/python/tf/function for  more details.\n"
     ]
    },
    {
     "name": "stderr",
     "output_type": "stream",
     "text": [
      "WARNING:tensorflow:11 out of the last 11 calls to <function Model.make_test_function.<locals>.test_function at 0x7fe7acf901f0> triggered tf.function retracing. Tracing is expensive and the excessive number of tracings could be due to (1) creating @tf.function repeatedly in a loop, (2) passing tensors with different shapes, (3) passing Python objects instead of tensors. For (1), please define your @tf.function outside of the loop. For (2), @tf.function has experimental_relax_shapes=True option that relaxes argument shapes that can avoid unnecessary retracing. For (3), please refer to https://www.tensorflow.org/guide/function#controlling_retracing and https://www.tensorflow.org/api_docs/python/tf/function for  more details.\n",
      "WARNING:absl:Found untraced functions such as lstm_cell_38_layer_call_and_return_conditional_losses, lstm_cell_38_layer_call_fn, lstm_cell_39_layer_call_and_return_conditional_losses, lstm_cell_39_layer_call_fn, lstm_cell_38_layer_call_fn while saving (showing 5 of 10). These functions will not be directly callable after loading.\n",
      "WARNING:absl:Found untraced functions such as lstm_cell_38_layer_call_and_return_conditional_losses, lstm_cell_38_layer_call_fn, lstm_cell_39_layer_call_and_return_conditional_losses, lstm_cell_39_layer_call_fn, lstm_cell_38_layer_call_fn while saving (showing 5 of 10). These functions will not be directly callable after loading.\n"
     ]
    },
    {
     "name": "stdout",
     "output_type": "stream",
     "text": [
      "INFO:tensorflow:Assets written to: LSTM_train_audio/assets\n"
     ]
    },
    {
     "name": "stderr",
     "output_type": "stream",
     "text": [
      "INFO:tensorflow:Assets written to: LSTM_train_audio/assets\n"
     ]
    },
    {
     "name": "stdout",
     "output_type": "stream",
     "text": [
      "Epoch 1/10\n",
      "1/1 [==============================] - 3s 3s/step - loss: 1.2101 - mean_absolute_error: 1.1001\n",
      "Epoch 2/10\n",
      "1/1 [==============================] - 1s 1s/step - loss: 0.9840 - mean_absolute_error: 0.9920\n",
      "Epoch 3/10\n",
      "1/1 [==============================] - 1s 1s/step - loss: 0.7757 - mean_absolute_error: 0.8808\n",
      "Epoch 4/10\n",
      "1/1 [==============================] - 1s 1s/step - loss: 0.5957 - mean_absolute_error: 0.7718\n",
      "Epoch 5/10\n",
      "1/1 [==============================] - 1s 1s/step - loss: 0.4462 - mean_absolute_error: 0.6680\n",
      "Epoch 6/10\n",
      "1/1 [==============================] - 1s 1s/step - loss: 0.3239 - mean_absolute_error: 0.5692\n",
      "Epoch 7/10\n",
      "1/1 [==============================] - 1s 1s/step - loss: 0.2241 - mean_absolute_error: 0.4734\n",
      "Epoch 8/10\n",
      "1/1 [==============================] - 1s 1s/step - loss: 0.1448 - mean_absolute_error: 0.3806\n",
      "Epoch 9/10\n",
      "1/1 [==============================] - 1s 1s/step - loss: 0.0902 - mean_absolute_error: 0.3004\n",
      "Epoch 10/10\n",
      "1/1 [==============================] - 1s 1s/step - loss: 0.0384 - mean_absolute_error: 0.1960\n",
      "WARNING:tensorflow:11 out of the last 11 calls to <function Model.make_test_function.<locals>.test_function at 0x7fe78ed44160> triggered tf.function retracing. Tracing is expensive and the excessive number of tracings could be due to (1) creating @tf.function repeatedly in a loop, (2) passing tensors with different shapes, (3) passing Python objects instead of tensors. For (1), please define your @tf.function outside of the loop. For (2), @tf.function has experimental_relax_shapes=True option that relaxes argument shapes that can avoid unnecessary retracing. For (3), please refer to https://www.tensorflow.org/guide/function#controlling_retracing and https://www.tensorflow.org/api_docs/python/tf/function for  more details.\n"
     ]
    },
    {
     "name": "stderr",
     "output_type": "stream",
     "text": [
      "WARNING:tensorflow:11 out of the last 11 calls to <function Model.make_test_function.<locals>.test_function at 0x7fe78ed44160> triggered tf.function retracing. Tracing is expensive and the excessive number of tracings could be due to (1) creating @tf.function repeatedly in a loop, (2) passing tensors with different shapes, (3) passing Python objects instead of tensors. For (1), please define your @tf.function outside of the loop. For (2), @tf.function has experimental_relax_shapes=True option that relaxes argument shapes that can avoid unnecessary retracing. For (3), please refer to https://www.tensorflow.org/guide/function#controlling_retracing and https://www.tensorflow.org/api_docs/python/tf/function for  more details.\n",
      "WARNING:absl:Found untraced functions such as lstm_cell_40_layer_call_and_return_conditional_losses, lstm_cell_40_layer_call_fn, lstm_cell_41_layer_call_and_return_conditional_losses, lstm_cell_41_layer_call_fn, lstm_cell_40_layer_call_fn while saving (showing 5 of 10). These functions will not be directly callable after loading.\n",
      "WARNING:absl:Found untraced functions such as lstm_cell_40_layer_call_and_return_conditional_losses, lstm_cell_40_layer_call_fn, lstm_cell_41_layer_call_and_return_conditional_losses, lstm_cell_41_layer_call_fn, lstm_cell_40_layer_call_fn while saving (showing 5 of 10). These functions will not be directly callable after loading.\n"
     ]
    },
    {
     "name": "stdout",
     "output_type": "stream",
     "text": [
      "INFO:tensorflow:Assets written to: LSTM_train_audio/assets\n"
     ]
    },
    {
     "name": "stderr",
     "output_type": "stream",
     "text": [
      "INFO:tensorflow:Assets written to: LSTM_train_audio/assets\n"
     ]
    },
    {
     "name": "stdout",
     "output_type": "stream",
     "text": [
      "Epoch 1/10\n",
      "1/1 [==============================] - 2s 2s/step - loss: 1.0663 - mean_absolute_error: 1.0326\n",
      "Epoch 2/10\n",
      "1/1 [==============================] - 0s 350ms/step - loss: 0.7976 - mean_absolute_error: 0.8931\n",
      "Epoch 3/10\n",
      "1/1 [==============================] - 0s 345ms/step - loss: 0.5809 - mean_absolute_error: 0.7622\n",
      "Epoch 4/10\n",
      "1/1 [==============================] - 0s 415ms/step - loss: 0.4100 - mean_absolute_error: 0.6403\n",
      "Epoch 5/10\n",
      "1/1 [==============================] - 0s 346ms/step - loss: 0.2822 - mean_absolute_error: 0.5312\n",
      "Epoch 6/10\n",
      "1/1 [==============================] - 0s 346ms/step - loss: 0.1552 - mean_absolute_error: 0.3939\n",
      "Epoch 7/10\n",
      "1/1 [==============================] - 0s 416ms/step - loss: 0.1129 - mean_absolute_error: 0.3360\n",
      "Epoch 8/10\n",
      "1/1 [==============================] - 0s 434ms/step - loss: 0.0668 - mean_absolute_error: 0.2584\n",
      "Epoch 9/10\n",
      "1/1 [==============================] - 0s 414ms/step - loss: 0.0369 - mean_absolute_error: 0.1921\n",
      "Epoch 10/10\n",
      "1/1 [==============================] - 0s 483ms/step - loss: 0.0185 - mean_absolute_error: 0.1359\n",
      "WARNING:tensorflow:11 out of the last 11 calls to <function Model.make_test_function.<locals>.test_function at 0x7fe71c10aca0> triggered tf.function retracing. Tracing is expensive and the excessive number of tracings could be due to (1) creating @tf.function repeatedly in a loop, (2) passing tensors with different shapes, (3) passing Python objects instead of tensors. For (1), please define your @tf.function outside of the loop. For (2), @tf.function has experimental_relax_shapes=True option that relaxes argument shapes that can avoid unnecessary retracing. For (3), please refer to https://www.tensorflow.org/guide/function#controlling_retracing and https://www.tensorflow.org/api_docs/python/tf/function for  more details.\n"
     ]
    },
    {
     "name": "stderr",
     "output_type": "stream",
     "text": [
      "WARNING:tensorflow:11 out of the last 11 calls to <function Model.make_test_function.<locals>.test_function at 0x7fe71c10aca0> triggered tf.function retracing. Tracing is expensive and the excessive number of tracings could be due to (1) creating @tf.function repeatedly in a loop, (2) passing tensors with different shapes, (3) passing Python objects instead of tensors. For (1), please define your @tf.function outside of the loop. For (2), @tf.function has experimental_relax_shapes=True option that relaxes argument shapes that can avoid unnecessary retracing. For (3), please refer to https://www.tensorflow.org/guide/function#controlling_retracing and https://www.tensorflow.org/api_docs/python/tf/function for  more details.\n",
      "WARNING:absl:Found untraced functions such as lstm_cell_42_layer_call_and_return_conditional_losses, lstm_cell_42_layer_call_fn, lstm_cell_43_layer_call_and_return_conditional_losses, lstm_cell_43_layer_call_fn, lstm_cell_42_layer_call_fn while saving (showing 5 of 10). These functions will not be directly callable after loading.\n",
      "WARNING:absl:Found untraced functions such as lstm_cell_42_layer_call_and_return_conditional_losses, lstm_cell_42_layer_call_fn, lstm_cell_43_layer_call_and_return_conditional_losses, lstm_cell_43_layer_call_fn, lstm_cell_42_layer_call_fn while saving (showing 5 of 10). These functions will not be directly callable after loading.\n"
     ]
    },
    {
     "name": "stdout",
     "output_type": "stream",
     "text": [
      "INFO:tensorflow:Assets written to: LSTM_train_audio/assets\n"
     ]
    },
    {
     "name": "stderr",
     "output_type": "stream",
     "text": [
      "INFO:tensorflow:Assets written to: LSTM_train_audio/assets\n"
     ]
    },
    {
     "name": "stdout",
     "output_type": "stream",
     "text": [
      "Epoch 1/10\n",
      "1/1 [==============================] - 3s 3s/step - loss: 3.2663 - mean_absolute_error: 1.8073\n",
      "Epoch 2/10\n",
      "1/1 [==============================] - 0s 385ms/step - loss: 3.6631 - mean_absolute_error: 1.9139\n",
      "Epoch 3/10\n",
      "1/1 [==============================] - 0s 482ms/step - loss: 3.5006 - mean_absolute_error: 1.8710\n",
      "Epoch 4/10\n",
      "1/1 [==============================] - 0s 473ms/step - loss: 3.3392 - mean_absolute_error: 1.8274\n",
      "Epoch 5/10\n",
      "1/1 [==============================] - 0s 400ms/step - loss: 3.3071 - mean_absolute_error: 1.8185\n",
      "Epoch 6/10\n",
      "1/1 [==============================] - 0s 387ms/step - loss: 3.0042 - mean_absolute_error: 1.7333\n",
      "Epoch 7/10\n",
      "1/1 [==============================] - 0s 466ms/step - loss: 2.8119 - mean_absolute_error: 1.6769\n",
      "Epoch 8/10\n",
      "1/1 [==============================] - 0s 473ms/step - loss: 2.6606 - mean_absolute_error: 1.6311\n",
      "Epoch 9/10\n",
      "1/1 [==============================] - 0s 388ms/step - loss: 2.5364 - mean_absolute_error: 1.5926\n",
      "Epoch 10/10\n",
      "1/1 [==============================] - 1s 557ms/step - loss: 2.2993 - mean_absolute_error: 1.5163\n",
      "WARNING:tensorflow:11 out of the last 11 calls to <function Model.make_test_function.<locals>.test_function at 0x7fe7ac80cb80> triggered tf.function retracing. Tracing is expensive and the excessive number of tracings could be due to (1) creating @tf.function repeatedly in a loop, (2) passing tensors with different shapes, (3) passing Python objects instead of tensors. For (1), please define your @tf.function outside of the loop. For (2), @tf.function has experimental_relax_shapes=True option that relaxes argument shapes that can avoid unnecessary retracing. For (3), please refer to https://www.tensorflow.org/guide/function#controlling_retracing and https://www.tensorflow.org/api_docs/python/tf/function for  more details.\n"
     ]
    },
    {
     "name": "stderr",
     "output_type": "stream",
     "text": [
      "WARNING:tensorflow:11 out of the last 11 calls to <function Model.make_test_function.<locals>.test_function at 0x7fe7ac80cb80> triggered tf.function retracing. Tracing is expensive and the excessive number of tracings could be due to (1) creating @tf.function repeatedly in a loop, (2) passing tensors with different shapes, (3) passing Python objects instead of tensors. For (1), please define your @tf.function outside of the loop. For (2), @tf.function has experimental_relax_shapes=True option that relaxes argument shapes that can avoid unnecessary retracing. For (3), please refer to https://www.tensorflow.org/guide/function#controlling_retracing and https://www.tensorflow.org/api_docs/python/tf/function for  more details.\n",
      "WARNING:absl:Found untraced functions such as lstm_cell_44_layer_call_and_return_conditional_losses, lstm_cell_44_layer_call_fn, lstm_cell_45_layer_call_and_return_conditional_losses, lstm_cell_45_layer_call_fn, lstm_cell_44_layer_call_fn while saving (showing 5 of 10). These functions will not be directly callable after loading.\n",
      "WARNING:absl:Found untraced functions such as lstm_cell_44_layer_call_and_return_conditional_losses, lstm_cell_44_layer_call_fn, lstm_cell_45_layer_call_and_return_conditional_losses, lstm_cell_45_layer_call_fn, lstm_cell_44_layer_call_fn while saving (showing 5 of 10). These functions will not be directly callable after loading.\n"
     ]
    },
    {
     "name": "stdout",
     "output_type": "stream",
     "text": [
      "INFO:tensorflow:Assets written to: LSTM_train_audio/assets\n"
     ]
    },
    {
     "name": "stderr",
     "output_type": "stream",
     "text": [
      "INFO:tensorflow:Assets written to: LSTM_train_audio/assets\n"
     ]
    },
    {
     "name": "stdout",
     "output_type": "stream",
     "text": [
      "Epoch 1/10\n",
      "1/1 [==============================] - 2s 2s/step - loss: 0.5709 - mean_absolute_error: 0.7556\n",
      "Epoch 2/10\n",
      "1/1 [==============================] - 0s 307ms/step - loss: 0.4720 - mean_absolute_error: 0.6870\n",
      "Epoch 3/10\n",
      "1/1 [==============================] - 0s 308ms/step - loss: 0.3865 - mean_absolute_error: 0.6217\n",
      "Epoch 4/10\n",
      "1/1 [==============================] - 0s 444ms/step - loss: 0.3115 - mean_absolute_error: 0.5581\n",
      "Epoch 5/10\n",
      "1/1 [==============================] - 0s 449ms/step - loss: 0.2596 - mean_absolute_error: 0.5096\n",
      "Epoch 6/10\n",
      "1/1 [==============================] - 0s 327ms/step - loss: 0.1863 - mean_absolute_error: 0.4316\n",
      "Epoch 7/10\n",
      "1/1 [==============================] - 0s 318ms/step - loss: 0.1518 - mean_absolute_error: 0.3897\n",
      "Epoch 8/10\n",
      "1/1 [==============================] - 0s 310ms/step - loss: 0.1171 - mean_absolute_error: 0.3422\n",
      "Epoch 9/10\n",
      "1/1 [==============================] - 0s 325ms/step - loss: 0.0915 - mean_absolute_error: 0.3024\n",
      "Epoch 10/10\n",
      "1/1 [==============================] - 0s 306ms/step - loss: 0.0678 - mean_absolute_error: 0.2603\n",
      "WARNING:tensorflow:11 out of the last 11 calls to <function Model.make_test_function.<locals>.test_function at 0x7fe793e90550> triggered tf.function retracing. Tracing is expensive and the excessive number of tracings could be due to (1) creating @tf.function repeatedly in a loop, (2) passing tensors with different shapes, (3) passing Python objects instead of tensors. For (1), please define your @tf.function outside of the loop. For (2), @tf.function has experimental_relax_shapes=True option that relaxes argument shapes that can avoid unnecessary retracing. For (3), please refer to https://www.tensorflow.org/guide/function#controlling_retracing and https://www.tensorflow.org/api_docs/python/tf/function for  more details.\n"
     ]
    },
    {
     "name": "stderr",
     "output_type": "stream",
     "text": [
      "WARNING:tensorflow:11 out of the last 11 calls to <function Model.make_test_function.<locals>.test_function at 0x7fe793e90550> triggered tf.function retracing. Tracing is expensive and the excessive number of tracings could be due to (1) creating @tf.function repeatedly in a loop, (2) passing tensors with different shapes, (3) passing Python objects instead of tensors. For (1), please define your @tf.function outside of the loop. For (2), @tf.function has experimental_relax_shapes=True option that relaxes argument shapes that can avoid unnecessary retracing. For (3), please refer to https://www.tensorflow.org/guide/function#controlling_retracing and https://www.tensorflow.org/api_docs/python/tf/function for  more details.\n",
      "WARNING:absl:Found untraced functions such as lstm_cell_46_layer_call_and_return_conditional_losses, lstm_cell_46_layer_call_fn, lstm_cell_47_layer_call_and_return_conditional_losses, lstm_cell_47_layer_call_fn, lstm_cell_46_layer_call_fn while saving (showing 5 of 10). These functions will not be directly callable after loading.\n",
      "WARNING:absl:Found untraced functions such as lstm_cell_46_layer_call_and_return_conditional_losses, lstm_cell_46_layer_call_fn, lstm_cell_47_layer_call_and_return_conditional_losses, lstm_cell_47_layer_call_fn, lstm_cell_46_layer_call_fn while saving (showing 5 of 10). These functions will not be directly callable after loading.\n"
     ]
    },
    {
     "name": "stdout",
     "output_type": "stream",
     "text": [
      "INFO:tensorflow:Assets written to: LSTM_train_audio/assets\n"
     ]
    },
    {
     "name": "stderr",
     "output_type": "stream",
     "text": [
      "INFO:tensorflow:Assets written to: LSTM_train_audio/assets\n"
     ]
    },
    {
     "name": "stdout",
     "output_type": "stream",
     "text": [
      "Epoch 1/10\n",
      "1/1 [==============================] - 2s 2s/step - loss: 0.0110 - mean_absolute_error: 0.1051\n",
      "Epoch 2/10\n",
      "1/1 [==============================] - 1s 575ms/step - loss: 1.1923e-04 - mean_absolute_error: 0.0109\n",
      "Epoch 3/10\n",
      "1/1 [==============================] - 1s 651ms/step - loss: 0.0038 - mean_absolute_error: 0.0612\n",
      "Epoch 4/10\n",
      "1/1 [==============================] - 1s 577ms/step - loss: 0.0041 - mean_absolute_error: 0.0639\n",
      "Epoch 5/10\n",
      "1/1 [==============================] - 1s 581ms/step - loss: 0.0026 - mean_absolute_error: 0.0508\n",
      "Epoch 6/10\n",
      "1/1 [==============================] - 1s 582ms/step - loss: 8.3454e-04 - mean_absolute_error: 0.0289\n",
      "Epoch 7/10\n",
      "1/1 [==============================] - 1s 579ms/step - loss: 3.3978e-05 - mean_absolute_error: 0.0058\n",
      "Epoch 8/10\n",
      "1/1 [==============================] - 1s 577ms/step - loss: 2.1661e-04 - mean_absolute_error: 0.0147\n",
      "Epoch 9/10\n",
      "1/1 [==============================] - 1s 722ms/step - loss: 8.9655e-04 - mean_absolute_error: 0.0299\n",
      "Epoch 10/10\n",
      "1/1 [==============================] - 1s 581ms/step - loss: 0.0015 - mean_absolute_error: 0.0385\n",
      "WARNING:tensorflow:11 out of the last 11 calls to <function Model.make_test_function.<locals>.test_function at 0x7fe7118ad040> triggered tf.function retracing. Tracing is expensive and the excessive number of tracings could be due to (1) creating @tf.function repeatedly in a loop, (2) passing tensors with different shapes, (3) passing Python objects instead of tensors. For (1), please define your @tf.function outside of the loop. For (2), @tf.function has experimental_relax_shapes=True option that relaxes argument shapes that can avoid unnecessary retracing. For (3), please refer to https://www.tensorflow.org/guide/function#controlling_retracing and https://www.tensorflow.org/api_docs/python/tf/function for  more details.\n"
     ]
    },
    {
     "name": "stderr",
     "output_type": "stream",
     "text": [
      "WARNING:tensorflow:11 out of the last 11 calls to <function Model.make_test_function.<locals>.test_function at 0x7fe7118ad040> triggered tf.function retracing. Tracing is expensive and the excessive number of tracings could be due to (1) creating @tf.function repeatedly in a loop, (2) passing tensors with different shapes, (3) passing Python objects instead of tensors. For (1), please define your @tf.function outside of the loop. For (2), @tf.function has experimental_relax_shapes=True option that relaxes argument shapes that can avoid unnecessary retracing. For (3), please refer to https://www.tensorflow.org/guide/function#controlling_retracing and https://www.tensorflow.org/api_docs/python/tf/function for  more details.\n",
      "WARNING:absl:Found untraced functions such as lstm_cell_48_layer_call_and_return_conditional_losses, lstm_cell_48_layer_call_fn, lstm_cell_49_layer_call_and_return_conditional_losses, lstm_cell_49_layer_call_fn, lstm_cell_48_layer_call_fn while saving (showing 5 of 10). These functions will not be directly callable after loading.\n",
      "WARNING:absl:Found untraced functions such as lstm_cell_48_layer_call_and_return_conditional_losses, lstm_cell_48_layer_call_fn, lstm_cell_49_layer_call_and_return_conditional_losses, lstm_cell_49_layer_call_fn, lstm_cell_48_layer_call_fn while saving (showing 5 of 10). These functions will not be directly callable after loading.\n"
     ]
    },
    {
     "name": "stdout",
     "output_type": "stream",
     "text": [
      "INFO:tensorflow:Assets written to: LSTM_train_audio/assets\n"
     ]
    },
    {
     "name": "stderr",
     "output_type": "stream",
     "text": [
      "INFO:tensorflow:Assets written to: LSTM_train_audio/assets\n"
     ]
    },
    {
     "name": "stdout",
     "output_type": "stream",
     "text": [
      "Epoch 1/10\n",
      "1/1 [==============================] - 4s 4s/step - loss: 0.0452 - mean_absolute_error: 0.2126\n",
      "Epoch 2/10\n",
      "1/1 [==============================] - 1s 1s/step - loss: 0.0263 - mean_absolute_error: 0.1621\n",
      "Epoch 3/10\n",
      "1/1 [==============================] - 2s 2s/step - loss: 0.0123 - mean_absolute_error: 0.1108\n",
      "Epoch 4/10\n",
      "1/1 [==============================] - 2s 2s/step - loss: 0.0035 - mean_absolute_error: 0.0590\n",
      "Epoch 5/10\n",
      "1/1 [==============================] - 2s 2s/step - loss: 7.3400e-05 - mean_absolute_error: 0.0086\n",
      "Epoch 6/10\n",
      "1/1 [==============================] - 1s 1s/step - loss: 0.0013 - mean_absolute_error: 0.0359\n",
      "Epoch 7/10\n",
      "1/1 [==============================] - 2s 2s/step - loss: 0.0041 - mean_absolute_error: 0.0644\n",
      "Epoch 8/10\n",
      "1/1 [==============================] - 1s 1s/step - loss: 0.0054 - mean_absolute_error: 0.0737\n",
      "Epoch 9/10\n",
      "1/1 [==============================] - 2s 2s/step - loss: 0.0048 - mean_absolute_error: 0.0691\n",
      "Epoch 10/10\n",
      "1/1 [==============================] - 2s 2s/step - loss: 0.0032 - mean_absolute_error: 0.0562\n",
      "WARNING:tensorflow:11 out of the last 11 calls to <function Model.make_test_function.<locals>.test_function at 0x7fe7118adaf0> triggered tf.function retracing. Tracing is expensive and the excessive number of tracings could be due to (1) creating @tf.function repeatedly in a loop, (2) passing tensors with different shapes, (3) passing Python objects instead of tensors. For (1), please define your @tf.function outside of the loop. For (2), @tf.function has experimental_relax_shapes=True option that relaxes argument shapes that can avoid unnecessary retracing. For (3), please refer to https://www.tensorflow.org/guide/function#controlling_retracing and https://www.tensorflow.org/api_docs/python/tf/function for  more details.\n"
     ]
    },
    {
     "name": "stderr",
     "output_type": "stream",
     "text": [
      "WARNING:tensorflow:11 out of the last 11 calls to <function Model.make_test_function.<locals>.test_function at 0x7fe7118adaf0> triggered tf.function retracing. Tracing is expensive and the excessive number of tracings could be due to (1) creating @tf.function repeatedly in a loop, (2) passing tensors with different shapes, (3) passing Python objects instead of tensors. For (1), please define your @tf.function outside of the loop. For (2), @tf.function has experimental_relax_shapes=True option that relaxes argument shapes that can avoid unnecessary retracing. For (3), please refer to https://www.tensorflow.org/guide/function#controlling_retracing and https://www.tensorflow.org/api_docs/python/tf/function for  more details.\n",
      "WARNING:absl:Found untraced functions such as lstm_cell_50_layer_call_and_return_conditional_losses, lstm_cell_50_layer_call_fn, lstm_cell_51_layer_call_and_return_conditional_losses, lstm_cell_51_layer_call_fn, lstm_cell_50_layer_call_fn while saving (showing 5 of 10). These functions will not be directly callable after loading.\n",
      "WARNING:absl:Found untraced functions such as lstm_cell_50_layer_call_and_return_conditional_losses, lstm_cell_50_layer_call_fn, lstm_cell_51_layer_call_and_return_conditional_losses, lstm_cell_51_layer_call_fn, lstm_cell_50_layer_call_fn while saving (showing 5 of 10). These functions will not be directly callable after loading.\n"
     ]
    },
    {
     "name": "stdout",
     "output_type": "stream",
     "text": [
      "INFO:tensorflow:Assets written to: LSTM_train_audio/assets\n"
     ]
    },
    {
     "name": "stderr",
     "output_type": "stream",
     "text": [
      "INFO:tensorflow:Assets written to: LSTM_train_audio/assets\n"
     ]
    },
    {
     "name": "stdout",
     "output_type": "stream",
     "text": [
      "Epoch 1/10\n",
      "1/1 [==============================] - 2s 2s/step - loss: 2.6707 - mean_absolute_error: 1.6342\n",
      "Epoch 2/10\n",
      "1/1 [==============================] - 1s 635ms/step - loss: 1.7084 - mean_absolute_error: 1.3071\n",
      "Epoch 3/10\n",
      "1/1 [==============================] - 1s 536ms/step - loss: 1.5254 - mean_absolute_error: 1.2351\n",
      "Epoch 4/10\n",
      "1/1 [==============================] - 1s 523ms/step - loss: 1.4321 - mean_absolute_error: 1.1967\n",
      "Epoch 5/10\n",
      "1/1 [==============================] - 1s 765ms/step - loss: 1.3397 - mean_absolute_error: 1.1574\n",
      "Epoch 6/10\n",
      "1/1 [==============================] - 1s 521ms/step - loss: 1.2135 - mean_absolute_error: 1.1016\n",
      "Epoch 7/10\n",
      "1/1 [==============================] - 1s 624ms/step - loss: 1.1841 - mean_absolute_error: 1.0881\n",
      "Epoch 8/10\n",
      "1/1 [==============================] - 1s 522ms/step - loss: 1.1098 - mean_absolute_error: 1.0535\n",
      "Epoch 9/10\n",
      "1/1 [==============================] - 1s 645ms/step - loss: 1.0390 - mean_absolute_error: 1.0193\n",
      "Epoch 10/10\n",
      "1/1 [==============================] - 1s 546ms/step - loss: 0.9730 - mean_absolute_error: 0.9864\n",
      "WARNING:tensorflow:11 out of the last 11 calls to <function Model.make_test_function.<locals>.test_function at 0x7fe7930a74c0> triggered tf.function retracing. Tracing is expensive and the excessive number of tracings could be due to (1) creating @tf.function repeatedly in a loop, (2) passing tensors with different shapes, (3) passing Python objects instead of tensors. For (1), please define your @tf.function outside of the loop. For (2), @tf.function has experimental_relax_shapes=True option that relaxes argument shapes that can avoid unnecessary retracing. For (3), please refer to https://www.tensorflow.org/guide/function#controlling_retracing and https://www.tensorflow.org/api_docs/python/tf/function for  more details.\n"
     ]
    },
    {
     "name": "stderr",
     "output_type": "stream",
     "text": [
      "WARNING:tensorflow:11 out of the last 11 calls to <function Model.make_test_function.<locals>.test_function at 0x7fe7930a74c0> triggered tf.function retracing. Tracing is expensive and the excessive number of tracings could be due to (1) creating @tf.function repeatedly in a loop, (2) passing tensors with different shapes, (3) passing Python objects instead of tensors. For (1), please define your @tf.function outside of the loop. For (2), @tf.function has experimental_relax_shapes=True option that relaxes argument shapes that can avoid unnecessary retracing. For (3), please refer to https://www.tensorflow.org/guide/function#controlling_retracing and https://www.tensorflow.org/api_docs/python/tf/function for  more details.\n",
      "WARNING:absl:Found untraced functions such as lstm_cell_52_layer_call_and_return_conditional_losses, lstm_cell_52_layer_call_fn, lstm_cell_53_layer_call_and_return_conditional_losses, lstm_cell_53_layer_call_fn, lstm_cell_52_layer_call_fn while saving (showing 5 of 10). These functions will not be directly callable after loading.\n",
      "WARNING:absl:Found untraced functions such as lstm_cell_52_layer_call_and_return_conditional_losses, lstm_cell_52_layer_call_fn, lstm_cell_53_layer_call_and_return_conditional_losses, lstm_cell_53_layer_call_fn, lstm_cell_52_layer_call_fn while saving (showing 5 of 10). These functions will not be directly callable after loading.\n"
     ]
    },
    {
     "name": "stdout",
     "output_type": "stream",
     "text": [
      "INFO:tensorflow:Assets written to: LSTM_train_audio/assets\n"
     ]
    },
    {
     "name": "stderr",
     "output_type": "stream",
     "text": [
      "INFO:tensorflow:Assets written to: LSTM_train_audio/assets\n"
     ]
    },
    {
     "name": "stdout",
     "output_type": "stream",
     "text": [
      "Epoch 1/10\n",
      "1/1 [==============================] - 3s 3s/step - loss: 0.1082 - mean_absolute_error: 0.3290\n",
      "Epoch 2/10\n",
      "1/1 [==============================] - 1s 718ms/step - loss: 0.0777 - mean_absolute_error: 0.2787\n",
      "Epoch 3/10\n",
      "1/1 [==============================] - 1s 616ms/step - loss: 0.0492 - mean_absolute_error: 0.2219\n",
      "Epoch 4/10\n",
      "1/1 [==============================] - 1s 614ms/step - loss: 0.0266 - mean_absolute_error: 0.1630\n",
      "Epoch 5/10\n",
      "1/1 [==============================] - 1s 611ms/step - loss: 0.0110 - mean_absolute_error: 0.1051\n",
      "Epoch 6/10\n",
      "1/1 [==============================] - 1s 625ms/step - loss: 0.0025 - mean_absolute_error: 0.0497\n",
      "Epoch 7/10\n",
      "1/1 [==============================] - 1s 620ms/step - loss: 1.0212e-05 - mean_absolute_error: 0.0032\n",
      "Epoch 8/10\n",
      "1/1 [==============================] - 1s 617ms/step - loss: 0.0022 - mean_absolute_error: 0.0472\n",
      "Epoch 9/10\n",
      "1/1 [==============================] - 1s 806ms/step - loss: 0.0073 - mean_absolute_error: 0.0856\n",
      "Epoch 10/10\n",
      "1/1 [==============================] - 1s 741ms/step - loss: 0.0109 - mean_absolute_error: 0.1046\n",
      "WARNING:tensorflow:11 out of the last 11 calls to <function Model.make_test_function.<locals>.test_function at 0x7fe6a0098d30> triggered tf.function retracing. Tracing is expensive and the excessive number of tracings could be due to (1) creating @tf.function repeatedly in a loop, (2) passing tensors with different shapes, (3) passing Python objects instead of tensors. For (1), please define your @tf.function outside of the loop. For (2), @tf.function has experimental_relax_shapes=True option that relaxes argument shapes that can avoid unnecessary retracing. For (3), please refer to https://www.tensorflow.org/guide/function#controlling_retracing and https://www.tensorflow.org/api_docs/python/tf/function for  more details.\n"
     ]
    },
    {
     "name": "stderr",
     "output_type": "stream",
     "text": [
      "WARNING:tensorflow:11 out of the last 11 calls to <function Model.make_test_function.<locals>.test_function at 0x7fe6a0098d30> triggered tf.function retracing. Tracing is expensive and the excessive number of tracings could be due to (1) creating @tf.function repeatedly in a loop, (2) passing tensors with different shapes, (3) passing Python objects instead of tensors. For (1), please define your @tf.function outside of the loop. For (2), @tf.function has experimental_relax_shapes=True option that relaxes argument shapes that can avoid unnecessary retracing. For (3), please refer to https://www.tensorflow.org/guide/function#controlling_retracing and https://www.tensorflow.org/api_docs/python/tf/function for  more details.\n",
      "WARNING:absl:Found untraced functions such as lstm_cell_54_layer_call_and_return_conditional_losses, lstm_cell_54_layer_call_fn, lstm_cell_55_layer_call_and_return_conditional_losses, lstm_cell_55_layer_call_fn, lstm_cell_54_layer_call_fn while saving (showing 5 of 10). These functions will not be directly callable after loading.\n",
      "WARNING:absl:Found untraced functions such as lstm_cell_54_layer_call_and_return_conditional_losses, lstm_cell_54_layer_call_fn, lstm_cell_55_layer_call_and_return_conditional_losses, lstm_cell_55_layer_call_fn, lstm_cell_54_layer_call_fn while saving (showing 5 of 10). These functions will not be directly callable after loading.\n"
     ]
    },
    {
     "name": "stdout",
     "output_type": "stream",
     "text": [
      "INFO:tensorflow:Assets written to: LSTM_train_audio/assets\n"
     ]
    },
    {
     "name": "stderr",
     "output_type": "stream",
     "text": [
      "INFO:tensorflow:Assets written to: LSTM_train_audio/assets\n"
     ]
    },
    {
     "name": "stdout",
     "output_type": "stream",
     "text": [
      "Epoch 1/10\n",
      "1/1 [==============================] - 2s 2s/step - loss: 0.0465 - mean_absolute_error: 0.2156\n",
      "Epoch 2/10\n",
      "1/1 [==============================] - 0s 279ms/step - loss: 0.0564 - mean_absolute_error: 0.2375\n",
      "Epoch 3/10\n",
      "1/1 [==============================] - 0s 273ms/step - loss: 0.0321 - mean_absolute_error: 0.1792\n",
      "Epoch 4/10\n",
      "1/1 [==============================] - 0s 275ms/step - loss: 0.0148 - mean_absolute_error: 0.1218\n",
      "Epoch 5/10\n",
      "1/1 [==============================] - 0s 281ms/step - loss: 0.0042 - mean_absolute_error: 0.0650\n",
      "Epoch 6/10\n",
      "1/1 [==============================] - 0s 305ms/step - loss: 4.9721e-05 - mean_absolute_error: 0.0071\n",
      "Epoch 7/10\n",
      "1/1 [==============================] - 0s 268ms/step - loss: 0.0023 - mean_absolute_error: 0.0477\n",
      "Epoch 8/10\n",
      "1/1 [==============================] - 0s 279ms/step - loss: 0.0056 - mean_absolute_error: 0.0748\n",
      "Epoch 9/10\n",
      "1/1 [==============================] - 0s 275ms/step - loss: 0.0120 - mean_absolute_error: 0.1097\n",
      "Epoch 10/10\n",
      "1/1 [==============================] - 0s 288ms/step - loss: 0.0100 - mean_absolute_error: 0.0999\n",
      "WARNING:tensorflow:11 out of the last 11 calls to <function Model.make_test_function.<locals>.test_function at 0x7fe7ac913790> triggered tf.function retracing. Tracing is expensive and the excessive number of tracings could be due to (1) creating @tf.function repeatedly in a loop, (2) passing tensors with different shapes, (3) passing Python objects instead of tensors. For (1), please define your @tf.function outside of the loop. For (2), @tf.function has experimental_relax_shapes=True option that relaxes argument shapes that can avoid unnecessary retracing. For (3), please refer to https://www.tensorflow.org/guide/function#controlling_retracing and https://www.tensorflow.org/api_docs/python/tf/function for  more details.\n"
     ]
    },
    {
     "name": "stderr",
     "output_type": "stream",
     "text": [
      "WARNING:tensorflow:11 out of the last 11 calls to <function Model.make_test_function.<locals>.test_function at 0x7fe7ac913790> triggered tf.function retracing. Tracing is expensive and the excessive number of tracings could be due to (1) creating @tf.function repeatedly in a loop, (2) passing tensors with different shapes, (3) passing Python objects instead of tensors. For (1), please define your @tf.function outside of the loop. For (2), @tf.function has experimental_relax_shapes=True option that relaxes argument shapes that can avoid unnecessary retracing. For (3), please refer to https://www.tensorflow.org/guide/function#controlling_retracing and https://www.tensorflow.org/api_docs/python/tf/function for  more details.\n",
      "WARNING:absl:Found untraced functions such as lstm_cell_56_layer_call_and_return_conditional_losses, lstm_cell_56_layer_call_fn, lstm_cell_57_layer_call_and_return_conditional_losses, lstm_cell_57_layer_call_fn, lstm_cell_56_layer_call_fn while saving (showing 5 of 10). These functions will not be directly callable after loading.\n",
      "WARNING:absl:Found untraced functions such as lstm_cell_56_layer_call_and_return_conditional_losses, lstm_cell_56_layer_call_fn, lstm_cell_57_layer_call_and_return_conditional_losses, lstm_cell_57_layer_call_fn, lstm_cell_56_layer_call_fn while saving (showing 5 of 10). These functions will not be directly callable after loading.\n"
     ]
    },
    {
     "name": "stdout",
     "output_type": "stream",
     "text": [
      "INFO:tensorflow:Assets written to: LSTM_train_audio/assets\n"
     ]
    },
    {
     "name": "stderr",
     "output_type": "stream",
     "text": [
      "INFO:tensorflow:Assets written to: LSTM_train_audio/assets\n"
     ]
    },
    {
     "name": "stdout",
     "output_type": "stream",
     "text": [
      "Epoch 1/10\n",
      "1/1 [==============================] - 2s 2s/step - loss: 2.0359 - mean_absolute_error: 1.4268\n",
      "Epoch 2/10\n",
      "1/1 [==============================] - 1s 656ms/step - loss: 1.7863 - mean_absolute_error: 1.3365\n",
      "Epoch 3/10\n",
      "1/1 [==============================] - 1s 962ms/step - loss: 1.5829 - mean_absolute_error: 1.2581\n",
      "Epoch 4/10\n",
      "1/1 [==============================] - 1s 675ms/step - loss: 1.3994 - mean_absolute_error: 1.1830\n",
      "Epoch 5/10\n",
      "1/1 [==============================] - 1s 785ms/step - loss: 1.2322 - mean_absolute_error: 1.1100\n",
      "Epoch 6/10\n",
      "1/1 [==============================] - 1s 959ms/step - loss: 1.0779 - mean_absolute_error: 1.0382\n",
      "Epoch 7/10\n",
      "1/1 [==============================] - 1s 800ms/step - loss: 0.9337 - mean_absolute_error: 0.9663\n",
      "Epoch 8/10\n",
      "1/1 [==============================] - 1s 812ms/step - loss: 0.7936 - mean_absolute_error: 0.8908\n",
      "Epoch 9/10\n",
      "1/1 [==============================] - 1s 975ms/step - loss: 0.6865 - mean_absolute_error: 0.8285\n",
      "Epoch 10/10\n",
      "1/1 [==============================] - 1s 818ms/step - loss: 0.5234 - mean_absolute_error: 0.7235\n",
      "WARNING:tensorflow:11 out of the last 11 calls to <function Model.make_test_function.<locals>.test_function at 0x7fe7936378b0> triggered tf.function retracing. Tracing is expensive and the excessive number of tracings could be due to (1) creating @tf.function repeatedly in a loop, (2) passing tensors with different shapes, (3) passing Python objects instead of tensors. For (1), please define your @tf.function outside of the loop. For (2), @tf.function has experimental_relax_shapes=True option that relaxes argument shapes that can avoid unnecessary retracing. For (3), please refer to https://www.tensorflow.org/guide/function#controlling_retracing and https://www.tensorflow.org/api_docs/python/tf/function for  more details.\n"
     ]
    },
    {
     "name": "stderr",
     "output_type": "stream",
     "text": [
      "WARNING:tensorflow:11 out of the last 11 calls to <function Model.make_test_function.<locals>.test_function at 0x7fe7936378b0> triggered tf.function retracing. Tracing is expensive and the excessive number of tracings could be due to (1) creating @tf.function repeatedly in a loop, (2) passing tensors with different shapes, (3) passing Python objects instead of tensors. For (1), please define your @tf.function outside of the loop. For (2), @tf.function has experimental_relax_shapes=True option that relaxes argument shapes that can avoid unnecessary retracing. For (3), please refer to https://www.tensorflow.org/guide/function#controlling_retracing and https://www.tensorflow.org/api_docs/python/tf/function for  more details.\n",
      "WARNING:absl:Found untraced functions such as lstm_cell_58_layer_call_and_return_conditional_losses, lstm_cell_58_layer_call_fn, lstm_cell_59_layer_call_and_return_conditional_losses, lstm_cell_59_layer_call_fn, lstm_cell_58_layer_call_fn while saving (showing 5 of 10). These functions will not be directly callable after loading.\n",
      "WARNING:absl:Found untraced functions such as lstm_cell_58_layer_call_and_return_conditional_losses, lstm_cell_58_layer_call_fn, lstm_cell_59_layer_call_and_return_conditional_losses, lstm_cell_59_layer_call_fn, lstm_cell_58_layer_call_fn while saving (showing 5 of 10). These functions will not be directly callable after loading.\n"
     ]
    },
    {
     "name": "stdout",
     "output_type": "stream",
     "text": [
      "INFO:tensorflow:Assets written to: LSTM_train_audio/assets\n"
     ]
    },
    {
     "name": "stderr",
     "output_type": "stream",
     "text": [
      "INFO:tensorflow:Assets written to: LSTM_train_audio/assets\n"
     ]
    },
    {
     "name": "stdout",
     "output_type": "stream",
     "text": [
      "Epoch 1/10\n",
      "1/1 [==============================] - 3s 3s/step - loss: 0.1248 - mean_absolute_error: 0.3533\n",
      "Epoch 2/10\n",
      "1/1 [==============================] - 0s 435ms/step - loss: 0.0592 - mean_absolute_error: 0.2432\n",
      "Epoch 3/10\n",
      "1/1 [==============================] - 1s 523ms/step - loss: 0.0262 - mean_absolute_error: 0.1618\n",
      "Epoch 4/10\n",
      "1/1 [==============================] - 1s 523ms/step - loss: 0.0120 - mean_absolute_error: 0.1097\n",
      "Epoch 5/10\n",
      "1/1 [==============================] - 0s 444ms/step - loss: 0.0046 - mean_absolute_error: 0.0679\n",
      "Epoch 6/10\n",
      "1/1 [==============================] - 0s 483ms/step - loss: 0.0012 - mean_absolute_error: 0.0341\n",
      "Epoch 7/10\n",
      "1/1 [==============================] - 1s 531ms/step - loss: 1.6637e-06 - mean_absolute_error: 0.0013\n",
      "Epoch 8/10\n",
      "1/1 [==============================] - 0s 439ms/step - loss: 7.1579e-04 - mean_absolute_error: 0.0268\n",
      "Epoch 9/10\n",
      "1/1 [==============================] - 1s 541ms/step - loss: 0.0023 - mean_absolute_error: 0.0481\n",
      "Epoch 10/10\n",
      "1/1 [==============================] - 0s 433ms/step - loss: 0.0037 - mean_absolute_error: 0.0607\n",
      "WARNING:tensorflow:11 out of the last 11 calls to <function Model.make_test_function.<locals>.test_function at 0x7fe7302ecf70> triggered tf.function retracing. Tracing is expensive and the excessive number of tracings could be due to (1) creating @tf.function repeatedly in a loop, (2) passing tensors with different shapes, (3) passing Python objects instead of tensors. For (1), please define your @tf.function outside of the loop. For (2), @tf.function has experimental_relax_shapes=True option that relaxes argument shapes that can avoid unnecessary retracing. For (3), please refer to https://www.tensorflow.org/guide/function#controlling_retracing and https://www.tensorflow.org/api_docs/python/tf/function for  more details.\n"
     ]
    },
    {
     "name": "stderr",
     "output_type": "stream",
     "text": [
      "WARNING:tensorflow:11 out of the last 11 calls to <function Model.make_test_function.<locals>.test_function at 0x7fe7302ecf70> triggered tf.function retracing. Tracing is expensive and the excessive number of tracings could be due to (1) creating @tf.function repeatedly in a loop, (2) passing tensors with different shapes, (3) passing Python objects instead of tensors. For (1), please define your @tf.function outside of the loop. For (2), @tf.function has experimental_relax_shapes=True option that relaxes argument shapes that can avoid unnecessary retracing. For (3), please refer to https://www.tensorflow.org/guide/function#controlling_retracing and https://www.tensorflow.org/api_docs/python/tf/function for  more details.\n",
      "WARNING:absl:Found untraced functions such as lstm_cell_60_layer_call_and_return_conditional_losses, lstm_cell_60_layer_call_fn, lstm_cell_61_layer_call_and_return_conditional_losses, lstm_cell_61_layer_call_fn, lstm_cell_60_layer_call_fn while saving (showing 5 of 10). These functions will not be directly callable after loading.\n",
      "WARNING:absl:Found untraced functions such as lstm_cell_60_layer_call_and_return_conditional_losses, lstm_cell_60_layer_call_fn, lstm_cell_61_layer_call_and_return_conditional_losses, lstm_cell_61_layer_call_fn, lstm_cell_60_layer_call_fn while saving (showing 5 of 10). These functions will not be directly callable after loading.\n"
     ]
    },
    {
     "name": "stdout",
     "output_type": "stream",
     "text": [
      "INFO:tensorflow:Assets written to: LSTM_train_audio/assets\n"
     ]
    },
    {
     "name": "stderr",
     "output_type": "stream",
     "text": [
      "INFO:tensorflow:Assets written to: LSTM_train_audio/assets\n"
     ]
    },
    {
     "name": "stdout",
     "output_type": "stream",
     "text": [
      "Epoch 1/10\n",
      "1/1 [==============================] - 2s 2s/step - loss: 0.2181 - mean_absolute_error: 0.4670\n",
      "Epoch 2/10\n",
      "1/1 [==============================] - 0s 279ms/step - loss: 0.1371 - mean_absolute_error: 0.3703\n",
      "Epoch 3/10\n",
      "1/1 [==============================] - 0s 263ms/step - loss: 0.0805 - mean_absolute_error: 0.2837\n",
      "Epoch 4/10\n",
      "1/1 [==============================] - 0s 359ms/step - loss: 0.0364 - mean_absolute_error: 0.1907\n",
      "Epoch 5/10\n",
      "1/1 [==============================] - 0s 321ms/step - loss: 0.0080 - mean_absolute_error: 0.0894\n",
      "Epoch 6/10\n",
      "1/1 [==============================] - 0s 256ms/step - loss: 2.2727e-04 - mean_absolute_error: 0.0151\n",
      "Epoch 7/10\n",
      "1/1 [==============================] - 0s 319ms/step - loss: 0.0118 - mean_absolute_error: 0.1087\n",
      "Epoch 8/10\n",
      "1/1 [==============================] - 0s 256ms/step - loss: 0.0274 - mean_absolute_error: 0.1655\n",
      "Epoch 9/10\n",
      "1/1 [==============================] - 0s 274ms/step - loss: 0.0339 - mean_absolute_error: 0.1842\n",
      "Epoch 10/10\n",
      "1/1 [==============================] - 0s 260ms/step - loss: 0.0300 - mean_absolute_error: 0.1732\n",
      "WARNING:tensorflow:11 out of the last 11 calls to <function Model.make_test_function.<locals>.test_function at 0x7fe7930a75e0> triggered tf.function retracing. Tracing is expensive and the excessive number of tracings could be due to (1) creating @tf.function repeatedly in a loop, (2) passing tensors with different shapes, (3) passing Python objects instead of tensors. For (1), please define your @tf.function outside of the loop. For (2), @tf.function has experimental_relax_shapes=True option that relaxes argument shapes that can avoid unnecessary retracing. For (3), please refer to https://www.tensorflow.org/guide/function#controlling_retracing and https://www.tensorflow.org/api_docs/python/tf/function for  more details.\n"
     ]
    },
    {
     "name": "stderr",
     "output_type": "stream",
     "text": [
      "WARNING:tensorflow:11 out of the last 11 calls to <function Model.make_test_function.<locals>.test_function at 0x7fe7930a75e0> triggered tf.function retracing. Tracing is expensive and the excessive number of tracings could be due to (1) creating @tf.function repeatedly in a loop, (2) passing tensors with different shapes, (3) passing Python objects instead of tensors. For (1), please define your @tf.function outside of the loop. For (2), @tf.function has experimental_relax_shapes=True option that relaxes argument shapes that can avoid unnecessary retracing. For (3), please refer to https://www.tensorflow.org/guide/function#controlling_retracing and https://www.tensorflow.org/api_docs/python/tf/function for  more details.\n",
      "WARNING:absl:Found untraced functions such as lstm_cell_62_layer_call_and_return_conditional_losses, lstm_cell_62_layer_call_fn, lstm_cell_63_layer_call_and_return_conditional_losses, lstm_cell_63_layer_call_fn, lstm_cell_62_layer_call_fn while saving (showing 5 of 10). These functions will not be directly callable after loading.\n",
      "WARNING:absl:Found untraced functions such as lstm_cell_62_layer_call_and_return_conditional_losses, lstm_cell_62_layer_call_fn, lstm_cell_63_layer_call_and_return_conditional_losses, lstm_cell_63_layer_call_fn, lstm_cell_62_layer_call_fn while saving (showing 5 of 10). These functions will not be directly callable after loading.\n"
     ]
    },
    {
     "name": "stdout",
     "output_type": "stream",
     "text": [
      "INFO:tensorflow:Assets written to: LSTM_train_audio/assets\n"
     ]
    },
    {
     "name": "stderr",
     "output_type": "stream",
     "text": [
      "INFO:tensorflow:Assets written to: LSTM_train_audio/assets\n"
     ]
    },
    {
     "name": "stdout",
     "output_type": "stream",
     "text": [
      "Epoch 1/10\n",
      "1/1 [==============================] - 3s 3s/step - loss: 0.4391 - mean_absolute_error: 0.6626\n",
      "Epoch 2/10\n",
      "1/1 [==============================] - 0s 492ms/step - loss: 0.3485 - mean_absolute_error: 0.5904\n",
      "Epoch 3/10\n",
      "1/1 [==============================] - 1s 572ms/step - loss: 0.2740 - mean_absolute_error: 0.5234\n",
      "Epoch 4/10\n",
      "1/1 [==============================] - 0s 391ms/step - loss: 0.2151 - mean_absolute_error: 0.4638\n",
      "Epoch 5/10\n",
      "1/1 [==============================] - 0s 482ms/step - loss: 0.1735 - mean_absolute_error: 0.4165\n",
      "Epoch 6/10\n",
      "1/1 [==============================] - 0s 473ms/step - loss: 0.1173 - mean_absolute_error: 0.3425\n",
      "Epoch 7/10\n",
      "1/1 [==============================] - 0s 394ms/step - loss: 0.0761 - mean_absolute_error: 0.2758\n",
      "Epoch 8/10\n",
      "1/1 [==============================] - 0s 490ms/step - loss: 0.0407 - mean_absolute_error: 0.2017\n",
      "Epoch 9/10\n",
      "1/1 [==============================] - 0s 491ms/step - loss: 0.0152 - mean_absolute_error: 0.1231\n",
      "Epoch 10/10\n",
      "1/1 [==============================] - 0s 485ms/step - loss: 0.0015 - mean_absolute_error: 0.0383\n",
      "WARNING:tensorflow:11 out of the last 11 calls to <function Model.make_test_function.<locals>.test_function at 0x7fe7acf33310> triggered tf.function retracing. Tracing is expensive and the excessive number of tracings could be due to (1) creating @tf.function repeatedly in a loop, (2) passing tensors with different shapes, (3) passing Python objects instead of tensors. For (1), please define your @tf.function outside of the loop. For (2), @tf.function has experimental_relax_shapes=True option that relaxes argument shapes that can avoid unnecessary retracing. For (3), please refer to https://www.tensorflow.org/guide/function#controlling_retracing and https://www.tensorflow.org/api_docs/python/tf/function for  more details.\n"
     ]
    },
    {
     "name": "stderr",
     "output_type": "stream",
     "text": [
      "WARNING:tensorflow:11 out of the last 11 calls to <function Model.make_test_function.<locals>.test_function at 0x7fe7acf33310> triggered tf.function retracing. Tracing is expensive and the excessive number of tracings could be due to (1) creating @tf.function repeatedly in a loop, (2) passing tensors with different shapes, (3) passing Python objects instead of tensors. For (1), please define your @tf.function outside of the loop. For (2), @tf.function has experimental_relax_shapes=True option that relaxes argument shapes that can avoid unnecessary retracing. For (3), please refer to https://www.tensorflow.org/guide/function#controlling_retracing and https://www.tensorflow.org/api_docs/python/tf/function for  more details.\n",
      "WARNING:absl:Found untraced functions such as lstm_cell_64_layer_call_and_return_conditional_losses, lstm_cell_64_layer_call_fn, lstm_cell_65_layer_call_and_return_conditional_losses, lstm_cell_65_layer_call_fn, lstm_cell_64_layer_call_fn while saving (showing 5 of 10). These functions will not be directly callable after loading.\n",
      "WARNING:absl:Found untraced functions such as lstm_cell_64_layer_call_and_return_conditional_losses, lstm_cell_64_layer_call_fn, lstm_cell_65_layer_call_and_return_conditional_losses, lstm_cell_65_layer_call_fn, lstm_cell_64_layer_call_fn while saving (showing 5 of 10). These functions will not be directly callable after loading.\n"
     ]
    },
    {
     "name": "stdout",
     "output_type": "stream",
     "text": [
      "INFO:tensorflow:Assets written to: LSTM_train_audio/assets\n"
     ]
    },
    {
     "name": "stderr",
     "output_type": "stream",
     "text": [
      "INFO:tensorflow:Assets written to: LSTM_train_audio/assets\n"
     ]
    },
    {
     "name": "stdout",
     "output_type": "stream",
     "text": [
      "Epoch 1/10\n",
      "1/1 [==============================] - 3s 3s/step - loss: 0.0471 - mean_absolute_error: 0.2171\n",
      "Epoch 2/10\n",
      "1/1 [==============================] - 1s 784ms/step - loss: 0.0312 - mean_absolute_error: 0.1766\n",
      "Epoch 3/10\n",
      "1/1 [==============================] - 1s 940ms/step - loss: 0.0175 - mean_absolute_error: 0.1323\n",
      "Epoch 4/10\n",
      "1/1 [==============================] - 1s 927ms/step - loss: 0.0085 - mean_absolute_error: 0.0923\n",
      "Epoch 5/10\n",
      "1/1 [==============================] - 1s 902ms/step - loss: 0.0090 - mean_absolute_error: 0.0950\n",
      "Epoch 6/10\n",
      "1/1 [==============================] - 1s 932ms/step - loss: 6.7316e-04 - mean_absolute_error: 0.0259\n",
      "Epoch 7/10\n",
      "1/1 [==============================] - 1s 1s/step - loss: 1.1823e-05 - mean_absolute_error: 0.0034\n",
      "Epoch 8/10\n",
      "1/1 [==============================] - 1s 1s/step - loss: 8.3963e-04 - mean_absolute_error: 0.0290\n",
      "Epoch 9/10\n",
      "1/1 [==============================] - 1s 763ms/step - loss: 0.0023 - mean_absolute_error: 0.0484\n",
      "Epoch 10/10\n",
      "1/1 [==============================] - 1s 903ms/step - loss: 0.0037 - mean_absolute_error: 0.0612\n",
      "WARNING:tensorflow:11 out of the last 11 calls to <function Model.make_test_function.<locals>.test_function at 0x7fe6e020e820> triggered tf.function retracing. Tracing is expensive and the excessive number of tracings could be due to (1) creating @tf.function repeatedly in a loop, (2) passing tensors with different shapes, (3) passing Python objects instead of tensors. For (1), please define your @tf.function outside of the loop. For (2), @tf.function has experimental_relax_shapes=True option that relaxes argument shapes that can avoid unnecessary retracing. For (3), please refer to https://www.tensorflow.org/guide/function#controlling_retracing and https://www.tensorflow.org/api_docs/python/tf/function for  more details.\n"
     ]
    },
    {
     "name": "stderr",
     "output_type": "stream",
     "text": [
      "WARNING:tensorflow:11 out of the last 11 calls to <function Model.make_test_function.<locals>.test_function at 0x7fe6e020e820> triggered tf.function retracing. Tracing is expensive and the excessive number of tracings could be due to (1) creating @tf.function repeatedly in a loop, (2) passing tensors with different shapes, (3) passing Python objects instead of tensors. For (1), please define your @tf.function outside of the loop. For (2), @tf.function has experimental_relax_shapes=True option that relaxes argument shapes that can avoid unnecessary retracing. For (3), please refer to https://www.tensorflow.org/guide/function#controlling_retracing and https://www.tensorflow.org/api_docs/python/tf/function for  more details.\n",
      "WARNING:absl:Found untraced functions such as lstm_cell_66_layer_call_and_return_conditional_losses, lstm_cell_66_layer_call_fn, lstm_cell_67_layer_call_and_return_conditional_losses, lstm_cell_67_layer_call_fn, lstm_cell_66_layer_call_fn while saving (showing 5 of 10). These functions will not be directly callable after loading.\n",
      "WARNING:absl:Found untraced functions such as lstm_cell_66_layer_call_and_return_conditional_losses, lstm_cell_66_layer_call_fn, lstm_cell_67_layer_call_and_return_conditional_losses, lstm_cell_67_layer_call_fn, lstm_cell_66_layer_call_fn while saving (showing 5 of 10). These functions will not be directly callable after loading.\n"
     ]
    },
    {
     "name": "stdout",
     "output_type": "stream",
     "text": [
      "INFO:tensorflow:Assets written to: LSTM_train_audio/assets\n"
     ]
    },
    {
     "name": "stderr",
     "output_type": "stream",
     "text": [
      "INFO:tensorflow:Assets written to: LSTM_train_audio/assets\n"
     ]
    },
    {
     "name": "stdout",
     "output_type": "stream",
     "text": [
      "Epoch 1/10\n",
      "1/1 [==============================] - 3s 3s/step - loss: 0.3706 - mean_absolute_error: 0.6088\n",
      "Epoch 2/10\n",
      "1/1 [==============================] - 1s 1s/step - loss: 0.3200 - mean_absolute_error: 0.5657\n",
      "Epoch 3/10\n",
      "1/1 [==============================] - 1s 1s/step - loss: 0.2575 - mean_absolute_error: 0.5075\n",
      "Epoch 4/10\n",
      "1/1 [==============================] - 1s 1s/step - loss: 0.2146 - mean_absolute_error: 0.4633\n",
      "Epoch 5/10\n",
      "1/1 [==============================] - 1s 1s/step - loss: 0.1799 - mean_absolute_error: 0.4241\n",
      "Epoch 6/10\n",
      "1/1 [==============================] - 1s 1s/step - loss: 0.1452 - mean_absolute_error: 0.3810\n",
      "Epoch 7/10\n",
      "1/1 [==============================] - 1s 1s/step - loss: 0.1193 - mean_absolute_error: 0.3454\n",
      "Epoch 8/10\n",
      "1/1 [==============================] - 1s 1s/step - loss: 0.0962 - mean_absolute_error: 0.3102\n",
      "Epoch 9/10\n",
      "1/1 [==============================] - 1s 1s/step - loss: 0.0715 - mean_absolute_error: 0.2673\n",
      "Epoch 10/10\n",
      "1/1 [==============================] - 1s 1s/step - loss: 0.0533 - mean_absolute_error: 0.2309\n",
      "WARNING:tensorflow:11 out of the last 11 calls to <function Model.make_test_function.<locals>.test_function at 0x7fe6a0098160> triggered tf.function retracing. Tracing is expensive and the excessive number of tracings could be due to (1) creating @tf.function repeatedly in a loop, (2) passing tensors with different shapes, (3) passing Python objects instead of tensors. For (1), please define your @tf.function outside of the loop. For (2), @tf.function has experimental_relax_shapes=True option that relaxes argument shapes that can avoid unnecessary retracing. For (3), please refer to https://www.tensorflow.org/guide/function#controlling_retracing and https://www.tensorflow.org/api_docs/python/tf/function for  more details.\n"
     ]
    },
    {
     "name": "stderr",
     "output_type": "stream",
     "text": [
      "WARNING:tensorflow:11 out of the last 11 calls to <function Model.make_test_function.<locals>.test_function at 0x7fe6a0098160> triggered tf.function retracing. Tracing is expensive and the excessive number of tracings could be due to (1) creating @tf.function repeatedly in a loop, (2) passing tensors with different shapes, (3) passing Python objects instead of tensors. For (1), please define your @tf.function outside of the loop. For (2), @tf.function has experimental_relax_shapes=True option that relaxes argument shapes that can avoid unnecessary retracing. For (3), please refer to https://www.tensorflow.org/guide/function#controlling_retracing and https://www.tensorflow.org/api_docs/python/tf/function for  more details.\n",
      "WARNING:absl:Found untraced functions such as lstm_cell_68_layer_call_and_return_conditional_losses, lstm_cell_68_layer_call_fn, lstm_cell_69_layer_call_and_return_conditional_losses, lstm_cell_69_layer_call_fn, lstm_cell_68_layer_call_fn while saving (showing 5 of 10). These functions will not be directly callable after loading.\n",
      "WARNING:absl:Found untraced functions such as lstm_cell_68_layer_call_and_return_conditional_losses, lstm_cell_68_layer_call_fn, lstm_cell_69_layer_call_and_return_conditional_losses, lstm_cell_69_layer_call_fn, lstm_cell_68_layer_call_fn while saving (showing 5 of 10). These functions will not be directly callable after loading.\n"
     ]
    },
    {
     "name": "stdout",
     "output_type": "stream",
     "text": [
      "INFO:tensorflow:Assets written to: LSTM_train_audio/assets\n"
     ]
    },
    {
     "name": "stderr",
     "output_type": "stream",
     "text": [
      "INFO:tensorflow:Assets written to: LSTM_train_audio/assets\n"
     ]
    },
    {
     "name": "stdout",
     "output_type": "stream",
     "text": [
      "Epoch 1/10\n",
      "1/1 [==============================] - 2s 2s/step - loss: 0.2984 - mean_absolute_error: 0.5462\n",
      "Epoch 2/10\n",
      "1/1 [==============================] - 0s 412ms/step - loss: 0.0236 - mean_absolute_error: 0.1538\n",
      "Epoch 3/10\n",
      "1/1 [==============================] - 0s 467ms/step - loss: 5.0251e-06 - mean_absolute_error: 0.0022\n",
      "Epoch 4/10\n",
      "1/1 [==============================] - 0s 278ms/step - loss: 0.0221 - mean_absolute_error: 0.1488\n",
      "Epoch 5/10\n",
      "1/1 [==============================] - 0s 282ms/step - loss: 0.0231 - mean_absolute_error: 0.1520\n",
      "Epoch 6/10\n",
      "1/1 [==============================] - 0s 409ms/step - loss: 0.0027 - mean_absolute_error: 0.0519\n",
      "Epoch 7/10\n",
      "1/1 [==============================] - 0s 342ms/step - loss: 2.4324e-04 - mean_absolute_error: 0.0156\n",
      "Epoch 8/10\n",
      "1/1 [==============================] - 0s 276ms/step - loss: 0.0032 - mean_absolute_error: 0.0566\n",
      "Epoch 9/10\n",
      "1/1 [==============================] - 0s 276ms/step - loss: 0.0060 - mean_absolute_error: 0.0772\n",
      "Epoch 10/10\n",
      "1/1 [==============================] - 0s 278ms/step - loss: 0.0069 - mean_absolute_error: 0.0830\n",
      "WARNING:tensorflow:11 out of the last 11 calls to <function Model.make_test_function.<locals>.test_function at 0x7fe7a19a1a60> triggered tf.function retracing. Tracing is expensive and the excessive number of tracings could be due to (1) creating @tf.function repeatedly in a loop, (2) passing tensors with different shapes, (3) passing Python objects instead of tensors. For (1), please define your @tf.function outside of the loop. For (2), @tf.function has experimental_relax_shapes=True option that relaxes argument shapes that can avoid unnecessary retracing. For (3), please refer to https://www.tensorflow.org/guide/function#controlling_retracing and https://www.tensorflow.org/api_docs/python/tf/function for  more details.\n"
     ]
    },
    {
     "name": "stderr",
     "output_type": "stream",
     "text": [
      "WARNING:tensorflow:11 out of the last 11 calls to <function Model.make_test_function.<locals>.test_function at 0x7fe7a19a1a60> triggered tf.function retracing. Tracing is expensive and the excessive number of tracings could be due to (1) creating @tf.function repeatedly in a loop, (2) passing tensors with different shapes, (3) passing Python objects instead of tensors. For (1), please define your @tf.function outside of the loop. For (2), @tf.function has experimental_relax_shapes=True option that relaxes argument shapes that can avoid unnecessary retracing. For (3), please refer to https://www.tensorflow.org/guide/function#controlling_retracing and https://www.tensorflow.org/api_docs/python/tf/function for  more details.\n",
      "WARNING:absl:Found untraced functions such as lstm_cell_70_layer_call_and_return_conditional_losses, lstm_cell_70_layer_call_fn, lstm_cell_71_layer_call_and_return_conditional_losses, lstm_cell_71_layer_call_fn, lstm_cell_70_layer_call_fn while saving (showing 5 of 10). These functions will not be directly callable after loading.\n",
      "WARNING:absl:Found untraced functions such as lstm_cell_70_layer_call_and_return_conditional_losses, lstm_cell_70_layer_call_fn, lstm_cell_71_layer_call_and_return_conditional_losses, lstm_cell_71_layer_call_fn, lstm_cell_70_layer_call_fn while saving (showing 5 of 10). These functions will not be directly callable after loading.\n"
     ]
    },
    {
     "name": "stdout",
     "output_type": "stream",
     "text": [
      "INFO:tensorflow:Assets written to: LSTM_train_audio/assets\n"
     ]
    },
    {
     "name": "stderr",
     "output_type": "stream",
     "text": [
      "INFO:tensorflow:Assets written to: LSTM_train_audio/assets\n"
     ]
    },
    {
     "name": "stdout",
     "output_type": "stream",
     "text": [
      "Epoch 1/10\n",
      "1/1 [==============================] - 3s 3s/step - loss: 1.2235 - mean_absolute_error: 1.1061\n",
      "Epoch 2/10\n",
      "1/1 [==============================] - 1s 502ms/step - loss: 1.0843 - mean_absolute_error: 1.0413\n",
      "Epoch 3/10\n",
      "1/1 [==============================] - 0s 476ms/step - loss: 0.9801 - mean_absolute_error: 0.9900\n",
      "Epoch 4/10\n",
      "1/1 [==============================] - 1s 563ms/step - loss: 0.8854 - mean_absolute_error: 0.9410\n",
      "Epoch 5/10\n",
      "1/1 [==============================] - 0s 475ms/step - loss: 0.8020 - mean_absolute_error: 0.8956\n",
      "Epoch 6/10\n",
      "1/1 [==============================] - 1s 523ms/step - loss: 0.7190 - mean_absolute_error: 0.8479\n",
      "Epoch 7/10\n",
      "1/1 [==============================] - 1s 689ms/step - loss: 0.6421 - mean_absolute_error: 0.8013\n",
      "Epoch 8/10\n",
      "1/1 [==============================] - 1s 709ms/step - loss: 0.5617 - mean_absolute_error: 0.7495\n",
      "Epoch 9/10\n",
      "1/1 [==============================] - 1s 570ms/step - loss: 0.4932 - mean_absolute_error: 0.7023\n",
      "Epoch 10/10\n",
      "1/1 [==============================] - 1s 713ms/step - loss: 0.4301 - mean_absolute_error: 0.6558\n",
      "WARNING:tensorflow:11 out of the last 11 calls to <function Model.make_test_function.<locals>.test_function at 0x7fe730391940> triggered tf.function retracing. Tracing is expensive and the excessive number of tracings could be due to (1) creating @tf.function repeatedly in a loop, (2) passing tensors with different shapes, (3) passing Python objects instead of tensors. For (1), please define your @tf.function outside of the loop. For (2), @tf.function has experimental_relax_shapes=True option that relaxes argument shapes that can avoid unnecessary retracing. For (3), please refer to https://www.tensorflow.org/guide/function#controlling_retracing and https://www.tensorflow.org/api_docs/python/tf/function for  more details.\n"
     ]
    },
    {
     "name": "stderr",
     "output_type": "stream",
     "text": [
      "WARNING:tensorflow:11 out of the last 11 calls to <function Model.make_test_function.<locals>.test_function at 0x7fe730391940> triggered tf.function retracing. Tracing is expensive and the excessive number of tracings could be due to (1) creating @tf.function repeatedly in a loop, (2) passing tensors with different shapes, (3) passing Python objects instead of tensors. For (1), please define your @tf.function outside of the loop. For (2), @tf.function has experimental_relax_shapes=True option that relaxes argument shapes that can avoid unnecessary retracing. For (3), please refer to https://www.tensorflow.org/guide/function#controlling_retracing and https://www.tensorflow.org/api_docs/python/tf/function for  more details.\n",
      "WARNING:absl:Found untraced functions such as lstm_cell_72_layer_call_and_return_conditional_losses, lstm_cell_72_layer_call_fn, lstm_cell_73_layer_call_and_return_conditional_losses, lstm_cell_73_layer_call_fn, lstm_cell_72_layer_call_fn while saving (showing 5 of 10). These functions will not be directly callable after loading.\n",
      "WARNING:absl:Found untraced functions such as lstm_cell_72_layer_call_and_return_conditional_losses, lstm_cell_72_layer_call_fn, lstm_cell_73_layer_call_and_return_conditional_losses, lstm_cell_73_layer_call_fn, lstm_cell_72_layer_call_fn while saving (showing 5 of 10). These functions will not be directly callable after loading.\n"
     ]
    },
    {
     "name": "stdout",
     "output_type": "stream",
     "text": [
      "INFO:tensorflow:Assets written to: LSTM_train_audio/assets\n"
     ]
    },
    {
     "name": "stderr",
     "output_type": "stream",
     "text": [
      "INFO:tensorflow:Assets written to: LSTM_train_audio/assets\n"
     ]
    },
    {
     "name": "stdout",
     "output_type": "stream",
     "text": [
      "Epoch 1/10\n",
      "1/1 [==============================] - 3s 3s/step - loss: 2.0736 - mean_absolute_error: 1.4400\n",
      "Epoch 2/10\n",
      "1/1 [==============================] - 1s 664ms/step - loss: 1.9500 - mean_absolute_error: 1.3964\n",
      "Epoch 3/10\n",
      "1/1 [==============================] - 1s 666ms/step - loss: 1.8290 - mean_absolute_error: 1.3524\n",
      "Epoch 4/10\n",
      "1/1 [==============================] - 1s 681ms/step - loss: 1.7101 - mean_absolute_error: 1.3077\n",
      "Epoch 5/10\n",
      "1/1 [==============================] - 1s 641ms/step - loss: 1.6067 - mean_absolute_error: 1.2676\n",
      "Epoch 6/10\n",
      "1/1 [==============================] - 1s 536ms/step - loss: 1.5054 - mean_absolute_error: 1.2269\n",
      "Epoch 7/10\n",
      "1/1 [==============================] - 1s 532ms/step - loss: 1.4236 - mean_absolute_error: 1.1931\n",
      "Epoch 8/10\n",
      "1/1 [==============================] - 1s 536ms/step - loss: 1.3458 - mean_absolute_error: 1.1601\n",
      "Epoch 9/10\n",
      "1/1 [==============================] - 1s 534ms/step - loss: 1.2753 - mean_absolute_error: 1.1293\n",
      "Epoch 10/10\n",
      "1/1 [==============================] - 1s 536ms/step - loss: 1.2103 - mean_absolute_error: 1.1001\n",
      "WARNING:tensorflow:11 out of the last 11 calls to <function Model.make_test_function.<locals>.test_function at 0x7fe7936f0c10> triggered tf.function retracing. Tracing is expensive and the excessive number of tracings could be due to (1) creating @tf.function repeatedly in a loop, (2) passing tensors with different shapes, (3) passing Python objects instead of tensors. For (1), please define your @tf.function outside of the loop. For (2), @tf.function has experimental_relax_shapes=True option that relaxes argument shapes that can avoid unnecessary retracing. For (3), please refer to https://www.tensorflow.org/guide/function#controlling_retracing and https://www.tensorflow.org/api_docs/python/tf/function for  more details.\n"
     ]
    },
    {
     "name": "stderr",
     "output_type": "stream",
     "text": [
      "WARNING:tensorflow:11 out of the last 11 calls to <function Model.make_test_function.<locals>.test_function at 0x7fe7936f0c10> triggered tf.function retracing. Tracing is expensive and the excessive number of tracings could be due to (1) creating @tf.function repeatedly in a loop, (2) passing tensors with different shapes, (3) passing Python objects instead of tensors. For (1), please define your @tf.function outside of the loop. For (2), @tf.function has experimental_relax_shapes=True option that relaxes argument shapes that can avoid unnecessary retracing. For (3), please refer to https://www.tensorflow.org/guide/function#controlling_retracing and https://www.tensorflow.org/api_docs/python/tf/function for  more details.\n",
      "WARNING:absl:Found untraced functions such as lstm_cell_74_layer_call_and_return_conditional_losses, lstm_cell_74_layer_call_fn, lstm_cell_75_layer_call_and_return_conditional_losses, lstm_cell_75_layer_call_fn, lstm_cell_74_layer_call_fn while saving (showing 5 of 10). These functions will not be directly callable after loading.\n",
      "WARNING:absl:Found untraced functions such as lstm_cell_74_layer_call_and_return_conditional_losses, lstm_cell_74_layer_call_fn, lstm_cell_75_layer_call_and_return_conditional_losses, lstm_cell_75_layer_call_fn, lstm_cell_74_layer_call_fn while saving (showing 5 of 10). These functions will not be directly callable after loading.\n"
     ]
    },
    {
     "name": "stdout",
     "output_type": "stream",
     "text": [
      "INFO:tensorflow:Assets written to: LSTM_train_audio/assets\n"
     ]
    },
    {
     "name": "stderr",
     "output_type": "stream",
     "text": [
      "INFO:tensorflow:Assets written to: LSTM_train_audio/assets\n"
     ]
    },
    {
     "name": "stdout",
     "output_type": "stream",
     "text": [
      "Epoch 1/10\n",
      "1/1 [==============================] - 3s 3s/step - loss: 2.4077 - mean_absolute_error: 1.5517\n",
      "Epoch 2/10\n",
      "1/1 [==============================] - 1s 1s/step - loss: 2.5410 - mean_absolute_error: 1.5941\n",
      "Epoch 3/10\n",
      "1/1 [==============================] - 1s 1s/step - loss: 2.2074 - mean_absolute_error: 1.4857\n",
      "Epoch 4/10\n",
      "1/1 [==============================] - 1s 1s/step - loss: 1.9525 - mean_absolute_error: 1.3973\n",
      "Epoch 5/10\n",
      "1/1 [==============================] - 1s 1s/step - loss: 1.7387 - mean_absolute_error: 1.3186\n",
      "Epoch 6/10\n",
      "1/1 [==============================] - 1s 1s/step - loss: 1.5486 - mean_absolute_error: 1.2444\n",
      "Epoch 7/10\n",
      "1/1 [==============================] - 1s 1s/step - loss: 1.3815 - mean_absolute_error: 1.1754\n",
      "Epoch 8/10\n",
      "1/1 [==============================] - 1s 1s/step - loss: 1.2317 - mean_absolute_error: 1.1098\n",
      "Epoch 9/10\n",
      "1/1 [==============================] - 1s 1s/step - loss: 1.1016 - mean_absolute_error: 1.0496\n",
      "Epoch 10/10\n",
      "1/1 [==============================] - 1s 1s/step - loss: 0.9989 - mean_absolute_error: 0.9995\n",
      "WARNING:tensorflow:11 out of the last 11 calls to <function Model.make_test_function.<locals>.test_function at 0x7fe7a0546940> triggered tf.function retracing. Tracing is expensive and the excessive number of tracings could be due to (1) creating @tf.function repeatedly in a loop, (2) passing tensors with different shapes, (3) passing Python objects instead of tensors. For (1), please define your @tf.function outside of the loop. For (2), @tf.function has experimental_relax_shapes=True option that relaxes argument shapes that can avoid unnecessary retracing. For (3), please refer to https://www.tensorflow.org/guide/function#controlling_retracing and https://www.tensorflow.org/api_docs/python/tf/function for  more details.\n"
     ]
    },
    {
     "name": "stderr",
     "output_type": "stream",
     "text": [
      "WARNING:tensorflow:11 out of the last 11 calls to <function Model.make_test_function.<locals>.test_function at 0x7fe7a0546940> triggered tf.function retracing. Tracing is expensive and the excessive number of tracings could be due to (1) creating @tf.function repeatedly in a loop, (2) passing tensors with different shapes, (3) passing Python objects instead of tensors. For (1), please define your @tf.function outside of the loop. For (2), @tf.function has experimental_relax_shapes=True option that relaxes argument shapes that can avoid unnecessary retracing. For (3), please refer to https://www.tensorflow.org/guide/function#controlling_retracing and https://www.tensorflow.org/api_docs/python/tf/function for  more details.\n",
      "WARNING:absl:Found untraced functions such as lstm_cell_76_layer_call_and_return_conditional_losses, lstm_cell_76_layer_call_fn, lstm_cell_77_layer_call_and_return_conditional_losses, lstm_cell_77_layer_call_fn, lstm_cell_76_layer_call_fn while saving (showing 5 of 10). These functions will not be directly callable after loading.\n",
      "WARNING:absl:Found untraced functions such as lstm_cell_76_layer_call_and_return_conditional_losses, lstm_cell_76_layer_call_fn, lstm_cell_77_layer_call_and_return_conditional_losses, lstm_cell_77_layer_call_fn, lstm_cell_76_layer_call_fn while saving (showing 5 of 10). These functions will not be directly callable after loading.\n"
     ]
    },
    {
     "name": "stdout",
     "output_type": "stream",
     "text": [
      "INFO:tensorflow:Assets written to: LSTM_train_audio/assets\n"
     ]
    },
    {
     "name": "stderr",
     "output_type": "stream",
     "text": [
      "INFO:tensorflow:Assets written to: LSTM_train_audio/assets\n"
     ]
    },
    {
     "name": "stdout",
     "output_type": "stream",
     "text": [
      "Epoch 1/10\n",
      "1/1 [==============================] - 3s 3s/step - loss: 0.0871 - mean_absolute_error: 0.2951\n",
      "Epoch 2/10\n",
      "1/1 [==============================] - 1s 555ms/step - loss: 0.0685 - mean_absolute_error: 0.2617\n",
      "Epoch 3/10\n",
      "1/1 [==============================] - 1s 542ms/step - loss: 0.0524 - mean_absolute_error: 0.2288\n",
      "Epoch 4/10\n",
      "1/1 [==============================] - 1s 671ms/step - loss: 0.0386 - mean_absolute_error: 0.1965\n",
      "Epoch 5/10\n",
      "1/1 [==============================] - 0s 455ms/step - loss: 0.0271 - mean_absolute_error: 0.1647\n",
      "Epoch 6/10\n",
      "1/1 [==============================] - 1s 670ms/step - loss: 0.0178 - mean_absolute_error: 0.1335\n",
      "Epoch 7/10\n",
      "1/1 [==============================] - 0s 450ms/step - loss: 0.0106 - mean_absolute_error: 0.1029\n",
      "Epoch 8/10\n",
      "1/1 [==============================] - 0s 450ms/step - loss: 0.0041 - mean_absolute_error: 0.0642\n",
      "Epoch 9/10\n",
      "1/1 [==============================] - 1s 554ms/step - loss: 0.0019 - mean_absolute_error: 0.0440\n",
      "Epoch 10/10\n",
      "1/1 [==============================] - 0s 483ms/step - loss: 9.7023e-07 - mean_absolute_error: 9.8500e-04\n",
      "WARNING:tensorflow:11 out of the last 11 calls to <function Model.make_test_function.<locals>.test_function at 0x7fe7acf05e50> triggered tf.function retracing. Tracing is expensive and the excessive number of tracings could be due to (1) creating @tf.function repeatedly in a loop, (2) passing tensors with different shapes, (3) passing Python objects instead of tensors. For (1), please define your @tf.function outside of the loop. For (2), @tf.function has experimental_relax_shapes=True option that relaxes argument shapes that can avoid unnecessary retracing. For (3), please refer to https://www.tensorflow.org/guide/function#controlling_retracing and https://www.tensorflow.org/api_docs/python/tf/function for  more details.\n"
     ]
    },
    {
     "name": "stderr",
     "output_type": "stream",
     "text": [
      "WARNING:tensorflow:11 out of the last 11 calls to <function Model.make_test_function.<locals>.test_function at 0x7fe7acf05e50> triggered tf.function retracing. Tracing is expensive and the excessive number of tracings could be due to (1) creating @tf.function repeatedly in a loop, (2) passing tensors with different shapes, (3) passing Python objects instead of tensors. For (1), please define your @tf.function outside of the loop. For (2), @tf.function has experimental_relax_shapes=True option that relaxes argument shapes that can avoid unnecessary retracing. For (3), please refer to https://www.tensorflow.org/guide/function#controlling_retracing and https://www.tensorflow.org/api_docs/python/tf/function for  more details.\n",
      "WARNING:absl:Found untraced functions such as lstm_cell_78_layer_call_and_return_conditional_losses, lstm_cell_78_layer_call_fn, lstm_cell_79_layer_call_and_return_conditional_losses, lstm_cell_79_layer_call_fn, lstm_cell_78_layer_call_fn while saving (showing 5 of 10). These functions will not be directly callable after loading.\n",
      "WARNING:absl:Found untraced functions such as lstm_cell_78_layer_call_and_return_conditional_losses, lstm_cell_78_layer_call_fn, lstm_cell_79_layer_call_and_return_conditional_losses, lstm_cell_79_layer_call_fn, lstm_cell_78_layer_call_fn while saving (showing 5 of 10). These functions will not be directly callable after loading.\n"
     ]
    },
    {
     "name": "stdout",
     "output_type": "stream",
     "text": [
      "INFO:tensorflow:Assets written to: LSTM_train_audio/assets\n"
     ]
    },
    {
     "name": "stderr",
     "output_type": "stream",
     "text": [
      "INFO:tensorflow:Assets written to: LSTM_train_audio/assets\n"
     ]
    },
    {
     "name": "stdout",
     "output_type": "stream",
     "text": [
      "Epoch 1/10\n",
      "1/1 [==============================] - 3s 3s/step - loss: 4.0057 - mean_absolute_error: 2.0014\n",
      "Epoch 2/10\n",
      "1/1 [==============================] - 0s 365ms/step - loss: 3.8669 - mean_absolute_error: 1.9664\n",
      "Epoch 3/10\n",
      "1/1 [==============================] - 0s 355ms/step - loss: 3.7245 - mean_absolute_error: 1.9299\n",
      "Epoch 4/10\n",
      "1/1 [==============================] - 0s 354ms/step - loss: 3.5787 - mean_absolute_error: 1.8918\n",
      "Epoch 5/10\n",
      "1/1 [==============================] - 0s 375ms/step - loss: 3.4296 - mean_absolute_error: 1.8519\n",
      "Epoch 6/10\n",
      "1/1 [==============================] - 0s 440ms/step - loss: 3.2780 - mean_absolute_error: 1.8105\n",
      "Epoch 7/10\n",
      "1/1 [==============================] - 0s 374ms/step - loss: 3.1223 - mean_absolute_error: 1.7670\n",
      "Epoch 8/10\n",
      "1/1 [==============================] - 0s 379ms/step - loss: 2.9618 - mean_absolute_error: 1.7210\n",
      "Epoch 9/10\n",
      "1/1 [==============================] - 0s 444ms/step - loss: 2.8238 - mean_absolute_error: 1.6804\n",
      "Epoch 10/10\n",
      "1/1 [==============================] - 0s 376ms/step - loss: 2.6473 - mean_absolute_error: 1.6271\n",
      "WARNING:tensorflow:11 out of the last 11 calls to <function Model.make_test_function.<locals>.test_function at 0x7fe7acc96700> triggered tf.function retracing. Tracing is expensive and the excessive number of tracings could be due to (1) creating @tf.function repeatedly in a loop, (2) passing tensors with different shapes, (3) passing Python objects instead of tensors. For (1), please define your @tf.function outside of the loop. For (2), @tf.function has experimental_relax_shapes=True option that relaxes argument shapes that can avoid unnecessary retracing. For (3), please refer to https://www.tensorflow.org/guide/function#controlling_retracing and https://www.tensorflow.org/api_docs/python/tf/function for  more details.\n"
     ]
    },
    {
     "name": "stderr",
     "output_type": "stream",
     "text": [
      "WARNING:tensorflow:11 out of the last 11 calls to <function Model.make_test_function.<locals>.test_function at 0x7fe7acc96700> triggered tf.function retracing. Tracing is expensive and the excessive number of tracings could be due to (1) creating @tf.function repeatedly in a loop, (2) passing tensors with different shapes, (3) passing Python objects instead of tensors. For (1), please define your @tf.function outside of the loop. For (2), @tf.function has experimental_relax_shapes=True option that relaxes argument shapes that can avoid unnecessary retracing. For (3), please refer to https://www.tensorflow.org/guide/function#controlling_retracing and https://www.tensorflow.org/api_docs/python/tf/function for  more details.\n",
      "WARNING:absl:Found untraced functions such as lstm_cell_80_layer_call_and_return_conditional_losses, lstm_cell_80_layer_call_fn, lstm_cell_81_layer_call_and_return_conditional_losses, lstm_cell_81_layer_call_fn, lstm_cell_80_layer_call_fn while saving (showing 5 of 10). These functions will not be directly callable after loading.\n",
      "WARNING:absl:Found untraced functions such as lstm_cell_80_layer_call_and_return_conditional_losses, lstm_cell_80_layer_call_fn, lstm_cell_81_layer_call_and_return_conditional_losses, lstm_cell_81_layer_call_fn, lstm_cell_80_layer_call_fn while saving (showing 5 of 10). These functions will not be directly callable after loading.\n"
     ]
    },
    {
     "name": "stdout",
     "output_type": "stream",
     "text": [
      "INFO:tensorflow:Assets written to: LSTM_train_audio/assets\n"
     ]
    },
    {
     "name": "stderr",
     "output_type": "stream",
     "text": [
      "INFO:tensorflow:Assets written to: LSTM_train_audio/assets\n"
     ]
    },
    {
     "name": "stdout",
     "output_type": "stream",
     "text": [
      "Epoch 1/10\n",
      "1/1 [==============================] - 3s 3s/step - loss: 0.4190 - mean_absolute_error: 0.6473\n",
      "Epoch 2/10\n",
      "1/1 [==============================] - 1s 862ms/step - loss: 0.3537 - mean_absolute_error: 0.5948\n",
      "Epoch 3/10\n",
      "1/1 [==============================] - 1s 713ms/step - loss: 0.2915 - mean_absolute_error: 0.5399\n",
      "Epoch 4/10\n",
      "1/1 [==============================] - 1s 732ms/step - loss: 0.2334 - mean_absolute_error: 0.4831\n",
      "Epoch 5/10\n",
      "1/1 [==============================] - 1s 888ms/step - loss: 0.1803 - mean_absolute_error: 0.4246\n",
      "Epoch 6/10\n",
      "1/1 [==============================] - 1s 713ms/step - loss: 0.1329 - mean_absolute_error: 0.3645\n",
      "Epoch 7/10\n",
      "1/1 [==============================] - 1s 1s/step - loss: 0.0919 - mean_absolute_error: 0.3032\n",
      "Epoch 8/10\n",
      "1/1 [==============================] - 1s 714ms/step - loss: 0.0583 - mean_absolute_error: 0.2415\n",
      "Epoch 9/10\n",
      "1/1 [==============================] - 1s 810ms/step - loss: 0.0318 - mean_absolute_error: 0.1783\n",
      "Epoch 10/10\n",
      "1/1 [==============================] - 1s 713ms/step - loss: 0.0126 - mean_absolute_error: 0.1124\n",
      "WARNING:tensorflow:11 out of the last 11 calls to <function Model.make_test_function.<locals>.test_function at 0x7fe7a05460d0> triggered tf.function retracing. Tracing is expensive and the excessive number of tracings could be due to (1) creating @tf.function repeatedly in a loop, (2) passing tensors with different shapes, (3) passing Python objects instead of tensors. For (1), please define your @tf.function outside of the loop. For (2), @tf.function has experimental_relax_shapes=True option that relaxes argument shapes that can avoid unnecessary retracing. For (3), please refer to https://www.tensorflow.org/guide/function#controlling_retracing and https://www.tensorflow.org/api_docs/python/tf/function for  more details.\n"
     ]
    },
    {
     "name": "stderr",
     "output_type": "stream",
     "text": [
      "WARNING:tensorflow:11 out of the last 11 calls to <function Model.make_test_function.<locals>.test_function at 0x7fe7a05460d0> triggered tf.function retracing. Tracing is expensive and the excessive number of tracings could be due to (1) creating @tf.function repeatedly in a loop, (2) passing tensors with different shapes, (3) passing Python objects instead of tensors. For (1), please define your @tf.function outside of the loop. For (2), @tf.function has experimental_relax_shapes=True option that relaxes argument shapes that can avoid unnecessary retracing. For (3), please refer to https://www.tensorflow.org/guide/function#controlling_retracing and https://www.tensorflow.org/api_docs/python/tf/function for  more details.\n",
      "WARNING:absl:Found untraced functions such as lstm_cell_82_layer_call_and_return_conditional_losses, lstm_cell_82_layer_call_fn, lstm_cell_83_layer_call_and_return_conditional_losses, lstm_cell_83_layer_call_fn, lstm_cell_82_layer_call_fn while saving (showing 5 of 10). These functions will not be directly callable after loading.\n",
      "WARNING:absl:Found untraced functions such as lstm_cell_82_layer_call_and_return_conditional_losses, lstm_cell_82_layer_call_fn, lstm_cell_83_layer_call_and_return_conditional_losses, lstm_cell_83_layer_call_fn, lstm_cell_82_layer_call_fn while saving (showing 5 of 10). These functions will not be directly callable after loading.\n"
     ]
    },
    {
     "name": "stdout",
     "output_type": "stream",
     "text": [
      "INFO:tensorflow:Assets written to: LSTM_train_audio/assets\n"
     ]
    },
    {
     "name": "stderr",
     "output_type": "stream",
     "text": [
      "INFO:tensorflow:Assets written to: LSTM_train_audio/assets\n"
     ]
    },
    {
     "name": "stdout",
     "output_type": "stream",
     "text": [
      "Epoch 1/10\n",
      "1/1 [==============================] - 3s 3s/step - loss: 0.5990 - mean_absolute_error: 0.7739\n",
      "Epoch 2/10\n",
      "1/1 [==============================] - 1s 959ms/step - loss: 0.4868 - mean_absolute_error: 0.6977\n",
      "Epoch 3/10\n",
      "1/1 [==============================] - 1s 1s/step - loss: 0.3883 - mean_absolute_error: 0.6232\n",
      "Epoch 4/10\n",
      "1/1 [==============================] - 1s 931ms/step - loss: 0.3019 - mean_absolute_error: 0.5495\n",
      "Epoch 5/10\n",
      "1/1 [==============================] - 1s 792ms/step - loss: 0.2277 - mean_absolute_error: 0.4772\n",
      "Epoch 6/10\n",
      "1/1 [==============================] - 1s 951ms/step - loss: 0.1647 - mean_absolute_error: 0.4058\n",
      "Epoch 7/10\n",
      "1/1 [==============================] - 1s 787ms/step - loss: 0.1130 - mean_absolute_error: 0.3361\n",
      "Epoch 8/10\n",
      "1/1 [==============================] - 1s 807ms/step - loss: 0.0744 - mean_absolute_error: 0.2729\n",
      "Epoch 9/10\n",
      "1/1 [==============================] - 1s 793ms/step - loss: 0.0408 - mean_absolute_error: 0.2021\n",
      "Epoch 10/10\n",
      "1/1 [==============================] - 1s 951ms/step - loss: 0.0191 - mean_absolute_error: 0.1382\n",
      "WARNING:tensorflow:11 out of the last 11 calls to <function Model.make_test_function.<locals>.test_function at 0x7fe7ac913b80> triggered tf.function retracing. Tracing is expensive and the excessive number of tracings could be due to (1) creating @tf.function repeatedly in a loop, (2) passing tensors with different shapes, (3) passing Python objects instead of tensors. For (1), please define your @tf.function outside of the loop. For (2), @tf.function has experimental_relax_shapes=True option that relaxes argument shapes that can avoid unnecessary retracing. For (3), please refer to https://www.tensorflow.org/guide/function#controlling_retracing and https://www.tensorflow.org/api_docs/python/tf/function for  more details.\n"
     ]
    },
    {
     "name": "stderr",
     "output_type": "stream",
     "text": [
      "WARNING:tensorflow:11 out of the last 11 calls to <function Model.make_test_function.<locals>.test_function at 0x7fe7ac913b80> triggered tf.function retracing. Tracing is expensive and the excessive number of tracings could be due to (1) creating @tf.function repeatedly in a loop, (2) passing tensors with different shapes, (3) passing Python objects instead of tensors. For (1), please define your @tf.function outside of the loop. For (2), @tf.function has experimental_relax_shapes=True option that relaxes argument shapes that can avoid unnecessary retracing. For (3), please refer to https://www.tensorflow.org/guide/function#controlling_retracing and https://www.tensorflow.org/api_docs/python/tf/function for  more details.\n",
      "WARNING:absl:Found untraced functions such as lstm_cell_84_layer_call_and_return_conditional_losses, lstm_cell_84_layer_call_fn, lstm_cell_85_layer_call_and_return_conditional_losses, lstm_cell_85_layer_call_fn, lstm_cell_84_layer_call_fn while saving (showing 5 of 10). These functions will not be directly callable after loading.\n",
      "WARNING:absl:Found untraced functions such as lstm_cell_84_layer_call_and_return_conditional_losses, lstm_cell_84_layer_call_fn, lstm_cell_85_layer_call_and_return_conditional_losses, lstm_cell_85_layer_call_fn, lstm_cell_84_layer_call_fn while saving (showing 5 of 10). These functions will not be directly callable after loading.\n"
     ]
    },
    {
     "name": "stdout",
     "output_type": "stream",
     "text": [
      "INFO:tensorflow:Assets written to: LSTM_train_audio/assets\n"
     ]
    },
    {
     "name": "stderr",
     "output_type": "stream",
     "text": [
      "INFO:tensorflow:Assets written to: LSTM_train_audio/assets\n"
     ]
    },
    {
     "name": "stdout",
     "output_type": "stream",
     "text": [
      "Epoch 1/10\n",
      "1/1 [==============================] - 4s 4s/step - loss: 1.8402 - mean_absolute_error: 1.3566\n",
      "Epoch 2/10\n",
      "1/1 [==============================] - 2s 2s/step - loss: 1.6537 - mean_absolute_error: 1.2860\n",
      "Epoch 3/10\n",
      "1/1 [==============================] - 2s 2s/step - loss: 1.4524 - mean_absolute_error: 1.2052\n",
      "Epoch 4/10\n",
      "1/1 [==============================] - 2s 2s/step - loss: 1.2780 - mean_absolute_error: 1.1305\n",
      "Epoch 5/10\n",
      "1/1 [==============================] - 2s 2s/step - loss: 1.1161 - mean_absolute_error: 1.0565\n",
      "Epoch 6/10\n",
      "1/1 [==============================] - 2s 2s/step - loss: 0.9597 - mean_absolute_error: 0.9796\n",
      "Epoch 7/10\n",
      "1/1 [==============================] - 2s 2s/step - loss: 0.8154 - mean_absolute_error: 0.9030\n",
      "Epoch 8/10\n",
      "1/1 [==============================] - 3s 3s/step - loss: 0.6705 - mean_absolute_error: 0.8188\n",
      "Epoch 9/10\n",
      "1/1 [==============================] - 2s 2s/step - loss: 0.5326 - mean_absolute_error: 0.7298\n",
      "Epoch 10/10\n",
      "1/1 [==============================] - 2s 2s/step - loss: 0.4039 - mean_absolute_error: 0.6356\n",
      "WARNING:tensorflow:11 out of the last 11 calls to <function Model.make_test_function.<locals>.test_function at 0x7fe7acc96af0> triggered tf.function retracing. Tracing is expensive and the excessive number of tracings could be due to (1) creating @tf.function repeatedly in a loop, (2) passing tensors with different shapes, (3) passing Python objects instead of tensors. For (1), please define your @tf.function outside of the loop. For (2), @tf.function has experimental_relax_shapes=True option that relaxes argument shapes that can avoid unnecessary retracing. For (3), please refer to https://www.tensorflow.org/guide/function#controlling_retracing and https://www.tensorflow.org/api_docs/python/tf/function for  more details.\n"
     ]
    },
    {
     "name": "stderr",
     "output_type": "stream",
     "text": [
      "WARNING:tensorflow:11 out of the last 11 calls to <function Model.make_test_function.<locals>.test_function at 0x7fe7acc96af0> triggered tf.function retracing. Tracing is expensive and the excessive number of tracings could be due to (1) creating @tf.function repeatedly in a loop, (2) passing tensors with different shapes, (3) passing Python objects instead of tensors. For (1), please define your @tf.function outside of the loop. For (2), @tf.function has experimental_relax_shapes=True option that relaxes argument shapes that can avoid unnecessary retracing. For (3), please refer to https://www.tensorflow.org/guide/function#controlling_retracing and https://www.tensorflow.org/api_docs/python/tf/function for  more details.\n",
      "WARNING:absl:Found untraced functions such as lstm_cell_86_layer_call_and_return_conditional_losses, lstm_cell_86_layer_call_fn, lstm_cell_87_layer_call_and_return_conditional_losses, lstm_cell_87_layer_call_fn, lstm_cell_86_layer_call_fn while saving (showing 5 of 10). These functions will not be directly callable after loading.\n",
      "WARNING:absl:Found untraced functions such as lstm_cell_86_layer_call_and_return_conditional_losses, lstm_cell_86_layer_call_fn, lstm_cell_87_layer_call_and_return_conditional_losses, lstm_cell_87_layer_call_fn, lstm_cell_86_layer_call_fn while saving (showing 5 of 10). These functions will not be directly callable after loading.\n"
     ]
    },
    {
     "name": "stdout",
     "output_type": "stream",
     "text": [
      "INFO:tensorflow:Assets written to: LSTM_train_audio/assets\n"
     ]
    },
    {
     "name": "stderr",
     "output_type": "stream",
     "text": [
      "INFO:tensorflow:Assets written to: LSTM_train_audio/assets\n"
     ]
    },
    {
     "name": "stdout",
     "output_type": "stream",
     "text": [
      "Epoch 1/10\n",
      "1/1 [==============================] - 3s 3s/step - loss: 0.2668 - mean_absolute_error: 0.5165\n",
      "Epoch 2/10\n",
      "1/1 [==============================] - 1s 599ms/step - loss: 0.1812 - mean_absolute_error: 0.4257\n",
      "Epoch 3/10\n",
      "1/1 [==============================] - 1s 735ms/step - loss: 0.1229 - mean_absolute_error: 0.3506\n",
      "Epoch 4/10\n",
      "1/1 [==============================] - 1s 599ms/step - loss: 0.0814 - mean_absolute_error: 0.2852\n",
      "Epoch 5/10\n",
      "1/1 [==============================] - 1s 596ms/step - loss: 0.0494 - mean_absolute_error: 0.2223\n",
      "Epoch 6/10\n",
      "1/1 [==============================] - 1s 597ms/step - loss: 0.0249 - mean_absolute_error: 0.1579\n",
      "Epoch 7/10\n",
      "1/1 [==============================] - 1s 602ms/step - loss: 0.0083 - mean_absolute_error: 0.0913\n",
      "Epoch 8/10\n",
      "1/1 [==============================] - 1s 743ms/step - loss: 5.3167e-04 - mean_absolute_error: 0.0231\n",
      "Epoch 9/10\n",
      "1/1 [==============================] - 1s 846ms/step - loss: 0.0019 - mean_absolute_error: 0.0431\n",
      "Epoch 10/10\n",
      "1/1 [==============================] - 1s 731ms/step - loss: 0.0099 - mean_absolute_error: 0.0996\n",
      "WARNING:tensorflow:11 out of the last 11 calls to <function Model.make_test_function.<locals>.test_function at 0x7fe702b04af0> triggered tf.function retracing. Tracing is expensive and the excessive number of tracings could be due to (1) creating @tf.function repeatedly in a loop, (2) passing tensors with different shapes, (3) passing Python objects instead of tensors. For (1), please define your @tf.function outside of the loop. For (2), @tf.function has experimental_relax_shapes=True option that relaxes argument shapes that can avoid unnecessary retracing. For (3), please refer to https://www.tensorflow.org/guide/function#controlling_retracing and https://www.tensorflow.org/api_docs/python/tf/function for  more details.\n"
     ]
    },
    {
     "name": "stderr",
     "output_type": "stream",
     "text": [
      "WARNING:tensorflow:11 out of the last 11 calls to <function Model.make_test_function.<locals>.test_function at 0x7fe702b04af0> triggered tf.function retracing. Tracing is expensive and the excessive number of tracings could be due to (1) creating @tf.function repeatedly in a loop, (2) passing tensors with different shapes, (3) passing Python objects instead of tensors. For (1), please define your @tf.function outside of the loop. For (2), @tf.function has experimental_relax_shapes=True option that relaxes argument shapes that can avoid unnecessary retracing. For (3), please refer to https://www.tensorflow.org/guide/function#controlling_retracing and https://www.tensorflow.org/api_docs/python/tf/function for  more details.\n",
      "WARNING:absl:Found untraced functions such as lstm_cell_88_layer_call_and_return_conditional_losses, lstm_cell_88_layer_call_fn, lstm_cell_89_layer_call_and_return_conditional_losses, lstm_cell_89_layer_call_fn, lstm_cell_88_layer_call_fn while saving (showing 5 of 10). These functions will not be directly callable after loading.\n",
      "WARNING:absl:Found untraced functions such as lstm_cell_88_layer_call_and_return_conditional_losses, lstm_cell_88_layer_call_fn, lstm_cell_89_layer_call_and_return_conditional_losses, lstm_cell_89_layer_call_fn, lstm_cell_88_layer_call_fn while saving (showing 5 of 10). These functions will not be directly callable after loading.\n"
     ]
    },
    {
     "name": "stdout",
     "output_type": "stream",
     "text": [
      "INFO:tensorflow:Assets written to: LSTM_train_audio/assets\n"
     ]
    },
    {
     "name": "stderr",
     "output_type": "stream",
     "text": [
      "INFO:tensorflow:Assets written to: LSTM_train_audio/assets\n"
     ]
    },
    {
     "name": "stdout",
     "output_type": "stream",
     "text": [
      "Epoch 1/10\n",
      "1/1 [==============================] - 2s 2s/step - loss: 9.5777 - mean_absolute_error: 3.0948\n",
      "Epoch 2/10\n",
      "1/1 [==============================] - 0s 238ms/step - loss: 9.0519 - mean_absolute_error: 3.0086\n",
      "Epoch 3/10\n",
      "1/1 [==============================] - 0s 278ms/step - loss: 8.5498 - mean_absolute_error: 2.9240\n",
      "Epoch 4/10\n",
      "1/1 [==============================] - 0s 192ms/step - loss: 8.0700 - mean_absolute_error: 2.8408\n",
      "Epoch 5/10\n",
      "1/1 [==============================] - 0s 241ms/step - loss: 6.9483 - mean_absolute_error: 2.6360\n",
      "Epoch 6/10\n",
      "1/1 [==============================] - 0s 249ms/step - loss: 7.1854 - mean_absolute_error: 2.6806\n",
      "Epoch 7/10\n",
      "1/1 [==============================] - 0s 193ms/step - loss: 6.7801 - mean_absolute_error: 2.6039\n",
      "Epoch 8/10\n",
      "1/1 [==============================] - 0s 193ms/step - loss: 6.4080 - mean_absolute_error: 2.5314\n",
      "Epoch 9/10\n",
      "1/1 [==============================] - 0s 237ms/step - loss: 6.0466 - mean_absolute_error: 2.4590\n",
      "Epoch 10/10\n",
      "1/1 [==============================] - 0s 193ms/step - loss: 5.7077 - mean_absolute_error: 2.3891\n",
      "WARNING:tensorflow:11 out of the last 11 calls to <function Model.make_test_function.<locals>.test_function at 0x7fe7a16d23a0> triggered tf.function retracing. Tracing is expensive and the excessive number of tracings could be due to (1) creating @tf.function repeatedly in a loop, (2) passing tensors with different shapes, (3) passing Python objects instead of tensors. For (1), please define your @tf.function outside of the loop. For (2), @tf.function has experimental_relax_shapes=True option that relaxes argument shapes that can avoid unnecessary retracing. For (3), please refer to https://www.tensorflow.org/guide/function#controlling_retracing and https://www.tensorflow.org/api_docs/python/tf/function for  more details.\n"
     ]
    },
    {
     "name": "stderr",
     "output_type": "stream",
     "text": [
      "WARNING:tensorflow:11 out of the last 11 calls to <function Model.make_test_function.<locals>.test_function at 0x7fe7a16d23a0> triggered tf.function retracing. Tracing is expensive and the excessive number of tracings could be due to (1) creating @tf.function repeatedly in a loop, (2) passing tensors with different shapes, (3) passing Python objects instead of tensors. For (1), please define your @tf.function outside of the loop. For (2), @tf.function has experimental_relax_shapes=True option that relaxes argument shapes that can avoid unnecessary retracing. For (3), please refer to https://www.tensorflow.org/guide/function#controlling_retracing and https://www.tensorflow.org/api_docs/python/tf/function for  more details.\n",
      "WARNING:absl:Found untraced functions such as lstm_cell_90_layer_call_and_return_conditional_losses, lstm_cell_90_layer_call_fn, lstm_cell_91_layer_call_and_return_conditional_losses, lstm_cell_91_layer_call_fn, lstm_cell_90_layer_call_fn while saving (showing 5 of 10). These functions will not be directly callable after loading.\n",
      "WARNING:absl:Found untraced functions such as lstm_cell_90_layer_call_and_return_conditional_losses, lstm_cell_90_layer_call_fn, lstm_cell_91_layer_call_and_return_conditional_losses, lstm_cell_91_layer_call_fn, lstm_cell_90_layer_call_fn while saving (showing 5 of 10). These functions will not be directly callable after loading.\n"
     ]
    },
    {
     "name": "stdout",
     "output_type": "stream",
     "text": [
      "INFO:tensorflow:Assets written to: LSTM_train_audio/assets\n"
     ]
    },
    {
     "name": "stderr",
     "output_type": "stream",
     "text": [
      "INFO:tensorflow:Assets written to: LSTM_train_audio/assets\n"
     ]
    },
    {
     "name": "stdout",
     "output_type": "stream",
     "text": [
      "Epoch 1/10\n",
      "1/1 [==============================] - 2s 2s/step - loss: 0.0575 - mean_absolute_error: 0.2399\n",
      "Epoch 2/10\n",
      "1/1 [==============================] - 0s 225ms/step - loss: 0.0280 - mean_absolute_error: 0.1673\n",
      "Epoch 3/10\n",
      "1/1 [==============================] - 0s 270ms/step - loss: 0.0095 - mean_absolute_error: 0.0974\n",
      "Epoch 4/10\n",
      "1/1 [==============================] - 0s 217ms/step - loss: 0.0011 - mean_absolute_error: 0.0337\n",
      "Epoch 5/10\n",
      "1/1 [==============================] - 0s 250ms/step - loss: 3.4281e-04 - mean_absolute_error: 0.0185\n",
      "Epoch 6/10\n",
      "1/1 [==============================] - 0s 217ms/step - loss: 0.0036 - mean_absolute_error: 0.0598\n",
      "Epoch 7/10\n",
      "1/1 [==============================] - 0s 248ms/step - loss: 0.0073 - mean_absolute_error: 0.0854\n",
      "Epoch 8/10\n",
      "1/1 [==============================] - 0s 275ms/step - loss: 0.0107 - mean_absolute_error: 0.1033\n",
      "Epoch 9/10\n",
      "1/1 [==============================] - 0s 268ms/step - loss: 0.0116 - mean_absolute_error: 0.1077\n",
      "Epoch 10/10\n",
      "1/1 [==============================] - 0s 217ms/step - loss: 0.0105 - mean_absolute_error: 0.1027\n",
      "WARNING:tensorflow:11 out of the last 11 calls to <function Model.make_test_function.<locals>.test_function at 0x7fe73f188a60> triggered tf.function retracing. Tracing is expensive and the excessive number of tracings could be due to (1) creating @tf.function repeatedly in a loop, (2) passing tensors with different shapes, (3) passing Python objects instead of tensors. For (1), please define your @tf.function outside of the loop. For (2), @tf.function has experimental_relax_shapes=True option that relaxes argument shapes that can avoid unnecessary retracing. For (3), please refer to https://www.tensorflow.org/guide/function#controlling_retracing and https://www.tensorflow.org/api_docs/python/tf/function for  more details.\n"
     ]
    },
    {
     "name": "stderr",
     "output_type": "stream",
     "text": [
      "WARNING:tensorflow:11 out of the last 11 calls to <function Model.make_test_function.<locals>.test_function at 0x7fe73f188a60> triggered tf.function retracing. Tracing is expensive and the excessive number of tracings could be due to (1) creating @tf.function repeatedly in a loop, (2) passing tensors with different shapes, (3) passing Python objects instead of tensors. For (1), please define your @tf.function outside of the loop. For (2), @tf.function has experimental_relax_shapes=True option that relaxes argument shapes that can avoid unnecessary retracing. For (3), please refer to https://www.tensorflow.org/guide/function#controlling_retracing and https://www.tensorflow.org/api_docs/python/tf/function for  more details.\n",
      "WARNING:absl:Found untraced functions such as lstm_cell_92_layer_call_and_return_conditional_losses, lstm_cell_92_layer_call_fn, lstm_cell_93_layer_call_and_return_conditional_losses, lstm_cell_93_layer_call_fn, lstm_cell_92_layer_call_fn while saving (showing 5 of 10). These functions will not be directly callable after loading.\n",
      "WARNING:absl:Found untraced functions such as lstm_cell_92_layer_call_and_return_conditional_losses, lstm_cell_92_layer_call_fn, lstm_cell_93_layer_call_and_return_conditional_losses, lstm_cell_93_layer_call_fn, lstm_cell_92_layer_call_fn while saving (showing 5 of 10). These functions will not be directly callable after loading.\n"
     ]
    },
    {
     "name": "stdout",
     "output_type": "stream",
     "text": [
      "INFO:tensorflow:Assets written to: LSTM_train_audio/assets\n"
     ]
    },
    {
     "name": "stderr",
     "output_type": "stream",
     "text": [
      "INFO:tensorflow:Assets written to: LSTM_train_audio/assets\n"
     ]
    },
    {
     "name": "stdout",
     "output_type": "stream",
     "text": [
      "Epoch 1/10\n",
      "1/1 [==============================] - 3s 3s/step - loss: 0.2667 - mean_absolute_error: 0.5164\n",
      "Epoch 2/10\n",
      "1/1 [==============================] - 2s 2s/step - loss: 0.2142 - mean_absolute_error: 0.4628\n",
      "Epoch 3/10\n",
      "1/1 [==============================] - 2s 2s/step - loss: 0.1690 - mean_absolute_error: 0.4111\n",
      "Epoch 4/10\n",
      "1/1 [==============================] - 2s 2s/step - loss: 0.1310 - mean_absolute_error: 0.3620\n",
      "Epoch 5/10\n",
      "1/1 [==============================] - 2s 2s/step - loss: 0.0995 - mean_absolute_error: 0.3155\n",
      "Epoch 6/10\n",
      "1/1 [==============================] - 2s 2s/step - loss: 0.0738 - mean_absolute_error: 0.2716\n",
      "Epoch 7/10\n",
      "1/1 [==============================] - 2s 2s/step - loss: 0.0530 - mean_absolute_error: 0.2301\n",
      "Epoch 8/10\n",
      "1/1 [==============================] - 2s 2s/step - loss: 0.0365 - mean_absolute_error: 0.1910\n",
      "Epoch 9/10\n",
      "1/1 [==============================] - 2s 2s/step - loss: 0.0237 - mean_absolute_error: 0.1540\n",
      "Epoch 10/10\n",
      "1/1 [==============================] - 2s 2s/step - loss: 0.0141 - mean_absolute_error: 0.1189\n",
      "WARNING:tensorflow:11 out of the last 11 calls to <function Model.make_test_function.<locals>.test_function at 0x7fe793814700> triggered tf.function retracing. Tracing is expensive and the excessive number of tracings could be due to (1) creating @tf.function repeatedly in a loop, (2) passing tensors with different shapes, (3) passing Python objects instead of tensors. For (1), please define your @tf.function outside of the loop. For (2), @tf.function has experimental_relax_shapes=True option that relaxes argument shapes that can avoid unnecessary retracing. For (3), please refer to https://www.tensorflow.org/guide/function#controlling_retracing and https://www.tensorflow.org/api_docs/python/tf/function for  more details.\n"
     ]
    },
    {
     "name": "stderr",
     "output_type": "stream",
     "text": [
      "WARNING:tensorflow:11 out of the last 11 calls to <function Model.make_test_function.<locals>.test_function at 0x7fe793814700> triggered tf.function retracing. Tracing is expensive and the excessive number of tracings could be due to (1) creating @tf.function repeatedly in a loop, (2) passing tensors with different shapes, (3) passing Python objects instead of tensors. For (1), please define your @tf.function outside of the loop. For (2), @tf.function has experimental_relax_shapes=True option that relaxes argument shapes that can avoid unnecessary retracing. For (3), please refer to https://www.tensorflow.org/guide/function#controlling_retracing and https://www.tensorflow.org/api_docs/python/tf/function for  more details.\n",
      "WARNING:absl:Found untraced functions such as lstm_cell_94_layer_call_and_return_conditional_losses, lstm_cell_94_layer_call_fn, lstm_cell_95_layer_call_and_return_conditional_losses, lstm_cell_95_layer_call_fn, lstm_cell_94_layer_call_fn while saving (showing 5 of 10). These functions will not be directly callable after loading.\n",
      "WARNING:absl:Found untraced functions such as lstm_cell_94_layer_call_and_return_conditional_losses, lstm_cell_94_layer_call_fn, lstm_cell_95_layer_call_and_return_conditional_losses, lstm_cell_95_layer_call_fn, lstm_cell_94_layer_call_fn while saving (showing 5 of 10). These functions will not be directly callable after loading.\n"
     ]
    },
    {
     "name": "stdout",
     "output_type": "stream",
     "text": [
      "INFO:tensorflow:Assets written to: LSTM_train_audio/assets\n"
     ]
    },
    {
     "name": "stderr",
     "output_type": "stream",
     "text": [
      "INFO:tensorflow:Assets written to: LSTM_train_audio/assets\n"
     ]
    },
    {
     "name": "stdout",
     "output_type": "stream",
     "text": [
      "Epoch 1/10\n",
      "1/1 [==============================] - 5s 5s/step - loss: 0.0859 - mean_absolute_error: 0.2931\n",
      "Epoch 2/10\n",
      "1/1 [==============================] - 2s 2s/step - loss: 0.0665 - mean_absolute_error: 0.2579\n",
      "Epoch 3/10\n",
      "1/1 [==============================] - 2s 2s/step - loss: 0.0477 - mean_absolute_error: 0.2184\n",
      "Epoch 4/10\n",
      "1/1 [==============================] - 2s 2s/step - loss: 0.0328 - mean_absolute_error: 0.1811\n",
      "Epoch 5/10\n",
      "1/1 [==============================] - 3s 3s/step - loss: 0.0210 - mean_absolute_error: 0.1450\n",
      "Epoch 6/10\n",
      "1/1 [==============================] - 2s 2s/step - loss: 0.0121 - mean_absolute_error: 0.1102\n",
      "Epoch 7/10\n",
      "1/1 [==============================] - 3s 3s/step - loss: 0.0059 - mean_absolute_error: 0.0767\n",
      "Epoch 8/10\n",
      "1/1 [==============================] - 2s 2s/step - loss: 0.0020 - mean_absolute_error: 0.0447\n",
      "Epoch 9/10\n",
      "1/1 [==============================] - 3s 3s/step - loss: 6.7861e-05 - mean_absolute_error: 0.0082\n",
      "Epoch 10/10\n",
      "1/1 [==============================] - 3s 3s/step - loss: 1.7549e-04 - mean_absolute_error: 0.0132\n",
      "WARNING:tensorflow:11 out of the last 11 calls to <function Model.make_test_function.<locals>.test_function at 0x7fe7a126b1f0> triggered tf.function retracing. Tracing is expensive and the excessive number of tracings could be due to (1) creating @tf.function repeatedly in a loop, (2) passing tensors with different shapes, (3) passing Python objects instead of tensors. For (1), please define your @tf.function outside of the loop. For (2), @tf.function has experimental_relax_shapes=True option that relaxes argument shapes that can avoid unnecessary retracing. For (3), please refer to https://www.tensorflow.org/guide/function#controlling_retracing and https://www.tensorflow.org/api_docs/python/tf/function for  more details.\n"
     ]
    },
    {
     "name": "stderr",
     "output_type": "stream",
     "text": [
      "WARNING:tensorflow:11 out of the last 11 calls to <function Model.make_test_function.<locals>.test_function at 0x7fe7a126b1f0> triggered tf.function retracing. Tracing is expensive and the excessive number of tracings could be due to (1) creating @tf.function repeatedly in a loop, (2) passing tensors with different shapes, (3) passing Python objects instead of tensors. For (1), please define your @tf.function outside of the loop. For (2), @tf.function has experimental_relax_shapes=True option that relaxes argument shapes that can avoid unnecessary retracing. For (3), please refer to https://www.tensorflow.org/guide/function#controlling_retracing and https://www.tensorflow.org/api_docs/python/tf/function for  more details.\n",
      "WARNING:absl:Found untraced functions such as lstm_cell_96_layer_call_and_return_conditional_losses, lstm_cell_96_layer_call_fn, lstm_cell_97_layer_call_and_return_conditional_losses, lstm_cell_97_layer_call_fn, lstm_cell_96_layer_call_fn while saving (showing 5 of 10). These functions will not be directly callable after loading.\n",
      "WARNING:absl:Found untraced functions such as lstm_cell_96_layer_call_and_return_conditional_losses, lstm_cell_96_layer_call_fn, lstm_cell_97_layer_call_and_return_conditional_losses, lstm_cell_97_layer_call_fn, lstm_cell_96_layer_call_fn while saving (showing 5 of 10). These functions will not be directly callable after loading.\n"
     ]
    },
    {
     "name": "stdout",
     "output_type": "stream",
     "text": [
      "INFO:tensorflow:Assets written to: LSTM_train_audio/assets\n"
     ]
    },
    {
     "name": "stderr",
     "output_type": "stream",
     "text": [
      "INFO:tensorflow:Assets written to: LSTM_train_audio/assets\n"
     ]
    },
    {
     "name": "stdout",
     "output_type": "stream",
     "text": [
      "Epoch 1/10\n",
      "1/1 [==============================] - 3s 3s/step - loss: 7.8479e-04 - mean_absolute_error: 0.0280\n",
      "Epoch 2/10\n",
      "1/1 [==============================] - 1s 1s/step - loss: 2.1095e-04 - mean_absolute_error: 0.0145\n",
      "Epoch 3/10\n",
      "1/1 [==============================] - 1s 1s/step - loss: 5.8578e-04 - mean_absolute_error: 0.0242\n",
      "Epoch 4/10\n",
      "1/1 [==============================] - 1s 1s/step - loss: 2.2924e-04 - mean_absolute_error: 0.0151\n",
      "Epoch 5/10\n",
      "1/1 [==============================] - 1s 1s/step - loss: 9.7589e-05 - mean_absolute_error: 0.0099\n",
      "Epoch 6/10\n",
      "1/1 [==============================] - 1s 1s/step - loss: 1.4808e-04 - mean_absolute_error: 0.0122\n",
      "Epoch 7/10\n",
      "1/1 [==============================] - 1s 1s/step - loss: 5.8787e-04 - mean_absolute_error: 0.0242\n",
      "Epoch 8/10\n",
      "1/1 [==============================] - 1s 1s/step - loss: 4.8482e-04 - mean_absolute_error: 0.0220\n",
      "Epoch 9/10\n",
      "1/1 [==============================] - 1s 1s/step - loss: 1.7241e-04 - mean_absolute_error: 0.0131\n",
      "Epoch 10/10\n",
      "1/1 [==============================] - 1s 1s/step - loss: 2.2516e-06 - mean_absolute_error: 0.0015\n",
      "WARNING:tensorflow:11 out of the last 11 calls to <function Model.make_test_function.<locals>.test_function at 0x7fe7acc96b80> triggered tf.function retracing. Tracing is expensive and the excessive number of tracings could be due to (1) creating @tf.function repeatedly in a loop, (2) passing tensors with different shapes, (3) passing Python objects instead of tensors. For (1), please define your @tf.function outside of the loop. For (2), @tf.function has experimental_relax_shapes=True option that relaxes argument shapes that can avoid unnecessary retracing. For (3), please refer to https://www.tensorflow.org/guide/function#controlling_retracing and https://www.tensorflow.org/api_docs/python/tf/function for  more details.\n"
     ]
    },
    {
     "name": "stderr",
     "output_type": "stream",
     "text": [
      "WARNING:tensorflow:11 out of the last 11 calls to <function Model.make_test_function.<locals>.test_function at 0x7fe7acc96b80> triggered tf.function retracing. Tracing is expensive and the excessive number of tracings could be due to (1) creating @tf.function repeatedly in a loop, (2) passing tensors with different shapes, (3) passing Python objects instead of tensors. For (1), please define your @tf.function outside of the loop. For (2), @tf.function has experimental_relax_shapes=True option that relaxes argument shapes that can avoid unnecessary retracing. For (3), please refer to https://www.tensorflow.org/guide/function#controlling_retracing and https://www.tensorflow.org/api_docs/python/tf/function for  more details.\n",
      "WARNING:absl:Found untraced functions such as lstm_cell_98_layer_call_and_return_conditional_losses, lstm_cell_98_layer_call_fn, lstm_cell_99_layer_call_and_return_conditional_losses, lstm_cell_99_layer_call_fn, lstm_cell_98_layer_call_fn while saving (showing 5 of 10). These functions will not be directly callable after loading.\n",
      "WARNING:absl:Found untraced functions such as lstm_cell_98_layer_call_and_return_conditional_losses, lstm_cell_98_layer_call_fn, lstm_cell_99_layer_call_and_return_conditional_losses, lstm_cell_99_layer_call_fn, lstm_cell_98_layer_call_fn while saving (showing 5 of 10). These functions will not be directly callable after loading.\n"
     ]
    },
    {
     "name": "stdout",
     "output_type": "stream",
     "text": [
      "INFO:tensorflow:Assets written to: LSTM_train_audio/assets\n"
     ]
    },
    {
     "name": "stderr",
     "output_type": "stream",
     "text": [
      "INFO:tensorflow:Assets written to: LSTM_train_audio/assets\n"
     ]
    },
    {
     "name": "stdout",
     "output_type": "stream",
     "text": [
      "Epoch 1/10\n",
      "1/1 [==============================] - 2s 2s/step - loss: 1.5357 - mean_absolute_error: 1.2392\n",
      "Epoch 2/10\n",
      "1/1 [==============================] - 0s 251ms/step - loss: 1.4457 - mean_absolute_error: 1.2024\n",
      "Epoch 3/10\n",
      "1/1 [==============================] - 0s 418ms/step - loss: 1.3581 - mean_absolute_error: 1.1654\n",
      "Epoch 4/10\n",
      "1/1 [==============================] - 0s 248ms/step - loss: 1.2731 - mean_absolute_error: 1.1283\n",
      "Epoch 5/10\n",
      "1/1 [==============================] - 0s 244ms/step - loss: 1.1904 - mean_absolute_error: 1.0911\n",
      "Epoch 6/10\n",
      "1/1 [==============================] - 0s 249ms/step - loss: 1.1097 - mean_absolute_error: 1.0534\n",
      "Epoch 7/10\n",
      "1/1 [==============================] - 0s 247ms/step - loss: 1.0313 - mean_absolute_error: 1.0155\n",
      "Epoch 8/10\n",
      "1/1 [==============================] - 0s 296ms/step - loss: 0.9543 - mean_absolute_error: 0.9769\n",
      "Epoch 9/10\n",
      "1/1 [==============================] - 0s 247ms/step - loss: 0.8875 - mean_absolute_error: 0.9421\n",
      "Epoch 10/10\n",
      "1/1 [==============================] - 0s 247ms/step - loss: 0.8048 - mean_absolute_error: 0.8971\n",
      "WARNING:tensorflow:11 out of the last 11 calls to <function Model.make_test_function.<locals>.test_function at 0x7fe6a465aaf0> triggered tf.function retracing. Tracing is expensive and the excessive number of tracings could be due to (1) creating @tf.function repeatedly in a loop, (2) passing tensors with different shapes, (3) passing Python objects instead of tensors. For (1), please define your @tf.function outside of the loop. For (2), @tf.function has experimental_relax_shapes=True option that relaxes argument shapes that can avoid unnecessary retracing. For (3), please refer to https://www.tensorflow.org/guide/function#controlling_retracing and https://www.tensorflow.org/api_docs/python/tf/function for  more details.\n"
     ]
    },
    {
     "name": "stderr",
     "output_type": "stream",
     "text": [
      "WARNING:tensorflow:11 out of the last 11 calls to <function Model.make_test_function.<locals>.test_function at 0x7fe6a465aaf0> triggered tf.function retracing. Tracing is expensive and the excessive number of tracings could be due to (1) creating @tf.function repeatedly in a loop, (2) passing tensors with different shapes, (3) passing Python objects instead of tensors. For (1), please define your @tf.function outside of the loop. For (2), @tf.function has experimental_relax_shapes=True option that relaxes argument shapes that can avoid unnecessary retracing. For (3), please refer to https://www.tensorflow.org/guide/function#controlling_retracing and https://www.tensorflow.org/api_docs/python/tf/function for  more details.\n",
      "WARNING:absl:Found untraced functions such as lstm_cell_100_layer_call_and_return_conditional_losses, lstm_cell_100_layer_call_fn, lstm_cell_101_layer_call_and_return_conditional_losses, lstm_cell_101_layer_call_fn, lstm_cell_100_layer_call_fn while saving (showing 5 of 10). These functions will not be directly callable after loading.\n",
      "WARNING:absl:Found untraced functions such as lstm_cell_100_layer_call_and_return_conditional_losses, lstm_cell_100_layer_call_fn, lstm_cell_101_layer_call_and_return_conditional_losses, lstm_cell_101_layer_call_fn, lstm_cell_100_layer_call_fn while saving (showing 5 of 10). These functions will not be directly callable after loading.\n"
     ]
    },
    {
     "name": "stdout",
     "output_type": "stream",
     "text": [
      "INFO:tensorflow:Assets written to: LSTM_train_audio/assets\n"
     ]
    },
    {
     "name": "stderr",
     "output_type": "stream",
     "text": [
      "INFO:tensorflow:Assets written to: LSTM_train_audio/assets\n"
     ]
    },
    {
     "name": "stdout",
     "output_type": "stream",
     "text": [
      "Epoch 1/10\n",
      "1/1 [==============================] - 4s 4s/step - loss: 0.5803 - mean_absolute_error: 0.7618\n",
      "Epoch 2/10\n",
      "1/1 [==============================] - 2s 2s/step - loss: 0.5145 - mean_absolute_error: 0.7173\n",
      "Epoch 3/10\n",
      "1/1 [==============================] - 2s 2s/step - loss: 0.4547 - mean_absolute_error: 0.6743\n",
      "Epoch 4/10\n",
      "1/1 [==============================] - 2s 2s/step - loss: 0.3952 - mean_absolute_error: 0.6287\n",
      "Epoch 5/10\n",
      "1/1 [==============================] - 2s 2s/step - loss: 0.3386 - mean_absolute_error: 0.5819\n",
      "Epoch 6/10\n",
      "1/1 [==============================] - 2s 2s/step - loss: 0.2840 - mean_absolute_error: 0.5329\n",
      "Epoch 7/10\n",
      "1/1 [==============================] - 2s 2s/step - loss: 0.2329 - mean_absolute_error: 0.4826\n",
      "Epoch 8/10\n",
      "1/1 [==============================] - 2s 2s/step - loss: 0.1855 - mean_absolute_error: 0.4307\n",
      "Epoch 9/10\n",
      "1/1 [==============================] - 2s 2s/step - loss: 0.1418 - mean_absolute_error: 0.3765\n",
      "Epoch 10/10\n",
      "1/1 [==============================] - 2s 2s/step - loss: 0.1039 - mean_absolute_error: 0.3223\n",
      "WARNING:tensorflow:11 out of the last 11 calls to <function Model.make_test_function.<locals>.test_function at 0x7fe6a46a3700> triggered tf.function retracing. Tracing is expensive and the excessive number of tracings could be due to (1) creating @tf.function repeatedly in a loop, (2) passing tensors with different shapes, (3) passing Python objects instead of tensors. For (1), please define your @tf.function outside of the loop. For (2), @tf.function has experimental_relax_shapes=True option that relaxes argument shapes that can avoid unnecessary retracing. For (3), please refer to https://www.tensorflow.org/guide/function#controlling_retracing and https://www.tensorflow.org/api_docs/python/tf/function for  more details.\n"
     ]
    },
    {
     "name": "stderr",
     "output_type": "stream",
     "text": [
      "WARNING:tensorflow:11 out of the last 11 calls to <function Model.make_test_function.<locals>.test_function at 0x7fe6a46a3700> triggered tf.function retracing. Tracing is expensive and the excessive number of tracings could be due to (1) creating @tf.function repeatedly in a loop, (2) passing tensors with different shapes, (3) passing Python objects instead of tensors. For (1), please define your @tf.function outside of the loop. For (2), @tf.function has experimental_relax_shapes=True option that relaxes argument shapes that can avoid unnecessary retracing. For (3), please refer to https://www.tensorflow.org/guide/function#controlling_retracing and https://www.tensorflow.org/api_docs/python/tf/function for  more details.\n",
      "WARNING:absl:Found untraced functions such as lstm_cell_102_layer_call_and_return_conditional_losses, lstm_cell_102_layer_call_fn, lstm_cell_103_layer_call_and_return_conditional_losses, lstm_cell_103_layer_call_fn, lstm_cell_102_layer_call_fn while saving (showing 5 of 10). These functions will not be directly callable after loading.\n",
      "WARNING:absl:Found untraced functions such as lstm_cell_102_layer_call_and_return_conditional_losses, lstm_cell_102_layer_call_fn, lstm_cell_103_layer_call_and_return_conditional_losses, lstm_cell_103_layer_call_fn, lstm_cell_102_layer_call_fn while saving (showing 5 of 10). These functions will not be directly callable after loading.\n"
     ]
    },
    {
     "name": "stdout",
     "output_type": "stream",
     "text": [
      "INFO:tensorflow:Assets written to: LSTM_train_audio/assets\n"
     ]
    },
    {
     "name": "stderr",
     "output_type": "stream",
     "text": [
      "INFO:tensorflow:Assets written to: LSTM_train_audio/assets\n"
     ]
    },
    {
     "name": "stdout",
     "output_type": "stream",
     "text": [
      "Epoch 1/10\n",
      "1/1 [==============================] - 2s 2s/step - loss: 0.1790 - mean_absolute_error: 0.4231\n",
      "Epoch 2/10\n",
      "1/1 [==============================] - 0s 257ms/step - loss: 0.1330 - mean_absolute_error: 0.3647\n",
      "Epoch 3/10\n",
      "1/1 [==============================] - 0s 254ms/step - loss: 0.0930 - mean_absolute_error: 0.3050\n",
      "Epoch 4/10\n",
      "1/1 [==============================] - 0s 258ms/step - loss: 0.0622 - mean_absolute_error: 0.2494\n",
      "Epoch 5/10\n",
      "1/1 [==============================] - 0s 311ms/step - loss: 0.0387 - mean_absolute_error: 0.1966\n",
      "Epoch 6/10\n",
      "1/1 [==============================] - 0s 254ms/step - loss: 0.0216 - mean_absolute_error: 0.1470\n",
      "Epoch 7/10\n",
      "1/1 [==============================] - 0s 254ms/step - loss: 0.0102 - mean_absolute_error: 0.1008\n",
      "Epoch 8/10\n",
      "1/1 [==============================] - 0s 435ms/step - loss: 0.0034 - mean_absolute_error: 0.0581\n",
      "Epoch 9/10\n",
      "1/1 [==============================] - 0s 252ms/step - loss: 3.6954e-04 - mean_absolute_error: 0.0192\n",
      "Epoch 10/10\n",
      "1/1 [==============================] - 0s 289ms/step - loss: 2.3886e-04 - mean_absolute_error: 0.0155\n",
      "WARNING:tensorflow:11 out of the last 11 calls to <function Model.make_test_function.<locals>.test_function at 0x7fe7ac9133a0> triggered tf.function retracing. Tracing is expensive and the excessive number of tracings could be due to (1) creating @tf.function repeatedly in a loop, (2) passing tensors with different shapes, (3) passing Python objects instead of tensors. For (1), please define your @tf.function outside of the loop. For (2), @tf.function has experimental_relax_shapes=True option that relaxes argument shapes that can avoid unnecessary retracing. For (3), please refer to https://www.tensorflow.org/guide/function#controlling_retracing and https://www.tensorflow.org/api_docs/python/tf/function for  more details.\n"
     ]
    },
    {
     "name": "stderr",
     "output_type": "stream",
     "text": [
      "WARNING:tensorflow:11 out of the last 11 calls to <function Model.make_test_function.<locals>.test_function at 0x7fe7ac9133a0> triggered tf.function retracing. Tracing is expensive and the excessive number of tracings could be due to (1) creating @tf.function repeatedly in a loop, (2) passing tensors with different shapes, (3) passing Python objects instead of tensors. For (1), please define your @tf.function outside of the loop. For (2), @tf.function has experimental_relax_shapes=True option that relaxes argument shapes that can avoid unnecessary retracing. For (3), please refer to https://www.tensorflow.org/guide/function#controlling_retracing and https://www.tensorflow.org/api_docs/python/tf/function for  more details.\n",
      "WARNING:absl:Found untraced functions such as lstm_cell_104_layer_call_and_return_conditional_losses, lstm_cell_104_layer_call_fn, lstm_cell_105_layer_call_and_return_conditional_losses, lstm_cell_105_layer_call_fn, lstm_cell_104_layer_call_fn while saving (showing 5 of 10). These functions will not be directly callable after loading.\n",
      "WARNING:absl:Found untraced functions such as lstm_cell_104_layer_call_and_return_conditional_losses, lstm_cell_104_layer_call_fn, lstm_cell_105_layer_call_and_return_conditional_losses, lstm_cell_105_layer_call_fn, lstm_cell_104_layer_call_fn while saving (showing 5 of 10). These functions will not be directly callable after loading.\n"
     ]
    },
    {
     "name": "stdout",
     "output_type": "stream",
     "text": [
      "INFO:tensorflow:Assets written to: LSTM_train_audio/assets\n"
     ]
    },
    {
     "name": "stderr",
     "output_type": "stream",
     "text": [
      "INFO:tensorflow:Assets written to: LSTM_train_audio/assets\n"
     ]
    },
    {
     "name": "stdout",
     "output_type": "stream",
     "text": [
      "Epoch 1/10\n",
      "1/1 [==============================] - 2s 2s/step - loss: 0.2229 - mean_absolute_error: 0.4721\n",
      "Epoch 2/10\n",
      "1/1 [==============================] - 0s 307ms/step - loss: 0.1752 - mean_absolute_error: 0.4185\n",
      "Epoch 3/10\n",
      "1/1 [==============================] - 0s 286ms/step - loss: 0.1194 - mean_absolute_error: 0.3455\n",
      "Epoch 4/10\n",
      "1/1 [==============================] - 0s 285ms/step - loss: 0.0945 - mean_absolute_error: 0.3073\n",
      "Epoch 5/10\n",
      "1/1 [==============================] - 0s 352ms/step - loss: 0.0622 - mean_absolute_error: 0.2495\n",
      "Epoch 6/10\n",
      "1/1 [==============================] - 0s 381ms/step - loss: 0.0361 - mean_absolute_error: 0.1901\n",
      "Epoch 7/10\n",
      "1/1 [==============================] - 0s 344ms/step - loss: 0.0168 - mean_absolute_error: 0.1298\n",
      "Epoch 8/10\n",
      "1/1 [==============================] - 0s 300ms/step - loss: 0.0048 - mean_absolute_error: 0.0691\n",
      "Epoch 9/10\n",
      "1/1 [==============================] - 0s 335ms/step - loss: 9.2128e-05 - mean_absolute_error: 0.0096\n",
      "Epoch 10/10\n",
      "1/1 [==============================] - 0s 295ms/step - loss: 0.0021 - mean_absolute_error: 0.0458\n",
      "WARNING:tensorflow:11 out of the last 11 calls to <function Model.make_test_function.<locals>.test_function at 0x7fe7acf05e50> triggered tf.function retracing. Tracing is expensive and the excessive number of tracings could be due to (1) creating @tf.function repeatedly in a loop, (2) passing tensors with different shapes, (3) passing Python objects instead of tensors. For (1), please define your @tf.function outside of the loop. For (2), @tf.function has experimental_relax_shapes=True option that relaxes argument shapes that can avoid unnecessary retracing. For (3), please refer to https://www.tensorflow.org/guide/function#controlling_retracing and https://www.tensorflow.org/api_docs/python/tf/function for  more details.\n"
     ]
    },
    {
     "name": "stderr",
     "output_type": "stream",
     "text": [
      "WARNING:tensorflow:11 out of the last 11 calls to <function Model.make_test_function.<locals>.test_function at 0x7fe7acf05e50> triggered tf.function retracing. Tracing is expensive and the excessive number of tracings could be due to (1) creating @tf.function repeatedly in a loop, (2) passing tensors with different shapes, (3) passing Python objects instead of tensors. For (1), please define your @tf.function outside of the loop. For (2), @tf.function has experimental_relax_shapes=True option that relaxes argument shapes that can avoid unnecessary retracing. For (3), please refer to https://www.tensorflow.org/guide/function#controlling_retracing and https://www.tensorflow.org/api_docs/python/tf/function for  more details.\n",
      "WARNING:absl:Found untraced functions such as lstm_cell_106_layer_call_and_return_conditional_losses, lstm_cell_106_layer_call_fn, lstm_cell_107_layer_call_and_return_conditional_losses, lstm_cell_107_layer_call_fn, lstm_cell_106_layer_call_fn while saving (showing 5 of 10). These functions will not be directly callable after loading.\n",
      "WARNING:absl:Found untraced functions such as lstm_cell_106_layer_call_and_return_conditional_losses, lstm_cell_106_layer_call_fn, lstm_cell_107_layer_call_and_return_conditional_losses, lstm_cell_107_layer_call_fn, lstm_cell_106_layer_call_fn while saving (showing 5 of 10). These functions will not be directly callable after loading.\n"
     ]
    },
    {
     "name": "stdout",
     "output_type": "stream",
     "text": [
      "INFO:tensorflow:Assets written to: LSTM_train_audio/assets\n"
     ]
    },
    {
     "name": "stderr",
     "output_type": "stream",
     "text": [
      "INFO:tensorflow:Assets written to: LSTM_train_audio/assets\n"
     ]
    },
    {
     "name": "stdout",
     "output_type": "stream",
     "text": [
      "Epoch 1/10\n",
      "1/1 [==============================] - 2s 2s/step - loss: 0.0652 - mean_absolute_error: 0.2553\n",
      "Epoch 2/10\n",
      "1/1 [==============================] - 1s 718ms/step - loss: 0.0072 - mean_absolute_error: 0.0850\n",
      "Epoch 3/10\n",
      "1/1 [==============================] - 1s 867ms/step - loss: 0.0039 - mean_absolute_error: 0.0624\n",
      "Epoch 4/10\n",
      "1/1 [==============================] - 1s 717ms/step - loss: 0.0063 - mean_absolute_error: 0.0795\n",
      "Epoch 5/10\n",
      "1/1 [==============================] - 1s 832ms/step - loss: 0.0098 - mean_absolute_error: 0.0990\n",
      "Epoch 6/10\n",
      "1/1 [==============================] - 1s 730ms/step - loss: 5.6323e-04 - mean_absolute_error: 0.0237\n",
      "Epoch 7/10\n",
      "1/1 [==============================] - 1s 764ms/step - loss: 0.0182 - mean_absolute_error: 0.1351\n",
      "Epoch 8/10\n",
      "1/1 [==============================] - 1s 861ms/step - loss: 4.7149e-04 - mean_absolute_error: 0.0217\n",
      "Epoch 9/10\n",
      "1/1 [==============================] - 1s 862ms/step - loss: 0.0012 - mean_absolute_error: 0.0340\n",
      "Epoch 10/10\n",
      "1/1 [==============================] - 1s 600ms/step - loss: 0.0038 - mean_absolute_error: 0.0617\n",
      "WARNING:tensorflow:11 out of the last 11 calls to <function Model.make_test_function.<locals>.test_function at 0x7fe793cde0d0> triggered tf.function retracing. Tracing is expensive and the excessive number of tracings could be due to (1) creating @tf.function repeatedly in a loop, (2) passing tensors with different shapes, (3) passing Python objects instead of tensors. For (1), please define your @tf.function outside of the loop. For (2), @tf.function has experimental_relax_shapes=True option that relaxes argument shapes that can avoid unnecessary retracing. For (3), please refer to https://www.tensorflow.org/guide/function#controlling_retracing and https://www.tensorflow.org/api_docs/python/tf/function for  more details.\n"
     ]
    },
    {
     "name": "stderr",
     "output_type": "stream",
     "text": [
      "WARNING:tensorflow:11 out of the last 11 calls to <function Model.make_test_function.<locals>.test_function at 0x7fe793cde0d0> triggered tf.function retracing. Tracing is expensive and the excessive number of tracings could be due to (1) creating @tf.function repeatedly in a loop, (2) passing tensors with different shapes, (3) passing Python objects instead of tensors. For (1), please define your @tf.function outside of the loop. For (2), @tf.function has experimental_relax_shapes=True option that relaxes argument shapes that can avoid unnecessary retracing. For (3), please refer to https://www.tensorflow.org/guide/function#controlling_retracing and https://www.tensorflow.org/api_docs/python/tf/function for  more details.\n",
      "WARNING:absl:Found untraced functions such as lstm_cell_108_layer_call_and_return_conditional_losses, lstm_cell_108_layer_call_fn, lstm_cell_109_layer_call_and_return_conditional_losses, lstm_cell_109_layer_call_fn, lstm_cell_108_layer_call_fn while saving (showing 5 of 10). These functions will not be directly callable after loading.\n",
      "WARNING:absl:Found untraced functions such as lstm_cell_108_layer_call_and_return_conditional_losses, lstm_cell_108_layer_call_fn, lstm_cell_109_layer_call_and_return_conditional_losses, lstm_cell_109_layer_call_fn, lstm_cell_108_layer_call_fn while saving (showing 5 of 10). These functions will not be directly callable after loading.\n"
     ]
    },
    {
     "name": "stdout",
     "output_type": "stream",
     "text": [
      "INFO:tensorflow:Assets written to: LSTM_train_audio/assets\n"
     ]
    },
    {
     "name": "stderr",
     "output_type": "stream",
     "text": [
      "INFO:tensorflow:Assets written to: LSTM_train_audio/assets\n"
     ]
    },
    {
     "name": "stdout",
     "output_type": "stream",
     "text": [
      "Epoch 1/10\n",
      "1/1 [==============================] - 2s 2s/step - loss: 2.0132 - mean_absolute_error: 1.4189\n",
      "Epoch 2/10\n",
      "1/1 [==============================] - 0s 455ms/step - loss: 1.8392 - mean_absolute_error: 1.3562\n",
      "Epoch 3/10\n",
      "1/1 [==============================] - 0s 453ms/step - loss: 1.6789 - mean_absolute_error: 1.2957\n",
      "Epoch 4/10\n",
      "1/1 [==============================] - 1s 542ms/step - loss: 1.5293 - mean_absolute_error: 1.2366\n",
      "Epoch 5/10\n",
      "1/1 [==============================] - 0s 493ms/step - loss: 1.3950 - mean_absolute_error: 1.1811\n",
      "Epoch 6/10\n",
      "1/1 [==============================] - 1s 574ms/step - loss: 1.2697 - mean_absolute_error: 1.1268\n",
      "Epoch 7/10\n",
      "1/1 [==============================] - 0s 453ms/step - loss: 1.1453 - mean_absolute_error: 1.0702\n",
      "Epoch 8/10\n",
      "1/1 [==============================] - 0s 454ms/step - loss: 1.0508 - mean_absolute_error: 1.0251\n",
      "Epoch 9/10\n",
      "1/1 [==============================] - 0s 456ms/step - loss: 0.9518 - mean_absolute_error: 0.9756\n",
      "Epoch 10/10\n",
      "1/1 [==============================] - 0s 456ms/step - loss: 0.8618 - mean_absolute_error: 0.9283\n",
      "WARNING:tensorflow:11 out of the last 11 calls to <function Model.make_test_function.<locals>.test_function at 0x7fe73062dee0> triggered tf.function retracing. Tracing is expensive and the excessive number of tracings could be due to (1) creating @tf.function repeatedly in a loop, (2) passing tensors with different shapes, (3) passing Python objects instead of tensors. For (1), please define your @tf.function outside of the loop. For (2), @tf.function has experimental_relax_shapes=True option that relaxes argument shapes that can avoid unnecessary retracing. For (3), please refer to https://www.tensorflow.org/guide/function#controlling_retracing and https://www.tensorflow.org/api_docs/python/tf/function for  more details.\n"
     ]
    },
    {
     "name": "stderr",
     "output_type": "stream",
     "text": [
      "WARNING:tensorflow:11 out of the last 11 calls to <function Model.make_test_function.<locals>.test_function at 0x7fe73062dee0> triggered tf.function retracing. Tracing is expensive and the excessive number of tracings could be due to (1) creating @tf.function repeatedly in a loop, (2) passing tensors with different shapes, (3) passing Python objects instead of tensors. For (1), please define your @tf.function outside of the loop. For (2), @tf.function has experimental_relax_shapes=True option that relaxes argument shapes that can avoid unnecessary retracing. For (3), please refer to https://www.tensorflow.org/guide/function#controlling_retracing and https://www.tensorflow.org/api_docs/python/tf/function for  more details.\n",
      "WARNING:absl:Found untraced functions such as lstm_cell_110_layer_call_and_return_conditional_losses, lstm_cell_110_layer_call_fn, lstm_cell_111_layer_call_and_return_conditional_losses, lstm_cell_111_layer_call_fn, lstm_cell_110_layer_call_fn while saving (showing 5 of 10). These functions will not be directly callable after loading.\n",
      "WARNING:absl:Found untraced functions such as lstm_cell_110_layer_call_and_return_conditional_losses, lstm_cell_110_layer_call_fn, lstm_cell_111_layer_call_and_return_conditional_losses, lstm_cell_111_layer_call_fn, lstm_cell_110_layer_call_fn while saving (showing 5 of 10). These functions will not be directly callable after loading.\n"
     ]
    },
    {
     "name": "stdout",
     "output_type": "stream",
     "text": [
      "INFO:tensorflow:Assets written to: LSTM_train_audio/assets\n"
     ]
    },
    {
     "name": "stderr",
     "output_type": "stream",
     "text": [
      "INFO:tensorflow:Assets written to: LSTM_train_audio/assets\n"
     ]
    },
    {
     "name": "stdout",
     "output_type": "stream",
     "text": [
      "Epoch 1/10\n",
      "1/1 [==============================] - 3s 3s/step - loss: 0.1056 - mean_absolute_error: 0.3250\n",
      "Epoch 2/10\n",
      "1/1 [==============================] - 1s 1s/step - loss: 0.0795 - mean_absolute_error: 0.2820\n",
      "Epoch 3/10\n",
      "1/1 [==============================] - 1s 1s/step - loss: 0.0579 - mean_absolute_error: 0.2405\n",
      "Epoch 4/10\n",
      "1/1 [==============================] - 1s 1s/step - loss: 0.0400 - mean_absolute_error: 0.1999\n",
      "Epoch 5/10\n",
      "1/1 [==============================] - 1s 1s/step - loss: 0.0259 - mean_absolute_error: 0.1609\n",
      "Epoch 6/10\n",
      "1/1 [==============================] - 1s 1s/step - loss: 0.0153 - mean_absolute_error: 0.1235\n",
      "Epoch 7/10\n",
      "1/1 [==============================] - 1s 1s/step - loss: 0.0077 - mean_absolute_error: 0.0878\n",
      "Epoch 8/10\n",
      "1/1 [==============================] - 1s 1s/step - loss: 0.0029 - mean_absolute_error: 0.0540\n",
      "Epoch 9/10\n",
      "1/1 [==============================] - 1s 1s/step - loss: 5.0938e-04 - mean_absolute_error: 0.0226\n",
      "Epoch 10/10\n",
      "1/1 [==============================] - 1s 1s/step - loss: 3.7451e-05 - mean_absolute_error: 0.0061\n",
      "WARNING:tensorflow:11 out of the last 11 calls to <function Model.make_test_function.<locals>.test_function at 0x7fe7ac9d5820> triggered tf.function retracing. Tracing is expensive and the excessive number of tracings could be due to (1) creating @tf.function repeatedly in a loop, (2) passing tensors with different shapes, (3) passing Python objects instead of tensors. For (1), please define your @tf.function outside of the loop. For (2), @tf.function has experimental_relax_shapes=True option that relaxes argument shapes that can avoid unnecessary retracing. For (3), please refer to https://www.tensorflow.org/guide/function#controlling_retracing and https://www.tensorflow.org/api_docs/python/tf/function for  more details.\n"
     ]
    },
    {
     "name": "stderr",
     "output_type": "stream",
     "text": [
      "WARNING:tensorflow:11 out of the last 11 calls to <function Model.make_test_function.<locals>.test_function at 0x7fe7ac9d5820> triggered tf.function retracing. Tracing is expensive and the excessive number of tracings could be due to (1) creating @tf.function repeatedly in a loop, (2) passing tensors with different shapes, (3) passing Python objects instead of tensors. For (1), please define your @tf.function outside of the loop. For (2), @tf.function has experimental_relax_shapes=True option that relaxes argument shapes that can avoid unnecessary retracing. For (3), please refer to https://www.tensorflow.org/guide/function#controlling_retracing and https://www.tensorflow.org/api_docs/python/tf/function for  more details.\n",
      "WARNING:absl:Found untraced functions such as lstm_cell_112_layer_call_and_return_conditional_losses, lstm_cell_112_layer_call_fn, lstm_cell_113_layer_call_and_return_conditional_losses, lstm_cell_113_layer_call_fn, lstm_cell_112_layer_call_fn while saving (showing 5 of 10). These functions will not be directly callable after loading.\n",
      "WARNING:absl:Found untraced functions such as lstm_cell_112_layer_call_and_return_conditional_losses, lstm_cell_112_layer_call_fn, lstm_cell_113_layer_call_and_return_conditional_losses, lstm_cell_113_layer_call_fn, lstm_cell_112_layer_call_fn while saving (showing 5 of 10). These functions will not be directly callable after loading.\n"
     ]
    },
    {
     "name": "stdout",
     "output_type": "stream",
     "text": [
      "INFO:tensorflow:Assets written to: LSTM_train_audio/assets\n"
     ]
    },
    {
     "name": "stderr",
     "output_type": "stream",
     "text": [
      "INFO:tensorflow:Assets written to: LSTM_train_audio/assets\n"
     ]
    },
    {
     "name": "stdout",
     "output_type": "stream",
     "text": [
      "Epoch 1/10\n",
      "1/1 [==============================] - 2s 2s/step - loss: 0.1301 - mean_absolute_error: 0.3606\n",
      "Epoch 2/10\n",
      "1/1 [==============================] - 0s 285ms/step - loss: 0.0958 - mean_absolute_error: 0.3095\n",
      "Epoch 3/10\n",
      "1/1 [==============================] - 0s 288ms/step - loss: 0.0674 - mean_absolute_error: 0.2597\n",
      "Epoch 4/10\n",
      "1/1 [==============================] - 0s 302ms/step - loss: 0.0427 - mean_absolute_error: 0.2065\n",
      "Epoch 5/10\n",
      "1/1 [==============================] - 0s 412ms/step - loss: 0.0251 - mean_absolute_error: 0.1584\n",
      "Epoch 6/10\n",
      "1/1 [==============================] - 0s 287ms/step - loss: 0.0099 - mean_absolute_error: 0.0995\n",
      "Epoch 7/10\n",
      "1/1 [==============================] - 0s 303ms/step - loss: 0.0023 - mean_absolute_error: 0.0480\n",
      "Epoch 8/10\n",
      "1/1 [==============================] - 0s 284ms/step - loss: 2.0279e-06 - mean_absolute_error: 0.0014\n",
      "Epoch 9/10\n",
      "1/1 [==============================] - 0s 318ms/step - loss: 0.0017 - mean_absolute_error: 0.0414\n",
      "Epoch 10/10\n",
      "1/1 [==============================] - 0s 354ms/step - loss: 6.8615e-04 - mean_absolute_error: 0.0262\n",
      "WARNING:tensorflow:11 out of the last 11 calls to <function Model.make_test_function.<locals>.test_function at 0x7fe73062d310> triggered tf.function retracing. Tracing is expensive and the excessive number of tracings could be due to (1) creating @tf.function repeatedly in a loop, (2) passing tensors with different shapes, (3) passing Python objects instead of tensors. For (1), please define your @tf.function outside of the loop. For (2), @tf.function has experimental_relax_shapes=True option that relaxes argument shapes that can avoid unnecessary retracing. For (3), please refer to https://www.tensorflow.org/guide/function#controlling_retracing and https://www.tensorflow.org/api_docs/python/tf/function for  more details.\n"
     ]
    },
    {
     "name": "stderr",
     "output_type": "stream",
     "text": [
      "WARNING:tensorflow:11 out of the last 11 calls to <function Model.make_test_function.<locals>.test_function at 0x7fe73062d310> triggered tf.function retracing. Tracing is expensive and the excessive number of tracings could be due to (1) creating @tf.function repeatedly in a loop, (2) passing tensors with different shapes, (3) passing Python objects instead of tensors. For (1), please define your @tf.function outside of the loop. For (2), @tf.function has experimental_relax_shapes=True option that relaxes argument shapes that can avoid unnecessary retracing. For (3), please refer to https://www.tensorflow.org/guide/function#controlling_retracing and https://www.tensorflow.org/api_docs/python/tf/function for  more details.\n",
      "WARNING:absl:Found untraced functions such as lstm_cell_114_layer_call_and_return_conditional_losses, lstm_cell_114_layer_call_fn, lstm_cell_115_layer_call_and_return_conditional_losses, lstm_cell_115_layer_call_fn, lstm_cell_114_layer_call_fn while saving (showing 5 of 10). These functions will not be directly callable after loading.\n",
      "WARNING:absl:Found untraced functions such as lstm_cell_114_layer_call_and_return_conditional_losses, lstm_cell_114_layer_call_fn, lstm_cell_115_layer_call_and_return_conditional_losses, lstm_cell_115_layer_call_fn, lstm_cell_114_layer_call_fn while saving (showing 5 of 10). These functions will not be directly callable after loading.\n"
     ]
    },
    {
     "name": "stdout",
     "output_type": "stream",
     "text": [
      "INFO:tensorflow:Assets written to: LSTM_train_audio/assets\n"
     ]
    },
    {
     "name": "stderr",
     "output_type": "stream",
     "text": [
      "INFO:tensorflow:Assets written to: LSTM_train_audio/assets\n"
     ]
    },
    {
     "name": "stdout",
     "output_type": "stream",
     "text": [
      "Epoch 1/10\n",
      "1/1 [==============================] - 4s 4s/step - loss: 0.0101 - mean_absolute_error: 0.1003\n",
      "Epoch 2/10\n",
      "1/1 [==============================] - 2s 2s/step - loss: 0.0126 - mean_absolute_error: 0.1120\n",
      "Epoch 3/10\n",
      "1/1 [==============================] - 2s 2s/step - loss: 0.0042 - mean_absolute_error: 0.0649\n",
      "Epoch 4/10\n",
      "1/1 [==============================] - 2s 2s/step - loss: 3.1699e-04 - mean_absolute_error: 0.0178\n",
      "Epoch 5/10\n",
      "1/1 [==============================] - 2s 2s/step - loss: 6.4733e-04 - mean_absolute_error: 0.0254\n",
      "Epoch 6/10\n",
      "1/1 [==============================] - 2s 2s/step - loss: 0.0034 - mean_absolute_error: 0.0586\n",
      "Epoch 7/10\n",
      "1/1 [==============================] - 2s 2s/step - loss: 0.0049 - mean_absolute_error: 0.0702\n",
      "Epoch 8/10\n",
      "1/1 [==============================] - 2s 2s/step - loss: 0.0053 - mean_absolute_error: 0.0731\n",
      "Epoch 9/10\n",
      "1/1 [==============================] - 3s 3s/step - loss: 0.0041 - mean_absolute_error: 0.0640\n",
      "Epoch 10/10\n",
      "1/1 [==============================] - 2s 2s/step - loss: 0.0024 - mean_absolute_error: 0.0487\n",
      "WARNING:tensorflow:11 out of the last 11 calls to <function Model.make_test_function.<locals>.test_function at 0x7fe793023160> triggered tf.function retracing. Tracing is expensive and the excessive number of tracings could be due to (1) creating @tf.function repeatedly in a loop, (2) passing tensors with different shapes, (3) passing Python objects instead of tensors. For (1), please define your @tf.function outside of the loop. For (2), @tf.function has experimental_relax_shapes=True option that relaxes argument shapes that can avoid unnecessary retracing. For (3), please refer to https://www.tensorflow.org/guide/function#controlling_retracing and https://www.tensorflow.org/api_docs/python/tf/function for  more details.\n"
     ]
    },
    {
     "name": "stderr",
     "output_type": "stream",
     "text": [
      "WARNING:tensorflow:11 out of the last 11 calls to <function Model.make_test_function.<locals>.test_function at 0x7fe793023160> triggered tf.function retracing. Tracing is expensive and the excessive number of tracings could be due to (1) creating @tf.function repeatedly in a loop, (2) passing tensors with different shapes, (3) passing Python objects instead of tensors. For (1), please define your @tf.function outside of the loop. For (2), @tf.function has experimental_relax_shapes=True option that relaxes argument shapes that can avoid unnecessary retracing. For (3), please refer to https://www.tensorflow.org/guide/function#controlling_retracing and https://www.tensorflow.org/api_docs/python/tf/function for  more details.\n",
      "WARNING:absl:Found untraced functions such as lstm_cell_116_layer_call_and_return_conditional_losses, lstm_cell_116_layer_call_fn, lstm_cell_117_layer_call_and_return_conditional_losses, lstm_cell_117_layer_call_fn, lstm_cell_116_layer_call_fn while saving (showing 5 of 10). These functions will not be directly callable after loading.\n",
      "WARNING:absl:Found untraced functions such as lstm_cell_116_layer_call_and_return_conditional_losses, lstm_cell_116_layer_call_fn, lstm_cell_117_layer_call_and_return_conditional_losses, lstm_cell_117_layer_call_fn, lstm_cell_116_layer_call_fn while saving (showing 5 of 10). These functions will not be directly callable after loading.\n"
     ]
    },
    {
     "name": "stdout",
     "output_type": "stream",
     "text": [
      "INFO:tensorflow:Assets written to: LSTM_train_audio/assets\n"
     ]
    },
    {
     "name": "stderr",
     "output_type": "stream",
     "text": [
      "INFO:tensorflow:Assets written to: LSTM_train_audio/assets\n"
     ]
    },
    {
     "name": "stdout",
     "output_type": "stream",
     "text": [
      "Epoch 1/10\n",
      "1/1 [==============================] - 2s 2s/step - loss: 0.9316 - mean_absolute_error: 0.9652\n",
      "Epoch 2/10\n",
      "1/1 [==============================] - 1s 596ms/step - loss: 0.8364 - mean_absolute_error: 0.9146\n",
      "Epoch 3/10\n",
      "1/1 [==============================] - 0s 401ms/step - loss: 0.7433 - mean_absolute_error: 0.8622\n",
      "Epoch 4/10\n",
      "1/1 [==============================] - 0s 490ms/step - loss: 0.6478 - mean_absolute_error: 0.8048\n",
      "Epoch 5/10\n",
      "1/1 [==============================] - 0s 484ms/step - loss: 0.5527 - mean_absolute_error: 0.7434\n",
      "Epoch 6/10\n",
      "1/1 [==============================] - 1s 574ms/step - loss: 0.4577 - mean_absolute_error: 0.6765\n",
      "Epoch 7/10\n",
      "1/1 [==============================] - 1s 578ms/step - loss: 0.3643 - mean_absolute_error: 0.6035\n",
      "Epoch 8/10\n",
      "1/1 [==============================] - 1s 601ms/step - loss: 0.2748 - mean_absolute_error: 0.5242\n",
      "Epoch 9/10\n",
      "1/1 [==============================] - 1s 581ms/step - loss: 0.1973 - mean_absolute_error: 0.4442\n",
      "Epoch 10/10\n",
      "1/1 [==============================] - 0s 405ms/step - loss: 0.1346 - mean_absolute_error: 0.3669\n",
      "WARNING:tensorflow:11 out of the last 11 calls to <function Model.make_test_function.<locals>.test_function at 0x7fe78ef14e50> triggered tf.function retracing. Tracing is expensive and the excessive number of tracings could be due to (1) creating @tf.function repeatedly in a loop, (2) passing tensors with different shapes, (3) passing Python objects instead of tensors. For (1), please define your @tf.function outside of the loop. For (2), @tf.function has experimental_relax_shapes=True option that relaxes argument shapes that can avoid unnecessary retracing. For (3), please refer to https://www.tensorflow.org/guide/function#controlling_retracing and https://www.tensorflow.org/api_docs/python/tf/function for  more details.\n"
     ]
    },
    {
     "name": "stderr",
     "output_type": "stream",
     "text": [
      "WARNING:tensorflow:11 out of the last 11 calls to <function Model.make_test_function.<locals>.test_function at 0x7fe78ef14e50> triggered tf.function retracing. Tracing is expensive and the excessive number of tracings could be due to (1) creating @tf.function repeatedly in a loop, (2) passing tensors with different shapes, (3) passing Python objects instead of tensors. For (1), please define your @tf.function outside of the loop. For (2), @tf.function has experimental_relax_shapes=True option that relaxes argument shapes that can avoid unnecessary retracing. For (3), please refer to https://www.tensorflow.org/guide/function#controlling_retracing and https://www.tensorflow.org/api_docs/python/tf/function for  more details.\n",
      "WARNING:absl:Found untraced functions such as lstm_cell_118_layer_call_and_return_conditional_losses, lstm_cell_118_layer_call_fn, lstm_cell_119_layer_call_and_return_conditional_losses, lstm_cell_119_layer_call_fn, lstm_cell_118_layer_call_fn while saving (showing 5 of 10). These functions will not be directly callable after loading.\n",
      "WARNING:absl:Found untraced functions such as lstm_cell_118_layer_call_and_return_conditional_losses, lstm_cell_118_layer_call_fn, lstm_cell_119_layer_call_and_return_conditional_losses, lstm_cell_119_layer_call_fn, lstm_cell_118_layer_call_fn while saving (showing 5 of 10). These functions will not be directly callable after loading.\n"
     ]
    },
    {
     "name": "stdout",
     "output_type": "stream",
     "text": [
      "INFO:tensorflow:Assets written to: LSTM_train_audio/assets\n"
     ]
    },
    {
     "name": "stderr",
     "output_type": "stream",
     "text": [
      "INFO:tensorflow:Assets written to: LSTM_train_audio/assets\n"
     ]
    },
    {
     "name": "stdout",
     "output_type": "stream",
     "text": [
      "Epoch 1/10\n",
      "1/1 [==============================] - 2s 2s/step - loss: 1.4948 - mean_absolute_error: 1.2226\n",
      "Epoch 2/10\n",
      "1/1 [==============================] - 0s 451ms/step - loss: 1.3211 - mean_absolute_error: 1.1494\n",
      "Epoch 3/10\n",
      "1/1 [==============================] - 0s 419ms/step - loss: 1.1666 - mean_absolute_error: 1.0801\n",
      "Epoch 4/10\n",
      "1/1 [==============================] - 1s 517ms/step - loss: 1.0273 - mean_absolute_error: 1.0135\n",
      "Epoch 5/10\n",
      "1/1 [==============================] - 0s 433ms/step - loss: 0.5102 - mean_absolute_error: 0.7143\n",
      "Epoch 6/10\n",
      "1/1 [==============================] - 0s 491ms/step - loss: 0.6915 - mean_absolute_error: 0.8315\n",
      "Epoch 7/10\n",
      "1/1 [==============================] - 0s 418ms/step - loss: 0.7018 - mean_absolute_error: 0.8377\n",
      "Epoch 8/10\n",
      "1/1 [==============================] - 1s 514ms/step - loss: 0.6157 - mean_absolute_error: 0.7847\n",
      "Epoch 9/10\n",
      "1/1 [==============================] - 0s 481ms/step - loss: 0.5376 - mean_absolute_error: 0.7332\n",
      "Epoch 10/10\n",
      "1/1 [==============================] - 0s 405ms/step - loss: 0.4665 - mean_absolute_error: 0.6830\n",
      "WARNING:tensorflow:11 out of the last 11 calls to <function Model.make_test_function.<locals>.test_function at 0x7fe793023670> triggered tf.function retracing. Tracing is expensive and the excessive number of tracings could be due to (1) creating @tf.function repeatedly in a loop, (2) passing tensors with different shapes, (3) passing Python objects instead of tensors. For (1), please define your @tf.function outside of the loop. For (2), @tf.function has experimental_relax_shapes=True option that relaxes argument shapes that can avoid unnecessary retracing. For (3), please refer to https://www.tensorflow.org/guide/function#controlling_retracing and https://www.tensorflow.org/api_docs/python/tf/function for  more details.\n"
     ]
    },
    {
     "name": "stderr",
     "output_type": "stream",
     "text": [
      "WARNING:tensorflow:11 out of the last 11 calls to <function Model.make_test_function.<locals>.test_function at 0x7fe793023670> triggered tf.function retracing. Tracing is expensive and the excessive number of tracings could be due to (1) creating @tf.function repeatedly in a loop, (2) passing tensors with different shapes, (3) passing Python objects instead of tensors. For (1), please define your @tf.function outside of the loop. For (2), @tf.function has experimental_relax_shapes=True option that relaxes argument shapes that can avoid unnecessary retracing. For (3), please refer to https://www.tensorflow.org/guide/function#controlling_retracing and https://www.tensorflow.org/api_docs/python/tf/function for  more details.\n",
      "WARNING:absl:Found untraced functions such as lstm_cell_120_layer_call_and_return_conditional_losses, lstm_cell_120_layer_call_fn, lstm_cell_121_layer_call_and_return_conditional_losses, lstm_cell_121_layer_call_fn, lstm_cell_120_layer_call_fn while saving (showing 5 of 10). These functions will not be directly callable after loading.\n",
      "WARNING:absl:Found untraced functions such as lstm_cell_120_layer_call_and_return_conditional_losses, lstm_cell_120_layer_call_fn, lstm_cell_121_layer_call_and_return_conditional_losses, lstm_cell_121_layer_call_fn, lstm_cell_120_layer_call_fn while saving (showing 5 of 10). These functions will not be directly callable after loading.\n"
     ]
    },
    {
     "name": "stdout",
     "output_type": "stream",
     "text": [
      "INFO:tensorflow:Assets written to: LSTM_train_audio/assets\n"
     ]
    },
    {
     "name": "stderr",
     "output_type": "stream",
     "text": [
      "INFO:tensorflow:Assets written to: LSTM_train_audio/assets\n"
     ]
    },
    {
     "name": "stdout",
     "output_type": "stream",
     "text": [
      "Epoch 1/10\n",
      "1/1 [==============================] - 2s 2s/step - loss: 0.1602 - mean_absolute_error: 0.4002\n",
      "Epoch 2/10\n",
      "1/1 [==============================] - 1s 794ms/step - loss: 0.1520 - mean_absolute_error: 0.3899\n",
      "Epoch 3/10\n",
      "1/1 [==============================] - 1s 798ms/step - loss: 0.1153 - mean_absolute_error: 0.3395\n",
      "Epoch 4/10\n",
      "1/1 [==============================] - 1s 853ms/step - loss: 0.0851 - mean_absolute_error: 0.2918\n",
      "Epoch 5/10\n",
      "1/1 [==============================] - 1s 862ms/step - loss: 0.0598 - mean_absolute_error: 0.2446\n",
      "Epoch 6/10\n",
      "1/1 [==============================] - 1s 847ms/step - loss: 0.0542 - mean_absolute_error: 0.2329\n",
      "Epoch 7/10\n",
      "1/1 [==============================] - 1s 833ms/step - loss: 0.0240 - mean_absolute_error: 0.1550\n",
      "Epoch 8/10\n",
      "1/1 [==============================] - 1s 805ms/step - loss: 0.0128 - mean_absolute_error: 0.1132\n",
      "Epoch 9/10\n",
      "1/1 [==============================] - 1s 794ms/step - loss: 0.0054 - mean_absolute_error: 0.0734\n",
      "Epoch 10/10\n",
      "1/1 [==============================] - 1s 805ms/step - loss: 0.0013 - mean_absolute_error: 0.0357\n",
      "WARNING:tensorflow:11 out of the last 11 calls to <function Model.make_test_function.<locals>.test_function at 0x7fe793fd9700> triggered tf.function retracing. Tracing is expensive and the excessive number of tracings could be due to (1) creating @tf.function repeatedly in a loop, (2) passing tensors with different shapes, (3) passing Python objects instead of tensors. For (1), please define your @tf.function outside of the loop. For (2), @tf.function has experimental_relax_shapes=True option that relaxes argument shapes that can avoid unnecessary retracing. For (3), please refer to https://www.tensorflow.org/guide/function#controlling_retracing and https://www.tensorflow.org/api_docs/python/tf/function for  more details.\n"
     ]
    },
    {
     "name": "stderr",
     "output_type": "stream",
     "text": [
      "WARNING:tensorflow:11 out of the last 11 calls to <function Model.make_test_function.<locals>.test_function at 0x7fe793fd9700> triggered tf.function retracing. Tracing is expensive and the excessive number of tracings could be due to (1) creating @tf.function repeatedly in a loop, (2) passing tensors with different shapes, (3) passing Python objects instead of tensors. For (1), please define your @tf.function outside of the loop. For (2), @tf.function has experimental_relax_shapes=True option that relaxes argument shapes that can avoid unnecessary retracing. For (3), please refer to https://www.tensorflow.org/guide/function#controlling_retracing and https://www.tensorflow.org/api_docs/python/tf/function for  more details.\n",
      "WARNING:absl:Found untraced functions such as lstm_cell_122_layer_call_and_return_conditional_losses, lstm_cell_122_layer_call_fn, lstm_cell_123_layer_call_and_return_conditional_losses, lstm_cell_123_layer_call_fn, lstm_cell_122_layer_call_fn while saving (showing 5 of 10). These functions will not be directly callable after loading.\n",
      "WARNING:absl:Found untraced functions such as lstm_cell_122_layer_call_and_return_conditional_losses, lstm_cell_122_layer_call_fn, lstm_cell_123_layer_call_and_return_conditional_losses, lstm_cell_123_layer_call_fn, lstm_cell_122_layer_call_fn while saving (showing 5 of 10). These functions will not be directly callable after loading.\n"
     ]
    },
    {
     "name": "stdout",
     "output_type": "stream",
     "text": [
      "INFO:tensorflow:Assets written to: LSTM_train_audio/assets\n"
     ]
    },
    {
     "name": "stderr",
     "output_type": "stream",
     "text": [
      "INFO:tensorflow:Assets written to: LSTM_train_audio/assets\n"
     ]
    },
    {
     "name": "stdout",
     "output_type": "stream",
     "text": [
      "Epoch 1/10\n",
      "1/1 [==============================] - 2s 2s/step - loss: 1.3000 - mean_absolute_error: 1.1402\n",
      "Epoch 2/10\n",
      "1/1 [==============================] - 1s 705ms/step - loss: 1.2031 - mean_absolute_error: 1.0969\n",
      "Epoch 3/10\n",
      "1/1 [==============================] - 1s 847ms/step - loss: 1.0958 - mean_absolute_error: 1.0468\n",
      "Epoch 4/10\n",
      "1/1 [==============================] - 1s 813ms/step - loss: 1.0224 - mean_absolute_error: 1.0112\n",
      "Epoch 5/10\n",
      "1/1 [==============================] - 1s 572ms/step - loss: 0.9500 - mean_absolute_error: 0.9747\n",
      "Epoch 6/10\n",
      "1/1 [==============================] - 1s 699ms/step - loss: 0.8767 - mean_absolute_error: 0.9363\n",
      "Epoch 7/10\n",
      "1/1 [==============================] - 1s 571ms/step - loss: 0.8084 - mean_absolute_error: 0.8991\n",
      "Epoch 8/10\n",
      "1/1 [==============================] - 1s 690ms/step - loss: 0.7448 - mean_absolute_error: 0.8630\n",
      "Epoch 9/10\n",
      "1/1 [==============================] - 1s 707ms/step - loss: 0.6856 - mean_absolute_error: 0.8280\n",
      "Epoch 10/10\n",
      "1/1 [==============================] - 1s 598ms/step - loss: 0.6306 - mean_absolute_error: 0.7941\n",
      "WARNING:tensorflow:11 out of the last 11 calls to <function Model.make_test_function.<locals>.test_function at 0x7fe78e854670> triggered tf.function retracing. Tracing is expensive and the excessive number of tracings could be due to (1) creating @tf.function repeatedly in a loop, (2) passing tensors with different shapes, (3) passing Python objects instead of tensors. For (1), please define your @tf.function outside of the loop. For (2), @tf.function has experimental_relax_shapes=True option that relaxes argument shapes that can avoid unnecessary retracing. For (3), please refer to https://www.tensorflow.org/guide/function#controlling_retracing and https://www.tensorflow.org/api_docs/python/tf/function for  more details.\n"
     ]
    },
    {
     "name": "stderr",
     "output_type": "stream",
     "text": [
      "WARNING:tensorflow:11 out of the last 11 calls to <function Model.make_test_function.<locals>.test_function at 0x7fe78e854670> triggered tf.function retracing. Tracing is expensive and the excessive number of tracings could be due to (1) creating @tf.function repeatedly in a loop, (2) passing tensors with different shapes, (3) passing Python objects instead of tensors. For (1), please define your @tf.function outside of the loop. For (2), @tf.function has experimental_relax_shapes=True option that relaxes argument shapes that can avoid unnecessary retracing. For (3), please refer to https://www.tensorflow.org/guide/function#controlling_retracing and https://www.tensorflow.org/api_docs/python/tf/function for  more details.\n",
      "WARNING:absl:Found untraced functions such as lstm_cell_124_layer_call_and_return_conditional_losses, lstm_cell_124_layer_call_fn, lstm_cell_125_layer_call_and_return_conditional_losses, lstm_cell_125_layer_call_fn, lstm_cell_124_layer_call_fn while saving (showing 5 of 10). These functions will not be directly callable after loading.\n",
      "WARNING:absl:Found untraced functions such as lstm_cell_124_layer_call_and_return_conditional_losses, lstm_cell_124_layer_call_fn, lstm_cell_125_layer_call_and_return_conditional_losses, lstm_cell_125_layer_call_fn, lstm_cell_124_layer_call_fn while saving (showing 5 of 10). These functions will not be directly callable after loading.\n"
     ]
    },
    {
     "name": "stdout",
     "output_type": "stream",
     "text": [
      "INFO:tensorflow:Assets written to: LSTM_train_audio/assets\n"
     ]
    },
    {
     "name": "stderr",
     "output_type": "stream",
     "text": [
      "INFO:tensorflow:Assets written to: LSTM_train_audio/assets\n"
     ]
    },
    {
     "name": "stdout",
     "output_type": "stream",
     "text": [
      "Epoch 1/10\n",
      "1/1 [==============================] - 2s 2s/step - loss: 0.7808 - mean_absolute_error: 0.8836\n",
      "Epoch 2/10\n",
      "1/1 [==============================] - 0s 377ms/step - loss: 0.6903 - mean_absolute_error: 0.8308\n",
      "Epoch 3/10\n",
      "1/1 [==============================] - 0s 347ms/step - loss: 0.5458 - mean_absolute_error: 0.7388\n",
      "Epoch 4/10\n",
      "1/1 [==============================] - 0s 313ms/step - loss: 0.4346 - mean_absolute_error: 0.6592\n",
      "Epoch 5/10\n",
      "1/1 [==============================] - 0s 313ms/step - loss: 0.3954 - mean_absolute_error: 0.6288\n",
      "Epoch 6/10\n",
      "1/1 [==============================] - 0s 316ms/step - loss: 0.3122 - mean_absolute_error: 0.5587\n",
      "Epoch 7/10\n",
      "1/1 [==============================] - 0s 313ms/step - loss: 0.2590 - mean_absolute_error: 0.5089\n",
      "Epoch 8/10\n",
      "1/1 [==============================] - 0s 324ms/step - loss: 0.2105 - mean_absolute_error: 0.4588\n",
      "Epoch 9/10\n",
      "1/1 [==============================] - 0s 314ms/step - loss: 0.1632 - mean_absolute_error: 0.4040\n",
      "Epoch 10/10\n",
      "1/1 [==============================] - 0s 324ms/step - loss: 0.1217 - mean_absolute_error: 0.3489\n",
      "WARNING:tensorflow:11 out of the last 11 calls to <function Model.make_test_function.<locals>.test_function at 0x7fe6e020e040> triggered tf.function retracing. Tracing is expensive and the excessive number of tracings could be due to (1) creating @tf.function repeatedly in a loop, (2) passing tensors with different shapes, (3) passing Python objects instead of tensors. For (1), please define your @tf.function outside of the loop. For (2), @tf.function has experimental_relax_shapes=True option that relaxes argument shapes that can avoid unnecessary retracing. For (3), please refer to https://www.tensorflow.org/guide/function#controlling_retracing and https://www.tensorflow.org/api_docs/python/tf/function for  more details.\n"
     ]
    },
    {
     "name": "stderr",
     "output_type": "stream",
     "text": [
      "WARNING:tensorflow:11 out of the last 11 calls to <function Model.make_test_function.<locals>.test_function at 0x7fe6e020e040> triggered tf.function retracing. Tracing is expensive and the excessive number of tracings could be due to (1) creating @tf.function repeatedly in a loop, (2) passing tensors with different shapes, (3) passing Python objects instead of tensors. For (1), please define your @tf.function outside of the loop. For (2), @tf.function has experimental_relax_shapes=True option that relaxes argument shapes that can avoid unnecessary retracing. For (3), please refer to https://www.tensorflow.org/guide/function#controlling_retracing and https://www.tensorflow.org/api_docs/python/tf/function for  more details.\n",
      "WARNING:absl:Found untraced functions such as lstm_cell_126_layer_call_and_return_conditional_losses, lstm_cell_126_layer_call_fn, lstm_cell_127_layer_call_and_return_conditional_losses, lstm_cell_127_layer_call_fn, lstm_cell_126_layer_call_fn while saving (showing 5 of 10). These functions will not be directly callable after loading.\n",
      "WARNING:absl:Found untraced functions such as lstm_cell_126_layer_call_and_return_conditional_losses, lstm_cell_126_layer_call_fn, lstm_cell_127_layer_call_and_return_conditional_losses, lstm_cell_127_layer_call_fn, lstm_cell_126_layer_call_fn while saving (showing 5 of 10). These functions will not be directly callable after loading.\n"
     ]
    },
    {
     "name": "stdout",
     "output_type": "stream",
     "text": [
      "INFO:tensorflow:Assets written to: LSTM_train_audio/assets\n"
     ]
    },
    {
     "name": "stderr",
     "output_type": "stream",
     "text": [
      "INFO:tensorflow:Assets written to: LSTM_train_audio/assets\n"
     ]
    },
    {
     "name": "stdout",
     "output_type": "stream",
     "text": [
      "Epoch 1/10\n",
      "1/1 [==============================] - 3s 3s/step - loss: 1.1106 - mean_absolute_error: 1.0538\n",
      "Epoch 2/10\n",
      "1/1 [==============================] - 1s 1s/step - loss: 1.0087 - mean_absolute_error: 1.0044\n",
      "Epoch 3/10\n",
      "1/1 [==============================] - 1s 1s/step - loss: 0.9383 - mean_absolute_error: 0.9687\n",
      "Epoch 4/10\n",
      "1/1 [==============================] - 1s 1s/step - loss: 0.8670 - mean_absolute_error: 0.9311\n",
      "Epoch 5/10\n",
      "1/1 [==============================] - 1s 1s/step - loss: 0.8025 - mean_absolute_error: 0.8958\n",
      "Epoch 6/10\n",
      "1/1 [==============================] - 1s 1s/step - loss: 0.7421 - mean_absolute_error: 0.8615\n",
      "Epoch 7/10\n",
      "1/1 [==============================] - 1s 1s/step - loss: 0.6848 - mean_absolute_error: 0.8275\n",
      "Epoch 8/10\n",
      "1/1 [==============================] - 1s 1s/step - loss: 0.6288 - mean_absolute_error: 0.7930\n",
      "Epoch 9/10\n",
      "1/1 [==============================] - 2s 2s/step - loss: 0.5748 - mean_absolute_error: 0.7581\n",
      "Epoch 10/10\n",
      "1/1 [==============================] - 1s 1s/step - loss: 0.5219 - mean_absolute_error: 0.7224\n",
      "WARNING:tensorflow:11 out of the last 11 calls to <function Model.make_test_function.<locals>.test_function at 0x7fe793372670> triggered tf.function retracing. Tracing is expensive and the excessive number of tracings could be due to (1) creating @tf.function repeatedly in a loop, (2) passing tensors with different shapes, (3) passing Python objects instead of tensors. For (1), please define your @tf.function outside of the loop. For (2), @tf.function has experimental_relax_shapes=True option that relaxes argument shapes that can avoid unnecessary retracing. For (3), please refer to https://www.tensorflow.org/guide/function#controlling_retracing and https://www.tensorflow.org/api_docs/python/tf/function for  more details.\n"
     ]
    },
    {
     "name": "stderr",
     "output_type": "stream",
     "text": [
      "WARNING:tensorflow:11 out of the last 11 calls to <function Model.make_test_function.<locals>.test_function at 0x7fe793372670> triggered tf.function retracing. Tracing is expensive and the excessive number of tracings could be due to (1) creating @tf.function repeatedly in a loop, (2) passing tensors with different shapes, (3) passing Python objects instead of tensors. For (1), please define your @tf.function outside of the loop. For (2), @tf.function has experimental_relax_shapes=True option that relaxes argument shapes that can avoid unnecessary retracing. For (3), please refer to https://www.tensorflow.org/guide/function#controlling_retracing and https://www.tensorflow.org/api_docs/python/tf/function for  more details.\n",
      "WARNING:absl:Found untraced functions such as lstm_cell_128_layer_call_and_return_conditional_losses, lstm_cell_128_layer_call_fn, lstm_cell_129_layer_call_and_return_conditional_losses, lstm_cell_129_layer_call_fn, lstm_cell_128_layer_call_fn while saving (showing 5 of 10). These functions will not be directly callable after loading.\n",
      "WARNING:absl:Found untraced functions such as lstm_cell_128_layer_call_and_return_conditional_losses, lstm_cell_128_layer_call_fn, lstm_cell_129_layer_call_and_return_conditional_losses, lstm_cell_129_layer_call_fn, lstm_cell_128_layer_call_fn while saving (showing 5 of 10). These functions will not be directly callable after loading.\n"
     ]
    },
    {
     "name": "stdout",
     "output_type": "stream",
     "text": [
      "INFO:tensorflow:Assets written to: LSTM_train_audio/assets\n"
     ]
    },
    {
     "name": "stderr",
     "output_type": "stream",
     "text": [
      "INFO:tensorflow:Assets written to: LSTM_train_audio/assets\n"
     ]
    },
    {
     "name": "stdout",
     "output_type": "stream",
     "text": [
      "Epoch 1/10\n",
      "1/1 [==============================] - 2s 2s/step - loss: 0.8674 - mean_absolute_error: 0.9313\n",
      "Epoch 2/10\n",
      "1/1 [==============================] - 0s 375ms/step - loss: 0.7958 - mean_absolute_error: 0.8921\n",
      "Epoch 3/10\n",
      "1/1 [==============================] - 0s 398ms/step - loss: 0.7251 - mean_absolute_error: 0.8515\n",
      "Epoch 4/10\n",
      "1/1 [==============================] - 0s 355ms/step - loss: 0.6548 - mean_absolute_error: 0.8092\n",
      "Epoch 5/10\n",
      "1/1 [==============================] - 0s 426ms/step - loss: 0.5860 - mean_absolute_error: 0.7655\n",
      "Epoch 6/10\n",
      "1/1 [==============================] - 1s 503ms/step - loss: 0.5247 - mean_absolute_error: 0.7243\n",
      "Epoch 7/10\n",
      "1/1 [==============================] - 0s 358ms/step - loss: 0.4630 - mean_absolute_error: 0.6804\n",
      "Epoch 8/10\n",
      "1/1 [==============================] - 0s 437ms/step - loss: 0.4044 - mean_absolute_error: 0.6359\n",
      "Epoch 9/10\n",
      "1/1 [==============================] - 0s 356ms/step - loss: 0.3490 - mean_absolute_error: 0.5908\n",
      "Epoch 10/10\n",
      "1/1 [==============================] - 0s 430ms/step - loss: 0.2994 - mean_absolute_error: 0.5472\n",
      "WARNING:tensorflow:11 out of the last 11 calls to <function Model.make_test_function.<locals>.test_function at 0x7fe7a0417700> triggered tf.function retracing. Tracing is expensive and the excessive number of tracings could be due to (1) creating @tf.function repeatedly in a loop, (2) passing tensors with different shapes, (3) passing Python objects instead of tensors. For (1), please define your @tf.function outside of the loop. For (2), @tf.function has experimental_relax_shapes=True option that relaxes argument shapes that can avoid unnecessary retracing. For (3), please refer to https://www.tensorflow.org/guide/function#controlling_retracing and https://www.tensorflow.org/api_docs/python/tf/function for  more details.\n"
     ]
    },
    {
     "name": "stderr",
     "output_type": "stream",
     "text": [
      "WARNING:tensorflow:11 out of the last 11 calls to <function Model.make_test_function.<locals>.test_function at 0x7fe7a0417700> triggered tf.function retracing. Tracing is expensive and the excessive number of tracings could be due to (1) creating @tf.function repeatedly in a loop, (2) passing tensors with different shapes, (3) passing Python objects instead of tensors. For (1), please define your @tf.function outside of the loop. For (2), @tf.function has experimental_relax_shapes=True option that relaxes argument shapes that can avoid unnecessary retracing. For (3), please refer to https://www.tensorflow.org/guide/function#controlling_retracing and https://www.tensorflow.org/api_docs/python/tf/function for  more details.\n",
      "WARNING:absl:Found untraced functions such as lstm_cell_130_layer_call_and_return_conditional_losses, lstm_cell_130_layer_call_fn, lstm_cell_131_layer_call_and_return_conditional_losses, lstm_cell_131_layer_call_fn, lstm_cell_130_layer_call_fn while saving (showing 5 of 10). These functions will not be directly callable after loading.\n",
      "WARNING:absl:Found untraced functions such as lstm_cell_130_layer_call_and_return_conditional_losses, lstm_cell_130_layer_call_fn, lstm_cell_131_layer_call_and_return_conditional_losses, lstm_cell_131_layer_call_fn, lstm_cell_130_layer_call_fn while saving (showing 5 of 10). These functions will not be directly callable after loading.\n"
     ]
    },
    {
     "name": "stdout",
     "output_type": "stream",
     "text": [
      "INFO:tensorflow:Assets written to: LSTM_train_audio/assets\n"
     ]
    },
    {
     "name": "stderr",
     "output_type": "stream",
     "text": [
      "INFO:tensorflow:Assets written to: LSTM_train_audio/assets\n"
     ]
    },
    {
     "name": "stdout",
     "output_type": "stream",
     "text": [
      "Epoch 1/10\n",
      "1/1 [==============================] - 2s 2s/step - loss: 3.0038 - mean_absolute_error: 1.7332\n",
      "Epoch 2/10\n",
      "1/1 [==============================] - 0s 321ms/step - loss: 2.3204 - mean_absolute_error: 1.5233\n",
      "Epoch 3/10\n",
      "1/1 [==============================] - 0s 323ms/step - loss: 1.5922 - mean_absolute_error: 1.2618\n",
      "Epoch 4/10\n",
      "1/1 [==============================] - 0s 319ms/step - loss: 1.0165 - mean_absolute_error: 1.0082\n",
      "Epoch 5/10\n",
      "1/1 [==============================] - 0s 326ms/step - loss: 0.6361 - mean_absolute_error: 0.7976\n",
      "Epoch 6/10\n",
      "1/1 [==============================] - 0s 397ms/step - loss: 0.4046 - mean_absolute_error: 0.6361\n",
      "Epoch 7/10\n",
      "1/1 [==============================] - 0s 319ms/step - loss: 0.3237 - mean_absolute_error: 0.5690\n",
      "Epoch 8/10\n",
      "1/1 [==============================] - 0s 317ms/step - loss: 0.2559 - mean_absolute_error: 0.5059\n",
      "Epoch 9/10\n",
      "1/1 [==============================] - 0s 320ms/step - loss: 0.2063 - mean_absolute_error: 0.4543\n",
      "Epoch 10/10\n",
      "1/1 [==============================] - 0s 324ms/step - loss: 0.1677 - mean_absolute_error: 0.4095\n",
      "WARNING:tensorflow:11 out of the last 11 calls to <function Model.make_test_function.<locals>.test_function at 0x7fe793372790> triggered tf.function retracing. Tracing is expensive and the excessive number of tracings could be due to (1) creating @tf.function repeatedly in a loop, (2) passing tensors with different shapes, (3) passing Python objects instead of tensors. For (1), please define your @tf.function outside of the loop. For (2), @tf.function has experimental_relax_shapes=True option that relaxes argument shapes that can avoid unnecessary retracing. For (3), please refer to https://www.tensorflow.org/guide/function#controlling_retracing and https://www.tensorflow.org/api_docs/python/tf/function for  more details.\n"
     ]
    },
    {
     "name": "stderr",
     "output_type": "stream",
     "text": [
      "WARNING:tensorflow:11 out of the last 11 calls to <function Model.make_test_function.<locals>.test_function at 0x7fe793372790> triggered tf.function retracing. Tracing is expensive and the excessive number of tracings could be due to (1) creating @tf.function repeatedly in a loop, (2) passing tensors with different shapes, (3) passing Python objects instead of tensors. For (1), please define your @tf.function outside of the loop. For (2), @tf.function has experimental_relax_shapes=True option that relaxes argument shapes that can avoid unnecessary retracing. For (3), please refer to https://www.tensorflow.org/guide/function#controlling_retracing and https://www.tensorflow.org/api_docs/python/tf/function for  more details.\n",
      "WARNING:absl:Found untraced functions such as lstm_cell_132_layer_call_and_return_conditional_losses, lstm_cell_132_layer_call_fn, lstm_cell_133_layer_call_and_return_conditional_losses, lstm_cell_133_layer_call_fn, lstm_cell_132_layer_call_fn while saving (showing 5 of 10). These functions will not be directly callable after loading.\n",
      "WARNING:absl:Found untraced functions such as lstm_cell_132_layer_call_and_return_conditional_losses, lstm_cell_132_layer_call_fn, lstm_cell_133_layer_call_and_return_conditional_losses, lstm_cell_133_layer_call_fn, lstm_cell_132_layer_call_fn while saving (showing 5 of 10). These functions will not be directly callable after loading.\n"
     ]
    },
    {
     "name": "stdout",
     "output_type": "stream",
     "text": [
      "INFO:tensorflow:Assets written to: LSTM_train_audio/assets\n"
     ]
    },
    {
     "name": "stderr",
     "output_type": "stream",
     "text": [
      "INFO:tensorflow:Assets written to: LSTM_train_audio/assets\n"
     ]
    },
    {
     "name": "stdout",
     "output_type": "stream",
     "text": [
      "Epoch 1/10\n",
      "1/1 [==============================] - 4s 4s/step - loss: 1.8659 - mean_absolute_error: 1.3660\n",
      "Epoch 2/10\n",
      "1/1 [==============================] - 2s 2s/step - loss: 1.7239 - mean_absolute_error: 1.3130\n",
      "Epoch 3/10\n",
      "1/1 [==============================] - 2s 2s/step - loss: 1.5939 - mean_absolute_error: 1.2625\n",
      "Epoch 4/10\n",
      "1/1 [==============================] - 3s 3s/step - loss: 1.4741 - mean_absolute_error: 1.2141\n",
      "Epoch 5/10\n",
      "1/1 [==============================] - 2s 2s/step - loss: 1.3645 - mean_absolute_error: 1.1681\n",
      "Epoch 6/10\n",
      "1/1 [==============================] - 2s 2s/step - loss: 1.2641 - mean_absolute_error: 1.1243\n",
      "Epoch 7/10\n",
      "1/1 [==============================] - 2s 2s/step - loss: 1.1720 - mean_absolute_error: 1.0826\n",
      "Epoch 8/10\n",
      "1/1 [==============================] - 2s 2s/step - loss: 1.0256 - mean_absolute_error: 1.0127\n",
      "Epoch 9/10\n",
      "1/1 [==============================] - 2s 2s/step - loss: 1.0097 - mean_absolute_error: 1.0049\n",
      "Epoch 10/10\n",
      "1/1 [==============================] - 2s 2s/step - loss: 0.9378 - mean_absolute_error: 0.9684\n",
      "WARNING:tensorflow:11 out of the last 11 calls to <function Model.make_test_function.<locals>.test_function at 0x7fe7acc263a0> triggered tf.function retracing. Tracing is expensive and the excessive number of tracings could be due to (1) creating @tf.function repeatedly in a loop, (2) passing tensors with different shapes, (3) passing Python objects instead of tensors. For (1), please define your @tf.function outside of the loop. For (2), @tf.function has experimental_relax_shapes=True option that relaxes argument shapes that can avoid unnecessary retracing. For (3), please refer to https://www.tensorflow.org/guide/function#controlling_retracing and https://www.tensorflow.org/api_docs/python/tf/function for  more details.\n"
     ]
    },
    {
     "name": "stderr",
     "output_type": "stream",
     "text": [
      "WARNING:tensorflow:11 out of the last 11 calls to <function Model.make_test_function.<locals>.test_function at 0x7fe7acc263a0> triggered tf.function retracing. Tracing is expensive and the excessive number of tracings could be due to (1) creating @tf.function repeatedly in a loop, (2) passing tensors with different shapes, (3) passing Python objects instead of tensors. For (1), please define your @tf.function outside of the loop. For (2), @tf.function has experimental_relax_shapes=True option that relaxes argument shapes that can avoid unnecessary retracing. For (3), please refer to https://www.tensorflow.org/guide/function#controlling_retracing and https://www.tensorflow.org/api_docs/python/tf/function for  more details.\n",
      "WARNING:absl:Found untraced functions such as lstm_cell_134_layer_call_and_return_conditional_losses, lstm_cell_134_layer_call_fn, lstm_cell_135_layer_call_and_return_conditional_losses, lstm_cell_135_layer_call_fn, lstm_cell_134_layer_call_fn while saving (showing 5 of 10). These functions will not be directly callable after loading.\n",
      "WARNING:absl:Found untraced functions such as lstm_cell_134_layer_call_and_return_conditional_losses, lstm_cell_134_layer_call_fn, lstm_cell_135_layer_call_and_return_conditional_losses, lstm_cell_135_layer_call_fn, lstm_cell_134_layer_call_fn while saving (showing 5 of 10). These functions will not be directly callable after loading.\n"
     ]
    },
    {
     "name": "stdout",
     "output_type": "stream",
     "text": [
      "INFO:tensorflow:Assets written to: LSTM_train_audio/assets\n"
     ]
    },
    {
     "name": "stderr",
     "output_type": "stream",
     "text": [
      "INFO:tensorflow:Assets written to: LSTM_train_audio/assets\n"
     ]
    },
    {
     "name": "stdout",
     "output_type": "stream",
     "text": [
      "Epoch 1/10\n",
      "1/1 [==============================] - 2s 2s/step - loss: 0.0801 - mean_absolute_error: 0.2831\n",
      "Epoch 2/10\n",
      "1/1 [==============================] - 0s 328ms/step - loss: 0.0605 - mean_absolute_error: 0.2460\n",
      "Epoch 3/10\n",
      "1/1 [==============================] - 0s 401ms/step - loss: 0.0447 - mean_absolute_error: 0.2114\n",
      "Epoch 4/10\n",
      "1/1 [==============================] - 0s 400ms/step - loss: 0.0312 - mean_absolute_error: 0.1767\n",
      "Epoch 5/10\n",
      "1/1 [==============================] - 0s 402ms/step - loss: 0.0228 - mean_absolute_error: 0.1511\n",
      "Epoch 6/10\n",
      "1/1 [==============================] - 0s 401ms/step - loss: 0.0134 - mean_absolute_error: 0.1157\n",
      "Epoch 7/10\n",
      "1/1 [==============================] - 0s 400ms/step - loss: 0.0078 - mean_absolute_error: 0.0881\n",
      "Epoch 8/10\n",
      "1/1 [==============================] - 0s 329ms/step - loss: 0.0039 - mean_absolute_error: 0.0626\n",
      "Epoch 9/10\n",
      "1/1 [==============================] - 0s 406ms/step - loss: 0.0016 - mean_absolute_error: 0.0402\n",
      "Epoch 10/10\n",
      "1/1 [==============================] - 0s 346ms/step - loss: 3.2669e-04 - mean_absolute_error: 0.0181\n",
      "WARNING:tensorflow:11 out of the last 11 calls to <function Model.make_test_function.<locals>.test_function at 0x7fe7acc969d0> triggered tf.function retracing. Tracing is expensive and the excessive number of tracings could be due to (1) creating @tf.function repeatedly in a loop, (2) passing tensors with different shapes, (3) passing Python objects instead of tensors. For (1), please define your @tf.function outside of the loop. For (2), @tf.function has experimental_relax_shapes=True option that relaxes argument shapes that can avoid unnecessary retracing. For (3), please refer to https://www.tensorflow.org/guide/function#controlling_retracing and https://www.tensorflow.org/api_docs/python/tf/function for  more details.\n"
     ]
    },
    {
     "name": "stderr",
     "output_type": "stream",
     "text": [
      "WARNING:tensorflow:11 out of the last 11 calls to <function Model.make_test_function.<locals>.test_function at 0x7fe7acc969d0> triggered tf.function retracing. Tracing is expensive and the excessive number of tracings could be due to (1) creating @tf.function repeatedly in a loop, (2) passing tensors with different shapes, (3) passing Python objects instead of tensors. For (1), please define your @tf.function outside of the loop. For (2), @tf.function has experimental_relax_shapes=True option that relaxes argument shapes that can avoid unnecessary retracing. For (3), please refer to https://www.tensorflow.org/guide/function#controlling_retracing and https://www.tensorflow.org/api_docs/python/tf/function for  more details.\n",
      "WARNING:absl:Found untraced functions such as lstm_cell_136_layer_call_and_return_conditional_losses, lstm_cell_136_layer_call_fn, lstm_cell_137_layer_call_and_return_conditional_losses, lstm_cell_137_layer_call_fn, lstm_cell_136_layer_call_fn while saving (showing 5 of 10). These functions will not be directly callable after loading.\n",
      "WARNING:absl:Found untraced functions such as lstm_cell_136_layer_call_and_return_conditional_losses, lstm_cell_136_layer_call_fn, lstm_cell_137_layer_call_and_return_conditional_losses, lstm_cell_137_layer_call_fn, lstm_cell_136_layer_call_fn while saving (showing 5 of 10). These functions will not be directly callable after loading.\n"
     ]
    },
    {
     "name": "stdout",
     "output_type": "stream",
     "text": [
      "INFO:tensorflow:Assets written to: LSTM_train_audio/assets\n"
     ]
    },
    {
     "name": "stderr",
     "output_type": "stream",
     "text": [
      "INFO:tensorflow:Assets written to: LSTM_train_audio/assets\n"
     ]
    },
    {
     "name": "stdout",
     "output_type": "stream",
     "text": [
      "Epoch 1/10\n",
      "1/1 [==============================] - 3s 3s/step - loss: 0.2609 - mean_absolute_error: 0.5108\n",
      "Epoch 2/10\n",
      "1/1 [==============================] - 1s 1s/step - loss: 0.2245 - mean_absolute_error: 0.4738\n",
      "Epoch 3/10\n",
      "1/1 [==============================] - 1s 1s/step - loss: 0.2127 - mean_absolute_error: 0.4612\n",
      "Epoch 4/10\n",
      "1/1 [==============================] - 1s 895ms/step - loss: 0.1822 - mean_absolute_error: 0.4269\n",
      "Epoch 5/10\n",
      "1/1 [==============================] - 1s 1s/step - loss: 0.1611 - mean_absolute_error: 0.4013\n",
      "Epoch 6/10\n",
      "1/1 [==============================] - 1s 974ms/step - loss: 0.1409 - mean_absolute_error: 0.3754\n",
      "Epoch 7/10\n",
      "1/1 [==============================] - 1s 1s/step - loss: 0.1222 - mean_absolute_error: 0.3495\n",
      "Epoch 8/10\n",
      "1/1 [==============================] - 1s 915ms/step - loss: 0.1068 - mean_absolute_error: 0.3268\n",
      "Epoch 9/10\n",
      "1/1 [==============================] - 1s 959ms/step - loss: 0.0884 - mean_absolute_error: 0.2974\n",
      "Epoch 10/10\n",
      "1/1 [==============================] - 1s 943ms/step - loss: 0.0729 - mean_absolute_error: 0.2700\n",
      "WARNING:tensorflow:11 out of the last 11 calls to <function Model.make_test_function.<locals>.test_function at 0x7fe71a14c9d0> triggered tf.function retracing. Tracing is expensive and the excessive number of tracings could be due to (1) creating @tf.function repeatedly in a loop, (2) passing tensors with different shapes, (3) passing Python objects instead of tensors. For (1), please define your @tf.function outside of the loop. For (2), @tf.function has experimental_relax_shapes=True option that relaxes argument shapes that can avoid unnecessary retracing. For (3), please refer to https://www.tensorflow.org/guide/function#controlling_retracing and https://www.tensorflow.org/api_docs/python/tf/function for  more details.\n"
     ]
    },
    {
     "name": "stderr",
     "output_type": "stream",
     "text": [
      "WARNING:tensorflow:11 out of the last 11 calls to <function Model.make_test_function.<locals>.test_function at 0x7fe71a14c9d0> triggered tf.function retracing. Tracing is expensive and the excessive number of tracings could be due to (1) creating @tf.function repeatedly in a loop, (2) passing tensors with different shapes, (3) passing Python objects instead of tensors. For (1), please define your @tf.function outside of the loop. For (2), @tf.function has experimental_relax_shapes=True option that relaxes argument shapes that can avoid unnecessary retracing. For (3), please refer to https://www.tensorflow.org/guide/function#controlling_retracing and https://www.tensorflow.org/api_docs/python/tf/function for  more details.\n",
      "WARNING:absl:Found untraced functions such as lstm_cell_138_layer_call_and_return_conditional_losses, lstm_cell_138_layer_call_fn, lstm_cell_139_layer_call_and_return_conditional_losses, lstm_cell_139_layer_call_fn, lstm_cell_138_layer_call_fn while saving (showing 5 of 10). These functions will not be directly callable after loading.\n",
      "WARNING:absl:Found untraced functions such as lstm_cell_138_layer_call_and_return_conditional_losses, lstm_cell_138_layer_call_fn, lstm_cell_139_layer_call_and_return_conditional_losses, lstm_cell_139_layer_call_fn, lstm_cell_138_layer_call_fn while saving (showing 5 of 10). These functions will not be directly callable after loading.\n"
     ]
    },
    {
     "name": "stdout",
     "output_type": "stream",
     "text": [
      "INFO:tensorflow:Assets written to: LSTM_train_audio/assets\n"
     ]
    },
    {
     "name": "stderr",
     "output_type": "stream",
     "text": [
      "INFO:tensorflow:Assets written to: LSTM_train_audio/assets\n"
     ]
    },
    {
     "name": "stdout",
     "output_type": "stream",
     "text": [
      "Epoch 1/10\n",
      "1/1 [==============================] - 2s 2s/step - loss: 2.9925 - mean_absolute_error: 1.7299\n",
      "Epoch 2/10\n",
      "1/1 [==============================] - 1s 698ms/step - loss: 2.8870 - mean_absolute_error: 1.6991\n",
      "Epoch 3/10\n",
      "1/1 [==============================] - 1s 831ms/step - loss: 2.8050 - mean_absolute_error: 1.6748\n",
      "Epoch 4/10\n",
      "1/1 [==============================] - 1s 708ms/step - loss: 2.7180 - mean_absolute_error: 1.6486\n",
      "Epoch 5/10\n",
      "1/1 [==============================] - 1s 657ms/step - loss: 2.6351 - mean_absolute_error: 1.6233\n",
      "Epoch 6/10\n",
      "1/1 [==============================] - 1s 858ms/step - loss: 2.5558 - mean_absolute_error: 1.5987\n",
      "Epoch 7/10\n",
      "1/1 [==============================] - 1s 809ms/step - loss: 2.4879 - mean_absolute_error: 1.5773\n",
      "Epoch 8/10\n",
      "1/1 [==============================] - 1s 831ms/step - loss: 2.4058 - mean_absolute_error: 1.5510\n",
      "Epoch 9/10\n",
      "1/1 [==============================] - 1s 811ms/step - loss: 2.3340 - mean_absolute_error: 1.5277\n",
      "Epoch 10/10\n",
      "1/1 [==============================] - 1s 829ms/step - loss: 2.2636 - mean_absolute_error: 1.5045\n",
      "WARNING:tensorflow:11 out of the last 11 calls to <function Model.make_test_function.<locals>.test_function at 0x7fe7932fdca0> triggered tf.function retracing. Tracing is expensive and the excessive number of tracings could be due to (1) creating @tf.function repeatedly in a loop, (2) passing tensors with different shapes, (3) passing Python objects instead of tensors. For (1), please define your @tf.function outside of the loop. For (2), @tf.function has experimental_relax_shapes=True option that relaxes argument shapes that can avoid unnecessary retracing. For (3), please refer to https://www.tensorflow.org/guide/function#controlling_retracing and https://www.tensorflow.org/api_docs/python/tf/function for  more details.\n"
     ]
    },
    {
     "name": "stderr",
     "output_type": "stream",
     "text": [
      "WARNING:tensorflow:11 out of the last 11 calls to <function Model.make_test_function.<locals>.test_function at 0x7fe7932fdca0> triggered tf.function retracing. Tracing is expensive and the excessive number of tracings could be due to (1) creating @tf.function repeatedly in a loop, (2) passing tensors with different shapes, (3) passing Python objects instead of tensors. For (1), please define your @tf.function outside of the loop. For (2), @tf.function has experimental_relax_shapes=True option that relaxes argument shapes that can avoid unnecessary retracing. For (3), please refer to https://www.tensorflow.org/guide/function#controlling_retracing and https://www.tensorflow.org/api_docs/python/tf/function for  more details.\n",
      "WARNING:absl:Found untraced functions such as lstm_cell_140_layer_call_and_return_conditional_losses, lstm_cell_140_layer_call_fn, lstm_cell_141_layer_call_and_return_conditional_losses, lstm_cell_141_layer_call_fn, lstm_cell_140_layer_call_fn while saving (showing 5 of 10). These functions will not be directly callable after loading.\n",
      "WARNING:absl:Found untraced functions such as lstm_cell_140_layer_call_and_return_conditional_losses, lstm_cell_140_layer_call_fn, lstm_cell_141_layer_call_and_return_conditional_losses, lstm_cell_141_layer_call_fn, lstm_cell_140_layer_call_fn while saving (showing 5 of 10). These functions will not be directly callable after loading.\n"
     ]
    },
    {
     "name": "stdout",
     "output_type": "stream",
     "text": [
      "INFO:tensorflow:Assets written to: LSTM_train_audio/assets\n"
     ]
    },
    {
     "name": "stderr",
     "output_type": "stream",
     "text": [
      "INFO:tensorflow:Assets written to: LSTM_train_audio/assets\n"
     ]
    },
    {
     "name": "stdout",
     "output_type": "stream",
     "text": [
      "Epoch 1/10\n",
      "1/1 [==============================] - 2s 2s/step - loss: 0.0945 - mean_absolute_error: 0.3075\n",
      "Epoch 2/10\n",
      "1/1 [==============================] - 1s 635ms/step - loss: 0.0810 - mean_absolute_error: 0.2846\n",
      "Epoch 3/10\n",
      "1/1 [==============================] - 1s 515ms/step - loss: 0.0678 - mean_absolute_error: 0.2604\n",
      "Epoch 4/10\n",
      "1/1 [==============================] - 1s 861ms/step - loss: 0.0572 - mean_absolute_error: 0.2391\n",
      "Epoch 5/10\n",
      "1/1 [==============================] - 1s 704ms/step - loss: 0.0465 - mean_absolute_error: 0.2157\n",
      "Epoch 6/10\n",
      "1/1 [==============================] - 1s 515ms/step - loss: 0.0376 - mean_absolute_error: 0.1939\n",
      "Epoch 7/10\n",
      "1/1 [==============================] - 1s 515ms/step - loss: 0.0297 - mean_absolute_error: 0.1724\n",
      "Epoch 8/10\n",
      "1/1 [==============================] - 1s 609ms/step - loss: 0.0228 - mean_absolute_error: 0.1510\n",
      "Epoch 9/10\n",
      "1/1 [==============================] - 1s 508ms/step - loss: 0.0168 - mean_absolute_error: 0.1296\n",
      "Epoch 10/10\n",
      "1/1 [==============================] - 1s 750ms/step - loss: 0.0117 - mean_absolute_error: 0.1081\n",
      "WARNING:tensorflow:11 out of the last 11 calls to <function Model.make_test_function.<locals>.test_function at 0x7fe79365fee0> triggered tf.function retracing. Tracing is expensive and the excessive number of tracings could be due to (1) creating @tf.function repeatedly in a loop, (2) passing tensors with different shapes, (3) passing Python objects instead of tensors. For (1), please define your @tf.function outside of the loop. For (2), @tf.function has experimental_relax_shapes=True option that relaxes argument shapes that can avoid unnecessary retracing. For (3), please refer to https://www.tensorflow.org/guide/function#controlling_retracing and https://www.tensorflow.org/api_docs/python/tf/function for  more details.\n"
     ]
    },
    {
     "name": "stderr",
     "output_type": "stream",
     "text": [
      "WARNING:tensorflow:11 out of the last 11 calls to <function Model.make_test_function.<locals>.test_function at 0x7fe79365fee0> triggered tf.function retracing. Tracing is expensive and the excessive number of tracings could be due to (1) creating @tf.function repeatedly in a loop, (2) passing tensors with different shapes, (3) passing Python objects instead of tensors. For (1), please define your @tf.function outside of the loop. For (2), @tf.function has experimental_relax_shapes=True option that relaxes argument shapes that can avoid unnecessary retracing. For (3), please refer to https://www.tensorflow.org/guide/function#controlling_retracing and https://www.tensorflow.org/api_docs/python/tf/function for  more details.\n",
      "WARNING:absl:Found untraced functions such as lstm_cell_142_layer_call_and_return_conditional_losses, lstm_cell_142_layer_call_fn, lstm_cell_143_layer_call_and_return_conditional_losses, lstm_cell_143_layer_call_fn, lstm_cell_142_layer_call_fn while saving (showing 5 of 10). These functions will not be directly callable after loading.\n",
      "WARNING:absl:Found untraced functions such as lstm_cell_142_layer_call_and_return_conditional_losses, lstm_cell_142_layer_call_fn, lstm_cell_143_layer_call_and_return_conditional_losses, lstm_cell_143_layer_call_fn, lstm_cell_142_layer_call_fn while saving (showing 5 of 10). These functions will not be directly callable after loading.\n"
     ]
    },
    {
     "name": "stdout",
     "output_type": "stream",
     "text": [
      "INFO:tensorflow:Assets written to: LSTM_train_audio/assets\n"
     ]
    },
    {
     "name": "stderr",
     "output_type": "stream",
     "text": [
      "INFO:tensorflow:Assets written to: LSTM_train_audio/assets\n"
     ]
    },
    {
     "name": "stdout",
     "output_type": "stream",
     "text": [
      "Epoch 1/10\n",
      "1/1 [==============================] - 2s 2s/step - loss: 0.7472 - mean_absolute_error: 0.8644\n",
      "Epoch 2/10\n",
      "1/1 [==============================] - 1s 659ms/step - loss: 0.7064 - mean_absolute_error: 0.8405\n",
      "Epoch 3/10\n",
      "1/1 [==============================] - 1s 789ms/step - loss: 0.6676 - mean_absolute_error: 0.8171\n",
      "Epoch 4/10\n",
      "1/1 [==============================] - 1s 810ms/step - loss: 0.6307 - mean_absolute_error: 0.7942\n",
      "Epoch 5/10\n",
      "1/1 [==============================] - 1s 657ms/step - loss: 0.5957 - mean_absolute_error: 0.7718\n",
      "Epoch 6/10\n",
      "1/1 [==============================] - 1s 797ms/step - loss: 0.5623 - mean_absolute_error: 0.7498\n",
      "Epoch 7/10\n",
      "1/1 [==============================] - 1s 658ms/step - loss: 0.5303 - mean_absolute_error: 0.7282\n",
      "Epoch 8/10\n",
      "1/1 [==============================] - 1s 789ms/step - loss: 0.4997 - mean_absolute_error: 0.7069\n",
      "Epoch 9/10\n",
      "1/1 [==============================] - 1s 657ms/step - loss: 0.4701 - mean_absolute_error: 0.6857\n",
      "Epoch 10/10\n",
      "1/1 [==============================] - 1s 817ms/step - loss: 0.4414 - mean_absolute_error: 0.6644\n",
      "WARNING:tensorflow:11 out of the last 11 calls to <function Model.make_test_function.<locals>.test_function at 0x7fe730391820> triggered tf.function retracing. Tracing is expensive and the excessive number of tracings could be due to (1) creating @tf.function repeatedly in a loop, (2) passing tensors with different shapes, (3) passing Python objects instead of tensors. For (1), please define your @tf.function outside of the loop. For (2), @tf.function has experimental_relax_shapes=True option that relaxes argument shapes that can avoid unnecessary retracing. For (3), please refer to https://www.tensorflow.org/guide/function#controlling_retracing and https://www.tensorflow.org/api_docs/python/tf/function for  more details.\n"
     ]
    },
    {
     "name": "stderr",
     "output_type": "stream",
     "text": [
      "WARNING:tensorflow:11 out of the last 11 calls to <function Model.make_test_function.<locals>.test_function at 0x7fe730391820> triggered tf.function retracing. Tracing is expensive and the excessive number of tracings could be due to (1) creating @tf.function repeatedly in a loop, (2) passing tensors with different shapes, (3) passing Python objects instead of tensors. For (1), please define your @tf.function outside of the loop. For (2), @tf.function has experimental_relax_shapes=True option that relaxes argument shapes that can avoid unnecessary retracing. For (3), please refer to https://www.tensorflow.org/guide/function#controlling_retracing and https://www.tensorflow.org/api_docs/python/tf/function for  more details.\n",
      "WARNING:absl:Found untraced functions such as lstm_cell_144_layer_call_and_return_conditional_losses, lstm_cell_144_layer_call_fn, lstm_cell_145_layer_call_and_return_conditional_losses, lstm_cell_145_layer_call_fn, lstm_cell_144_layer_call_fn while saving (showing 5 of 10). These functions will not be directly callable after loading.\n",
      "WARNING:absl:Found untraced functions such as lstm_cell_144_layer_call_and_return_conditional_losses, lstm_cell_144_layer_call_fn, lstm_cell_145_layer_call_and_return_conditional_losses, lstm_cell_145_layer_call_fn, lstm_cell_144_layer_call_fn while saving (showing 5 of 10). These functions will not be directly callable after loading.\n"
     ]
    },
    {
     "name": "stdout",
     "output_type": "stream",
     "text": [
      "INFO:tensorflow:Assets written to: LSTM_train_audio/assets\n"
     ]
    },
    {
     "name": "stderr",
     "output_type": "stream",
     "text": [
      "INFO:tensorflow:Assets written to: LSTM_train_audio/assets\n"
     ]
    },
    {
     "name": "stdout",
     "output_type": "stream",
     "text": [
      "Epoch 1/10\n",
      "1/1 [==============================] - 2s 2s/step - loss: 0.7665 - mean_absolute_error: 0.8755\n",
      "Epoch 2/10\n",
      "1/1 [==============================] - 0s 384ms/step - loss: 0.7278 - mean_absolute_error: 0.8531\n",
      "Epoch 3/10\n",
      "1/1 [==============================] - 0s 447ms/step - loss: 0.6909 - mean_absolute_error: 0.8312\n",
      "Epoch 4/10\n",
      "1/1 [==============================] - 0s 414ms/step - loss: 0.6554 - mean_absolute_error: 0.8096\n",
      "Epoch 5/10\n",
      "1/1 [==============================] - 0s 310ms/step - loss: 0.6213 - mean_absolute_error: 0.7882\n",
      "Epoch 6/10\n",
      "1/1 [==============================] - 0s 336ms/step - loss: 0.5881 - mean_absolute_error: 0.7669\n",
      "Epoch 7/10\n",
      "1/1 [==============================] - 0s 324ms/step - loss: 0.5560 - mean_absolute_error: 0.7456\n",
      "Epoch 8/10\n",
      "1/1 [==============================] - 0s 309ms/step - loss: 0.5245 - mean_absolute_error: 0.7242\n",
      "Epoch 9/10\n",
      "1/1 [==============================] - 0s 458ms/step - loss: 0.4922 - mean_absolute_error: 0.7016\n",
      "Epoch 10/10\n",
      "1/1 [==============================] - 0s 304ms/step - loss: 0.4633 - mean_absolute_error: 0.6807\n",
      "WARNING:tensorflow:11 out of the last 11 calls to <function Model.make_test_function.<locals>.test_function at 0x7fe7acfecdc0> triggered tf.function retracing. Tracing is expensive and the excessive number of tracings could be due to (1) creating @tf.function repeatedly in a loop, (2) passing tensors with different shapes, (3) passing Python objects instead of tensors. For (1), please define your @tf.function outside of the loop. For (2), @tf.function has experimental_relax_shapes=True option that relaxes argument shapes that can avoid unnecessary retracing. For (3), please refer to https://www.tensorflow.org/guide/function#controlling_retracing and https://www.tensorflow.org/api_docs/python/tf/function for  more details.\n"
     ]
    },
    {
     "name": "stderr",
     "output_type": "stream",
     "text": [
      "WARNING:tensorflow:11 out of the last 11 calls to <function Model.make_test_function.<locals>.test_function at 0x7fe7acfecdc0> triggered tf.function retracing. Tracing is expensive and the excessive number of tracings could be due to (1) creating @tf.function repeatedly in a loop, (2) passing tensors with different shapes, (3) passing Python objects instead of tensors. For (1), please define your @tf.function outside of the loop. For (2), @tf.function has experimental_relax_shapes=True option that relaxes argument shapes that can avoid unnecessary retracing. For (3), please refer to https://www.tensorflow.org/guide/function#controlling_retracing and https://www.tensorflow.org/api_docs/python/tf/function for  more details.\n",
      "WARNING:absl:Found untraced functions such as lstm_cell_146_layer_call_and_return_conditional_losses, lstm_cell_146_layer_call_fn, lstm_cell_147_layer_call_and_return_conditional_losses, lstm_cell_147_layer_call_fn, lstm_cell_146_layer_call_fn while saving (showing 5 of 10). These functions will not be directly callable after loading.\n",
      "WARNING:absl:Found untraced functions such as lstm_cell_146_layer_call_and_return_conditional_losses, lstm_cell_146_layer_call_fn, lstm_cell_147_layer_call_and_return_conditional_losses, lstm_cell_147_layer_call_fn, lstm_cell_146_layer_call_fn while saving (showing 5 of 10). These functions will not be directly callable after loading.\n"
     ]
    },
    {
     "name": "stdout",
     "output_type": "stream",
     "text": [
      "INFO:tensorflow:Assets written to: LSTM_train_audio/assets\n"
     ]
    },
    {
     "name": "stderr",
     "output_type": "stream",
     "text": [
      "INFO:tensorflow:Assets written to: LSTM_train_audio/assets\n"
     ]
    },
    {
     "name": "stdout",
     "output_type": "stream",
     "text": [
      "Epoch 1/10\n",
      "1/1 [==============================] - 3s 3s/step - loss: 0.0402 - mean_absolute_error: 0.2005\n",
      "Epoch 2/10\n",
      "1/1 [==============================] - 1s 1s/step - loss: 0.0316 - mean_absolute_error: 0.1777\n",
      "Epoch 3/10\n",
      "1/1 [==============================] - 1s 1s/step - loss: 0.0242 - mean_absolute_error: 0.1555\n",
      "Epoch 4/10\n",
      "1/1 [==============================] - 1s 970ms/step - loss: 0.0179 - mean_absolute_error: 0.1339\n",
      "Epoch 5/10\n",
      "1/1 [==============================] - 1s 1s/step - loss: 0.0127 - mean_absolute_error: 0.1128\n",
      "Epoch 6/10\n",
      "1/1 [==============================] - 1s 1s/step - loss: 0.0085 - mean_absolute_error: 0.0923\n",
      "Epoch 7/10\n",
      "1/1 [==============================] - 1s 1s/step - loss: 0.0052 - mean_absolute_error: 0.0723\n",
      "Epoch 8/10\n",
      "1/1 [==============================] - 1s 962ms/step - loss: 0.0028 - mean_absolute_error: 0.0528\n",
      "Epoch 9/10\n",
      "1/1 [==============================] - 1s 1s/step - loss: 0.0011 - mean_absolute_error: 0.0339\n",
      "Epoch 10/10\n",
      "1/1 [==============================] - 1s 1s/step - loss: 2.4317e-04 - mean_absolute_error: 0.0156\n",
      "WARNING:tensorflow:11 out of the last 11 calls to <function Model.make_test_function.<locals>.test_function at 0x7fe6c878aca0> triggered tf.function retracing. Tracing is expensive and the excessive number of tracings could be due to (1) creating @tf.function repeatedly in a loop, (2) passing tensors with different shapes, (3) passing Python objects instead of tensors. For (1), please define your @tf.function outside of the loop. For (2), @tf.function has experimental_relax_shapes=True option that relaxes argument shapes that can avoid unnecessary retracing. For (3), please refer to https://www.tensorflow.org/guide/function#controlling_retracing and https://www.tensorflow.org/api_docs/python/tf/function for  more details.\n"
     ]
    },
    {
     "name": "stderr",
     "output_type": "stream",
     "text": [
      "WARNING:tensorflow:11 out of the last 11 calls to <function Model.make_test_function.<locals>.test_function at 0x7fe6c878aca0> triggered tf.function retracing. Tracing is expensive and the excessive number of tracings could be due to (1) creating @tf.function repeatedly in a loop, (2) passing tensors with different shapes, (3) passing Python objects instead of tensors. For (1), please define your @tf.function outside of the loop. For (2), @tf.function has experimental_relax_shapes=True option that relaxes argument shapes that can avoid unnecessary retracing. For (3), please refer to https://www.tensorflow.org/guide/function#controlling_retracing and https://www.tensorflow.org/api_docs/python/tf/function for  more details.\n",
      "WARNING:absl:Found untraced functions such as lstm_cell_148_layer_call_and_return_conditional_losses, lstm_cell_148_layer_call_fn, lstm_cell_149_layer_call_and_return_conditional_losses, lstm_cell_149_layer_call_fn, lstm_cell_148_layer_call_fn while saving (showing 5 of 10). These functions will not be directly callable after loading.\n",
      "WARNING:absl:Found untraced functions such as lstm_cell_148_layer_call_and_return_conditional_losses, lstm_cell_148_layer_call_fn, lstm_cell_149_layer_call_and_return_conditional_losses, lstm_cell_149_layer_call_fn, lstm_cell_148_layer_call_fn while saving (showing 5 of 10). These functions will not be directly callable after loading.\n"
     ]
    },
    {
     "name": "stdout",
     "output_type": "stream",
     "text": [
      "INFO:tensorflow:Assets written to: LSTM_train_audio/assets\n"
     ]
    },
    {
     "name": "stderr",
     "output_type": "stream",
     "text": [
      "INFO:tensorflow:Assets written to: LSTM_train_audio/assets\n"
     ]
    },
    {
     "name": "stdout",
     "output_type": "stream",
     "text": [
      "Epoch 1/10\n",
      "1/1 [==============================] - 2s 2s/step - loss: 2.3539 - mean_absolute_error: 1.5342\n",
      "Epoch 2/10\n",
      "1/1 [==============================] - 1s 501ms/step - loss: 2.2918 - mean_absolute_error: 1.5139\n",
      "Epoch 3/10\n",
      "1/1 [==============================] - 1s 632ms/step - loss: 2.2264 - mean_absolute_error: 1.4921\n",
      "Epoch 4/10\n",
      "1/1 [==============================] - 1s 523ms/step - loss: 2.1602 - mean_absolute_error: 1.4698\n",
      "Epoch 5/10\n",
      "1/1 [==============================] - 1s 840ms/step - loss: 2.0921 - mean_absolute_error: 1.4464\n",
      "Epoch 6/10\n",
      "1/1 [==============================] - 1s 601ms/step - loss: 2.0176 - mean_absolute_error: 1.4204\n",
      "Epoch 7/10\n",
      "1/1 [==============================] - 1s 616ms/step - loss: 1.9530 - mean_absolute_error: 1.3975\n",
      "Epoch 8/10\n",
      "1/1 [==============================] - 0s 497ms/step - loss: 1.8815 - mean_absolute_error: 1.3717\n",
      "Epoch 9/10\n",
      "1/1 [==============================] - 1s 609ms/step - loss: 1.8087 - mean_absolute_error: 1.3449\n",
      "Epoch 10/10\n",
      "1/1 [==============================] - 1s 608ms/step - loss: 1.7367 - mean_absolute_error: 1.3178\n",
      "WARNING:tensorflow:11 out of the last 11 calls to <function Model.make_test_function.<locals>.test_function at 0x7fe6887444c0> triggered tf.function retracing. Tracing is expensive and the excessive number of tracings could be due to (1) creating @tf.function repeatedly in a loop, (2) passing tensors with different shapes, (3) passing Python objects instead of tensors. For (1), please define your @tf.function outside of the loop. For (2), @tf.function has experimental_relax_shapes=True option that relaxes argument shapes that can avoid unnecessary retracing. For (3), please refer to https://www.tensorflow.org/guide/function#controlling_retracing and https://www.tensorflow.org/api_docs/python/tf/function for  more details.\n"
     ]
    },
    {
     "name": "stderr",
     "output_type": "stream",
     "text": [
      "WARNING:tensorflow:11 out of the last 11 calls to <function Model.make_test_function.<locals>.test_function at 0x7fe6887444c0> triggered tf.function retracing. Tracing is expensive and the excessive number of tracings could be due to (1) creating @tf.function repeatedly in a loop, (2) passing tensors with different shapes, (3) passing Python objects instead of tensors. For (1), please define your @tf.function outside of the loop. For (2), @tf.function has experimental_relax_shapes=True option that relaxes argument shapes that can avoid unnecessary retracing. For (3), please refer to https://www.tensorflow.org/guide/function#controlling_retracing and https://www.tensorflow.org/api_docs/python/tf/function for  more details.\n",
      "WARNING:absl:Found untraced functions such as lstm_cell_150_layer_call_and_return_conditional_losses, lstm_cell_150_layer_call_fn, lstm_cell_151_layer_call_and_return_conditional_losses, lstm_cell_151_layer_call_fn, lstm_cell_150_layer_call_fn while saving (showing 5 of 10). These functions will not be directly callable after loading.\n",
      "WARNING:absl:Found untraced functions such as lstm_cell_150_layer_call_and_return_conditional_losses, lstm_cell_150_layer_call_fn, lstm_cell_151_layer_call_and_return_conditional_losses, lstm_cell_151_layer_call_fn, lstm_cell_150_layer_call_fn while saving (showing 5 of 10). These functions will not be directly callable after loading.\n"
     ]
    },
    {
     "name": "stdout",
     "output_type": "stream",
     "text": [
      "INFO:tensorflow:Assets written to: LSTM_train_audio/assets\n"
     ]
    },
    {
     "name": "stderr",
     "output_type": "stream",
     "text": [
      "INFO:tensorflow:Assets written to: LSTM_train_audio/assets\n"
     ]
    },
    {
     "name": "stdout",
     "output_type": "stream",
     "text": [
      "Epoch 1/10\n",
      "1/1 [==============================] - 2s 2s/step - loss: 0.8413 - mean_absolute_error: 0.9172\n",
      "Epoch 2/10\n",
      "1/1 [==============================] - 1s 613ms/step - loss: 0.7877 - mean_absolute_error: 0.8875\n",
      "Epoch 3/10\n",
      "1/1 [==============================] - 1s 860ms/step - loss: 0.7423 - mean_absolute_error: 0.8616\n",
      "Epoch 4/10\n",
      "1/1 [==============================] - 1s 606ms/step - loss: 0.6948 - mean_absolute_error: 0.8335\n",
      "Epoch 5/10\n",
      "1/1 [==============================] - 1s 624ms/step - loss: 0.6482 - mean_absolute_error: 0.8051\n",
      "Epoch 6/10\n",
      "1/1 [==============================] - 1s 620ms/step - loss: 0.6075 - mean_absolute_error: 0.7794\n",
      "Epoch 7/10\n",
      "1/1 [==============================] - 1s 611ms/step - loss: 0.5709 - mean_absolute_error: 0.7556\n",
      "Epoch 8/10\n",
      "1/1 [==============================] - 1s 845ms/step - loss: 0.5361 - mean_absolute_error: 0.7322\n",
      "Epoch 9/10\n",
      "1/1 [==============================] - 1s 731ms/step - loss: 0.5042 - mean_absolute_error: 0.7101\n",
      "Epoch 10/10\n",
      "1/1 [==============================] - 1s 709ms/step - loss: 0.4741 - mean_absolute_error: 0.6886\n",
      "WARNING:tensorflow:11 out of the last 11 calls to <function Model.make_test_function.<locals>.test_function at 0x7fe7302ecf70> triggered tf.function retracing. Tracing is expensive and the excessive number of tracings could be due to (1) creating @tf.function repeatedly in a loop, (2) passing tensors with different shapes, (3) passing Python objects instead of tensors. For (1), please define your @tf.function outside of the loop. For (2), @tf.function has experimental_relax_shapes=True option that relaxes argument shapes that can avoid unnecessary retracing. For (3), please refer to https://www.tensorflow.org/guide/function#controlling_retracing and https://www.tensorflow.org/api_docs/python/tf/function for  more details.\n"
     ]
    },
    {
     "name": "stderr",
     "output_type": "stream",
     "text": [
      "WARNING:tensorflow:11 out of the last 11 calls to <function Model.make_test_function.<locals>.test_function at 0x7fe7302ecf70> triggered tf.function retracing. Tracing is expensive and the excessive number of tracings could be due to (1) creating @tf.function repeatedly in a loop, (2) passing tensors with different shapes, (3) passing Python objects instead of tensors. For (1), please define your @tf.function outside of the loop. For (2), @tf.function has experimental_relax_shapes=True option that relaxes argument shapes that can avoid unnecessary retracing. For (3), please refer to https://www.tensorflow.org/guide/function#controlling_retracing and https://www.tensorflow.org/api_docs/python/tf/function for  more details.\n",
      "WARNING:absl:Found untraced functions such as lstm_cell_152_layer_call_and_return_conditional_losses, lstm_cell_152_layer_call_fn, lstm_cell_153_layer_call_and_return_conditional_losses, lstm_cell_153_layer_call_fn, lstm_cell_152_layer_call_fn while saving (showing 5 of 10). These functions will not be directly callable after loading.\n",
      "WARNING:absl:Found untraced functions such as lstm_cell_152_layer_call_and_return_conditional_losses, lstm_cell_152_layer_call_fn, lstm_cell_153_layer_call_and_return_conditional_losses, lstm_cell_153_layer_call_fn, lstm_cell_152_layer_call_fn while saving (showing 5 of 10). These functions will not be directly callable after loading.\n"
     ]
    },
    {
     "name": "stdout",
     "output_type": "stream",
     "text": [
      "INFO:tensorflow:Assets written to: LSTM_train_audio/assets\n"
     ]
    },
    {
     "name": "stderr",
     "output_type": "stream",
     "text": [
      "INFO:tensorflow:Assets written to: LSTM_train_audio/assets\n"
     ]
    },
    {
     "name": "stdout",
     "output_type": "stream",
     "text": [
      "Epoch 1/10\n",
      "1/1 [==============================] - 3s 3s/step - loss: 2.6462 - mean_absolute_error: 1.6267\n",
      "Epoch 2/10\n",
      "1/1 [==============================] - 1s 1s/step - loss: 2.5781 - mean_absolute_error: 1.6057\n",
      "Epoch 3/10\n",
      "1/1 [==============================] - 1s 1s/step - loss: 2.5087 - mean_absolute_error: 1.5839\n",
      "Epoch 4/10\n",
      "1/1 [==============================] - 1s 1s/step - loss: 2.4375 - mean_absolute_error: 1.5612\n",
      "Epoch 5/10\n",
      "1/1 [==============================] - 1s 1s/step - loss: 2.3642 - mean_absolute_error: 1.5376\n",
      "Epoch 6/10\n",
      "1/1 [==============================] - 1s 1s/step - loss: 2.3218 - mean_absolute_error: 1.5237\n",
      "Epoch 7/10\n",
      "1/1 [==============================] - 1s 1s/step - loss: 2.2096 - mean_absolute_error: 1.4865\n",
      "Epoch 8/10\n",
      "1/1 [==============================] - 1s 1s/step - loss: 2.1302 - mean_absolute_error: 1.4595\n",
      "Epoch 9/10\n",
      "1/1 [==============================] - 1s 1s/step - loss: 2.0474 - mean_absolute_error: 1.4309\n",
      "Epoch 10/10\n",
      "1/1 [==============================] - 1s 1s/step - loss: 1.9633 - mean_absolute_error: 1.4012\n",
      "WARNING:tensorflow:11 out of the last 11 calls to <function Model.make_test_function.<locals>.test_function at 0x7fe793fd9940> triggered tf.function retracing. Tracing is expensive and the excessive number of tracings could be due to (1) creating @tf.function repeatedly in a loop, (2) passing tensors with different shapes, (3) passing Python objects instead of tensors. For (1), please define your @tf.function outside of the loop. For (2), @tf.function has experimental_relax_shapes=True option that relaxes argument shapes that can avoid unnecessary retracing. For (3), please refer to https://www.tensorflow.org/guide/function#controlling_retracing and https://www.tensorflow.org/api_docs/python/tf/function for  more details.\n"
     ]
    },
    {
     "name": "stderr",
     "output_type": "stream",
     "text": [
      "WARNING:tensorflow:11 out of the last 11 calls to <function Model.make_test_function.<locals>.test_function at 0x7fe793fd9940> triggered tf.function retracing. Tracing is expensive and the excessive number of tracings could be due to (1) creating @tf.function repeatedly in a loop, (2) passing tensors with different shapes, (3) passing Python objects instead of tensors. For (1), please define your @tf.function outside of the loop. For (2), @tf.function has experimental_relax_shapes=True option that relaxes argument shapes that can avoid unnecessary retracing. For (3), please refer to https://www.tensorflow.org/guide/function#controlling_retracing and https://www.tensorflow.org/api_docs/python/tf/function for  more details.\n",
      "WARNING:absl:Found untraced functions such as lstm_cell_154_layer_call_and_return_conditional_losses, lstm_cell_154_layer_call_fn, lstm_cell_155_layer_call_and_return_conditional_losses, lstm_cell_155_layer_call_fn, lstm_cell_154_layer_call_fn while saving (showing 5 of 10). These functions will not be directly callable after loading.\n",
      "WARNING:absl:Found untraced functions such as lstm_cell_154_layer_call_and_return_conditional_losses, lstm_cell_154_layer_call_fn, lstm_cell_155_layer_call_and_return_conditional_losses, lstm_cell_155_layer_call_fn, lstm_cell_154_layer_call_fn while saving (showing 5 of 10). These functions will not be directly callable after loading.\n"
     ]
    },
    {
     "name": "stdout",
     "output_type": "stream",
     "text": [
      "INFO:tensorflow:Assets written to: LSTM_train_audio/assets\n"
     ]
    },
    {
     "name": "stderr",
     "output_type": "stream",
     "text": [
      "INFO:tensorflow:Assets written to: LSTM_train_audio/assets\n"
     ]
    },
    {
     "name": "stdout",
     "output_type": "stream",
     "text": [
      "Epoch 1/10\n",
      "1/1 [==============================] - 4s 4s/step - loss: 3.7229 - mean_absolute_error: 1.9295\n",
      "Epoch 2/10\n",
      "1/1 [==============================] - 1s 1s/step - loss: 3.5731 - mean_absolute_error: 1.8903\n",
      "Epoch 3/10\n",
      "1/1 [==============================] - 1s 1s/step - loss: 3.4250 - mean_absolute_error: 1.8507\n",
      "Epoch 4/10\n",
      "1/1 [==============================] - 1s 1s/step - loss: 3.2834 - mean_absolute_error: 1.8120\n",
      "Epoch 5/10\n",
      "1/1 [==============================] - 1s 1s/step - loss: 3.1614 - mean_absolute_error: 1.7780\n",
      "Epoch 6/10\n",
      "1/1 [==============================] - 1s 1s/step - loss: 3.0477 - mean_absolute_error: 1.7458\n",
      "Epoch 7/10\n",
      "1/1 [==============================] - 1s 1s/step - loss: 2.9425 - mean_absolute_error: 1.7154\n",
      "Epoch 8/10\n",
      "1/1 [==============================] - 1s 1s/step - loss: 2.8435 - mean_absolute_error: 1.6863\n",
      "Epoch 9/10\n",
      "1/1 [==============================] - 1s 1s/step - loss: 2.7498 - mean_absolute_error: 1.6583\n",
      "Epoch 10/10\n",
      "1/1 [==============================] - 1s 1s/step - loss: 2.6558 - mean_absolute_error: 1.6297\n",
      "WARNING:tensorflow:11 out of the last 11 calls to <function Model.make_test_function.<locals>.test_function at 0x7fe7a122edc0> triggered tf.function retracing. Tracing is expensive and the excessive number of tracings could be due to (1) creating @tf.function repeatedly in a loop, (2) passing tensors with different shapes, (3) passing Python objects instead of tensors. For (1), please define your @tf.function outside of the loop. For (2), @tf.function has experimental_relax_shapes=True option that relaxes argument shapes that can avoid unnecessary retracing. For (3), please refer to https://www.tensorflow.org/guide/function#controlling_retracing and https://www.tensorflow.org/api_docs/python/tf/function for  more details.\n"
     ]
    },
    {
     "name": "stderr",
     "output_type": "stream",
     "text": [
      "WARNING:tensorflow:11 out of the last 11 calls to <function Model.make_test_function.<locals>.test_function at 0x7fe7a122edc0> triggered tf.function retracing. Tracing is expensive and the excessive number of tracings could be due to (1) creating @tf.function repeatedly in a loop, (2) passing tensors with different shapes, (3) passing Python objects instead of tensors. For (1), please define your @tf.function outside of the loop. For (2), @tf.function has experimental_relax_shapes=True option that relaxes argument shapes that can avoid unnecessary retracing. For (3), please refer to https://www.tensorflow.org/guide/function#controlling_retracing and https://www.tensorflow.org/api_docs/python/tf/function for  more details.\n",
      "WARNING:absl:Found untraced functions such as lstm_cell_156_layer_call_and_return_conditional_losses, lstm_cell_156_layer_call_fn, lstm_cell_157_layer_call_and_return_conditional_losses, lstm_cell_157_layer_call_fn, lstm_cell_156_layer_call_fn while saving (showing 5 of 10). These functions will not be directly callable after loading.\n",
      "WARNING:absl:Found untraced functions such as lstm_cell_156_layer_call_and_return_conditional_losses, lstm_cell_156_layer_call_fn, lstm_cell_157_layer_call_and_return_conditional_losses, lstm_cell_157_layer_call_fn, lstm_cell_156_layer_call_fn while saving (showing 5 of 10). These functions will not be directly callable after loading.\n"
     ]
    },
    {
     "name": "stdout",
     "output_type": "stream",
     "text": [
      "INFO:tensorflow:Assets written to: LSTM_train_audio/assets\n"
     ]
    },
    {
     "name": "stderr",
     "output_type": "stream",
     "text": [
      "INFO:tensorflow:Assets written to: LSTM_train_audio/assets\n"
     ]
    },
    {
     "name": "stdout",
     "output_type": "stream",
     "text": [
      "Epoch 1/10\n",
      "1/1 [==============================] - 3s 3s/step - loss: 2.7167 - mean_absolute_error: 1.6482\n",
      "Epoch 2/10\n",
      "1/1 [==============================] - 1s 1s/step - loss: 2.6251 - mean_absolute_error: 1.6202\n",
      "Epoch 3/10\n",
      "1/1 [==============================] - 1s 1s/step - loss: 2.5349 - mean_absolute_error: 1.5922\n",
      "Epoch 4/10\n",
      "1/1 [==============================] - 1s 1s/step - loss: 2.4455 - mean_absolute_error: 1.5638\n",
      "Epoch 5/10\n",
      "1/1 [==============================] - 2s 2s/step - loss: 2.3563 - mean_absolute_error: 1.5350\n",
      "Epoch 6/10\n",
      "1/1 [==============================] - 1s 1s/step - loss: 2.2669 - mean_absolute_error: 1.5056\n",
      "Epoch 7/10\n",
      "1/1 [==============================] - 1s 1s/step - loss: 2.1768 - mean_absolute_error: 1.4754\n",
      "Epoch 8/10\n",
      "1/1 [==============================] - 1s 1s/step - loss: 2.0856 - mean_absolute_error: 1.4442\n",
      "Epoch 9/10\n",
      "1/1 [==============================] - 1s 1s/step - loss: 1.9929 - mean_absolute_error: 1.4117\n",
      "Epoch 10/10\n",
      "1/1 [==============================] - 2s 2s/step - loss: 1.9130 - mean_absolute_error: 1.3831\n",
      "WARNING:tensorflow:11 out of the last 11 calls to <function Model.make_test_function.<locals>.test_function at 0x7fe7a0687160> triggered tf.function retracing. Tracing is expensive and the excessive number of tracings could be due to (1) creating @tf.function repeatedly in a loop, (2) passing tensors with different shapes, (3) passing Python objects instead of tensors. For (1), please define your @tf.function outside of the loop. For (2), @tf.function has experimental_relax_shapes=True option that relaxes argument shapes that can avoid unnecessary retracing. For (3), please refer to https://www.tensorflow.org/guide/function#controlling_retracing and https://www.tensorflow.org/api_docs/python/tf/function for  more details.\n"
     ]
    },
    {
     "name": "stderr",
     "output_type": "stream",
     "text": [
      "WARNING:tensorflow:11 out of the last 11 calls to <function Model.make_test_function.<locals>.test_function at 0x7fe7a0687160> triggered tf.function retracing. Tracing is expensive and the excessive number of tracings could be due to (1) creating @tf.function repeatedly in a loop, (2) passing tensors with different shapes, (3) passing Python objects instead of tensors. For (1), please define your @tf.function outside of the loop. For (2), @tf.function has experimental_relax_shapes=True option that relaxes argument shapes that can avoid unnecessary retracing. For (3), please refer to https://www.tensorflow.org/guide/function#controlling_retracing and https://www.tensorflow.org/api_docs/python/tf/function for  more details.\n",
      "WARNING:absl:Found untraced functions such as lstm_cell_158_layer_call_and_return_conditional_losses, lstm_cell_158_layer_call_fn, lstm_cell_159_layer_call_and_return_conditional_losses, lstm_cell_159_layer_call_fn, lstm_cell_158_layer_call_fn while saving (showing 5 of 10). These functions will not be directly callable after loading.\n",
      "WARNING:absl:Found untraced functions such as lstm_cell_158_layer_call_and_return_conditional_losses, lstm_cell_158_layer_call_fn, lstm_cell_159_layer_call_and_return_conditional_losses, lstm_cell_159_layer_call_fn, lstm_cell_158_layer_call_fn while saving (showing 5 of 10). These functions will not be directly callable after loading.\n"
     ]
    },
    {
     "name": "stdout",
     "output_type": "stream",
     "text": [
      "INFO:tensorflow:Assets written to: LSTM_train_audio/assets\n"
     ]
    },
    {
     "name": "stderr",
     "output_type": "stream",
     "text": [
      "INFO:tensorflow:Assets written to: LSTM_train_audio/assets\n"
     ]
    },
    {
     "name": "stdout",
     "output_type": "stream",
     "text": [
      "Epoch 1/10\n",
      "1/1 [==============================] - 3s 3s/step - loss: 2.4304 - mean_absolute_error: 1.5590\n",
      "Epoch 2/10\n",
      "1/1 [==============================] - 1s 1s/step - loss: 2.3105 - mean_absolute_error: 1.5200\n",
      "Epoch 3/10\n",
      "1/1 [==============================] - 1s 930ms/step - loss: 2.1514 - mean_absolute_error: 1.4668\n",
      "Epoch 4/10\n",
      "1/1 [==============================] - 1s 936ms/step - loss: 2.0583 - mean_absolute_error: 1.4347\n",
      "Epoch 5/10\n",
      "1/1 [==============================] - 1s 1s/step - loss: 1.9250 - mean_absolute_error: 1.3875\n",
      "Epoch 6/10\n",
      "1/1 [==============================] - 1s 1s/step - loss: 1.7815 - mean_absolute_error: 1.3347\n",
      "Epoch 7/10\n",
      "1/1 [==============================] - 1s 931ms/step - loss: 1.6418 - mean_absolute_error: 1.2813\n",
      "Epoch 8/10\n",
      "1/1 [==============================] - 1s 930ms/step - loss: 1.4908 - mean_absolute_error: 1.2210\n",
      "Epoch 9/10\n",
      "1/1 [==============================] - 1s 1s/step - loss: 1.3333 - mean_absolute_error: 1.1547\n",
      "Epoch 10/10\n",
      "1/1 [==============================] - 1s 1s/step - loss: 1.1681 - mean_absolute_error: 1.0808\n",
      "WARNING:tensorflow:11 out of the last 11 calls to <function Model.make_test_function.<locals>.test_function at 0x7fe7a061f0d0> triggered tf.function retracing. Tracing is expensive and the excessive number of tracings could be due to (1) creating @tf.function repeatedly in a loop, (2) passing tensors with different shapes, (3) passing Python objects instead of tensors. For (1), please define your @tf.function outside of the loop. For (2), @tf.function has experimental_relax_shapes=True option that relaxes argument shapes that can avoid unnecessary retracing. For (3), please refer to https://www.tensorflow.org/guide/function#controlling_retracing and https://www.tensorflow.org/api_docs/python/tf/function for  more details.\n"
     ]
    },
    {
     "name": "stderr",
     "output_type": "stream",
     "text": [
      "WARNING:tensorflow:11 out of the last 11 calls to <function Model.make_test_function.<locals>.test_function at 0x7fe7a061f0d0> triggered tf.function retracing. Tracing is expensive and the excessive number of tracings could be due to (1) creating @tf.function repeatedly in a loop, (2) passing tensors with different shapes, (3) passing Python objects instead of tensors. For (1), please define your @tf.function outside of the loop. For (2), @tf.function has experimental_relax_shapes=True option that relaxes argument shapes that can avoid unnecessary retracing. For (3), please refer to https://www.tensorflow.org/guide/function#controlling_retracing and https://www.tensorflow.org/api_docs/python/tf/function for  more details.\n",
      "WARNING:absl:Found untraced functions such as lstm_cell_160_layer_call_and_return_conditional_losses, lstm_cell_160_layer_call_fn, lstm_cell_161_layer_call_and_return_conditional_losses, lstm_cell_161_layer_call_fn, lstm_cell_160_layer_call_fn while saving (showing 5 of 10). These functions will not be directly callable after loading.\n",
      "WARNING:absl:Found untraced functions such as lstm_cell_160_layer_call_and_return_conditional_losses, lstm_cell_160_layer_call_fn, lstm_cell_161_layer_call_and_return_conditional_losses, lstm_cell_161_layer_call_fn, lstm_cell_160_layer_call_fn while saving (showing 5 of 10). These functions will not be directly callable after loading.\n"
     ]
    },
    {
     "name": "stdout",
     "output_type": "stream",
     "text": [
      "INFO:tensorflow:Assets written to: LSTM_train_audio/assets\n"
     ]
    },
    {
     "name": "stderr",
     "output_type": "stream",
     "text": [
      "INFO:tensorflow:Assets written to: LSTM_train_audio/assets\n"
     ]
    },
    {
     "name": "stdout",
     "output_type": "stream",
     "text": [
      "Epoch 1/10\n",
      "1/1 [==============================] - 4s 4s/step - loss: 0.4125 - mean_absolute_error: 0.6422\n",
      "Epoch 2/10\n",
      "1/1 [==============================] - 3s 3s/step - loss: 0.0766 - mean_absolute_error: 0.2767\n",
      "Epoch 3/10\n",
      "1/1 [==============================] - 3s 3s/step - loss: 0.0518 - mean_absolute_error: 0.2276\n",
      "Epoch 4/10\n",
      "1/1 [==============================] - 3s 3s/step - loss: 0.1080 - mean_absolute_error: 0.3287\n",
      "Epoch 5/10\n",
      "1/1 [==============================] - 3s 3s/step - loss: 0.0908 - mean_absolute_error: 0.3014\n",
      "Epoch 6/10\n",
      "1/1 [==============================] - 3s 3s/step - loss: 0.0547 - mean_absolute_error: 0.2340\n",
      "Epoch 7/10\n",
      "1/1 [==============================] - 3s 3s/step - loss: 0.0190 - mean_absolute_error: 0.1377\n",
      "Epoch 8/10\n",
      "1/1 [==============================] - 3s 3s/step - loss: 5.0618e-04 - mean_absolute_error: 0.0225\n",
      "Epoch 9/10\n",
      "1/1 [==============================] - 3s 3s/step - loss: 0.0064 - mean_absolute_error: 0.0798\n",
      "Epoch 10/10\n",
      "1/1 [==============================] - 3s 3s/step - loss: 0.0213 - mean_absolute_error: 0.1461\n",
      "WARNING:tensorflow:11 out of the last 11 calls to <function Model.make_test_function.<locals>.test_function at 0x7fe73e839670> triggered tf.function retracing. Tracing is expensive and the excessive number of tracings could be due to (1) creating @tf.function repeatedly in a loop, (2) passing tensors with different shapes, (3) passing Python objects instead of tensors. For (1), please define your @tf.function outside of the loop. For (2), @tf.function has experimental_relax_shapes=True option that relaxes argument shapes that can avoid unnecessary retracing. For (3), please refer to https://www.tensorflow.org/guide/function#controlling_retracing and https://www.tensorflow.org/api_docs/python/tf/function for  more details.\n"
     ]
    },
    {
     "name": "stderr",
     "output_type": "stream",
     "text": [
      "WARNING:tensorflow:11 out of the last 11 calls to <function Model.make_test_function.<locals>.test_function at 0x7fe73e839670> triggered tf.function retracing. Tracing is expensive and the excessive number of tracings could be due to (1) creating @tf.function repeatedly in a loop, (2) passing tensors with different shapes, (3) passing Python objects instead of tensors. For (1), please define your @tf.function outside of the loop. For (2), @tf.function has experimental_relax_shapes=True option that relaxes argument shapes that can avoid unnecessary retracing. For (3), please refer to https://www.tensorflow.org/guide/function#controlling_retracing and https://www.tensorflow.org/api_docs/python/tf/function for  more details.\n",
      "WARNING:absl:Found untraced functions such as lstm_cell_162_layer_call_and_return_conditional_losses, lstm_cell_162_layer_call_fn, lstm_cell_163_layer_call_and_return_conditional_losses, lstm_cell_163_layer_call_fn, lstm_cell_162_layer_call_fn while saving (showing 5 of 10). These functions will not be directly callable after loading.\n",
      "WARNING:absl:Found untraced functions such as lstm_cell_162_layer_call_and_return_conditional_losses, lstm_cell_162_layer_call_fn, lstm_cell_163_layer_call_and_return_conditional_losses, lstm_cell_163_layer_call_fn, lstm_cell_162_layer_call_fn while saving (showing 5 of 10). These functions will not be directly callable after loading.\n"
     ]
    },
    {
     "name": "stdout",
     "output_type": "stream",
     "text": [
      "INFO:tensorflow:Assets written to: LSTM_train_audio/assets\n"
     ]
    },
    {
     "name": "stderr",
     "output_type": "stream",
     "text": [
      "INFO:tensorflow:Assets written to: LSTM_train_audio/assets\n"
     ]
    },
    {
     "name": "stdout",
     "output_type": "stream",
     "text": [
      "Epoch 1/10\n",
      "1/1 [==============================] - 3s 3s/step - loss: 3.9453 - mean_absolute_error: 1.9863\n",
      "Epoch 2/10\n",
      "1/1 [==============================] - 1s 629ms/step - loss: 3.7353 - mean_absolute_error: 1.9327\n",
      "Epoch 3/10\n",
      "1/1 [==============================] - 1s 627ms/step - loss: 3.4331 - mean_absolute_error: 1.8529\n",
      "Epoch 4/10\n",
      "1/1 [==============================] - 1s 900ms/step - loss: 3.2270 - mean_absolute_error: 1.7964\n",
      "Epoch 5/10\n",
      "1/1 [==============================] - 1s 626ms/step - loss: 3.0346 - mean_absolute_error: 1.7420\n",
      "Epoch 6/10\n",
      "1/1 [==============================] - 1s 626ms/step - loss: 2.8821 - mean_absolute_error: 1.6977\n",
      "Epoch 7/10\n",
      "1/1 [==============================] - 1s 800ms/step - loss: 2.7417 - mean_absolute_error: 1.6558\n",
      "Epoch 8/10\n",
      "1/1 [==============================] - 1s 716ms/step - loss: 2.6072 - mean_absolute_error: 1.6147\n",
      "Epoch 9/10\n",
      "1/1 [==============================] - 1s 626ms/step - loss: 2.4889 - mean_absolute_error: 1.5776\n",
      "Epoch 10/10\n",
      "1/1 [==============================] - 1s 763ms/step - loss: 2.3812 - mean_absolute_error: 1.5431\n",
      "WARNING:tensorflow:11 out of the last 11 calls to <function Model.make_test_function.<locals>.test_function at 0x7fe7935385e0> triggered tf.function retracing. Tracing is expensive and the excessive number of tracings could be due to (1) creating @tf.function repeatedly in a loop, (2) passing tensors with different shapes, (3) passing Python objects instead of tensors. For (1), please define your @tf.function outside of the loop. For (2), @tf.function has experimental_relax_shapes=True option that relaxes argument shapes that can avoid unnecessary retracing. For (3), please refer to https://www.tensorflow.org/guide/function#controlling_retracing and https://www.tensorflow.org/api_docs/python/tf/function for  more details.\n"
     ]
    },
    {
     "name": "stderr",
     "output_type": "stream",
     "text": [
      "WARNING:tensorflow:11 out of the last 11 calls to <function Model.make_test_function.<locals>.test_function at 0x7fe7935385e0> triggered tf.function retracing. Tracing is expensive and the excessive number of tracings could be due to (1) creating @tf.function repeatedly in a loop, (2) passing tensors with different shapes, (3) passing Python objects instead of tensors. For (1), please define your @tf.function outside of the loop. For (2), @tf.function has experimental_relax_shapes=True option that relaxes argument shapes that can avoid unnecessary retracing. For (3), please refer to https://www.tensorflow.org/guide/function#controlling_retracing and https://www.tensorflow.org/api_docs/python/tf/function for  more details.\n",
      "WARNING:absl:Found untraced functions such as lstm_cell_164_layer_call_and_return_conditional_losses, lstm_cell_164_layer_call_fn, lstm_cell_165_layer_call_and_return_conditional_losses, lstm_cell_165_layer_call_fn, lstm_cell_164_layer_call_fn while saving (showing 5 of 10). These functions will not be directly callable after loading.\n",
      "WARNING:absl:Found untraced functions such as lstm_cell_164_layer_call_and_return_conditional_losses, lstm_cell_164_layer_call_fn, lstm_cell_165_layer_call_and_return_conditional_losses, lstm_cell_165_layer_call_fn, lstm_cell_164_layer_call_fn while saving (showing 5 of 10). These functions will not be directly callable after loading.\n"
     ]
    },
    {
     "name": "stdout",
     "output_type": "stream",
     "text": [
      "INFO:tensorflow:Assets written to: LSTM_train_audio/assets\n"
     ]
    },
    {
     "name": "stderr",
     "output_type": "stream",
     "text": [
      "INFO:tensorflow:Assets written to: LSTM_train_audio/assets\n"
     ]
    },
    {
     "name": "stdout",
     "output_type": "stream",
     "text": [
      "Epoch 1/10\n",
      "1/1 [==============================] - 2s 2s/step - loss: 0.0982 - mean_absolute_error: 0.3134\n",
      "Epoch 2/10\n",
      "1/1 [==============================] - 0s 424ms/step - loss: 0.0815 - mean_absolute_error: 0.2855\n",
      "Epoch 3/10\n",
      "1/1 [==============================] - 1s 524ms/step - loss: 0.0624 - mean_absolute_error: 0.2497\n",
      "Epoch 4/10\n",
      "1/1 [==============================] - 0s 424ms/step - loss: 0.0448 - mean_absolute_error: 0.2117\n",
      "Epoch 5/10\n",
      "1/1 [==============================] - 0s 430ms/step - loss: 0.0293 - mean_absolute_error: 0.1712\n",
      "Epoch 6/10\n",
      "1/1 [==============================] - 1s 517ms/step - loss: 0.0164 - mean_absolute_error: 0.1280\n",
      "Epoch 7/10\n",
      "1/1 [==============================] - 0s 429ms/step - loss: 0.0068 - mean_absolute_error: 0.0822\n",
      "Epoch 8/10\n",
      "1/1 [==============================] - 0s 424ms/step - loss: 0.0011 - mean_absolute_error: 0.0337\n",
      "Epoch 9/10\n",
      "1/1 [==============================] - 0s 425ms/step - loss: 2.5289e-04 - mean_absolute_error: 0.0159\n",
      "Epoch 10/10\n",
      "1/1 [==============================] - 1s 519ms/step - loss: 0.0039 - mean_absolute_error: 0.0622\n",
      "WARNING:tensorflow:11 out of the last 11 calls to <function Model.make_test_function.<locals>.test_function at 0x7fe7302ecd30> triggered tf.function retracing. Tracing is expensive and the excessive number of tracings could be due to (1) creating @tf.function repeatedly in a loop, (2) passing tensors with different shapes, (3) passing Python objects instead of tensors. For (1), please define your @tf.function outside of the loop. For (2), @tf.function has experimental_relax_shapes=True option that relaxes argument shapes that can avoid unnecessary retracing. For (3), please refer to https://www.tensorflow.org/guide/function#controlling_retracing and https://www.tensorflow.org/api_docs/python/tf/function for  more details.\n"
     ]
    },
    {
     "name": "stderr",
     "output_type": "stream",
     "text": [
      "WARNING:tensorflow:11 out of the last 11 calls to <function Model.make_test_function.<locals>.test_function at 0x7fe7302ecd30> triggered tf.function retracing. Tracing is expensive and the excessive number of tracings could be due to (1) creating @tf.function repeatedly in a loop, (2) passing tensors with different shapes, (3) passing Python objects instead of tensors. For (1), please define your @tf.function outside of the loop. For (2), @tf.function has experimental_relax_shapes=True option that relaxes argument shapes that can avoid unnecessary retracing. For (3), please refer to https://www.tensorflow.org/guide/function#controlling_retracing and https://www.tensorflow.org/api_docs/python/tf/function for  more details.\n",
      "WARNING:absl:Found untraced functions such as lstm_cell_166_layer_call_and_return_conditional_losses, lstm_cell_166_layer_call_fn, lstm_cell_167_layer_call_and_return_conditional_losses, lstm_cell_167_layer_call_fn, lstm_cell_166_layer_call_fn while saving (showing 5 of 10). These functions will not be directly callable after loading.\n",
      "WARNING:absl:Found untraced functions such as lstm_cell_166_layer_call_and_return_conditional_losses, lstm_cell_166_layer_call_fn, lstm_cell_167_layer_call_and_return_conditional_losses, lstm_cell_167_layer_call_fn, lstm_cell_166_layer_call_fn while saving (showing 5 of 10). These functions will not be directly callable after loading.\n"
     ]
    },
    {
     "name": "stdout",
     "output_type": "stream",
     "text": [
      "INFO:tensorflow:Assets written to: LSTM_train_audio/assets\n"
     ]
    },
    {
     "name": "stderr",
     "output_type": "stream",
     "text": [
      "INFO:tensorflow:Assets written to: LSTM_train_audio/assets\n"
     ]
    },
    {
     "name": "stdout",
     "output_type": "stream",
     "text": [
      "Epoch 1/10\n",
      "1/1 [==============================] - 2s 2s/step - loss: 0.0353 - mean_absolute_error: 0.1878\n",
      "Epoch 2/10\n",
      "1/1 [==============================] - 0s 285ms/step - loss: 0.0159 - mean_absolute_error: 0.1263\n",
      "Epoch 3/10\n",
      "1/1 [==============================] - 0s 351ms/step - loss: 0.0052 - mean_absolute_error: 0.0724\n",
      "Epoch 4/10\n",
      "1/1 [==============================] - 0s 340ms/step - loss: 7.0474e-04 - mean_absolute_error: 0.0265\n",
      "Epoch 5/10\n",
      "1/1 [==============================] - 0s 339ms/step - loss: 1.2450e-04 - mean_absolute_error: 0.0112\n",
      "Epoch 6/10\n",
      "1/1 [==============================] - 0s 282ms/step - loss: 0.0016 - mean_absolute_error: 0.0403\n",
      "Epoch 7/10\n",
      "1/1 [==============================] - 0s 282ms/step - loss: 0.0038 - mean_absolute_error: 0.0612\n",
      "Epoch 8/10\n",
      "1/1 [==============================] - 0s 346ms/step - loss: 0.0053 - mean_absolute_error: 0.0729\n",
      "Epoch 9/10\n",
      "1/1 [==============================] - 0s 282ms/step - loss: 0.0064 - mean_absolute_error: 0.0800\n",
      "Epoch 10/10\n",
      "1/1 [==============================] - 0s 282ms/step - loss: 0.0065 - mean_absolute_error: 0.0807\n",
      "WARNING:tensorflow:11 out of the last 11 calls to <function Model.make_test_function.<locals>.test_function at 0x7fe7acfec430> triggered tf.function retracing. Tracing is expensive and the excessive number of tracings could be due to (1) creating @tf.function repeatedly in a loop, (2) passing tensors with different shapes, (3) passing Python objects instead of tensors. For (1), please define your @tf.function outside of the loop. For (2), @tf.function has experimental_relax_shapes=True option that relaxes argument shapes that can avoid unnecessary retracing. For (3), please refer to https://www.tensorflow.org/guide/function#controlling_retracing and https://www.tensorflow.org/api_docs/python/tf/function for  more details.\n"
     ]
    },
    {
     "name": "stderr",
     "output_type": "stream",
     "text": [
      "WARNING:tensorflow:11 out of the last 11 calls to <function Model.make_test_function.<locals>.test_function at 0x7fe7acfec430> triggered tf.function retracing. Tracing is expensive and the excessive number of tracings could be due to (1) creating @tf.function repeatedly in a loop, (2) passing tensors with different shapes, (3) passing Python objects instead of tensors. For (1), please define your @tf.function outside of the loop. For (2), @tf.function has experimental_relax_shapes=True option that relaxes argument shapes that can avoid unnecessary retracing. For (3), please refer to https://www.tensorflow.org/guide/function#controlling_retracing and https://www.tensorflow.org/api_docs/python/tf/function for  more details.\n",
      "WARNING:absl:Found untraced functions such as lstm_cell_168_layer_call_and_return_conditional_losses, lstm_cell_168_layer_call_fn, lstm_cell_169_layer_call_and_return_conditional_losses, lstm_cell_169_layer_call_fn, lstm_cell_168_layer_call_fn while saving (showing 5 of 10). These functions will not be directly callable after loading.\n",
      "WARNING:absl:Found untraced functions such as lstm_cell_168_layer_call_and_return_conditional_losses, lstm_cell_168_layer_call_fn, lstm_cell_169_layer_call_and_return_conditional_losses, lstm_cell_169_layer_call_fn, lstm_cell_168_layer_call_fn while saving (showing 5 of 10). These functions will not be directly callable after loading.\n"
     ]
    },
    {
     "name": "stdout",
     "output_type": "stream",
     "text": [
      "INFO:tensorflow:Assets written to: LSTM_train_audio/assets\n"
     ]
    },
    {
     "name": "stderr",
     "output_type": "stream",
     "text": [
      "INFO:tensorflow:Assets written to: LSTM_train_audio/assets\n"
     ]
    },
    {
     "name": "stdout",
     "output_type": "stream",
     "text": [
      "Epoch 1/10\n",
      "1/1 [==============================] - 2s 2s/step - loss: 0.7056 - mean_absolute_error: 0.8400\n",
      "Epoch 2/10\n",
      "1/1 [==============================] - 1s 664ms/step - loss: 0.6369 - mean_absolute_error: 0.7981\n",
      "Epoch 3/10\n",
      "1/1 [==============================] - 1s 675ms/step - loss: 0.5762 - mean_absolute_error: 0.7591\n",
      "Epoch 4/10\n",
      "1/1 [==============================] - 1s 789ms/step - loss: 0.5225 - mean_absolute_error: 0.7228\n",
      "Epoch 5/10\n",
      "1/1 [==============================] - 1s 648ms/step - loss: 0.4746 - mean_absolute_error: 0.6889\n",
      "Epoch 6/10\n",
      "1/1 [==============================] - 1s 834ms/step - loss: 0.4322 - mean_absolute_error: 0.6575\n",
      "Epoch 7/10\n",
      "1/1 [==============================] - 1s 651ms/step - loss: 0.3940 - mean_absolute_error: 0.6277\n",
      "Epoch 8/10\n",
      "1/1 [==============================] - 1s 814ms/step - loss: 0.3631 - mean_absolute_error: 0.6025\n",
      "Epoch 9/10\n",
      "1/1 [==============================] - 1s 649ms/step - loss: 0.3264 - mean_absolute_error: 0.5713\n",
      "Epoch 10/10\n",
      "1/1 [==============================] - 1s 908ms/step - loss: 0.3006 - mean_absolute_error: 0.5482\n",
      "WARNING:tensorflow:11 out of the last 11 calls to <function Model.make_test_function.<locals>.test_function at 0x7fe793167ee0> triggered tf.function retracing. Tracing is expensive and the excessive number of tracings could be due to (1) creating @tf.function repeatedly in a loop, (2) passing tensors with different shapes, (3) passing Python objects instead of tensors. For (1), please define your @tf.function outside of the loop. For (2), @tf.function has experimental_relax_shapes=True option that relaxes argument shapes that can avoid unnecessary retracing. For (3), please refer to https://www.tensorflow.org/guide/function#controlling_retracing and https://www.tensorflow.org/api_docs/python/tf/function for  more details.\n"
     ]
    },
    {
     "name": "stderr",
     "output_type": "stream",
     "text": [
      "WARNING:tensorflow:11 out of the last 11 calls to <function Model.make_test_function.<locals>.test_function at 0x7fe793167ee0> triggered tf.function retracing. Tracing is expensive and the excessive number of tracings could be due to (1) creating @tf.function repeatedly in a loop, (2) passing tensors with different shapes, (3) passing Python objects instead of tensors. For (1), please define your @tf.function outside of the loop. For (2), @tf.function has experimental_relax_shapes=True option that relaxes argument shapes that can avoid unnecessary retracing. For (3), please refer to https://www.tensorflow.org/guide/function#controlling_retracing and https://www.tensorflow.org/api_docs/python/tf/function for  more details.\n",
      "WARNING:absl:Found untraced functions such as lstm_cell_170_layer_call_and_return_conditional_losses, lstm_cell_170_layer_call_fn, lstm_cell_171_layer_call_and_return_conditional_losses, lstm_cell_171_layer_call_fn, lstm_cell_170_layer_call_fn while saving (showing 5 of 10). These functions will not be directly callable after loading.\n",
      "WARNING:absl:Found untraced functions such as lstm_cell_170_layer_call_and_return_conditional_losses, lstm_cell_170_layer_call_fn, lstm_cell_171_layer_call_and_return_conditional_losses, lstm_cell_171_layer_call_fn, lstm_cell_170_layer_call_fn while saving (showing 5 of 10). These functions will not be directly callable after loading.\n"
     ]
    },
    {
     "name": "stdout",
     "output_type": "stream",
     "text": [
      "INFO:tensorflow:Assets written to: LSTM_train_audio/assets\n"
     ]
    },
    {
     "name": "stderr",
     "output_type": "stream",
     "text": [
      "INFO:tensorflow:Assets written to: LSTM_train_audio/assets\n"
     ]
    },
    {
     "name": "stdout",
     "output_type": "stream",
     "text": [
      "Epoch 1/10\n",
      "1/1 [==============================] - 2s 2s/step - loss: 0.2401 - mean_absolute_error: 0.4900\n",
      "Epoch 2/10\n",
      "1/1 [==============================] - 0s 297ms/step - loss: 0.2120 - mean_absolute_error: 0.4604\n",
      "Epoch 3/10\n",
      "1/1 [==============================] - 0s 226ms/step - loss: 0.1911 - mean_absolute_error: 0.4372\n",
      "Epoch 4/10\n",
      "1/1 [==============================] - 0s 219ms/step - loss: 0.1720 - mean_absolute_error: 0.4147\n",
      "Epoch 5/10\n",
      "1/1 [==============================] - 0s 218ms/step - loss: 0.1545 - mean_absolute_error: 0.3930\n",
      "Epoch 6/10\n",
      "1/1 [==============================] - 0s 219ms/step - loss: 0.1383 - mean_absolute_error: 0.3719\n",
      "Epoch 7/10\n",
      "1/1 [==============================] - 0s 286ms/step - loss: 0.1234 - mean_absolute_error: 0.3513\n",
      "Epoch 8/10\n",
      "1/1 [==============================] - 0s 218ms/step - loss: 0.1096 - mean_absolute_error: 0.3310\n",
      "Epoch 9/10\n",
      "1/1 [==============================] - 0s 225ms/step - loss: 0.0967 - mean_absolute_error: 0.3110\n",
      "Epoch 10/10\n",
      "1/1 [==============================] - 0s 222ms/step - loss: 0.0889 - mean_absolute_error: 0.2982\n",
      "WARNING:tensorflow:11 out of the last 11 calls to <function Model.make_test_function.<locals>.test_function at 0x7fe793023af0> triggered tf.function retracing. Tracing is expensive and the excessive number of tracings could be due to (1) creating @tf.function repeatedly in a loop, (2) passing tensors with different shapes, (3) passing Python objects instead of tensors. For (1), please define your @tf.function outside of the loop. For (2), @tf.function has experimental_relax_shapes=True option that relaxes argument shapes that can avoid unnecessary retracing. For (3), please refer to https://www.tensorflow.org/guide/function#controlling_retracing and https://www.tensorflow.org/api_docs/python/tf/function for  more details.\n"
     ]
    },
    {
     "name": "stderr",
     "output_type": "stream",
     "text": [
      "WARNING:tensorflow:11 out of the last 11 calls to <function Model.make_test_function.<locals>.test_function at 0x7fe793023af0> triggered tf.function retracing. Tracing is expensive and the excessive number of tracings could be due to (1) creating @tf.function repeatedly in a loop, (2) passing tensors with different shapes, (3) passing Python objects instead of tensors. For (1), please define your @tf.function outside of the loop. For (2), @tf.function has experimental_relax_shapes=True option that relaxes argument shapes that can avoid unnecessary retracing. For (3), please refer to https://www.tensorflow.org/guide/function#controlling_retracing and https://www.tensorflow.org/api_docs/python/tf/function for  more details.\n",
      "WARNING:absl:Found untraced functions such as lstm_cell_172_layer_call_and_return_conditional_losses, lstm_cell_172_layer_call_fn, lstm_cell_173_layer_call_and_return_conditional_losses, lstm_cell_173_layer_call_fn, lstm_cell_172_layer_call_fn while saving (showing 5 of 10). These functions will not be directly callable after loading.\n",
      "WARNING:absl:Found untraced functions such as lstm_cell_172_layer_call_and_return_conditional_losses, lstm_cell_172_layer_call_fn, lstm_cell_173_layer_call_and_return_conditional_losses, lstm_cell_173_layer_call_fn, lstm_cell_172_layer_call_fn while saving (showing 5 of 10). These functions will not be directly callable after loading.\n"
     ]
    },
    {
     "name": "stdout",
     "output_type": "stream",
     "text": [
      "INFO:tensorflow:Assets written to: LSTM_train_audio/assets\n"
     ]
    },
    {
     "name": "stderr",
     "output_type": "stream",
     "text": [
      "INFO:tensorflow:Assets written to: LSTM_train_audio/assets\n"
     ]
    },
    {
     "name": "stdout",
     "output_type": "stream",
     "text": [
      "Epoch 1/10\n",
      "1/1 [==============================] - 2s 2s/step - loss: 0.1097 - mean_absolute_error: 0.3312\n",
      "Epoch 2/10\n",
      "1/1 [==============================] - 0s 394ms/step - loss: 0.0933 - mean_absolute_error: 0.3055\n",
      "Epoch 3/10\n",
      "1/1 [==============================] - 0s 444ms/step - loss: 0.0790 - mean_absolute_error: 0.2810\n",
      "Epoch 4/10\n",
      "1/1 [==============================] - 0s 452ms/step - loss: 0.0661 - mean_absolute_error: 0.2571\n",
      "Epoch 5/10\n",
      "1/1 [==============================] - 1s 616ms/step - loss: 0.0547 - mean_absolute_error: 0.2338\n",
      "Epoch 6/10\n",
      "1/1 [==============================] - 0s 402ms/step - loss: 0.0444 - mean_absolute_error: 0.2107\n",
      "Epoch 7/10\n",
      "1/1 [==============================] - 1s 543ms/step - loss: 0.0371 - mean_absolute_error: 0.1927\n",
      "Epoch 8/10\n",
      "1/1 [==============================] - 0s 451ms/step - loss: 0.0270 - mean_absolute_error: 0.1644\n",
      "Epoch 9/10\n",
      "1/1 [==============================] - 0s 456ms/step - loss: 0.0199 - mean_absolute_error: 0.1410\n",
      "Epoch 10/10\n",
      "1/1 [==============================] - 0s 443ms/step - loss: 0.0142 - mean_absolute_error: 0.1193\n",
      "WARNING:tensorflow:11 out of the last 11 calls to <function Model.make_test_function.<locals>.test_function at 0x7fe7300580d0> triggered tf.function retracing. Tracing is expensive and the excessive number of tracings could be due to (1) creating @tf.function repeatedly in a loop, (2) passing tensors with different shapes, (3) passing Python objects instead of tensors. For (1), please define your @tf.function outside of the loop. For (2), @tf.function has experimental_relax_shapes=True option that relaxes argument shapes that can avoid unnecessary retracing. For (3), please refer to https://www.tensorflow.org/guide/function#controlling_retracing and https://www.tensorflow.org/api_docs/python/tf/function for  more details.\n"
     ]
    },
    {
     "name": "stderr",
     "output_type": "stream",
     "text": [
      "WARNING:tensorflow:11 out of the last 11 calls to <function Model.make_test_function.<locals>.test_function at 0x7fe7300580d0> triggered tf.function retracing. Tracing is expensive and the excessive number of tracings could be due to (1) creating @tf.function repeatedly in a loop, (2) passing tensors with different shapes, (3) passing Python objects instead of tensors. For (1), please define your @tf.function outside of the loop. For (2), @tf.function has experimental_relax_shapes=True option that relaxes argument shapes that can avoid unnecessary retracing. For (3), please refer to https://www.tensorflow.org/guide/function#controlling_retracing and https://www.tensorflow.org/api_docs/python/tf/function for  more details.\n",
      "WARNING:absl:Found untraced functions such as lstm_cell_174_layer_call_and_return_conditional_losses, lstm_cell_174_layer_call_fn, lstm_cell_175_layer_call_and_return_conditional_losses, lstm_cell_175_layer_call_fn, lstm_cell_174_layer_call_fn while saving (showing 5 of 10). These functions will not be directly callable after loading.\n",
      "WARNING:absl:Found untraced functions such as lstm_cell_174_layer_call_and_return_conditional_losses, lstm_cell_174_layer_call_fn, lstm_cell_175_layer_call_and_return_conditional_losses, lstm_cell_175_layer_call_fn, lstm_cell_174_layer_call_fn while saving (showing 5 of 10). These functions will not be directly callable after loading.\n"
     ]
    },
    {
     "name": "stdout",
     "output_type": "stream",
     "text": [
      "INFO:tensorflow:Assets written to: LSTM_train_audio/assets\n"
     ]
    },
    {
     "name": "stderr",
     "output_type": "stream",
     "text": [
      "INFO:tensorflow:Assets written to: LSTM_train_audio/assets\n"
     ]
    },
    {
     "name": "stdout",
     "output_type": "stream",
     "text": [
      "Epoch 1/10\n",
      "1/1 [==============================] - 3s 3s/step - loss: 0.6370 - mean_absolute_error: 0.7981\n",
      "Epoch 2/10\n",
      "1/1 [==============================] - 1s 956ms/step - loss: 0.6009 - mean_absolute_error: 0.7752\n",
      "Epoch 3/10\n",
      "1/1 [==============================] - 1s 1s/step - loss: 0.5457 - mean_absolute_error: 0.7387\n",
      "Epoch 4/10\n",
      "1/1 [==============================] - 1s 951ms/step - loss: 0.4985 - mean_absolute_error: 0.7061\n",
      "Epoch 5/10\n",
      "1/1 [==============================] - 1s 959ms/step - loss: 0.4458 - mean_absolute_error: 0.6677\n",
      "Epoch 6/10\n",
      "1/1 [==============================] - 1s 1s/step - loss: 0.4070 - mean_absolute_error: 0.6380\n",
      "Epoch 7/10\n",
      "1/1 [==============================] - 1s 1s/step - loss: 0.3620 - mean_absolute_error: 0.6016\n",
      "Epoch 8/10\n",
      "1/1 [==============================] - 1s 958ms/step - loss: 0.3164 - mean_absolute_error: 0.5625\n",
      "Epoch 9/10\n",
      "1/1 [==============================] - 1s 1s/step - loss: 0.2735 - mean_absolute_error: 0.5230\n",
      "Epoch 10/10\n",
      "1/1 [==============================] - 1s 1s/step - loss: 0.2282 - mean_absolute_error: 0.4777\n",
      "WARNING:tensorflow:11 out of the last 11 calls to <function Model.make_test_function.<locals>.test_function at 0x7fe7ac913670> triggered tf.function retracing. Tracing is expensive and the excessive number of tracings could be due to (1) creating @tf.function repeatedly in a loop, (2) passing tensors with different shapes, (3) passing Python objects instead of tensors. For (1), please define your @tf.function outside of the loop. For (2), @tf.function has experimental_relax_shapes=True option that relaxes argument shapes that can avoid unnecessary retracing. For (3), please refer to https://www.tensorflow.org/guide/function#controlling_retracing and https://www.tensorflow.org/api_docs/python/tf/function for  more details.\n"
     ]
    },
    {
     "name": "stderr",
     "output_type": "stream",
     "text": [
      "WARNING:tensorflow:11 out of the last 11 calls to <function Model.make_test_function.<locals>.test_function at 0x7fe7ac913670> triggered tf.function retracing. Tracing is expensive and the excessive number of tracings could be due to (1) creating @tf.function repeatedly in a loop, (2) passing tensors with different shapes, (3) passing Python objects instead of tensors. For (1), please define your @tf.function outside of the loop. For (2), @tf.function has experimental_relax_shapes=True option that relaxes argument shapes that can avoid unnecessary retracing. For (3), please refer to https://www.tensorflow.org/guide/function#controlling_retracing and https://www.tensorflow.org/api_docs/python/tf/function for  more details.\n",
      "WARNING:absl:Found untraced functions such as lstm_cell_176_layer_call_and_return_conditional_losses, lstm_cell_176_layer_call_fn, lstm_cell_177_layer_call_and_return_conditional_losses, lstm_cell_177_layer_call_fn, lstm_cell_176_layer_call_fn while saving (showing 5 of 10). These functions will not be directly callable after loading.\n",
      "WARNING:absl:Found untraced functions such as lstm_cell_176_layer_call_and_return_conditional_losses, lstm_cell_176_layer_call_fn, lstm_cell_177_layer_call_and_return_conditional_losses, lstm_cell_177_layer_call_fn, lstm_cell_176_layer_call_fn while saving (showing 5 of 10). These functions will not be directly callable after loading.\n"
     ]
    },
    {
     "name": "stdout",
     "output_type": "stream",
     "text": [
      "INFO:tensorflow:Assets written to: LSTM_train_audio/assets\n"
     ]
    },
    {
     "name": "stderr",
     "output_type": "stream",
     "text": [
      "INFO:tensorflow:Assets written to: LSTM_train_audio/assets\n"
     ]
    },
    {
     "name": "stdout",
     "output_type": "stream",
     "text": [
      "Epoch 1/10\n",
      "1/1 [==============================] - 2s 2s/step - loss: 0.4664 - mean_absolute_error: 0.6829\n",
      "Epoch 2/10\n",
      "1/1 [==============================] - 1s 744ms/step - loss: 0.4021 - mean_absolute_error: 0.6341\n",
      "Epoch 3/10\n",
      "1/1 [==============================] - 1s 748ms/step - loss: 0.3377 - mean_absolute_error: 0.5811\n",
      "Epoch 4/10\n",
      "1/1 [==============================] - 1s 748ms/step - loss: 0.2738 - mean_absolute_error: 0.5233\n",
      "Epoch 5/10\n",
      "1/1 [==============================] - 1s 910ms/step - loss: 0.2114 - mean_absolute_error: 0.4598\n",
      "Epoch 6/10\n",
      "1/1 [==============================] - 1s 738ms/step - loss: 0.1501 - mean_absolute_error: 0.3874\n",
      "Epoch 7/10\n",
      "1/1 [==============================] - 1s 744ms/step - loss: 0.1202 - mean_absolute_error: 0.3468\n",
      "Epoch 8/10\n",
      "1/1 [==============================] - 1s 735ms/step - loss: 0.0512 - mean_absolute_error: 0.2263\n",
      "Epoch 9/10\n",
      "1/1 [==============================] - 1s 747ms/step - loss: 0.0057 - mean_absolute_error: 0.0755\n",
      "Epoch 10/10\n",
      "1/1 [==============================] - 1s 745ms/step - loss: 0.0014 - mean_absolute_error: 0.0378\n",
      "WARNING:tensorflow:11 out of the last 11 calls to <function Model.make_test_function.<locals>.test_function at 0x7fe73063e5e0> triggered tf.function retracing. Tracing is expensive and the excessive number of tracings could be due to (1) creating @tf.function repeatedly in a loop, (2) passing tensors with different shapes, (3) passing Python objects instead of tensors. For (1), please define your @tf.function outside of the loop. For (2), @tf.function has experimental_relax_shapes=True option that relaxes argument shapes that can avoid unnecessary retracing. For (3), please refer to https://www.tensorflow.org/guide/function#controlling_retracing and https://www.tensorflow.org/api_docs/python/tf/function for  more details.\n"
     ]
    },
    {
     "name": "stderr",
     "output_type": "stream",
     "text": [
      "WARNING:tensorflow:11 out of the last 11 calls to <function Model.make_test_function.<locals>.test_function at 0x7fe73063e5e0> triggered tf.function retracing. Tracing is expensive and the excessive number of tracings could be due to (1) creating @tf.function repeatedly in a loop, (2) passing tensors with different shapes, (3) passing Python objects instead of tensors. For (1), please define your @tf.function outside of the loop. For (2), @tf.function has experimental_relax_shapes=True option that relaxes argument shapes that can avoid unnecessary retracing. For (3), please refer to https://www.tensorflow.org/guide/function#controlling_retracing and https://www.tensorflow.org/api_docs/python/tf/function for  more details.\n",
      "WARNING:absl:Found untraced functions such as lstm_cell_178_layer_call_and_return_conditional_losses, lstm_cell_178_layer_call_fn, lstm_cell_179_layer_call_and_return_conditional_losses, lstm_cell_179_layer_call_fn, lstm_cell_178_layer_call_fn while saving (showing 5 of 10). These functions will not be directly callable after loading.\n",
      "WARNING:absl:Found untraced functions such as lstm_cell_178_layer_call_and_return_conditional_losses, lstm_cell_178_layer_call_fn, lstm_cell_179_layer_call_and_return_conditional_losses, lstm_cell_179_layer_call_fn, lstm_cell_178_layer_call_fn while saving (showing 5 of 10). These functions will not be directly callable after loading.\n"
     ]
    },
    {
     "name": "stdout",
     "output_type": "stream",
     "text": [
      "INFO:tensorflow:Assets written to: LSTM_train_audio/assets\n"
     ]
    },
    {
     "name": "stderr",
     "output_type": "stream",
     "text": [
      "INFO:tensorflow:Assets written to: LSTM_train_audio/assets\n"
     ]
    },
    {
     "name": "stdout",
     "output_type": "stream",
     "text": [
      "Epoch 1/10\n",
      "1/1 [==============================] - 2s 2s/step - loss: 0.0194 - mean_absolute_error: 0.1393\n",
      "Epoch 2/10\n",
      "1/1 [==============================] - 0s 253ms/step - loss: 0.0012 - mean_absolute_error: 0.0348\n",
      "Epoch 3/10\n",
      "1/1 [==============================] - 0s 247ms/step - loss: 0.0018 - mean_absolute_error: 0.0424\n",
      "Epoch 4/10\n",
      "1/1 [==============================] - 0s 249ms/step - loss: 0.0064 - mean_absolute_error: 0.0797\n",
      "Epoch 5/10\n",
      "1/1 [==============================] - 0s 297ms/step - loss: 0.0080 - mean_absolute_error: 0.0896\n",
      "Epoch 6/10\n",
      "1/1 [==============================] - 0s 248ms/step - loss: 0.0052 - mean_absolute_error: 0.0724\n",
      "Epoch 7/10\n",
      "1/1 [==============================] - 0s 354ms/step - loss: 0.0026 - mean_absolute_error: 0.0514\n",
      "Epoch 8/10\n",
      "1/1 [==============================] - 0s 247ms/step - loss: 4.1065e-04 - mean_absolute_error: 0.0203\n",
      "Epoch 9/10\n",
      "1/1 [==============================] - 0s 308ms/step - loss: 1.2584e-04 - mean_absolute_error: 0.0112\n",
      "Epoch 10/10\n",
      "1/1 [==============================] - 0s 247ms/step - loss: 0.0014 - mean_absolute_error: 0.0373\n",
      "WARNING:tensorflow:11 out of the last 11 calls to <function Model.make_test_function.<locals>.test_function at 0x7fe7acb1f9d0> triggered tf.function retracing. Tracing is expensive and the excessive number of tracings could be due to (1) creating @tf.function repeatedly in a loop, (2) passing tensors with different shapes, (3) passing Python objects instead of tensors. For (1), please define your @tf.function outside of the loop. For (2), @tf.function has experimental_relax_shapes=True option that relaxes argument shapes that can avoid unnecessary retracing. For (3), please refer to https://www.tensorflow.org/guide/function#controlling_retracing and https://www.tensorflow.org/api_docs/python/tf/function for  more details.\n"
     ]
    },
    {
     "name": "stderr",
     "output_type": "stream",
     "text": [
      "WARNING:tensorflow:11 out of the last 11 calls to <function Model.make_test_function.<locals>.test_function at 0x7fe7acb1f9d0> triggered tf.function retracing. Tracing is expensive and the excessive number of tracings could be due to (1) creating @tf.function repeatedly in a loop, (2) passing tensors with different shapes, (3) passing Python objects instead of tensors. For (1), please define your @tf.function outside of the loop. For (2), @tf.function has experimental_relax_shapes=True option that relaxes argument shapes that can avoid unnecessary retracing. For (3), please refer to https://www.tensorflow.org/guide/function#controlling_retracing and https://www.tensorflow.org/api_docs/python/tf/function for  more details.\n",
      "WARNING:absl:Found untraced functions such as lstm_cell_180_layer_call_and_return_conditional_losses, lstm_cell_180_layer_call_fn, lstm_cell_181_layer_call_and_return_conditional_losses, lstm_cell_181_layer_call_fn, lstm_cell_180_layer_call_fn while saving (showing 5 of 10). These functions will not be directly callable after loading.\n",
      "WARNING:absl:Found untraced functions such as lstm_cell_180_layer_call_and_return_conditional_losses, lstm_cell_180_layer_call_fn, lstm_cell_181_layer_call_and_return_conditional_losses, lstm_cell_181_layer_call_fn, lstm_cell_180_layer_call_fn while saving (showing 5 of 10). These functions will not be directly callable after loading.\n"
     ]
    },
    {
     "name": "stdout",
     "output_type": "stream",
     "text": [
      "INFO:tensorflow:Assets written to: LSTM_train_audio/assets\n"
     ]
    },
    {
     "name": "stderr",
     "output_type": "stream",
     "text": [
      "INFO:tensorflow:Assets written to: LSTM_train_audio/assets\n"
     ]
    },
    {
     "name": "stdout",
     "output_type": "stream",
     "text": [
      "Epoch 1/10\n",
      "1/1 [==============================] - 2s 2s/step - loss: 6.6074 - mean_absolute_error: 2.5705\n",
      "Epoch 2/10\n",
      "1/1 [==============================] - 0s 237ms/step - loss: 6.1668 - mean_absolute_error: 2.4833\n",
      "Epoch 3/10\n",
      "1/1 [==============================] - 0s 271ms/step - loss: 5.6937 - mean_absolute_error: 2.3861\n",
      "Epoch 4/10\n",
      "1/1 [==============================] - 0s 238ms/step - loss: 5.7856 - mean_absolute_error: 2.4053\n",
      "Epoch 5/10\n",
      "1/1 [==============================] - 0s 345ms/step - loss: 4.8920 - mean_absolute_error: 2.2118\n",
      "Epoch 6/10\n",
      "1/1 [==============================] - 0s 238ms/step - loss: 4.7064 - mean_absolute_error: 2.1694\n",
      "Epoch 7/10\n",
      "1/1 [==============================] - 0s 236ms/step - loss: 4.4518 - mean_absolute_error: 2.1099\n",
      "Epoch 8/10\n",
      "1/1 [==============================] - 0s 398ms/step - loss: 4.2622 - mean_absolute_error: 2.0645\n",
      "Epoch 9/10\n",
      "1/1 [==============================] - 0s 236ms/step - loss: 4.0200 - mean_absolute_error: 2.0050\n",
      "Epoch 10/10\n",
      "1/1 [==============================] - 0s 238ms/step - loss: 3.8339 - mean_absolute_error: 1.9580\n",
      "WARNING:tensorflow:11 out of the last 11 calls to <function Model.make_test_function.<locals>.test_function at 0x7fe7932fde50> triggered tf.function retracing. Tracing is expensive and the excessive number of tracings could be due to (1) creating @tf.function repeatedly in a loop, (2) passing tensors with different shapes, (3) passing Python objects instead of tensors. For (1), please define your @tf.function outside of the loop. For (2), @tf.function has experimental_relax_shapes=True option that relaxes argument shapes that can avoid unnecessary retracing. For (3), please refer to https://www.tensorflow.org/guide/function#controlling_retracing and https://www.tensorflow.org/api_docs/python/tf/function for  more details.\n"
     ]
    },
    {
     "name": "stderr",
     "output_type": "stream",
     "text": [
      "WARNING:tensorflow:11 out of the last 11 calls to <function Model.make_test_function.<locals>.test_function at 0x7fe7932fde50> triggered tf.function retracing. Tracing is expensive and the excessive number of tracings could be due to (1) creating @tf.function repeatedly in a loop, (2) passing tensors with different shapes, (3) passing Python objects instead of tensors. For (1), please define your @tf.function outside of the loop. For (2), @tf.function has experimental_relax_shapes=True option that relaxes argument shapes that can avoid unnecessary retracing. For (3), please refer to https://www.tensorflow.org/guide/function#controlling_retracing and https://www.tensorflow.org/api_docs/python/tf/function for  more details.\n",
      "WARNING:absl:Found untraced functions such as lstm_cell_182_layer_call_and_return_conditional_losses, lstm_cell_182_layer_call_fn, lstm_cell_183_layer_call_and_return_conditional_losses, lstm_cell_183_layer_call_fn, lstm_cell_182_layer_call_fn while saving (showing 5 of 10). These functions will not be directly callable after loading.\n",
      "WARNING:absl:Found untraced functions such as lstm_cell_182_layer_call_and_return_conditional_losses, lstm_cell_182_layer_call_fn, lstm_cell_183_layer_call_and_return_conditional_losses, lstm_cell_183_layer_call_fn, lstm_cell_182_layer_call_fn while saving (showing 5 of 10). These functions will not be directly callable after loading.\n"
     ]
    },
    {
     "name": "stdout",
     "output_type": "stream",
     "text": [
      "INFO:tensorflow:Assets written to: LSTM_train_audio/assets\n"
     ]
    },
    {
     "name": "stderr",
     "output_type": "stream",
     "text": [
      "INFO:tensorflow:Assets written to: LSTM_train_audio/assets\n"
     ]
    },
    {
     "name": "stdout",
     "output_type": "stream",
     "text": [
      "Epoch 1/10\n",
      "1/1 [==============================] - 4s 4s/step - loss: 4.1088 - mean_absolute_error: 2.0270\n",
      "Epoch 2/10\n",
      "1/1 [==============================] - 2s 2s/step - loss: 3.9291 - mean_absolute_error: 1.9822\n",
      "Epoch 3/10\n",
      "1/1 [==============================] - 2s 2s/step - loss: 3.7680 - mean_absolute_error: 1.9411\n",
      "Epoch 4/10\n",
      "1/1 [==============================] - 3s 3s/step - loss: 3.6160 - mean_absolute_error: 1.9016\n",
      "Epoch 5/10\n",
      "1/1 [==============================] - 2s 2s/step - loss: 3.7546 - mean_absolute_error: 1.9377\n",
      "Epoch 6/10\n",
      "1/1 [==============================] - 2s 2s/step - loss: 3.3574 - mean_absolute_error: 1.8323\n",
      "Epoch 7/10\n",
      "1/1 [==============================] - 2s 2s/step - loss: 3.2430 - mean_absolute_error: 1.8008\n",
      "Epoch 8/10\n",
      "1/1 [==============================] - 2s 2s/step - loss: 3.1328 - mean_absolute_error: 1.7700\n",
      "Epoch 9/10\n",
      "1/1 [==============================] - 2s 2s/step - loss: 3.0388 - mean_absolute_error: 1.7432\n",
      "Epoch 10/10\n",
      "1/1 [==============================] - 2s 2s/step - loss: 2.9473 - mean_absolute_error: 1.7168\n",
      "WARNING:tensorflow:11 out of the last 11 calls to <function Model.make_test_function.<locals>.test_function at 0x7fe6c83eab80> triggered tf.function retracing. Tracing is expensive and the excessive number of tracings could be due to (1) creating @tf.function repeatedly in a loop, (2) passing tensors with different shapes, (3) passing Python objects instead of tensors. For (1), please define your @tf.function outside of the loop. For (2), @tf.function has experimental_relax_shapes=True option that relaxes argument shapes that can avoid unnecessary retracing. For (3), please refer to https://www.tensorflow.org/guide/function#controlling_retracing and https://www.tensorflow.org/api_docs/python/tf/function for  more details.\n"
     ]
    },
    {
     "name": "stderr",
     "output_type": "stream",
     "text": [
      "WARNING:tensorflow:11 out of the last 11 calls to <function Model.make_test_function.<locals>.test_function at 0x7fe6c83eab80> triggered tf.function retracing. Tracing is expensive and the excessive number of tracings could be due to (1) creating @tf.function repeatedly in a loop, (2) passing tensors with different shapes, (3) passing Python objects instead of tensors. For (1), please define your @tf.function outside of the loop. For (2), @tf.function has experimental_relax_shapes=True option that relaxes argument shapes that can avoid unnecessary retracing. For (3), please refer to https://www.tensorflow.org/guide/function#controlling_retracing and https://www.tensorflow.org/api_docs/python/tf/function for  more details.\n",
      "WARNING:absl:Found untraced functions such as lstm_cell_184_layer_call_and_return_conditional_losses, lstm_cell_184_layer_call_fn, lstm_cell_185_layer_call_and_return_conditional_losses, lstm_cell_185_layer_call_fn, lstm_cell_184_layer_call_fn while saving (showing 5 of 10). These functions will not be directly callable after loading.\n",
      "WARNING:absl:Found untraced functions such as lstm_cell_184_layer_call_and_return_conditional_losses, lstm_cell_184_layer_call_fn, lstm_cell_185_layer_call_and_return_conditional_losses, lstm_cell_185_layer_call_fn, lstm_cell_184_layer_call_fn while saving (showing 5 of 10). These functions will not be directly callable after loading.\n"
     ]
    },
    {
     "name": "stdout",
     "output_type": "stream",
     "text": [
      "INFO:tensorflow:Assets written to: LSTM_train_audio/assets\n"
     ]
    },
    {
     "name": "stderr",
     "output_type": "stream",
     "text": [
      "INFO:tensorflow:Assets written to: LSTM_train_audio/assets\n"
     ]
    },
    {
     "name": "stdout",
     "output_type": "stream",
     "text": [
      "Epoch 1/10\n",
      "1/1 [==============================] - 5s 5s/step - loss: 0.0810 - mean_absolute_error: 0.2846\n",
      "Epoch 2/10\n",
      "1/1 [==============================] - 3s 3s/step - loss: 0.0667 - mean_absolute_error: 0.2582\n",
      "Epoch 3/10\n",
      "1/1 [==============================] - 4s 4s/step - loss: 0.0542 - mean_absolute_error: 0.2328\n",
      "Epoch 4/10\n",
      "1/1 [==============================] - 4s 4s/step - loss: 0.0434 - mean_absolute_error: 0.2084\n",
      "Epoch 5/10\n",
      "1/1 [==============================] - 5s 5s/step - loss: 0.0453 - mean_absolute_error: 0.2129\n",
      "Epoch 6/10\n",
      "1/1 [==============================] - 4s 4s/step - loss: 0.0261 - mean_absolute_error: 0.1615\n",
      "Epoch 7/10\n",
      "1/1 [==============================] - 3s 3s/step - loss: 0.0193 - mean_absolute_error: 0.1391\n",
      "Epoch 8/10\n",
      "1/1 [==============================] - 4s 4s/step - loss: 0.0138 - mean_absolute_error: 0.1173\n",
      "Epoch 9/10\n",
      "1/1 [==============================] - 3s 3s/step - loss: 0.0092 - mean_absolute_error: 0.0962\n",
      "Epoch 10/10\n",
      "1/1 [==============================] - 4s 4s/step - loss: 0.0057 - mean_absolute_error: 0.0757\n",
      "WARNING:tensorflow:11 out of the last 11 calls to <function Model.make_test_function.<locals>.test_function at 0x7fe730058ca0> triggered tf.function retracing. Tracing is expensive and the excessive number of tracings could be due to (1) creating @tf.function repeatedly in a loop, (2) passing tensors with different shapes, (3) passing Python objects instead of tensors. For (1), please define your @tf.function outside of the loop. For (2), @tf.function has experimental_relax_shapes=True option that relaxes argument shapes that can avoid unnecessary retracing. For (3), please refer to https://www.tensorflow.org/guide/function#controlling_retracing and https://www.tensorflow.org/api_docs/python/tf/function for  more details.\n"
     ]
    },
    {
     "name": "stderr",
     "output_type": "stream",
     "text": [
      "WARNING:tensorflow:11 out of the last 11 calls to <function Model.make_test_function.<locals>.test_function at 0x7fe730058ca0> triggered tf.function retracing. Tracing is expensive and the excessive number of tracings could be due to (1) creating @tf.function repeatedly in a loop, (2) passing tensors with different shapes, (3) passing Python objects instead of tensors. For (1), please define your @tf.function outside of the loop. For (2), @tf.function has experimental_relax_shapes=True option that relaxes argument shapes that can avoid unnecessary retracing. For (3), please refer to https://www.tensorflow.org/guide/function#controlling_retracing and https://www.tensorflow.org/api_docs/python/tf/function for  more details.\n",
      "WARNING:absl:Found untraced functions such as lstm_cell_186_layer_call_and_return_conditional_losses, lstm_cell_186_layer_call_fn, lstm_cell_187_layer_call_and_return_conditional_losses, lstm_cell_187_layer_call_fn, lstm_cell_186_layer_call_fn while saving (showing 5 of 10). These functions will not be directly callable after loading.\n",
      "WARNING:absl:Found untraced functions such as lstm_cell_186_layer_call_and_return_conditional_losses, lstm_cell_186_layer_call_fn, lstm_cell_187_layer_call_and_return_conditional_losses, lstm_cell_187_layer_call_fn, lstm_cell_186_layer_call_fn while saving (showing 5 of 10). These functions will not be directly callable after loading.\n"
     ]
    },
    {
     "name": "stdout",
     "output_type": "stream",
     "text": [
      "INFO:tensorflow:Assets written to: LSTM_train_audio/assets\n"
     ]
    },
    {
     "name": "stderr",
     "output_type": "stream",
     "text": [
      "INFO:tensorflow:Assets written to: LSTM_train_audio/assets\n"
     ]
    },
    {
     "name": "stdout",
     "output_type": "stream",
     "text": [
      "Epoch 1/10\n",
      "1/1 [==============================] - 2s 2s/step - loss: 1.4231 - mean_absolute_error: 1.1929\n",
      "Epoch 2/10\n",
      "1/1 [==============================] - 1s 571ms/step - loss: 1.3671 - mean_absolute_error: 1.1692\n",
      "Epoch 3/10\n",
      "1/1 [==============================] - 0s 470ms/step - loss: 1.3287 - mean_absolute_error: 1.1527\n",
      "Epoch 4/10\n",
      "1/1 [==============================] - 1s 698ms/step - loss: 1.2640 - mean_absolute_error: 1.1243\n",
      "Epoch 5/10\n",
      "1/1 [==============================] - 1s 657ms/step - loss: 1.2164 - mean_absolute_error: 1.1029\n",
      "Epoch 6/10\n",
      "1/1 [==============================] - 0s 457ms/step - loss: 1.1711 - mean_absolute_error: 1.0822\n",
      "Epoch 7/10\n",
      "1/1 [==============================] - 0s 454ms/step - loss: 1.1277 - mean_absolute_error: 1.0619\n",
      "Epoch 8/10\n",
      "1/1 [==============================] - 1s 643ms/step - loss: 1.0857 - mean_absolute_error: 1.0420\n",
      "Epoch 9/10\n",
      "1/1 [==============================] - 1s 547ms/step - loss: 1.0448 - mean_absolute_error: 1.0222\n",
      "Epoch 10/10\n",
      "1/1 [==============================] - 1s 566ms/step - loss: 1.0044 - mean_absolute_error: 1.0022\n",
      "WARNING:tensorflow:11 out of the last 11 calls to <function Model.make_test_function.<locals>.test_function at 0x7fe7932f3a60> triggered tf.function retracing. Tracing is expensive and the excessive number of tracings could be due to (1) creating @tf.function repeatedly in a loop, (2) passing tensors with different shapes, (3) passing Python objects instead of tensors. For (1), please define your @tf.function outside of the loop. For (2), @tf.function has experimental_relax_shapes=True option that relaxes argument shapes that can avoid unnecessary retracing. For (3), please refer to https://www.tensorflow.org/guide/function#controlling_retracing and https://www.tensorflow.org/api_docs/python/tf/function for  more details.\n"
     ]
    },
    {
     "name": "stderr",
     "output_type": "stream",
     "text": [
      "WARNING:tensorflow:11 out of the last 11 calls to <function Model.make_test_function.<locals>.test_function at 0x7fe7932f3a60> triggered tf.function retracing. Tracing is expensive and the excessive number of tracings could be due to (1) creating @tf.function repeatedly in a loop, (2) passing tensors with different shapes, (3) passing Python objects instead of tensors. For (1), please define your @tf.function outside of the loop. For (2), @tf.function has experimental_relax_shapes=True option that relaxes argument shapes that can avoid unnecessary retracing. For (3), please refer to https://www.tensorflow.org/guide/function#controlling_retracing and https://www.tensorflow.org/api_docs/python/tf/function for  more details.\n",
      "WARNING:absl:Found untraced functions such as lstm_cell_188_layer_call_and_return_conditional_losses, lstm_cell_188_layer_call_fn, lstm_cell_189_layer_call_and_return_conditional_losses, lstm_cell_189_layer_call_fn, lstm_cell_188_layer_call_fn while saving (showing 5 of 10). These functions will not be directly callable after loading.\n",
      "WARNING:absl:Found untraced functions such as lstm_cell_188_layer_call_and_return_conditional_losses, lstm_cell_188_layer_call_fn, lstm_cell_189_layer_call_and_return_conditional_losses, lstm_cell_189_layer_call_fn, lstm_cell_188_layer_call_fn while saving (showing 5 of 10). These functions will not be directly callable after loading.\n"
     ]
    },
    {
     "name": "stdout",
     "output_type": "stream",
     "text": [
      "INFO:tensorflow:Assets written to: LSTM_train_audio/assets\n"
     ]
    },
    {
     "name": "stderr",
     "output_type": "stream",
     "text": [
      "INFO:tensorflow:Assets written to: LSTM_train_audio/assets\n"
     ]
    },
    {
     "name": "stdout",
     "output_type": "stream",
     "text": [
      "Epoch 1/10\n",
      "1/1 [==============================] - 2s 2s/step - loss: 1.6664 - mean_absolute_error: 1.2909\n",
      "Epoch 2/10\n",
      "1/1 [==============================] - 1s 758ms/step - loss: 1.6089 - mean_absolute_error: 1.2684\n",
      "Epoch 3/10\n",
      "1/1 [==============================] - 1s 762ms/step - loss: 1.5669 - mean_absolute_error: 1.2518\n",
      "Epoch 4/10\n",
      "1/1 [==============================] - 1s 803ms/step - loss: 1.5232 - mean_absolute_error: 1.2342\n",
      "Epoch 5/10\n",
      "1/1 [==============================] - 1s 756ms/step - loss: 1.4827 - mean_absolute_error: 1.2177\n",
      "Epoch 6/10\n",
      "1/1 [==============================] - 1s 1s/step - loss: 1.4451 - mean_absolute_error: 1.2021\n",
      "Epoch 7/10\n",
      "1/1 [==============================] - 1s 928ms/step - loss: 1.4101 - mean_absolute_error: 1.1875\n",
      "Epoch 8/10\n",
      "1/1 [==============================] - 1s 766ms/step - loss: 1.3751 - mean_absolute_error: 1.1726\n",
      "Epoch 9/10\n",
      "1/1 [==============================] - 1s 945ms/step - loss: 1.3455 - mean_absolute_error: 1.1600\n",
      "Epoch 10/10\n",
      "1/1 [==============================] - 1s 944ms/step - loss: 1.3152 - mean_absolute_error: 1.1468\n",
      "WARNING:tensorflow:11 out of the last 11 calls to <function Model.make_test_function.<locals>.test_function at 0x7fe7930a7d30> triggered tf.function retracing. Tracing is expensive and the excessive number of tracings could be due to (1) creating @tf.function repeatedly in a loop, (2) passing tensors with different shapes, (3) passing Python objects instead of tensors. For (1), please define your @tf.function outside of the loop. For (2), @tf.function has experimental_relax_shapes=True option that relaxes argument shapes that can avoid unnecessary retracing. For (3), please refer to https://www.tensorflow.org/guide/function#controlling_retracing and https://www.tensorflow.org/api_docs/python/tf/function for  more details.\n"
     ]
    },
    {
     "name": "stderr",
     "output_type": "stream",
     "text": [
      "WARNING:tensorflow:11 out of the last 11 calls to <function Model.make_test_function.<locals>.test_function at 0x7fe7930a7d30> triggered tf.function retracing. Tracing is expensive and the excessive number of tracings could be due to (1) creating @tf.function repeatedly in a loop, (2) passing tensors with different shapes, (3) passing Python objects instead of tensors. For (1), please define your @tf.function outside of the loop. For (2), @tf.function has experimental_relax_shapes=True option that relaxes argument shapes that can avoid unnecessary retracing. For (3), please refer to https://www.tensorflow.org/guide/function#controlling_retracing and https://www.tensorflow.org/api_docs/python/tf/function for  more details.\n",
      "WARNING:absl:Found untraced functions such as lstm_cell_190_layer_call_and_return_conditional_losses, lstm_cell_190_layer_call_fn, lstm_cell_191_layer_call_and_return_conditional_losses, lstm_cell_191_layer_call_fn, lstm_cell_190_layer_call_fn while saving (showing 5 of 10). These functions will not be directly callable after loading.\n",
      "WARNING:absl:Found untraced functions such as lstm_cell_190_layer_call_and_return_conditional_losses, lstm_cell_190_layer_call_fn, lstm_cell_191_layer_call_and_return_conditional_losses, lstm_cell_191_layer_call_fn, lstm_cell_190_layer_call_fn while saving (showing 5 of 10). These functions will not be directly callable after loading.\n"
     ]
    },
    {
     "name": "stdout",
     "output_type": "stream",
     "text": [
      "INFO:tensorflow:Assets written to: LSTM_train_audio/assets\n"
     ]
    },
    {
     "name": "stderr",
     "output_type": "stream",
     "text": [
      "INFO:tensorflow:Assets written to: LSTM_train_audio/assets\n"
     ]
    },
    {
     "name": "stdout",
     "output_type": "stream",
     "text": [
      "Epoch 1/10\n",
      "1/1 [==============================] - 2s 2s/step - loss: 1.2315 - mean_absolute_error: 1.1097\n",
      "Epoch 2/10\n",
      "1/1 [==============================] - 1s 612ms/step - loss: 1.1941 - mean_absolute_error: 1.0927\n",
      "Epoch 3/10\n",
      "1/1 [==============================] - 1s 722ms/step - loss: 1.1577 - mean_absolute_error: 1.0760\n",
      "Epoch 4/10\n",
      "1/1 [==============================] - 1s 597ms/step - loss: 1.1216 - mean_absolute_error: 1.0590\n",
      "Epoch 5/10\n",
      "1/1 [==============================] - 1s 602ms/step - loss: 1.0854 - mean_absolute_error: 1.0418\n",
      "Epoch 6/10\n",
      "1/1 [==============================] - 1s 597ms/step - loss: 1.0489 - mean_absolute_error: 1.0242\n",
      "Epoch 7/10\n",
      "1/1 [==============================] - 1s 594ms/step - loss: 1.0123 - mean_absolute_error: 1.0061\n",
      "Epoch 8/10\n",
      "1/1 [==============================] - 1s 605ms/step - loss: 0.9748 - mean_absolute_error: 0.9873\n",
      "Epoch 9/10\n",
      "1/1 [==============================] - 1s 614ms/step - loss: 0.9365 - mean_absolute_error: 0.9677\n",
      "Epoch 10/10\n",
      "1/1 [==============================] - 1s 603ms/step - loss: 0.8954 - mean_absolute_error: 0.9463\n",
      "WARNING:tensorflow:11 out of the last 11 calls to <function Model.make_test_function.<locals>.test_function at 0x7fe730391af0> triggered tf.function retracing. Tracing is expensive and the excessive number of tracings could be due to (1) creating @tf.function repeatedly in a loop, (2) passing tensors with different shapes, (3) passing Python objects instead of tensors. For (1), please define your @tf.function outside of the loop. For (2), @tf.function has experimental_relax_shapes=True option that relaxes argument shapes that can avoid unnecessary retracing. For (3), please refer to https://www.tensorflow.org/guide/function#controlling_retracing and https://www.tensorflow.org/api_docs/python/tf/function for  more details.\n"
     ]
    },
    {
     "name": "stderr",
     "output_type": "stream",
     "text": [
      "WARNING:tensorflow:11 out of the last 11 calls to <function Model.make_test_function.<locals>.test_function at 0x7fe730391af0> triggered tf.function retracing. Tracing is expensive and the excessive number of tracings could be due to (1) creating @tf.function repeatedly in a loop, (2) passing tensors with different shapes, (3) passing Python objects instead of tensors. For (1), please define your @tf.function outside of the loop. For (2), @tf.function has experimental_relax_shapes=True option that relaxes argument shapes that can avoid unnecessary retracing. For (3), please refer to https://www.tensorflow.org/guide/function#controlling_retracing and https://www.tensorflow.org/api_docs/python/tf/function for  more details.\n",
      "WARNING:absl:Found untraced functions such as lstm_cell_192_layer_call_and_return_conditional_losses, lstm_cell_192_layer_call_fn, lstm_cell_193_layer_call_and_return_conditional_losses, lstm_cell_193_layer_call_fn, lstm_cell_192_layer_call_fn while saving (showing 5 of 10). These functions will not be directly callable after loading.\n",
      "WARNING:absl:Found untraced functions such as lstm_cell_192_layer_call_and_return_conditional_losses, lstm_cell_192_layer_call_fn, lstm_cell_193_layer_call_and_return_conditional_losses, lstm_cell_193_layer_call_fn, lstm_cell_192_layer_call_fn while saving (showing 5 of 10). These functions will not be directly callable after loading.\n"
     ]
    },
    {
     "name": "stdout",
     "output_type": "stream",
     "text": [
      "INFO:tensorflow:Assets written to: LSTM_train_audio/assets\n"
     ]
    },
    {
     "name": "stderr",
     "output_type": "stream",
     "text": [
      "INFO:tensorflow:Assets written to: LSTM_train_audio/assets\n"
     ]
    },
    {
     "name": "stdout",
     "output_type": "stream",
     "text": [
      "Epoch 1/10\n",
      "1/1 [==============================] - 2s 2s/step - loss: 2.7067 - mean_absolute_error: 1.6452\n",
      "Epoch 2/10\n",
      "1/1 [==============================] - 0s 294ms/step - loss: 2.6267 - mean_absolute_error: 1.6207\n",
      "Epoch 3/10\n",
      "1/1 [==============================] - 0s 295ms/step - loss: 2.5511 - mean_absolute_error: 1.5972\n",
      "Epoch 4/10\n",
      "1/1 [==============================] - 0s 240ms/step - loss: 2.4793 - mean_absolute_error: 1.5746\n",
      "Epoch 5/10\n",
      "1/1 [==============================] - 0s 297ms/step - loss: 2.4110 - mean_absolute_error: 1.5527\n",
      "Epoch 6/10\n",
      "1/1 [==============================] - 0s 313ms/step - loss: 2.3455 - mean_absolute_error: 1.5315\n",
      "Epoch 7/10\n",
      "1/1 [==============================] - 0s 359ms/step - loss: 2.2827 - mean_absolute_error: 1.5109\n",
      "Epoch 8/10\n",
      "1/1 [==============================] - 0s 248ms/step - loss: 2.2223 - mean_absolute_error: 1.4907\n",
      "Epoch 9/10\n",
      "1/1 [==============================] - 0s 240ms/step - loss: 2.1641 - mean_absolute_error: 1.4711\n",
      "Epoch 10/10\n",
      "1/1 [==============================] - 0s 304ms/step - loss: 2.1092 - mean_absolute_error: 1.4523\n",
      "WARNING:tensorflow:11 out of the last 11 calls to <function Model.make_test_function.<locals>.test_function at 0x7fe793fd9ca0> triggered tf.function retracing. Tracing is expensive and the excessive number of tracings could be due to (1) creating @tf.function repeatedly in a loop, (2) passing tensors with different shapes, (3) passing Python objects instead of tensors. For (1), please define your @tf.function outside of the loop. For (2), @tf.function has experimental_relax_shapes=True option that relaxes argument shapes that can avoid unnecessary retracing. For (3), please refer to https://www.tensorflow.org/guide/function#controlling_retracing and https://www.tensorflow.org/api_docs/python/tf/function for  more details.\n"
     ]
    },
    {
     "name": "stderr",
     "output_type": "stream",
     "text": [
      "WARNING:tensorflow:11 out of the last 11 calls to <function Model.make_test_function.<locals>.test_function at 0x7fe793fd9ca0> triggered tf.function retracing. Tracing is expensive and the excessive number of tracings could be due to (1) creating @tf.function repeatedly in a loop, (2) passing tensors with different shapes, (3) passing Python objects instead of tensors. For (1), please define your @tf.function outside of the loop. For (2), @tf.function has experimental_relax_shapes=True option that relaxes argument shapes that can avoid unnecessary retracing. For (3), please refer to https://www.tensorflow.org/guide/function#controlling_retracing and https://www.tensorflow.org/api_docs/python/tf/function for  more details.\n",
      "WARNING:absl:Found untraced functions such as lstm_cell_194_layer_call_and_return_conditional_losses, lstm_cell_194_layer_call_fn, lstm_cell_195_layer_call_and_return_conditional_losses, lstm_cell_195_layer_call_fn, lstm_cell_194_layer_call_fn while saving (showing 5 of 10). These functions will not be directly callable after loading.\n",
      "WARNING:absl:Found untraced functions such as lstm_cell_194_layer_call_and_return_conditional_losses, lstm_cell_194_layer_call_fn, lstm_cell_195_layer_call_and_return_conditional_losses, lstm_cell_195_layer_call_fn, lstm_cell_194_layer_call_fn while saving (showing 5 of 10). These functions will not be directly callable after loading.\n"
     ]
    },
    {
     "name": "stdout",
     "output_type": "stream",
     "text": [
      "INFO:tensorflow:Assets written to: LSTM_train_audio/assets\n"
     ]
    },
    {
     "name": "stderr",
     "output_type": "stream",
     "text": [
      "INFO:tensorflow:Assets written to: LSTM_train_audio/assets\n"
     ]
    },
    {
     "name": "stdout",
     "output_type": "stream",
     "text": [
      "Epoch 1/10\n",
      "1/1 [==============================] - 2s 2s/step - loss: 0.2444 - mean_absolute_error: 0.4944\n",
      "Epoch 2/10\n",
      "1/1 [==============================] - 0s 343ms/step - loss: 0.2294 - mean_absolute_error: 0.4790\n",
      "Epoch 3/10\n",
      "1/1 [==============================] - 0s 343ms/step - loss: 0.2096 - mean_absolute_error: 0.4578\n",
      "Epoch 4/10\n",
      "1/1 [==============================] - 0s 438ms/step - loss: 0.1936 - mean_absolute_error: 0.4400\n",
      "Epoch 5/10\n",
      "1/1 [==============================] - 0s 486ms/step - loss: 0.1784 - mean_absolute_error: 0.4223\n",
      "Epoch 6/10\n",
      "1/1 [==============================] - 0s 342ms/step - loss: 0.1639 - mean_absolute_error: 0.4048\n",
      "Epoch 7/10\n",
      "1/1 [==============================] - 0s 405ms/step - loss: 0.1506 - mean_absolute_error: 0.3880\n",
      "Epoch 8/10\n",
      "1/1 [==============================] - 0s 347ms/step - loss: 0.1368 - mean_absolute_error: 0.3699\n",
      "Epoch 9/10\n",
      "1/1 [==============================] - 0s 420ms/step - loss: 0.1241 - mean_absolute_error: 0.3523\n",
      "Epoch 10/10\n",
      "1/1 [==============================] - 0s 343ms/step - loss: 0.1116 - mean_absolute_error: 0.3341\n",
      "WARNING:tensorflow:11 out of the last 11 calls to <function Model.make_test_function.<locals>.test_function at 0x7fe7930a79d0> triggered tf.function retracing. Tracing is expensive and the excessive number of tracings could be due to (1) creating @tf.function repeatedly in a loop, (2) passing tensors with different shapes, (3) passing Python objects instead of tensors. For (1), please define your @tf.function outside of the loop. For (2), @tf.function has experimental_relax_shapes=True option that relaxes argument shapes that can avoid unnecessary retracing. For (3), please refer to https://www.tensorflow.org/guide/function#controlling_retracing and https://www.tensorflow.org/api_docs/python/tf/function for  more details.\n"
     ]
    },
    {
     "name": "stderr",
     "output_type": "stream",
     "text": [
      "WARNING:tensorflow:11 out of the last 11 calls to <function Model.make_test_function.<locals>.test_function at 0x7fe7930a79d0> triggered tf.function retracing. Tracing is expensive and the excessive number of tracings could be due to (1) creating @tf.function repeatedly in a loop, (2) passing tensors with different shapes, (3) passing Python objects instead of tensors. For (1), please define your @tf.function outside of the loop. For (2), @tf.function has experimental_relax_shapes=True option that relaxes argument shapes that can avoid unnecessary retracing. For (3), please refer to https://www.tensorflow.org/guide/function#controlling_retracing and https://www.tensorflow.org/api_docs/python/tf/function for  more details.\n",
      "WARNING:absl:Found untraced functions such as lstm_cell_196_layer_call_and_return_conditional_losses, lstm_cell_196_layer_call_fn, lstm_cell_197_layer_call_and_return_conditional_losses, lstm_cell_197_layer_call_fn, lstm_cell_196_layer_call_fn while saving (showing 5 of 10). These functions will not be directly callable after loading.\n",
      "WARNING:absl:Found untraced functions such as lstm_cell_196_layer_call_and_return_conditional_losses, lstm_cell_196_layer_call_fn, lstm_cell_197_layer_call_and_return_conditional_losses, lstm_cell_197_layer_call_fn, lstm_cell_196_layer_call_fn while saving (showing 5 of 10). These functions will not be directly callable after loading.\n"
     ]
    },
    {
     "name": "stdout",
     "output_type": "stream",
     "text": [
      "INFO:tensorflow:Assets written to: LSTM_train_audio/assets\n"
     ]
    },
    {
     "name": "stderr",
     "output_type": "stream",
     "text": [
      "INFO:tensorflow:Assets written to: LSTM_train_audio/assets\n"
     ]
    },
    {
     "name": "stdout",
     "output_type": "stream",
     "text": [
      "Epoch 1/10\n",
      "1/1 [==============================] - 4s 4s/step - loss: 1.1934 - mean_absolute_error: 1.0924\n",
      "Epoch 2/10\n",
      "1/1 [==============================] - 2s 2s/step - loss: 1.1174 - mean_absolute_error: 1.0571\n",
      "Epoch 3/10\n",
      "1/1 [==============================] - 2s 2s/step - loss: 1.0428 - mean_absolute_error: 1.0212\n",
      "Epoch 4/10\n",
      "1/1 [==============================] - 2s 2s/step - loss: 0.9709 - mean_absolute_error: 0.9854\n",
      "Epoch 5/10\n",
      "1/1 [==============================] - 2s 2s/step - loss: 0.9039 - mean_absolute_error: 0.9507\n",
      "Epoch 6/10\n",
      "1/1 [==============================] - 2s 2s/step - loss: 0.8413 - mean_absolute_error: 0.9172\n",
      "Epoch 7/10\n",
      "1/1 [==============================] - 2s 2s/step - loss: 0.7815 - mean_absolute_error: 0.8840\n",
      "Epoch 8/10\n",
      "1/1 [==============================] - 2s 2s/step - loss: 0.7231 - mean_absolute_error: 0.8503\n",
      "Epoch 9/10\n",
      "1/1 [==============================] - 2s 2s/step - loss: 0.6653 - mean_absolute_error: 0.8157\n",
      "Epoch 10/10\n",
      "1/1 [==============================] - 2s 2s/step - loss: 0.6086 - mean_absolute_error: 0.7801\n",
      "WARNING:tensorflow:11 out of the last 11 calls to <function Model.make_test_function.<locals>.test_function at 0x7fe78eb52940> triggered tf.function retracing. Tracing is expensive and the excessive number of tracings could be due to (1) creating @tf.function repeatedly in a loop, (2) passing tensors with different shapes, (3) passing Python objects instead of tensors. For (1), please define your @tf.function outside of the loop. For (2), @tf.function has experimental_relax_shapes=True option that relaxes argument shapes that can avoid unnecessary retracing. For (3), please refer to https://www.tensorflow.org/guide/function#controlling_retracing and https://www.tensorflow.org/api_docs/python/tf/function for  more details.\n"
     ]
    },
    {
     "name": "stderr",
     "output_type": "stream",
     "text": [
      "WARNING:tensorflow:11 out of the last 11 calls to <function Model.make_test_function.<locals>.test_function at 0x7fe78eb52940> triggered tf.function retracing. Tracing is expensive and the excessive number of tracings could be due to (1) creating @tf.function repeatedly in a loop, (2) passing tensors with different shapes, (3) passing Python objects instead of tensors. For (1), please define your @tf.function outside of the loop. For (2), @tf.function has experimental_relax_shapes=True option that relaxes argument shapes that can avoid unnecessary retracing. For (3), please refer to https://www.tensorflow.org/guide/function#controlling_retracing and https://www.tensorflow.org/api_docs/python/tf/function for  more details.\n",
      "WARNING:absl:Found untraced functions such as lstm_cell_198_layer_call_and_return_conditional_losses, lstm_cell_198_layer_call_fn, lstm_cell_199_layer_call_and_return_conditional_losses, lstm_cell_199_layer_call_fn, lstm_cell_198_layer_call_fn while saving (showing 5 of 10). These functions will not be directly callable after loading.\n",
      "WARNING:absl:Found untraced functions such as lstm_cell_198_layer_call_and_return_conditional_losses, lstm_cell_198_layer_call_fn, lstm_cell_199_layer_call_and_return_conditional_losses, lstm_cell_199_layer_call_fn, lstm_cell_198_layer_call_fn while saving (showing 5 of 10). These functions will not be directly callable after loading.\n"
     ]
    },
    {
     "name": "stdout",
     "output_type": "stream",
     "text": [
      "INFO:tensorflow:Assets written to: LSTM_train_audio/assets\n"
     ]
    },
    {
     "name": "stderr",
     "output_type": "stream",
     "text": [
      "INFO:tensorflow:Assets written to: LSTM_train_audio/assets\n"
     ]
    },
    {
     "name": "stdout",
     "output_type": "stream",
     "text": [
      "Epoch 1/10\n",
      "1/1 [==============================] - 2s 2s/step - loss: 3.6351 - mean_absolute_error: 1.9066\n",
      "Epoch 2/10\n",
      "1/1 [==============================] - 0s 325ms/step - loss: 3.4764 - mean_absolute_error: 1.8645\n",
      "Epoch 3/10\n",
      "1/1 [==============================] - 0s 452ms/step - loss: 3.2057 - mean_absolute_error: 1.7904\n",
      "Epoch 4/10\n",
      "1/1 [==============================] - 0s 331ms/step - loss: 2.9308 - mean_absolute_error: 1.7120\n",
      "Epoch 5/10\n",
      "1/1 [==============================] - 0s 401ms/step - loss: 2.8075 - mean_absolute_error: 1.6755\n",
      "Epoch 6/10\n",
      "1/1 [==============================] - 0s 414ms/step - loss: 2.7230 - mean_absolute_error: 1.6501\n",
      "Epoch 7/10\n",
      "1/1 [==============================] - 0s 393ms/step - loss: 2.6504 - mean_absolute_error: 1.6280\n",
      "Epoch 8/10\n",
      "1/1 [==============================] - 0s 392ms/step - loss: 2.5836 - mean_absolute_error: 1.6073\n",
      "Epoch 9/10\n",
      "1/1 [==============================] - 0s 456ms/step - loss: 2.5208 - mean_absolute_error: 1.5877\n",
      "Epoch 10/10\n",
      "1/1 [==============================] - 0s 347ms/step - loss: 2.4614 - mean_absolute_error: 1.5689\n",
      "WARNING:tensorflow:11 out of the last 11 calls to <function Model.make_test_function.<locals>.test_function at 0x7fe7300801f0> triggered tf.function retracing. Tracing is expensive and the excessive number of tracings could be due to (1) creating @tf.function repeatedly in a loop, (2) passing tensors with different shapes, (3) passing Python objects instead of tensors. For (1), please define your @tf.function outside of the loop. For (2), @tf.function has experimental_relax_shapes=True option that relaxes argument shapes that can avoid unnecessary retracing. For (3), please refer to https://www.tensorflow.org/guide/function#controlling_retracing and https://www.tensorflow.org/api_docs/python/tf/function for  more details.\n"
     ]
    },
    {
     "name": "stderr",
     "output_type": "stream",
     "text": [
      "WARNING:tensorflow:11 out of the last 11 calls to <function Model.make_test_function.<locals>.test_function at 0x7fe7300801f0> triggered tf.function retracing. Tracing is expensive and the excessive number of tracings could be due to (1) creating @tf.function repeatedly in a loop, (2) passing tensors with different shapes, (3) passing Python objects instead of tensors. For (1), please define your @tf.function outside of the loop. For (2), @tf.function has experimental_relax_shapes=True option that relaxes argument shapes that can avoid unnecessary retracing. For (3), please refer to https://www.tensorflow.org/guide/function#controlling_retracing and https://www.tensorflow.org/api_docs/python/tf/function for  more details.\n",
      "WARNING:absl:Found untraced functions such as lstm_cell_200_layer_call_and_return_conditional_losses, lstm_cell_200_layer_call_fn, lstm_cell_201_layer_call_and_return_conditional_losses, lstm_cell_201_layer_call_fn, lstm_cell_200_layer_call_fn while saving (showing 5 of 10). These functions will not be directly callable after loading.\n",
      "WARNING:absl:Found untraced functions such as lstm_cell_200_layer_call_and_return_conditional_losses, lstm_cell_200_layer_call_fn, lstm_cell_201_layer_call_and_return_conditional_losses, lstm_cell_201_layer_call_fn, lstm_cell_200_layer_call_fn while saving (showing 5 of 10). These functions will not be directly callable after loading.\n"
     ]
    },
    {
     "name": "stdout",
     "output_type": "stream",
     "text": [
      "INFO:tensorflow:Assets written to: LSTM_train_audio/assets\n"
     ]
    },
    {
     "name": "stderr",
     "output_type": "stream",
     "text": [
      "INFO:tensorflow:Assets written to: LSTM_train_audio/assets\n"
     ]
    },
    {
     "name": "stdout",
     "output_type": "stream",
     "text": [
      "Epoch 1/10\n",
      "1/1 [==============================] - 3s 3s/step - loss: 1.8602 - mean_absolute_error: 1.3639\n",
      "Epoch 2/10\n",
      "1/1 [==============================] - 1s 771ms/step - loss: 1.8056 - mean_absolute_error: 1.3437\n",
      "Epoch 3/10\n",
      "1/1 [==============================] - 1s 622ms/step - loss: 1.7548 - mean_absolute_error: 1.3247\n",
      "Epoch 4/10\n",
      "1/1 [==============================] - 1s 628ms/step - loss: 1.7076 - mean_absolute_error: 1.3067\n",
      "Epoch 5/10\n",
      "1/1 [==============================] - 1s 751ms/step - loss: 1.6635 - mean_absolute_error: 1.2898\n",
      "Epoch 6/10\n",
      "1/1 [==============================] - 1s 620ms/step - loss: 1.6219 - mean_absolute_error: 1.2735\n",
      "Epoch 7/10\n",
      "1/1 [==============================] - 1s 832ms/step - loss: 1.5426 - mean_absolute_error: 1.2420\n",
      "Epoch 8/10\n",
      "1/1 [==============================] - 1s 892ms/step - loss: 1.5445 - mean_absolute_error: 1.2428\n",
      "Epoch 9/10\n",
      "1/1 [==============================] - 1s 917ms/step - loss: 1.5078 - mean_absolute_error: 1.2279\n",
      "Epoch 10/10\n",
      "1/1 [==============================] - 1s 619ms/step - loss: 1.4712 - mean_absolute_error: 1.2129\n",
      "WARNING:tensorflow:11 out of the last 11 calls to <function Model.make_test_function.<locals>.test_function at 0x7fe7a033f820> triggered tf.function retracing. Tracing is expensive and the excessive number of tracings could be due to (1) creating @tf.function repeatedly in a loop, (2) passing tensors with different shapes, (3) passing Python objects instead of tensors. For (1), please define your @tf.function outside of the loop. For (2), @tf.function has experimental_relax_shapes=True option that relaxes argument shapes that can avoid unnecessary retracing. For (3), please refer to https://www.tensorflow.org/guide/function#controlling_retracing and https://www.tensorflow.org/api_docs/python/tf/function for  more details.\n"
     ]
    },
    {
     "name": "stderr",
     "output_type": "stream",
     "text": [
      "WARNING:tensorflow:11 out of the last 11 calls to <function Model.make_test_function.<locals>.test_function at 0x7fe7a033f820> triggered tf.function retracing. Tracing is expensive and the excessive number of tracings could be due to (1) creating @tf.function repeatedly in a loop, (2) passing tensors with different shapes, (3) passing Python objects instead of tensors. For (1), please define your @tf.function outside of the loop. For (2), @tf.function has experimental_relax_shapes=True option that relaxes argument shapes that can avoid unnecessary retracing. For (3), please refer to https://www.tensorflow.org/guide/function#controlling_retracing and https://www.tensorflow.org/api_docs/python/tf/function for  more details.\n",
      "WARNING:absl:Found untraced functions such as lstm_cell_202_layer_call_and_return_conditional_losses, lstm_cell_202_layer_call_fn, lstm_cell_203_layer_call_and_return_conditional_losses, lstm_cell_203_layer_call_fn, lstm_cell_202_layer_call_fn while saving (showing 5 of 10). These functions will not be directly callable after loading.\n",
      "WARNING:absl:Found untraced functions such as lstm_cell_202_layer_call_and_return_conditional_losses, lstm_cell_202_layer_call_fn, lstm_cell_203_layer_call_and_return_conditional_losses, lstm_cell_203_layer_call_fn, lstm_cell_202_layer_call_fn while saving (showing 5 of 10). These functions will not be directly callable after loading.\n"
     ]
    },
    {
     "name": "stdout",
     "output_type": "stream",
     "text": [
      "INFO:tensorflow:Assets written to: LSTM_train_audio/assets\n"
     ]
    },
    {
     "name": "stderr",
     "output_type": "stream",
     "text": [
      "INFO:tensorflow:Assets written to: LSTM_train_audio/assets\n"
     ]
    },
    {
     "name": "stdout",
     "output_type": "stream",
     "text": [
      "Epoch 1/10\n",
      "1/1 [==============================] - 2s 2s/step - loss: 1.2516 - mean_absolute_error: 1.1188\n",
      "Epoch 2/10\n",
      "1/1 [==============================] - 1s 520ms/step - loss: 1.2120 - mean_absolute_error: 1.1009\n",
      "Epoch 3/10\n",
      "1/1 [==============================] - 1s 520ms/step - loss: 1.1723 - mean_absolute_error: 1.0827\n",
      "Epoch 4/10\n",
      "1/1 [==============================] - 1s 520ms/step - loss: 1.1324 - mean_absolute_error: 1.0641\n",
      "Epoch 5/10\n",
      "1/1 [==============================] - 1s 531ms/step - loss: 1.0915 - mean_absolute_error: 1.0447\n",
      "Epoch 6/10\n",
      "1/1 [==============================] - 1s 654ms/step - loss: 1.0489 - mean_absolute_error: 1.0242\n",
      "Epoch 7/10\n",
      "1/1 [==============================] - 1s 524ms/step - loss: 1.0038 - mean_absolute_error: 1.0019\n",
      "Epoch 8/10\n",
      "1/1 [==============================] - 1s 626ms/step - loss: 0.9550 - mean_absolute_error: 0.9772\n",
      "Epoch 9/10\n",
      "1/1 [==============================] - 1s 646ms/step - loss: 0.9016 - mean_absolute_error: 0.9495\n",
      "Epoch 10/10\n",
      "1/1 [==============================] - 1s 541ms/step - loss: 0.8427 - mean_absolute_error: 0.9180\n",
      "WARNING:tensorflow:11 out of the last 11 calls to <function Model.make_test_function.<locals>.test_function at 0x7fe7a15bf790> triggered tf.function retracing. Tracing is expensive and the excessive number of tracings could be due to (1) creating @tf.function repeatedly in a loop, (2) passing tensors with different shapes, (3) passing Python objects instead of tensors. For (1), please define your @tf.function outside of the loop. For (2), @tf.function has experimental_relax_shapes=True option that relaxes argument shapes that can avoid unnecessary retracing. For (3), please refer to https://www.tensorflow.org/guide/function#controlling_retracing and https://www.tensorflow.org/api_docs/python/tf/function for  more details.\n"
     ]
    },
    {
     "name": "stderr",
     "output_type": "stream",
     "text": [
      "WARNING:tensorflow:11 out of the last 11 calls to <function Model.make_test_function.<locals>.test_function at 0x7fe7a15bf790> triggered tf.function retracing. Tracing is expensive and the excessive number of tracings could be due to (1) creating @tf.function repeatedly in a loop, (2) passing tensors with different shapes, (3) passing Python objects instead of tensors. For (1), please define your @tf.function outside of the loop. For (2), @tf.function has experimental_relax_shapes=True option that relaxes argument shapes that can avoid unnecessary retracing. For (3), please refer to https://www.tensorflow.org/guide/function#controlling_retracing and https://www.tensorflow.org/api_docs/python/tf/function for  more details.\n",
      "WARNING:absl:Found untraced functions such as lstm_cell_204_layer_call_and_return_conditional_losses, lstm_cell_204_layer_call_fn, lstm_cell_205_layer_call_and_return_conditional_losses, lstm_cell_205_layer_call_fn, lstm_cell_204_layer_call_fn while saving (showing 5 of 10). These functions will not be directly callable after loading.\n",
      "WARNING:absl:Found untraced functions such as lstm_cell_204_layer_call_and_return_conditional_losses, lstm_cell_204_layer_call_fn, lstm_cell_205_layer_call_and_return_conditional_losses, lstm_cell_205_layer_call_fn, lstm_cell_204_layer_call_fn while saving (showing 5 of 10). These functions will not be directly callable after loading.\n"
     ]
    },
    {
     "name": "stdout",
     "output_type": "stream",
     "text": [
      "INFO:tensorflow:Assets written to: LSTM_train_audio/assets\n"
     ]
    },
    {
     "name": "stderr",
     "output_type": "stream",
     "text": [
      "INFO:tensorflow:Assets written to: LSTM_train_audio/assets\n"
     ]
    },
    {
     "name": "stdout",
     "output_type": "stream",
     "text": [
      "Epoch 1/10\n",
      "1/1 [==============================] - 2s 2s/step - loss: 0.5154 - mean_absolute_error: 0.7179\n",
      "Epoch 2/10\n",
      "1/1 [==============================] - 0s 285ms/step - loss: 0.4074 - mean_absolute_error: 0.6383\n",
      "Epoch 3/10\n",
      "1/1 [==============================] - 0s 290ms/step - loss: 0.2970 - mean_absolute_error: 0.5449\n",
      "Epoch 4/10\n",
      "1/1 [==============================] - 0s 286ms/step - loss: 0.1993 - mean_absolute_error: 0.4464\n",
      "Epoch 5/10\n",
      "1/1 [==============================] - 0s 287ms/step - loss: 0.0994 - mean_absolute_error: 0.3152\n",
      "Epoch 6/10\n",
      "1/1 [==============================] - 0s 298ms/step - loss: 0.0587 - mean_absolute_error: 0.2424\n",
      "Epoch 7/10\n",
      "1/1 [==============================] - 0s 297ms/step - loss: 0.0161 - mean_absolute_error: 0.1268\n",
      "Epoch 8/10\n",
      "1/1 [==============================] - 0s 289ms/step - loss: 0.0014 - mean_absolute_error: 0.0373\n",
      "Epoch 9/10\n",
      "1/1 [==============================] - 0s 289ms/step - loss: 0.0010 - mean_absolute_error: 0.0320\n",
      "Epoch 10/10\n",
      "1/1 [==============================] - 0s 354ms/step - loss: 0.0066 - mean_absolute_error: 0.0811\n",
      "WARNING:tensorflow:11 out of the last 11 calls to <function Model.make_test_function.<locals>.test_function at 0x7fe7936f0a60> triggered tf.function retracing. Tracing is expensive and the excessive number of tracings could be due to (1) creating @tf.function repeatedly in a loop, (2) passing tensors with different shapes, (3) passing Python objects instead of tensors. For (1), please define your @tf.function outside of the loop. For (2), @tf.function has experimental_relax_shapes=True option that relaxes argument shapes that can avoid unnecessary retracing. For (3), please refer to https://www.tensorflow.org/guide/function#controlling_retracing and https://www.tensorflow.org/api_docs/python/tf/function for  more details.\n"
     ]
    },
    {
     "name": "stderr",
     "output_type": "stream",
     "text": [
      "WARNING:tensorflow:11 out of the last 11 calls to <function Model.make_test_function.<locals>.test_function at 0x7fe7936f0a60> triggered tf.function retracing. Tracing is expensive and the excessive number of tracings could be due to (1) creating @tf.function repeatedly in a loop, (2) passing tensors with different shapes, (3) passing Python objects instead of tensors. For (1), please define your @tf.function outside of the loop. For (2), @tf.function has experimental_relax_shapes=True option that relaxes argument shapes that can avoid unnecessary retracing. For (3), please refer to https://www.tensorflow.org/guide/function#controlling_retracing and https://www.tensorflow.org/api_docs/python/tf/function for  more details.\n",
      "WARNING:absl:Found untraced functions such as lstm_cell_206_layer_call_and_return_conditional_losses, lstm_cell_206_layer_call_fn, lstm_cell_207_layer_call_and_return_conditional_losses, lstm_cell_207_layer_call_fn, lstm_cell_206_layer_call_fn while saving (showing 5 of 10). These functions will not be directly callable after loading.\n",
      "WARNING:absl:Found untraced functions such as lstm_cell_206_layer_call_and_return_conditional_losses, lstm_cell_206_layer_call_fn, lstm_cell_207_layer_call_and_return_conditional_losses, lstm_cell_207_layer_call_fn, lstm_cell_206_layer_call_fn while saving (showing 5 of 10). These functions will not be directly callable after loading.\n"
     ]
    },
    {
     "name": "stdout",
     "output_type": "stream",
     "text": [
      "INFO:tensorflow:Assets written to: LSTM_train_audio/assets\n"
     ]
    },
    {
     "name": "stderr",
     "output_type": "stream",
     "text": [
      "INFO:tensorflow:Assets written to: LSTM_train_audio/assets\n"
     ]
    }
   ],
   "source": [
    "train_index = 0\n",
    "\n",
    "\n",
    "train_eval = []\n",
    "train_loss = []\n",
    "train_mae = []\n",
    "\n",
    "for file in x_train:         \n",
    "        file = np.array(file).reshape((1, file.shape[0], -1))\n",
    "\n",
    "        model.fit(x=file, \n",
    "                y=y_train[train_index], \n",
    "                epochs=10,\n",
    "                batch_size = len(file)) \n",
    "        \n",
    "        scores = model.evaluate(file, y_train[train_index], verbose = 0)\n",
    "        train_eval.append(scores)\n",
    "        train_loss.append(scores[0]) \n",
    "        train_mae.append(scores[1])\n",
    "                                        \n",
    "                                        \n",
    "        model.save(r'LSTM_train_audio', include_optimizer=True) # Save model configuration to Saved_models.\n",
    "        model = keras.models.load_model(r'LSTM_train_audio') # Load model configuration from Saved_models.\n",
    "        train_index += 1"
   ]
  },
  {
   "cell_type": "markdown",
   "metadata": {},
   "source": [
    "##### Model evaluation - train set"
   ]
  },
  {
   "cell_type": "code",
   "execution_count": 15,
   "metadata": {},
   "outputs": [
    {
     "name": "stdout",
     "output_type": "stream",
     "text": [
      "Train loss (avg): 0.5889731968036664 Train MAE (avg): 0.5039273546829534\n"
     ]
    }
   ],
   "source": [
    "avg_train_loss = sum(train_loss) / len(train_loss)\n",
    "avg_train_mae = sum(train_mae) / len(train_mae)\n",
    "print(\"Train loss (avg):\", avg_train_loss, \"Train MAE (avg):\", avg_train_mae)"
   ]
  },
  {
   "cell_type": "code",
   "execution_count": 16,
   "metadata": {},
   "outputs": [
    {
     "name": "stdout",
     "output_type": "stream",
     "text": [
      "AVG MSE: 21.342\n",
      "AVG MAE: 20.395\n"
     ]
    }
   ],
   "source": [
    "real_train_loss = round(float(scaler.inverse_transform(np.array(avg_train_loss).reshape(-1,1))), 3)\n",
    "real_train_mae = round(float(scaler.inverse_transform(np.array(avg_train_mae).reshape(-1,1))), 3)\n",
    "\n",
    "print(f'AVG MSE: {real_train_loss}')\n",
    "print(f'AVG MAE: {real_train_mae}')"
   ]
  },
  {
   "cell_type": "code",
   "execution_count": 17,
   "metadata": {},
   "outputs": [
    {
     "data": {
      "image/png": "[encoded data removed]",
      "text/plain": [
       "<Figure size 432x288 with 1 Axes>"
      ]
     },
     "metadata": {
      "needs_background": "light"
     },
     "output_type": "display_data"
    }
   ],
   "source": [
    "plt.xlabel(\"Iterations\")\n",
    "plt.ylabel(\"Scaled YMRS value\")\n",
    "plt.plot(train_loss, label=\"MSE\")\n",
    "plt.plot(train_mae, label=\"MAE\")\n",
    "plt.legend()\n",
    "plt.show()"
   ]
  },
  {
   "cell_type": "markdown",
   "metadata": {},
   "source": [
    "### Model evaluation - validaton set"
   ]
  },
  {
   "cell_type": "markdown",
   "metadata": {},
   "source": [
    "Subset taken from test data is defined as a validation set."
   ]
  },
  {
   "cell_type": "code",
   "execution_count": 18,
   "metadata": {},
   "outputs": [],
   "source": [
    "x_val, y_val = x_test[:30], y_test[:30]"
   ]
  },
  {
   "cell_type": "code",
   "execution_count": 19,
   "metadata": {},
   "outputs": [
    {
     "name": "stdout",
     "output_type": "stream",
     "text": [
      "WARNING:tensorflow:11 out of the last 11 calls to <function Model.make_test_function.<locals>.test_function at 0x7fe73c15be50> triggered tf.function retracing. Tracing is expensive and the excessive number of tracings could be due to (1) creating @tf.function repeatedly in a loop, (2) passing tensors with different shapes, (3) passing Python objects instead of tensors. For (1), please define your @tf.function outside of the loop. For (2), @tf.function has experimental_relax_shapes=True option that relaxes argument shapes that can avoid unnecessary retracing. For (3), please refer to https://www.tensorflow.org/guide/function#controlling_retracing and https://www.tensorflow.org/api_docs/python/tf/function for  more details.\n"
     ]
    },
    {
     "name": "stderr",
     "output_type": "stream",
     "text": [
      "WARNING:tensorflow:11 out of the last 11 calls to <function Model.make_test_function.<locals>.test_function at 0x7fe73c15be50> triggered tf.function retracing. Tracing is expensive and the excessive number of tracings could be due to (1) creating @tf.function repeatedly in a loop, (2) passing tensors with different shapes, (3) passing Python objects instead of tensors. For (1), please define your @tf.function outside of the loop. For (2), @tf.function has experimental_relax_shapes=True option that relaxes argument shapes that can avoid unnecessary retracing. For (3), please refer to https://www.tensorflow.org/guide/function#controlling_retracing and https://www.tensorflow.org/api_docs/python/tf/function for  more details.\n"
     ]
    },
    {
     "name": "stdout",
     "output_type": "stream",
     "text": [
      "WARNING:tensorflow:11 out of the last 11 calls to <function Model.make_test_function.<locals>.test_function at 0x7fe73c15be50> triggered tf.function retracing. Tracing is expensive and the excessive number of tracings could be due to (1) creating @tf.function repeatedly in a loop, (2) passing tensors with different shapes, (3) passing Python objects instead of tensors. For (1), please define your @tf.function outside of the loop. For (2), @tf.function has experimental_relax_shapes=True option that relaxes argument shapes that can avoid unnecessary retracing. For (3), please refer to https://www.tensorflow.org/guide/function#controlling_retracing and https://www.tensorflow.org/api_docs/python/tf/function for  more details.\n"
     ]
    },
    {
     "name": "stderr",
     "output_type": "stream",
     "text": [
      "WARNING:tensorflow:11 out of the last 11 calls to <function Model.make_test_function.<locals>.test_function at 0x7fe73c15be50> triggered tf.function retracing. Tracing is expensive and the excessive number of tracings could be due to (1) creating @tf.function repeatedly in a loop, (2) passing tensors with different shapes, (3) passing Python objects instead of tensors. For (1), please define your @tf.function outside of the loop. For (2), @tf.function has experimental_relax_shapes=True option that relaxes argument shapes that can avoid unnecessary retracing. For (3), please refer to https://www.tensorflow.org/guide/function#controlling_retracing and https://www.tensorflow.org/api_docs/python/tf/function for  more details.\n"
     ]
    },
    {
     "name": "stdout",
     "output_type": "stream",
     "text": [
      "WARNING:tensorflow:11 out of the last 11 calls to <function Model.make_test_function.<locals>.test_function at 0x7fe73c15be50> triggered tf.function retracing. Tracing is expensive and the excessive number of tracings could be due to (1) creating @tf.function repeatedly in a loop, (2) passing tensors with different shapes, (3) passing Python objects instead of tensors. For (1), please define your @tf.function outside of the loop. For (2), @tf.function has experimental_relax_shapes=True option that relaxes argument shapes that can avoid unnecessary retracing. For (3), please refer to https://www.tensorflow.org/guide/function#controlling_retracing and https://www.tensorflow.org/api_docs/python/tf/function for  more details.\n"
     ]
    },
    {
     "name": "stderr",
     "output_type": "stream",
     "text": [
      "WARNING:tensorflow:11 out of the last 11 calls to <function Model.make_test_function.<locals>.test_function at 0x7fe73c15be50> triggered tf.function retracing. Tracing is expensive and the excessive number of tracings could be due to (1) creating @tf.function repeatedly in a loop, (2) passing tensors with different shapes, (3) passing Python objects instead of tensors. For (1), please define your @tf.function outside of the loop. For (2), @tf.function has experimental_relax_shapes=True option that relaxes argument shapes that can avoid unnecessary retracing. For (3), please refer to https://www.tensorflow.org/guide/function#controlling_retracing and https://www.tensorflow.org/api_docs/python/tf/function for  more details.\n"
     ]
    }
   ],
   "source": [
    "eval_loss = []\n",
    "eval_mae = []\n",
    "index = 0\n",
    "\n",
    "for input in x_val:\n",
    "    input = reshape_X(input)\n",
    "    scores = model.evaluate(input, y_val[index], verbose = 0)\n",
    "    \n",
    "    eval_loss.append(scores[0])\n",
    "    eval_mae.append(scores[1])\n",
    "    \n",
    "    index += 1"
   ]
  },
  {
   "cell_type": "code",
   "execution_count": 20,
   "metadata": {},
   "outputs": [
    {
     "name": "stdout",
     "output_type": "stream",
     "text": [
      "Validation loss (avg): 0.9448834865412209 Validation MAE (avg): 0.8090985645850499\n"
     ]
    }
   ],
   "source": [
    "avg_eval_loss = sum(eval_loss) / len(eval_loss)\n",
    "avg_eval_mae = sum(eval_mae) / len(eval_mae)\n",
    "print(\"Validation loss (avg):\", avg_eval_loss, \"Validation MAE (avg):\", avg_eval_mae)"
   ]
  },
  {
   "cell_type": "code",
   "execution_count": 21,
   "metadata": {},
   "outputs": [
    {
     "name": "stdout",
     "output_type": "stream",
     "text": [
      "AVG MSE: 25.305\n",
      "AVG MAE: 23.793\n"
     ]
    }
   ],
   "source": [
    "real_eval_loss = round(float(scaler.inverse_transform(np.array(avg_eval_loss).reshape(-1,1))), 3)\n",
    "real_eval_mae = round(float(scaler.inverse_transform(np.array(avg_eval_mae).reshape(-1,1))), 3)\n",
    "\n",
    "print(f'AVG MSE: {real_eval_loss}')\n",
    "print(f'AVG MAE: {real_eval_mae}')"
   ]
  },
  {
   "cell_type": "code",
   "execution_count": 22,
   "metadata": {},
   "outputs": [
    {
     "data": {
      "image/png": "[encoded data removed]",
      "text/plain": [
       "<Figure size 432x288 with 1 Axes>"
      ]
     },
     "metadata": {
      "needs_background": "light"
     },
     "output_type": "display_data"
    }
   ],
   "source": [
    "plt.xlabel(\"Number of validation files\")\n",
    "plt.ylabel(\"Scaled YMRS value\")\n",
    "plt.plot(eval_loss, label=\"MSE\")\n",
    "plt.plot(eval_mae, label=\"MAE\")\n",
    "plt.legend()\n",
    "plt.show()"
   ]
  },
  {
   "cell_type": "markdown",
   "metadata": {},
   "source": [
    "## Prediction"
   ]
  },
  {
   "cell_type": "markdown",
   "metadata": {},
   "source": [
    "Prediction is made on different subset taken from the test dataset. Then actual and predicted YMRS values are compared."
   ]
  },
  {
   "cell_type": "code",
   "execution_count": 23,
   "metadata": {},
   "outputs": [],
   "source": [
    "x_pred, y_pred_actual = x_test[30:], y_test[30:]"
   ]
  },
  {
   "cell_type": "code",
   "execution_count": 24,
   "metadata": {},
   "outputs": [],
   "source": [
    "y_prediction = []\n",
    "\n",
    "pred_scores = []\n",
    "pred_loss = []\n",
    "pred_mae = []\n",
    "\n",
    "pred_index = 0\n",
    "\n",
    "for file in x_pred:\n",
    "    file = np.array(file).reshape(1, file.shape[0], -1)\n",
    "    pred_y = y_prediction.append(model.predict(file))\n",
    "    \n",
    "    scores = model.evaluate(file, y_pred_actual[pred_index], verbose=0)\n",
    "    pred_scores.append(scores)\n",
    "    pred_loss.append(scores[0])\n",
    "    pred_mae.append(scores[1])\n",
    "    \n",
    "    pred_index += 1"
   ]
  },
  {
   "cell_type": "markdown",
   "metadata": {},
   "source": [
    "### Model evaluation - prediction set"
   ]
  },
  {
   "cell_type": "code",
   "execution_count": 25,
   "metadata": {},
   "outputs": [
    {
     "name": "stdout",
     "output_type": "stream",
     "text": [
      "Prediction loss (avg): 1.0924288761181136 Prediction MAE (avg): 0.9540646397819121\n"
     ]
    }
   ],
   "source": [
    "avg_pred_loss = sum(pred_loss) / len(pred_loss)\n",
    "avg_pred_mae = sum(pred_mae) / len(pred_mae)\n",
    "print(\"Prediction loss (avg):\", avg_pred_loss, \"Prediction MAE (avg):\", avg_pred_mae)"
   ]
  },
  {
   "cell_type": "code",
   "execution_count": 26,
   "metadata": {},
   "outputs": [
    {
     "name": "stdout",
     "output_type": "stream",
     "text": [
      "AVG MSE: 26.948\n",
      "AVG MAE: 25.407\n"
     ]
    }
   ],
   "source": [
    "real_pred_loss = round(float(scaler.inverse_transform(np.array(avg_pred_loss).reshape(-1,1))), 3)\n",
    "real_pred_mae = round(float(scaler.inverse_transform(np.array(avg_pred_mae).reshape(-1,1))), 3)\n",
    "\n",
    "print(f'AVG MSE: {real_pred_loss}')\n",
    "print(f'AVG MAE: {real_pred_mae}')"
   ]
  },
  {
   "cell_type": "code",
   "execution_count": 27,
   "metadata": {},
   "outputs": [
    {
     "data": {
      "image/png": "[encoded data removed]",
      "text/plain": [
       "<Figure size 432x288 with 1 Axes>"
      ]
     },
     "metadata": {
      "needs_background": "light"
     },
     "output_type": "display_data"
    }
   ],
   "source": [
    "plt.xlabel(\"Iterations\")\n",
    "plt.ylabel(\"Scaled YMRS value\")\n",
    "plt.plot(pred_loss, label=\"MSE\")\n",
    "plt.plot(pred_mae, label=\"MAE\")\n",
    "plt.legend()\n",
    "plt.show()"
   ]
  },
  {
   "cell_type": "markdown",
   "metadata": {},
   "source": [
    "### Actual vs predicted comparison"
   ]
  },
  {
   "cell_type": "code",
   "execution_count": 28,
   "metadata": {},
   "outputs": [],
   "source": [
    "y_prediction = np.array(y_prediction).reshape(-1, 1)\n",
    "y_pred_actual = y_pred_actual.reshape(-1,1)\n",
    "\n",
    "y_prediction = unscale_Y(y_prediction, scaler)\n",
    "y_pred_actual = unscale_Y(y_pred_actual, scaler)"
   ]
  },
  {
   "cell_type": "code",
   "execution_count": 29,
   "metadata": {},
   "outputs": [
    {
     "data": {
      "text/html": [
       "<div>\n",
       "<style scoped>\n",
       "    .dataframe tbody tr th:only-of-type {\n",
       "        vertical-align: middle;\n",
       "    }\n",
       "\n",
       "    .dataframe tbody tr th {\n",
       "        vertical-align: top;\n",
       "    }\n",
       "\n",
       "    .dataframe thead th {\n",
       "        text-align: right;\n",
       "    }\n",
       "</style>\n",
       "<table border=\"1\" class=\"dataframe\">\n",
       "  <thead>\n",
       "    <tr style=\"text-align: right;\">\n",
       "      <th></th>\n",
       "      <th>index</th>\n",
       "      <th>y_actual</th>\n",
       "      <th>y_pred</th>\n",
       "      <th>pred_error</th>\n",
       "    </tr>\n",
       "  </thead>\n",
       "  <tbody>\n",
       "    <tr>\n",
       "      <th>0</th>\n",
       "      <td>0</td>\n",
       "      <td>0</td>\n",
       "      <td>14.211779</td>\n",
       "      <td>-14.211779</td>\n",
       "    </tr>\n",
       "    <tr>\n",
       "      <th>1</th>\n",
       "      <td>1</td>\n",
       "      <td>0</td>\n",
       "      <td>14.206849</td>\n",
       "      <td>-14.206849</td>\n",
       "    </tr>\n",
       "    <tr>\n",
       "      <th>2</th>\n",
       "      <td>27</td>\n",
       "      <td>0</td>\n",
       "      <td>12.803745</td>\n",
       "      <td>-12.803745</td>\n",
       "    </tr>\n",
       "    <tr>\n",
       "      <th>3</th>\n",
       "      <td>22</td>\n",
       "      <td>0</td>\n",
       "      <td>14.420447</td>\n",
       "      <td>-14.420447</td>\n",
       "    </tr>\n",
       "    <tr>\n",
       "      <th>4</th>\n",
       "      <td>16</td>\n",
       "      <td>0</td>\n",
       "      <td>14.283504</td>\n",
       "      <td>-14.283504</td>\n",
       "    </tr>\n",
       "    <tr>\n",
       "      <th>5</th>\n",
       "      <td>6</td>\n",
       "      <td>0</td>\n",
       "      <td>14.974583</td>\n",
       "      <td>-14.974583</td>\n",
       "    </tr>\n",
       "    <tr>\n",
       "      <th>6</th>\n",
       "      <td>10</td>\n",
       "      <td>1</td>\n",
       "      <td>14.164191</td>\n",
       "      <td>-13.164191</td>\n",
       "    </tr>\n",
       "    <tr>\n",
       "      <th>7</th>\n",
       "      <td>29</td>\n",
       "      <td>2</td>\n",
       "      <td>13.789092</td>\n",
       "      <td>-11.789092</td>\n",
       "    </tr>\n",
       "    <tr>\n",
       "      <th>8</th>\n",
       "      <td>11</td>\n",
       "      <td>3</td>\n",
       "      <td>17.321960</td>\n",
       "      <td>-14.321960</td>\n",
       "    </tr>\n",
       "    <tr>\n",
       "      <th>9</th>\n",
       "      <td>17</td>\n",
       "      <td>3</td>\n",
       "      <td>14.328372</td>\n",
       "      <td>-11.328372</td>\n",
       "    </tr>\n",
       "    <tr>\n",
       "      <th>10</th>\n",
       "      <td>23</td>\n",
       "      <td>3</td>\n",
       "      <td>14.435384</td>\n",
       "      <td>-11.435384</td>\n",
       "    </tr>\n",
       "    <tr>\n",
       "      <th>11</th>\n",
       "      <td>19</td>\n",
       "      <td>3</td>\n",
       "      <td>14.001518</td>\n",
       "      <td>-11.001518</td>\n",
       "    </tr>\n",
       "    <tr>\n",
       "      <th>12</th>\n",
       "      <td>18</td>\n",
       "      <td>6</td>\n",
       "      <td>14.128668</td>\n",
       "      <td>-8.128668</td>\n",
       "    </tr>\n",
       "    <tr>\n",
       "      <th>13</th>\n",
       "      <td>4</td>\n",
       "      <td>8</td>\n",
       "      <td>13.849066</td>\n",
       "      <td>-5.849066</td>\n",
       "    </tr>\n",
       "    <tr>\n",
       "      <th>14</th>\n",
       "      <td>5</td>\n",
       "      <td>11</td>\n",
       "      <td>14.188337</td>\n",
       "      <td>-3.188337</td>\n",
       "    </tr>\n",
       "    <tr>\n",
       "      <th>15</th>\n",
       "      <td>13</td>\n",
       "      <td>11</td>\n",
       "      <td>14.220523</td>\n",
       "      <td>-3.220523</td>\n",
       "    </tr>\n",
       "    <tr>\n",
       "      <th>16</th>\n",
       "      <td>3</td>\n",
       "      <td>11</td>\n",
       "      <td>13.814955</td>\n",
       "      <td>-2.814955</td>\n",
       "    </tr>\n",
       "    <tr>\n",
       "      <th>17</th>\n",
       "      <td>28</td>\n",
       "      <td>14</td>\n",
       "      <td>14.492319</td>\n",
       "      <td>-0.492319</td>\n",
       "    </tr>\n",
       "    <tr>\n",
       "      <th>18</th>\n",
       "      <td>26</td>\n",
       "      <td>16</td>\n",
       "      <td>14.276910</td>\n",
       "      <td>1.723090</td>\n",
       "    </tr>\n",
       "    <tr>\n",
       "      <th>19</th>\n",
       "      <td>15</td>\n",
       "      <td>19</td>\n",
       "      <td>14.586727</td>\n",
       "      <td>4.413273</td>\n",
       "    </tr>\n",
       "    <tr>\n",
       "      <th>20</th>\n",
       "      <td>2</td>\n",
       "      <td>24</td>\n",
       "      <td>14.213769</td>\n",
       "      <td>9.786231</td>\n",
       "    </tr>\n",
       "    <tr>\n",
       "      <th>21</th>\n",
       "      <td>8</td>\n",
       "      <td>24</td>\n",
       "      <td>15.046041</td>\n",
       "      <td>8.953959</td>\n",
       "    </tr>\n",
       "    <tr>\n",
       "      <th>22</th>\n",
       "      <td>20</td>\n",
       "      <td>24</td>\n",
       "      <td>14.435455</td>\n",
       "      <td>9.564545</td>\n",
       "    </tr>\n",
       "    <tr>\n",
       "      <th>23</th>\n",
       "      <td>25</td>\n",
       "      <td>26</td>\n",
       "      <td>14.695635</td>\n",
       "      <td>11.304365</td>\n",
       "    </tr>\n",
       "    <tr>\n",
       "      <th>24</th>\n",
       "      <td>21</td>\n",
       "      <td>27</td>\n",
       "      <td>14.377192</td>\n",
       "      <td>12.622808</td>\n",
       "    </tr>\n",
       "    <tr>\n",
       "      <th>25</th>\n",
       "      <td>14</td>\n",
       "      <td>27</td>\n",
       "      <td>13.776608</td>\n",
       "      <td>13.223392</td>\n",
       "    </tr>\n",
       "    <tr>\n",
       "      <th>26</th>\n",
       "      <td>9</td>\n",
       "      <td>29</td>\n",
       "      <td>14.534469</td>\n",
       "      <td>14.465531</td>\n",
       "    </tr>\n",
       "    <tr>\n",
       "      <th>27</th>\n",
       "      <td>12</td>\n",
       "      <td>30</td>\n",
       "      <td>14.277536</td>\n",
       "      <td>15.722464</td>\n",
       "    </tr>\n",
       "    <tr>\n",
       "      <th>28</th>\n",
       "      <td>7</td>\n",
       "      <td>32</td>\n",
       "      <td>15.290502</td>\n",
       "      <td>16.709498</td>\n",
       "    </tr>\n",
       "    <tr>\n",
       "      <th>29</th>\n",
       "      <td>24</td>\n",
       "      <td>33</td>\n",
       "      <td>14.400093</td>\n",
       "      <td>18.599907</td>\n",
       "    </tr>\n",
       "  </tbody>\n",
       "</table>\n",
       "</div>"
      ],
      "text/plain": [
       "    index  y_actual     y_pred  pred_error\n",
       "0       0         0  14.211779  -14.211779\n",
       "1       1         0  14.206849  -14.206849\n",
       "2      27         0  12.803745  -12.803745\n",
       "3      22         0  14.420447  -14.420447\n",
       "4      16         0  14.283504  -14.283504\n",
       "5       6         0  14.974583  -14.974583\n",
       "6      10         1  14.164191  -13.164191\n",
       "7      29         2  13.789092  -11.789092\n",
       "8      11         3  17.321960  -14.321960\n",
       "9      17         3  14.328372  -11.328372\n",
       "10     23         3  14.435384  -11.435384\n",
       "11     19         3  14.001518  -11.001518\n",
       "12     18         6  14.128668   -8.128668\n",
       "13      4         8  13.849066   -5.849066\n",
       "14      5        11  14.188337   -3.188337\n",
       "15     13        11  14.220523   -3.220523\n",
       "16      3        11  13.814955   -2.814955\n",
       "17     28        14  14.492319   -0.492319\n",
       "18     26        16  14.276910    1.723090\n",
       "19     15        19  14.586727    4.413273\n",
       "20      2        24  14.213769    9.786231\n",
       "21      8        24  15.046041    8.953959\n",
       "22     20        24  14.435455    9.564545\n",
       "23     25        26  14.695635   11.304365\n",
       "24     21        27  14.377192   12.622808\n",
       "25     14        27  13.776608   13.223392\n",
       "26      9        29  14.534469   14.465531\n",
       "27     12        30  14.277536   15.722464\n",
       "28      7        32  15.290502   16.709498\n",
       "29     24        33  14.400093   18.599907"
      ]
     },
     "execution_count": 29,
     "metadata": {},
     "output_type": "execute_result"
    }
   ],
   "source": [
    "pred_df = pd.DataFrame(data=np.column_stack((y_pred_actual,y_prediction)),columns=['y_actual','y_pred'])\n",
    "pred_df['pred_error'] = pred_df['y_actual'] - pred_df['y_pred']\n",
    "pred_df = pred_df.sort_values(by=['y_actual']).reset_index()\n",
    "pred_df['y_actual'] = pred_df['y_actual'].apply(np.int64)\n",
    "pred_df"
   ]
  },
  {
   "cell_type": "code",
   "execution_count": 30,
   "metadata": {},
   "outputs": [
    {
     "data": {
      "image/png": "[encoded data removed]",
      "text/plain": [
       "<Figure size 432x288 with 1 Axes>"
      ]
     },
     "metadata": {
      "needs_background": "light"
     },
     "output_type": "display_data"
    }
   ],
   "source": [
    "pred_df.plot('y_actual', 'y_pred', kind='scatter')\n",
    "plt.xlabel(\"Actual YMRS\")\n",
    "plt.ylabel(\"Predicted YMRS\")\n",
    "plt.show()"
   ]
  },
  {
   "cell_type": "code",
   "execution_count": 31,
   "metadata": {},
   "outputs": [
    {
     "data": {
      "image/png": "[encoded data removed]",
      "text/plain": [
       "<Figure size 432x288 with 1 Axes>"
      ]
     },
     "metadata": {
      "needs_background": "light"
     },
     "output_type": "display_data"
    }
   ],
   "source": [
    "pred_df.plot('y_actual', 'pred_error', kind='scatter')\n",
    "plt.xlabel(\"Actual YMRS\")\n",
    "plt.ylabel(\"Prediction error\")\n",
    "plt.show()"
   ]
  },
  {
   "cell_type": "code",
   "execution_count": 32,
   "metadata": {},
   "outputs": [
    {
     "data": {
      "image/png": "[encoded data removed]",
      "text/plain": [
       "<Figure size 432x288 with 1 Axes>"
      ]
     },
     "metadata": {
      "needs_background": "light"
     },
     "output_type": "display_data"
    }
   ],
   "source": [
    "plt.xlabel(\"Test subject IDs\")\n",
    "plt.ylabel(\"Target value (YMRS)\")\n",
    "plt.plot(pred_df['y_actual'], label=\"Actual\")\n",
    "plt.plot(pred_df['y_pred'], label=\"Predicted\")\n",
    "plt.legend()\n",
    "plt.show()"
   ]
  }
 ],
 "metadata": {
  "interpreter": {
   "hash": "d7357180ab0aea027c2b76ff246d615b9a5a4459a76ec15419f48cf45c2c81d4"
  },
  "kernelspec": {
   "display_name": "Python 3.8.13 ('gpu')",
   "language": "python",
   "name": "python3"
  },
  "language_info": {
   "codemirror_mode": {
    "name": "ipython",
    "version": 3
   },
   "file_extension": ".py",
   "mimetype": "text/x-python",
   "name": "python",
   "nbconvert_exporter": "python",
   "pygments_lexer": "ipython3",
   "version": "3.8.13"
  },
  "orig_nbformat": 4
 },
 "nbformat": 4,
 "nbformat_minor": 2
}
