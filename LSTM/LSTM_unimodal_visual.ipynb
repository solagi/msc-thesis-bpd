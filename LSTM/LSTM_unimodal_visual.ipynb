{
 "cells": [
  {
   "cell_type": "markdown",
   "metadata": {},
   "source": [
    "The following code defines LSTM model setup trained on visual modality data. "
   ]
  },
  {
   "cell_type": "code",
   "execution_count": 1,
   "metadata": {},
   "outputs": [],
   "source": [
    "import numpy as np\n",
    "import matplotlib.pyplot as plt\n",
    "import pandas as pd"
   ]
  },
  {
   "cell_type": "code",
   "execution_count": 2,
   "metadata": {},
   "outputs": [
    {
     "name": "stderr",
     "output_type": "stream",
     "text": [
      "2022-05-28 10:54:16.711599: I tensorflow/stream_executor/platform/default/dso_loader.cc:49] Successfully opened dynamic library libcudart.so.10.1\n"
     ]
    }
   ],
   "source": [
    "import tensorflow as tf\n",
    "from tensorflow import keras\n",
    "from tensorflow.keras.models import Sequential\n",
    "from tensorflow.keras import layers\n",
    "from sklearn.preprocessing import StandardScaler"
   ]
  },
  {
   "cell_type": "code",
   "execution_count": 3,
   "metadata": {},
   "outputs": [],
   "source": [
    "import sys\n",
    "sys.path.insert(1, '../')\n",
    "\n",
    "from data_preparation import prepare_x_data, get_Y_labels, reshape_Y, reshape_X, unscale_Y"
   ]
  },
  {
   "cell_type": "code",
   "execution_count": 4,
   "metadata": {},
   "outputs": [],
   "source": [
    "scaler = StandardScaler()"
   ]
  },
  {
   "cell_type": "markdown",
   "metadata": {},
   "source": [
    "## Data preparation"
   ]
  },
  {
   "cell_type": "markdown",
   "metadata": {},
   "source": [
    "Data preparation includes: <br>\n",
    "<ul>\n",
    "  <li>selecting necessary features from source files</li>\n",
    "  <li>creating combined dataset for the model training</li>\n",
    "  <li>reshaping data for model training.</li>\n"
   ]
  },
  {
   "cell_type": "markdown",
   "metadata": {},
   "source": [
    "### X data - visual features"
   ]
  },
  {
   "cell_type": "code",
   "execution_count": 5,
   "metadata": {},
   "outputs": [],
   "source": [
    "x_train = prepare_x_data('../Data/LLDs_video_openface/train',',', 5, scaler)"
   ]
  },
  {
   "cell_type": "code",
   "execution_count": 6,
   "metadata": {},
   "outputs": [],
   "source": [
    "x_test = prepare_x_data('../Data/LLDs_video_openface/dev',',', 5, scaler) "
   ]
  },
  {
   "cell_type": "markdown",
   "metadata": {},
   "source": [
    "### Y data - YMRS score"
   ]
  },
  {
   "cell_type": "code",
   "execution_count": 7,
   "metadata": {},
   "outputs": [],
   "source": [
    "y_train = get_Y_labels('../Data/labels_metadata.csv', 60, 164, scaler)\n",
    "y_train = reshape_Y(y_train,len(x_train),1,1)"
   ]
  },
  {
   "cell_type": "code",
   "execution_count": 8,
   "metadata": {},
   "outputs": [],
   "source": [
    "y_test = get_Y_labels('../Data/labels_metadata.csv', 0, 60, scaler)\n",
    "y_test = reshape_Y(y_test,len(x_test),1,1)"
   ]
  },
  {
   "cell_type": "markdown",
   "metadata": {},
   "source": [
    "## Model setup - LSTM"
   ]
  },
  {
   "cell_type": "markdown",
   "metadata": {},
   "source": [
    "Proposed model for LSTM recurrent neural network architecture."
   ]
  },
  {
   "cell_type": "markdown",
   "metadata": {},
   "source": [
    "### Defining the model"
   ]
  },
  {
   "cell_type": "code",
   "execution_count": 9,
   "metadata": {},
   "outputs": [
    {
     "name": "stderr",
     "output_type": "stream",
     "text": [
      "2022-05-28 10:54:54.568047: I tensorflow/compiler/jit/xla_cpu_device.cc:41] Not creating XLA devices, tf_xla_enable_xla_devices not set\n",
      "2022-05-28 10:54:54.575558: I tensorflow/stream_executor/platform/default/dso_loader.cc:49] Successfully opened dynamic library libcuda.so.1\n",
      "2022-05-28 10:54:56.145347: E tensorflow/stream_executor/cuda/cuda_gpu_executor.cc:927] could not open file to read NUMA node: /sys/bus/pci/devices/0000:01:00.0/numa_node\n",
      "Your kernel may have been built without NUMA support.\n",
      "2022-05-28 10:54:56.149317: I tensorflow/core/common_runtime/gpu/gpu_device.cc:1720] Found device 0 with properties: \n",
      "pciBusID: 0000:01:00.0 name: NVIDIA GeForce GTX 1660 Ti computeCapability: 7.5\n",
      "coreClock: 1.59GHz coreCount: 24 deviceMemorySize: 6.00GiB deviceMemoryBandwidth: 268.26GiB/s\n",
      "2022-05-28 10:54:56.149404: I tensorflow/stream_executor/platform/default/dso_loader.cc:49] Successfully opened dynamic library libcudart.so.10.1\n",
      "2022-05-28 10:54:56.150414: I tensorflow/stream_executor/platform/default/dso_loader.cc:49] Successfully opened dynamic library libcublas.so.10\n",
      "2022-05-28 10:54:56.150478: I tensorflow/stream_executor/platform/default/dso_loader.cc:49] Successfully opened dynamic library libcublasLt.so.10\n",
      "2022-05-28 10:54:56.151478: I tensorflow/stream_executor/platform/default/dso_loader.cc:49] Successfully opened dynamic library libcufft.so.10\n",
      "2022-05-28 10:54:56.151697: I tensorflow/stream_executor/platform/default/dso_loader.cc:49] Successfully opened dynamic library libcurand.so.10\n",
      "2022-05-28 10:54:56.152900: I tensorflow/stream_executor/platform/default/dso_loader.cc:49] Successfully opened dynamic library libcusolver.so.10\n",
      "2022-05-28 10:54:56.153376: I tensorflow/stream_executor/platform/default/dso_loader.cc:49] Successfully opened dynamic library libcusparse.so.10\n",
      "2022-05-28 10:54:56.155109: I tensorflow/stream_executor/platform/default/dso_loader.cc:49] Successfully opened dynamic library libcudnn.so.7\n",
      "2022-05-28 10:54:56.155295: E tensorflow/stream_executor/cuda/cuda_gpu_executor.cc:927] could not open file to read NUMA node: /sys/bus/pci/devices/0000:01:00.0/numa_node\n",
      "Your kernel may have been built without NUMA support.\n",
      "2022-05-28 10:54:56.155340: E tensorflow/stream_executor/cuda/cuda_gpu_executor.cc:927] could not open file to read NUMA node: /sys/bus/pci/devices/0000:01:00.0/numa_node\n",
      "Your kernel may have been built without NUMA support.\n",
      "2022-05-28 10:54:56.155348: I tensorflow/core/common_runtime/gpu/gpu_device.cc:1862] Adding visible gpu devices: 0\n",
      "2022-05-28 10:54:56.156560: I tensorflow/core/platform/cpu_feature_guard.cc:142] This TensorFlow binary is optimized with oneAPI Deep Neural Network Library (oneDNN) to use the following CPU instructions in performance-critical operations:  SSE4.1 SSE4.2 AVX AVX2 FMA\n",
      "To enable them in other operations, rebuild TensorFlow with the appropriate compiler flags.\n",
      "2022-05-28 10:54:56.158799: I tensorflow/compiler/jit/xla_gpu_device.cc:99] Not creating XLA devices, tf_xla_enable_xla_devices not set\n",
      "2022-05-28 10:54:56.159025: E tensorflow/stream_executor/cuda/cuda_gpu_executor.cc:927] could not open file to read NUMA node: /sys/bus/pci/devices/0000:01:00.0/numa_node\n",
      "Your kernel may have been built without NUMA support.\n",
      "2022-05-28 10:54:56.159051: I tensorflow/core/common_runtime/gpu/gpu_device.cc:1720] Found device 0 with properties: \n",
      "pciBusID: 0000:01:00.0 name: NVIDIA GeForce GTX 1660 Ti computeCapability: 7.5\n",
      "coreClock: 1.59GHz coreCount: 24 deviceMemorySize: 6.00GiB deviceMemoryBandwidth: 268.26GiB/s\n",
      "2022-05-28 10:54:56.159082: I tensorflow/stream_executor/platform/default/dso_loader.cc:49] Successfully opened dynamic library libcudart.so.10.1\n",
      "2022-05-28 10:54:56.159103: I tensorflow/stream_executor/platform/default/dso_loader.cc:49] Successfully opened dynamic library libcublas.so.10\n",
      "2022-05-28 10:54:56.159114: I tensorflow/stream_executor/platform/default/dso_loader.cc:49] Successfully opened dynamic library libcublasLt.so.10\n",
      "2022-05-28 10:54:56.159122: I tensorflow/stream_executor/platform/default/dso_loader.cc:49] Successfully opened dynamic library libcufft.so.10\n",
      "2022-05-28 10:54:56.159131: I tensorflow/stream_executor/platform/default/dso_loader.cc:49] Successfully opened dynamic library libcurand.so.10\n",
      "2022-05-28 10:54:56.159139: I tensorflow/stream_executor/platform/default/dso_loader.cc:49] Successfully opened dynamic library libcusolver.so.10\n",
      "2022-05-28 10:54:56.159148: I tensorflow/stream_executor/platform/default/dso_loader.cc:49] Successfully opened dynamic library libcusparse.so.10\n",
      "2022-05-28 10:54:56.159156: I tensorflow/stream_executor/platform/default/dso_loader.cc:49] Successfully opened dynamic library libcudnn.so.7\n",
      "2022-05-28 10:54:56.159191: E tensorflow/stream_executor/cuda/cuda_gpu_executor.cc:927] could not open file to read NUMA node: /sys/bus/pci/devices/0000:01:00.0/numa_node\n",
      "Your kernel may have been built without NUMA support.\n",
      "2022-05-28 10:54:56.159221: E tensorflow/stream_executor/cuda/cuda_gpu_executor.cc:927] could not open file to read NUMA node: /sys/bus/pci/devices/0000:01:00.0/numa_node\n",
      "Your kernel may have been built without NUMA support.\n",
      "2022-05-28 10:54:56.159227: I tensorflow/core/common_runtime/gpu/gpu_device.cc:1862] Adding visible gpu devices: 0\n",
      "2022-05-28 10:54:56.159253: I tensorflow/stream_executor/platform/default/dso_loader.cc:49] Successfully opened dynamic library libcudart.so.10.1\n",
      "2022-05-28 10:54:56.820216: I tensorflow/core/common_runtime/gpu/gpu_device.cc:1261] Device interconnect StreamExecutor with strength 1 edge matrix:\n",
      "2022-05-28 10:54:56.820245: I tensorflow/core/common_runtime/gpu/gpu_device.cc:1267]      0 \n",
      "2022-05-28 10:54:56.820249: I tensorflow/core/common_runtime/gpu/gpu_device.cc:1280] 0:   N \n",
      "2022-05-28 10:54:56.820637: E tensorflow/stream_executor/cuda/cuda_gpu_executor.cc:927] could not open file to read NUMA node: /sys/bus/pci/devices/0000:01:00.0/numa_node\n",
      "Your kernel may have been built without NUMA support.\n",
      "2022-05-28 10:54:56.820653: I tensorflow/core/common_runtime/gpu/gpu_device.cc:1489] Could not identify NUMA node of platform GPU id 0, defaulting to 0.  Your kernel may not have been built with NUMA support.\n",
      "2022-05-28 10:54:56.820696: E tensorflow/stream_executor/cuda/cuda_gpu_executor.cc:927] could not open file to read NUMA node: /sys/bus/pci/devices/0000:01:00.0/numa_node\n",
      "Your kernel may have been built without NUMA support.\n",
      "2022-05-28 10:54:56.820734: E tensorflow/stream_executor/cuda/cuda_gpu_executor.cc:927] could not open file to read NUMA node: /sys/bus/pci/devices/0000:01:00.0/numa_node\n",
      "Your kernel may have been built without NUMA support.\n",
      "2022-05-28 10:54:56.820757: I tensorflow/core/common_runtime/gpu/gpu_device.cc:1406] Created TensorFlow device (/job:localhost/replica:0/task:0/device:GPU:0 with 4716 MB memory) -> physical GPU (device: 0, name: NVIDIA GeForce GTX 1660 Ti, pci bus id: 0000:01:00.0, compute capability: 7.5)\n"
     ]
    }
   ],
   "source": [
    "model = keras.Sequential()"
   ]
  },
  {
   "cell_type": "code",
   "execution_count": 10,
   "metadata": {},
   "outputs": [],
   "source": [
    "model.add(layers.LSTM(units = 206, input_shape=(None,465), return_sequences=True))\n",
    "model.add(layers.Dropout(0.004))\n",
    "model.add(layers.LSTM(units = 206, input_shape=(None,206), return_sequences=False))\n",
    "model.add(layers.Dropout(0.004))\n",
    "model.add(layers.Dense(1, activation='linear'))"
   ]
  },
  {
   "cell_type": "code",
   "execution_count": 11,
   "metadata": {},
   "outputs": [],
   "source": [
    "model.compile(\n",
    "    loss=\"mse\", \n",
    "    metrics= [keras.metrics.MeanAbsoluteError()], #['mean_absolute_error'],  \n",
    "    optimizer=keras.optimizers.Adam(learning_rate=0.003)\n",
    "    )"
   ]
  },
  {
   "cell_type": "code",
   "execution_count": 12,
   "metadata": {},
   "outputs": [
    {
     "name": "stdout",
     "output_type": "stream",
     "text": [
      "Model: \"sequential\"\n",
      "_________________________________________________________________\n",
      "Layer (type)                 Output Shape              Param #   \n",
      "=================================================================\n",
      "lstm (LSTM)                  (None, None, 206)         553728    \n",
      "_________________________________________________________________\n",
      "dropout (Dropout)            (None, None, 206)         0         \n",
      "_________________________________________________________________\n",
      "lstm_1 (LSTM)                (None, 206)               340312    \n",
      "_________________________________________________________________\n",
      "dropout_1 (Dropout)          (None, 206)               0         \n",
      "_________________________________________________________________\n",
      "dense (Dense)                (None, 1)                 207       \n",
      "=================================================================\n",
      "Total params: 894,247\n",
      "Trainable params: 894,247\n",
      "Non-trainable params: 0\n",
      "_________________________________________________________________\n"
     ]
    }
   ],
   "source": [
    "model.summary()"
   ]
  },
  {
   "cell_type": "code",
   "execution_count": 13,
   "metadata": {},
   "outputs": [
    {
     "data": {
      "image/png": "[encoded data removed]",
      "text/plain": [
       "<IPython.core.display.Image object>"
      ]
     },
     "execution_count": 13,
     "metadata": {},
     "output_type": "execute_result"
    }
   ],
   "source": [
    "keras.utils.plot_model(model=model, show_dtype=True, show_layer_names=True, show_shapes=True, to_file='LSTM_unimodal_visual.png') # learning rate"
   ]
  },
  {
   "cell_type": "markdown",
   "metadata": {},
   "source": [
    "### Model training"
   ]
  },
  {
   "cell_type": "markdown",
   "metadata": {},
   "source": [
    "Model training setup is based on an iterative approach where model is trained one file at a time, then learned parameters are saved and loaded in the next iterative step. This setup is necessary due to the fact that source files does not have an uniform size and differ in number of frames."
   ]
  },
  {
   "cell_type": "code",
   "execution_count": 14,
   "metadata": {},
   "outputs": [
    {
     "name": "stderr",
     "output_type": "stream",
     "text": [
      "2022-05-28 10:54:57.739301: I tensorflow/compiler/mlir/mlir_graph_optimization_pass.cc:116] None of the MLIR optimization passes are enabled (registered 2)\n",
      "2022-05-28 10:54:57.739779: I tensorflow/core/platform/profile_utils/cpu_utils.cc:112] CPU Frequency: 2994365000 Hz\n"
     ]
    },
    {
     "name": "stdout",
     "output_type": "stream",
     "text": [
      "Epoch 1/10\n"
     ]
    },
    {
     "name": "stderr",
     "output_type": "stream",
     "text": [
      "2022-05-28 10:54:59.278512: I tensorflow/stream_executor/platform/default/dso_loader.cc:49] Successfully opened dynamic library libcublas.so.10\n",
      "2022-05-28 10:54:59.518676: I tensorflow/stream_executor/platform/default/dso_loader.cc:49] Successfully opened dynamic library libcudnn.so.7\n"
     ]
    },
    {
     "name": "stdout",
     "output_type": "stream",
     "text": [
      "1/1 [==============================] - 11s 11s/step - loss: 0.0686 - mean_absolute_error: 0.2619\n",
      "Epoch 2/10\n",
      "1/1 [==============================] - 0s 318ms/step - loss: 20.1710 - mean_absolute_error: 4.4912\n",
      "Epoch 3/10\n",
      "1/1 [==============================] - 0s 284ms/step - loss: 0.3378 - mean_absolute_error: 0.5812\n",
      "Epoch 4/10\n",
      "1/1 [==============================] - 0s 295ms/step - loss: 3.8635 - mean_absolute_error: 1.9656\n",
      "Epoch 5/10\n",
      "1/1 [==============================] - 0s 304ms/step - loss: 1.6189 - mean_absolute_error: 1.2724\n",
      "Epoch 6/10\n",
      "1/1 [==============================] - 0s 266ms/step - loss: 0.2810 - mean_absolute_error: 0.5301\n",
      "Epoch 7/10\n",
      "1/1 [==============================] - 0s 291ms/step - loss: 0.0015 - mean_absolute_error: 0.0391\n",
      "Epoch 8/10\n",
      "1/1 [==============================] - 0s 274ms/step - loss: 0.1397 - mean_absolute_error: 0.3737\n",
      "Epoch 9/10\n",
      "1/1 [==============================] - 0s 274ms/step - loss: 0.2640 - mean_absolute_error: 0.5138\n",
      "Epoch 10/10\n",
      "1/1 [==============================] - 0s 267ms/step - loss: 0.2845 - mean_absolute_error: 0.5334\n"
     ]
    },
    {
     "name": "stderr",
     "output_type": "stream",
     "text": [
      "2022-05-28 10:55:14.488569: W tensorflow/python/util/util.cc:348] Sets are not currently considered sequences, but this may change in the future, so consider avoiding using them.\n",
      "WARNING:absl:Found untraced functions such as lstm_cell_layer_call_fn, lstm_cell_layer_call_and_return_conditional_losses, lstm_cell_1_layer_call_fn, lstm_cell_1_layer_call_and_return_conditional_losses, lstm_cell_layer_call_fn while saving (showing 5 of 10). These functions will not be directly callable after loading.\n",
      "WARNING:absl:Found untraced functions such as lstm_cell_layer_call_fn, lstm_cell_layer_call_and_return_conditional_losses, lstm_cell_1_layer_call_fn, lstm_cell_1_layer_call_and_return_conditional_losses, lstm_cell_layer_call_fn while saving (showing 5 of 10). These functions will not be directly callable after loading.\n"
     ]
    },
    {
     "name": "stdout",
     "output_type": "stream",
     "text": [
      "INFO:tensorflow:Assets written to: LSTM_train_visual/assets\n"
     ]
    },
    {
     "name": "stderr",
     "output_type": "stream",
     "text": [
      "INFO:tensorflow:Assets written to: LSTM_train_visual/assets\n"
     ]
    },
    {
     "name": "stdout",
     "output_type": "stream",
     "text": [
      "Epoch 1/10\n",
      "1/1 [==============================] - 2s 2s/step - loss: 1.0646 - mean_absolute_error: 1.0318\n",
      "Epoch 2/10\n",
      "1/1 [==============================] - 0s 283ms/step - loss: 0.1135 - mean_absolute_error: 0.3369\n",
      "Epoch 3/10\n",
      "1/1 [==============================] - 0s 289ms/step - loss: 0.1185 - mean_absolute_error: 0.3443\n",
      "Epoch 4/10\n",
      "1/1 [==============================] - 0s 284ms/step - loss: 0.0109 - mean_absolute_error: 0.1042\n",
      "Epoch 5/10\n",
      "1/1 [==============================] - 0s 285ms/step - loss: 0.0296 - mean_absolute_error: 0.1720\n",
      "Epoch 6/10\n",
      "1/1 [==============================] - 0s 281ms/step - loss: 0.0485 - mean_absolute_error: 0.2202\n",
      "Epoch 7/10\n",
      "1/1 [==============================] - 0s 297ms/step - loss: 0.0288 - mean_absolute_error: 0.1698\n",
      "Epoch 8/10\n",
      "1/1 [==============================] - 0s 306ms/step - loss: 0.0057 - mean_absolute_error: 0.0752\n",
      "Epoch 9/10\n",
      "1/1 [==============================] - 0s 308ms/step - loss: 0.0011 - mean_absolute_error: 0.0326\n",
      "Epoch 10/10\n",
      "1/1 [==============================] - 0s 282ms/step - loss: 0.0145 - mean_absolute_error: 0.1206\n"
     ]
    },
    {
     "name": "stderr",
     "output_type": "stream",
     "text": [
      "WARNING:absl:Found untraced functions such as lstm_cell_2_layer_call_fn, lstm_cell_2_layer_call_and_return_conditional_losses, lstm_cell_3_layer_call_fn, lstm_cell_3_layer_call_and_return_conditional_losses, lstm_cell_2_layer_call_fn while saving (showing 5 of 10). These functions will not be directly callable after loading.\n",
      "WARNING:absl:Found untraced functions such as lstm_cell_2_layer_call_fn, lstm_cell_2_layer_call_and_return_conditional_losses, lstm_cell_3_layer_call_fn, lstm_cell_3_layer_call_and_return_conditional_losses, lstm_cell_2_layer_call_fn while saving (showing 5 of 10). These functions will not be directly callable after loading.\n"
     ]
    },
    {
     "name": "stdout",
     "output_type": "stream",
     "text": [
      "INFO:tensorflow:Assets written to: LSTM_train_visual/assets\n"
     ]
    },
    {
     "name": "stderr",
     "output_type": "stream",
     "text": [
      "INFO:tensorflow:Assets written to: LSTM_train_visual/assets\n"
     ]
    },
    {
     "name": "stdout",
     "output_type": "stream",
     "text": [
      "Epoch 1/10\n",
      "1/1 [==============================] - 2s 2s/step - loss: 3.0087 - mean_absolute_error: 1.7346\n",
      "Epoch 2/10\n",
      "1/1 [==============================] - 0s 300ms/step - loss: 1.7946 - mean_absolute_error: 1.3396\n",
      "Epoch 3/10\n",
      "1/1 [==============================] - 0s 308ms/step - loss: 0.2057 - mean_absolute_error: 0.4536\n",
      "Epoch 4/10\n",
      "1/1 [==============================] - 0s 304ms/step - loss: 0.0132 - mean_absolute_error: 0.1149\n",
      "Epoch 5/10\n",
      "1/1 [==============================] - 0s 300ms/step - loss: 0.0185 - mean_absolute_error: 0.1361\n",
      "Epoch 6/10\n",
      "1/1 [==============================] - 0s 329ms/step - loss: 0.0229 - mean_absolute_error: 0.1514\n",
      "Epoch 7/10\n",
      "1/1 [==============================] - 0s 302ms/step - loss: 0.0173 - mean_absolute_error: 0.1316\n",
      "Epoch 8/10\n",
      "1/1 [==============================] - 0s 303ms/step - loss: 0.0099 - mean_absolute_error: 0.0995\n",
      "Epoch 9/10\n",
      "1/1 [==============================] - 0s 329ms/step - loss: 0.0280 - mean_absolute_error: 0.1672\n",
      "Epoch 10/10\n",
      "1/1 [==============================] - 0s 315ms/step - loss: 0.0015 - mean_absolute_error: 0.0383\n"
     ]
    },
    {
     "name": "stderr",
     "output_type": "stream",
     "text": [
      "WARNING:absl:Found untraced functions such as lstm_cell_4_layer_call_fn, lstm_cell_4_layer_call_and_return_conditional_losses, lstm_cell_5_layer_call_fn, lstm_cell_5_layer_call_and_return_conditional_losses, lstm_cell_4_layer_call_fn while saving (showing 5 of 10). These functions will not be directly callable after loading.\n",
      "WARNING:absl:Found untraced functions such as lstm_cell_4_layer_call_fn, lstm_cell_4_layer_call_and_return_conditional_losses, lstm_cell_5_layer_call_fn, lstm_cell_5_layer_call_and_return_conditional_losses, lstm_cell_4_layer_call_fn while saving (showing 5 of 10). These functions will not be directly callable after loading.\n"
     ]
    },
    {
     "name": "stdout",
     "output_type": "stream",
     "text": [
      "INFO:tensorflow:Assets written to: LSTM_train_visual/assets\n"
     ]
    },
    {
     "name": "stderr",
     "output_type": "stream",
     "text": [
      "INFO:tensorflow:Assets written to: LSTM_train_visual/assets\n"
     ]
    },
    {
     "name": "stdout",
     "output_type": "stream",
     "text": [
      "Epoch 1/10\n",
      "1/1 [==============================] - 2s 2s/step - loss: 0.1032 - mean_absolute_error: 0.3212\n",
      "Epoch 2/10\n",
      "1/1 [==============================] - 0s 249ms/step - loss: 4.2226 - mean_absolute_error: 2.0549\n",
      "Epoch 3/10\n",
      "1/1 [==============================] - 0s 262ms/step - loss: 0.0039 - mean_absolute_error: 0.0628\n",
      "Epoch 4/10\n",
      "1/1 [==============================] - 0s 246ms/step - loss: 2.0891 - mean_absolute_error: 1.4454\n",
      "Epoch 5/10\n",
      "1/1 [==============================] - 0s 247ms/step - loss: 0.1074 - mean_absolute_error: 0.3278\n",
      "Epoch 6/10\n",
      "1/1 [==============================] - 0s 261ms/step - loss: 0.1497 - mean_absolute_error: 0.3870\n",
      "Epoch 7/10\n",
      "1/1 [==============================] - 0s 248ms/step - loss: 0.1564 - mean_absolute_error: 0.3955\n",
      "Epoch 8/10\n",
      "1/1 [==============================] - 0s 271ms/step - loss: 0.0031 - mean_absolute_error: 0.0558\n",
      "Epoch 9/10\n",
      "1/1 [==============================] - 0s 247ms/step - loss: 0.0906 - mean_absolute_error: 0.3010\n",
      "Epoch 10/10\n",
      "1/1 [==============================] - 0s 251ms/step - loss: 0.0416 - mean_absolute_error: 0.2039\n"
     ]
    },
    {
     "name": "stderr",
     "output_type": "stream",
     "text": [
      "WARNING:absl:Found untraced functions such as lstm_cell_6_layer_call_fn, lstm_cell_6_layer_call_and_return_conditional_losses, lstm_cell_7_layer_call_fn, lstm_cell_7_layer_call_and_return_conditional_losses, lstm_cell_6_layer_call_fn while saving (showing 5 of 10). These functions will not be directly callable after loading.\n",
      "WARNING:absl:Found untraced functions such as lstm_cell_6_layer_call_fn, lstm_cell_6_layer_call_and_return_conditional_losses, lstm_cell_7_layer_call_fn, lstm_cell_7_layer_call_and_return_conditional_losses, lstm_cell_6_layer_call_fn while saving (showing 5 of 10). These functions will not be directly callable after loading.\n"
     ]
    },
    {
     "name": "stdout",
     "output_type": "stream",
     "text": [
      "INFO:tensorflow:Assets written to: LSTM_train_visual/assets\n"
     ]
    },
    {
     "name": "stderr",
     "output_type": "stream",
     "text": [
      "INFO:tensorflow:Assets written to: LSTM_train_visual/assets\n"
     ]
    },
    {
     "name": "stdout",
     "output_type": "stream",
     "text": [
      "Epoch 1/10\n",
      "1/1 [==============================] - 2s 2s/step - loss: 0.1505 - mean_absolute_error: 0.3879\n",
      "Epoch 2/10\n",
      "1/1 [==============================] - 0s 111ms/step - loss: 1.9827 - mean_absolute_error: 1.4081\n",
      "Epoch 3/10\n",
      "1/1 [==============================] - 0s 106ms/step - loss: 0.0935 - mean_absolute_error: 0.3058\n",
      "Epoch 4/10\n",
      "1/1 [==============================] - 0s 91ms/step - loss: 0.5390 - mean_absolute_error: 0.7342\n",
      "Epoch 5/10\n",
      "1/1 [==============================] - 0s 92ms/step - loss: 0.4953 - mean_absolute_error: 0.7038\n",
      "Epoch 6/10\n",
      "1/1 [==============================] - 0s 91ms/step - loss: 0.1561 - mean_absolute_error: 0.3950\n",
      "Epoch 7/10\n",
      "1/1 [==============================] - 0s 90ms/step - loss: 0.0055 - mean_absolute_error: 0.0740\n",
      "Epoch 8/10\n",
      "1/1 [==============================] - 0s 100ms/step - loss: 0.0483 - mean_absolute_error: 0.2197\n",
      "Epoch 9/10\n",
      "1/1 [==============================] - 0s 94ms/step - loss: 0.1415 - mean_absolute_error: 0.3762\n",
      "Epoch 10/10\n",
      "1/1 [==============================] - 0s 100ms/step - loss: 0.1511 - mean_absolute_error: 0.3887\n",
      "WARNING:tensorflow:5 out of the last 5 calls to <function Model.make_test_function.<locals>.test_function at 0x7fc050b5cdc0> triggered tf.function retracing. Tracing is expensive and the excessive number of tracings could be due to (1) creating @tf.function repeatedly in a loop, (2) passing tensors with different shapes, (3) passing Python objects instead of tensors. For (1), please define your @tf.function outside of the loop. For (2), @tf.function has experimental_relax_shapes=True option that relaxes argument shapes that can avoid unnecessary retracing. For (3), please refer to https://www.tensorflow.org/guide/function#controlling_retracing and https://www.tensorflow.org/api_docs/python/tf/function for  more details.\n"
     ]
    },
    {
     "name": "stderr",
     "output_type": "stream",
     "text": [
      "WARNING:tensorflow:5 out of the last 5 calls to <function Model.make_test_function.<locals>.test_function at 0x7fc050b5cdc0> triggered tf.function retracing. Tracing is expensive and the excessive number of tracings could be due to (1) creating @tf.function repeatedly in a loop, (2) passing tensors with different shapes, (3) passing Python objects instead of tensors. For (1), please define your @tf.function outside of the loop. For (2), @tf.function has experimental_relax_shapes=True option that relaxes argument shapes that can avoid unnecessary retracing. For (3), please refer to https://www.tensorflow.org/guide/function#controlling_retracing and https://www.tensorflow.org/api_docs/python/tf/function for  more details.\n",
      "WARNING:absl:Found untraced functions such as lstm_cell_8_layer_call_fn, lstm_cell_8_layer_call_and_return_conditional_losses, lstm_cell_9_layer_call_fn, lstm_cell_9_layer_call_and_return_conditional_losses, lstm_cell_8_layer_call_fn while saving (showing 5 of 10). These functions will not be directly callable after loading.\n",
      "WARNING:absl:Found untraced functions such as lstm_cell_8_layer_call_fn, lstm_cell_8_layer_call_and_return_conditional_losses, lstm_cell_9_layer_call_fn, lstm_cell_9_layer_call_and_return_conditional_losses, lstm_cell_8_layer_call_fn while saving (showing 5 of 10). These functions will not be directly callable after loading.\n"
     ]
    },
    {
     "name": "stdout",
     "output_type": "stream",
     "text": [
      "INFO:tensorflow:Assets written to: LSTM_train_visual/assets\n"
     ]
    },
    {
     "name": "stderr",
     "output_type": "stream",
     "text": [
      "INFO:tensorflow:Assets written to: LSTM_train_visual/assets\n"
     ]
    },
    {
     "name": "stdout",
     "output_type": "stream",
     "text": [
      "Epoch 1/10\n",
      "1/1 [==============================] - 2s 2s/step - loss: 1.0239 - mean_absolute_error: 1.0119\n",
      "Epoch 2/10\n",
      "1/1 [==============================] - 0s 282ms/step - loss: 0.0699 - mean_absolute_error: 0.2644\n",
      "Epoch 3/10\n",
      "1/1 [==============================] - 0s 310ms/step - loss: 0.1565 - mean_absolute_error: 0.3956\n",
      "Epoch 4/10\n",
      "1/1 [==============================] - 0s 320ms/step - loss: 0.0246 - mean_absolute_error: 0.1570\n",
      "Epoch 5/10\n",
      "1/1 [==============================] - 0s 288ms/step - loss: 0.0026 - mean_absolute_error: 0.0506\n",
      "Epoch 6/10\n",
      "1/1 [==============================] - 0s 280ms/step - loss: 0.0103 - mean_absolute_error: 0.1016\n",
      "Epoch 7/10\n",
      "1/1 [==============================] - 0s 304ms/step - loss: 0.0063 - mean_absolute_error: 0.0794\n",
      "Epoch 8/10\n",
      "1/1 [==============================] - 0s 281ms/step - loss: 1.0169e-04 - mean_absolute_error: 0.0101\n",
      "Epoch 9/10\n",
      "1/1 [==============================] - 0s 338ms/step - loss: 0.0142 - mean_absolute_error: 0.1190\n",
      "Epoch 10/10\n",
      "1/1 [==============================] - 0s 282ms/step - loss: 0.0012 - mean_absolute_error: 0.0342\n",
      "WARNING:tensorflow:6 out of the last 6 calls to <function Model.make_test_function.<locals>.test_function at 0x7fbfa04ed940> triggered tf.function retracing. Tracing is expensive and the excessive number of tracings could be due to (1) creating @tf.function repeatedly in a loop, (2) passing tensors with different shapes, (3) passing Python objects instead of tensors. For (1), please define your @tf.function outside of the loop. For (2), @tf.function has experimental_relax_shapes=True option that relaxes argument shapes that can avoid unnecessary retracing. For (3), please refer to https://www.tensorflow.org/guide/function#controlling_retracing and https://www.tensorflow.org/api_docs/python/tf/function for  more details.\n"
     ]
    },
    {
     "name": "stderr",
     "output_type": "stream",
     "text": [
      "WARNING:tensorflow:6 out of the last 6 calls to <function Model.make_test_function.<locals>.test_function at 0x7fbfa04ed940> triggered tf.function retracing. Tracing is expensive and the excessive number of tracings could be due to (1) creating @tf.function repeatedly in a loop, (2) passing tensors with different shapes, (3) passing Python objects instead of tensors. For (1), please define your @tf.function outside of the loop. For (2), @tf.function has experimental_relax_shapes=True option that relaxes argument shapes that can avoid unnecessary retracing. For (3), please refer to https://www.tensorflow.org/guide/function#controlling_retracing and https://www.tensorflow.org/api_docs/python/tf/function for  more details.\n",
      "WARNING:absl:Found untraced functions such as lstm_cell_10_layer_call_fn, lstm_cell_10_layer_call_and_return_conditional_losses, lstm_cell_11_layer_call_fn, lstm_cell_11_layer_call_and_return_conditional_losses, lstm_cell_10_layer_call_fn while saving (showing 5 of 10). These functions will not be directly callable after loading.\n",
      "WARNING:absl:Found untraced functions such as lstm_cell_10_layer_call_fn, lstm_cell_10_layer_call_and_return_conditional_losses, lstm_cell_11_layer_call_fn, lstm_cell_11_layer_call_and_return_conditional_losses, lstm_cell_10_layer_call_fn while saving (showing 5 of 10). These functions will not be directly callable after loading.\n"
     ]
    },
    {
     "name": "stdout",
     "output_type": "stream",
     "text": [
      "INFO:tensorflow:Assets written to: LSTM_train_visual/assets\n"
     ]
    },
    {
     "name": "stderr",
     "output_type": "stream",
     "text": [
      "INFO:tensorflow:Assets written to: LSTM_train_visual/assets\n"
     ]
    },
    {
     "name": "stdout",
     "output_type": "stream",
     "text": [
      "Epoch 1/10\n",
      "1/1 [==============================] - 2s 2s/step - loss: 2.5337 - mean_absolute_error: 1.5917\n",
      "Epoch 2/10\n",
      "1/1 [==============================] - 0s 246ms/step - loss: 1.0946 - mean_absolute_error: 1.0463\n",
      "Epoch 3/10\n",
      "1/1 [==============================] - 0s 202ms/step - loss: 0.2731 - mean_absolute_error: 0.5226\n",
      "Epoch 4/10\n",
      "1/1 [==============================] - 0s 204ms/step - loss: 0.0180 - mean_absolute_error: 0.1341\n",
      "Epoch 5/10\n",
      "1/1 [==============================] - 0s 207ms/step - loss: 0.3112 - mean_absolute_error: 0.5578\n",
      "Epoch 6/10\n",
      "1/1 [==============================] - 0s 202ms/step - loss: 0.1587 - mean_absolute_error: 0.3984\n",
      "Epoch 7/10\n",
      "1/1 [==============================] - 0s 214ms/step - loss: 0.0386 - mean_absolute_error: 0.1964\n",
      "Epoch 8/10\n",
      "1/1 [==============================] - 0s 202ms/step - loss: 0.0024 - mean_absolute_error: 0.0494\n",
      "Epoch 9/10\n",
      "1/1 [==============================] - 0s 201ms/step - loss: 0.0089 - mean_absolute_error: 0.0946\n",
      "Epoch 10/10\n",
      "1/1 [==============================] - 0s 200ms/step - loss: 0.0076 - mean_absolute_error: 0.0873\n",
      "WARNING:tensorflow:7 out of the last 7 calls to <function Model.make_test_function.<locals>.test_function at 0x7fc02f936b80> triggered tf.function retracing. Tracing is expensive and the excessive number of tracings could be due to (1) creating @tf.function repeatedly in a loop, (2) passing tensors with different shapes, (3) passing Python objects instead of tensors. For (1), please define your @tf.function outside of the loop. For (2), @tf.function has experimental_relax_shapes=True option that relaxes argument shapes that can avoid unnecessary retracing. For (3), please refer to https://www.tensorflow.org/guide/function#controlling_retracing and https://www.tensorflow.org/api_docs/python/tf/function for  more details.\n"
     ]
    },
    {
     "name": "stderr",
     "output_type": "stream",
     "text": [
      "WARNING:tensorflow:7 out of the last 7 calls to <function Model.make_test_function.<locals>.test_function at 0x7fc02f936b80> triggered tf.function retracing. Tracing is expensive and the excessive number of tracings could be due to (1) creating @tf.function repeatedly in a loop, (2) passing tensors with different shapes, (3) passing Python objects instead of tensors. For (1), please define your @tf.function outside of the loop. For (2), @tf.function has experimental_relax_shapes=True option that relaxes argument shapes that can avoid unnecessary retracing. For (3), please refer to https://www.tensorflow.org/guide/function#controlling_retracing and https://www.tensorflow.org/api_docs/python/tf/function for  more details.\n",
      "WARNING:absl:Found untraced functions such as lstm_cell_12_layer_call_fn, lstm_cell_12_layer_call_and_return_conditional_losses, lstm_cell_13_layer_call_fn, lstm_cell_13_layer_call_and_return_conditional_losses, lstm_cell_12_layer_call_fn while saving (showing 5 of 10). These functions will not be directly callable after loading.\n",
      "WARNING:absl:Found untraced functions such as lstm_cell_12_layer_call_fn, lstm_cell_12_layer_call_and_return_conditional_losses, lstm_cell_13_layer_call_fn, lstm_cell_13_layer_call_and_return_conditional_losses, lstm_cell_12_layer_call_fn while saving (showing 5 of 10). These functions will not be directly callable after loading.\n"
     ]
    },
    {
     "name": "stdout",
     "output_type": "stream",
     "text": [
      "INFO:tensorflow:Assets written to: LSTM_train_visual/assets\n"
     ]
    },
    {
     "name": "stderr",
     "output_type": "stream",
     "text": [
      "INFO:tensorflow:Assets written to: LSTM_train_visual/assets\n"
     ]
    },
    {
     "name": "stdout",
     "output_type": "stream",
     "text": [
      "Epoch 1/10\n",
      "1/1 [==============================] - 2s 2s/step - loss: 2.0398 - mean_absolute_error: 1.4282\n",
      "Epoch 2/10\n",
      "1/1 [==============================] - 0s 143ms/step - loss: 1.5581 - mean_absolute_error: 1.2482\n",
      "Epoch 3/10\n",
      "1/1 [==============================] - 0s 143ms/step - loss: 0.0686 - mean_absolute_error: 0.2619\n",
      "Epoch 4/10\n",
      "1/1 [==============================] - 0s 143ms/step - loss: 0.2673 - mean_absolute_error: 0.5170\n",
      "Epoch 5/10\n",
      "1/1 [==============================] - 0s 143ms/step - loss: 0.3946 - mean_absolute_error: 0.6282\n",
      "Epoch 6/10\n",
      "1/1 [==============================] - 0s 148ms/step - loss: 0.1988 - mean_absolute_error: 0.4459\n",
      "Epoch 7/10\n",
      "1/1 [==============================] - 0s 158ms/step - loss: 0.0227 - mean_absolute_error: 0.1508\n",
      "Epoch 8/10\n",
      "1/1 [==============================] - 0s 143ms/step - loss: 0.0936 - mean_absolute_error: 0.3060\n",
      "Epoch 9/10\n",
      "1/1 [==============================] - 0s 160ms/step - loss: 0.1595 - mean_absolute_error: 0.3994\n",
      "Epoch 10/10\n",
      "1/1 [==============================] - 0s 142ms/step - loss: 0.0461 - mean_absolute_error: 0.2146\n",
      "WARNING:tensorflow:8 out of the last 8 calls to <function Model.make_test_function.<locals>.test_function at 0x7fc050bc4dc0> triggered tf.function retracing. Tracing is expensive and the excessive number of tracings could be due to (1) creating @tf.function repeatedly in a loop, (2) passing tensors with different shapes, (3) passing Python objects instead of tensors. For (1), please define your @tf.function outside of the loop. For (2), @tf.function has experimental_relax_shapes=True option that relaxes argument shapes that can avoid unnecessary retracing. For (3), please refer to https://www.tensorflow.org/guide/function#controlling_retracing and https://www.tensorflow.org/api_docs/python/tf/function for  more details.\n"
     ]
    },
    {
     "name": "stderr",
     "output_type": "stream",
     "text": [
      "WARNING:tensorflow:8 out of the last 8 calls to <function Model.make_test_function.<locals>.test_function at 0x7fc050bc4dc0> triggered tf.function retracing. Tracing is expensive and the excessive number of tracings could be due to (1) creating @tf.function repeatedly in a loop, (2) passing tensors with different shapes, (3) passing Python objects instead of tensors. For (1), please define your @tf.function outside of the loop. For (2), @tf.function has experimental_relax_shapes=True option that relaxes argument shapes that can avoid unnecessary retracing. For (3), please refer to https://www.tensorflow.org/guide/function#controlling_retracing and https://www.tensorflow.org/api_docs/python/tf/function for  more details.\n",
      "WARNING:absl:Found untraced functions such as lstm_cell_14_layer_call_fn, lstm_cell_14_layer_call_and_return_conditional_losses, lstm_cell_15_layer_call_fn, lstm_cell_15_layer_call_and_return_conditional_losses, lstm_cell_14_layer_call_fn while saving (showing 5 of 10). These functions will not be directly callable after loading.\n",
      "WARNING:absl:Found untraced functions such as lstm_cell_14_layer_call_fn, lstm_cell_14_layer_call_and_return_conditional_losses, lstm_cell_15_layer_call_fn, lstm_cell_15_layer_call_and_return_conditional_losses, lstm_cell_14_layer_call_fn while saving (showing 5 of 10). These functions will not be directly callable after loading.\n"
     ]
    },
    {
     "name": "stdout",
     "output_type": "stream",
     "text": [
      "INFO:tensorflow:Assets written to: LSTM_train_visual/assets\n"
     ]
    },
    {
     "name": "stderr",
     "output_type": "stream",
     "text": [
      "INFO:tensorflow:Assets written to: LSTM_train_visual/assets\n"
     ]
    },
    {
     "name": "stdout",
     "output_type": "stream",
     "text": [
      "Epoch 1/10\n",
      "1/1 [==============================] - 2s 2s/step - loss: 8.7811 - mean_absolute_error: 2.9633\n",
      "Epoch 2/10\n",
      "1/1 [==============================] - 0s 160ms/step - loss: 5.7067 - mean_absolute_error: 2.3889\n",
      "Epoch 3/10\n",
      "1/1 [==============================] - 0s 140ms/step - loss: 3.4616 - mean_absolute_error: 1.8605\n",
      "Epoch 4/10\n",
      "1/1 [==============================] - 0s 140ms/step - loss: 2.1965 - mean_absolute_error: 1.4821\n",
      "Epoch 5/10\n",
      "1/1 [==============================] - 0s 147ms/step - loss: 0.9736 - mean_absolute_error: 0.9867\n",
      "Epoch 6/10\n",
      "1/1 [==============================] - 0s 154ms/step - loss: 0.3053 - mean_absolute_error: 0.5525\n",
      "Epoch 7/10\n",
      "1/1 [==============================] - 0s 153ms/step - loss: 0.0260 - mean_absolute_error: 0.1613\n",
      "Epoch 8/10\n",
      "1/1 [==============================] - 0s 140ms/step - loss: 0.2307 - mean_absolute_error: 0.4803\n",
      "Epoch 9/10\n",
      "1/1 [==============================] - 0s 139ms/step - loss: 0.3230 - mean_absolute_error: 0.5683\n",
      "Epoch 10/10\n",
      "1/1 [==============================] - 0s 141ms/step - loss: 0.2088 - mean_absolute_error: 0.4569\n",
      "WARNING:tensorflow:9 out of the last 9 calls to <function Model.make_test_function.<locals>.test_function at 0x7fc050b3d5e0> triggered tf.function retracing. Tracing is expensive and the excessive number of tracings could be due to (1) creating @tf.function repeatedly in a loop, (2) passing tensors with different shapes, (3) passing Python objects instead of tensors. For (1), please define your @tf.function outside of the loop. For (2), @tf.function has experimental_relax_shapes=True option that relaxes argument shapes that can avoid unnecessary retracing. For (3), please refer to https://www.tensorflow.org/guide/function#controlling_retracing and https://www.tensorflow.org/api_docs/python/tf/function for  more details.\n"
     ]
    },
    {
     "name": "stderr",
     "output_type": "stream",
     "text": [
      "WARNING:tensorflow:9 out of the last 9 calls to <function Model.make_test_function.<locals>.test_function at 0x7fc050b3d5e0> triggered tf.function retracing. Tracing is expensive and the excessive number of tracings could be due to (1) creating @tf.function repeatedly in a loop, (2) passing tensors with different shapes, (3) passing Python objects instead of tensors. For (1), please define your @tf.function outside of the loop. For (2), @tf.function has experimental_relax_shapes=True option that relaxes argument shapes that can avoid unnecessary retracing. For (3), please refer to https://www.tensorflow.org/guide/function#controlling_retracing and https://www.tensorflow.org/api_docs/python/tf/function for  more details.\n",
      "WARNING:absl:Found untraced functions such as lstm_cell_16_layer_call_fn, lstm_cell_16_layer_call_and_return_conditional_losses, lstm_cell_17_layer_call_fn, lstm_cell_17_layer_call_and_return_conditional_losses, lstm_cell_16_layer_call_fn while saving (showing 5 of 10). These functions will not be directly callable after loading.\n",
      "WARNING:absl:Found untraced functions such as lstm_cell_16_layer_call_fn, lstm_cell_16_layer_call_and_return_conditional_losses, lstm_cell_17_layer_call_fn, lstm_cell_17_layer_call_and_return_conditional_losses, lstm_cell_16_layer_call_fn while saving (showing 5 of 10). These functions will not be directly callable after loading.\n"
     ]
    },
    {
     "name": "stdout",
     "output_type": "stream",
     "text": [
      "INFO:tensorflow:Assets written to: LSTM_train_visual/assets\n"
     ]
    },
    {
     "name": "stderr",
     "output_type": "stream",
     "text": [
      "INFO:tensorflow:Assets written to: LSTM_train_visual/assets\n"
     ]
    },
    {
     "name": "stdout",
     "output_type": "stream",
     "text": [
      "Epoch 1/10\n",
      "1/1 [==============================] - 2s 2s/step - loss: 4.8940 - mean_absolute_error: 2.2122\n",
      "Epoch 2/10\n",
      "1/1 [==============================] - 0s 158ms/step - loss: 4.2393 - mean_absolute_error: 2.0590\n",
      "Epoch 3/10\n",
      "1/1 [==============================] - 0s 140ms/step - loss: 1.5063 - mean_absolute_error: 1.2273\n",
      "Epoch 4/10\n",
      "1/1 [==============================] - 0s 140ms/step - loss: 0.0154 - mean_absolute_error: 0.1243\n",
      "Epoch 5/10\n",
      "1/1 [==============================] - 0s 150ms/step - loss: 0.2431 - mean_absolute_error: 0.4931\n",
      "Epoch 6/10\n",
      "1/1 [==============================] - 0s 139ms/step - loss: 0.0701 - mean_absolute_error: 0.2648\n",
      "Epoch 7/10\n",
      "1/1 [==============================] - 0s 154ms/step - loss: 0.0961 - mean_absolute_error: 0.3100\n",
      "Epoch 8/10\n",
      "1/1 [==============================] - 0s 140ms/step - loss: 0.0049 - mean_absolute_error: 0.0699\n",
      "Epoch 9/10\n",
      "1/1 [==============================] - 0s 139ms/step - loss: 0.0358 - mean_absolute_error: 0.1891\n",
      "Epoch 10/10\n",
      "1/1 [==============================] - 0s 140ms/step - loss: 0.0394 - mean_absolute_error: 0.1984\n",
      "WARNING:tensorflow:10 out of the last 10 calls to <function Model.make_test_function.<locals>.test_function at 0x7fc02fb69820> triggered tf.function retracing. Tracing is expensive and the excessive number of tracings could be due to (1) creating @tf.function repeatedly in a loop, (2) passing tensors with different shapes, (3) passing Python objects instead of tensors. For (1), please define your @tf.function outside of the loop. For (2), @tf.function has experimental_relax_shapes=True option that relaxes argument shapes that can avoid unnecessary retracing. For (3), please refer to https://www.tensorflow.org/guide/function#controlling_retracing and https://www.tensorflow.org/api_docs/python/tf/function for  more details.\n"
     ]
    },
    {
     "name": "stderr",
     "output_type": "stream",
     "text": [
      "WARNING:tensorflow:10 out of the last 10 calls to <function Model.make_test_function.<locals>.test_function at 0x7fc02fb69820> triggered tf.function retracing. Tracing is expensive and the excessive number of tracings could be due to (1) creating @tf.function repeatedly in a loop, (2) passing tensors with different shapes, (3) passing Python objects instead of tensors. For (1), please define your @tf.function outside of the loop. For (2), @tf.function has experimental_relax_shapes=True option that relaxes argument shapes that can avoid unnecessary retracing. For (3), please refer to https://www.tensorflow.org/guide/function#controlling_retracing and https://www.tensorflow.org/api_docs/python/tf/function for  more details.\n",
      "WARNING:absl:Found untraced functions such as lstm_cell_18_layer_call_fn, lstm_cell_18_layer_call_and_return_conditional_losses, lstm_cell_19_layer_call_fn, lstm_cell_19_layer_call_and_return_conditional_losses, lstm_cell_18_layer_call_fn while saving (showing 5 of 10). These functions will not be directly callable after loading.\n",
      "WARNING:absl:Found untraced functions such as lstm_cell_18_layer_call_fn, lstm_cell_18_layer_call_and_return_conditional_losses, lstm_cell_19_layer_call_fn, lstm_cell_19_layer_call_and_return_conditional_losses, lstm_cell_18_layer_call_fn while saving (showing 5 of 10). These functions will not be directly callable after loading.\n"
     ]
    },
    {
     "name": "stdout",
     "output_type": "stream",
     "text": [
      "INFO:tensorflow:Assets written to: LSTM_train_visual/assets\n"
     ]
    },
    {
     "name": "stderr",
     "output_type": "stream",
     "text": [
      "INFO:tensorflow:Assets written to: LSTM_train_visual/assets\n"
     ]
    },
    {
     "name": "stdout",
     "output_type": "stream",
     "text": [
      "Epoch 1/10\n",
      "1/1 [==============================] - 2s 2s/step - loss: 0.8215 - mean_absolute_error: 0.9064\n",
      "Epoch 2/10\n",
      "1/1 [==============================] - 0s 170ms/step - loss: 0.1100 - mean_absolute_error: 0.3316\n",
      "Epoch 3/10\n",
      "1/1 [==============================] - 0s 151ms/step - loss: 0.0515 - mean_absolute_error: 0.2270\n",
      "Epoch 4/10\n",
      "1/1 [==============================] - 0s 150ms/step - loss: 0.0012 - mean_absolute_error: 0.0347\n",
      "Epoch 5/10\n",
      "1/1 [==============================] - 0s 150ms/step - loss: 0.0434 - mean_absolute_error: 0.2083\n",
      "Epoch 6/10\n",
      "1/1 [==============================] - 0s 166ms/step - loss: 0.0034 - mean_absolute_error: 0.0587\n",
      "Epoch 7/10\n",
      "1/1 [==============================] - 0s 152ms/step - loss: 0.0266 - mean_absolute_error: 0.1631\n",
      "Epoch 8/10\n",
      "1/1 [==============================] - 0s 164ms/step - loss: 0.0198 - mean_absolute_error: 0.1408\n",
      "Epoch 9/10\n",
      "1/1 [==============================] - 0s 152ms/step - loss: 0.0106 - mean_absolute_error: 0.1027\n",
      "Epoch 10/10\n",
      "1/1 [==============================] - 0s 150ms/step - loss: 0.0012 - mean_absolute_error: 0.0351\n",
      "WARNING:tensorflow:11 out of the last 11 calls to <function Model.make_test_function.<locals>.test_function at 0x7fc02fb69790> triggered tf.function retracing. Tracing is expensive and the excessive number of tracings could be due to (1) creating @tf.function repeatedly in a loop, (2) passing tensors with different shapes, (3) passing Python objects instead of tensors. For (1), please define your @tf.function outside of the loop. For (2), @tf.function has experimental_relax_shapes=True option that relaxes argument shapes that can avoid unnecessary retracing. For (3), please refer to https://www.tensorflow.org/guide/function#controlling_retracing and https://www.tensorflow.org/api_docs/python/tf/function for  more details.\n"
     ]
    },
    {
     "name": "stderr",
     "output_type": "stream",
     "text": [
      "WARNING:tensorflow:11 out of the last 11 calls to <function Model.make_test_function.<locals>.test_function at 0x7fc02fb69790> triggered tf.function retracing. Tracing is expensive and the excessive number of tracings could be due to (1) creating @tf.function repeatedly in a loop, (2) passing tensors with different shapes, (3) passing Python objects instead of tensors. For (1), please define your @tf.function outside of the loop. For (2), @tf.function has experimental_relax_shapes=True option that relaxes argument shapes that can avoid unnecessary retracing. For (3), please refer to https://www.tensorflow.org/guide/function#controlling_retracing and https://www.tensorflow.org/api_docs/python/tf/function for  more details.\n",
      "WARNING:absl:Found untraced functions such as lstm_cell_20_layer_call_fn, lstm_cell_20_layer_call_and_return_conditional_losses, lstm_cell_21_layer_call_fn, lstm_cell_21_layer_call_and_return_conditional_losses, lstm_cell_20_layer_call_fn while saving (showing 5 of 10). These functions will not be directly callable after loading.\n",
      "WARNING:absl:Found untraced functions such as lstm_cell_20_layer_call_fn, lstm_cell_20_layer_call_and_return_conditional_losses, lstm_cell_21_layer_call_fn, lstm_cell_21_layer_call_and_return_conditional_losses, lstm_cell_20_layer_call_fn while saving (showing 5 of 10). These functions will not be directly callable after loading.\n"
     ]
    },
    {
     "name": "stdout",
     "output_type": "stream",
     "text": [
      "INFO:tensorflow:Assets written to: LSTM_train_visual/assets\n"
     ]
    },
    {
     "name": "stderr",
     "output_type": "stream",
     "text": [
      "INFO:tensorflow:Assets written to: LSTM_train_visual/assets\n"
     ]
    },
    {
     "name": "stdout",
     "output_type": "stream",
     "text": [
      "Epoch 1/10\n",
      "1/1 [==============================] - 2s 2s/step - loss: 1.5455 - mean_absolute_error: 1.2432\n",
      "Epoch 2/10\n",
      "1/1 [==============================] - 0s 260ms/step - loss: 0.5595 - mean_absolute_error: 0.7480\n",
      "Epoch 3/10\n",
      "1/1 [==============================] - 0s 269ms/step - loss: 0.1378 - mean_absolute_error: 0.3712\n",
      "Epoch 4/10\n",
      "1/1 [==============================] - 0s 236ms/step - loss: 1.8583e-04 - mean_absolute_error: 0.0136\n",
      "Epoch 5/10\n",
      "1/1 [==============================] - 0s 235ms/step - loss: 0.0363 - mean_absolute_error: 0.1906\n",
      "Epoch 6/10\n",
      "1/1 [==============================] - 0s 234ms/step - loss: 0.1242 - mean_absolute_error: 0.3524\n",
      "Epoch 7/10\n",
      "1/1 [==============================] - 0s 234ms/step - loss: 0.0821 - mean_absolute_error: 0.2865\n",
      "Epoch 8/10\n",
      "1/1 [==============================] - 0s 234ms/step - loss: 0.0782 - mean_absolute_error: 0.2797\n",
      "Epoch 9/10\n",
      "1/1 [==============================] - 0s 235ms/step - loss: 0.0412 - mean_absolute_error: 0.2030\n",
      "Epoch 10/10\n",
      "1/1 [==============================] - 0s 259ms/step - loss: 0.0232 - mean_absolute_error: 0.1524\n",
      "WARNING:tensorflow:11 out of the last 11 calls to <function Model.make_test_function.<locals>.test_function at 0x7fc02d3b18b0> triggered tf.function retracing. Tracing is expensive and the excessive number of tracings could be due to (1) creating @tf.function repeatedly in a loop, (2) passing tensors with different shapes, (3) passing Python objects instead of tensors. For (1), please define your @tf.function outside of the loop. For (2), @tf.function has experimental_relax_shapes=True option that relaxes argument shapes that can avoid unnecessary retracing. For (3), please refer to https://www.tensorflow.org/guide/function#controlling_retracing and https://www.tensorflow.org/api_docs/python/tf/function for  more details.\n"
     ]
    },
    {
     "name": "stderr",
     "output_type": "stream",
     "text": [
      "WARNING:tensorflow:11 out of the last 11 calls to <function Model.make_test_function.<locals>.test_function at 0x7fc02d3b18b0> triggered tf.function retracing. Tracing is expensive and the excessive number of tracings could be due to (1) creating @tf.function repeatedly in a loop, (2) passing tensors with different shapes, (3) passing Python objects instead of tensors. For (1), please define your @tf.function outside of the loop. For (2), @tf.function has experimental_relax_shapes=True option that relaxes argument shapes that can avoid unnecessary retracing. For (3), please refer to https://www.tensorflow.org/guide/function#controlling_retracing and https://www.tensorflow.org/api_docs/python/tf/function for  more details.\n",
      "WARNING:absl:Found untraced functions such as lstm_cell_22_layer_call_fn, lstm_cell_22_layer_call_and_return_conditional_losses, lstm_cell_23_layer_call_fn, lstm_cell_23_layer_call_and_return_conditional_losses, lstm_cell_22_layer_call_fn while saving (showing 5 of 10). These functions will not be directly callable after loading.\n",
      "WARNING:absl:Found untraced functions such as lstm_cell_22_layer_call_fn, lstm_cell_22_layer_call_and_return_conditional_losses, lstm_cell_23_layer_call_fn, lstm_cell_23_layer_call_and_return_conditional_losses, lstm_cell_22_layer_call_fn while saving (showing 5 of 10). These functions will not be directly callable after loading.\n"
     ]
    },
    {
     "name": "stdout",
     "output_type": "stream",
     "text": [
      "INFO:tensorflow:Assets written to: LSTM_train_visual/assets\n"
     ]
    },
    {
     "name": "stderr",
     "output_type": "stream",
     "text": [
      "INFO:tensorflow:Assets written to: LSTM_train_visual/assets\n"
     ]
    },
    {
     "name": "stdout",
     "output_type": "stream",
     "text": [
      "Epoch 1/10\n",
      "1/1 [==============================] - 2s 2s/step - loss: 0.5517 - mean_absolute_error: 0.7427\n",
      "Epoch 2/10\n",
      "1/1 [==============================] - 0s 183ms/step - loss: 0.0313 - mean_absolute_error: 0.1770\n",
      "Epoch 3/10\n",
      "1/1 [==============================] - 0s 172ms/step - loss: 0.2361 - mean_absolute_error: 0.4859\n",
      "Epoch 4/10\n",
      "1/1 [==============================] - 0s 189ms/step - loss: 0.0143 - mean_absolute_error: 0.1197\n",
      "Epoch 5/10\n",
      "1/1 [==============================] - 0s 171ms/step - loss: 0.0086 - mean_absolute_error: 0.0926\n",
      "Epoch 6/10\n",
      "1/1 [==============================] - 0s 171ms/step - loss: 0.0483 - mean_absolute_error: 0.2198\n",
      "Epoch 7/10\n",
      "1/1 [==============================] - 0s 171ms/step - loss: 9.8802e-05 - mean_absolute_error: 0.0099\n",
      "Epoch 8/10\n",
      "1/1 [==============================] - 0s 209ms/step - loss: 9.2657e-04 - mean_absolute_error: 0.0304\n",
      "Epoch 9/10\n",
      "1/1 [==============================] - 0s 171ms/step - loss: 0.0045 - mean_absolute_error: 0.0671\n",
      "Epoch 10/10\n",
      "1/1 [==============================] - 0s 170ms/step - loss: 0.0068 - mean_absolute_error: 0.0823\n",
      "WARNING:tensorflow:11 out of the last 11 calls to <function Model.make_test_function.<locals>.test_function at 0x7fc03d8750d0> triggered tf.function retracing. Tracing is expensive and the excessive number of tracings could be due to (1) creating @tf.function repeatedly in a loop, (2) passing tensors with different shapes, (3) passing Python objects instead of tensors. For (1), please define your @tf.function outside of the loop. For (2), @tf.function has experimental_relax_shapes=True option that relaxes argument shapes that can avoid unnecessary retracing. For (3), please refer to https://www.tensorflow.org/guide/function#controlling_retracing and https://www.tensorflow.org/api_docs/python/tf/function for  more details.\n"
     ]
    },
    {
     "name": "stderr",
     "output_type": "stream",
     "text": [
      "WARNING:tensorflow:11 out of the last 11 calls to <function Model.make_test_function.<locals>.test_function at 0x7fc03d8750d0> triggered tf.function retracing. Tracing is expensive and the excessive number of tracings could be due to (1) creating @tf.function repeatedly in a loop, (2) passing tensors with different shapes, (3) passing Python objects instead of tensors. For (1), please define your @tf.function outside of the loop. For (2), @tf.function has experimental_relax_shapes=True option that relaxes argument shapes that can avoid unnecessary retracing. For (3), please refer to https://www.tensorflow.org/guide/function#controlling_retracing and https://www.tensorflow.org/api_docs/python/tf/function for  more details.\n",
      "WARNING:absl:Found untraced functions such as lstm_cell_24_layer_call_fn, lstm_cell_24_layer_call_and_return_conditional_losses, lstm_cell_25_layer_call_fn, lstm_cell_25_layer_call_and_return_conditional_losses, lstm_cell_24_layer_call_fn while saving (showing 5 of 10). These functions will not be directly callable after loading.\n",
      "WARNING:absl:Found untraced functions such as lstm_cell_24_layer_call_fn, lstm_cell_24_layer_call_and_return_conditional_losses, lstm_cell_25_layer_call_fn, lstm_cell_25_layer_call_and_return_conditional_losses, lstm_cell_24_layer_call_fn while saving (showing 5 of 10). These functions will not be directly callable after loading.\n"
     ]
    },
    {
     "name": "stdout",
     "output_type": "stream",
     "text": [
      "INFO:tensorflow:Assets written to: LSTM_train_visual/assets\n"
     ]
    },
    {
     "name": "stderr",
     "output_type": "stream",
     "text": [
      "INFO:tensorflow:Assets written to: LSTM_train_visual/assets\n"
     ]
    },
    {
     "name": "stdout",
     "output_type": "stream",
     "text": [
      "Epoch 1/10\n",
      "1/1 [==============================] - 2s 2s/step - loss: 3.7730 - mean_absolute_error: 1.9424\n",
      "Epoch 2/10\n",
      "1/1 [==============================] - 0s 148ms/step - loss: 0.9531 - mean_absolute_error: 0.9763\n",
      "Epoch 3/10\n",
      "1/1 [==============================] - 0s 134ms/step - loss: 0.0494 - mean_absolute_error: 0.2222\n",
      "Epoch 4/10\n",
      "1/1 [==============================] - 0s 139ms/step - loss: 0.1675 - mean_absolute_error: 0.4092\n",
      "Epoch 5/10\n",
      "1/1 [==============================] - 0s 136ms/step - loss: 0.2070 - mean_absolute_error: 0.4550\n",
      "Epoch 6/10\n",
      "1/1 [==============================] - 0s 140ms/step - loss: 0.1360 - mean_absolute_error: 0.3688\n",
      "Epoch 7/10\n",
      "1/1 [==============================] - 0s 134ms/step - loss: 0.0626 - mean_absolute_error: 0.2503\n",
      "Epoch 8/10\n",
      "1/1 [==============================] - 0s 135ms/step - loss: 0.0031 - mean_absolute_error: 0.0555\n",
      "Epoch 9/10\n",
      "1/1 [==============================] - 0s 169ms/step - loss: 0.0069 - mean_absolute_error: 0.0830\n",
      "Epoch 10/10\n",
      "1/1 [==============================] - 0s 135ms/step - loss: 0.0229 - mean_absolute_error: 0.1512\n",
      "WARNING:tensorflow:11 out of the last 11 calls to <function Model.make_test_function.<locals>.test_function at 0x7fbfa0834550> triggered tf.function retracing. Tracing is expensive and the excessive number of tracings could be due to (1) creating @tf.function repeatedly in a loop, (2) passing tensors with different shapes, (3) passing Python objects instead of tensors. For (1), please define your @tf.function outside of the loop. For (2), @tf.function has experimental_relax_shapes=True option that relaxes argument shapes that can avoid unnecessary retracing. For (3), please refer to https://www.tensorflow.org/guide/function#controlling_retracing and https://www.tensorflow.org/api_docs/python/tf/function for  more details.\n"
     ]
    },
    {
     "name": "stderr",
     "output_type": "stream",
     "text": [
      "WARNING:tensorflow:11 out of the last 11 calls to <function Model.make_test_function.<locals>.test_function at 0x7fbfa0834550> triggered tf.function retracing. Tracing is expensive and the excessive number of tracings could be due to (1) creating @tf.function repeatedly in a loop, (2) passing tensors with different shapes, (3) passing Python objects instead of tensors. For (1), please define your @tf.function outside of the loop. For (2), @tf.function has experimental_relax_shapes=True option that relaxes argument shapes that can avoid unnecessary retracing. For (3), please refer to https://www.tensorflow.org/guide/function#controlling_retracing and https://www.tensorflow.org/api_docs/python/tf/function for  more details.\n",
      "WARNING:absl:Found untraced functions such as lstm_cell_26_layer_call_fn, lstm_cell_26_layer_call_and_return_conditional_losses, lstm_cell_27_layer_call_fn, lstm_cell_27_layer_call_and_return_conditional_losses, lstm_cell_26_layer_call_fn while saving (showing 5 of 10). These functions will not be directly callable after loading.\n",
      "WARNING:absl:Found untraced functions such as lstm_cell_26_layer_call_fn, lstm_cell_26_layer_call_and_return_conditional_losses, lstm_cell_27_layer_call_fn, lstm_cell_27_layer_call_and_return_conditional_losses, lstm_cell_26_layer_call_fn while saving (showing 5 of 10). These functions will not be directly callable after loading.\n"
     ]
    },
    {
     "name": "stdout",
     "output_type": "stream",
     "text": [
      "INFO:tensorflow:Assets written to: LSTM_train_visual/assets\n"
     ]
    },
    {
     "name": "stderr",
     "output_type": "stream",
     "text": [
      "INFO:tensorflow:Assets written to: LSTM_train_visual/assets\n"
     ]
    },
    {
     "name": "stdout",
     "output_type": "stream",
     "text": [
      "Epoch 1/10\n",
      "1/1 [==============================] - 2s 2s/step - loss: 0.1016 - mean_absolute_error: 0.3188\n",
      "Epoch 2/10\n",
      "1/1 [==============================] - 0s 62ms/step - loss: 0.0299 - mean_absolute_error: 0.1729\n",
      "Epoch 3/10\n",
      "1/1 [==============================] - 0s 61ms/step - loss: 0.0064 - mean_absolute_error: 0.0802\n",
      "Epoch 4/10\n",
      "1/1 [==============================] - 0s 56ms/step - loss: 1.7554e-04 - mean_absolute_error: 0.0132\n",
      "Epoch 5/10\n",
      "1/1 [==============================] - 0s 57ms/step - loss: 0.0036 - mean_absolute_error: 0.0601\n",
      "Epoch 6/10\n",
      "1/1 [==============================] - 0s 51ms/step - loss: 0.0011 - mean_absolute_error: 0.0335\n",
      "Epoch 7/10\n",
      "1/1 [==============================] - 0s 50ms/step - loss: 0.0056 - mean_absolute_error: 0.0750\n",
      "Epoch 8/10\n",
      "1/1 [==============================] - 0s 50ms/step - loss: 3.8627e-04 - mean_absolute_error: 0.0197\n",
      "Epoch 9/10\n",
      "1/1 [==============================] - 0s 50ms/step - loss: 6.2221e-04 - mean_absolute_error: 0.0249\n",
      "Epoch 10/10\n",
      "1/1 [==============================] - 0s 51ms/step - loss: 4.6427e-04 - mean_absolute_error: 0.0215\n",
      "WARNING:tensorflow:11 out of the last 11 calls to <function Model.make_test_function.<locals>.test_function at 0x7fc050987d30> triggered tf.function retracing. Tracing is expensive and the excessive number of tracings could be due to (1) creating @tf.function repeatedly in a loop, (2) passing tensors with different shapes, (3) passing Python objects instead of tensors. For (1), please define your @tf.function outside of the loop. For (2), @tf.function has experimental_relax_shapes=True option that relaxes argument shapes that can avoid unnecessary retracing. For (3), please refer to https://www.tensorflow.org/guide/function#controlling_retracing and https://www.tensorflow.org/api_docs/python/tf/function for  more details.\n"
     ]
    },
    {
     "name": "stderr",
     "output_type": "stream",
     "text": [
      "WARNING:tensorflow:11 out of the last 11 calls to <function Model.make_test_function.<locals>.test_function at 0x7fc050987d30> triggered tf.function retracing. Tracing is expensive and the excessive number of tracings could be due to (1) creating @tf.function repeatedly in a loop, (2) passing tensors with different shapes, (3) passing Python objects instead of tensors. For (1), please define your @tf.function outside of the loop. For (2), @tf.function has experimental_relax_shapes=True option that relaxes argument shapes that can avoid unnecessary retracing. For (3), please refer to https://www.tensorflow.org/guide/function#controlling_retracing and https://www.tensorflow.org/api_docs/python/tf/function for  more details.\n",
      "WARNING:absl:Found untraced functions such as lstm_cell_28_layer_call_fn, lstm_cell_28_layer_call_and_return_conditional_losses, lstm_cell_29_layer_call_fn, lstm_cell_29_layer_call_and_return_conditional_losses, lstm_cell_28_layer_call_fn while saving (showing 5 of 10). These functions will not be directly callable after loading.\n",
      "WARNING:absl:Found untraced functions such as lstm_cell_28_layer_call_fn, lstm_cell_28_layer_call_and_return_conditional_losses, lstm_cell_29_layer_call_fn, lstm_cell_29_layer_call_and_return_conditional_losses, lstm_cell_28_layer_call_fn while saving (showing 5 of 10). These functions will not be directly callable after loading.\n"
     ]
    },
    {
     "name": "stdout",
     "output_type": "stream",
     "text": [
      "INFO:tensorflow:Assets written to: LSTM_train_visual/assets\n"
     ]
    },
    {
     "name": "stderr",
     "output_type": "stream",
     "text": [
      "INFO:tensorflow:Assets written to: LSTM_train_visual/assets\n"
     ]
    },
    {
     "name": "stdout",
     "output_type": "stream",
     "text": [
      "Epoch 1/10\n",
      "1/1 [==============================] - 2s 2s/step - loss: 1.2688 - mean_absolute_error: 1.1264\n",
      "Epoch 2/10\n",
      "1/1 [==============================] - 0s 149ms/step - loss: 0.2347 - mean_absolute_error: 0.4844\n",
      "Epoch 3/10\n",
      "1/1 [==============================] - 0s 144ms/step - loss: 0.0762 - mean_absolute_error: 0.2760\n",
      "Epoch 4/10\n",
      "1/1 [==============================] - 0s 144ms/step - loss: 0.0155 - mean_absolute_error: 0.1246\n",
      "Epoch 5/10\n",
      "1/1 [==============================] - 0s 142ms/step - loss: 6.6316e-04 - mean_absolute_error: 0.0258\n",
      "Epoch 6/10\n",
      "1/1 [==============================] - 0s 150ms/step - loss: 0.0170 - mean_absolute_error: 0.1303\n",
      "Epoch 7/10\n",
      "1/1 [==============================] - 0s 143ms/step - loss: 0.0266 - mean_absolute_error: 0.1632\n",
      "Epoch 8/10\n",
      "1/1 [==============================] - 0s 143ms/step - loss: 0.0198 - mean_absolute_error: 0.1407\n",
      "Epoch 9/10\n",
      "1/1 [==============================] - 0s 144ms/step - loss: 0.0076 - mean_absolute_error: 0.0874\n",
      "Epoch 10/10\n",
      "1/1 [==============================] - 0s 144ms/step - loss: 3.8433e-04 - mean_absolute_error: 0.0196\n",
      "WARNING:tensorflow:11 out of the last 11 calls to <function Model.make_test_function.<locals>.test_function at 0x7fc050624b80> triggered tf.function retracing. Tracing is expensive and the excessive number of tracings could be due to (1) creating @tf.function repeatedly in a loop, (2) passing tensors with different shapes, (3) passing Python objects instead of tensors. For (1), please define your @tf.function outside of the loop. For (2), @tf.function has experimental_relax_shapes=True option that relaxes argument shapes that can avoid unnecessary retracing. For (3), please refer to https://www.tensorflow.org/guide/function#controlling_retracing and https://www.tensorflow.org/api_docs/python/tf/function for  more details.\n"
     ]
    },
    {
     "name": "stderr",
     "output_type": "stream",
     "text": [
      "WARNING:tensorflow:11 out of the last 11 calls to <function Model.make_test_function.<locals>.test_function at 0x7fc050624b80> triggered tf.function retracing. Tracing is expensive and the excessive number of tracings could be due to (1) creating @tf.function repeatedly in a loop, (2) passing tensors with different shapes, (3) passing Python objects instead of tensors. For (1), please define your @tf.function outside of the loop. For (2), @tf.function has experimental_relax_shapes=True option that relaxes argument shapes that can avoid unnecessary retracing. For (3), please refer to https://www.tensorflow.org/guide/function#controlling_retracing and https://www.tensorflow.org/api_docs/python/tf/function for  more details.\n",
      "WARNING:absl:Found untraced functions such as lstm_cell_30_layer_call_fn, lstm_cell_30_layer_call_and_return_conditional_losses, lstm_cell_31_layer_call_fn, lstm_cell_31_layer_call_and_return_conditional_losses, lstm_cell_30_layer_call_fn while saving (showing 5 of 10). These functions will not be directly callable after loading.\n",
      "WARNING:absl:Found untraced functions such as lstm_cell_30_layer_call_fn, lstm_cell_30_layer_call_and_return_conditional_losses, lstm_cell_31_layer_call_fn, lstm_cell_31_layer_call_and_return_conditional_losses, lstm_cell_30_layer_call_fn while saving (showing 5 of 10). These functions will not be directly callable after loading.\n"
     ]
    },
    {
     "name": "stdout",
     "output_type": "stream",
     "text": [
      "INFO:tensorflow:Assets written to: LSTM_train_visual/assets\n"
     ]
    },
    {
     "name": "stderr",
     "output_type": "stream",
     "text": [
      "INFO:tensorflow:Assets written to: LSTM_train_visual/assets\n"
     ]
    },
    {
     "name": "stdout",
     "output_type": "stream",
     "text": [
      "Epoch 1/10\n",
      "1/1 [==============================] - 3s 3s/step - loss: 7.6331 - mean_absolute_error: 2.7628\n",
      "Epoch 2/10\n",
      "1/1 [==============================] - 1s 989ms/step - loss: 5.7709 - mean_absolute_error: 2.4023\n",
      "Epoch 3/10\n",
      "1/1 [==============================] - 1s 1s/step - loss: 4.5995 - mean_absolute_error: 2.1446\n",
      "Epoch 4/10\n",
      "1/1 [==============================] - 1s 931ms/step - loss: 3.5071 - mean_absolute_error: 1.8727\n",
      "Epoch 5/10\n",
      "1/1 [==============================] - 1s 976ms/step - loss: 2.5006 - mean_absolute_error: 1.5813\n",
      "Epoch 6/10\n",
      "1/1 [==============================] - 1s 928ms/step - loss: 1.5850 - mean_absolute_error: 1.2590\n",
      "Epoch 7/10\n",
      "1/1 [==============================] - 1s 961ms/step - loss: 0.7796 - mean_absolute_error: 0.8829\n",
      "Epoch 8/10\n",
      "1/1 [==============================] - 1s 1s/step - loss: 0.1869 - mean_absolute_error: 0.4324\n",
      "Epoch 9/10\n",
      "1/1 [==============================] - 1s 981ms/step - loss: 0.0145 - mean_absolute_error: 0.1206\n",
      "Epoch 10/10\n",
      "1/1 [==============================] - 1s 926ms/step - loss: 0.2486 - mean_absolute_error: 0.4986\n",
      "WARNING:tensorflow:11 out of the last 11 calls to <function Model.make_test_function.<locals>.test_function at 0x7fc0507408b0> triggered tf.function retracing. Tracing is expensive and the excessive number of tracings could be due to (1) creating @tf.function repeatedly in a loop, (2) passing tensors with different shapes, (3) passing Python objects instead of tensors. For (1), please define your @tf.function outside of the loop. For (2), @tf.function has experimental_relax_shapes=True option that relaxes argument shapes that can avoid unnecessary retracing. For (3), please refer to https://www.tensorflow.org/guide/function#controlling_retracing and https://www.tensorflow.org/api_docs/python/tf/function for  more details.\n"
     ]
    },
    {
     "name": "stderr",
     "output_type": "stream",
     "text": [
      "WARNING:tensorflow:11 out of the last 11 calls to <function Model.make_test_function.<locals>.test_function at 0x7fc0507408b0> triggered tf.function retracing. Tracing is expensive and the excessive number of tracings could be due to (1) creating @tf.function repeatedly in a loop, (2) passing tensors with different shapes, (3) passing Python objects instead of tensors. For (1), please define your @tf.function outside of the loop. For (2), @tf.function has experimental_relax_shapes=True option that relaxes argument shapes that can avoid unnecessary retracing. For (3), please refer to https://www.tensorflow.org/guide/function#controlling_retracing and https://www.tensorflow.org/api_docs/python/tf/function for  more details.\n",
      "WARNING:absl:Found untraced functions such as lstm_cell_32_layer_call_fn, lstm_cell_32_layer_call_and_return_conditional_losses, lstm_cell_33_layer_call_fn, lstm_cell_33_layer_call_and_return_conditional_losses, lstm_cell_32_layer_call_fn while saving (showing 5 of 10). These functions will not be directly callable after loading.\n",
      "WARNING:absl:Found untraced functions such as lstm_cell_32_layer_call_fn, lstm_cell_32_layer_call_and_return_conditional_losses, lstm_cell_33_layer_call_fn, lstm_cell_33_layer_call_and_return_conditional_losses, lstm_cell_32_layer_call_fn while saving (showing 5 of 10). These functions will not be directly callable after loading.\n"
     ]
    },
    {
     "name": "stdout",
     "output_type": "stream",
     "text": [
      "INFO:tensorflow:Assets written to: LSTM_train_visual/assets\n"
     ]
    },
    {
     "name": "stderr",
     "output_type": "stream",
     "text": [
      "INFO:tensorflow:Assets written to: LSTM_train_visual/assets\n"
     ]
    },
    {
     "name": "stdout",
     "output_type": "stream",
     "text": [
      "Epoch 1/10\n",
      "1/1 [==============================] - 2s 2s/step - loss: 7.2723 - mean_absolute_error: 2.6967\n",
      "Epoch 2/10\n",
      "1/1 [==============================] - 0s 259ms/step - loss: 2.2791 - mean_absolute_error: 1.5097\n",
      "Epoch 3/10\n",
      "1/1 [==============================] - 0s 229ms/step - loss: 0.5070 - mean_absolute_error: 0.7120\n",
      "Epoch 4/10\n",
      "1/1 [==============================] - 0s 234ms/step - loss: 0.0121 - mean_absolute_error: 0.1098\n",
      "Epoch 5/10\n",
      "1/1 [==============================] - 0s 232ms/step - loss: 0.2284 - mean_absolute_error: 0.4779\n",
      "Epoch 6/10\n",
      "1/1 [==============================] - 0s 232ms/step - loss: 0.2228 - mean_absolute_error: 0.4720\n",
      "Epoch 7/10\n",
      "1/1 [==============================] - 0s 231ms/step - loss: 0.2718 - mean_absolute_error: 0.5214\n",
      "Epoch 8/10\n",
      "1/1 [==============================] - 0s 255ms/step - loss: 0.2964 - mean_absolute_error: 0.5444\n",
      "Epoch 9/10\n",
      "1/1 [==============================] - 0s 252ms/step - loss: 0.1449 - mean_absolute_error: 0.3807\n",
      "Epoch 10/10\n",
      "1/1 [==============================] - 0s 233ms/step - loss: 0.0799 - mean_absolute_error: 0.2826\n",
      "WARNING:tensorflow:11 out of the last 11 calls to <function Model.make_test_function.<locals>.test_function at 0x7fc050bc4b80> triggered tf.function retracing. Tracing is expensive and the excessive number of tracings could be due to (1) creating @tf.function repeatedly in a loop, (2) passing tensors with different shapes, (3) passing Python objects instead of tensors. For (1), please define your @tf.function outside of the loop. For (2), @tf.function has experimental_relax_shapes=True option that relaxes argument shapes that can avoid unnecessary retracing. For (3), please refer to https://www.tensorflow.org/guide/function#controlling_retracing and https://www.tensorflow.org/api_docs/python/tf/function for  more details.\n"
     ]
    },
    {
     "name": "stderr",
     "output_type": "stream",
     "text": [
      "WARNING:tensorflow:11 out of the last 11 calls to <function Model.make_test_function.<locals>.test_function at 0x7fc050bc4b80> triggered tf.function retracing. Tracing is expensive and the excessive number of tracings could be due to (1) creating @tf.function repeatedly in a loop, (2) passing tensors with different shapes, (3) passing Python objects instead of tensors. For (1), please define your @tf.function outside of the loop. For (2), @tf.function has experimental_relax_shapes=True option that relaxes argument shapes that can avoid unnecessary retracing. For (3), please refer to https://www.tensorflow.org/guide/function#controlling_retracing and https://www.tensorflow.org/api_docs/python/tf/function for  more details.\n",
      "WARNING:absl:Found untraced functions such as lstm_cell_34_layer_call_fn, lstm_cell_34_layer_call_and_return_conditional_losses, lstm_cell_35_layer_call_fn, lstm_cell_35_layer_call_and_return_conditional_losses, lstm_cell_34_layer_call_fn while saving (showing 5 of 10). These functions will not be directly callable after loading.\n",
      "WARNING:absl:Found untraced functions such as lstm_cell_34_layer_call_fn, lstm_cell_34_layer_call_and_return_conditional_losses, lstm_cell_35_layer_call_fn, lstm_cell_35_layer_call_and_return_conditional_losses, lstm_cell_34_layer_call_fn while saving (showing 5 of 10). These functions will not be directly callable after loading.\n"
     ]
    },
    {
     "name": "stdout",
     "output_type": "stream",
     "text": [
      "INFO:tensorflow:Assets written to: LSTM_train_visual/assets\n"
     ]
    },
    {
     "name": "stderr",
     "output_type": "stream",
     "text": [
      "INFO:tensorflow:Assets written to: LSTM_train_visual/assets\n"
     ]
    },
    {
     "name": "stdout",
     "output_type": "stream",
     "text": [
      "Epoch 1/10\n",
      "1/1 [==============================] - 2s 2s/step - loss: 0.0592 - mean_absolute_error: 0.2433\n",
      "Epoch 2/10\n",
      "1/1 [==============================] - 0s 265ms/step - loss: 0.2863 - mean_absolute_error: 0.5350\n",
      "Epoch 3/10\n",
      "1/1 [==============================] - 0s 266ms/step - loss: 0.0121 - mean_absolute_error: 0.1098\n",
      "Epoch 4/10\n",
      "1/1 [==============================] - 0s 289ms/step - loss: 0.0736 - mean_absolute_error: 0.2713\n",
      "Epoch 5/10\n",
      "1/1 [==============================] - 0s 266ms/step - loss: 0.0035 - mean_absolute_error: 0.0595\n",
      "Epoch 6/10\n",
      "1/1 [==============================] - 0s 325ms/step - loss: 0.0287 - mean_absolute_error: 0.1695\n",
      "Epoch 7/10\n",
      "1/1 [==============================] - 0s 266ms/step - loss: 0.0374 - mean_absolute_error: 0.1933\n",
      "Epoch 8/10\n",
      "1/1 [==============================] - 0s 293ms/step - loss: 0.0120 - mean_absolute_error: 0.1093\n",
      "Epoch 9/10\n",
      "1/1 [==============================] - 0s 272ms/step - loss: 0.0373 - mean_absolute_error: 0.1931\n",
      "Epoch 10/10\n",
      "1/1 [==============================] - 0s 273ms/step - loss: 0.0325 - mean_absolute_error: 0.1802\n",
      "WARNING:tensorflow:11 out of the last 11 calls to <function Model.make_test_function.<locals>.test_function at 0x7fbf50157550> triggered tf.function retracing. Tracing is expensive and the excessive number of tracings could be due to (1) creating @tf.function repeatedly in a loop, (2) passing tensors with different shapes, (3) passing Python objects instead of tensors. For (1), please define your @tf.function outside of the loop. For (2), @tf.function has experimental_relax_shapes=True option that relaxes argument shapes that can avoid unnecessary retracing. For (3), please refer to https://www.tensorflow.org/guide/function#controlling_retracing and https://www.tensorflow.org/api_docs/python/tf/function for  more details.\n"
     ]
    },
    {
     "name": "stderr",
     "output_type": "stream",
     "text": [
      "WARNING:tensorflow:11 out of the last 11 calls to <function Model.make_test_function.<locals>.test_function at 0x7fbf50157550> triggered tf.function retracing. Tracing is expensive and the excessive number of tracings could be due to (1) creating @tf.function repeatedly in a loop, (2) passing tensors with different shapes, (3) passing Python objects instead of tensors. For (1), please define your @tf.function outside of the loop. For (2), @tf.function has experimental_relax_shapes=True option that relaxes argument shapes that can avoid unnecessary retracing. For (3), please refer to https://www.tensorflow.org/guide/function#controlling_retracing and https://www.tensorflow.org/api_docs/python/tf/function for  more details.\n",
      "WARNING:absl:Found untraced functions such as lstm_cell_36_layer_call_fn, lstm_cell_36_layer_call_and_return_conditional_losses, lstm_cell_37_layer_call_fn, lstm_cell_37_layer_call_and_return_conditional_losses, lstm_cell_36_layer_call_fn while saving (showing 5 of 10). These functions will not be directly callable after loading.\n",
      "WARNING:absl:Found untraced functions such as lstm_cell_36_layer_call_fn, lstm_cell_36_layer_call_and_return_conditional_losses, lstm_cell_37_layer_call_fn, lstm_cell_37_layer_call_and_return_conditional_losses, lstm_cell_36_layer_call_fn while saving (showing 5 of 10). These functions will not be directly callable after loading.\n"
     ]
    },
    {
     "name": "stdout",
     "output_type": "stream",
     "text": [
      "INFO:tensorflow:Assets written to: LSTM_train_visual/assets\n"
     ]
    },
    {
     "name": "stderr",
     "output_type": "stream",
     "text": [
      "INFO:tensorflow:Assets written to: LSTM_train_visual/assets\n"
     ]
    },
    {
     "name": "stdout",
     "output_type": "stream",
     "text": [
      "Epoch 1/10\n",
      "1/1 [==============================] - 2s 2s/step - loss: 1.0081 - mean_absolute_error: 1.0040\n",
      "Epoch 2/10\n",
      "1/1 [==============================] - 0s 109ms/step - loss: 0.3061 - mean_absolute_error: 0.5533\n",
      "Epoch 3/10\n",
      "1/1 [==============================] - 0s 97ms/step - loss: 0.0054 - mean_absolute_error: 0.0736\n",
      "Epoch 4/10\n",
      "1/1 [==============================] - 0s 119ms/step - loss: 0.1397 - mean_absolute_error: 0.3738\n",
      "Epoch 5/10\n",
      "1/1 [==============================] - 0s 104ms/step - loss: 0.2170 - mean_absolute_error: 0.4659\n",
      "Epoch 6/10\n",
      "1/1 [==============================] - 0s 93ms/step - loss: 0.3381 - mean_absolute_error: 0.5814\n",
      "Epoch 7/10\n",
      "1/1 [==============================] - 0s 105ms/step - loss: 0.1701 - mean_absolute_error: 0.4124\n",
      "Epoch 8/10\n",
      "1/1 [==============================] - 0s 95ms/step - loss: 0.0765 - mean_absolute_error: 0.2766\n",
      "Epoch 9/10\n",
      "1/1 [==============================] - 0s 95ms/step - loss: 0.0065 - mean_absolute_error: 0.0804\n",
      "Epoch 10/10\n",
      "1/1 [==============================] - 0s 99ms/step - loss: 0.0541 - mean_absolute_error: 0.2325\n",
      "WARNING:tensorflow:11 out of the last 11 calls to <function Model.make_test_function.<locals>.test_function at 0x7fbfda8ea310> triggered tf.function retracing. Tracing is expensive and the excessive number of tracings could be due to (1) creating @tf.function repeatedly in a loop, (2) passing tensors with different shapes, (3) passing Python objects instead of tensors. For (1), please define your @tf.function outside of the loop. For (2), @tf.function has experimental_relax_shapes=True option that relaxes argument shapes that can avoid unnecessary retracing. For (3), please refer to https://www.tensorflow.org/guide/function#controlling_retracing and https://www.tensorflow.org/api_docs/python/tf/function for  more details.\n"
     ]
    },
    {
     "name": "stderr",
     "output_type": "stream",
     "text": [
      "WARNING:tensorflow:11 out of the last 11 calls to <function Model.make_test_function.<locals>.test_function at 0x7fbfda8ea310> triggered tf.function retracing. Tracing is expensive and the excessive number of tracings could be due to (1) creating @tf.function repeatedly in a loop, (2) passing tensors with different shapes, (3) passing Python objects instead of tensors. For (1), please define your @tf.function outside of the loop. For (2), @tf.function has experimental_relax_shapes=True option that relaxes argument shapes that can avoid unnecessary retracing. For (3), please refer to https://www.tensorflow.org/guide/function#controlling_retracing and https://www.tensorflow.org/api_docs/python/tf/function for  more details.\n",
      "WARNING:absl:Found untraced functions such as lstm_cell_38_layer_call_fn, lstm_cell_38_layer_call_and_return_conditional_losses, lstm_cell_39_layer_call_fn, lstm_cell_39_layer_call_and_return_conditional_losses, lstm_cell_38_layer_call_fn while saving (showing 5 of 10). These functions will not be directly callable after loading.\n",
      "WARNING:absl:Found untraced functions such as lstm_cell_38_layer_call_fn, lstm_cell_38_layer_call_and_return_conditional_losses, lstm_cell_39_layer_call_fn, lstm_cell_39_layer_call_and_return_conditional_losses, lstm_cell_38_layer_call_fn while saving (showing 5 of 10). These functions will not be directly callable after loading.\n"
     ]
    },
    {
     "name": "stdout",
     "output_type": "stream",
     "text": [
      "INFO:tensorflow:Assets written to: LSTM_train_visual/assets\n"
     ]
    },
    {
     "name": "stderr",
     "output_type": "stream",
     "text": [
      "INFO:tensorflow:Assets written to: LSTM_train_visual/assets\n"
     ]
    },
    {
     "name": "stdout",
     "output_type": "stream",
     "text": [
      "Epoch 1/10\n",
      "1/1 [==============================] - 3s 3s/step - loss: 0.3178 - mean_absolute_error: 0.5637\n",
      "Epoch 2/10\n",
      "1/1 [==============================] - 1s 528ms/step - loss: 0.0037 - mean_absolute_error: 0.0608\n",
      "Epoch 3/10\n",
      "1/1 [==============================] - 1s 512ms/step - loss: 0.0471 - mean_absolute_error: 0.2169\n",
      "Epoch 4/10\n",
      "1/1 [==============================] - 0s 468ms/step - loss: 0.1567 - mean_absolute_error: 0.3959\n",
      "Epoch 5/10\n",
      "1/1 [==============================] - 1s 516ms/step - loss: 0.1902 - mean_absolute_error: 0.4361\n",
      "Epoch 6/10\n",
      "1/1 [==============================] - 0s 471ms/step - loss: 0.0131 - mean_absolute_error: 0.1147\n",
      "Epoch 7/10\n",
      "1/1 [==============================] - 0s 480ms/step - loss: 0.0190 - mean_absolute_error: 0.1377\n",
      "Epoch 8/10\n",
      "1/1 [==============================] - 1s 502ms/step - loss: 0.0887 - mean_absolute_error: 0.2978\n",
      "Epoch 9/10\n",
      "1/1 [==============================] - 0s 484ms/step - loss: 0.0863 - mean_absolute_error: 0.2938\n",
      "Epoch 10/10\n",
      "1/1 [==============================] - 0s 472ms/step - loss: 0.0484 - mean_absolute_error: 0.2200\n",
      "WARNING:tensorflow:11 out of the last 11 calls to <function Model.make_test_function.<locals>.test_function at 0x7fbfda88b160> triggered tf.function retracing. Tracing is expensive and the excessive number of tracings could be due to (1) creating @tf.function repeatedly in a loop, (2) passing tensors with different shapes, (3) passing Python objects instead of tensors. For (1), please define your @tf.function outside of the loop. For (2), @tf.function has experimental_relax_shapes=True option that relaxes argument shapes that can avoid unnecessary retracing. For (3), please refer to https://www.tensorflow.org/guide/function#controlling_retracing and https://www.tensorflow.org/api_docs/python/tf/function for  more details.\n"
     ]
    },
    {
     "name": "stderr",
     "output_type": "stream",
     "text": [
      "WARNING:tensorflow:11 out of the last 11 calls to <function Model.make_test_function.<locals>.test_function at 0x7fbfda88b160> triggered tf.function retracing. Tracing is expensive and the excessive number of tracings could be due to (1) creating @tf.function repeatedly in a loop, (2) passing tensors with different shapes, (3) passing Python objects instead of tensors. For (1), please define your @tf.function outside of the loop. For (2), @tf.function has experimental_relax_shapes=True option that relaxes argument shapes that can avoid unnecessary retracing. For (3), please refer to https://www.tensorflow.org/guide/function#controlling_retracing and https://www.tensorflow.org/api_docs/python/tf/function for  more details.\n",
      "WARNING:absl:Found untraced functions such as lstm_cell_40_layer_call_fn, lstm_cell_40_layer_call_and_return_conditional_losses, lstm_cell_41_layer_call_fn, lstm_cell_41_layer_call_and_return_conditional_losses, lstm_cell_40_layer_call_fn while saving (showing 5 of 10). These functions will not be directly callable after loading.\n",
      "WARNING:absl:Found untraced functions such as lstm_cell_40_layer_call_fn, lstm_cell_40_layer_call_and_return_conditional_losses, lstm_cell_41_layer_call_fn, lstm_cell_41_layer_call_and_return_conditional_losses, lstm_cell_40_layer_call_fn while saving (showing 5 of 10). These functions will not be directly callable after loading.\n"
     ]
    },
    {
     "name": "stdout",
     "output_type": "stream",
     "text": [
      "INFO:tensorflow:Assets written to: LSTM_train_visual/assets\n"
     ]
    },
    {
     "name": "stderr",
     "output_type": "stream",
     "text": [
      "INFO:tensorflow:Assets written to: LSTM_train_visual/assets\n"
     ]
    },
    {
     "name": "stdout",
     "output_type": "stream",
     "text": [
      "Epoch 1/10\n",
      "1/1 [==============================] - 2s 2s/step - loss: 1.3444 - mean_absolute_error: 1.1595\n",
      "Epoch 2/10\n",
      "1/1 [==============================] - 0s 172ms/step - loss: 0.5854 - mean_absolute_error: 0.7651\n",
      "Epoch 3/10\n",
      "1/1 [==============================] - 0s 159ms/step - loss: 0.1932 - mean_absolute_error: 0.4395\n",
      "Epoch 4/10\n",
      "1/1 [==============================] - 0s 164ms/step - loss: 0.0194 - mean_absolute_error: 0.1393\n",
      "Epoch 5/10\n",
      "1/1 [==============================] - 0s 158ms/step - loss: 0.0111 - mean_absolute_error: 0.1055\n",
      "Epoch 6/10\n",
      "1/1 [==============================] - 0s 176ms/step - loss: 0.0643 - mean_absolute_error: 0.2536\n",
      "Epoch 7/10\n",
      "1/1 [==============================] - 0s 185ms/step - loss: 0.0925 - mean_absolute_error: 0.3041\n",
      "Epoch 8/10\n",
      "1/1 [==============================] - 0s 175ms/step - loss: 0.0933 - mean_absolute_error: 0.3054\n",
      "Epoch 9/10\n",
      "1/1 [==============================] - 0s 158ms/step - loss: 0.0775 - mean_absolute_error: 0.2784\n",
      "Epoch 10/10\n",
      "1/1 [==============================] - 0s 157ms/step - loss: 0.0300 - mean_absolute_error: 0.1731\n",
      "WARNING:tensorflow:11 out of the last 11 calls to <function Model.make_test_function.<locals>.test_function at 0x7fc02fa528b0> triggered tf.function retracing. Tracing is expensive and the excessive number of tracings could be due to (1) creating @tf.function repeatedly in a loop, (2) passing tensors with different shapes, (3) passing Python objects instead of tensors. For (1), please define your @tf.function outside of the loop. For (2), @tf.function has experimental_relax_shapes=True option that relaxes argument shapes that can avoid unnecessary retracing. For (3), please refer to https://www.tensorflow.org/guide/function#controlling_retracing and https://www.tensorflow.org/api_docs/python/tf/function for  more details.\n"
     ]
    },
    {
     "name": "stderr",
     "output_type": "stream",
     "text": [
      "WARNING:tensorflow:11 out of the last 11 calls to <function Model.make_test_function.<locals>.test_function at 0x7fc02fa528b0> triggered tf.function retracing. Tracing is expensive and the excessive number of tracings could be due to (1) creating @tf.function repeatedly in a loop, (2) passing tensors with different shapes, (3) passing Python objects instead of tensors. For (1), please define your @tf.function outside of the loop. For (2), @tf.function has experimental_relax_shapes=True option that relaxes argument shapes that can avoid unnecessary retracing. For (3), please refer to https://www.tensorflow.org/guide/function#controlling_retracing and https://www.tensorflow.org/api_docs/python/tf/function for  more details.\n",
      "WARNING:absl:Found untraced functions such as lstm_cell_42_layer_call_fn, lstm_cell_42_layer_call_and_return_conditional_losses, lstm_cell_43_layer_call_fn, lstm_cell_43_layer_call_and_return_conditional_losses, lstm_cell_42_layer_call_fn while saving (showing 5 of 10). These functions will not be directly callable after loading.\n",
      "WARNING:absl:Found untraced functions such as lstm_cell_42_layer_call_fn, lstm_cell_42_layer_call_and_return_conditional_losses, lstm_cell_43_layer_call_fn, lstm_cell_43_layer_call_and_return_conditional_losses, lstm_cell_42_layer_call_fn while saving (showing 5 of 10). These functions will not be directly callable after loading.\n"
     ]
    },
    {
     "name": "stdout",
     "output_type": "stream",
     "text": [
      "INFO:tensorflow:Assets written to: LSTM_train_visual/assets\n"
     ]
    },
    {
     "name": "stderr",
     "output_type": "stream",
     "text": [
      "INFO:tensorflow:Assets written to: LSTM_train_visual/assets\n"
     ]
    },
    {
     "name": "stdout",
     "output_type": "stream",
     "text": [
      "Epoch 1/10\n",
      "1/1 [==============================] - 2s 2s/step - loss: 2.9265 - mean_absolute_error: 1.7107\n",
      "Epoch 2/10\n",
      "1/1 [==============================] - 0s 195ms/step - loss: 1.8475 - mean_absolute_error: 1.3592\n",
      "Epoch 3/10\n",
      "1/1 [==============================] - 0s 181ms/step - loss: 1.0301 - mean_absolute_error: 1.0149\n",
      "Epoch 4/10\n",
      "1/1 [==============================] - 0s 178ms/step - loss: 0.4683 - mean_absolute_error: 0.6843\n",
      "Epoch 5/10\n",
      "1/1 [==============================] - 0s 196ms/step - loss: 0.1082 - mean_absolute_error: 0.3290\n",
      "Epoch 6/10\n",
      "1/1 [==============================] - 0s 185ms/step - loss: 0.0063 - mean_absolute_error: 0.0797\n",
      "Epoch 7/10\n",
      "1/1 [==============================] - 0s 179ms/step - loss: 0.1438 - mean_absolute_error: 0.3792\n",
      "Epoch 8/10\n",
      "1/1 [==============================] - 0s 179ms/step - loss: 0.0874 - mean_absolute_error: 0.2957\n",
      "Epoch 9/10\n",
      "1/1 [==============================] - 0s 177ms/step - loss: 0.2188 - mean_absolute_error: 0.4678\n",
      "Epoch 10/10\n",
      "1/1 [==============================] - 0s 178ms/step - loss: 0.1909 - mean_absolute_error: 0.4370\n",
      "WARNING:tensorflow:11 out of the last 11 calls to <function Model.make_test_function.<locals>.test_function at 0x7fc050a09790> triggered tf.function retracing. Tracing is expensive and the excessive number of tracings could be due to (1) creating @tf.function repeatedly in a loop, (2) passing tensors with different shapes, (3) passing Python objects instead of tensors. For (1), please define your @tf.function outside of the loop. For (2), @tf.function has experimental_relax_shapes=True option that relaxes argument shapes that can avoid unnecessary retracing. For (3), please refer to https://www.tensorflow.org/guide/function#controlling_retracing and https://www.tensorflow.org/api_docs/python/tf/function for  more details.\n"
     ]
    },
    {
     "name": "stderr",
     "output_type": "stream",
     "text": [
      "WARNING:tensorflow:11 out of the last 11 calls to <function Model.make_test_function.<locals>.test_function at 0x7fc050a09790> triggered tf.function retracing. Tracing is expensive and the excessive number of tracings could be due to (1) creating @tf.function repeatedly in a loop, (2) passing tensors with different shapes, (3) passing Python objects instead of tensors. For (1), please define your @tf.function outside of the loop. For (2), @tf.function has experimental_relax_shapes=True option that relaxes argument shapes that can avoid unnecessary retracing. For (3), please refer to https://www.tensorflow.org/guide/function#controlling_retracing and https://www.tensorflow.org/api_docs/python/tf/function for  more details.\n",
      "WARNING:absl:Found untraced functions such as lstm_cell_44_layer_call_fn, lstm_cell_44_layer_call_and_return_conditional_losses, lstm_cell_45_layer_call_fn, lstm_cell_45_layer_call_and_return_conditional_losses, lstm_cell_44_layer_call_fn while saving (showing 5 of 10). These functions will not be directly callable after loading.\n",
      "WARNING:absl:Found untraced functions such as lstm_cell_44_layer_call_fn, lstm_cell_44_layer_call_and_return_conditional_losses, lstm_cell_45_layer_call_fn, lstm_cell_45_layer_call_and_return_conditional_losses, lstm_cell_44_layer_call_fn while saving (showing 5 of 10). These functions will not be directly callable after loading.\n"
     ]
    },
    {
     "name": "stdout",
     "output_type": "stream",
     "text": [
      "INFO:tensorflow:Assets written to: LSTM_train_visual/assets\n"
     ]
    },
    {
     "name": "stderr",
     "output_type": "stream",
     "text": [
      "INFO:tensorflow:Assets written to: LSTM_train_visual/assets\n"
     ]
    },
    {
     "name": "stdout",
     "output_type": "stream",
     "text": [
      "Epoch 1/10\n",
      "1/1 [==============================] - 2s 2s/step - loss: 0.1084 - mean_absolute_error: 0.3293\n",
      "Epoch 2/10\n",
      "1/1 [==============================] - 0s 160ms/step - loss: 0.0629 - mean_absolute_error: 0.2507\n",
      "Epoch 3/10\n",
      "1/1 [==============================] - 0s 143ms/step - loss: 0.0748 - mean_absolute_error: 0.2735\n",
      "Epoch 4/10\n",
      "1/1 [==============================] - 0s 167ms/step - loss: 0.0015 - mean_absolute_error: 0.0392\n",
      "Epoch 5/10\n",
      "1/1 [==============================] - 0s 142ms/step - loss: 0.0024 - mean_absolute_error: 0.0494\n",
      "Epoch 6/10\n",
      "1/1 [==============================] - 0s 142ms/step - loss: 0.0189 - mean_absolute_error: 0.1376\n",
      "Epoch 7/10\n",
      "1/1 [==============================] - 0s 142ms/step - loss: 0.0159 - mean_absolute_error: 0.1263\n",
      "Epoch 8/10\n",
      "1/1 [==============================] - 0s 159ms/step - loss: 0.0013 - mean_absolute_error: 0.0361\n",
      "Epoch 9/10\n",
      "1/1 [==============================] - 0s 141ms/step - loss: 0.0035 - mean_absolute_error: 0.0593\n",
      "Epoch 10/10\n",
      "1/1 [==============================] - 0s 156ms/step - loss: 0.0042 - mean_absolute_error: 0.0651\n",
      "WARNING:tensorflow:11 out of the last 11 calls to <function Model.make_test_function.<locals>.test_function at 0x7fbf502e6820> triggered tf.function retracing. Tracing is expensive and the excessive number of tracings could be due to (1) creating @tf.function repeatedly in a loop, (2) passing tensors with different shapes, (3) passing Python objects instead of tensors. For (1), please define your @tf.function outside of the loop. For (2), @tf.function has experimental_relax_shapes=True option that relaxes argument shapes that can avoid unnecessary retracing. For (3), please refer to https://www.tensorflow.org/guide/function#controlling_retracing and https://www.tensorflow.org/api_docs/python/tf/function for  more details.\n"
     ]
    },
    {
     "name": "stderr",
     "output_type": "stream",
     "text": [
      "WARNING:tensorflow:11 out of the last 11 calls to <function Model.make_test_function.<locals>.test_function at 0x7fbf502e6820> triggered tf.function retracing. Tracing is expensive and the excessive number of tracings could be due to (1) creating @tf.function repeatedly in a loop, (2) passing tensors with different shapes, (3) passing Python objects instead of tensors. For (1), please define your @tf.function outside of the loop. For (2), @tf.function has experimental_relax_shapes=True option that relaxes argument shapes that can avoid unnecessary retracing. For (3), please refer to https://www.tensorflow.org/guide/function#controlling_retracing and https://www.tensorflow.org/api_docs/python/tf/function for  more details.\n",
      "WARNING:absl:Found untraced functions such as lstm_cell_46_layer_call_fn, lstm_cell_46_layer_call_and_return_conditional_losses, lstm_cell_47_layer_call_fn, lstm_cell_47_layer_call_and_return_conditional_losses, lstm_cell_46_layer_call_fn while saving (showing 5 of 10). These functions will not be directly callable after loading.\n",
      "WARNING:absl:Found untraced functions such as lstm_cell_46_layer_call_fn, lstm_cell_46_layer_call_and_return_conditional_losses, lstm_cell_47_layer_call_fn, lstm_cell_47_layer_call_and_return_conditional_losses, lstm_cell_46_layer_call_fn while saving (showing 5 of 10). These functions will not be directly callable after loading.\n"
     ]
    },
    {
     "name": "stdout",
     "output_type": "stream",
     "text": [
      "INFO:tensorflow:Assets written to: LSTM_train_visual/assets\n"
     ]
    },
    {
     "name": "stderr",
     "output_type": "stream",
     "text": [
      "INFO:tensorflow:Assets written to: LSTM_train_visual/assets\n"
     ]
    },
    {
     "name": "stdout",
     "output_type": "stream",
     "text": [
      "Epoch 1/10\n",
      "1/1 [==============================] - 2s 2s/step - loss: 5.2857 - mean_absolute_error: 2.2991\n",
      "Epoch 2/10\n",
      "1/1 [==============================] - 0s 263ms/step - loss: 3.6151 - mean_absolute_error: 1.9013\n",
      "Epoch 3/10\n",
      "1/1 [==============================] - 0s 266ms/step - loss: 2.5244 - mean_absolute_error: 1.5888\n",
      "Epoch 4/10\n",
      "1/1 [==============================] - 0s 265ms/step - loss: 1.7594 - mean_absolute_error: 1.3264\n",
      "Epoch 5/10\n",
      "1/1 [==============================] - 0s 265ms/step - loss: 0.8755 - mean_absolute_error: 0.9357\n",
      "Epoch 6/10\n",
      "1/1 [==============================] - 0s 266ms/step - loss: 0.6403 - mean_absolute_error: 0.8002\n",
      "Epoch 7/10\n",
      "1/1 [==============================] - 0s 271ms/step - loss: 0.3185 - mean_absolute_error: 0.5644\n",
      "Epoch 8/10\n",
      "1/1 [==============================] - 0s 290ms/step - loss: 0.1102 - mean_absolute_error: 0.3320\n",
      "Epoch 9/10\n",
      "1/1 [==============================] - 0s 264ms/step - loss: 0.0093 - mean_absolute_error: 0.0964\n",
      "Epoch 10/10\n",
      "1/1 [==============================] - 0s 265ms/step - loss: 0.0162 - mean_absolute_error: 0.1273\n",
      "WARNING:tensorflow:11 out of the last 11 calls to <function Model.make_test_function.<locals>.test_function at 0x7fc02fe7f8b0> triggered tf.function retracing. Tracing is expensive and the excessive number of tracings could be due to (1) creating @tf.function repeatedly in a loop, (2) passing tensors with different shapes, (3) passing Python objects instead of tensors. For (1), please define your @tf.function outside of the loop. For (2), @tf.function has experimental_relax_shapes=True option that relaxes argument shapes that can avoid unnecessary retracing. For (3), please refer to https://www.tensorflow.org/guide/function#controlling_retracing and https://www.tensorflow.org/api_docs/python/tf/function for  more details.\n"
     ]
    },
    {
     "name": "stderr",
     "output_type": "stream",
     "text": [
      "WARNING:tensorflow:11 out of the last 11 calls to <function Model.make_test_function.<locals>.test_function at 0x7fc02fe7f8b0> triggered tf.function retracing. Tracing is expensive and the excessive number of tracings could be due to (1) creating @tf.function repeatedly in a loop, (2) passing tensors with different shapes, (3) passing Python objects instead of tensors. For (1), please define your @tf.function outside of the loop. For (2), @tf.function has experimental_relax_shapes=True option that relaxes argument shapes that can avoid unnecessary retracing. For (3), please refer to https://www.tensorflow.org/guide/function#controlling_retracing and https://www.tensorflow.org/api_docs/python/tf/function for  more details.\n",
      "WARNING:absl:Found untraced functions such as lstm_cell_48_layer_call_fn, lstm_cell_48_layer_call_and_return_conditional_losses, lstm_cell_49_layer_call_fn, lstm_cell_49_layer_call_and_return_conditional_losses, lstm_cell_48_layer_call_fn while saving (showing 5 of 10). These functions will not be directly callable after loading.\n",
      "WARNING:absl:Found untraced functions such as lstm_cell_48_layer_call_fn, lstm_cell_48_layer_call_and_return_conditional_losses, lstm_cell_49_layer_call_fn, lstm_cell_49_layer_call_and_return_conditional_losses, lstm_cell_48_layer_call_fn while saving (showing 5 of 10). These functions will not be directly callable after loading.\n"
     ]
    },
    {
     "name": "stdout",
     "output_type": "stream",
     "text": [
      "INFO:tensorflow:Assets written to: LSTM_train_visual/assets\n"
     ]
    },
    {
     "name": "stderr",
     "output_type": "stream",
     "text": [
      "INFO:tensorflow:Assets written to: LSTM_train_visual/assets\n"
     ]
    },
    {
     "name": "stdout",
     "output_type": "stream",
     "text": [
      "Epoch 1/10\n",
      "1/1 [==============================] - 2s 2s/step - loss: 2.8603 - mean_absolute_error: 1.6913\n",
      "Epoch 2/10\n",
      "1/1 [==============================] - 1s 572ms/step - loss: 1.4020 - mean_absolute_error: 1.1840\n",
      "Epoch 3/10\n",
      "1/1 [==============================] - 1s 572ms/step - loss: 0.6140 - mean_absolute_error: 0.7836\n",
      "Epoch 4/10\n",
      "1/1 [==============================] - 1s 572ms/step - loss: 0.1283 - mean_absolute_error: 0.3582\n",
      "Epoch 5/10\n",
      "1/1 [==============================] - 1s 647ms/step - loss: 0.0032 - mean_absolute_error: 0.0565\n",
      "Epoch 6/10\n",
      "1/1 [==============================] - 1s 572ms/step - loss: 0.0018 - mean_absolute_error: 0.0421\n",
      "Epoch 7/10\n",
      "1/1 [==============================] - 1s 699ms/step - loss: 0.1026 - mean_absolute_error: 0.3203\n",
      "Epoch 8/10\n",
      "1/1 [==============================] - 1s 573ms/step - loss: 0.1755 - mean_absolute_error: 0.4189\n",
      "Epoch 9/10\n",
      "1/1 [==============================] - 1s 575ms/step - loss: 0.2228 - mean_absolute_error: 0.4720\n",
      "Epoch 10/10\n",
      "1/1 [==============================] - 1s 624ms/step - loss: 0.2210 - mean_absolute_error: 0.4701\n",
      "WARNING:tensorflow:11 out of the last 11 calls to <function Model.make_test_function.<locals>.test_function at 0x7fc050b7d550> triggered tf.function retracing. Tracing is expensive and the excessive number of tracings could be due to (1) creating @tf.function repeatedly in a loop, (2) passing tensors with different shapes, (3) passing Python objects instead of tensors. For (1), please define your @tf.function outside of the loop. For (2), @tf.function has experimental_relax_shapes=True option that relaxes argument shapes that can avoid unnecessary retracing. For (3), please refer to https://www.tensorflow.org/guide/function#controlling_retracing and https://www.tensorflow.org/api_docs/python/tf/function for  more details.\n"
     ]
    },
    {
     "name": "stderr",
     "output_type": "stream",
     "text": [
      "WARNING:tensorflow:11 out of the last 11 calls to <function Model.make_test_function.<locals>.test_function at 0x7fc050b7d550> triggered tf.function retracing. Tracing is expensive and the excessive number of tracings could be due to (1) creating @tf.function repeatedly in a loop, (2) passing tensors with different shapes, (3) passing Python objects instead of tensors. For (1), please define your @tf.function outside of the loop. For (2), @tf.function has experimental_relax_shapes=True option that relaxes argument shapes that can avoid unnecessary retracing. For (3), please refer to https://www.tensorflow.org/guide/function#controlling_retracing and https://www.tensorflow.org/api_docs/python/tf/function for  more details.\n",
      "WARNING:absl:Found untraced functions such as lstm_cell_50_layer_call_fn, lstm_cell_50_layer_call_and_return_conditional_losses, lstm_cell_51_layer_call_fn, lstm_cell_51_layer_call_and_return_conditional_losses, lstm_cell_50_layer_call_fn while saving (showing 5 of 10). These functions will not be directly callable after loading.\n",
      "WARNING:absl:Found untraced functions such as lstm_cell_50_layer_call_fn, lstm_cell_50_layer_call_and_return_conditional_losses, lstm_cell_51_layer_call_fn, lstm_cell_51_layer_call_and_return_conditional_losses, lstm_cell_50_layer_call_fn while saving (showing 5 of 10). These functions will not be directly callable after loading.\n"
     ]
    },
    {
     "name": "stdout",
     "output_type": "stream",
     "text": [
      "INFO:tensorflow:Assets written to: LSTM_train_visual/assets\n"
     ]
    },
    {
     "name": "stderr",
     "output_type": "stream",
     "text": [
      "INFO:tensorflow:Assets written to: LSTM_train_visual/assets\n"
     ]
    },
    {
     "name": "stdout",
     "output_type": "stream",
     "text": [
      "Epoch 1/10\n",
      "1/1 [==============================] - 2s 2s/step - loss: 1.7194 - mean_absolute_error: 1.3112\n",
      "Epoch 2/10\n",
      "1/1 [==============================] - 0s 248ms/step - loss: 0.8385 - mean_absolute_error: 0.9157\n",
      "Epoch 3/10\n",
      "1/1 [==============================] - 0s 239ms/step - loss: 0.2682 - mean_absolute_error: 0.5179\n",
      "Epoch 4/10\n",
      "1/1 [==============================] - 0s 241ms/step - loss: 0.0184 - mean_absolute_error: 0.1357\n",
      "Epoch 5/10\n",
      "1/1 [==============================] - 0s 261ms/step - loss: 0.0604 - mean_absolute_error: 0.2457\n",
      "Epoch 6/10\n",
      "1/1 [==============================] - 0s 247ms/step - loss: 0.0879 - mean_absolute_error: 0.2965\n",
      "Epoch 7/10\n",
      "1/1 [==============================] - 0s 243ms/step - loss: 0.0925 - mean_absolute_error: 0.3041\n",
      "Epoch 8/10\n",
      "1/1 [==============================] - 0s 242ms/step - loss: 0.0796 - mean_absolute_error: 0.2822\n",
      "Epoch 9/10\n",
      "1/1 [==============================] - 0s 275ms/step - loss: 0.0534 - mean_absolute_error: 0.2312\n",
      "Epoch 10/10\n",
      "1/1 [==============================] - 0s 265ms/step - loss: 0.0039 - mean_absolute_error: 0.0624\n",
      "WARNING:tensorflow:11 out of the last 11 calls to <function Model.make_test_function.<locals>.test_function at 0x7fc050b7d4c0> triggered tf.function retracing. Tracing is expensive and the excessive number of tracings could be due to (1) creating @tf.function repeatedly in a loop, (2) passing tensors with different shapes, (3) passing Python objects instead of tensors. For (1), please define your @tf.function outside of the loop. For (2), @tf.function has experimental_relax_shapes=True option that relaxes argument shapes that can avoid unnecessary retracing. For (3), please refer to https://www.tensorflow.org/guide/function#controlling_retracing and https://www.tensorflow.org/api_docs/python/tf/function for  more details.\n"
     ]
    },
    {
     "name": "stderr",
     "output_type": "stream",
     "text": [
      "WARNING:tensorflow:11 out of the last 11 calls to <function Model.make_test_function.<locals>.test_function at 0x7fc050b7d4c0> triggered tf.function retracing. Tracing is expensive and the excessive number of tracings could be due to (1) creating @tf.function repeatedly in a loop, (2) passing tensors with different shapes, (3) passing Python objects instead of tensors. For (1), please define your @tf.function outside of the loop. For (2), @tf.function has experimental_relax_shapes=True option that relaxes argument shapes that can avoid unnecessary retracing. For (3), please refer to https://www.tensorflow.org/guide/function#controlling_retracing and https://www.tensorflow.org/api_docs/python/tf/function for  more details.\n",
      "WARNING:absl:Found untraced functions such as lstm_cell_52_layer_call_fn, lstm_cell_52_layer_call_and_return_conditional_losses, lstm_cell_53_layer_call_fn, lstm_cell_53_layer_call_and_return_conditional_losses, lstm_cell_52_layer_call_fn while saving (showing 5 of 10). These functions will not be directly callable after loading.\n",
      "WARNING:absl:Found untraced functions such as lstm_cell_52_layer_call_fn, lstm_cell_52_layer_call_and_return_conditional_losses, lstm_cell_53_layer_call_fn, lstm_cell_53_layer_call_and_return_conditional_losses, lstm_cell_52_layer_call_fn while saving (showing 5 of 10). These functions will not be directly callable after loading.\n"
     ]
    },
    {
     "name": "stdout",
     "output_type": "stream",
     "text": [
      "INFO:tensorflow:Assets written to: LSTM_train_visual/assets\n"
     ]
    },
    {
     "name": "stderr",
     "output_type": "stream",
     "text": [
      "INFO:tensorflow:Assets written to: LSTM_train_visual/assets\n"
     ]
    },
    {
     "name": "stdout",
     "output_type": "stream",
     "text": [
      "Epoch 1/10\n",
      "1/1 [==============================] - 2s 2s/step - loss: 0.0023 - mean_absolute_error: 0.0482\n",
      "Epoch 2/10\n",
      "1/1 [==============================] - 0s 282ms/step - loss: 0.1291 - mean_absolute_error: 0.3594\n",
      "Epoch 3/10\n",
      "1/1 [==============================] - 0s 283ms/step - loss: 0.0022 - mean_absolute_error: 0.0472\n",
      "Epoch 4/10\n",
      "1/1 [==============================] - 0s 285ms/step - loss: 0.0148 - mean_absolute_error: 0.1218\n",
      "Epoch 5/10\n",
      "1/1 [==============================] - 0s 278ms/step - loss: 0.0333 - mean_absolute_error: 0.1825\n",
      "Epoch 6/10\n",
      "1/1 [==============================] - 0s 292ms/step - loss: 0.0344 - mean_absolute_error: 0.1854\n",
      "Epoch 7/10\n",
      "1/1 [==============================] - 0s 285ms/step - loss: 0.0291 - mean_absolute_error: 0.1706\n",
      "Epoch 8/10\n",
      "1/1 [==============================] - 0s 283ms/step - loss: 0.0073 - mean_absolute_error: 0.0852\n",
      "Epoch 9/10\n",
      "1/1 [==============================] - 0s 282ms/step - loss: 4.7174e-04 - mean_absolute_error: 0.0217\n",
      "Epoch 10/10\n",
      "1/1 [==============================] - 0s 281ms/step - loss: 0.0058 - mean_absolute_error: 0.0762\n",
      "WARNING:tensorflow:11 out of the last 11 calls to <function Model.make_test_function.<locals>.test_function at 0x7fbf502e6940> triggered tf.function retracing. Tracing is expensive and the excessive number of tracings could be due to (1) creating @tf.function repeatedly in a loop, (2) passing tensors with different shapes, (3) passing Python objects instead of tensors. For (1), please define your @tf.function outside of the loop. For (2), @tf.function has experimental_relax_shapes=True option that relaxes argument shapes that can avoid unnecessary retracing. For (3), please refer to https://www.tensorflow.org/guide/function#controlling_retracing and https://www.tensorflow.org/api_docs/python/tf/function for  more details.\n"
     ]
    },
    {
     "name": "stderr",
     "output_type": "stream",
     "text": [
      "WARNING:tensorflow:11 out of the last 11 calls to <function Model.make_test_function.<locals>.test_function at 0x7fbf502e6940> triggered tf.function retracing. Tracing is expensive and the excessive number of tracings could be due to (1) creating @tf.function repeatedly in a loop, (2) passing tensors with different shapes, (3) passing Python objects instead of tensors. For (1), please define your @tf.function outside of the loop. For (2), @tf.function has experimental_relax_shapes=True option that relaxes argument shapes that can avoid unnecessary retracing. For (3), please refer to https://www.tensorflow.org/guide/function#controlling_retracing and https://www.tensorflow.org/api_docs/python/tf/function for  more details.\n",
      "WARNING:absl:Found untraced functions such as lstm_cell_54_layer_call_fn, lstm_cell_54_layer_call_and_return_conditional_losses, lstm_cell_55_layer_call_fn, lstm_cell_55_layer_call_and_return_conditional_losses, lstm_cell_54_layer_call_fn while saving (showing 5 of 10). These functions will not be directly callable after loading.\n",
      "WARNING:absl:Found untraced functions such as lstm_cell_54_layer_call_fn, lstm_cell_54_layer_call_and_return_conditional_losses, lstm_cell_55_layer_call_fn, lstm_cell_55_layer_call_and_return_conditional_losses, lstm_cell_54_layer_call_fn while saving (showing 5 of 10). These functions will not be directly callable after loading.\n"
     ]
    },
    {
     "name": "stdout",
     "output_type": "stream",
     "text": [
      "INFO:tensorflow:Assets written to: LSTM_train_visual/assets\n"
     ]
    },
    {
     "name": "stderr",
     "output_type": "stream",
     "text": [
      "INFO:tensorflow:Assets written to: LSTM_train_visual/assets\n"
     ]
    },
    {
     "name": "stdout",
     "output_type": "stream",
     "text": [
      "Epoch 1/10\n",
      "1/1 [==============================] - 2s 2s/step - loss: 0.1733 - mean_absolute_error: 0.4163\n",
      "Epoch 2/10\n",
      "1/1 [==============================] - 0s 140ms/step - loss: 0.0119 - mean_absolute_error: 0.1092\n",
      "Epoch 3/10\n",
      "1/1 [==============================] - 0s 138ms/step - loss: 0.0658 - mean_absolute_error: 0.2566\n",
      "Epoch 4/10\n",
      "1/1 [==============================] - 0s 125ms/step - loss: 0.0408 - mean_absolute_error: 0.2020\n",
      "Epoch 5/10\n",
      "1/1 [==============================] - 0s 138ms/step - loss: 5.0344e-05 - mean_absolute_error: 0.0071\n",
      "Epoch 6/10\n",
      "1/1 [==============================] - 0s 127ms/step - loss: 3.6003e-04 - mean_absolute_error: 0.0190\n",
      "Epoch 7/10\n",
      "1/1 [==============================] - 0s 132ms/step - loss: 0.0073 - mean_absolute_error: 0.0855\n",
      "Epoch 8/10\n",
      "1/1 [==============================] - 0s 126ms/step - loss: 0.0119 - mean_absolute_error: 0.1091\n",
      "Epoch 9/10\n",
      "1/1 [==============================] - 0s 127ms/step - loss: 0.0086 - mean_absolute_error: 0.0928\n",
      "Epoch 10/10\n",
      "1/1 [==============================] - 0s 125ms/step - loss: 0.0023 - mean_absolute_error: 0.0483\n",
      "WARNING:tensorflow:11 out of the last 11 calls to <function Model.make_test_function.<locals>.test_function at 0x7fbfa041f0d0> triggered tf.function retracing. Tracing is expensive and the excessive number of tracings could be due to (1) creating @tf.function repeatedly in a loop, (2) passing tensors with different shapes, (3) passing Python objects instead of tensors. For (1), please define your @tf.function outside of the loop. For (2), @tf.function has experimental_relax_shapes=True option that relaxes argument shapes that can avoid unnecessary retracing. For (3), please refer to https://www.tensorflow.org/guide/function#controlling_retracing and https://www.tensorflow.org/api_docs/python/tf/function for  more details.\n"
     ]
    },
    {
     "name": "stderr",
     "output_type": "stream",
     "text": [
      "WARNING:tensorflow:11 out of the last 11 calls to <function Model.make_test_function.<locals>.test_function at 0x7fbfa041f0d0> triggered tf.function retracing. Tracing is expensive and the excessive number of tracings could be due to (1) creating @tf.function repeatedly in a loop, (2) passing tensors with different shapes, (3) passing Python objects instead of tensors. For (1), please define your @tf.function outside of the loop. For (2), @tf.function has experimental_relax_shapes=True option that relaxes argument shapes that can avoid unnecessary retracing. For (3), please refer to https://www.tensorflow.org/guide/function#controlling_retracing and https://www.tensorflow.org/api_docs/python/tf/function for  more details.\n",
      "WARNING:absl:Found untraced functions such as lstm_cell_56_layer_call_fn, lstm_cell_56_layer_call_and_return_conditional_losses, lstm_cell_57_layer_call_fn, lstm_cell_57_layer_call_and_return_conditional_losses, lstm_cell_56_layer_call_fn while saving (showing 5 of 10). These functions will not be directly callable after loading.\n",
      "WARNING:absl:Found untraced functions such as lstm_cell_56_layer_call_fn, lstm_cell_56_layer_call_and_return_conditional_losses, lstm_cell_57_layer_call_fn, lstm_cell_57_layer_call_and_return_conditional_losses, lstm_cell_56_layer_call_fn while saving (showing 5 of 10). These functions will not be directly callable after loading.\n"
     ]
    },
    {
     "name": "stdout",
     "output_type": "stream",
     "text": [
      "INFO:tensorflow:Assets written to: LSTM_train_visual/assets\n"
     ]
    },
    {
     "name": "stderr",
     "output_type": "stream",
     "text": [
      "INFO:tensorflow:Assets written to: LSTM_train_visual/assets\n"
     ]
    },
    {
     "name": "stdout",
     "output_type": "stream",
     "text": [
      "Epoch 1/10\n",
      "1/1 [==============================] - 2s 2s/step - loss: 0.3662 - mean_absolute_error: 0.6051\n",
      "Epoch 2/10\n",
      "1/1 [==============================] - 0s 302ms/step - loss: 0.0673 - mean_absolute_error: 0.2594\n",
      "Epoch 3/10\n",
      "1/1 [==============================] - 0s 303ms/step - loss: 8.2594e-04 - mean_absolute_error: 0.0287\n",
      "Epoch 4/10\n",
      "1/1 [==============================] - 0s 302ms/step - loss: 0.0424 - mean_absolute_error: 0.2059\n",
      "Epoch 5/10\n",
      "1/1 [==============================] - 0s 326ms/step - loss: 0.0508 - mean_absolute_error: 0.2254\n",
      "Epoch 6/10\n",
      "1/1 [==============================] - 0s 299ms/step - loss: 0.0162 - mean_absolute_error: 0.1274\n",
      "Epoch 7/10\n",
      "1/1 [==============================] - 0s 362ms/step - loss: 0.0061 - mean_absolute_error: 0.0782\n",
      "Epoch 8/10\n",
      "1/1 [==============================] - 0s 330ms/step - loss: 1.2549e-04 - mean_absolute_error: 0.0112\n",
      "Epoch 9/10\n",
      "1/1 [==============================] - 0s 356ms/step - loss: 0.0014 - mean_absolute_error: 0.0374\n",
      "Epoch 10/10\n",
      "1/1 [==============================] - 0s 333ms/step - loss: 0.0044 - mean_absolute_error: 0.0660\n",
      "WARNING:tensorflow:11 out of the last 11 calls to <function Model.make_test_function.<locals>.test_function at 0x7fbfda88baf0> triggered tf.function retracing. Tracing is expensive and the excessive number of tracings could be due to (1) creating @tf.function repeatedly in a loop, (2) passing tensors with different shapes, (3) passing Python objects instead of tensors. For (1), please define your @tf.function outside of the loop. For (2), @tf.function has experimental_relax_shapes=True option that relaxes argument shapes that can avoid unnecessary retracing. For (3), please refer to https://www.tensorflow.org/guide/function#controlling_retracing and https://www.tensorflow.org/api_docs/python/tf/function for  more details.\n"
     ]
    },
    {
     "name": "stderr",
     "output_type": "stream",
     "text": [
      "WARNING:tensorflow:11 out of the last 11 calls to <function Model.make_test_function.<locals>.test_function at 0x7fbfda88baf0> triggered tf.function retracing. Tracing is expensive and the excessive number of tracings could be due to (1) creating @tf.function repeatedly in a loop, (2) passing tensors with different shapes, (3) passing Python objects instead of tensors. For (1), please define your @tf.function outside of the loop. For (2), @tf.function has experimental_relax_shapes=True option that relaxes argument shapes that can avoid unnecessary retracing. For (3), please refer to https://www.tensorflow.org/guide/function#controlling_retracing and https://www.tensorflow.org/api_docs/python/tf/function for  more details.\n",
      "WARNING:absl:Found untraced functions such as lstm_cell_58_layer_call_fn, lstm_cell_58_layer_call_and_return_conditional_losses, lstm_cell_59_layer_call_fn, lstm_cell_59_layer_call_and_return_conditional_losses, lstm_cell_58_layer_call_fn while saving (showing 5 of 10). These functions will not be directly callable after loading.\n",
      "WARNING:absl:Found untraced functions such as lstm_cell_58_layer_call_fn, lstm_cell_58_layer_call_and_return_conditional_losses, lstm_cell_59_layer_call_fn, lstm_cell_59_layer_call_and_return_conditional_losses, lstm_cell_58_layer_call_fn while saving (showing 5 of 10). These functions will not be directly callable after loading.\n"
     ]
    },
    {
     "name": "stdout",
     "output_type": "stream",
     "text": [
      "INFO:tensorflow:Assets written to: LSTM_train_visual/assets\n"
     ]
    },
    {
     "name": "stderr",
     "output_type": "stream",
     "text": [
      "INFO:tensorflow:Assets written to: LSTM_train_visual/assets\n"
     ]
    },
    {
     "name": "stdout",
     "output_type": "stream",
     "text": [
      "Epoch 1/10\n",
      "1/1 [==============================] - 2s 2s/step - loss: 0.4808 - mean_absolute_error: 0.6934\n",
      "Epoch 2/10\n",
      "1/1 [==============================] - 0s 221ms/step - loss: 0.2340 - mean_absolute_error: 0.4837\n",
      "Epoch 3/10\n",
      "1/1 [==============================] - 0s 221ms/step - loss: 0.0921 - mean_absolute_error: 0.3034\n",
      "Epoch 4/10\n",
      "1/1 [==============================] - 0s 217ms/step - loss: 0.0243 - mean_absolute_error: 0.1560\n",
      "Epoch 5/10\n",
      "1/1 [==============================] - 0s 223ms/step - loss: 0.0010 - mean_absolute_error: 0.0318\n",
      "Epoch 6/10\n",
      "1/1 [==============================] - 0s 215ms/step - loss: 0.0072 - mean_absolute_error: 0.0847\n",
      "Epoch 7/10\n",
      "1/1 [==============================] - 0s 200ms/step - loss: 0.0165 - mean_absolute_error: 0.1285\n",
      "Epoch 8/10\n",
      "1/1 [==============================] - 0s 200ms/step - loss: 0.0272 - mean_absolute_error: 0.1650\n",
      "Epoch 9/10\n",
      "1/1 [==============================] - 0s 239ms/step - loss: 0.0286 - mean_absolute_error: 0.1691\n",
      "Epoch 10/10\n",
      "1/1 [==============================] - 0s 221ms/step - loss: 0.0240 - mean_absolute_error: 0.1548\n",
      "WARNING:tensorflow:11 out of the last 11 calls to <function Model.make_test_function.<locals>.test_function at 0x7fbfa05155e0> triggered tf.function retracing. Tracing is expensive and the excessive number of tracings could be due to (1) creating @tf.function repeatedly in a loop, (2) passing tensors with different shapes, (3) passing Python objects instead of tensors. For (1), please define your @tf.function outside of the loop. For (2), @tf.function has experimental_relax_shapes=True option that relaxes argument shapes that can avoid unnecessary retracing. For (3), please refer to https://www.tensorflow.org/guide/function#controlling_retracing and https://www.tensorflow.org/api_docs/python/tf/function for  more details.\n"
     ]
    },
    {
     "name": "stderr",
     "output_type": "stream",
     "text": [
      "WARNING:tensorflow:11 out of the last 11 calls to <function Model.make_test_function.<locals>.test_function at 0x7fbfa05155e0> triggered tf.function retracing. Tracing is expensive and the excessive number of tracings could be due to (1) creating @tf.function repeatedly in a loop, (2) passing tensors with different shapes, (3) passing Python objects instead of tensors. For (1), please define your @tf.function outside of the loop. For (2), @tf.function has experimental_relax_shapes=True option that relaxes argument shapes that can avoid unnecessary retracing. For (3), please refer to https://www.tensorflow.org/guide/function#controlling_retracing and https://www.tensorflow.org/api_docs/python/tf/function for  more details.\n",
      "WARNING:absl:Found untraced functions such as lstm_cell_60_layer_call_fn, lstm_cell_60_layer_call_and_return_conditional_losses, lstm_cell_61_layer_call_fn, lstm_cell_61_layer_call_and_return_conditional_losses, lstm_cell_60_layer_call_fn while saving (showing 5 of 10). These functions will not be directly callable after loading.\n",
      "WARNING:absl:Found untraced functions such as lstm_cell_60_layer_call_fn, lstm_cell_60_layer_call_and_return_conditional_losses, lstm_cell_61_layer_call_fn, lstm_cell_61_layer_call_and_return_conditional_losses, lstm_cell_60_layer_call_fn while saving (showing 5 of 10). These functions will not be directly callable after loading.\n"
     ]
    },
    {
     "name": "stdout",
     "output_type": "stream",
     "text": [
      "INFO:tensorflow:Assets written to: LSTM_train_visual/assets\n"
     ]
    },
    {
     "name": "stderr",
     "output_type": "stream",
     "text": [
      "INFO:tensorflow:Assets written to: LSTM_train_visual/assets\n"
     ]
    },
    {
     "name": "stdout",
     "output_type": "stream",
     "text": [
      "Epoch 1/10\n",
      "1/1 [==============================] - 2s 2s/step - loss: 1.4678 - mean_absolute_error: 1.2115\n",
      "Epoch 2/10\n",
      "1/1 [==============================] - 0s 141ms/step - loss: 0.4272 - mean_absolute_error: 0.6536\n",
      "Epoch 3/10\n",
      "1/1 [==============================] - 0s 119ms/step - loss: 0.0185 - mean_absolute_error: 0.1360\n",
      "Epoch 4/10\n",
      "1/1 [==============================] - 0s 119ms/step - loss: 0.0551 - mean_absolute_error: 0.2348\n",
      "Epoch 5/10\n",
      "1/1 [==============================] - 0s 155ms/step - loss: 0.1019 - mean_absolute_error: 0.3191\n",
      "Epoch 6/10\n",
      "1/1 [==============================] - 0s 121ms/step - loss: 0.1991 - mean_absolute_error: 0.4462\n",
      "Epoch 7/10\n",
      "1/1 [==============================] - 0s 122ms/step - loss: 0.1173 - mean_absolute_error: 0.3425\n",
      "Epoch 8/10\n",
      "1/1 [==============================] - 0s 118ms/step - loss: 0.0419 - mean_absolute_error: 0.2047\n",
      "Epoch 9/10\n",
      "1/1 [==============================] - 0s 140ms/step - loss: 0.0280 - mean_absolute_error: 0.1673\n",
      "Epoch 10/10\n",
      "1/1 [==============================] - 0s 119ms/step - loss: 0.0057 - mean_absolute_error: 0.0758\n",
      "WARNING:tensorflow:11 out of the last 11 calls to <function Model.make_test_function.<locals>.test_function at 0x7fbf3ff2ef70> triggered tf.function retracing. Tracing is expensive and the excessive number of tracings could be due to (1) creating @tf.function repeatedly in a loop, (2) passing tensors with different shapes, (3) passing Python objects instead of tensors. For (1), please define your @tf.function outside of the loop. For (2), @tf.function has experimental_relax_shapes=True option that relaxes argument shapes that can avoid unnecessary retracing. For (3), please refer to https://www.tensorflow.org/guide/function#controlling_retracing and https://www.tensorflow.org/api_docs/python/tf/function for  more details.\n"
     ]
    },
    {
     "name": "stderr",
     "output_type": "stream",
     "text": [
      "WARNING:tensorflow:11 out of the last 11 calls to <function Model.make_test_function.<locals>.test_function at 0x7fbf3ff2ef70> triggered tf.function retracing. Tracing is expensive and the excessive number of tracings could be due to (1) creating @tf.function repeatedly in a loop, (2) passing tensors with different shapes, (3) passing Python objects instead of tensors. For (1), please define your @tf.function outside of the loop. For (2), @tf.function has experimental_relax_shapes=True option that relaxes argument shapes that can avoid unnecessary retracing. For (3), please refer to https://www.tensorflow.org/guide/function#controlling_retracing and https://www.tensorflow.org/api_docs/python/tf/function for  more details.\n",
      "WARNING:absl:Found untraced functions such as lstm_cell_62_layer_call_fn, lstm_cell_62_layer_call_and_return_conditional_losses, lstm_cell_63_layer_call_fn, lstm_cell_63_layer_call_and_return_conditional_losses, lstm_cell_62_layer_call_fn while saving (showing 5 of 10). These functions will not be directly callable after loading.\n",
      "WARNING:absl:Found untraced functions such as lstm_cell_62_layer_call_fn, lstm_cell_62_layer_call_and_return_conditional_losses, lstm_cell_63_layer_call_fn, lstm_cell_63_layer_call_and_return_conditional_losses, lstm_cell_62_layer_call_fn while saving (showing 5 of 10). These functions will not be directly callable after loading.\n"
     ]
    },
    {
     "name": "stdout",
     "output_type": "stream",
     "text": [
      "INFO:tensorflow:Assets written to: LSTM_train_visual/assets\n"
     ]
    },
    {
     "name": "stderr",
     "output_type": "stream",
     "text": [
      "INFO:tensorflow:Assets written to: LSTM_train_visual/assets\n"
     ]
    },
    {
     "name": "stdout",
     "output_type": "stream",
     "text": [
      "Epoch 1/10\n",
      "1/1 [==============================] - 2s 2s/step - loss: 0.1824 - mean_absolute_error: 0.4271\n",
      "Epoch 2/10\n",
      "1/1 [==============================] - 0s 182ms/step - loss: 9.9390e-05 - mean_absolute_error: 0.0100\n",
      "Epoch 3/10\n",
      "1/1 [==============================] - 0s 182ms/step - loss: 0.0447 - mean_absolute_error: 0.2115\n",
      "Epoch 4/10\n",
      "1/1 [==============================] - 0s 181ms/step - loss: 0.0278 - mean_absolute_error: 0.1668\n",
      "Epoch 5/10\n",
      "1/1 [==============================] - 0s 225ms/step - loss: 0.0019 - mean_absolute_error: 0.0436\n",
      "Epoch 6/10\n",
      "1/1 [==============================] - 0s 181ms/step - loss: 0.0032 - mean_absolute_error: 0.0567\n",
      "Epoch 7/10\n",
      "1/1 [==============================] - 0s 199ms/step - loss: 0.0077 - mean_absolute_error: 0.0878\n",
      "Epoch 8/10\n",
      "1/1 [==============================] - 0s 199ms/step - loss: 0.0041 - mean_absolute_error: 0.0639\n",
      "Epoch 9/10\n",
      "1/1 [==============================] - 0s 182ms/step - loss: 1.1101e-04 - mean_absolute_error: 0.0105\n",
      "Epoch 10/10\n",
      "1/1 [==============================] - 0s 186ms/step - loss: 4.5018e-04 - mean_absolute_error: 0.0212\n",
      "WARNING:tensorflow:11 out of the last 11 calls to <function Model.make_test_function.<locals>.test_function at 0x7fbfa05155e0> triggered tf.function retracing. Tracing is expensive and the excessive number of tracings could be due to (1) creating @tf.function repeatedly in a loop, (2) passing tensors with different shapes, (3) passing Python objects instead of tensors. For (1), please define your @tf.function outside of the loop. For (2), @tf.function has experimental_relax_shapes=True option that relaxes argument shapes that can avoid unnecessary retracing. For (3), please refer to https://www.tensorflow.org/guide/function#controlling_retracing and https://www.tensorflow.org/api_docs/python/tf/function for  more details.\n"
     ]
    },
    {
     "name": "stderr",
     "output_type": "stream",
     "text": [
      "WARNING:tensorflow:11 out of the last 11 calls to <function Model.make_test_function.<locals>.test_function at 0x7fbfa05155e0> triggered tf.function retracing. Tracing is expensive and the excessive number of tracings could be due to (1) creating @tf.function repeatedly in a loop, (2) passing tensors with different shapes, (3) passing Python objects instead of tensors. For (1), please define your @tf.function outside of the loop. For (2), @tf.function has experimental_relax_shapes=True option that relaxes argument shapes that can avoid unnecessary retracing. For (3), please refer to https://www.tensorflow.org/guide/function#controlling_retracing and https://www.tensorflow.org/api_docs/python/tf/function for  more details.\n",
      "WARNING:absl:Found untraced functions such as lstm_cell_64_layer_call_fn, lstm_cell_64_layer_call_and_return_conditional_losses, lstm_cell_65_layer_call_fn, lstm_cell_65_layer_call_and_return_conditional_losses, lstm_cell_64_layer_call_fn while saving (showing 5 of 10). These functions will not be directly callable after loading.\n",
      "WARNING:absl:Found untraced functions such as lstm_cell_64_layer_call_fn, lstm_cell_64_layer_call_and_return_conditional_losses, lstm_cell_65_layer_call_fn, lstm_cell_65_layer_call_and_return_conditional_losses, lstm_cell_64_layer_call_fn while saving (showing 5 of 10). These functions will not be directly callable after loading.\n"
     ]
    },
    {
     "name": "stdout",
     "output_type": "stream",
     "text": [
      "INFO:tensorflow:Assets written to: LSTM_train_visual/assets\n"
     ]
    },
    {
     "name": "stderr",
     "output_type": "stream",
     "text": [
      "INFO:tensorflow:Assets written to: LSTM_train_visual/assets\n"
     ]
    },
    {
     "name": "stdout",
     "output_type": "stream",
     "text": [
      "Epoch 1/10\n",
      "1/1 [==============================] - 2s 2s/step - loss: 0.0135 - mean_absolute_error: 0.1160\n",
      "Epoch 2/10\n",
      "1/1 [==============================] - 0s 374ms/step - loss: 0.0036 - mean_absolute_error: 0.0598\n",
      "Epoch 3/10\n",
      "1/1 [==============================] - 0s 341ms/step - loss: 0.0064 - mean_absolute_error: 0.0801\n",
      "Epoch 4/10\n",
      "1/1 [==============================] - 0s 340ms/step - loss: 0.0027 - mean_absolute_error: 0.0518\n",
      "Epoch 5/10\n",
      "1/1 [==============================] - 0s 412ms/step - loss: 8.6187e-05 - mean_absolute_error: 0.0093\n",
      "Epoch 6/10\n",
      "1/1 [==============================] - 0s 371ms/step - loss: 8.3819e-04 - mean_absolute_error: 0.0290\n",
      "Epoch 7/10\n",
      "1/1 [==============================] - 0s 388ms/step - loss: 0.0021 - mean_absolute_error: 0.0453\n",
      "Epoch 8/10\n",
      "1/1 [==============================] - 0s 371ms/step - loss: 0.0016 - mean_absolute_error: 0.0406\n",
      "Epoch 9/10\n",
      "1/1 [==============================] - 0s 338ms/step - loss: 0.0029 - mean_absolute_error: 0.0536\n",
      "Epoch 10/10\n",
      "1/1 [==============================] - 0s 340ms/step - loss: 2.3171e-04 - mean_absolute_error: 0.0152\n",
      "WARNING:tensorflow:11 out of the last 11 calls to <function Model.make_test_function.<locals>.test_function at 0x7fbf7be77ca0> triggered tf.function retracing. Tracing is expensive and the excessive number of tracings could be due to (1) creating @tf.function repeatedly in a loop, (2) passing tensors with different shapes, (3) passing Python objects instead of tensors. For (1), please define your @tf.function outside of the loop. For (2), @tf.function has experimental_relax_shapes=True option that relaxes argument shapes that can avoid unnecessary retracing. For (3), please refer to https://www.tensorflow.org/guide/function#controlling_retracing and https://www.tensorflow.org/api_docs/python/tf/function for  more details.\n"
     ]
    },
    {
     "name": "stderr",
     "output_type": "stream",
     "text": [
      "WARNING:tensorflow:11 out of the last 11 calls to <function Model.make_test_function.<locals>.test_function at 0x7fbf7be77ca0> triggered tf.function retracing. Tracing is expensive and the excessive number of tracings could be due to (1) creating @tf.function repeatedly in a loop, (2) passing tensors with different shapes, (3) passing Python objects instead of tensors. For (1), please define your @tf.function outside of the loop. For (2), @tf.function has experimental_relax_shapes=True option that relaxes argument shapes that can avoid unnecessary retracing. For (3), please refer to https://www.tensorflow.org/guide/function#controlling_retracing and https://www.tensorflow.org/api_docs/python/tf/function for  more details.\n",
      "WARNING:absl:Found untraced functions such as lstm_cell_66_layer_call_fn, lstm_cell_66_layer_call_and_return_conditional_losses, lstm_cell_67_layer_call_fn, lstm_cell_67_layer_call_and_return_conditional_losses, lstm_cell_66_layer_call_fn while saving (showing 5 of 10). These functions will not be directly callable after loading.\n",
      "WARNING:absl:Found untraced functions such as lstm_cell_66_layer_call_fn, lstm_cell_66_layer_call_and_return_conditional_losses, lstm_cell_67_layer_call_fn, lstm_cell_67_layer_call_and_return_conditional_losses, lstm_cell_66_layer_call_fn while saving (showing 5 of 10). These functions will not be directly callable after loading.\n"
     ]
    },
    {
     "name": "stdout",
     "output_type": "stream",
     "text": [
      "INFO:tensorflow:Assets written to: LSTM_train_visual/assets\n"
     ]
    },
    {
     "name": "stderr",
     "output_type": "stream",
     "text": [
      "INFO:tensorflow:Assets written to: LSTM_train_visual/assets\n"
     ]
    },
    {
     "name": "stdout",
     "output_type": "stream",
     "text": [
      "Epoch 1/10\n",
      "1/1 [==============================] - 2s 2s/step - loss: 0.3674 - mean_absolute_error: 0.6061\n",
      "Epoch 2/10\n",
      "1/1 [==============================] - 1s 586ms/step - loss: 0.2352 - mean_absolute_error: 0.4849\n",
      "Epoch 3/10\n",
      "1/1 [==============================] - 1s 511ms/step - loss: 0.1394 - mean_absolute_error: 0.3733\n",
      "Epoch 4/10\n",
      "1/1 [==============================] - 1s 562ms/step - loss: 0.0684 - mean_absolute_error: 0.2616\n",
      "Epoch 5/10\n",
      "1/1 [==============================] - 1s 557ms/step - loss: 0.0234 - mean_absolute_error: 0.1531\n",
      "Epoch 6/10\n",
      "1/1 [==============================] - 1s 511ms/step - loss: 0.0015 - mean_absolute_error: 0.0382\n",
      "Epoch 7/10\n",
      "1/1 [==============================] - 1s 585ms/step - loss: 0.0054 - mean_absolute_error: 0.0734\n",
      "Epoch 8/10\n",
      "1/1 [==============================] - 1s 611ms/step - loss: 0.0254 - mean_absolute_error: 0.1595\n",
      "Epoch 9/10\n",
      "1/1 [==============================] - 1s 512ms/step - loss: 0.0169 - mean_absolute_error: 0.1301\n",
      "Epoch 10/10\n",
      "1/1 [==============================] - 1s 525ms/step - loss: 0.0271 - mean_absolute_error: 0.1645\n",
      "WARNING:tensorflow:11 out of the last 11 calls to <function Model.make_test_function.<locals>.test_function at 0x7fbfda88ba60> triggered tf.function retracing. Tracing is expensive and the excessive number of tracings could be due to (1) creating @tf.function repeatedly in a loop, (2) passing tensors with different shapes, (3) passing Python objects instead of tensors. For (1), please define your @tf.function outside of the loop. For (2), @tf.function has experimental_relax_shapes=True option that relaxes argument shapes that can avoid unnecessary retracing. For (3), please refer to https://www.tensorflow.org/guide/function#controlling_retracing and https://www.tensorflow.org/api_docs/python/tf/function for  more details.\n"
     ]
    },
    {
     "name": "stderr",
     "output_type": "stream",
     "text": [
      "WARNING:tensorflow:11 out of the last 11 calls to <function Model.make_test_function.<locals>.test_function at 0x7fbfda88ba60> triggered tf.function retracing. Tracing is expensive and the excessive number of tracings could be due to (1) creating @tf.function repeatedly in a loop, (2) passing tensors with different shapes, (3) passing Python objects instead of tensors. For (1), please define your @tf.function outside of the loop. For (2), @tf.function has experimental_relax_shapes=True option that relaxes argument shapes that can avoid unnecessary retracing. For (3), please refer to https://www.tensorflow.org/guide/function#controlling_retracing and https://www.tensorflow.org/api_docs/python/tf/function for  more details.\n",
      "WARNING:absl:Found untraced functions such as lstm_cell_68_layer_call_fn, lstm_cell_68_layer_call_and_return_conditional_losses, lstm_cell_69_layer_call_fn, lstm_cell_69_layer_call_and_return_conditional_losses, lstm_cell_68_layer_call_fn while saving (showing 5 of 10). These functions will not be directly callable after loading.\n",
      "WARNING:absl:Found untraced functions such as lstm_cell_68_layer_call_fn, lstm_cell_68_layer_call_and_return_conditional_losses, lstm_cell_69_layer_call_fn, lstm_cell_69_layer_call_and_return_conditional_losses, lstm_cell_68_layer_call_fn while saving (showing 5 of 10). These functions will not be directly callable after loading.\n"
     ]
    },
    {
     "name": "stdout",
     "output_type": "stream",
     "text": [
      "INFO:tensorflow:Assets written to: LSTM_train_visual/assets\n"
     ]
    },
    {
     "name": "stderr",
     "output_type": "stream",
     "text": [
      "INFO:tensorflow:Assets written to: LSTM_train_visual/assets\n"
     ]
    },
    {
     "name": "stdout",
     "output_type": "stream",
     "text": [
      "Epoch 1/10\n",
      "1/1 [==============================] - 2s 2s/step - loss: 0.0101 - mean_absolute_error: 0.1007\n",
      "Epoch 2/10\n",
      "1/1 [==============================] - 0s 131ms/step - loss: 0.1254 - mean_absolute_error: 0.3541\n",
      "Epoch 3/10\n",
      "1/1 [==============================] - 0s 128ms/step - loss: 0.0093 - mean_absolute_error: 0.0965\n",
      "Epoch 4/10\n",
      "1/1 [==============================] - 0s 129ms/step - loss: 0.0098 - mean_absolute_error: 0.0988\n",
      "Epoch 5/10\n",
      "1/1 [==============================] - 0s 129ms/step - loss: 0.0287 - mean_absolute_error: 0.1693\n",
      "Epoch 6/10\n",
      "1/1 [==============================] - 0s 129ms/step - loss: 0.0314 - mean_absolute_error: 0.1773\n",
      "Epoch 7/10\n",
      "1/1 [==============================] - 0s 129ms/step - loss: 0.0106 - mean_absolute_error: 0.1027\n",
      "Epoch 8/10\n",
      "1/1 [==============================] - 0s 128ms/step - loss: 0.0011 - mean_absolute_error: 0.0330\n",
      "Epoch 9/10\n",
      "1/1 [==============================] - 0s 135ms/step - loss: 0.0137 - mean_absolute_error: 0.1172\n",
      "Epoch 10/10\n",
      "1/1 [==============================] - 0s 128ms/step - loss: 0.0090 - mean_absolute_error: 0.0947\n",
      "WARNING:tensorflow:11 out of the last 11 calls to <function Model.make_test_function.<locals>.test_function at 0x7fc050b7d430> triggered tf.function retracing. Tracing is expensive and the excessive number of tracings could be due to (1) creating @tf.function repeatedly in a loop, (2) passing tensors with different shapes, (3) passing Python objects instead of tensors. For (1), please define your @tf.function outside of the loop. For (2), @tf.function has experimental_relax_shapes=True option that relaxes argument shapes that can avoid unnecessary retracing. For (3), please refer to https://www.tensorflow.org/guide/function#controlling_retracing and https://www.tensorflow.org/api_docs/python/tf/function for  more details.\n"
     ]
    },
    {
     "name": "stderr",
     "output_type": "stream",
     "text": [
      "WARNING:tensorflow:11 out of the last 11 calls to <function Model.make_test_function.<locals>.test_function at 0x7fc050b7d430> triggered tf.function retracing. Tracing is expensive and the excessive number of tracings could be due to (1) creating @tf.function repeatedly in a loop, (2) passing tensors with different shapes, (3) passing Python objects instead of tensors. For (1), please define your @tf.function outside of the loop. For (2), @tf.function has experimental_relax_shapes=True option that relaxes argument shapes that can avoid unnecessary retracing. For (3), please refer to https://www.tensorflow.org/guide/function#controlling_retracing and https://www.tensorflow.org/api_docs/python/tf/function for  more details.\n",
      "WARNING:absl:Found untraced functions such as lstm_cell_70_layer_call_fn, lstm_cell_70_layer_call_and_return_conditional_losses, lstm_cell_71_layer_call_fn, lstm_cell_71_layer_call_and_return_conditional_losses, lstm_cell_70_layer_call_fn while saving (showing 5 of 10). These functions will not be directly callable after loading.\n",
      "WARNING:absl:Found untraced functions such as lstm_cell_70_layer_call_fn, lstm_cell_70_layer_call_and_return_conditional_losses, lstm_cell_71_layer_call_fn, lstm_cell_71_layer_call_and_return_conditional_losses, lstm_cell_70_layer_call_fn while saving (showing 5 of 10). These functions will not be directly callable after loading.\n"
     ]
    },
    {
     "name": "stdout",
     "output_type": "stream",
     "text": [
      "INFO:tensorflow:Assets written to: LSTM_train_visual/assets\n"
     ]
    },
    {
     "name": "stderr",
     "output_type": "stream",
     "text": [
      "INFO:tensorflow:Assets written to: LSTM_train_visual/assets\n"
     ]
    },
    {
     "name": "stdout",
     "output_type": "stream",
     "text": [
      "Epoch 1/10\n",
      "1/1 [==============================] - 2s 2s/step - loss: 0.4577 - mean_absolute_error: 0.6766\n",
      "Epoch 2/10\n",
      "1/1 [==============================] - 0s 218ms/step - loss: 0.1629 - mean_absolute_error: 0.4036\n",
      "Epoch 3/10\n",
      "1/1 [==============================] - 0s 246ms/step - loss: 0.0334 - mean_absolute_error: 0.1827\n",
      "Epoch 4/10\n",
      "1/1 [==============================] - 0s 217ms/step - loss: 0.0021 - mean_absolute_error: 0.0458\n",
      "Epoch 5/10\n",
      "1/1 [==============================] - 0s 221ms/step - loss: 0.0427 - mean_absolute_error: 0.2066\n",
      "Epoch 6/10\n",
      "1/1 [==============================] - 0s 220ms/step - loss: 0.0462 - mean_absolute_error: 0.2150\n",
      "Epoch 7/10\n",
      "1/1 [==============================] - 0s 217ms/step - loss: 0.0196 - mean_absolute_error: 0.1399\n",
      "Epoch 8/10\n",
      "1/1 [==============================] - 0s 225ms/step - loss: 8.9131e-06 - mean_absolute_error: 0.0030\n",
      "Epoch 9/10\n",
      "1/1 [==============================] - 0s 225ms/step - loss: 0.0214 - mean_absolute_error: 0.1464\n",
      "Epoch 10/10\n",
      "1/1 [==============================] - 0s 224ms/step - loss: 6.7713e-05 - mean_absolute_error: 0.0082\n",
      "WARNING:tensorflow:11 out of the last 11 calls to <function Model.make_test_function.<locals>.test_function at 0x7fc05095f160> triggered tf.function retracing. Tracing is expensive and the excessive number of tracings could be due to (1) creating @tf.function repeatedly in a loop, (2) passing tensors with different shapes, (3) passing Python objects instead of tensors. For (1), please define your @tf.function outside of the loop. For (2), @tf.function has experimental_relax_shapes=True option that relaxes argument shapes that can avoid unnecessary retracing. For (3), please refer to https://www.tensorflow.org/guide/function#controlling_retracing and https://www.tensorflow.org/api_docs/python/tf/function for  more details.\n"
     ]
    },
    {
     "name": "stderr",
     "output_type": "stream",
     "text": [
      "WARNING:tensorflow:11 out of the last 11 calls to <function Model.make_test_function.<locals>.test_function at 0x7fc05095f160> triggered tf.function retracing. Tracing is expensive and the excessive number of tracings could be due to (1) creating @tf.function repeatedly in a loop, (2) passing tensors with different shapes, (3) passing Python objects instead of tensors. For (1), please define your @tf.function outside of the loop. For (2), @tf.function has experimental_relax_shapes=True option that relaxes argument shapes that can avoid unnecessary retracing. For (3), please refer to https://www.tensorflow.org/guide/function#controlling_retracing and https://www.tensorflow.org/api_docs/python/tf/function for  more details.\n",
      "WARNING:absl:Found untraced functions such as lstm_cell_72_layer_call_fn, lstm_cell_72_layer_call_and_return_conditional_losses, lstm_cell_73_layer_call_fn, lstm_cell_73_layer_call_and_return_conditional_losses, lstm_cell_72_layer_call_fn while saving (showing 5 of 10). These functions will not be directly callable after loading.\n",
      "WARNING:absl:Found untraced functions such as lstm_cell_72_layer_call_fn, lstm_cell_72_layer_call_and_return_conditional_losses, lstm_cell_73_layer_call_fn, lstm_cell_73_layer_call_and_return_conditional_losses, lstm_cell_72_layer_call_fn while saving (showing 5 of 10). These functions will not be directly callable after loading.\n"
     ]
    },
    {
     "name": "stdout",
     "output_type": "stream",
     "text": [
      "INFO:tensorflow:Assets written to: LSTM_train_visual/assets\n"
     ]
    },
    {
     "name": "stderr",
     "output_type": "stream",
     "text": [
      "INFO:tensorflow:Assets written to: LSTM_train_visual/assets\n"
     ]
    },
    {
     "name": "stdout",
     "output_type": "stream",
     "text": [
      "Epoch 1/10\n",
      "1/1 [==============================] - 2s 2s/step - loss: 0.9981 - mean_absolute_error: 0.9991\n",
      "Epoch 2/10\n",
      "1/1 [==============================] - 0s 274ms/step - loss: 0.2362 - mean_absolute_error: 0.4860\n",
      "Epoch 3/10\n",
      "1/1 [==============================] - 0s 253ms/step - loss: 0.0085 - mean_absolute_error: 0.0921\n",
      "Epoch 4/10\n",
      "1/1 [==============================] - 0s 249ms/step - loss: 0.0630 - mean_absolute_error: 0.2510\n",
      "Epoch 5/10\n",
      "1/1 [==============================] - 0s 247ms/step - loss: 0.1404 - mean_absolute_error: 0.3748\n",
      "Epoch 6/10\n",
      "1/1 [==============================] - 0s 247ms/step - loss: 0.1226 - mean_absolute_error: 0.3501\n",
      "Epoch 7/10\n",
      "1/1 [==============================] - 0s 249ms/step - loss: 0.1294 - mean_absolute_error: 0.3597\n",
      "Epoch 8/10\n",
      "1/1 [==============================] - 0s 245ms/step - loss: 0.0824 - mean_absolute_error: 0.2871\n",
      "Epoch 9/10\n",
      "1/1 [==============================] - 0s 255ms/step - loss: 0.0343 - mean_absolute_error: 0.1851\n",
      "Epoch 10/10\n",
      "1/1 [==============================] - 0s 248ms/step - loss: 0.0070 - mean_absolute_error: 0.0837\n",
      "WARNING:tensorflow:11 out of the last 11 calls to <function Model.make_test_function.<locals>.test_function at 0x7fc02f936550> triggered tf.function retracing. Tracing is expensive and the excessive number of tracings could be due to (1) creating @tf.function repeatedly in a loop, (2) passing tensors with different shapes, (3) passing Python objects instead of tensors. For (1), please define your @tf.function outside of the loop. For (2), @tf.function has experimental_relax_shapes=True option that relaxes argument shapes that can avoid unnecessary retracing. For (3), please refer to https://www.tensorflow.org/guide/function#controlling_retracing and https://www.tensorflow.org/api_docs/python/tf/function for  more details.\n"
     ]
    },
    {
     "name": "stderr",
     "output_type": "stream",
     "text": [
      "WARNING:tensorflow:11 out of the last 11 calls to <function Model.make_test_function.<locals>.test_function at 0x7fc02f936550> triggered tf.function retracing. Tracing is expensive and the excessive number of tracings could be due to (1) creating @tf.function repeatedly in a loop, (2) passing tensors with different shapes, (3) passing Python objects instead of tensors. For (1), please define your @tf.function outside of the loop. For (2), @tf.function has experimental_relax_shapes=True option that relaxes argument shapes that can avoid unnecessary retracing. For (3), please refer to https://www.tensorflow.org/guide/function#controlling_retracing and https://www.tensorflow.org/api_docs/python/tf/function for  more details.\n",
      "WARNING:absl:Found untraced functions such as lstm_cell_74_layer_call_fn, lstm_cell_74_layer_call_and_return_conditional_losses, lstm_cell_75_layer_call_fn, lstm_cell_75_layer_call_and_return_conditional_losses, lstm_cell_74_layer_call_fn while saving (showing 5 of 10). These functions will not be directly callable after loading.\n",
      "WARNING:absl:Found untraced functions such as lstm_cell_74_layer_call_fn, lstm_cell_74_layer_call_and_return_conditional_losses, lstm_cell_75_layer_call_fn, lstm_cell_75_layer_call_and_return_conditional_losses, lstm_cell_74_layer_call_fn while saving (showing 5 of 10). These functions will not be directly callable after loading.\n"
     ]
    },
    {
     "name": "stdout",
     "output_type": "stream",
     "text": [
      "INFO:tensorflow:Assets written to: LSTM_train_visual/assets\n"
     ]
    },
    {
     "name": "stderr",
     "output_type": "stream",
     "text": [
      "INFO:tensorflow:Assets written to: LSTM_train_visual/assets\n"
     ]
    },
    {
     "name": "stdout",
     "output_type": "stream",
     "text": [
      "Epoch 1/10\n",
      "1/1 [==============================] - 2s 2s/step - loss: 4.3959 - mean_absolute_error: 2.0966\n",
      "Epoch 2/10\n",
      "1/1 [==============================] - 1s 531ms/step - loss: 2.9654 - mean_absolute_error: 1.7220\n",
      "Epoch 3/10\n",
      "1/1 [==============================] - 1s 518ms/step - loss: 1.8567 - mean_absolute_error: 1.3626\n",
      "Epoch 4/10\n",
      "1/1 [==============================] - 1s 507ms/step - loss: 0.9544 - mean_absolute_error: 0.9769\n",
      "Epoch 5/10\n",
      "1/1 [==============================] - 1s 506ms/step - loss: 0.4527 - mean_absolute_error: 0.6728\n",
      "Epoch 6/10\n",
      "1/1 [==============================] - 1s 562ms/step - loss: 0.1329 - mean_absolute_error: 0.3646\n",
      "Epoch 7/10\n",
      "1/1 [==============================] - 1s 503ms/step - loss: 0.0050 - mean_absolute_error: 0.0707\n",
      "Epoch 8/10\n",
      "1/1 [==============================] - 1s 566ms/step - loss: 0.0389 - mean_absolute_error: 0.1973\n",
      "Epoch 9/10\n",
      "1/1 [==============================] - 1s 508ms/step - loss: 0.1445 - mean_absolute_error: 0.3802\n",
      "Epoch 10/10\n",
      "1/1 [==============================] - 1s 507ms/step - loss: 0.2268 - mean_absolute_error: 0.4763\n",
      "WARNING:tensorflow:11 out of the last 11 calls to <function Model.make_test_function.<locals>.test_function at 0x7fc050b5ca60> triggered tf.function retracing. Tracing is expensive and the excessive number of tracings could be due to (1) creating @tf.function repeatedly in a loop, (2) passing tensors with different shapes, (3) passing Python objects instead of tensors. For (1), please define your @tf.function outside of the loop. For (2), @tf.function has experimental_relax_shapes=True option that relaxes argument shapes that can avoid unnecessary retracing. For (3), please refer to https://www.tensorflow.org/guide/function#controlling_retracing and https://www.tensorflow.org/api_docs/python/tf/function for  more details.\n"
     ]
    },
    {
     "name": "stderr",
     "output_type": "stream",
     "text": [
      "WARNING:tensorflow:11 out of the last 11 calls to <function Model.make_test_function.<locals>.test_function at 0x7fc050b5ca60> triggered tf.function retracing. Tracing is expensive and the excessive number of tracings could be due to (1) creating @tf.function repeatedly in a loop, (2) passing tensors with different shapes, (3) passing Python objects instead of tensors. For (1), please define your @tf.function outside of the loop. For (2), @tf.function has experimental_relax_shapes=True option that relaxes argument shapes that can avoid unnecessary retracing. For (3), please refer to https://www.tensorflow.org/guide/function#controlling_retracing and https://www.tensorflow.org/api_docs/python/tf/function for  more details.\n",
      "WARNING:absl:Found untraced functions such as lstm_cell_76_layer_call_fn, lstm_cell_76_layer_call_and_return_conditional_losses, lstm_cell_77_layer_call_fn, lstm_cell_77_layer_call_and_return_conditional_losses, lstm_cell_76_layer_call_fn while saving (showing 5 of 10). These functions will not be directly callable after loading.\n",
      "WARNING:absl:Found untraced functions such as lstm_cell_76_layer_call_fn, lstm_cell_76_layer_call_and_return_conditional_losses, lstm_cell_77_layer_call_fn, lstm_cell_77_layer_call_and_return_conditional_losses, lstm_cell_76_layer_call_fn while saving (showing 5 of 10). These functions will not be directly callable after loading.\n"
     ]
    },
    {
     "name": "stdout",
     "output_type": "stream",
     "text": [
      "INFO:tensorflow:Assets written to: LSTM_train_visual/assets\n"
     ]
    },
    {
     "name": "stderr",
     "output_type": "stream",
     "text": [
      "INFO:tensorflow:Assets written to: LSTM_train_visual/assets\n"
     ]
    },
    {
     "name": "stdout",
     "output_type": "stream",
     "text": [
      "Epoch 1/10\n",
      "1/1 [==============================] - 2s 2s/step - loss: 2.4800 - mean_absolute_error: 1.5748\n",
      "Epoch 2/10\n",
      "1/1 [==============================] - 0s 210ms/step - loss: 0.0227 - mean_absolute_error: 0.1507\n",
      "Epoch 3/10\n",
      "1/1 [==============================] - 0s 230ms/step - loss: 0.0634 - mean_absolute_error: 0.2518\n",
      "Epoch 4/10\n",
      "1/1 [==============================] - 0s 208ms/step - loss: 4.8524e-05 - mean_absolute_error: 0.0070\n",
      "Epoch 5/10\n",
      "1/1 [==============================] - 0s 209ms/step - loss: 0.0022 - mean_absolute_error: 0.0467\n",
      "Epoch 6/10\n",
      "1/1 [==============================] - 0s 211ms/step - loss: 2.6584e-05 - mean_absolute_error: 0.0052\n",
      "Epoch 7/10\n",
      "1/1 [==============================] - 0s 214ms/step - loss: 9.1192e-04 - mean_absolute_error: 0.0302\n",
      "Epoch 8/10\n",
      "1/1 [==============================] - 0s 257ms/step - loss: 2.7629e-07 - mean_absolute_error: 5.2563e-04\n",
      "Epoch 9/10\n",
      "1/1 [==============================] - 0s 210ms/step - loss: 0.0012 - mean_absolute_error: 0.0351\n",
      "Epoch 10/10\n",
      "1/1 [==============================] - 0s 210ms/step - loss: 2.0292e-06 - mean_absolute_error: 0.0014\n",
      "WARNING:tensorflow:11 out of the last 11 calls to <function Model.make_test_function.<locals>.test_function at 0x7fc03d9abee0> triggered tf.function retracing. Tracing is expensive and the excessive number of tracings could be due to (1) creating @tf.function repeatedly in a loop, (2) passing tensors with different shapes, (3) passing Python objects instead of tensors. For (1), please define your @tf.function outside of the loop. For (2), @tf.function has experimental_relax_shapes=True option that relaxes argument shapes that can avoid unnecessary retracing. For (3), please refer to https://www.tensorflow.org/guide/function#controlling_retracing and https://www.tensorflow.org/api_docs/python/tf/function for  more details.\n"
     ]
    },
    {
     "name": "stderr",
     "output_type": "stream",
     "text": [
      "WARNING:tensorflow:11 out of the last 11 calls to <function Model.make_test_function.<locals>.test_function at 0x7fc03d9abee0> triggered tf.function retracing. Tracing is expensive and the excessive number of tracings could be due to (1) creating @tf.function repeatedly in a loop, (2) passing tensors with different shapes, (3) passing Python objects instead of tensors. For (1), please define your @tf.function outside of the loop. For (2), @tf.function has experimental_relax_shapes=True option that relaxes argument shapes that can avoid unnecessary retracing. For (3), please refer to https://www.tensorflow.org/guide/function#controlling_retracing and https://www.tensorflow.org/api_docs/python/tf/function for  more details.\n",
      "WARNING:absl:Found untraced functions such as lstm_cell_78_layer_call_fn, lstm_cell_78_layer_call_and_return_conditional_losses, lstm_cell_79_layer_call_fn, lstm_cell_79_layer_call_and_return_conditional_losses, lstm_cell_78_layer_call_fn while saving (showing 5 of 10). These functions will not be directly callable after loading.\n",
      "WARNING:absl:Found untraced functions such as lstm_cell_78_layer_call_fn, lstm_cell_78_layer_call_and_return_conditional_losses, lstm_cell_79_layer_call_fn, lstm_cell_79_layer_call_and_return_conditional_losses, lstm_cell_78_layer_call_fn while saving (showing 5 of 10). These functions will not be directly callable after loading.\n"
     ]
    },
    {
     "name": "stdout",
     "output_type": "stream",
     "text": [
      "INFO:tensorflow:Assets written to: LSTM_train_visual/assets\n"
     ]
    },
    {
     "name": "stderr",
     "output_type": "stream",
     "text": [
      "INFO:tensorflow:Assets written to: LSTM_train_visual/assets\n"
     ]
    },
    {
     "name": "stdout",
     "output_type": "stream",
     "text": [
      "Epoch 1/10\n",
      "1/1 [==============================] - 2s 2s/step - loss: 8.2986 - mean_absolute_error: 2.8807\n",
      "Epoch 2/10\n",
      "1/1 [==============================] - 0s 167ms/step - loss: 6.4961 - mean_absolute_error: 2.5487\n",
      "Epoch 3/10\n",
      "1/1 [==============================] - 0s 165ms/step - loss: 5.0771 - mean_absolute_error: 2.2532\n",
      "Epoch 4/10\n",
      "1/1 [==============================] - 0s 163ms/step - loss: 3.8180 - mean_absolute_error: 1.9540\n",
      "Epoch 5/10\n",
      "1/1 [==============================] - 0s 164ms/step - loss: 2.8019 - mean_absolute_error: 1.6739\n",
      "Epoch 6/10\n",
      "1/1 [==============================] - 0s 164ms/step - loss: 1.9267 - mean_absolute_error: 1.3880\n",
      "Epoch 7/10\n",
      "1/1 [==============================] - 0s 183ms/step - loss: 1.1444 - mean_absolute_error: 1.0698\n",
      "Epoch 8/10\n",
      "1/1 [==============================] - 0s 164ms/step - loss: 0.5084 - mean_absolute_error: 0.7130\n",
      "Epoch 9/10\n",
      "1/1 [==============================] - 0s 164ms/step - loss: 0.1176 - mean_absolute_error: 0.3429\n",
      "Epoch 10/10\n",
      "1/1 [==============================] - 0s 165ms/step - loss: 0.0026 - mean_absolute_error: 0.0512\n",
      "WARNING:tensorflow:11 out of the last 11 calls to <function Model.make_test_function.<locals>.test_function at 0x7fc02d734160> triggered tf.function retracing. Tracing is expensive and the excessive number of tracings could be due to (1) creating @tf.function repeatedly in a loop, (2) passing tensors with different shapes, (3) passing Python objects instead of tensors. For (1), please define your @tf.function outside of the loop. For (2), @tf.function has experimental_relax_shapes=True option that relaxes argument shapes that can avoid unnecessary retracing. For (3), please refer to https://www.tensorflow.org/guide/function#controlling_retracing and https://www.tensorflow.org/api_docs/python/tf/function for  more details.\n"
     ]
    },
    {
     "name": "stderr",
     "output_type": "stream",
     "text": [
      "WARNING:tensorflow:11 out of the last 11 calls to <function Model.make_test_function.<locals>.test_function at 0x7fc02d734160> triggered tf.function retracing. Tracing is expensive and the excessive number of tracings could be due to (1) creating @tf.function repeatedly in a loop, (2) passing tensors with different shapes, (3) passing Python objects instead of tensors. For (1), please define your @tf.function outside of the loop. For (2), @tf.function has experimental_relax_shapes=True option that relaxes argument shapes that can avoid unnecessary retracing. For (3), please refer to https://www.tensorflow.org/guide/function#controlling_retracing and https://www.tensorflow.org/api_docs/python/tf/function for  more details.\n",
      "WARNING:absl:Found untraced functions such as lstm_cell_80_layer_call_fn, lstm_cell_80_layer_call_and_return_conditional_losses, lstm_cell_81_layer_call_fn, lstm_cell_81_layer_call_and_return_conditional_losses, lstm_cell_80_layer_call_fn while saving (showing 5 of 10). These functions will not be directly callable after loading.\n",
      "WARNING:absl:Found untraced functions such as lstm_cell_80_layer_call_fn, lstm_cell_80_layer_call_and_return_conditional_losses, lstm_cell_81_layer_call_fn, lstm_cell_81_layer_call_and_return_conditional_losses, lstm_cell_80_layer_call_fn while saving (showing 5 of 10). These functions will not be directly callable after loading.\n"
     ]
    },
    {
     "name": "stdout",
     "output_type": "stream",
     "text": [
      "INFO:tensorflow:Assets written to: LSTM_train_visual/assets\n"
     ]
    },
    {
     "name": "stderr",
     "output_type": "stream",
     "text": [
      "INFO:tensorflow:Assets written to: LSTM_train_visual/assets\n"
     ]
    },
    {
     "name": "stdout",
     "output_type": "stream",
     "text": [
      "Epoch 1/10\n",
      "1/1 [==============================] - 2s 2s/step - loss: 2.6988 - mean_absolute_error: 1.6428\n",
      "Epoch 2/10\n",
      "1/1 [==============================] - 0s 324ms/step - loss: 2.2588 - mean_absolute_error: 1.5029\n",
      "Epoch 3/10\n",
      "1/1 [==============================] - 0s 325ms/step - loss: 1.6956 - mean_absolute_error: 1.3021\n",
      "Epoch 4/10\n",
      "1/1 [==============================] - 0s 336ms/step - loss: 1.5823 - mean_absolute_error: 1.2579\n",
      "Epoch 5/10\n",
      "1/1 [==============================] - 0s 323ms/step - loss: 1.3150 - mean_absolute_error: 1.1467\n",
      "Epoch 6/10\n",
      "1/1 [==============================] - 0s 353ms/step - loss: 1.0609 - mean_absolute_error: 1.0300\n",
      "Epoch 7/10\n",
      "1/1 [==============================] - 0s 396ms/step - loss: 0.8539 - mean_absolute_error: 0.9240\n",
      "Epoch 8/10\n",
      "1/1 [==============================] - 0s 395ms/step - loss: 0.5128 - mean_absolute_error: 0.7161\n",
      "Epoch 9/10\n",
      "1/1 [==============================] - 0s 355ms/step - loss: 0.3685 - mean_absolute_error: 0.6070\n",
      "Epoch 10/10\n",
      "1/1 [==============================] - 0s 335ms/step - loss: 0.1855 - mean_absolute_error: 0.4307\n",
      "WARNING:tensorflow:11 out of the last 11 calls to <function Model.make_test_function.<locals>.test_function at 0x7fc02fe7f430> triggered tf.function retracing. Tracing is expensive and the excessive number of tracings could be due to (1) creating @tf.function repeatedly in a loop, (2) passing tensors with different shapes, (3) passing Python objects instead of tensors. For (1), please define your @tf.function outside of the loop. For (2), @tf.function has experimental_relax_shapes=True option that relaxes argument shapes that can avoid unnecessary retracing. For (3), please refer to https://www.tensorflow.org/guide/function#controlling_retracing and https://www.tensorflow.org/api_docs/python/tf/function for  more details.\n"
     ]
    },
    {
     "name": "stderr",
     "output_type": "stream",
     "text": [
      "WARNING:tensorflow:11 out of the last 11 calls to <function Model.make_test_function.<locals>.test_function at 0x7fc02fe7f430> triggered tf.function retracing. Tracing is expensive and the excessive number of tracings could be due to (1) creating @tf.function repeatedly in a loop, (2) passing tensors with different shapes, (3) passing Python objects instead of tensors. For (1), please define your @tf.function outside of the loop. For (2), @tf.function has experimental_relax_shapes=True option that relaxes argument shapes that can avoid unnecessary retracing. For (3), please refer to https://www.tensorflow.org/guide/function#controlling_retracing and https://www.tensorflow.org/api_docs/python/tf/function for  more details.\n",
      "WARNING:absl:Found untraced functions such as lstm_cell_82_layer_call_fn, lstm_cell_82_layer_call_and_return_conditional_losses, lstm_cell_83_layer_call_fn, lstm_cell_83_layer_call_and_return_conditional_losses, lstm_cell_82_layer_call_fn while saving (showing 5 of 10). These functions will not be directly callable after loading.\n",
      "WARNING:absl:Found untraced functions such as lstm_cell_82_layer_call_fn, lstm_cell_82_layer_call_and_return_conditional_losses, lstm_cell_83_layer_call_fn, lstm_cell_83_layer_call_and_return_conditional_losses, lstm_cell_82_layer_call_fn while saving (showing 5 of 10). These functions will not be directly callable after loading.\n"
     ]
    },
    {
     "name": "stdout",
     "output_type": "stream",
     "text": [
      "INFO:tensorflow:Assets written to: LSTM_train_visual/assets\n"
     ]
    },
    {
     "name": "stderr",
     "output_type": "stream",
     "text": [
      "INFO:tensorflow:Assets written to: LSTM_train_visual/assets\n"
     ]
    },
    {
     "name": "stdout",
     "output_type": "stream",
     "text": [
      "Epoch 1/10\n",
      "1/1 [==============================] - 3s 3s/step - loss: 8.4268e-04 - mean_absolute_error: 0.0290\n",
      "Epoch 2/10\n",
      "1/1 [==============================] - 0s 425ms/step - loss: 0.1660 - mean_absolute_error: 0.4075\n",
      "Epoch 3/10\n",
      "1/1 [==============================] - 0s 358ms/step - loss: 3.5042e-04 - mean_absolute_error: 0.0187\n",
      "Epoch 4/10\n",
      "1/1 [==============================] - 0s 399ms/step - loss: 0.0071 - mean_absolute_error: 0.0845\n",
      "Epoch 5/10\n",
      "1/1 [==============================] - 0s 355ms/step - loss: 0.0553 - mean_absolute_error: 0.2351\n",
      "Epoch 6/10\n",
      "1/1 [==============================] - 0s 356ms/step - loss: 0.0788 - mean_absolute_error: 0.2807\n",
      "Epoch 7/10\n",
      "1/1 [==============================] - 0s 370ms/step - loss: 0.0131 - mean_absolute_error: 0.1146\n",
      "Epoch 8/10\n",
      "1/1 [==============================] - 0s 362ms/step - loss: 5.6027e-05 - mean_absolute_error: 0.0075\n",
      "Epoch 9/10\n",
      "1/1 [==============================] - 0s 358ms/step - loss: 0.0160 - mean_absolute_error: 0.1265\n",
      "Epoch 10/10\n",
      "1/1 [==============================] - 0s 436ms/step - loss: 0.0256 - mean_absolute_error: 0.1601\n",
      "WARNING:tensorflow:11 out of the last 11 calls to <function Model.make_test_function.<locals>.test_function at 0x7fc02d54edc0> triggered tf.function retracing. Tracing is expensive and the excessive number of tracings could be due to (1) creating @tf.function repeatedly in a loop, (2) passing tensors with different shapes, (3) passing Python objects instead of tensors. For (1), please define your @tf.function outside of the loop. For (2), @tf.function has experimental_relax_shapes=True option that relaxes argument shapes that can avoid unnecessary retracing. For (3), please refer to https://www.tensorflow.org/guide/function#controlling_retracing and https://www.tensorflow.org/api_docs/python/tf/function for  more details.\n"
     ]
    },
    {
     "name": "stderr",
     "output_type": "stream",
     "text": [
      "WARNING:tensorflow:11 out of the last 11 calls to <function Model.make_test_function.<locals>.test_function at 0x7fc02d54edc0> triggered tf.function retracing. Tracing is expensive and the excessive number of tracings could be due to (1) creating @tf.function repeatedly in a loop, (2) passing tensors with different shapes, (3) passing Python objects instead of tensors. For (1), please define your @tf.function outside of the loop. For (2), @tf.function has experimental_relax_shapes=True option that relaxes argument shapes that can avoid unnecessary retracing. For (3), please refer to https://www.tensorflow.org/guide/function#controlling_retracing and https://www.tensorflow.org/api_docs/python/tf/function for  more details.\n",
      "WARNING:absl:Found untraced functions such as lstm_cell_84_layer_call_fn, lstm_cell_84_layer_call_and_return_conditional_losses, lstm_cell_85_layer_call_fn, lstm_cell_85_layer_call_and_return_conditional_losses, lstm_cell_84_layer_call_fn while saving (showing 5 of 10). These functions will not be directly callable after loading.\n",
      "WARNING:absl:Found untraced functions such as lstm_cell_84_layer_call_fn, lstm_cell_84_layer_call_and_return_conditional_losses, lstm_cell_85_layer_call_fn, lstm_cell_85_layer_call_and_return_conditional_losses, lstm_cell_84_layer_call_fn while saving (showing 5 of 10). These functions will not be directly callable after loading.\n"
     ]
    },
    {
     "name": "stdout",
     "output_type": "stream",
     "text": [
      "INFO:tensorflow:Assets written to: LSTM_train_visual/assets\n"
     ]
    },
    {
     "name": "stderr",
     "output_type": "stream",
     "text": [
      "INFO:tensorflow:Assets written to: LSTM_train_visual/assets\n"
     ]
    },
    {
     "name": "stdout",
     "output_type": "stream",
     "text": [
      "Epoch 1/10\n",
      "1/1 [==============================] - 3s 3s/step - loss: 10.7527 - mean_absolute_error: 3.2791\n",
      "Epoch 2/10\n",
      "1/1 [==============================] - 1s 842ms/step - loss: 5.4584 - mean_absolute_error: 2.3363\n",
      "Epoch 3/10\n",
      "1/1 [==============================] - 1s 891ms/step - loss: 3.5413 - mean_absolute_error: 1.8818\n",
      "Epoch 4/10\n",
      "1/1 [==============================] - 1s 894ms/step - loss: 2.9284 - mean_absolute_error: 1.7112\n",
      "Epoch 5/10\n",
      "1/1 [==============================] - 1s 804ms/step - loss: 2.4719 - mean_absolute_error: 1.5722\n",
      "Epoch 6/10\n",
      "1/1 [==============================] - 1s 808ms/step - loss: 2.1619 - mean_absolute_error: 1.4704\n",
      "Epoch 7/10\n",
      "1/1 [==============================] - 1s 934ms/step - loss: 1.8991 - mean_absolute_error: 1.3781\n",
      "Epoch 8/10\n",
      "1/1 [==============================] - 1s 968ms/step - loss: 1.6772 - mean_absolute_error: 1.2951\n",
      "Epoch 9/10\n",
      "1/1 [==============================] - 1s 831ms/step - loss: 1.4601 - mean_absolute_error: 1.2083\n",
      "Epoch 10/10\n",
      "1/1 [==============================] - 1s 803ms/step - loss: 1.2758 - mean_absolute_error: 1.1295\n",
      "WARNING:tensorflow:11 out of the last 11 calls to <function Model.make_test_function.<locals>.test_function at 0x7fc050534dc0> triggered tf.function retracing. Tracing is expensive and the excessive number of tracings could be due to (1) creating @tf.function repeatedly in a loop, (2) passing tensors with different shapes, (3) passing Python objects instead of tensors. For (1), please define your @tf.function outside of the loop. For (2), @tf.function has experimental_relax_shapes=True option that relaxes argument shapes that can avoid unnecessary retracing. For (3), please refer to https://www.tensorflow.org/guide/function#controlling_retracing and https://www.tensorflow.org/api_docs/python/tf/function for  more details.\n"
     ]
    },
    {
     "name": "stderr",
     "output_type": "stream",
     "text": [
      "WARNING:tensorflow:11 out of the last 11 calls to <function Model.make_test_function.<locals>.test_function at 0x7fc050534dc0> triggered tf.function retracing. Tracing is expensive and the excessive number of tracings could be due to (1) creating @tf.function repeatedly in a loop, (2) passing tensors with different shapes, (3) passing Python objects instead of tensors. For (1), please define your @tf.function outside of the loop. For (2), @tf.function has experimental_relax_shapes=True option that relaxes argument shapes that can avoid unnecessary retracing. For (3), please refer to https://www.tensorflow.org/guide/function#controlling_retracing and https://www.tensorflow.org/api_docs/python/tf/function for  more details.\n",
      "WARNING:absl:Found untraced functions such as lstm_cell_86_layer_call_fn, lstm_cell_86_layer_call_and_return_conditional_losses, lstm_cell_87_layer_call_fn, lstm_cell_87_layer_call_and_return_conditional_losses, lstm_cell_86_layer_call_fn while saving (showing 5 of 10). These functions will not be directly callable after loading.\n",
      "WARNING:absl:Found untraced functions such as lstm_cell_86_layer_call_fn, lstm_cell_86_layer_call_and_return_conditional_losses, lstm_cell_87_layer_call_fn, lstm_cell_87_layer_call_and_return_conditional_losses, lstm_cell_86_layer_call_fn while saving (showing 5 of 10). These functions will not be directly callable after loading.\n"
     ]
    },
    {
     "name": "stdout",
     "output_type": "stream",
     "text": [
      "INFO:tensorflow:Assets written to: LSTM_train_visual/assets\n"
     ]
    },
    {
     "name": "stderr",
     "output_type": "stream",
     "text": [
      "INFO:tensorflow:Assets written to: LSTM_train_visual/assets\n"
     ]
    },
    {
     "name": "stdout",
     "output_type": "stream",
     "text": [
      "Epoch 1/10\n",
      "1/1 [==============================] - 2s 2s/step - loss: 1.1038 - mean_absolute_error: 1.0506\n",
      "Epoch 2/10\n",
      "1/1 [==============================] - 0s 272ms/step - loss: 0.1919 - mean_absolute_error: 0.4381\n",
      "Epoch 3/10\n",
      "1/1 [==============================] - 0s 275ms/step - loss: 0.0256 - mean_absolute_error: 0.1599\n",
      "Epoch 4/10\n",
      "1/1 [==============================] - 0s 331ms/step - loss: 0.1822 - mean_absolute_error: 0.4269\n",
      "Epoch 5/10\n",
      "1/1 [==============================] - 0s 274ms/step - loss: 0.1110 - mean_absolute_error: 0.3332\n",
      "Epoch 6/10\n",
      "1/1 [==============================] - 0s 277ms/step - loss: 0.0347 - mean_absolute_error: 0.1862\n",
      "Epoch 7/10\n",
      "1/1 [==============================] - 0s 274ms/step - loss: 0.0014 - mean_absolute_error: 0.0380\n",
      "Epoch 8/10\n",
      "1/1 [==============================] - 0s 273ms/step - loss: 0.0245 - mean_absolute_error: 0.1565\n",
      "Epoch 9/10\n",
      "1/1 [==============================] - 0s 273ms/step - loss: 0.0151 - mean_absolute_error: 0.1228\n",
      "Epoch 10/10\n",
      "1/1 [==============================] - 0s 281ms/step - loss: 0.0066 - mean_absolute_error: 0.0813\n",
      "WARNING:tensorflow:11 out of the last 11 calls to <function Model.make_test_function.<locals>.test_function at 0x7fbf50618940> triggered tf.function retracing. Tracing is expensive and the excessive number of tracings could be due to (1) creating @tf.function repeatedly in a loop, (2) passing tensors with different shapes, (3) passing Python objects instead of tensors. For (1), please define your @tf.function outside of the loop. For (2), @tf.function has experimental_relax_shapes=True option that relaxes argument shapes that can avoid unnecessary retracing. For (3), please refer to https://www.tensorflow.org/guide/function#controlling_retracing and https://www.tensorflow.org/api_docs/python/tf/function for  more details.\n"
     ]
    },
    {
     "name": "stderr",
     "output_type": "stream",
     "text": [
      "WARNING:tensorflow:11 out of the last 11 calls to <function Model.make_test_function.<locals>.test_function at 0x7fbf50618940> triggered tf.function retracing. Tracing is expensive and the excessive number of tracings could be due to (1) creating @tf.function repeatedly in a loop, (2) passing tensors with different shapes, (3) passing Python objects instead of tensors. For (1), please define your @tf.function outside of the loop. For (2), @tf.function has experimental_relax_shapes=True option that relaxes argument shapes that can avoid unnecessary retracing. For (3), please refer to https://www.tensorflow.org/guide/function#controlling_retracing and https://www.tensorflow.org/api_docs/python/tf/function for  more details.\n",
      "WARNING:absl:Found untraced functions such as lstm_cell_88_layer_call_fn, lstm_cell_88_layer_call_and_return_conditional_losses, lstm_cell_89_layer_call_fn, lstm_cell_89_layer_call_and_return_conditional_losses, lstm_cell_88_layer_call_fn while saving (showing 5 of 10). These functions will not be directly callable after loading.\n",
      "WARNING:absl:Found untraced functions such as lstm_cell_88_layer_call_fn, lstm_cell_88_layer_call_and_return_conditional_losses, lstm_cell_89_layer_call_fn, lstm_cell_89_layer_call_and_return_conditional_losses, lstm_cell_88_layer_call_fn while saving (showing 5 of 10). These functions will not be directly callable after loading.\n"
     ]
    },
    {
     "name": "stdout",
     "output_type": "stream",
     "text": [
      "INFO:tensorflow:Assets written to: LSTM_train_visual/assets\n"
     ]
    },
    {
     "name": "stderr",
     "output_type": "stream",
     "text": [
      "INFO:tensorflow:Assets written to: LSTM_train_visual/assets\n"
     ]
    },
    {
     "name": "stdout",
     "output_type": "stream",
     "text": [
      "Epoch 1/10\n",
      "1/1 [==============================] - 2s 2s/step - loss: 0.4653 - mean_absolute_error: 0.6821\n",
      "Epoch 2/10\n",
      "1/1 [==============================] - 0s 109ms/step - loss: 0.0181 - mean_absolute_error: 0.1345\n",
      "Epoch 3/10\n",
      "1/1 [==============================] - 0s 91ms/step - loss: 0.1634 - mean_absolute_error: 0.4042\n",
      "Epoch 4/10\n",
      "1/1 [==============================] - 0s 89ms/step - loss: 0.1311 - mean_absolute_error: 0.3621\n",
      "Epoch 5/10\n",
      "1/1 [==============================] - 0s 101ms/step - loss: 0.0619 - mean_absolute_error: 0.2488\n",
      "Epoch 6/10\n",
      "1/1 [==============================] - 0s 90ms/step - loss: 0.0187 - mean_absolute_error: 0.1369\n",
      "Epoch 7/10\n",
      "1/1 [==============================] - 0s 95ms/step - loss: 8.0040e-04 - mean_absolute_error: 0.0283\n",
      "Epoch 8/10\n",
      "1/1 [==============================] - 0s 91ms/step - loss: 0.0123 - mean_absolute_error: 0.1111\n",
      "Epoch 9/10\n",
      "1/1 [==============================] - 0s 95ms/step - loss: 0.0379 - mean_absolute_error: 0.1948\n",
      "Epoch 10/10\n",
      "1/1 [==============================] - 0s 94ms/step - loss: 0.0398 - mean_absolute_error: 0.1996\n",
      "WARNING:tensorflow:11 out of the last 11 calls to <function Model.make_test_function.<locals>.test_function at 0x7fc0509878b0> triggered tf.function retracing. Tracing is expensive and the excessive number of tracings could be due to (1) creating @tf.function repeatedly in a loop, (2) passing tensors with different shapes, (3) passing Python objects instead of tensors. For (1), please define your @tf.function outside of the loop. For (2), @tf.function has experimental_relax_shapes=True option that relaxes argument shapes that can avoid unnecessary retracing. For (3), please refer to https://www.tensorflow.org/guide/function#controlling_retracing and https://www.tensorflow.org/api_docs/python/tf/function for  more details.\n"
     ]
    },
    {
     "name": "stderr",
     "output_type": "stream",
     "text": [
      "WARNING:tensorflow:11 out of the last 11 calls to <function Model.make_test_function.<locals>.test_function at 0x7fc0509878b0> triggered tf.function retracing. Tracing is expensive and the excessive number of tracings could be due to (1) creating @tf.function repeatedly in a loop, (2) passing tensors with different shapes, (3) passing Python objects instead of tensors. For (1), please define your @tf.function outside of the loop. For (2), @tf.function has experimental_relax_shapes=True option that relaxes argument shapes that can avoid unnecessary retracing. For (3), please refer to https://www.tensorflow.org/guide/function#controlling_retracing and https://www.tensorflow.org/api_docs/python/tf/function for  more details.\n",
      "WARNING:absl:Found untraced functions such as lstm_cell_90_layer_call_fn, lstm_cell_90_layer_call_and_return_conditional_losses, lstm_cell_91_layer_call_fn, lstm_cell_91_layer_call_and_return_conditional_losses, lstm_cell_90_layer_call_fn while saving (showing 5 of 10). These functions will not be directly callable after loading.\n",
      "WARNING:absl:Found untraced functions such as lstm_cell_90_layer_call_fn, lstm_cell_90_layer_call_and_return_conditional_losses, lstm_cell_91_layer_call_fn, lstm_cell_91_layer_call_and_return_conditional_losses, lstm_cell_90_layer_call_fn while saving (showing 5 of 10). These functions will not be directly callable after loading.\n"
     ]
    },
    {
     "name": "stdout",
     "output_type": "stream",
     "text": [
      "INFO:tensorflow:Assets written to: LSTM_train_visual/assets\n"
     ]
    },
    {
     "name": "stderr",
     "output_type": "stream",
     "text": [
      "INFO:tensorflow:Assets written to: LSTM_train_visual/assets\n"
     ]
    },
    {
     "name": "stdout",
     "output_type": "stream",
     "text": [
      "Epoch 1/10\n",
      "1/1 [==============================] - 2s 2s/step - loss: 4.0789 - mean_absolute_error: 2.0196\n",
      "Epoch 2/10\n",
      "1/1 [==============================] - 0s 124ms/step - loss: 2.4043 - mean_absolute_error: 1.5506\n",
      "Epoch 3/10\n",
      "1/1 [==============================] - 0s 103ms/step - loss: 1.0874 - mean_absolute_error: 1.0428\n",
      "Epoch 4/10\n",
      "1/1 [==============================] - 0s 106ms/step - loss: 0.4123 - mean_absolute_error: 0.6421\n",
      "Epoch 5/10\n",
      "1/1 [==============================] - 0s 102ms/step - loss: 0.0711 - mean_absolute_error: 0.2667\n",
      "Epoch 6/10\n",
      "1/1 [==============================] - 0s 104ms/step - loss: 0.0030 - mean_absolute_error: 0.0544\n",
      "Epoch 7/10\n",
      "1/1 [==============================] - 0s 102ms/step - loss: 0.0753 - mean_absolute_error: 0.2744\n",
      "Epoch 8/10\n",
      "1/1 [==============================] - 0s 104ms/step - loss: 0.1478 - mean_absolute_error: 0.3844\n",
      "Epoch 9/10\n",
      "1/1 [==============================] - 0s 101ms/step - loss: 0.2081 - mean_absolute_error: 0.4562\n",
      "Epoch 10/10\n",
      "1/1 [==============================] - 0s 117ms/step - loss: 0.0168 - mean_absolute_error: 0.1297\n",
      "WARNING:tensorflow:11 out of the last 11 calls to <function Model.make_test_function.<locals>.test_function at 0x7fbfa08349d0> triggered tf.function retracing. Tracing is expensive and the excessive number of tracings could be due to (1) creating @tf.function repeatedly in a loop, (2) passing tensors with different shapes, (3) passing Python objects instead of tensors. For (1), please define your @tf.function outside of the loop. For (2), @tf.function has experimental_relax_shapes=True option that relaxes argument shapes that can avoid unnecessary retracing. For (3), please refer to https://www.tensorflow.org/guide/function#controlling_retracing and https://www.tensorflow.org/api_docs/python/tf/function for  more details.\n"
     ]
    },
    {
     "name": "stderr",
     "output_type": "stream",
     "text": [
      "WARNING:tensorflow:11 out of the last 11 calls to <function Model.make_test_function.<locals>.test_function at 0x7fbfa08349d0> triggered tf.function retracing. Tracing is expensive and the excessive number of tracings could be due to (1) creating @tf.function repeatedly in a loop, (2) passing tensors with different shapes, (3) passing Python objects instead of tensors. For (1), please define your @tf.function outside of the loop. For (2), @tf.function has experimental_relax_shapes=True option that relaxes argument shapes that can avoid unnecessary retracing. For (3), please refer to https://www.tensorflow.org/guide/function#controlling_retracing and https://www.tensorflow.org/api_docs/python/tf/function for  more details.\n",
      "WARNING:absl:Found untraced functions such as lstm_cell_92_layer_call_fn, lstm_cell_92_layer_call_and_return_conditional_losses, lstm_cell_93_layer_call_fn, lstm_cell_93_layer_call_and_return_conditional_losses, lstm_cell_92_layer_call_fn while saving (showing 5 of 10). These functions will not be directly callable after loading.\n",
      "WARNING:absl:Found untraced functions such as lstm_cell_92_layer_call_fn, lstm_cell_92_layer_call_and_return_conditional_losses, lstm_cell_93_layer_call_fn, lstm_cell_93_layer_call_and_return_conditional_losses, lstm_cell_92_layer_call_fn while saving (showing 5 of 10). These functions will not be directly callable after loading.\n"
     ]
    },
    {
     "name": "stdout",
     "output_type": "stream",
     "text": [
      "INFO:tensorflow:Assets written to: LSTM_train_visual/assets\n"
     ]
    },
    {
     "name": "stderr",
     "output_type": "stream",
     "text": [
      "INFO:tensorflow:Assets written to: LSTM_train_visual/assets\n"
     ]
    },
    {
     "name": "stdout",
     "output_type": "stream",
     "text": [
      "Epoch 1/10\n",
      "1/1 [==============================] - 3s 3s/step - loss: 0.1076 - mean_absolute_error: 0.3281\n",
      "Epoch 2/10\n",
      "1/1 [==============================] - 1s 797ms/step - loss: 0.0339 - mean_absolute_error: 0.1841\n",
      "Epoch 3/10\n",
      "1/1 [==============================] - 1s 793ms/step - loss: 0.0028 - mean_absolute_error: 0.0530\n",
      "Epoch 4/10\n",
      "1/1 [==============================] - 1s 901ms/step - loss: 0.0103 - mean_absolute_error: 0.1013\n",
      "Epoch 5/10\n",
      "1/1 [==============================] - 1s 713ms/step - loss: 0.0150 - mean_absolute_error: 0.1226\n",
      "Epoch 6/10\n",
      "1/1 [==============================] - 1s 716ms/step - loss: 0.0085 - mean_absolute_error: 0.0924\n",
      "Epoch 7/10\n",
      "1/1 [==============================] - 1s 845ms/step - loss: 0.0039 - mean_absolute_error: 0.0622\n",
      "Epoch 8/10\n",
      "1/1 [==============================] - 1s 717ms/step - loss: 0.0013 - mean_absolute_error: 0.0357\n",
      "Epoch 9/10\n",
      "1/1 [==============================] - 1s 718ms/step - loss: 8.7190e-05 - mean_absolute_error: 0.0093\n",
      "Epoch 10/10\n",
      "1/1 [==============================] - 1s 720ms/step - loss: 6.0188e-05 - mean_absolute_error: 0.0078\n",
      "WARNING:tensorflow:11 out of the last 11 calls to <function Model.make_test_function.<locals>.test_function at 0x7fc05043e280> triggered tf.function retracing. Tracing is expensive and the excessive number of tracings could be due to (1) creating @tf.function repeatedly in a loop, (2) passing tensors with different shapes, (3) passing Python objects instead of tensors. For (1), please define your @tf.function outside of the loop. For (2), @tf.function has experimental_relax_shapes=True option that relaxes argument shapes that can avoid unnecessary retracing. For (3), please refer to https://www.tensorflow.org/guide/function#controlling_retracing and https://www.tensorflow.org/api_docs/python/tf/function for  more details.\n"
     ]
    },
    {
     "name": "stderr",
     "output_type": "stream",
     "text": [
      "WARNING:tensorflow:11 out of the last 11 calls to <function Model.make_test_function.<locals>.test_function at 0x7fc05043e280> triggered tf.function retracing. Tracing is expensive and the excessive number of tracings could be due to (1) creating @tf.function repeatedly in a loop, (2) passing tensors with different shapes, (3) passing Python objects instead of tensors. For (1), please define your @tf.function outside of the loop. For (2), @tf.function has experimental_relax_shapes=True option that relaxes argument shapes that can avoid unnecessary retracing. For (3), please refer to https://www.tensorflow.org/guide/function#controlling_retracing and https://www.tensorflow.org/api_docs/python/tf/function for  more details.\n",
      "WARNING:absl:Found untraced functions such as lstm_cell_94_layer_call_fn, lstm_cell_94_layer_call_and_return_conditional_losses, lstm_cell_95_layer_call_fn, lstm_cell_95_layer_call_and_return_conditional_losses, lstm_cell_94_layer_call_fn while saving (showing 5 of 10). These functions will not be directly callable after loading.\n",
      "WARNING:absl:Found untraced functions such as lstm_cell_94_layer_call_fn, lstm_cell_94_layer_call_and_return_conditional_losses, lstm_cell_95_layer_call_fn, lstm_cell_95_layer_call_and_return_conditional_losses, lstm_cell_94_layer_call_fn while saving (showing 5 of 10). These functions will not be directly callable after loading.\n"
     ]
    },
    {
     "name": "stdout",
     "output_type": "stream",
     "text": [
      "INFO:tensorflow:Assets written to: LSTM_train_visual/assets\n"
     ]
    },
    {
     "name": "stderr",
     "output_type": "stream",
     "text": [
      "INFO:tensorflow:Assets written to: LSTM_train_visual/assets\n"
     ]
    },
    {
     "name": "stdout",
     "output_type": "stream",
     "text": [
      "Epoch 1/10\n",
      "1/1 [==============================] - 3s 3s/step - loss: 0.2174 - mean_absolute_error: 0.4662\n",
      "Epoch 2/10\n",
      "1/1 [==============================] - 1s 1s/step - loss: 0.5306 - mean_absolute_error: 0.7284\n",
      "Epoch 3/10\n",
      "1/1 [==============================] - 1s 1s/step - loss: 0.1751 - mean_absolute_error: 0.4185\n",
      "Epoch 4/10\n",
      "1/1 [==============================] - 1s 1s/step - loss: 0.0412 - mean_absolute_error: 0.2031\n",
      "Epoch 5/10\n",
      "1/1 [==============================] - 1s 961ms/step - loss: 0.0096 - mean_absolute_error: 0.0979\n",
      "Epoch 6/10\n",
      "1/1 [==============================] - 1s 960ms/step - loss: 0.0584 - mean_absolute_error: 0.2417\n",
      "Epoch 7/10\n",
      "1/1 [==============================] - 1s 1s/step - loss: 0.0703 - mean_absolute_error: 0.2651\n",
      "Epoch 8/10\n",
      "1/1 [==============================] - 1s 1s/step - loss: 0.0892 - mean_absolute_error: 0.2986\n",
      "Epoch 9/10\n",
      "1/1 [==============================] - 1s 1s/step - loss: 0.1003 - mean_absolute_error: 0.3168\n",
      "Epoch 10/10\n",
      "1/1 [==============================] - 1s 973ms/step - loss: 0.0633 - mean_absolute_error: 0.2516\n",
      "WARNING:tensorflow:11 out of the last 11 calls to <function Model.make_test_function.<locals>.test_function at 0x7fc03d9ab0d0> triggered tf.function retracing. Tracing is expensive and the excessive number of tracings could be due to (1) creating @tf.function repeatedly in a loop, (2) passing tensors with different shapes, (3) passing Python objects instead of tensors. For (1), please define your @tf.function outside of the loop. For (2), @tf.function has experimental_relax_shapes=True option that relaxes argument shapes that can avoid unnecessary retracing. For (3), please refer to https://www.tensorflow.org/guide/function#controlling_retracing and https://www.tensorflow.org/api_docs/python/tf/function for  more details.\n"
     ]
    },
    {
     "name": "stderr",
     "output_type": "stream",
     "text": [
      "WARNING:tensorflow:11 out of the last 11 calls to <function Model.make_test_function.<locals>.test_function at 0x7fc03d9ab0d0> triggered tf.function retracing. Tracing is expensive and the excessive number of tracings could be due to (1) creating @tf.function repeatedly in a loop, (2) passing tensors with different shapes, (3) passing Python objects instead of tensors. For (1), please define your @tf.function outside of the loop. For (2), @tf.function has experimental_relax_shapes=True option that relaxes argument shapes that can avoid unnecessary retracing. For (3), please refer to https://www.tensorflow.org/guide/function#controlling_retracing and https://www.tensorflow.org/api_docs/python/tf/function for  more details.\n",
      "WARNING:absl:Found untraced functions such as lstm_cell_96_layer_call_fn, lstm_cell_96_layer_call_and_return_conditional_losses, lstm_cell_97_layer_call_fn, lstm_cell_97_layer_call_and_return_conditional_losses, lstm_cell_96_layer_call_fn while saving (showing 5 of 10). These functions will not be directly callable after loading.\n",
      "WARNING:absl:Found untraced functions such as lstm_cell_96_layer_call_fn, lstm_cell_96_layer_call_and_return_conditional_losses, lstm_cell_97_layer_call_fn, lstm_cell_97_layer_call_and_return_conditional_losses, lstm_cell_96_layer_call_fn while saving (showing 5 of 10). These functions will not be directly callable after loading.\n"
     ]
    },
    {
     "name": "stdout",
     "output_type": "stream",
     "text": [
      "INFO:tensorflow:Assets written to: LSTM_train_visual/assets\n"
     ]
    },
    {
     "name": "stderr",
     "output_type": "stream",
     "text": [
      "INFO:tensorflow:Assets written to: LSTM_train_visual/assets\n"
     ]
    },
    {
     "name": "stdout",
     "output_type": "stream",
     "text": [
      "Epoch 1/10\n",
      "1/1 [==============================] - 2s 2s/step - loss: 5.8761e-04 - mean_absolute_error: 0.0242\n",
      "Epoch 2/10\n",
      "1/1 [==============================] - 0s 476ms/step - loss: 0.0045 - mean_absolute_error: 0.0671\n",
      "Epoch 3/10\n",
      "1/1 [==============================] - 0s 477ms/step - loss: 0.0013 - mean_absolute_error: 0.0360\n",
      "Epoch 4/10\n",
      "1/1 [==============================] - 0s 460ms/step - loss: 9.5568e-04 - mean_absolute_error: 0.0309\n",
      "Epoch 5/10\n",
      "1/1 [==============================] - 1s 505ms/step - loss: 0.0015 - mean_absolute_error: 0.0385\n",
      "Epoch 6/10\n",
      "1/1 [==============================] - 0s 461ms/step - loss: 0.0010 - mean_absolute_error: 0.0324\n",
      "Epoch 7/10\n",
      "1/1 [==============================] - 0s 499ms/step - loss: 3.0631e-04 - mean_absolute_error: 0.0175\n",
      "Epoch 8/10\n",
      "1/1 [==============================] - 1s 509ms/step - loss: 5.4409e-06 - mean_absolute_error: 0.0023\n",
      "Epoch 9/10\n",
      "1/1 [==============================] - 0s 460ms/step - loss: 1.7145e-04 - mean_absolute_error: 0.0131\n",
      "Epoch 10/10\n",
      "1/1 [==============================] - 0s 459ms/step - loss: 4.2873e-04 - mean_absolute_error: 0.0207\n",
      "WARNING:tensorflow:11 out of the last 11 calls to <function Model.make_test_function.<locals>.test_function at 0x7fbf643204c0> triggered tf.function retracing. Tracing is expensive and the excessive number of tracings could be due to (1) creating @tf.function repeatedly in a loop, (2) passing tensors with different shapes, (3) passing Python objects instead of tensors. For (1), please define your @tf.function outside of the loop. For (2), @tf.function has experimental_relax_shapes=True option that relaxes argument shapes that can avoid unnecessary retracing. For (3), please refer to https://www.tensorflow.org/guide/function#controlling_retracing and https://www.tensorflow.org/api_docs/python/tf/function for  more details.\n"
     ]
    },
    {
     "name": "stderr",
     "output_type": "stream",
     "text": [
      "WARNING:tensorflow:11 out of the last 11 calls to <function Model.make_test_function.<locals>.test_function at 0x7fbf643204c0> triggered tf.function retracing. Tracing is expensive and the excessive number of tracings could be due to (1) creating @tf.function repeatedly in a loop, (2) passing tensors with different shapes, (3) passing Python objects instead of tensors. For (1), please define your @tf.function outside of the loop. For (2), @tf.function has experimental_relax_shapes=True option that relaxes argument shapes that can avoid unnecessary retracing. For (3), please refer to https://www.tensorflow.org/guide/function#controlling_retracing and https://www.tensorflow.org/api_docs/python/tf/function for  more details.\n",
      "WARNING:absl:Found untraced functions such as lstm_cell_98_layer_call_fn, lstm_cell_98_layer_call_and_return_conditional_losses, lstm_cell_99_layer_call_fn, lstm_cell_99_layer_call_and_return_conditional_losses, lstm_cell_98_layer_call_fn while saving (showing 5 of 10). These functions will not be directly callable after loading.\n",
      "WARNING:absl:Found untraced functions such as lstm_cell_98_layer_call_fn, lstm_cell_98_layer_call_and_return_conditional_losses, lstm_cell_99_layer_call_fn, lstm_cell_99_layer_call_and_return_conditional_losses, lstm_cell_98_layer_call_fn while saving (showing 5 of 10). These functions will not be directly callable after loading.\n"
     ]
    },
    {
     "name": "stdout",
     "output_type": "stream",
     "text": [
      "INFO:tensorflow:Assets written to: LSTM_train_visual/assets\n"
     ]
    },
    {
     "name": "stderr",
     "output_type": "stream",
     "text": [
      "INFO:tensorflow:Assets written to: LSTM_train_visual/assets\n"
     ]
    },
    {
     "name": "stdout",
     "output_type": "stream",
     "text": [
      "Epoch 1/10\n",
      "1/1 [==============================] - 2s 2s/step - loss: 1.5598 - mean_absolute_error: 1.2489\n",
      "Epoch 2/10\n",
      "1/1 [==============================] - 0s 129ms/step - loss: 1.3956 - mean_absolute_error: 1.1813\n",
      "Epoch 3/10\n",
      "1/1 [==============================] - 0s 120ms/step - loss: 1.1811 - mean_absolute_error: 1.0868\n",
      "Epoch 4/10\n",
      "1/1 [==============================] - 0s 143ms/step - loss: 0.9698 - mean_absolute_error: 0.9848\n",
      "Epoch 5/10\n",
      "1/1 [==============================] - 0s 121ms/step - loss: 0.7516 - mean_absolute_error: 0.8669\n",
      "Epoch 6/10\n",
      "1/1 [==============================] - 0s 113ms/step - loss: 0.5076 - mean_absolute_error: 0.7124\n",
      "Epoch 7/10\n",
      "1/1 [==============================] - 0s 114ms/step - loss: 0.2891 - mean_absolute_error: 0.5377\n",
      "Epoch 8/10\n",
      "1/1 [==============================] - 0s 116ms/step - loss: 0.0775 - mean_absolute_error: 0.2784\n",
      "Epoch 9/10\n",
      "1/1 [==============================] - 0s 119ms/step - loss: 7.7646e-05 - mean_absolute_error: 0.0088\n",
      "Epoch 10/10\n",
      "1/1 [==============================] - 0s 126ms/step - loss: 0.1099 - mean_absolute_error: 0.3315\n",
      "WARNING:tensorflow:11 out of the last 11 calls to <function Model.make_test_function.<locals>.test_function at 0x7fc050532f70> triggered tf.function retracing. Tracing is expensive and the excessive number of tracings could be due to (1) creating @tf.function repeatedly in a loop, (2) passing tensors with different shapes, (3) passing Python objects instead of tensors. For (1), please define your @tf.function outside of the loop. For (2), @tf.function has experimental_relax_shapes=True option that relaxes argument shapes that can avoid unnecessary retracing. For (3), please refer to https://www.tensorflow.org/guide/function#controlling_retracing and https://www.tensorflow.org/api_docs/python/tf/function for  more details.\n"
     ]
    },
    {
     "name": "stderr",
     "output_type": "stream",
     "text": [
      "WARNING:tensorflow:11 out of the last 11 calls to <function Model.make_test_function.<locals>.test_function at 0x7fc050532f70> triggered tf.function retracing. Tracing is expensive and the excessive number of tracings could be due to (1) creating @tf.function repeatedly in a loop, (2) passing tensors with different shapes, (3) passing Python objects instead of tensors. For (1), please define your @tf.function outside of the loop. For (2), @tf.function has experimental_relax_shapes=True option that relaxes argument shapes that can avoid unnecessary retracing. For (3), please refer to https://www.tensorflow.org/guide/function#controlling_retracing and https://www.tensorflow.org/api_docs/python/tf/function for  more details.\n",
      "WARNING:absl:Found untraced functions such as lstm_cell_100_layer_call_fn, lstm_cell_100_layer_call_and_return_conditional_losses, lstm_cell_101_layer_call_fn, lstm_cell_101_layer_call_and_return_conditional_losses, lstm_cell_100_layer_call_fn while saving (showing 5 of 10). These functions will not be directly callable after loading.\n",
      "WARNING:absl:Found untraced functions such as lstm_cell_100_layer_call_fn, lstm_cell_100_layer_call_and_return_conditional_losses, lstm_cell_101_layer_call_fn, lstm_cell_101_layer_call_and_return_conditional_losses, lstm_cell_100_layer_call_fn while saving (showing 5 of 10). These functions will not be directly callable after loading.\n"
     ]
    },
    {
     "name": "stdout",
     "output_type": "stream",
     "text": [
      "INFO:tensorflow:Assets written to: LSTM_train_visual/assets\n"
     ]
    },
    {
     "name": "stderr",
     "output_type": "stream",
     "text": [
      "INFO:tensorflow:Assets written to: LSTM_train_visual/assets\n"
     ]
    },
    {
     "name": "stdout",
     "output_type": "stream",
     "text": [
      "Epoch 1/10\n",
      "1/1 [==============================] - 3s 3s/step - loss: 0.2720 - mean_absolute_error: 0.5216\n",
      "Epoch 2/10\n",
      "1/1 [==============================] - 1s 844ms/step - loss: 0.0146 - mean_absolute_error: 0.1208\n",
      "Epoch 3/10\n",
      "1/1 [==============================] - 1s 842ms/step - loss: 0.0345 - mean_absolute_error: 0.1858\n",
      "Epoch 4/10\n",
      "1/1 [==============================] - 1s 845ms/step - loss: 0.0916 - mean_absolute_error: 0.3026\n",
      "Epoch 5/10\n",
      "1/1 [==============================] - 1s 844ms/step - loss: 0.0799 - mean_absolute_error: 0.2826\n",
      "Epoch 6/10\n",
      "1/1 [==============================] - 1s 845ms/step - loss: 0.0391 - mean_absolute_error: 0.1977\n",
      "Epoch 7/10\n",
      "1/1 [==============================] - 1s 844ms/step - loss: 0.0070 - mean_absolute_error: 0.0839\n",
      "Epoch 8/10\n",
      "1/1 [==============================] - 1s 844ms/step - loss: 8.5555e-04 - mean_absolute_error: 0.0292\n",
      "Epoch 9/10\n",
      "1/1 [==============================] - 1s 848ms/step - loss: 0.0139 - mean_absolute_error: 0.1180\n",
      "Epoch 10/10\n",
      "1/1 [==============================] - 1s 839ms/step - loss: 0.0521 - mean_absolute_error: 0.2282\n",
      "WARNING:tensorflow:11 out of the last 11 calls to <function Model.make_test_function.<locals>.test_function at 0x7fc03d671550> triggered tf.function retracing. Tracing is expensive and the excessive number of tracings could be due to (1) creating @tf.function repeatedly in a loop, (2) passing tensors with different shapes, (3) passing Python objects instead of tensors. For (1), please define your @tf.function outside of the loop. For (2), @tf.function has experimental_relax_shapes=True option that relaxes argument shapes that can avoid unnecessary retracing. For (3), please refer to https://www.tensorflow.org/guide/function#controlling_retracing and https://www.tensorflow.org/api_docs/python/tf/function for  more details.\n"
     ]
    },
    {
     "name": "stderr",
     "output_type": "stream",
     "text": [
      "WARNING:tensorflow:11 out of the last 11 calls to <function Model.make_test_function.<locals>.test_function at 0x7fc03d671550> triggered tf.function retracing. Tracing is expensive and the excessive number of tracings could be due to (1) creating @tf.function repeatedly in a loop, (2) passing tensors with different shapes, (3) passing Python objects instead of tensors. For (1), please define your @tf.function outside of the loop. For (2), @tf.function has experimental_relax_shapes=True option that relaxes argument shapes that can avoid unnecessary retracing. For (3), please refer to https://www.tensorflow.org/guide/function#controlling_retracing and https://www.tensorflow.org/api_docs/python/tf/function for  more details.\n",
      "WARNING:absl:Found untraced functions such as lstm_cell_102_layer_call_fn, lstm_cell_102_layer_call_and_return_conditional_losses, lstm_cell_103_layer_call_fn, lstm_cell_103_layer_call_and_return_conditional_losses, lstm_cell_102_layer_call_fn while saving (showing 5 of 10). These functions will not be directly callable after loading.\n",
      "WARNING:absl:Found untraced functions such as lstm_cell_102_layer_call_fn, lstm_cell_102_layer_call_and_return_conditional_losses, lstm_cell_103_layer_call_fn, lstm_cell_103_layer_call_and_return_conditional_losses, lstm_cell_102_layer_call_fn while saving (showing 5 of 10). These functions will not be directly callable after loading.\n"
     ]
    },
    {
     "name": "stdout",
     "output_type": "stream",
     "text": [
      "INFO:tensorflow:Assets written to: LSTM_train_visual/assets\n"
     ]
    },
    {
     "name": "stderr",
     "output_type": "stream",
     "text": [
      "INFO:tensorflow:Assets written to: LSTM_train_visual/assets\n"
     ]
    },
    {
     "name": "stdout",
     "output_type": "stream",
     "text": [
      "Epoch 1/10\n",
      "1/1 [==============================] - 2s 2s/step - loss: 0.7427 - mean_absolute_error: 0.8618\n",
      "Epoch 2/10\n",
      "1/1 [==============================] - 0s 127ms/step - loss: 0.0697 - mean_absolute_error: 0.2640\n",
      "Epoch 3/10\n",
      "1/1 [==============================] - 0s 118ms/step - loss: 0.0258 - mean_absolute_error: 0.1607\n",
      "Epoch 4/10\n",
      "1/1 [==============================] - 0s 117ms/step - loss: 0.0893 - mean_absolute_error: 0.2988\n",
      "Epoch 5/10\n",
      "1/1 [==============================] - 0s 117ms/step - loss: 0.1309 - mean_absolute_error: 0.3618\n",
      "Epoch 6/10\n",
      "1/1 [==============================] - 0s 130ms/step - loss: 0.0889 - mean_absolute_error: 0.2982\n",
      "Epoch 7/10\n",
      "1/1 [==============================] - 0s 132ms/step - loss: 0.0407 - mean_absolute_error: 0.2017\n",
      "Epoch 8/10\n",
      "1/1 [==============================] - 0s 119ms/step - loss: 0.0091 - mean_absolute_error: 0.0954\n",
      "Epoch 9/10\n",
      "1/1 [==============================] - 0s 141ms/step - loss: 1.4217e-04 - mean_absolute_error: 0.0119\n",
      "Epoch 10/10\n",
      "1/1 [==============================] - 0s 119ms/step - loss: 0.0072 - mean_absolute_error: 0.0851\n",
      "WARNING:tensorflow:11 out of the last 11 calls to <function Model.make_test_function.<locals>.test_function at 0x7fc02fcbc5e0> triggered tf.function retracing. Tracing is expensive and the excessive number of tracings could be due to (1) creating @tf.function repeatedly in a loop, (2) passing tensors with different shapes, (3) passing Python objects instead of tensors. For (1), please define your @tf.function outside of the loop. For (2), @tf.function has experimental_relax_shapes=True option that relaxes argument shapes that can avoid unnecessary retracing. For (3), please refer to https://www.tensorflow.org/guide/function#controlling_retracing and https://www.tensorflow.org/api_docs/python/tf/function for  more details.\n"
     ]
    },
    {
     "name": "stderr",
     "output_type": "stream",
     "text": [
      "WARNING:tensorflow:11 out of the last 11 calls to <function Model.make_test_function.<locals>.test_function at 0x7fc02fcbc5e0> triggered tf.function retracing. Tracing is expensive and the excessive number of tracings could be due to (1) creating @tf.function repeatedly in a loop, (2) passing tensors with different shapes, (3) passing Python objects instead of tensors. For (1), please define your @tf.function outside of the loop. For (2), @tf.function has experimental_relax_shapes=True option that relaxes argument shapes that can avoid unnecessary retracing. For (3), please refer to https://www.tensorflow.org/guide/function#controlling_retracing and https://www.tensorflow.org/api_docs/python/tf/function for  more details.\n",
      "WARNING:absl:Found untraced functions such as lstm_cell_104_layer_call_fn, lstm_cell_104_layer_call_and_return_conditional_losses, lstm_cell_105_layer_call_fn, lstm_cell_105_layer_call_and_return_conditional_losses, lstm_cell_104_layer_call_fn while saving (showing 5 of 10). These functions will not be directly callable after loading.\n",
      "WARNING:absl:Found untraced functions such as lstm_cell_104_layer_call_fn, lstm_cell_104_layer_call_and_return_conditional_losses, lstm_cell_105_layer_call_fn, lstm_cell_105_layer_call_and_return_conditional_losses, lstm_cell_104_layer_call_fn while saving (showing 5 of 10). These functions will not be directly callable after loading.\n"
     ]
    },
    {
     "name": "stdout",
     "output_type": "stream",
     "text": [
      "INFO:tensorflow:Assets written to: LSTM_train_visual/assets\n"
     ]
    },
    {
     "name": "stderr",
     "output_type": "stream",
     "text": [
      "INFO:tensorflow:Assets written to: LSTM_train_visual/assets\n"
     ]
    },
    {
     "name": "stdout",
     "output_type": "stream",
     "text": [
      "Epoch 1/10\n",
      "1/1 [==============================] - 2s 2s/step - loss: 0.0503 - mean_absolute_error: 0.2242\n",
      "Epoch 2/10\n",
      "1/1 [==============================] - 0s 137ms/step - loss: 0.0021 - mean_absolute_error: 0.0462\n",
      "Epoch 3/10\n",
      "1/1 [==============================] - 0s 133ms/step - loss: 0.0597 - mean_absolute_error: 0.2443\n",
      "Epoch 4/10\n",
      "1/1 [==============================] - 0s 132ms/step - loss: 0.0259 - mean_absolute_error: 0.1610\n",
      "Epoch 5/10\n",
      "1/1 [==============================] - 0s 134ms/step - loss: 0.0020 - mean_absolute_error: 0.0442\n",
      "Epoch 6/10\n",
      "1/1 [==============================] - 0s 134ms/step - loss: 0.0055 - mean_absolute_error: 0.0744\n",
      "Epoch 7/10\n",
      "1/1 [==============================] - 0s 166ms/step - loss: 0.0194 - mean_absolute_error: 0.1392\n",
      "Epoch 8/10\n",
      "1/1 [==============================] - 0s 145ms/step - loss: 0.0204 - mean_absolute_error: 0.1428\n",
      "Epoch 9/10\n",
      "1/1 [==============================] - 0s 162ms/step - loss: 0.0100 - mean_absolute_error: 0.0998\n",
      "Epoch 10/10\n",
      "1/1 [==============================] - 0s 150ms/step - loss: 2.4412e-04 - mean_absolute_error: 0.0156\n",
      "WARNING:tensorflow:11 out of the last 11 calls to <function Model.make_test_function.<locals>.test_function at 0x7fc02f936700> triggered tf.function retracing. Tracing is expensive and the excessive number of tracings could be due to (1) creating @tf.function repeatedly in a loop, (2) passing tensors with different shapes, (3) passing Python objects instead of tensors. For (1), please define your @tf.function outside of the loop. For (2), @tf.function has experimental_relax_shapes=True option that relaxes argument shapes that can avoid unnecessary retracing. For (3), please refer to https://www.tensorflow.org/guide/function#controlling_retracing and https://www.tensorflow.org/api_docs/python/tf/function for  more details.\n"
     ]
    },
    {
     "name": "stderr",
     "output_type": "stream",
     "text": [
      "WARNING:tensorflow:11 out of the last 11 calls to <function Model.make_test_function.<locals>.test_function at 0x7fc02f936700> triggered tf.function retracing. Tracing is expensive and the excessive number of tracings could be due to (1) creating @tf.function repeatedly in a loop, (2) passing tensors with different shapes, (3) passing Python objects instead of tensors. For (1), please define your @tf.function outside of the loop. For (2), @tf.function has experimental_relax_shapes=True option that relaxes argument shapes that can avoid unnecessary retracing. For (3), please refer to https://www.tensorflow.org/guide/function#controlling_retracing and https://www.tensorflow.org/api_docs/python/tf/function for  more details.\n",
      "WARNING:absl:Found untraced functions such as lstm_cell_106_layer_call_fn, lstm_cell_106_layer_call_and_return_conditional_losses, lstm_cell_107_layer_call_fn, lstm_cell_107_layer_call_and_return_conditional_losses, lstm_cell_106_layer_call_fn while saving (showing 5 of 10). These functions will not be directly callable after loading.\n",
      "WARNING:absl:Found untraced functions such as lstm_cell_106_layer_call_fn, lstm_cell_106_layer_call_and_return_conditional_losses, lstm_cell_107_layer_call_fn, lstm_cell_107_layer_call_and_return_conditional_losses, lstm_cell_106_layer_call_fn while saving (showing 5 of 10). These functions will not be directly callable after loading.\n"
     ]
    },
    {
     "name": "stdout",
     "output_type": "stream",
     "text": [
      "INFO:tensorflow:Assets written to: LSTM_train_visual/assets\n"
     ]
    },
    {
     "name": "stderr",
     "output_type": "stream",
     "text": [
      "INFO:tensorflow:Assets written to: LSTM_train_visual/assets\n"
     ]
    },
    {
     "name": "stdout",
     "output_type": "stream",
     "text": [
      "Epoch 1/10\n",
      "1/1 [==============================] - 2s 2s/step - loss: 7.5837 - mean_absolute_error: 2.7539\n",
      "Epoch 2/10\n",
      "1/1 [==============================] - 0s 281ms/step - loss: 4.9989 - mean_absolute_error: 2.2358\n",
      "Epoch 3/10\n",
      "1/1 [==============================] - 0s 275ms/step - loss: 3.7458 - mean_absolute_error: 1.9354\n",
      "Epoch 4/10\n",
      "1/1 [==============================] - 0s 275ms/step - loss: 2.4889 - mean_absolute_error: 1.5776\n",
      "Epoch 5/10\n",
      "1/1 [==============================] - 0s 275ms/step - loss: 1.7908 - mean_absolute_error: 1.3382\n",
      "Epoch 6/10\n",
      "1/1 [==============================] - 0s 275ms/step - loss: 1.2133 - mean_absolute_error: 1.1015\n",
      "Epoch 7/10\n",
      "1/1 [==============================] - 0s 275ms/step - loss: 0.6893 - mean_absolute_error: 0.8303\n",
      "Epoch 8/10\n",
      "1/1 [==============================] - 0s 302ms/step - loss: 0.3622 - mean_absolute_error: 0.6018\n",
      "Epoch 9/10\n",
      "1/1 [==============================] - 0s 284ms/step - loss: 0.1156 - mean_absolute_error: 0.3400\n",
      "Epoch 10/10\n",
      "1/1 [==============================] - 0s 301ms/step - loss: 0.0131 - mean_absolute_error: 0.1146\n",
      "WARNING:tensorflow:11 out of the last 11 calls to <function Model.make_test_function.<locals>.test_function at 0x7fc03d671f70> triggered tf.function retracing. Tracing is expensive and the excessive number of tracings could be due to (1) creating @tf.function repeatedly in a loop, (2) passing tensors with different shapes, (3) passing Python objects instead of tensors. For (1), please define your @tf.function outside of the loop. For (2), @tf.function has experimental_relax_shapes=True option that relaxes argument shapes that can avoid unnecessary retracing. For (3), please refer to https://www.tensorflow.org/guide/function#controlling_retracing and https://www.tensorflow.org/api_docs/python/tf/function for  more details.\n"
     ]
    },
    {
     "name": "stderr",
     "output_type": "stream",
     "text": [
      "WARNING:tensorflow:11 out of the last 11 calls to <function Model.make_test_function.<locals>.test_function at 0x7fc03d671f70> triggered tf.function retracing. Tracing is expensive and the excessive number of tracings could be due to (1) creating @tf.function repeatedly in a loop, (2) passing tensors with different shapes, (3) passing Python objects instead of tensors. For (1), please define your @tf.function outside of the loop. For (2), @tf.function has experimental_relax_shapes=True option that relaxes argument shapes that can avoid unnecessary retracing. For (3), please refer to https://www.tensorflow.org/guide/function#controlling_retracing and https://www.tensorflow.org/api_docs/python/tf/function for  more details.\n",
      "WARNING:absl:Found untraced functions such as lstm_cell_108_layer_call_fn, lstm_cell_108_layer_call_and_return_conditional_losses, lstm_cell_109_layer_call_fn, lstm_cell_109_layer_call_and_return_conditional_losses, lstm_cell_108_layer_call_fn while saving (showing 5 of 10). These functions will not be directly callable after loading.\n",
      "WARNING:absl:Found untraced functions such as lstm_cell_108_layer_call_fn, lstm_cell_108_layer_call_and_return_conditional_losses, lstm_cell_109_layer_call_fn, lstm_cell_109_layer_call_and_return_conditional_losses, lstm_cell_108_layer_call_fn while saving (showing 5 of 10). These functions will not be directly callable after loading.\n"
     ]
    },
    {
     "name": "stdout",
     "output_type": "stream",
     "text": [
      "INFO:tensorflow:Assets written to: LSTM_train_visual/assets\n"
     ]
    },
    {
     "name": "stderr",
     "output_type": "stream",
     "text": [
      "INFO:tensorflow:Assets written to: LSTM_train_visual/assets\n"
     ]
    },
    {
     "name": "stdout",
     "output_type": "stream",
     "text": [
      "Epoch 1/10\n",
      "1/1 [==============================] - 2s 2s/step - loss: 0.4996 - mean_absolute_error: 0.7068\n",
      "Epoch 2/10\n",
      "1/1 [==============================] - 0s 209ms/step - loss: 0.3356 - mean_absolute_error: 0.5793\n",
      "Epoch 3/10\n",
      "1/1 [==============================] - 0s 208ms/step - loss: 0.2214 - mean_absolute_error: 0.4706\n",
      "Epoch 4/10\n",
      "1/1 [==============================] - 0s 209ms/step - loss: 0.1192 - mean_absolute_error: 0.3452\n",
      "Epoch 5/10\n",
      "1/1 [==============================] - 0s 210ms/step - loss: 0.0504 - mean_absolute_error: 0.2245\n",
      "Epoch 6/10\n",
      "1/1 [==============================] - 0s 210ms/step - loss: 0.0113 - mean_absolute_error: 0.1064\n",
      "Epoch 7/10\n",
      "1/1 [==============================] - 0s 216ms/step - loss: 0.0060 - mean_absolute_error: 0.0775\n",
      "Epoch 8/10\n",
      "1/1 [==============================] - 0s 208ms/step - loss: 0.0335 - mean_absolute_error: 0.1830\n",
      "Epoch 9/10\n",
      "1/1 [==============================] - 0s 215ms/step - loss: 0.0378 - mean_absolute_error: 0.1945\n",
      "Epoch 10/10\n",
      "1/1 [==============================] - 0s 233ms/step - loss: 0.0320 - mean_absolute_error: 0.1788\n",
      "WARNING:tensorflow:11 out of the last 11 calls to <function Model.make_test_function.<locals>.test_function at 0x7fbf083b85e0> triggered tf.function retracing. Tracing is expensive and the excessive number of tracings could be due to (1) creating @tf.function repeatedly in a loop, (2) passing tensors with different shapes, (3) passing Python objects instead of tensors. For (1), please define your @tf.function outside of the loop. For (2), @tf.function has experimental_relax_shapes=True option that relaxes argument shapes that can avoid unnecessary retracing. For (3), please refer to https://www.tensorflow.org/guide/function#controlling_retracing and https://www.tensorflow.org/api_docs/python/tf/function for  more details.\n"
     ]
    },
    {
     "name": "stderr",
     "output_type": "stream",
     "text": [
      "WARNING:tensorflow:11 out of the last 11 calls to <function Model.make_test_function.<locals>.test_function at 0x7fbf083b85e0> triggered tf.function retracing. Tracing is expensive and the excessive number of tracings could be due to (1) creating @tf.function repeatedly in a loop, (2) passing tensors with different shapes, (3) passing Python objects instead of tensors. For (1), please define your @tf.function outside of the loop. For (2), @tf.function has experimental_relax_shapes=True option that relaxes argument shapes that can avoid unnecessary retracing. For (3), please refer to https://www.tensorflow.org/guide/function#controlling_retracing and https://www.tensorflow.org/api_docs/python/tf/function for  more details.\n",
      "WARNING:absl:Found untraced functions such as lstm_cell_110_layer_call_fn, lstm_cell_110_layer_call_and_return_conditional_losses, lstm_cell_111_layer_call_fn, lstm_cell_111_layer_call_and_return_conditional_losses, lstm_cell_110_layer_call_fn while saving (showing 5 of 10). These functions will not be directly callable after loading.\n",
      "WARNING:absl:Found untraced functions such as lstm_cell_110_layer_call_fn, lstm_cell_110_layer_call_and_return_conditional_losses, lstm_cell_111_layer_call_fn, lstm_cell_111_layer_call_and_return_conditional_losses, lstm_cell_110_layer_call_fn while saving (showing 5 of 10). These functions will not be directly callable after loading.\n"
     ]
    },
    {
     "name": "stdout",
     "output_type": "stream",
     "text": [
      "INFO:tensorflow:Assets written to: LSTM_train_visual/assets\n"
     ]
    },
    {
     "name": "stderr",
     "output_type": "stream",
     "text": [
      "INFO:tensorflow:Assets written to: LSTM_train_visual/assets\n"
     ]
    },
    {
     "name": "stdout",
     "output_type": "stream",
     "text": [
      "Epoch 1/10\n",
      "1/1 [==============================] - 2s 2s/step - loss: 0.5447 - mean_absolute_error: 0.7380\n",
      "Epoch 2/10\n",
      "1/1 [==============================] - 0s 454ms/step - loss: 0.2140 - mean_absolute_error: 0.4626\n",
      "Epoch 3/10\n",
      "1/1 [==============================] - 0s 450ms/step - loss: 0.0858 - mean_absolute_error: 0.2930\n",
      "Epoch 4/10\n",
      "1/1 [==============================] - 0s 448ms/step - loss: 0.0235 - mean_absolute_error: 0.1535\n",
      "Epoch 5/10\n",
      "1/1 [==============================] - 0s 454ms/step - loss: 0.0030 - mean_absolute_error: 0.0548\n",
      "Epoch 6/10\n",
      "1/1 [==============================] - 0s 454ms/step - loss: 2.4307e-04 - mean_absolute_error: 0.0156\n",
      "Epoch 7/10\n",
      "1/1 [==============================] - 0s 456ms/step - loss: 0.0074 - mean_absolute_error: 0.0861\n",
      "Epoch 8/10\n",
      "1/1 [==============================] - 0s 453ms/step - loss: 0.0153 - mean_absolute_error: 0.1237\n",
      "Epoch 9/10\n",
      "1/1 [==============================] - 0s 450ms/step - loss: 0.0220 - mean_absolute_error: 0.1485\n",
      "Epoch 10/10\n",
      "1/1 [==============================] - 0s 453ms/step - loss: 0.0185 - mean_absolute_error: 0.1359\n",
      "WARNING:tensorflow:11 out of the last 11 calls to <function Model.make_test_function.<locals>.test_function at 0x7fc02d3b1820> triggered tf.function retracing. Tracing is expensive and the excessive number of tracings could be due to (1) creating @tf.function repeatedly in a loop, (2) passing tensors with different shapes, (3) passing Python objects instead of tensors. For (1), please define your @tf.function outside of the loop. For (2), @tf.function has experimental_relax_shapes=True option that relaxes argument shapes that can avoid unnecessary retracing. For (3), please refer to https://www.tensorflow.org/guide/function#controlling_retracing and https://www.tensorflow.org/api_docs/python/tf/function for  more details.\n"
     ]
    },
    {
     "name": "stderr",
     "output_type": "stream",
     "text": [
      "WARNING:tensorflow:11 out of the last 11 calls to <function Model.make_test_function.<locals>.test_function at 0x7fc02d3b1820> triggered tf.function retracing. Tracing is expensive and the excessive number of tracings could be due to (1) creating @tf.function repeatedly in a loop, (2) passing tensors with different shapes, (3) passing Python objects instead of tensors. For (1), please define your @tf.function outside of the loop. For (2), @tf.function has experimental_relax_shapes=True option that relaxes argument shapes that can avoid unnecessary retracing. For (3), please refer to https://www.tensorflow.org/guide/function#controlling_retracing and https://www.tensorflow.org/api_docs/python/tf/function for  more details.\n",
      "WARNING:absl:Found untraced functions such as lstm_cell_112_layer_call_fn, lstm_cell_112_layer_call_and_return_conditional_losses, lstm_cell_113_layer_call_fn, lstm_cell_113_layer_call_and_return_conditional_losses, lstm_cell_112_layer_call_fn while saving (showing 5 of 10). These functions will not be directly callable after loading.\n",
      "WARNING:absl:Found untraced functions such as lstm_cell_112_layer_call_fn, lstm_cell_112_layer_call_and_return_conditional_losses, lstm_cell_113_layer_call_fn, lstm_cell_113_layer_call_and_return_conditional_losses, lstm_cell_112_layer_call_fn while saving (showing 5 of 10). These functions will not be directly callable after loading.\n"
     ]
    },
    {
     "name": "stdout",
     "output_type": "stream",
     "text": [
      "INFO:tensorflow:Assets written to: LSTM_train_visual/assets\n"
     ]
    },
    {
     "name": "stderr",
     "output_type": "stream",
     "text": [
      "INFO:tensorflow:Assets written to: LSTM_train_visual/assets\n"
     ]
    },
    {
     "name": "stdout",
     "output_type": "stream",
     "text": [
      "Epoch 1/10\n",
      "1/1 [==============================] - 2s 2s/step - loss: 1.1626 - mean_absolute_error: 1.0782\n",
      "Epoch 2/10\n",
      "1/1 [==============================] - 0s 144ms/step - loss: 0.6092 - mean_absolute_error: 0.7805\n",
      "Epoch 3/10\n",
      "1/1 [==============================] - 0s 132ms/step - loss: 0.2400 - mean_absolute_error: 0.4899\n",
      "Epoch 4/10\n",
      "1/1 [==============================] - 0s 133ms/step - loss: 0.0358 - mean_absolute_error: 0.1892\n",
      "Epoch 5/10\n",
      "1/1 [==============================] - 0s 132ms/step - loss: 0.0029 - mean_absolute_error: 0.0535\n",
      "Epoch 6/10\n",
      "1/1 [==============================] - 0s 132ms/step - loss: 0.0579 - mean_absolute_error: 0.2406\n",
      "Epoch 7/10\n",
      "1/1 [==============================] - 0s 132ms/step - loss: 0.1239 - mean_absolute_error: 0.3520\n",
      "Epoch 8/10\n",
      "1/1 [==============================] - 0s 132ms/step - loss: 0.1562 - mean_absolute_error: 0.3952\n",
      "Epoch 9/10\n",
      "1/1 [==============================] - 0s 164ms/step - loss: 0.1558 - mean_absolute_error: 0.3947\n",
      "Epoch 10/10\n",
      "1/1 [==============================] - 0s 131ms/step - loss: 0.1268 - mean_absolute_error: 0.3561\n",
      "WARNING:tensorflow:11 out of the last 11 calls to <function Model.make_test_function.<locals>.test_function at 0x7fc050b5c820> triggered tf.function retracing. Tracing is expensive and the excessive number of tracings could be due to (1) creating @tf.function repeatedly in a loop, (2) passing tensors with different shapes, (3) passing Python objects instead of tensors. For (1), please define your @tf.function outside of the loop. For (2), @tf.function has experimental_relax_shapes=True option that relaxes argument shapes that can avoid unnecessary retracing. For (3), please refer to https://www.tensorflow.org/guide/function#controlling_retracing and https://www.tensorflow.org/api_docs/python/tf/function for  more details.\n"
     ]
    },
    {
     "name": "stderr",
     "output_type": "stream",
     "text": [
      "WARNING:tensorflow:11 out of the last 11 calls to <function Model.make_test_function.<locals>.test_function at 0x7fc050b5c820> triggered tf.function retracing. Tracing is expensive and the excessive number of tracings could be due to (1) creating @tf.function repeatedly in a loop, (2) passing tensors with different shapes, (3) passing Python objects instead of tensors. For (1), please define your @tf.function outside of the loop. For (2), @tf.function has experimental_relax_shapes=True option that relaxes argument shapes that can avoid unnecessary retracing. For (3), please refer to https://www.tensorflow.org/guide/function#controlling_retracing and https://www.tensorflow.org/api_docs/python/tf/function for  more details.\n",
      "WARNING:absl:Found untraced functions such as lstm_cell_114_layer_call_fn, lstm_cell_114_layer_call_and_return_conditional_losses, lstm_cell_115_layer_call_fn, lstm_cell_115_layer_call_and_return_conditional_losses, lstm_cell_114_layer_call_fn while saving (showing 5 of 10). These functions will not be directly callable after loading.\n",
      "WARNING:absl:Found untraced functions such as lstm_cell_114_layer_call_fn, lstm_cell_114_layer_call_and_return_conditional_losses, lstm_cell_115_layer_call_fn, lstm_cell_115_layer_call_and_return_conditional_losses, lstm_cell_114_layer_call_fn while saving (showing 5 of 10). These functions will not be directly callable after loading.\n"
     ]
    },
    {
     "name": "stdout",
     "output_type": "stream",
     "text": [
      "INFO:tensorflow:Assets written to: LSTM_train_visual/assets\n"
     ]
    },
    {
     "name": "stderr",
     "output_type": "stream",
     "text": [
      "INFO:tensorflow:Assets written to: LSTM_train_visual/assets\n"
     ]
    },
    {
     "name": "stdout",
     "output_type": "stream",
     "text": [
      "Epoch 1/10\n",
      "1/1 [==============================] - 3s 3s/step - loss: 0.0137 - mean_absolute_error: 0.1169\n",
      "Epoch 2/10\n",
      "1/1 [==============================] - 1s 951ms/step - loss: 0.0281 - mean_absolute_error: 0.1675\n",
      "Epoch 3/10\n",
      "1/1 [==============================] - 1s 819ms/step - loss: 0.0144 - mean_absolute_error: 0.1201\n",
      "Epoch 4/10\n",
      "1/1 [==============================] - 1s 908ms/step - loss: 5.7050e-04 - mean_absolute_error: 0.0239\n",
      "Epoch 5/10\n",
      "1/1 [==============================] - 1s 939ms/step - loss: 0.0122 - mean_absolute_error: 0.1105\n",
      "Epoch 6/10\n",
      "1/1 [==============================] - 1s 904ms/step - loss: 0.0120 - mean_absolute_error: 0.1097\n",
      "Epoch 7/10\n",
      "1/1 [==============================] - 1s 817ms/step - loss: 0.0033 - mean_absolute_error: 0.0576\n",
      "Epoch 8/10\n",
      "1/1 [==============================] - 1s 881ms/step - loss: 0.0028 - mean_absolute_error: 0.0532\n",
      "Epoch 9/10\n",
      "1/1 [==============================] - 1s 917ms/step - loss: 0.0023 - mean_absolute_error: 0.0477\n",
      "Epoch 10/10\n",
      "1/1 [==============================] - 1s 911ms/step - loss: 0.0035 - mean_absolute_error: 0.0589\n",
      "WARNING:tensorflow:11 out of the last 11 calls to <function Model.make_test_function.<locals>.test_function at 0x7fc03d600280> triggered tf.function retracing. Tracing is expensive and the excessive number of tracings could be due to (1) creating @tf.function repeatedly in a loop, (2) passing tensors with different shapes, (3) passing Python objects instead of tensors. For (1), please define your @tf.function outside of the loop. For (2), @tf.function has experimental_relax_shapes=True option that relaxes argument shapes that can avoid unnecessary retracing. For (3), please refer to https://www.tensorflow.org/guide/function#controlling_retracing and https://www.tensorflow.org/api_docs/python/tf/function for  more details.\n"
     ]
    },
    {
     "name": "stderr",
     "output_type": "stream",
     "text": [
      "WARNING:tensorflow:11 out of the last 11 calls to <function Model.make_test_function.<locals>.test_function at 0x7fc03d600280> triggered tf.function retracing. Tracing is expensive and the excessive number of tracings could be due to (1) creating @tf.function repeatedly in a loop, (2) passing tensors with different shapes, (3) passing Python objects instead of tensors. For (1), please define your @tf.function outside of the loop. For (2), @tf.function has experimental_relax_shapes=True option that relaxes argument shapes that can avoid unnecessary retracing. For (3), please refer to https://www.tensorflow.org/guide/function#controlling_retracing and https://www.tensorflow.org/api_docs/python/tf/function for  more details.\n",
      "WARNING:absl:Found untraced functions such as lstm_cell_116_layer_call_fn, lstm_cell_116_layer_call_and_return_conditional_losses, lstm_cell_117_layer_call_fn, lstm_cell_117_layer_call_and_return_conditional_losses, lstm_cell_116_layer_call_fn while saving (showing 5 of 10). These functions will not be directly callable after loading.\n",
      "WARNING:absl:Found untraced functions such as lstm_cell_116_layer_call_fn, lstm_cell_116_layer_call_and_return_conditional_losses, lstm_cell_117_layer_call_fn, lstm_cell_117_layer_call_and_return_conditional_losses, lstm_cell_116_layer_call_fn while saving (showing 5 of 10). These functions will not be directly callable after loading.\n"
     ]
    },
    {
     "name": "stdout",
     "output_type": "stream",
     "text": [
      "INFO:tensorflow:Assets written to: LSTM_train_visual/assets\n"
     ]
    },
    {
     "name": "stderr",
     "output_type": "stream",
     "text": [
      "INFO:tensorflow:Assets written to: LSTM_train_visual/assets\n"
     ]
    },
    {
     "name": "stdout",
     "output_type": "stream",
     "text": [
      "Epoch 1/10\n",
      "1/1 [==============================] - 2s 2s/step - loss: 1.3617 - mean_absolute_error: 1.1669\n",
      "Epoch 2/10\n",
      "1/1 [==============================] - 0s 204ms/step - loss: 1.0585 - mean_absolute_error: 1.0288\n",
      "Epoch 3/10\n",
      "1/1 [==============================] - 0s 185ms/step - loss: 0.7744 - mean_absolute_error: 0.8800\n",
      "Epoch 4/10\n",
      "1/1 [==============================] - 0s 208ms/step - loss: 0.4814 - mean_absolute_error: 0.6938\n",
      "Epoch 5/10\n",
      "1/1 [==============================] - 0s 186ms/step - loss: 0.2342 - mean_absolute_error: 0.4839\n",
      "Epoch 6/10\n",
      "1/1 [==============================] - 0s 186ms/step - loss: 0.0211 - mean_absolute_error: 0.1452\n",
      "Epoch 7/10\n",
      "1/1 [==============================] - 0s 186ms/step - loss: 0.0809 - mean_absolute_error: 0.2845\n",
      "Epoch 8/10\n",
      "1/1 [==============================] - 0s 183ms/step - loss: 0.1261 - mean_absolute_error: 0.3550\n",
      "Epoch 9/10\n",
      "1/1 [==============================] - 0s 184ms/step - loss: 9.1390e-04 - mean_absolute_error: 0.0302\n",
      "Epoch 10/10\n",
      "1/1 [==============================] - 0s 186ms/step - loss: 5.4327e-04 - mean_absolute_error: 0.0233\n",
      "WARNING:tensorflow:11 out of the last 11 calls to <function Model.make_test_function.<locals>.test_function at 0x7fc02fe7ff70> triggered tf.function retracing. Tracing is expensive and the excessive number of tracings could be due to (1) creating @tf.function repeatedly in a loop, (2) passing tensors with different shapes, (3) passing Python objects instead of tensors. For (1), please define your @tf.function outside of the loop. For (2), @tf.function has experimental_relax_shapes=True option that relaxes argument shapes that can avoid unnecessary retracing. For (3), please refer to https://www.tensorflow.org/guide/function#controlling_retracing and https://www.tensorflow.org/api_docs/python/tf/function for  more details.\n"
     ]
    },
    {
     "name": "stderr",
     "output_type": "stream",
     "text": [
      "WARNING:tensorflow:11 out of the last 11 calls to <function Model.make_test_function.<locals>.test_function at 0x7fc02fe7ff70> triggered tf.function retracing. Tracing is expensive and the excessive number of tracings could be due to (1) creating @tf.function repeatedly in a loop, (2) passing tensors with different shapes, (3) passing Python objects instead of tensors. For (1), please define your @tf.function outside of the loop. For (2), @tf.function has experimental_relax_shapes=True option that relaxes argument shapes that can avoid unnecessary retracing. For (3), please refer to https://www.tensorflow.org/guide/function#controlling_retracing and https://www.tensorflow.org/api_docs/python/tf/function for  more details.\n",
      "WARNING:absl:Found untraced functions such as lstm_cell_118_layer_call_fn, lstm_cell_118_layer_call_and_return_conditional_losses, lstm_cell_119_layer_call_fn, lstm_cell_119_layer_call_and_return_conditional_losses, lstm_cell_118_layer_call_fn while saving (showing 5 of 10). These functions will not be directly callable after loading.\n",
      "WARNING:absl:Found untraced functions such as lstm_cell_118_layer_call_fn, lstm_cell_118_layer_call_and_return_conditional_losses, lstm_cell_119_layer_call_fn, lstm_cell_119_layer_call_and_return_conditional_losses, lstm_cell_118_layer_call_fn while saving (showing 5 of 10). These functions will not be directly callable after loading.\n"
     ]
    },
    {
     "name": "stdout",
     "output_type": "stream",
     "text": [
      "INFO:tensorflow:Assets written to: LSTM_train_visual/assets\n"
     ]
    },
    {
     "name": "stderr",
     "output_type": "stream",
     "text": [
      "INFO:tensorflow:Assets written to: LSTM_train_visual/assets\n"
     ]
    },
    {
     "name": "stdout",
     "output_type": "stream",
     "text": [
      "Epoch 1/10\n",
      "1/1 [==============================] - 2s 2s/step - loss: 0.8597 - mean_absolute_error: 0.9272\n",
      "Epoch 2/10\n",
      "1/1 [==============================] - 0s 189ms/step - loss: 0.5027 - mean_absolute_error: 0.7090\n",
      "Epoch 3/10\n",
      "1/1 [==============================] - 0s 183ms/step - loss: 0.1971 - mean_absolute_error: 0.4440\n",
      "Epoch 4/10\n",
      "1/1 [==============================] - 0s 188ms/step - loss: 0.0257 - mean_absolute_error: 0.1603\n",
      "Epoch 5/10\n",
      "1/1 [==============================] - 0s 186ms/step - loss: 0.5465 - mean_absolute_error: 0.7392\n",
      "Epoch 6/10\n",
      "1/1 [==============================] - 0s 187ms/step - loss: 0.2927 - mean_absolute_error: 0.5410\n",
      "Epoch 7/10\n",
      "1/1 [==============================] - 0s 189ms/step - loss: 0.1719 - mean_absolute_error: 0.4146\n",
      "Epoch 8/10\n",
      "1/1 [==============================] - 0s 188ms/step - loss: 0.2266 - mean_absolute_error: 0.4760\n",
      "Epoch 9/10\n",
      "1/1 [==============================] - 0s 209ms/step - loss: 0.2364 - mean_absolute_error: 0.4862\n",
      "Epoch 10/10\n",
      "1/1 [==============================] - 0s 201ms/step - loss: 0.1874 - mean_absolute_error: 0.4329\n",
      "WARNING:tensorflow:11 out of the last 11 calls to <function Model.make_test_function.<locals>.test_function at 0x7fbfa039f670> triggered tf.function retracing. Tracing is expensive and the excessive number of tracings could be due to (1) creating @tf.function repeatedly in a loop, (2) passing tensors with different shapes, (3) passing Python objects instead of tensors. For (1), please define your @tf.function outside of the loop. For (2), @tf.function has experimental_relax_shapes=True option that relaxes argument shapes that can avoid unnecessary retracing. For (3), please refer to https://www.tensorflow.org/guide/function#controlling_retracing and https://www.tensorflow.org/api_docs/python/tf/function for  more details.\n"
     ]
    },
    {
     "name": "stderr",
     "output_type": "stream",
     "text": [
      "WARNING:tensorflow:11 out of the last 11 calls to <function Model.make_test_function.<locals>.test_function at 0x7fbfa039f670> triggered tf.function retracing. Tracing is expensive and the excessive number of tracings could be due to (1) creating @tf.function repeatedly in a loop, (2) passing tensors with different shapes, (3) passing Python objects instead of tensors. For (1), please define your @tf.function outside of the loop. For (2), @tf.function has experimental_relax_shapes=True option that relaxes argument shapes that can avoid unnecessary retracing. For (3), please refer to https://www.tensorflow.org/guide/function#controlling_retracing and https://www.tensorflow.org/api_docs/python/tf/function for  more details.\n",
      "WARNING:absl:Found untraced functions such as lstm_cell_120_layer_call_fn, lstm_cell_120_layer_call_and_return_conditional_losses, lstm_cell_121_layer_call_fn, lstm_cell_121_layer_call_and_return_conditional_losses, lstm_cell_120_layer_call_fn while saving (showing 5 of 10). These functions will not be directly callable after loading.\n",
      "WARNING:absl:Found untraced functions such as lstm_cell_120_layer_call_fn, lstm_cell_120_layer_call_and_return_conditional_losses, lstm_cell_121_layer_call_fn, lstm_cell_121_layer_call_and_return_conditional_losses, lstm_cell_120_layer_call_fn while saving (showing 5 of 10). These functions will not be directly callable after loading.\n"
     ]
    },
    {
     "name": "stdout",
     "output_type": "stream",
     "text": [
      "INFO:tensorflow:Assets written to: LSTM_train_visual/assets\n"
     ]
    },
    {
     "name": "stderr",
     "output_type": "stream",
     "text": [
      "INFO:tensorflow:Assets written to: LSTM_train_visual/assets\n"
     ]
    },
    {
     "name": "stdout",
     "output_type": "stream",
     "text": [
      "Epoch 1/10\n",
      "1/1 [==============================] - 3s 3s/step - loss: 0.0125 - mean_absolute_error: 0.1119\n",
      "Epoch 2/10\n",
      "1/1 [==============================] - 0s 396ms/step - loss: 0.0353 - mean_absolute_error: 0.1878\n",
      "Epoch 3/10\n",
      "1/1 [==============================] - 0s 376ms/step - loss: 0.0033 - mean_absolute_error: 0.0575\n",
      "Epoch 4/10\n",
      "1/1 [==============================] - 0s 361ms/step - loss: 0.0033 - mean_absolute_error: 0.0575\n",
      "Epoch 5/10\n",
      "1/1 [==============================] - 0s 357ms/step - loss: 1.9579e-04 - mean_absolute_error: 0.0140\n",
      "Epoch 6/10\n",
      "1/1 [==============================] - 0s 437ms/step - loss: 0.0022 - mean_absolute_error: 0.0470\n",
      "Epoch 7/10\n",
      "1/1 [==============================] - 0s 358ms/step - loss: 8.2484e-05 - mean_absolute_error: 0.0091\n",
      "Epoch 8/10\n",
      "1/1 [==============================] - 0s 363ms/step - loss: 5.2701e-04 - mean_absolute_error: 0.0230\n",
      "Epoch 9/10\n",
      "1/1 [==============================] - 0s 372ms/step - loss: 1.1942e-05 - mean_absolute_error: 0.0035\n",
      "Epoch 10/10\n",
      "1/1 [==============================] - 0s 359ms/step - loss: 0.0053 - mean_absolute_error: 0.0726\n",
      "WARNING:tensorflow:11 out of the last 11 calls to <function Model.make_test_function.<locals>.test_function at 0x7fc02f877a60> triggered tf.function retracing. Tracing is expensive and the excessive number of tracings could be due to (1) creating @tf.function repeatedly in a loop, (2) passing tensors with different shapes, (3) passing Python objects instead of tensors. For (1), please define your @tf.function outside of the loop. For (2), @tf.function has experimental_relax_shapes=True option that relaxes argument shapes that can avoid unnecessary retracing. For (3), please refer to https://www.tensorflow.org/guide/function#controlling_retracing and https://www.tensorflow.org/api_docs/python/tf/function for  more details.\n"
     ]
    },
    {
     "name": "stderr",
     "output_type": "stream",
     "text": [
      "WARNING:tensorflow:11 out of the last 11 calls to <function Model.make_test_function.<locals>.test_function at 0x7fc02f877a60> triggered tf.function retracing. Tracing is expensive and the excessive number of tracings could be due to (1) creating @tf.function repeatedly in a loop, (2) passing tensors with different shapes, (3) passing Python objects instead of tensors. For (1), please define your @tf.function outside of the loop. For (2), @tf.function has experimental_relax_shapes=True option that relaxes argument shapes that can avoid unnecessary retracing. For (3), please refer to https://www.tensorflow.org/guide/function#controlling_retracing and https://www.tensorflow.org/api_docs/python/tf/function for  more details.\n",
      "WARNING:absl:Found untraced functions such as lstm_cell_122_layer_call_fn, lstm_cell_122_layer_call_and_return_conditional_losses, lstm_cell_123_layer_call_fn, lstm_cell_123_layer_call_and_return_conditional_losses, lstm_cell_122_layer_call_fn while saving (showing 5 of 10). These functions will not be directly callable after loading.\n",
      "WARNING:absl:Found untraced functions such as lstm_cell_122_layer_call_fn, lstm_cell_122_layer_call_and_return_conditional_losses, lstm_cell_123_layer_call_fn, lstm_cell_123_layer_call_and_return_conditional_losses, lstm_cell_122_layer_call_fn while saving (showing 5 of 10). These functions will not be directly callable after loading.\n"
     ]
    },
    {
     "name": "stdout",
     "output_type": "stream",
     "text": [
      "INFO:tensorflow:Assets written to: LSTM_train_visual/assets\n"
     ]
    },
    {
     "name": "stderr",
     "output_type": "stream",
     "text": [
      "INFO:tensorflow:Assets written to: LSTM_train_visual/assets\n"
     ]
    },
    {
     "name": "stdout",
     "output_type": "stream",
     "text": [
      "Epoch 1/10\n",
      "1/1 [==============================] - 2s 2s/step - loss: 0.8316 - mean_absolute_error: 0.9119\n",
      "Epoch 2/10\n",
      "1/1 [==============================] - 0s 260ms/step - loss: 0.3783 - mean_absolute_error: 0.6151\n",
      "Epoch 3/10\n",
      "1/1 [==============================] - 0s 318ms/step - loss: 0.1119 - mean_absolute_error: 0.3345\n",
      "Epoch 4/10\n",
      "1/1 [==============================] - 0s 261ms/step - loss: 4.1760e-04 - mean_absolute_error: 0.0204\n",
      "Epoch 5/10\n",
      "1/1 [==============================] - 0s 263ms/step - loss: 0.0591 - mean_absolute_error: 0.2432\n",
      "Epoch 6/10\n",
      "1/1 [==============================] - 0s 261ms/step - loss: 0.1211 - mean_absolute_error: 0.3480\n",
      "Epoch 7/10\n",
      "1/1 [==============================] - 0s 262ms/step - loss: 0.1461 - mean_absolute_error: 0.3822\n",
      "Epoch 8/10\n",
      "1/1 [==============================] - 0s 261ms/step - loss: 0.0733 - mean_absolute_error: 0.2707\n",
      "Epoch 9/10\n",
      "1/1 [==============================] - 0s 323ms/step - loss: 0.0150 - mean_absolute_error: 0.1226\n",
      "Epoch 10/10\n",
      "1/1 [==============================] - 0s 260ms/step - loss: 6.3245e-04 - mean_absolute_error: 0.0251\n",
      "WARNING:tensorflow:11 out of the last 11 calls to <function Model.make_test_function.<locals>.test_function at 0x7fc02d3b1700> triggered tf.function retracing. Tracing is expensive and the excessive number of tracings could be due to (1) creating @tf.function repeatedly in a loop, (2) passing tensors with different shapes, (3) passing Python objects instead of tensors. For (1), please define your @tf.function outside of the loop. For (2), @tf.function has experimental_relax_shapes=True option that relaxes argument shapes that can avoid unnecessary retracing. For (3), please refer to https://www.tensorflow.org/guide/function#controlling_retracing and https://www.tensorflow.org/api_docs/python/tf/function for  more details.\n"
     ]
    },
    {
     "name": "stderr",
     "output_type": "stream",
     "text": [
      "WARNING:tensorflow:11 out of the last 11 calls to <function Model.make_test_function.<locals>.test_function at 0x7fc02d3b1700> triggered tf.function retracing. Tracing is expensive and the excessive number of tracings could be due to (1) creating @tf.function repeatedly in a loop, (2) passing tensors with different shapes, (3) passing Python objects instead of tensors. For (1), please define your @tf.function outside of the loop. For (2), @tf.function has experimental_relax_shapes=True option that relaxes argument shapes that can avoid unnecessary retracing. For (3), please refer to https://www.tensorflow.org/guide/function#controlling_retracing and https://www.tensorflow.org/api_docs/python/tf/function for  more details.\n",
      "WARNING:absl:Found untraced functions such as lstm_cell_124_layer_call_fn, lstm_cell_124_layer_call_and_return_conditional_losses, lstm_cell_125_layer_call_fn, lstm_cell_125_layer_call_and_return_conditional_losses, lstm_cell_124_layer_call_fn while saving (showing 5 of 10). These functions will not be directly callable after loading.\n",
      "WARNING:absl:Found untraced functions such as lstm_cell_124_layer_call_fn, lstm_cell_124_layer_call_and_return_conditional_losses, lstm_cell_125_layer_call_fn, lstm_cell_125_layer_call_and_return_conditional_losses, lstm_cell_124_layer_call_fn while saving (showing 5 of 10). These functions will not be directly callable after loading.\n"
     ]
    },
    {
     "name": "stdout",
     "output_type": "stream",
     "text": [
      "INFO:tensorflow:Assets written to: LSTM_train_visual/assets\n"
     ]
    },
    {
     "name": "stderr",
     "output_type": "stream",
     "text": [
      "INFO:tensorflow:Assets written to: LSTM_train_visual/assets\n"
     ]
    },
    {
     "name": "stdout",
     "output_type": "stream",
     "text": [
      "Epoch 1/10\n",
      "1/1 [==============================] - 2s 2s/step - loss: 4.5425 - mean_absolute_error: 2.1313\n",
      "Epoch 2/10\n",
      "1/1 [==============================] - 0s 154ms/step - loss: 3.1076 - mean_absolute_error: 1.7628\n",
      "Epoch 3/10\n",
      "1/1 [==============================] - 0s 150ms/step - loss: 2.3703 - mean_absolute_error: 1.5396\n",
      "Epoch 4/10\n",
      "1/1 [==============================] - 0s 143ms/step - loss: 1.6161 - mean_absolute_error: 1.2713\n",
      "Epoch 5/10\n",
      "1/1 [==============================] - 0s 173ms/step - loss: 1.2090 - mean_absolute_error: 1.0996\n",
      "Epoch 6/10\n",
      "1/1 [==============================] - 0s 160ms/step - loss: 0.5373 - mean_absolute_error: 0.7330\n",
      "Epoch 7/10\n",
      "1/1 [==============================] - 0s 144ms/step - loss: 0.0859 - mean_absolute_error: 0.2931\n",
      "Epoch 8/10\n",
      "1/1 [==============================] - 0s 161ms/step - loss: 0.0553 - mean_absolute_error: 0.2351\n",
      "Epoch 9/10\n",
      "1/1 [==============================] - 0s 143ms/step - loss: 0.1389 - mean_absolute_error: 0.3727\n",
      "Epoch 10/10\n",
      "1/1 [==============================] - 0s 146ms/step - loss: 0.1440 - mean_absolute_error: 0.3795\n",
      "WARNING:tensorflow:11 out of the last 11 calls to <function Model.make_test_function.<locals>.test_function at 0x7fbf50618b80> triggered tf.function retracing. Tracing is expensive and the excessive number of tracings could be due to (1) creating @tf.function repeatedly in a loop, (2) passing tensors with different shapes, (3) passing Python objects instead of tensors. For (1), please define your @tf.function outside of the loop. For (2), @tf.function has experimental_relax_shapes=True option that relaxes argument shapes that can avoid unnecessary retracing. For (3), please refer to https://www.tensorflow.org/guide/function#controlling_retracing and https://www.tensorflow.org/api_docs/python/tf/function for  more details.\n"
     ]
    },
    {
     "name": "stderr",
     "output_type": "stream",
     "text": [
      "WARNING:tensorflow:11 out of the last 11 calls to <function Model.make_test_function.<locals>.test_function at 0x7fbf50618b80> triggered tf.function retracing. Tracing is expensive and the excessive number of tracings could be due to (1) creating @tf.function repeatedly in a loop, (2) passing tensors with different shapes, (3) passing Python objects instead of tensors. For (1), please define your @tf.function outside of the loop. For (2), @tf.function has experimental_relax_shapes=True option that relaxes argument shapes that can avoid unnecessary retracing. For (3), please refer to https://www.tensorflow.org/guide/function#controlling_retracing and https://www.tensorflow.org/api_docs/python/tf/function for  more details.\n",
      "WARNING:absl:Found untraced functions such as lstm_cell_126_layer_call_fn, lstm_cell_126_layer_call_and_return_conditional_losses, lstm_cell_127_layer_call_fn, lstm_cell_127_layer_call_and_return_conditional_losses, lstm_cell_126_layer_call_fn while saving (showing 5 of 10). These functions will not be directly callable after loading.\n",
      "WARNING:absl:Found untraced functions such as lstm_cell_126_layer_call_fn, lstm_cell_126_layer_call_and_return_conditional_losses, lstm_cell_127_layer_call_fn, lstm_cell_127_layer_call_and_return_conditional_losses, lstm_cell_126_layer_call_fn while saving (showing 5 of 10). These functions will not be directly callable after loading.\n"
     ]
    },
    {
     "name": "stdout",
     "output_type": "stream",
     "text": [
      "INFO:tensorflow:Assets written to: LSTM_train_visual/assets\n"
     ]
    },
    {
     "name": "stderr",
     "output_type": "stream",
     "text": [
      "INFO:tensorflow:Assets written to: LSTM_train_visual/assets\n"
     ]
    },
    {
     "name": "stdout",
     "output_type": "stream",
     "text": [
      "Epoch 1/10\n",
      "1/1 [==============================] - 2s 2s/step - loss: 6.7761 - mean_absolute_error: 2.6031\n",
      "Epoch 2/10\n",
      "1/1 [==============================] - 0s 491ms/step - loss: 4.9387 - mean_absolute_error: 2.2223\n",
      "Epoch 3/10\n",
      "1/1 [==============================] - 0s 492ms/step - loss: 3.6246 - mean_absolute_error: 1.9038\n",
      "Epoch 4/10\n",
      "1/1 [==============================] - 0s 489ms/step - loss: 2.4019 - mean_absolute_error: 1.5498\n",
      "Epoch 5/10\n",
      "1/1 [==============================] - 1s 563ms/step - loss: 1.7434 - mean_absolute_error: 1.3204\n",
      "Epoch 6/10\n",
      "1/1 [==============================] - 1s 520ms/step - loss: 1.0612 - mean_absolute_error: 1.0301\n",
      "Epoch 7/10\n",
      "1/1 [==============================] - 1s 542ms/step - loss: 0.5968 - mean_absolute_error: 0.7725\n",
      "Epoch 8/10\n",
      "1/1 [==============================] - 0s 488ms/step - loss: 0.3064 - mean_absolute_error: 0.5536\n",
      "Epoch 9/10\n",
      "1/1 [==============================] - 1s 551ms/step - loss: 0.0922 - mean_absolute_error: 0.3037\n",
      "Epoch 10/10\n",
      "1/1 [==============================] - 1s 545ms/step - loss: 0.0162 - mean_absolute_error: 0.1274\n",
      "WARNING:tensorflow:11 out of the last 11 calls to <function Model.make_test_function.<locals>.test_function at 0x7fbf50618ee0> triggered tf.function retracing. Tracing is expensive and the excessive number of tracings could be due to (1) creating @tf.function repeatedly in a loop, (2) passing tensors with different shapes, (3) passing Python objects instead of tensors. For (1), please define your @tf.function outside of the loop. For (2), @tf.function has experimental_relax_shapes=True option that relaxes argument shapes that can avoid unnecessary retracing. For (3), please refer to https://www.tensorflow.org/guide/function#controlling_retracing and https://www.tensorflow.org/api_docs/python/tf/function for  more details.\n"
     ]
    },
    {
     "name": "stderr",
     "output_type": "stream",
     "text": [
      "WARNING:tensorflow:11 out of the last 11 calls to <function Model.make_test_function.<locals>.test_function at 0x7fbf50618ee0> triggered tf.function retracing. Tracing is expensive and the excessive number of tracings could be due to (1) creating @tf.function repeatedly in a loop, (2) passing tensors with different shapes, (3) passing Python objects instead of tensors. For (1), please define your @tf.function outside of the loop. For (2), @tf.function has experimental_relax_shapes=True option that relaxes argument shapes that can avoid unnecessary retracing. For (3), please refer to https://www.tensorflow.org/guide/function#controlling_retracing and https://www.tensorflow.org/api_docs/python/tf/function for  more details.\n",
      "WARNING:absl:Found untraced functions such as lstm_cell_128_layer_call_fn, lstm_cell_128_layer_call_and_return_conditional_losses, lstm_cell_129_layer_call_fn, lstm_cell_129_layer_call_and_return_conditional_losses, lstm_cell_128_layer_call_fn while saving (showing 5 of 10). These functions will not be directly callable after loading.\n",
      "WARNING:absl:Found untraced functions such as lstm_cell_128_layer_call_fn, lstm_cell_128_layer_call_and_return_conditional_losses, lstm_cell_129_layer_call_fn, lstm_cell_129_layer_call_and_return_conditional_losses, lstm_cell_128_layer_call_fn while saving (showing 5 of 10). These functions will not be directly callable after loading.\n"
     ]
    },
    {
     "name": "stdout",
     "output_type": "stream",
     "text": [
      "INFO:tensorflow:Assets written to: LSTM_train_visual/assets\n"
     ]
    },
    {
     "name": "stderr",
     "output_type": "stream",
     "text": [
      "INFO:tensorflow:Assets written to: LSTM_train_visual/assets\n"
     ]
    },
    {
     "name": "stdout",
     "output_type": "stream",
     "text": [
      "Epoch 1/10\n",
      "1/1 [==============================] - 2s 2s/step - loss: 0.1731 - mean_absolute_error: 0.4160\n",
      "Epoch 2/10\n",
      "1/1 [==============================] - 0s 178ms/step - loss: 0.0061 - mean_absolute_error: 0.0780\n",
      "Epoch 3/10\n",
      "1/1 [==============================] - 0s 187ms/step - loss: 0.0192 - mean_absolute_error: 0.1386\n",
      "Epoch 4/10\n",
      "1/1 [==============================] - 0s 180ms/step - loss: 0.0269 - mean_absolute_error: 0.1640\n",
      "Epoch 5/10\n",
      "1/1 [==============================] - 0s 185ms/step - loss: 0.0202 - mean_absolute_error: 0.1420\n",
      "Epoch 6/10\n",
      "1/1 [==============================] - 0s 190ms/step - loss: 0.0053 - mean_absolute_error: 0.0729\n",
      "Epoch 7/10\n",
      "1/1 [==============================] - 0s 169ms/step - loss: 4.8060e-05 - mean_absolute_error: 0.0069\n",
      "Epoch 8/10\n",
      "1/1 [==============================] - 0s 168ms/step - loss: 0.0222 - mean_absolute_error: 0.1490\n",
      "Epoch 9/10\n",
      "1/1 [==============================] - 0s 165ms/step - loss: 0.0160 - mean_absolute_error: 0.1267\n",
      "Epoch 10/10\n",
      "1/1 [==============================] - 0s 163ms/step - loss: 0.0075 - mean_absolute_error: 0.0866\n",
      "WARNING:tensorflow:11 out of the last 11 calls to <function Model.make_test_function.<locals>.test_function at 0x7fbfab28dc10> triggered tf.function retracing. Tracing is expensive and the excessive number of tracings could be due to (1) creating @tf.function repeatedly in a loop, (2) passing tensors with different shapes, (3) passing Python objects instead of tensors. For (1), please define your @tf.function outside of the loop. For (2), @tf.function has experimental_relax_shapes=True option that relaxes argument shapes that can avoid unnecessary retracing. For (3), please refer to https://www.tensorflow.org/guide/function#controlling_retracing and https://www.tensorflow.org/api_docs/python/tf/function for  more details.\n"
     ]
    },
    {
     "name": "stderr",
     "output_type": "stream",
     "text": [
      "WARNING:tensorflow:11 out of the last 11 calls to <function Model.make_test_function.<locals>.test_function at 0x7fbfab28dc10> triggered tf.function retracing. Tracing is expensive and the excessive number of tracings could be due to (1) creating @tf.function repeatedly in a loop, (2) passing tensors with different shapes, (3) passing Python objects instead of tensors. For (1), please define your @tf.function outside of the loop. For (2), @tf.function has experimental_relax_shapes=True option that relaxes argument shapes that can avoid unnecessary retracing. For (3), please refer to https://www.tensorflow.org/guide/function#controlling_retracing and https://www.tensorflow.org/api_docs/python/tf/function for  more details.\n",
      "WARNING:absl:Found untraced functions such as lstm_cell_130_layer_call_fn, lstm_cell_130_layer_call_and_return_conditional_losses, lstm_cell_131_layer_call_fn, lstm_cell_131_layer_call_and_return_conditional_losses, lstm_cell_130_layer_call_fn while saving (showing 5 of 10). These functions will not be directly callable after loading.\n",
      "WARNING:absl:Found untraced functions such as lstm_cell_130_layer_call_fn, lstm_cell_130_layer_call_and_return_conditional_losses, lstm_cell_131_layer_call_fn, lstm_cell_131_layer_call_and_return_conditional_losses, lstm_cell_130_layer_call_fn while saving (showing 5 of 10). These functions will not be directly callable after loading.\n"
     ]
    },
    {
     "name": "stdout",
     "output_type": "stream",
     "text": [
      "INFO:tensorflow:Assets written to: LSTM_train_visual/assets\n"
     ]
    },
    {
     "name": "stderr",
     "output_type": "stream",
     "text": [
      "INFO:tensorflow:Assets written to: LSTM_train_visual/assets\n"
     ]
    },
    {
     "name": "stdout",
     "output_type": "stream",
     "text": [
      "Epoch 1/10\n",
      "1/1 [==============================] - 2s 2s/step - loss: 0.0313 - mean_absolute_error: 0.1770\n",
      "Epoch 2/10\n",
      "1/1 [==============================] - 0s 159ms/step - loss: 0.0222 - mean_absolute_error: 0.1489\n",
      "Epoch 3/10\n",
      "1/1 [==============================] - 0s 146ms/step - loss: 0.0103 - mean_absolute_error: 0.1013\n",
      "Epoch 4/10\n",
      "1/1 [==============================] - 0s 149ms/step - loss: 2.7163e-04 - mean_absolute_error: 0.0165\n",
      "Epoch 5/10\n",
      "1/1 [==============================] - 0s 149ms/step - loss: 0.0062 - mean_absolute_error: 0.0789\n",
      "Epoch 6/10\n",
      "1/1 [==============================] - 0s 167ms/step - loss: 2.6937e-04 - mean_absolute_error: 0.0164\n",
      "Epoch 7/10\n",
      "1/1 [==============================] - 0s 146ms/step - loss: 2.2944e-04 - mean_absolute_error: 0.0151\n",
      "Epoch 8/10\n",
      "1/1 [==============================] - 0s 147ms/step - loss: 2.2547e-06 - mean_absolute_error: 0.0015\n",
      "Epoch 9/10\n",
      "1/1 [==============================] - 0s 146ms/step - loss: 5.0995e-06 - mean_absolute_error: 0.0023\n",
      "Epoch 10/10\n",
      "1/1 [==============================] - 0s 147ms/step - loss: 7.8786e-05 - mean_absolute_error: 0.0089\n",
      "WARNING:tensorflow:11 out of the last 11 calls to <function Model.make_test_function.<locals>.test_function at 0x7fbed04f0ca0> triggered tf.function retracing. Tracing is expensive and the excessive number of tracings could be due to (1) creating @tf.function repeatedly in a loop, (2) passing tensors with different shapes, (3) passing Python objects instead of tensors. For (1), please define your @tf.function outside of the loop. For (2), @tf.function has experimental_relax_shapes=True option that relaxes argument shapes that can avoid unnecessary retracing. For (3), please refer to https://www.tensorflow.org/guide/function#controlling_retracing and https://www.tensorflow.org/api_docs/python/tf/function for  more details.\n"
     ]
    },
    {
     "name": "stderr",
     "output_type": "stream",
     "text": [
      "WARNING:tensorflow:11 out of the last 11 calls to <function Model.make_test_function.<locals>.test_function at 0x7fbed04f0ca0> triggered tf.function retracing. Tracing is expensive and the excessive number of tracings could be due to (1) creating @tf.function repeatedly in a loop, (2) passing tensors with different shapes, (3) passing Python objects instead of tensors. For (1), please define your @tf.function outside of the loop. For (2), @tf.function has experimental_relax_shapes=True option that relaxes argument shapes that can avoid unnecessary retracing. For (3), please refer to https://www.tensorflow.org/guide/function#controlling_retracing and https://www.tensorflow.org/api_docs/python/tf/function for  more details.\n",
      "WARNING:absl:Found untraced functions such as lstm_cell_132_layer_call_fn, lstm_cell_132_layer_call_and_return_conditional_losses, lstm_cell_133_layer_call_fn, lstm_cell_133_layer_call_and_return_conditional_losses, lstm_cell_132_layer_call_fn while saving (showing 5 of 10). These functions will not be directly callable after loading.\n",
      "WARNING:absl:Found untraced functions such as lstm_cell_132_layer_call_fn, lstm_cell_132_layer_call_and_return_conditional_losses, lstm_cell_133_layer_call_fn, lstm_cell_133_layer_call_and_return_conditional_losses, lstm_cell_132_layer_call_fn while saving (showing 5 of 10). These functions will not be directly callable after loading.\n"
     ]
    },
    {
     "name": "stdout",
     "output_type": "stream",
     "text": [
      "INFO:tensorflow:Assets written to: LSTM_train_visual/assets\n"
     ]
    },
    {
     "name": "stderr",
     "output_type": "stream",
     "text": [
      "INFO:tensorflow:Assets written to: LSTM_train_visual/assets\n"
     ]
    },
    {
     "name": "stdout",
     "output_type": "stream",
     "text": [
      "Epoch 1/10\n",
      "1/1 [==============================] - 2s 2s/step - loss: 2.4791 - mean_absolute_error: 1.5745\n",
      "Epoch 2/10\n",
      "1/1 [==============================] - 1s 812ms/step - loss: 1.7225 - mean_absolute_error: 1.3124\n",
      "Epoch 3/10\n",
      "1/1 [==============================] - 1s 791ms/step - loss: 1.0898 - mean_absolute_error: 1.0439\n",
      "Epoch 4/10\n",
      "1/1 [==============================] - 1s 783ms/step - loss: 0.6096 - mean_absolute_error: 0.7808\n",
      "Epoch 5/10\n",
      "1/1 [==============================] - 1s 784ms/step - loss: 0.3175 - mean_absolute_error: 0.5635\n",
      "Epoch 6/10\n",
      "1/1 [==============================] - 1s 812ms/step - loss: 0.1146 - mean_absolute_error: 0.3385\n",
      "Epoch 7/10\n",
      "1/1 [==============================] - 1s 822ms/step - loss: 0.0351 - mean_absolute_error: 0.1873\n",
      "Epoch 8/10\n",
      "1/1 [==============================] - 1s 805ms/step - loss: 0.0114 - mean_absolute_error: 0.1069\n",
      "Epoch 9/10\n",
      "1/1 [==============================] - 1s 786ms/step - loss: 0.0426 - mean_absolute_error: 0.2064\n",
      "Epoch 10/10\n",
      "1/1 [==============================] - 1s 901ms/step - loss: 0.1172 - mean_absolute_error: 0.3424\n",
      "WARNING:tensorflow:11 out of the last 11 calls to <function Model.make_test_function.<locals>.test_function at 0x7fc02ff2d160> triggered tf.function retracing. Tracing is expensive and the excessive number of tracings could be due to (1) creating @tf.function repeatedly in a loop, (2) passing tensors with different shapes, (3) passing Python objects instead of tensors. For (1), please define your @tf.function outside of the loop. For (2), @tf.function has experimental_relax_shapes=True option that relaxes argument shapes that can avoid unnecessary retracing. For (3), please refer to https://www.tensorflow.org/guide/function#controlling_retracing and https://www.tensorflow.org/api_docs/python/tf/function for  more details.\n"
     ]
    },
    {
     "name": "stderr",
     "output_type": "stream",
     "text": [
      "WARNING:tensorflow:11 out of the last 11 calls to <function Model.make_test_function.<locals>.test_function at 0x7fc02ff2d160> triggered tf.function retracing. Tracing is expensive and the excessive number of tracings could be due to (1) creating @tf.function repeatedly in a loop, (2) passing tensors with different shapes, (3) passing Python objects instead of tensors. For (1), please define your @tf.function outside of the loop. For (2), @tf.function has experimental_relax_shapes=True option that relaxes argument shapes that can avoid unnecessary retracing. For (3), please refer to https://www.tensorflow.org/guide/function#controlling_retracing and https://www.tensorflow.org/api_docs/python/tf/function for  more details.\n",
      "WARNING:absl:Found untraced functions such as lstm_cell_134_layer_call_fn, lstm_cell_134_layer_call_and_return_conditional_losses, lstm_cell_135_layer_call_fn, lstm_cell_135_layer_call_and_return_conditional_losses, lstm_cell_134_layer_call_fn while saving (showing 5 of 10). These functions will not be directly callable after loading.\n",
      "WARNING:absl:Found untraced functions such as lstm_cell_134_layer_call_fn, lstm_cell_134_layer_call_and_return_conditional_losses, lstm_cell_135_layer_call_fn, lstm_cell_135_layer_call_and_return_conditional_losses, lstm_cell_134_layer_call_fn while saving (showing 5 of 10). These functions will not be directly callable after loading.\n"
     ]
    },
    {
     "name": "stdout",
     "output_type": "stream",
     "text": [
      "INFO:tensorflow:Assets written to: LSTM_train_visual/assets\n"
     ]
    },
    {
     "name": "stderr",
     "output_type": "stream",
     "text": [
      "INFO:tensorflow:Assets written to: LSTM_train_visual/assets\n"
     ]
    },
    {
     "name": "stdout",
     "output_type": "stream",
     "text": [
      "Epoch 1/10\n",
      "1/1 [==============================] - 2s 2s/step - loss: 0.1997 - mean_absolute_error: 0.4469\n",
      "Epoch 2/10\n",
      "1/1 [==============================] - 0s 155ms/step - loss: 0.0220 - mean_absolute_error: 0.1484\n",
      "Epoch 3/10\n",
      "1/1 [==============================] - 0s 155ms/step - loss: 0.0216 - mean_absolute_error: 0.1469\n",
      "Epoch 4/10\n",
      "1/1 [==============================] - 0s 150ms/step - loss: 0.0477 - mean_absolute_error: 0.2184\n",
      "Epoch 5/10\n",
      "1/1 [==============================] - 0s 150ms/step - loss: 0.0274 - mean_absolute_error: 0.1655\n",
      "Epoch 6/10\n",
      "1/1 [==============================] - 0s 172ms/step - loss: 0.0100 - mean_absolute_error: 0.1002\n",
      "Epoch 7/10\n",
      "1/1 [==============================] - 0s 152ms/step - loss: 1.9277e-04 - mean_absolute_error: 0.0139\n",
      "Epoch 8/10\n",
      "1/1 [==============================] - 0s 151ms/step - loss: 0.0027 - mean_absolute_error: 0.0518\n",
      "Epoch 9/10\n",
      "1/1 [==============================] - 0s 151ms/step - loss: 0.0057 - mean_absolute_error: 0.0754\n",
      "Epoch 10/10\n",
      "1/1 [==============================] - 0s 151ms/step - loss: 0.0069 - mean_absolute_error: 0.0829\n",
      "WARNING:tensorflow:11 out of the last 11 calls to <function Model.make_test_function.<locals>.test_function at 0x7fbfa05ad940> triggered tf.function retracing. Tracing is expensive and the excessive number of tracings could be due to (1) creating @tf.function repeatedly in a loop, (2) passing tensors with different shapes, (3) passing Python objects instead of tensors. For (1), please define your @tf.function outside of the loop. For (2), @tf.function has experimental_relax_shapes=True option that relaxes argument shapes that can avoid unnecessary retracing. For (3), please refer to https://www.tensorflow.org/guide/function#controlling_retracing and https://www.tensorflow.org/api_docs/python/tf/function for  more details.\n"
     ]
    },
    {
     "name": "stderr",
     "output_type": "stream",
     "text": [
      "WARNING:tensorflow:11 out of the last 11 calls to <function Model.make_test_function.<locals>.test_function at 0x7fbfa05ad940> triggered tf.function retracing. Tracing is expensive and the excessive number of tracings could be due to (1) creating @tf.function repeatedly in a loop, (2) passing tensors with different shapes, (3) passing Python objects instead of tensors. For (1), please define your @tf.function outside of the loop. For (2), @tf.function has experimental_relax_shapes=True option that relaxes argument shapes that can avoid unnecessary retracing. For (3), please refer to https://www.tensorflow.org/guide/function#controlling_retracing and https://www.tensorflow.org/api_docs/python/tf/function for  more details.\n",
      "WARNING:absl:Found untraced functions such as lstm_cell_136_layer_call_fn, lstm_cell_136_layer_call_and_return_conditional_losses, lstm_cell_137_layer_call_fn, lstm_cell_137_layer_call_and_return_conditional_losses, lstm_cell_136_layer_call_fn while saving (showing 5 of 10). These functions will not be directly callable after loading.\n",
      "WARNING:absl:Found untraced functions such as lstm_cell_136_layer_call_fn, lstm_cell_136_layer_call_and_return_conditional_losses, lstm_cell_137_layer_call_fn, lstm_cell_137_layer_call_and_return_conditional_losses, lstm_cell_136_layer_call_fn while saving (showing 5 of 10). These functions will not be directly callable after loading.\n"
     ]
    },
    {
     "name": "stdout",
     "output_type": "stream",
     "text": [
      "INFO:tensorflow:Assets written to: LSTM_train_visual/assets\n"
     ]
    },
    {
     "name": "stderr",
     "output_type": "stream",
     "text": [
      "INFO:tensorflow:Assets written to: LSTM_train_visual/assets\n"
     ]
    },
    {
     "name": "stdout",
     "output_type": "stream",
     "text": [
      "Epoch 1/10\n",
      "1/1 [==============================] - 3s 3s/step - loss: 0.0026 - mean_absolute_error: 0.0513\n",
      "Epoch 2/10\n",
      "1/1 [==============================] - 0s 435ms/step - loss: 0.0636 - mean_absolute_error: 0.2521\n",
      "Epoch 3/10\n",
      "1/1 [==============================] - 0s 401ms/step - loss: 0.0072 - mean_absolute_error: 0.0849\n",
      "Epoch 4/10\n",
      "1/1 [==============================] - 0s 417ms/step - loss: 0.0452 - mean_absolute_error: 0.2126\n",
      "Epoch 5/10\n",
      "1/1 [==============================] - 0s 437ms/step - loss: 0.0070 - mean_absolute_error: 0.0834\n",
      "Epoch 6/10\n",
      "1/1 [==============================] - 0s 485ms/step - loss: 6.4262e-05 - mean_absolute_error: 0.0080\n",
      "Epoch 7/10\n",
      "1/1 [==============================] - 0s 397ms/step - loss: 3.0915e-05 - mean_absolute_error: 0.0056\n",
      "Epoch 8/10\n",
      "1/1 [==============================] - 0s 436ms/step - loss: 3.0401e-05 - mean_absolute_error: 0.0055\n",
      "Epoch 9/10\n",
      "1/1 [==============================] - 0s 404ms/step - loss: 1.2175e-04 - mean_absolute_error: 0.0110\n",
      "Epoch 10/10\n",
      "1/1 [==============================] - 0s 448ms/step - loss: 6.5998e-04 - mean_absolute_error: 0.0257\n",
      "WARNING:tensorflow:11 out of the last 11 calls to <function Model.make_test_function.<locals>.test_function at 0x7fbed06d5e50> triggered tf.function retracing. Tracing is expensive and the excessive number of tracings could be due to (1) creating @tf.function repeatedly in a loop, (2) passing tensors with different shapes, (3) passing Python objects instead of tensors. For (1), please define your @tf.function outside of the loop. For (2), @tf.function has experimental_relax_shapes=True option that relaxes argument shapes that can avoid unnecessary retracing. For (3), please refer to https://www.tensorflow.org/guide/function#controlling_retracing and https://www.tensorflow.org/api_docs/python/tf/function for  more details.\n"
     ]
    },
    {
     "name": "stderr",
     "output_type": "stream",
     "text": [
      "WARNING:tensorflow:11 out of the last 11 calls to <function Model.make_test_function.<locals>.test_function at 0x7fbed06d5e50> triggered tf.function retracing. Tracing is expensive and the excessive number of tracings could be due to (1) creating @tf.function repeatedly in a loop, (2) passing tensors with different shapes, (3) passing Python objects instead of tensors. For (1), please define your @tf.function outside of the loop. For (2), @tf.function has experimental_relax_shapes=True option that relaxes argument shapes that can avoid unnecessary retracing. For (3), please refer to https://www.tensorflow.org/guide/function#controlling_retracing and https://www.tensorflow.org/api_docs/python/tf/function for  more details.\n",
      "WARNING:absl:Found untraced functions such as lstm_cell_138_layer_call_fn, lstm_cell_138_layer_call_and_return_conditional_losses, lstm_cell_139_layer_call_fn, lstm_cell_139_layer_call_and_return_conditional_losses, lstm_cell_138_layer_call_fn while saving (showing 5 of 10). These functions will not be directly callable after loading.\n",
      "WARNING:absl:Found untraced functions such as lstm_cell_138_layer_call_fn, lstm_cell_138_layer_call_and_return_conditional_losses, lstm_cell_139_layer_call_fn, lstm_cell_139_layer_call_and_return_conditional_losses, lstm_cell_138_layer_call_fn while saving (showing 5 of 10). These functions will not be directly callable after loading.\n"
     ]
    },
    {
     "name": "stdout",
     "output_type": "stream",
     "text": [
      "INFO:tensorflow:Assets written to: LSTM_train_visual/assets\n"
     ]
    },
    {
     "name": "stderr",
     "output_type": "stream",
     "text": [
      "INFO:tensorflow:Assets written to: LSTM_train_visual/assets\n"
     ]
    },
    {
     "name": "stdout",
     "output_type": "stream",
     "text": [
      "Epoch 1/10\n",
      "1/1 [==============================] - 3s 3s/step - loss: 3.2818 - mean_absolute_error: 1.8116\n",
      "Epoch 2/10\n",
      "1/1 [==============================] - 0s 334ms/step - loss: 2.2039 - mean_absolute_error: 1.4846\n",
      "Epoch 3/10\n",
      "1/1 [==============================] - 0s 298ms/step - loss: 1.4859 - mean_absolute_error: 1.2190\n",
      "Epoch 4/10\n",
      "1/1 [==============================] - 0s 362ms/step - loss: 1.0742 - mean_absolute_error: 1.0364\n",
      "Epoch 5/10\n",
      "1/1 [==============================] - 0s 297ms/step - loss: 0.7565 - mean_absolute_error: 0.8698\n",
      "Epoch 6/10\n",
      "1/1 [==============================] - 0s 299ms/step - loss: 0.5194 - mean_absolute_error: 0.7207\n",
      "Epoch 7/10\n",
      "1/1 [==============================] - 0s 302ms/step - loss: 0.3417 - mean_absolute_error: 0.5845\n",
      "Epoch 8/10\n",
      "1/1 [==============================] - 0s 301ms/step - loss: 0.2268 - mean_absolute_error: 0.4763\n",
      "Epoch 9/10\n",
      "1/1 [==============================] - 0s 299ms/step - loss: 0.1038 - mean_absolute_error: 0.3222\n",
      "Epoch 10/10\n",
      "1/1 [==============================] - 0s 299ms/step - loss: 0.0360 - mean_absolute_error: 0.1898\n",
      "WARNING:tensorflow:11 out of the last 11 calls to <function Model.make_test_function.<locals>.test_function at 0x7fbf3ff2ef70> triggered tf.function retracing. Tracing is expensive and the excessive number of tracings could be due to (1) creating @tf.function repeatedly in a loop, (2) passing tensors with different shapes, (3) passing Python objects instead of tensors. For (1), please define your @tf.function outside of the loop. For (2), @tf.function has experimental_relax_shapes=True option that relaxes argument shapes that can avoid unnecessary retracing. For (3), please refer to https://www.tensorflow.org/guide/function#controlling_retracing and https://www.tensorflow.org/api_docs/python/tf/function for  more details.\n"
     ]
    },
    {
     "name": "stderr",
     "output_type": "stream",
     "text": [
      "WARNING:tensorflow:11 out of the last 11 calls to <function Model.make_test_function.<locals>.test_function at 0x7fbf3ff2ef70> triggered tf.function retracing. Tracing is expensive and the excessive number of tracings could be due to (1) creating @tf.function repeatedly in a loop, (2) passing tensors with different shapes, (3) passing Python objects instead of tensors. For (1), please define your @tf.function outside of the loop. For (2), @tf.function has experimental_relax_shapes=True option that relaxes argument shapes that can avoid unnecessary retracing. For (3), please refer to https://www.tensorflow.org/guide/function#controlling_retracing and https://www.tensorflow.org/api_docs/python/tf/function for  more details.\n",
      "WARNING:absl:Found untraced functions such as lstm_cell_140_layer_call_fn, lstm_cell_140_layer_call_and_return_conditional_losses, lstm_cell_141_layer_call_fn, lstm_cell_141_layer_call_and_return_conditional_losses, lstm_cell_140_layer_call_fn while saving (showing 5 of 10). These functions will not be directly callable after loading.\n",
      "WARNING:absl:Found untraced functions such as lstm_cell_140_layer_call_fn, lstm_cell_140_layer_call_and_return_conditional_losses, lstm_cell_141_layer_call_fn, lstm_cell_141_layer_call_and_return_conditional_losses, lstm_cell_140_layer_call_fn while saving (showing 5 of 10). These functions will not be directly callable after loading.\n"
     ]
    },
    {
     "name": "stdout",
     "output_type": "stream",
     "text": [
      "INFO:tensorflow:Assets written to: LSTM_train_visual/assets\n"
     ]
    },
    {
     "name": "stderr",
     "output_type": "stream",
     "text": [
      "INFO:tensorflow:Assets written to: LSTM_train_visual/assets\n"
     ]
    },
    {
     "name": "stdout",
     "output_type": "stream",
     "text": [
      "Epoch 1/10\n",
      "1/1 [==============================] - 2s 2s/step - loss: 2.2880 - mean_absolute_error: 1.5126\n",
      "Epoch 2/10\n",
      "1/1 [==============================] - 0s 258ms/step - loss: 1.4941 - mean_absolute_error: 1.2223\n",
      "Epoch 3/10\n",
      "1/1 [==============================] - 0s 257ms/step - loss: 1.0186 - mean_absolute_error: 1.0093\n",
      "Epoch 4/10\n",
      "1/1 [==============================] - 0s 258ms/step - loss: 0.6340 - mean_absolute_error: 0.7962\n",
      "Epoch 5/10\n",
      "1/1 [==============================] - 0s 234ms/step - loss: 0.3186 - mean_absolute_error: 0.5644\n",
      "Epoch 6/10\n",
      "1/1 [==============================] - 0s 286ms/step - loss: 0.1820 - mean_absolute_error: 0.4266\n",
      "Epoch 7/10\n",
      "1/1 [==============================] - 0s 238ms/step - loss: 0.0573 - mean_absolute_error: 0.2393\n",
      "Epoch 8/10\n",
      "1/1 [==============================] - 0s 234ms/step - loss: 0.0033 - mean_absolute_error: 0.0573\n",
      "Epoch 9/10\n",
      "1/1 [==============================] - 0s 234ms/step - loss: 0.0152 - mean_absolute_error: 0.1235\n",
      "Epoch 10/10\n",
      "1/1 [==============================] - 0s 235ms/step - loss: 0.0555 - mean_absolute_error: 0.2356\n",
      "WARNING:tensorflow:11 out of the last 11 calls to <function Model.make_test_function.<locals>.test_function at 0x7fc02d6a0820> triggered tf.function retracing. Tracing is expensive and the excessive number of tracings could be due to (1) creating @tf.function repeatedly in a loop, (2) passing tensors with different shapes, (3) passing Python objects instead of tensors. For (1), please define your @tf.function outside of the loop. For (2), @tf.function has experimental_relax_shapes=True option that relaxes argument shapes that can avoid unnecessary retracing. For (3), please refer to https://www.tensorflow.org/guide/function#controlling_retracing and https://www.tensorflow.org/api_docs/python/tf/function for  more details.\n"
     ]
    },
    {
     "name": "stderr",
     "output_type": "stream",
     "text": [
      "WARNING:tensorflow:11 out of the last 11 calls to <function Model.make_test_function.<locals>.test_function at 0x7fc02d6a0820> triggered tf.function retracing. Tracing is expensive and the excessive number of tracings could be due to (1) creating @tf.function repeatedly in a loop, (2) passing tensors with different shapes, (3) passing Python objects instead of tensors. For (1), please define your @tf.function outside of the loop. For (2), @tf.function has experimental_relax_shapes=True option that relaxes argument shapes that can avoid unnecessary retracing. For (3), please refer to https://www.tensorflow.org/guide/function#controlling_retracing and https://www.tensorflow.org/api_docs/python/tf/function for  more details.\n",
      "WARNING:absl:Found untraced functions such as lstm_cell_142_layer_call_fn, lstm_cell_142_layer_call_and_return_conditional_losses, lstm_cell_143_layer_call_fn, lstm_cell_143_layer_call_and_return_conditional_losses, lstm_cell_142_layer_call_fn while saving (showing 5 of 10). These functions will not be directly callable after loading.\n",
      "WARNING:absl:Found untraced functions such as lstm_cell_142_layer_call_fn, lstm_cell_142_layer_call_and_return_conditional_losses, lstm_cell_143_layer_call_fn, lstm_cell_143_layer_call_and_return_conditional_losses, lstm_cell_142_layer_call_fn while saving (showing 5 of 10). These functions will not be directly callable after loading.\n"
     ]
    },
    {
     "name": "stdout",
     "output_type": "stream",
     "text": [
      "INFO:tensorflow:Assets written to: LSTM_train_visual/assets\n"
     ]
    },
    {
     "name": "stderr",
     "output_type": "stream",
     "text": [
      "INFO:tensorflow:Assets written to: LSTM_train_visual/assets\n"
     ]
    },
    {
     "name": "stdout",
     "output_type": "stream",
     "text": [
      "Epoch 1/10\n",
      "1/1 [==============================] - 3s 3s/step - loss: 1.2988 - mean_absolute_error: 1.1396\n",
      "Epoch 2/10\n",
      "1/1 [==============================] - 0s 304ms/step - loss: 0.7687 - mean_absolute_error: 0.8768\n",
      "Epoch 3/10\n",
      "1/1 [==============================] - 0s 365ms/step - loss: 0.4176 - mean_absolute_error: 0.6463\n",
      "Epoch 4/10\n",
      "1/1 [==============================] - 0s 302ms/step - loss: 0.1732 - mean_absolute_error: 0.4162\n",
      "Epoch 5/10\n",
      "1/1 [==============================] - 0s 344ms/step - loss: 0.0438 - mean_absolute_error: 0.2094\n",
      "Epoch 6/10\n",
      "1/1 [==============================] - 0s 309ms/step - loss: 0.0012 - mean_absolute_error: 0.0353\n",
      "Epoch 7/10\n",
      "1/1 [==============================] - 0s 298ms/step - loss: 0.0138 - mean_absolute_error: 0.1175\n",
      "Epoch 8/10\n",
      "1/1 [==============================] - 0s 368ms/step - loss: 0.0450 - mean_absolute_error: 0.2122\n",
      "Epoch 9/10\n",
      "1/1 [==============================] - 0s 300ms/step - loss: 0.0548 - mean_absolute_error: 0.2341\n",
      "Epoch 10/10\n",
      "1/1 [==============================] - 0s 298ms/step - loss: 0.1075 - mean_absolute_error: 0.3279\n",
      "WARNING:tensorflow:11 out of the last 11 calls to <function Model.make_test_function.<locals>.test_function at 0x7fc05043e5e0> triggered tf.function retracing. Tracing is expensive and the excessive number of tracings could be due to (1) creating @tf.function repeatedly in a loop, (2) passing tensors with different shapes, (3) passing Python objects instead of tensors. For (1), please define your @tf.function outside of the loop. For (2), @tf.function has experimental_relax_shapes=True option that relaxes argument shapes that can avoid unnecessary retracing. For (3), please refer to https://www.tensorflow.org/guide/function#controlling_retracing and https://www.tensorflow.org/api_docs/python/tf/function for  more details.\n"
     ]
    },
    {
     "name": "stderr",
     "output_type": "stream",
     "text": [
      "WARNING:tensorflow:11 out of the last 11 calls to <function Model.make_test_function.<locals>.test_function at 0x7fc05043e5e0> triggered tf.function retracing. Tracing is expensive and the excessive number of tracings could be due to (1) creating @tf.function repeatedly in a loop, (2) passing tensors with different shapes, (3) passing Python objects instead of tensors. For (1), please define your @tf.function outside of the loop. For (2), @tf.function has experimental_relax_shapes=True option that relaxes argument shapes that can avoid unnecessary retracing. For (3), please refer to https://www.tensorflow.org/guide/function#controlling_retracing and https://www.tensorflow.org/api_docs/python/tf/function for  more details.\n",
      "WARNING:absl:Found untraced functions such as lstm_cell_144_layer_call_fn, lstm_cell_144_layer_call_and_return_conditional_losses, lstm_cell_145_layer_call_fn, lstm_cell_145_layer_call_and_return_conditional_losses, lstm_cell_144_layer_call_fn while saving (showing 5 of 10). These functions will not be directly callable after loading.\n",
      "WARNING:absl:Found untraced functions such as lstm_cell_144_layer_call_fn, lstm_cell_144_layer_call_and_return_conditional_losses, lstm_cell_145_layer_call_fn, lstm_cell_145_layer_call_and_return_conditional_losses, lstm_cell_144_layer_call_fn while saving (showing 5 of 10). These functions will not be directly callable after loading.\n"
     ]
    },
    {
     "name": "stdout",
     "output_type": "stream",
     "text": [
      "INFO:tensorflow:Assets written to: LSTM_train_visual/assets\n"
     ]
    },
    {
     "name": "stderr",
     "output_type": "stream",
     "text": [
      "INFO:tensorflow:Assets written to: LSTM_train_visual/assets\n"
     ]
    },
    {
     "name": "stdout",
     "output_type": "stream",
     "text": [
      "Epoch 1/10\n",
      "1/1 [==============================] - 2s 2s/step - loss: 2.6139 - mean_absolute_error: 1.6168\n",
      "Epoch 2/10\n",
      "1/1 [==============================] - 0s 149ms/step - loss: 1.8728 - mean_absolute_error: 1.3685\n",
      "Epoch 3/10\n",
      "1/1 [==============================] - 0s 159ms/step - loss: 1.1576 - mean_absolute_error: 1.0759\n",
      "Epoch 4/10\n",
      "1/1 [==============================] - 0s 142ms/step - loss: 0.8422 - mean_absolute_error: 0.9177\n",
      "Epoch 5/10\n",
      "1/1 [==============================] - 0s 148ms/step - loss: 0.5287 - mean_absolute_error: 0.7272\n",
      "Epoch 6/10\n",
      "1/1 [==============================] - 0s 160ms/step - loss: 0.2230 - mean_absolute_error: 0.4722\n",
      "Epoch 7/10\n",
      "1/1 [==============================] - 0s 142ms/step - loss: 0.0881 - mean_absolute_error: 0.2968\n",
      "Epoch 8/10\n",
      "1/1 [==============================] - 0s 142ms/step - loss: 0.0051 - mean_absolute_error: 0.0713\n",
      "Epoch 9/10\n",
      "1/1 [==============================] - 0s 143ms/step - loss: 0.0243 - mean_absolute_error: 0.1560\n",
      "Epoch 10/10\n",
      "1/1 [==============================] - 0s 142ms/step - loss: 0.0918 - mean_absolute_error: 0.3031\n",
      "WARNING:tensorflow:11 out of the last 11 calls to <function Model.make_test_function.<locals>.test_function at 0x7fbf505e1f70> triggered tf.function retracing. Tracing is expensive and the excessive number of tracings could be due to (1) creating @tf.function repeatedly in a loop, (2) passing tensors with different shapes, (3) passing Python objects instead of tensors. For (1), please define your @tf.function outside of the loop. For (2), @tf.function has experimental_relax_shapes=True option that relaxes argument shapes that can avoid unnecessary retracing. For (3), please refer to https://www.tensorflow.org/guide/function#controlling_retracing and https://www.tensorflow.org/api_docs/python/tf/function for  more details.\n"
     ]
    },
    {
     "name": "stderr",
     "output_type": "stream",
     "text": [
      "WARNING:tensorflow:11 out of the last 11 calls to <function Model.make_test_function.<locals>.test_function at 0x7fbf505e1f70> triggered tf.function retracing. Tracing is expensive and the excessive number of tracings could be due to (1) creating @tf.function repeatedly in a loop, (2) passing tensors with different shapes, (3) passing Python objects instead of tensors. For (1), please define your @tf.function outside of the loop. For (2), @tf.function has experimental_relax_shapes=True option that relaxes argument shapes that can avoid unnecessary retracing. For (3), please refer to https://www.tensorflow.org/guide/function#controlling_retracing and https://www.tensorflow.org/api_docs/python/tf/function for  more details.\n",
      "WARNING:absl:Found untraced functions such as lstm_cell_146_layer_call_fn, lstm_cell_146_layer_call_and_return_conditional_losses, lstm_cell_147_layer_call_fn, lstm_cell_147_layer_call_and_return_conditional_losses, lstm_cell_146_layer_call_fn while saving (showing 5 of 10). These functions will not be directly callable after loading.\n",
      "WARNING:absl:Found untraced functions such as lstm_cell_146_layer_call_fn, lstm_cell_146_layer_call_and_return_conditional_losses, lstm_cell_147_layer_call_fn, lstm_cell_147_layer_call_and_return_conditional_losses, lstm_cell_146_layer_call_fn while saving (showing 5 of 10). These functions will not be directly callable after loading.\n"
     ]
    },
    {
     "name": "stdout",
     "output_type": "stream",
     "text": [
      "INFO:tensorflow:Assets written to: LSTM_train_visual/assets\n"
     ]
    },
    {
     "name": "stderr",
     "output_type": "stream",
     "text": [
      "INFO:tensorflow:Assets written to: LSTM_train_visual/assets\n"
     ]
    },
    {
     "name": "stdout",
     "output_type": "stream",
     "text": [
      "Epoch 1/10\n",
      "1/1 [==============================] - 2s 2s/step - loss: 0.6152 - mean_absolute_error: 0.7844\n",
      "Epoch 2/10\n",
      "1/1 [==============================] - 0s 420ms/step - loss: 0.5478 - mean_absolute_error: 0.7401\n",
      "Epoch 3/10\n",
      "1/1 [==============================] - 0s 441ms/step - loss: 0.2844 - mean_absolute_error: 0.5333\n",
      "Epoch 4/10\n",
      "1/1 [==============================] - 0s 423ms/step - loss: 0.0573 - mean_absolute_error: 0.2393\n",
      "Epoch 5/10\n",
      "1/1 [==============================] - 0s 464ms/step - loss: 4.5248e-04 - mean_absolute_error: 0.0213\n",
      "Epoch 6/10\n",
      "1/1 [==============================] - 0s 416ms/step - loss: 0.0203 - mean_absolute_error: 0.1425\n",
      "Epoch 7/10\n",
      "1/1 [==============================] - 0s 430ms/step - loss: 0.1162 - mean_absolute_error: 0.3408\n",
      "Epoch 8/10\n",
      "1/1 [==============================] - 0s 424ms/step - loss: 0.0016 - mean_absolute_error: 0.0404\n",
      "Epoch 9/10\n",
      "1/1 [==============================] - 0s 424ms/step - loss: 0.0330 - mean_absolute_error: 0.1817\n",
      "Epoch 10/10\n",
      "1/1 [==============================] - 0s 440ms/step - loss: 0.1294 - mean_absolute_error: 0.3597\n",
      "WARNING:tensorflow:11 out of the last 11 calls to <function Model.make_test_function.<locals>.test_function at 0x7fc050b5cdc0> triggered tf.function retracing. Tracing is expensive and the excessive number of tracings could be due to (1) creating @tf.function repeatedly in a loop, (2) passing tensors with different shapes, (3) passing Python objects instead of tensors. For (1), please define your @tf.function outside of the loop. For (2), @tf.function has experimental_relax_shapes=True option that relaxes argument shapes that can avoid unnecessary retracing. For (3), please refer to https://www.tensorflow.org/guide/function#controlling_retracing and https://www.tensorflow.org/api_docs/python/tf/function for  more details.\n"
     ]
    },
    {
     "name": "stderr",
     "output_type": "stream",
     "text": [
      "WARNING:tensorflow:11 out of the last 11 calls to <function Model.make_test_function.<locals>.test_function at 0x7fc050b5cdc0> triggered tf.function retracing. Tracing is expensive and the excessive number of tracings could be due to (1) creating @tf.function repeatedly in a loop, (2) passing tensors with different shapes, (3) passing Python objects instead of tensors. For (1), please define your @tf.function outside of the loop. For (2), @tf.function has experimental_relax_shapes=True option that relaxes argument shapes that can avoid unnecessary retracing. For (3), please refer to https://www.tensorflow.org/guide/function#controlling_retracing and https://www.tensorflow.org/api_docs/python/tf/function for  more details.\n",
      "WARNING:absl:Found untraced functions such as lstm_cell_148_layer_call_fn, lstm_cell_148_layer_call_and_return_conditional_losses, lstm_cell_149_layer_call_fn, lstm_cell_149_layer_call_and_return_conditional_losses, lstm_cell_148_layer_call_fn while saving (showing 5 of 10). These functions will not be directly callable after loading.\n",
      "WARNING:absl:Found untraced functions such as lstm_cell_148_layer_call_fn, lstm_cell_148_layer_call_and_return_conditional_losses, lstm_cell_149_layer_call_fn, lstm_cell_149_layer_call_and_return_conditional_losses, lstm_cell_148_layer_call_fn while saving (showing 5 of 10). These functions will not be directly callable after loading.\n"
     ]
    },
    {
     "name": "stdout",
     "output_type": "stream",
     "text": [
      "INFO:tensorflow:Assets written to: LSTM_train_visual/assets\n"
     ]
    },
    {
     "name": "stderr",
     "output_type": "stream",
     "text": [
      "INFO:tensorflow:Assets written to: LSTM_train_visual/assets\n"
     ]
    },
    {
     "name": "stdout",
     "output_type": "stream",
     "text": [
      "Epoch 1/10\n",
      "1/1 [==============================] - 2s 2s/step - loss: 1.3004 - mean_absolute_error: 1.1404\n",
      "Epoch 2/10\n",
      "1/1 [==============================] - 0s 233ms/step - loss: 0.8390 - mean_absolute_error: 0.9160\n",
      "Epoch 3/10\n",
      "1/1 [==============================] - 0s 256ms/step - loss: 0.4388 - mean_absolute_error: 0.6624\n",
      "Epoch 4/10\n",
      "1/1 [==============================] - 0s 234ms/step - loss: 0.2096 - mean_absolute_error: 0.4578\n",
      "Epoch 5/10\n",
      "1/1 [==============================] - 0s 231ms/step - loss: 0.0743 - mean_absolute_error: 0.2727\n",
      "Epoch 6/10\n",
      "1/1 [==============================] - 0s 253ms/step - loss: 0.0067 - mean_absolute_error: 0.0818\n",
      "Epoch 7/10\n",
      "1/1 [==============================] - 0s 231ms/step - loss: 0.0103 - mean_absolute_error: 0.1016\n",
      "Epoch 8/10\n",
      "1/1 [==============================] - 0s 254ms/step - loss: 0.0522 - mean_absolute_error: 0.2284\n",
      "Epoch 9/10\n",
      "1/1 [==============================] - 0s 281ms/step - loss: 0.0586 - mean_absolute_error: 0.2421\n",
      "Epoch 10/10\n",
      "1/1 [==============================] - 0s 236ms/step - loss: 0.0947 - mean_absolute_error: 0.3077\n",
      "WARNING:tensorflow:11 out of the last 11 calls to <function Model.make_test_function.<locals>.test_function at 0x7fc02f977280> triggered tf.function retracing. Tracing is expensive and the excessive number of tracings could be due to (1) creating @tf.function repeatedly in a loop, (2) passing tensors with different shapes, (3) passing Python objects instead of tensors. For (1), please define your @tf.function outside of the loop. For (2), @tf.function has experimental_relax_shapes=True option that relaxes argument shapes that can avoid unnecessary retracing. For (3), please refer to https://www.tensorflow.org/guide/function#controlling_retracing and https://www.tensorflow.org/api_docs/python/tf/function for  more details.\n"
     ]
    },
    {
     "name": "stderr",
     "output_type": "stream",
     "text": [
      "WARNING:tensorflow:11 out of the last 11 calls to <function Model.make_test_function.<locals>.test_function at 0x7fc02f977280> triggered tf.function retracing. Tracing is expensive and the excessive number of tracings could be due to (1) creating @tf.function repeatedly in a loop, (2) passing tensors with different shapes, (3) passing Python objects instead of tensors. For (1), please define your @tf.function outside of the loop. For (2), @tf.function has experimental_relax_shapes=True option that relaxes argument shapes that can avoid unnecessary retracing. For (3), please refer to https://www.tensorflow.org/guide/function#controlling_retracing and https://www.tensorflow.org/api_docs/python/tf/function for  more details.\n",
      "WARNING:absl:Found untraced functions such as lstm_cell_150_layer_call_fn, lstm_cell_150_layer_call_and_return_conditional_losses, lstm_cell_151_layer_call_fn, lstm_cell_151_layer_call_and_return_conditional_losses, lstm_cell_150_layer_call_fn while saving (showing 5 of 10). These functions will not be directly callable after loading.\n",
      "WARNING:absl:Found untraced functions such as lstm_cell_150_layer_call_fn, lstm_cell_150_layer_call_and_return_conditional_losses, lstm_cell_151_layer_call_fn, lstm_cell_151_layer_call_and_return_conditional_losses, lstm_cell_150_layer_call_fn while saving (showing 5 of 10). These functions will not be directly callable after loading.\n"
     ]
    },
    {
     "name": "stdout",
     "output_type": "stream",
     "text": [
      "INFO:tensorflow:Assets written to: LSTM_train_visual/assets\n"
     ]
    },
    {
     "name": "stderr",
     "output_type": "stream",
     "text": [
      "INFO:tensorflow:Assets written to: LSTM_train_visual/assets\n"
     ]
    },
    {
     "name": "stdout",
     "output_type": "stream",
     "text": [
      "Epoch 1/10\n",
      "1/1 [==============================] - 3s 3s/step - loss: 2.8384 - mean_absolute_error: 1.6848\n",
      "Epoch 2/10\n",
      "1/1 [==============================] - 0s 264ms/step - loss: 1.9955 - mean_absolute_error: 1.4126\n",
      "Epoch 3/10\n",
      "1/1 [==============================] - 0s 265ms/step - loss: 1.5285 - mean_absolute_error: 1.2363\n",
      "Epoch 4/10\n",
      "1/1 [==============================] - 0s 273ms/step - loss: 1.1517 - mean_absolute_error: 1.0732\n",
      "Epoch 5/10\n",
      "1/1 [==============================] - 0s 263ms/step - loss: 0.8350 - mean_absolute_error: 0.9138\n",
      "Epoch 6/10\n",
      "1/1 [==============================] - 0s 262ms/step - loss: 0.5547 - mean_absolute_error: 0.7448\n",
      "Epoch 7/10\n",
      "1/1 [==============================] - 0s 262ms/step - loss: 0.3911 - mean_absolute_error: 0.6254\n",
      "Epoch 8/10\n",
      "1/1 [==============================] - 0s 287ms/step - loss: 0.0996 - mean_absolute_error: 0.3156\n",
      "Epoch 9/10\n",
      "1/1 [==============================] - 0s 288ms/step - loss: 0.0307 - mean_absolute_error: 0.1753\n",
      "Epoch 10/10\n",
      "1/1 [==============================] - 0s 290ms/step - loss: 0.0010 - mean_absolute_error: 0.0323\n",
      "WARNING:tensorflow:11 out of the last 11 calls to <function Model.make_test_function.<locals>.test_function at 0x7fc03d4c6820> triggered tf.function retracing. Tracing is expensive and the excessive number of tracings could be due to (1) creating @tf.function repeatedly in a loop, (2) passing tensors with different shapes, (3) passing Python objects instead of tensors. For (1), please define your @tf.function outside of the loop. For (2), @tf.function has experimental_relax_shapes=True option that relaxes argument shapes that can avoid unnecessary retracing. For (3), please refer to https://www.tensorflow.org/guide/function#controlling_retracing and https://www.tensorflow.org/api_docs/python/tf/function for  more details.\n"
     ]
    },
    {
     "name": "stderr",
     "output_type": "stream",
     "text": [
      "WARNING:tensorflow:11 out of the last 11 calls to <function Model.make_test_function.<locals>.test_function at 0x7fc03d4c6820> triggered tf.function retracing. Tracing is expensive and the excessive number of tracings could be due to (1) creating @tf.function repeatedly in a loop, (2) passing tensors with different shapes, (3) passing Python objects instead of tensors. For (1), please define your @tf.function outside of the loop. For (2), @tf.function has experimental_relax_shapes=True option that relaxes argument shapes that can avoid unnecessary retracing. For (3), please refer to https://www.tensorflow.org/guide/function#controlling_retracing and https://www.tensorflow.org/api_docs/python/tf/function for  more details.\n",
      "WARNING:absl:Found untraced functions such as lstm_cell_152_layer_call_fn, lstm_cell_152_layer_call_and_return_conditional_losses, lstm_cell_153_layer_call_fn, lstm_cell_153_layer_call_and_return_conditional_losses, lstm_cell_152_layer_call_fn while saving (showing 5 of 10). These functions will not be directly callable after loading.\n",
      "WARNING:absl:Found untraced functions such as lstm_cell_152_layer_call_fn, lstm_cell_152_layer_call_and_return_conditional_losses, lstm_cell_153_layer_call_fn, lstm_cell_153_layer_call_and_return_conditional_losses, lstm_cell_152_layer_call_fn while saving (showing 5 of 10). These functions will not be directly callable after loading.\n"
     ]
    },
    {
     "name": "stdout",
     "output_type": "stream",
     "text": [
      "INFO:tensorflow:Assets written to: LSTM_train_visual/assets\n"
     ]
    },
    {
     "name": "stderr",
     "output_type": "stream",
     "text": [
      "INFO:tensorflow:Assets written to: LSTM_train_visual/assets\n"
     ]
    },
    {
     "name": "stdout",
     "output_type": "stream",
     "text": [
      "Epoch 1/10\n",
      "1/1 [==============================] - 3s 3s/step - loss: 0.6993 - mean_absolute_error: 0.8362\n",
      "Epoch 2/10\n",
      "1/1 [==============================] - 0s 489ms/step - loss: 0.2229 - mean_absolute_error: 0.4721\n",
      "Epoch 3/10\n",
      "1/1 [==============================] - 0s 489ms/step - loss: 0.0834 - mean_absolute_error: 0.2888\n",
      "Epoch 4/10\n",
      "1/1 [==============================] - 0s 488ms/step - loss: 0.0045 - mean_absolute_error: 0.0673\n",
      "Epoch 5/10\n",
      "1/1 [==============================] - 0s 491ms/step - loss: 0.0164 - mean_absolute_error: 0.1279\n",
      "Epoch 6/10\n",
      "1/1 [==============================] - 0s 491ms/step - loss: 0.0522 - mean_absolute_error: 0.2285\n",
      "Epoch 7/10\n",
      "1/1 [==============================] - 0s 491ms/step - loss: 0.0624 - mean_absolute_error: 0.2497\n",
      "Epoch 8/10\n",
      "1/1 [==============================] - 0s 490ms/step - loss: 0.0365 - mean_absolute_error: 0.1911\n",
      "Epoch 9/10\n",
      "1/1 [==============================] - 0s 493ms/step - loss: 0.0238 - mean_absolute_error: 0.1544\n",
      "Epoch 10/10\n",
      "1/1 [==============================] - 0s 491ms/step - loss: 0.0149 - mean_absolute_error: 0.1220\n",
      "WARNING:tensorflow:11 out of the last 11 calls to <function Model.make_test_function.<locals>.test_function at 0x7fc02d148670> triggered tf.function retracing. Tracing is expensive and the excessive number of tracings could be due to (1) creating @tf.function repeatedly in a loop, (2) passing tensors with different shapes, (3) passing Python objects instead of tensors. For (1), please define your @tf.function outside of the loop. For (2), @tf.function has experimental_relax_shapes=True option that relaxes argument shapes that can avoid unnecessary retracing. For (3), please refer to https://www.tensorflow.org/guide/function#controlling_retracing and https://www.tensorflow.org/api_docs/python/tf/function for  more details.\n"
     ]
    },
    {
     "name": "stderr",
     "output_type": "stream",
     "text": [
      "WARNING:tensorflow:11 out of the last 11 calls to <function Model.make_test_function.<locals>.test_function at 0x7fc02d148670> triggered tf.function retracing. Tracing is expensive and the excessive number of tracings could be due to (1) creating @tf.function repeatedly in a loop, (2) passing tensors with different shapes, (3) passing Python objects instead of tensors. For (1), please define your @tf.function outside of the loop. For (2), @tf.function has experimental_relax_shapes=True option that relaxes argument shapes that can avoid unnecessary retracing. For (3), please refer to https://www.tensorflow.org/guide/function#controlling_retracing and https://www.tensorflow.org/api_docs/python/tf/function for  more details.\n",
      "WARNING:absl:Found untraced functions such as lstm_cell_154_layer_call_fn, lstm_cell_154_layer_call_and_return_conditional_losses, lstm_cell_155_layer_call_fn, lstm_cell_155_layer_call_and_return_conditional_losses, lstm_cell_154_layer_call_fn while saving (showing 5 of 10). These functions will not be directly callable after loading.\n",
      "WARNING:absl:Found untraced functions such as lstm_cell_154_layer_call_fn, lstm_cell_154_layer_call_and_return_conditional_losses, lstm_cell_155_layer_call_fn, lstm_cell_155_layer_call_and_return_conditional_losses, lstm_cell_154_layer_call_fn while saving (showing 5 of 10). These functions will not be directly callable after loading.\n"
     ]
    },
    {
     "name": "stdout",
     "output_type": "stream",
     "text": [
      "INFO:tensorflow:Assets written to: LSTM_train_visual/assets\n"
     ]
    },
    {
     "name": "stderr",
     "output_type": "stream",
     "text": [
      "INFO:tensorflow:Assets written to: LSTM_train_visual/assets\n"
     ]
    },
    {
     "name": "stdout",
     "output_type": "stream",
     "text": [
      "Epoch 1/10\n",
      "1/1 [==============================] - 2s 2s/step - loss: 5.1966 - mean_absolute_error: 2.2796\n",
      "Epoch 2/10\n",
      "1/1 [==============================] - 1s 612ms/step - loss: 3.5229 - mean_absolute_error: 1.8769\n",
      "Epoch 3/10\n",
      "1/1 [==============================] - 1s 593ms/step - loss: 2.6220 - mean_absolute_error: 1.6192\n",
      "Epoch 4/10\n",
      "1/1 [==============================] - 1s 535ms/step - loss: 2.0163 - mean_absolute_error: 1.4200\n",
      "Epoch 5/10\n",
      "1/1 [==============================] - 1s 538ms/step - loss: 1.5876 - mean_absolute_error: 1.2600\n",
      "Epoch 6/10\n",
      "1/1 [==============================] - 1s 538ms/step - loss: 1.2228 - mean_absolute_error: 1.1058\n",
      "Epoch 7/10\n",
      "1/1 [==============================] - 1s 537ms/step - loss: 0.8719 - mean_absolute_error: 0.9338\n",
      "Epoch 8/10\n",
      "1/1 [==============================] - 1s 606ms/step - loss: 0.5732 - mean_absolute_error: 0.7571\n",
      "Epoch 9/10\n",
      "1/1 [==============================] - 1s 588ms/step - loss: 0.2739 - mean_absolute_error: 0.5234\n",
      "Epoch 10/10\n",
      "1/1 [==============================] - 1s 537ms/step - loss: 0.0851 - mean_absolute_error: 0.2917\n",
      "WARNING:tensorflow:11 out of the last 11 calls to <function Model.make_test_function.<locals>.test_function at 0x7fbfa05ad4c0> triggered tf.function retracing. Tracing is expensive and the excessive number of tracings could be due to (1) creating @tf.function repeatedly in a loop, (2) passing tensors with different shapes, (3) passing Python objects instead of tensors. For (1), please define your @tf.function outside of the loop. For (2), @tf.function has experimental_relax_shapes=True option that relaxes argument shapes that can avoid unnecessary retracing. For (3), please refer to https://www.tensorflow.org/guide/function#controlling_retracing and https://www.tensorflow.org/api_docs/python/tf/function for  more details.\n"
     ]
    },
    {
     "name": "stderr",
     "output_type": "stream",
     "text": [
      "WARNING:tensorflow:11 out of the last 11 calls to <function Model.make_test_function.<locals>.test_function at 0x7fbfa05ad4c0> triggered tf.function retracing. Tracing is expensive and the excessive number of tracings could be due to (1) creating @tf.function repeatedly in a loop, (2) passing tensors with different shapes, (3) passing Python objects instead of tensors. For (1), please define your @tf.function outside of the loop. For (2), @tf.function has experimental_relax_shapes=True option that relaxes argument shapes that can avoid unnecessary retracing. For (3), please refer to https://www.tensorflow.org/guide/function#controlling_retracing and https://www.tensorflow.org/api_docs/python/tf/function for  more details.\n",
      "WARNING:absl:Found untraced functions such as lstm_cell_156_layer_call_fn, lstm_cell_156_layer_call_and_return_conditional_losses, lstm_cell_157_layer_call_fn, lstm_cell_157_layer_call_and_return_conditional_losses, lstm_cell_156_layer_call_fn while saving (showing 5 of 10). These functions will not be directly callable after loading.\n",
      "WARNING:absl:Found untraced functions such as lstm_cell_156_layer_call_fn, lstm_cell_156_layer_call_and_return_conditional_losses, lstm_cell_157_layer_call_fn, lstm_cell_157_layer_call_and_return_conditional_losses, lstm_cell_156_layer_call_fn while saving (showing 5 of 10). These functions will not be directly callable after loading.\n"
     ]
    },
    {
     "name": "stdout",
     "output_type": "stream",
     "text": [
      "INFO:tensorflow:Assets written to: LSTM_train_visual/assets\n"
     ]
    },
    {
     "name": "stderr",
     "output_type": "stream",
     "text": [
      "INFO:tensorflow:Assets written to: LSTM_train_visual/assets\n"
     ]
    },
    {
     "name": "stdout",
     "output_type": "stream",
     "text": [
      "Epoch 1/10\n",
      "1/1 [==============================] - 3s 3s/step - loss: 1.1992 - mean_absolute_error: 1.0951\n",
      "Epoch 2/10\n",
      "1/1 [==============================] - 0s 496ms/step - loss: 0.3441 - mean_absolute_error: 0.5866\n",
      "Epoch 3/10\n",
      "1/1 [==============================] - 0s 482ms/step - loss: 0.0209 - mean_absolute_error: 0.1445\n",
      "Epoch 4/10\n",
      "1/1 [==============================] - 0s 485ms/step - loss: 0.0645 - mean_absolute_error: 0.2539\n",
      "Epoch 5/10\n",
      "1/1 [==============================] - 0s 483ms/step - loss: 0.0163 - mean_absolute_error: 0.1276\n",
      "Epoch 6/10\n",
      "1/1 [==============================] - 1s 590ms/step - loss: 0.0026 - mean_absolute_error: 0.0514\n",
      "Epoch 7/10\n",
      "1/1 [==============================] - 0s 481ms/step - loss: 0.0044 - mean_absolute_error: 0.0665\n",
      "Epoch 8/10\n",
      "1/1 [==============================] - 1s 504ms/step - loss: 0.0027 - mean_absolute_error: 0.0520\n",
      "Epoch 9/10\n",
      "1/1 [==============================] - 0s 493ms/step - loss: 0.0020 - mean_absolute_error: 0.0450\n",
      "Epoch 10/10\n",
      "1/1 [==============================] - 0s 493ms/step - loss: 2.2725e-04 - mean_absolute_error: 0.0151\n",
      "WARNING:tensorflow:11 out of the last 11 calls to <function Model.make_test_function.<locals>.test_function at 0x7fbfda88b940> triggered tf.function retracing. Tracing is expensive and the excessive number of tracings could be due to (1) creating @tf.function repeatedly in a loop, (2) passing tensors with different shapes, (3) passing Python objects instead of tensors. For (1), please define your @tf.function outside of the loop. For (2), @tf.function has experimental_relax_shapes=True option that relaxes argument shapes that can avoid unnecessary retracing. For (3), please refer to https://www.tensorflow.org/guide/function#controlling_retracing and https://www.tensorflow.org/api_docs/python/tf/function for  more details.\n"
     ]
    },
    {
     "name": "stderr",
     "output_type": "stream",
     "text": [
      "WARNING:tensorflow:11 out of the last 11 calls to <function Model.make_test_function.<locals>.test_function at 0x7fbfda88b940> triggered tf.function retracing. Tracing is expensive and the excessive number of tracings could be due to (1) creating @tf.function repeatedly in a loop, (2) passing tensors with different shapes, (3) passing Python objects instead of tensors. For (1), please define your @tf.function outside of the loop. For (2), @tf.function has experimental_relax_shapes=True option that relaxes argument shapes that can avoid unnecessary retracing. For (3), please refer to https://www.tensorflow.org/guide/function#controlling_retracing and https://www.tensorflow.org/api_docs/python/tf/function for  more details.\n",
      "WARNING:absl:Found untraced functions such as lstm_cell_158_layer_call_fn, lstm_cell_158_layer_call_and_return_conditional_losses, lstm_cell_159_layer_call_fn, lstm_cell_159_layer_call_and_return_conditional_losses, lstm_cell_158_layer_call_fn while saving (showing 5 of 10). These functions will not be directly callable after loading.\n",
      "WARNING:absl:Found untraced functions such as lstm_cell_158_layer_call_fn, lstm_cell_158_layer_call_and_return_conditional_losses, lstm_cell_159_layer_call_fn, lstm_cell_159_layer_call_and_return_conditional_losses, lstm_cell_158_layer_call_fn while saving (showing 5 of 10). These functions will not be directly callable after loading.\n"
     ]
    },
    {
     "name": "stdout",
     "output_type": "stream",
     "text": [
      "INFO:tensorflow:Assets written to: LSTM_train_visual/assets\n"
     ]
    },
    {
     "name": "stderr",
     "output_type": "stream",
     "text": [
      "INFO:tensorflow:Assets written to: LSTM_train_visual/assets\n"
     ]
    },
    {
     "name": "stdout",
     "output_type": "stream",
     "text": [
      "Epoch 1/10\n",
      "1/1 [==============================] - 3s 3s/step - loss: 0.4332 - mean_absolute_error: 0.6582\n",
      "Epoch 2/10\n",
      "1/1 [==============================] - 0s 413ms/step - loss: 0.1036 - mean_absolute_error: 0.3218\n",
      "Epoch 3/10\n",
      "1/1 [==============================] - 0s 418ms/step - loss: 2.5934e-05 - mean_absolute_error: 0.0051\n",
      "Epoch 4/10\n",
      "1/1 [==============================] - 0s 467ms/step - loss: 0.0663 - mean_absolute_error: 0.2575\n",
      "Epoch 5/10\n",
      "1/1 [==============================] - 0s 476ms/step - loss: 0.0688 - mean_absolute_error: 0.2622\n",
      "Epoch 6/10\n",
      "1/1 [==============================] - 0s 415ms/step - loss: 0.0443 - mean_absolute_error: 0.2105\n",
      "Epoch 7/10\n",
      "1/1 [==============================] - 0s 418ms/step - loss: 0.0189 - mean_absolute_error: 0.1373\n",
      "Epoch 8/10\n",
      "1/1 [==============================] - 0s 455ms/step - loss: 0.0049 - mean_absolute_error: 0.0697\n",
      "Epoch 9/10\n",
      "1/1 [==============================] - 0s 458ms/step - loss: 3.4719e-05 - mean_absolute_error: 0.0059\n",
      "Epoch 10/10\n",
      "1/1 [==============================] - 0s 430ms/step - loss: 0.0048 - mean_absolute_error: 0.0694\n",
      "WARNING:tensorflow:11 out of the last 11 calls to <function Model.make_test_function.<locals>.test_function at 0x7fbfa039f820> triggered tf.function retracing. Tracing is expensive and the excessive number of tracings could be due to (1) creating @tf.function repeatedly in a loop, (2) passing tensors with different shapes, (3) passing Python objects instead of tensors. For (1), please define your @tf.function outside of the loop. For (2), @tf.function has experimental_relax_shapes=True option that relaxes argument shapes that can avoid unnecessary retracing. For (3), please refer to https://www.tensorflow.org/guide/function#controlling_retracing and https://www.tensorflow.org/api_docs/python/tf/function for  more details.\n"
     ]
    },
    {
     "name": "stderr",
     "output_type": "stream",
     "text": [
      "WARNING:tensorflow:11 out of the last 11 calls to <function Model.make_test_function.<locals>.test_function at 0x7fbfa039f820> triggered tf.function retracing. Tracing is expensive and the excessive number of tracings could be due to (1) creating @tf.function repeatedly in a loop, (2) passing tensors with different shapes, (3) passing Python objects instead of tensors. For (1), please define your @tf.function outside of the loop. For (2), @tf.function has experimental_relax_shapes=True option that relaxes argument shapes that can avoid unnecessary retracing. For (3), please refer to https://www.tensorflow.org/guide/function#controlling_retracing and https://www.tensorflow.org/api_docs/python/tf/function for  more details.\n",
      "WARNING:absl:Found untraced functions such as lstm_cell_160_layer_call_fn, lstm_cell_160_layer_call_and_return_conditional_losses, lstm_cell_161_layer_call_fn, lstm_cell_161_layer_call_and_return_conditional_losses, lstm_cell_160_layer_call_fn while saving (showing 5 of 10). These functions will not be directly callable after loading.\n",
      "WARNING:absl:Found untraced functions such as lstm_cell_160_layer_call_fn, lstm_cell_160_layer_call_and_return_conditional_losses, lstm_cell_161_layer_call_fn, lstm_cell_161_layer_call_and_return_conditional_losses, lstm_cell_160_layer_call_fn while saving (showing 5 of 10). These functions will not be directly callable after loading.\n"
     ]
    },
    {
     "name": "stdout",
     "output_type": "stream",
     "text": [
      "INFO:tensorflow:Assets written to: LSTM_train_visual/assets\n"
     ]
    },
    {
     "name": "stderr",
     "output_type": "stream",
     "text": [
      "INFO:tensorflow:Assets written to: LSTM_train_visual/assets\n"
     ]
    },
    {
     "name": "stdout",
     "output_type": "stream",
     "text": [
      "Epoch 1/10\n",
      "1/1 [==============================] - 4s 4s/step - loss: 1.1546 - mean_absolute_error: 1.0745\n",
      "Epoch 2/10\n",
      "1/1 [==============================] - 1s 1s/step - loss: 0.6599 - mean_absolute_error: 0.8123\n",
      "Epoch 3/10\n",
      "1/1 [==============================] - 1s 1s/step - loss: 0.3290 - mean_absolute_error: 0.5735\n",
      "Epoch 4/10\n",
      "1/1 [==============================] - 1s 1s/step - loss: 0.1213 - mean_absolute_error: 0.3483\n",
      "Epoch 5/10\n",
      "1/1 [==============================] - 1s 1s/step - loss: 0.0179 - mean_absolute_error: 0.1339\n",
      "Epoch 6/10\n",
      "1/1 [==============================] - 1s 1s/step - loss: 0.0041 - mean_absolute_error: 0.0644\n",
      "Epoch 7/10\n",
      "1/1 [==============================] - 1s 1s/step - loss: 0.0262 - mean_absolute_error: 0.1619\n",
      "Epoch 8/10\n",
      "1/1 [==============================] - 1s 1s/step - loss: 0.0286 - mean_absolute_error: 0.1690\n",
      "Epoch 9/10\n",
      "1/1 [==============================] - 1s 1s/step - loss: 0.0398 - mean_absolute_error: 0.1994\n",
      "Epoch 10/10\n",
      "1/1 [==============================] - 1s 1s/step - loss: 0.0448 - mean_absolute_error: 0.2117\n",
      "WARNING:tensorflow:11 out of the last 11 calls to <function Model.make_test_function.<locals>.test_function at 0x7fbf50618af0> triggered tf.function retracing. Tracing is expensive and the excessive number of tracings could be due to (1) creating @tf.function repeatedly in a loop, (2) passing tensors with different shapes, (3) passing Python objects instead of tensors. For (1), please define your @tf.function outside of the loop. For (2), @tf.function has experimental_relax_shapes=True option that relaxes argument shapes that can avoid unnecessary retracing. For (3), please refer to https://www.tensorflow.org/guide/function#controlling_retracing and https://www.tensorflow.org/api_docs/python/tf/function for  more details.\n"
     ]
    },
    {
     "name": "stderr",
     "output_type": "stream",
     "text": [
      "WARNING:tensorflow:11 out of the last 11 calls to <function Model.make_test_function.<locals>.test_function at 0x7fbf50618af0> triggered tf.function retracing. Tracing is expensive and the excessive number of tracings could be due to (1) creating @tf.function repeatedly in a loop, (2) passing tensors with different shapes, (3) passing Python objects instead of tensors. For (1), please define your @tf.function outside of the loop. For (2), @tf.function has experimental_relax_shapes=True option that relaxes argument shapes that can avoid unnecessary retracing. For (3), please refer to https://www.tensorflow.org/guide/function#controlling_retracing and https://www.tensorflow.org/api_docs/python/tf/function for  more details.\n",
      "WARNING:absl:Found untraced functions such as lstm_cell_162_layer_call_fn, lstm_cell_162_layer_call_and_return_conditional_losses, lstm_cell_163_layer_call_fn, lstm_cell_163_layer_call_and_return_conditional_losses, lstm_cell_162_layer_call_fn while saving (showing 5 of 10). These functions will not be directly callable after loading.\n",
      "WARNING:absl:Found untraced functions such as lstm_cell_162_layer_call_fn, lstm_cell_162_layer_call_and_return_conditional_losses, lstm_cell_163_layer_call_fn, lstm_cell_163_layer_call_and_return_conditional_losses, lstm_cell_162_layer_call_fn while saving (showing 5 of 10). These functions will not be directly callable after loading.\n"
     ]
    },
    {
     "name": "stdout",
     "output_type": "stream",
     "text": [
      "INFO:tensorflow:Assets written to: LSTM_train_visual/assets\n"
     ]
    },
    {
     "name": "stderr",
     "output_type": "stream",
     "text": [
      "INFO:tensorflow:Assets written to: LSTM_train_visual/assets\n"
     ]
    },
    {
     "name": "stdout",
     "output_type": "stream",
     "text": [
      "Epoch 1/10\n",
      "1/1 [==============================] - 2s 2s/step - loss: 6.5926 - mean_absolute_error: 2.5676\n",
      "Epoch 2/10\n",
      "1/1 [==============================] - 0s 284ms/step - loss: 4.8589 - mean_absolute_error: 2.2043\n",
      "Epoch 3/10\n",
      "1/1 [==============================] - 0s 285ms/step - loss: 3.5793 - mean_absolute_error: 1.8919\n",
      "Epoch 4/10\n",
      "1/1 [==============================] - 0s 315ms/step - loss: 2.8049 - mean_absolute_error: 1.6748\n",
      "Epoch 5/10\n",
      "1/1 [==============================] - 0s 352ms/step - loss: 2.2708 - mean_absolute_error: 1.5069\n",
      "Epoch 6/10\n",
      "1/1 [==============================] - 0s 290ms/step - loss: 1.7115 - mean_absolute_error: 1.3082\n",
      "Epoch 7/10\n",
      "1/1 [==============================] - 0s 291ms/step - loss: 1.3012 - mean_absolute_error: 1.1407\n",
      "Epoch 8/10\n",
      "1/1 [==============================] - 0s 290ms/step - loss: 0.9838 - mean_absolute_error: 0.9919\n",
      "Epoch 9/10\n",
      "1/1 [==============================] - 0s 287ms/step - loss: 0.7039 - mean_absolute_error: 0.8390\n",
      "Epoch 10/10\n",
      "1/1 [==============================] - 0s 290ms/step - loss: 0.4494 - mean_absolute_error: 0.6704\n",
      "WARNING:tensorflow:11 out of the last 11 calls to <function Model.make_test_function.<locals>.test_function at 0x7fc02f840c10> triggered tf.function retracing. Tracing is expensive and the excessive number of tracings could be due to (1) creating @tf.function repeatedly in a loop, (2) passing tensors with different shapes, (3) passing Python objects instead of tensors. For (1), please define your @tf.function outside of the loop. For (2), @tf.function has experimental_relax_shapes=True option that relaxes argument shapes that can avoid unnecessary retracing. For (3), please refer to https://www.tensorflow.org/guide/function#controlling_retracing and https://www.tensorflow.org/api_docs/python/tf/function for  more details.\n"
     ]
    },
    {
     "name": "stderr",
     "output_type": "stream",
     "text": [
      "WARNING:tensorflow:11 out of the last 11 calls to <function Model.make_test_function.<locals>.test_function at 0x7fc02f840c10> triggered tf.function retracing. Tracing is expensive and the excessive number of tracings could be due to (1) creating @tf.function repeatedly in a loop, (2) passing tensors with different shapes, (3) passing Python objects instead of tensors. For (1), please define your @tf.function outside of the loop. For (2), @tf.function has experimental_relax_shapes=True option that relaxes argument shapes that can avoid unnecessary retracing. For (3), please refer to https://www.tensorflow.org/guide/function#controlling_retracing and https://www.tensorflow.org/api_docs/python/tf/function for  more details.\n",
      "WARNING:absl:Found untraced functions such as lstm_cell_164_layer_call_fn, lstm_cell_164_layer_call_and_return_conditional_losses, lstm_cell_165_layer_call_fn, lstm_cell_165_layer_call_and_return_conditional_losses, lstm_cell_164_layer_call_fn while saving (showing 5 of 10). These functions will not be directly callable after loading.\n",
      "WARNING:absl:Found untraced functions such as lstm_cell_164_layer_call_fn, lstm_cell_164_layer_call_and_return_conditional_losses, lstm_cell_165_layer_call_fn, lstm_cell_165_layer_call_and_return_conditional_losses, lstm_cell_164_layer_call_fn while saving (showing 5 of 10). These functions will not be directly callable after loading.\n"
     ]
    },
    {
     "name": "stdout",
     "output_type": "stream",
     "text": [
      "INFO:tensorflow:Assets written to: LSTM_train_visual/assets\n"
     ]
    },
    {
     "name": "stderr",
     "output_type": "stream",
     "text": [
      "INFO:tensorflow:Assets written to: LSTM_train_visual/assets\n"
     ]
    },
    {
     "name": "stdout",
     "output_type": "stream",
     "text": [
      "Epoch 1/10\n",
      "1/1 [==============================] - 2s 2s/step - loss: 0.5399 - mean_absolute_error: 0.7348\n",
      "Epoch 2/10\n",
      "1/1 [==============================] - 0s 200ms/step - loss: 0.0375 - mean_absolute_error: 0.1936\n",
      "Epoch 3/10\n",
      "1/1 [==============================] - 0s 197ms/step - loss: 0.0497 - mean_absolute_error: 0.2229\n",
      "Epoch 4/10\n",
      "1/1 [==============================] - 0s 196ms/step - loss: 0.0325 - mean_absolute_error: 0.1802\n",
      "Epoch 5/10\n",
      "1/1 [==============================] - 0s 197ms/step - loss: 0.0179 - mean_absolute_error: 0.1337\n",
      "Epoch 6/10\n",
      "1/1 [==============================] - 0s 194ms/step - loss: 7.0464e-04 - mean_absolute_error: 0.0265\n",
      "Epoch 7/10\n",
      "1/1 [==============================] - 0s 196ms/step - loss: 0.0031 - mean_absolute_error: 0.0558\n",
      "Epoch 8/10\n",
      "1/1 [==============================] - 0s 195ms/step - loss: 0.0347 - mean_absolute_error: 0.1864\n",
      "Epoch 9/10\n",
      "1/1 [==============================] - 0s 197ms/step - loss: 0.0027 - mean_absolute_error: 0.0522\n",
      "Epoch 10/10\n",
      "1/1 [==============================] - 0s 196ms/step - loss: 0.0094 - mean_absolute_error: 0.0971\n",
      "WARNING:tensorflow:11 out of the last 11 calls to <function Model.make_test_function.<locals>.test_function at 0x7fc02fba6670> triggered tf.function retracing. Tracing is expensive and the excessive number of tracings could be due to (1) creating @tf.function repeatedly in a loop, (2) passing tensors with different shapes, (3) passing Python objects instead of tensors. For (1), please define your @tf.function outside of the loop. For (2), @tf.function has experimental_relax_shapes=True option that relaxes argument shapes that can avoid unnecessary retracing. For (3), please refer to https://www.tensorflow.org/guide/function#controlling_retracing and https://www.tensorflow.org/api_docs/python/tf/function for  more details.\n"
     ]
    },
    {
     "name": "stderr",
     "output_type": "stream",
     "text": [
      "WARNING:tensorflow:11 out of the last 11 calls to <function Model.make_test_function.<locals>.test_function at 0x7fc02fba6670> triggered tf.function retracing. Tracing is expensive and the excessive number of tracings could be due to (1) creating @tf.function repeatedly in a loop, (2) passing tensors with different shapes, (3) passing Python objects instead of tensors. For (1), please define your @tf.function outside of the loop. For (2), @tf.function has experimental_relax_shapes=True option that relaxes argument shapes that can avoid unnecessary retracing. For (3), please refer to https://www.tensorflow.org/guide/function#controlling_retracing and https://www.tensorflow.org/api_docs/python/tf/function for  more details.\n",
      "WARNING:absl:Found untraced functions such as lstm_cell_166_layer_call_fn, lstm_cell_166_layer_call_and_return_conditional_losses, lstm_cell_167_layer_call_fn, lstm_cell_167_layer_call_and_return_conditional_losses, lstm_cell_166_layer_call_fn while saving (showing 5 of 10). These functions will not be directly callable after loading.\n",
      "WARNING:absl:Found untraced functions such as lstm_cell_166_layer_call_fn, lstm_cell_166_layer_call_and_return_conditional_losses, lstm_cell_167_layer_call_fn, lstm_cell_167_layer_call_and_return_conditional_losses, lstm_cell_166_layer_call_fn while saving (showing 5 of 10). These functions will not be directly callable after loading.\n"
     ]
    },
    {
     "name": "stdout",
     "output_type": "stream",
     "text": [
      "INFO:tensorflow:Assets written to: LSTM_train_visual/assets\n"
     ]
    },
    {
     "name": "stderr",
     "output_type": "stream",
     "text": [
      "INFO:tensorflow:Assets written to: LSTM_train_visual/assets\n"
     ]
    },
    {
     "name": "stdout",
     "output_type": "stream",
     "text": [
      "Epoch 1/10\n",
      "1/1 [==============================] - 3s 3s/step - loss: 0.1095 - mean_absolute_error: 0.3309\n",
      "Epoch 2/10\n",
      "1/1 [==============================] - 0s 137ms/step - loss: 0.0234 - mean_absolute_error: 0.1529\n",
      "Epoch 3/10\n",
      "1/1 [==============================] - 0s 130ms/step - loss: 0.0010 - mean_absolute_error: 0.0321\n",
      "Epoch 4/10\n",
      "1/1 [==============================] - 0s 131ms/step - loss: 0.0203 - mean_absolute_error: 0.1426\n",
      "Epoch 5/10\n",
      "1/1 [==============================] - 0s 132ms/step - loss: 0.0300 - mean_absolute_error: 0.1733\n",
      "Epoch 6/10\n",
      "1/1 [==============================] - 0s 129ms/step - loss: 0.0221 - mean_absolute_error: 0.1487\n",
      "Epoch 7/10\n",
      "1/1 [==============================] - 0s 145ms/step - loss: 0.0105 - mean_absolute_error: 0.1027\n",
      "Epoch 8/10\n",
      "1/1 [==============================] - 0s 147ms/step - loss: 0.0035 - mean_absolute_error: 0.0591\n",
      "Epoch 9/10\n",
      "1/1 [==============================] - 0s 137ms/step - loss: 0.0017 - mean_absolute_error: 0.0414\n",
      "Epoch 10/10\n",
      "1/1 [==============================] - 0s 132ms/step - loss: 0.0022 - mean_absolute_error: 0.0467\n",
      "WARNING:tensorflow:11 out of the last 11 calls to <function Model.make_test_function.<locals>.test_function at 0x7fc0509875e0> triggered tf.function retracing. Tracing is expensive and the excessive number of tracings could be due to (1) creating @tf.function repeatedly in a loop, (2) passing tensors with different shapes, (3) passing Python objects instead of tensors. For (1), please define your @tf.function outside of the loop. For (2), @tf.function has experimental_relax_shapes=True option that relaxes argument shapes that can avoid unnecessary retracing. For (3), please refer to https://www.tensorflow.org/guide/function#controlling_retracing and https://www.tensorflow.org/api_docs/python/tf/function for  more details.\n"
     ]
    },
    {
     "name": "stderr",
     "output_type": "stream",
     "text": [
      "WARNING:tensorflow:11 out of the last 11 calls to <function Model.make_test_function.<locals>.test_function at 0x7fc0509875e0> triggered tf.function retracing. Tracing is expensive and the excessive number of tracings could be due to (1) creating @tf.function repeatedly in a loop, (2) passing tensors with different shapes, (3) passing Python objects instead of tensors. For (1), please define your @tf.function outside of the loop. For (2), @tf.function has experimental_relax_shapes=True option that relaxes argument shapes that can avoid unnecessary retracing. For (3), please refer to https://www.tensorflow.org/guide/function#controlling_retracing and https://www.tensorflow.org/api_docs/python/tf/function for  more details.\n",
      "WARNING:absl:Found untraced functions such as lstm_cell_168_layer_call_fn, lstm_cell_168_layer_call_and_return_conditional_losses, lstm_cell_169_layer_call_fn, lstm_cell_169_layer_call_and_return_conditional_losses, lstm_cell_168_layer_call_fn while saving (showing 5 of 10). These functions will not be directly callable after loading.\n",
      "WARNING:absl:Found untraced functions such as lstm_cell_168_layer_call_fn, lstm_cell_168_layer_call_and_return_conditional_losses, lstm_cell_169_layer_call_fn, lstm_cell_169_layer_call_and_return_conditional_losses, lstm_cell_168_layer_call_fn while saving (showing 5 of 10). These functions will not be directly callable after loading.\n"
     ]
    },
    {
     "name": "stdout",
     "output_type": "stream",
     "text": [
      "INFO:tensorflow:Assets written to: LSTM_train_visual/assets\n"
     ]
    },
    {
     "name": "stderr",
     "output_type": "stream",
     "text": [
      "INFO:tensorflow:Assets written to: LSTM_train_visual/assets\n"
     ]
    },
    {
     "name": "stdout",
     "output_type": "stream",
     "text": [
      "Epoch 1/10\n",
      "1/1 [==============================] - 3s 3s/step - loss: 0.9632 - mean_absolute_error: 0.9814\n",
      "Epoch 2/10\n",
      "1/1 [==============================] - 0s 318ms/step - loss: 0.5652 - mean_absolute_error: 0.7518\n",
      "Epoch 3/10\n",
      "1/1 [==============================] - 0s 298ms/step - loss: 0.2441 - mean_absolute_error: 0.4941\n",
      "Epoch 4/10\n",
      "1/1 [==============================] - 0s 297ms/step - loss: 0.1522 - mean_absolute_error: 0.3901\n",
      "Epoch 5/10\n",
      "1/1 [==============================] - 0s 296ms/step - loss: 0.0467 - mean_absolute_error: 0.2161\n",
      "Epoch 6/10\n",
      "1/1 [==============================] - 0s 306ms/step - loss: 3.2622e-04 - mean_absolute_error: 0.0181\n",
      "Epoch 7/10\n",
      "1/1 [==============================] - 0s 300ms/step - loss: 0.0185 - mean_absolute_error: 0.1359\n",
      "Epoch 8/10\n",
      "1/1 [==============================] - 0s 304ms/step - loss: 0.0517 - mean_absolute_error: 0.2274\n",
      "Epoch 9/10\n",
      "1/1 [==============================] - 0s 296ms/step - loss: 0.0798 - mean_absolute_error: 0.2825\n",
      "Epoch 10/10\n",
      "1/1 [==============================] - 0s 324ms/step - loss: 0.0837 - mean_absolute_error: 0.2893\n",
      "WARNING:tensorflow:11 out of the last 11 calls to <function Model.make_test_function.<locals>.test_function at 0x7fbf50618c10> triggered tf.function retracing. Tracing is expensive and the excessive number of tracings could be due to (1) creating @tf.function repeatedly in a loop, (2) passing tensors with different shapes, (3) passing Python objects instead of tensors. For (1), please define your @tf.function outside of the loop. For (2), @tf.function has experimental_relax_shapes=True option that relaxes argument shapes that can avoid unnecessary retracing. For (3), please refer to https://www.tensorflow.org/guide/function#controlling_retracing and https://www.tensorflow.org/api_docs/python/tf/function for  more details.\n"
     ]
    },
    {
     "name": "stderr",
     "output_type": "stream",
     "text": [
      "WARNING:tensorflow:11 out of the last 11 calls to <function Model.make_test_function.<locals>.test_function at 0x7fbf50618c10> triggered tf.function retracing. Tracing is expensive and the excessive number of tracings could be due to (1) creating @tf.function repeatedly in a loop, (2) passing tensors with different shapes, (3) passing Python objects instead of tensors. For (1), please define your @tf.function outside of the loop. For (2), @tf.function has experimental_relax_shapes=True option that relaxes argument shapes that can avoid unnecessary retracing. For (3), please refer to https://www.tensorflow.org/guide/function#controlling_retracing and https://www.tensorflow.org/api_docs/python/tf/function for  more details.\n",
      "WARNING:absl:Found untraced functions such as lstm_cell_170_layer_call_fn, lstm_cell_170_layer_call_and_return_conditional_losses, lstm_cell_171_layer_call_fn, lstm_cell_171_layer_call_and_return_conditional_losses, lstm_cell_170_layer_call_fn while saving (showing 5 of 10). These functions will not be directly callable after loading.\n",
      "WARNING:absl:Found untraced functions such as lstm_cell_170_layer_call_fn, lstm_cell_170_layer_call_and_return_conditional_losses, lstm_cell_171_layer_call_fn, lstm_cell_171_layer_call_and_return_conditional_losses, lstm_cell_170_layer_call_fn while saving (showing 5 of 10). These functions will not be directly callable after loading.\n"
     ]
    },
    {
     "name": "stdout",
     "output_type": "stream",
     "text": [
      "INFO:tensorflow:Assets written to: LSTM_train_visual/assets\n"
     ]
    },
    {
     "name": "stderr",
     "output_type": "stream",
     "text": [
      "INFO:tensorflow:Assets written to: LSTM_train_visual/assets\n"
     ]
    },
    {
     "name": "stdout",
     "output_type": "stream",
     "text": [
      "Epoch 1/10\n",
      "1/1 [==============================] - 2s 2s/step - loss: 0.0466 - mean_absolute_error: 0.2158\n",
      "Epoch 2/10\n",
      "1/1 [==============================] - 0s 116ms/step - loss: 6.2979e-04 - mean_absolute_error: 0.0251\n",
      "Epoch 3/10\n",
      "1/1 [==============================] - 0s 114ms/step - loss: 0.0183 - mean_absolute_error: 0.1353\n",
      "Epoch 4/10\n",
      "1/1 [==============================] - 0s 102ms/step - loss: 0.0137 - mean_absolute_error: 0.1172\n",
      "Epoch 5/10\n",
      "1/1 [==============================] - 0s 103ms/step - loss: 0.0071 - mean_absolute_error: 0.0845\n",
      "Epoch 6/10\n",
      "1/1 [==============================] - 0s 101ms/step - loss: 0.0012 - mean_absolute_error: 0.0353\n",
      "Epoch 7/10\n",
      "1/1 [==============================] - 0s 103ms/step - loss: 9.8753e-05 - mean_absolute_error: 0.0099\n",
      "Epoch 8/10\n",
      "1/1 [==============================] - 0s 107ms/step - loss: 0.0012 - mean_absolute_error: 0.0343\n",
      "Epoch 9/10\n",
      "1/1 [==============================] - 0s 110ms/step - loss: 0.0019 - mean_absolute_error: 0.0432\n",
      "Epoch 10/10\n",
      "1/1 [==============================] - 0s 103ms/step - loss: 0.0020 - mean_absolute_error: 0.0450\n",
      "WARNING:tensorflow:11 out of the last 11 calls to <function Model.make_test_function.<locals>.test_function at 0x7fbfa041fca0> triggered tf.function retracing. Tracing is expensive and the excessive number of tracings could be due to (1) creating @tf.function repeatedly in a loop, (2) passing tensors with different shapes, (3) passing Python objects instead of tensors. For (1), please define your @tf.function outside of the loop. For (2), @tf.function has experimental_relax_shapes=True option that relaxes argument shapes that can avoid unnecessary retracing. For (3), please refer to https://www.tensorflow.org/guide/function#controlling_retracing and https://www.tensorflow.org/api_docs/python/tf/function for  more details.\n"
     ]
    },
    {
     "name": "stderr",
     "output_type": "stream",
     "text": [
      "WARNING:tensorflow:11 out of the last 11 calls to <function Model.make_test_function.<locals>.test_function at 0x7fbfa041fca0> triggered tf.function retracing. Tracing is expensive and the excessive number of tracings could be due to (1) creating @tf.function repeatedly in a loop, (2) passing tensors with different shapes, (3) passing Python objects instead of tensors. For (1), please define your @tf.function outside of the loop. For (2), @tf.function has experimental_relax_shapes=True option that relaxes argument shapes that can avoid unnecessary retracing. For (3), please refer to https://www.tensorflow.org/guide/function#controlling_retracing and https://www.tensorflow.org/api_docs/python/tf/function for  more details.\n",
      "WARNING:absl:Found untraced functions such as lstm_cell_172_layer_call_fn, lstm_cell_172_layer_call_and_return_conditional_losses, lstm_cell_173_layer_call_fn, lstm_cell_173_layer_call_and_return_conditional_losses, lstm_cell_172_layer_call_fn while saving (showing 5 of 10). These functions will not be directly callable after loading.\n",
      "WARNING:absl:Found untraced functions such as lstm_cell_172_layer_call_fn, lstm_cell_172_layer_call_and_return_conditional_losses, lstm_cell_173_layer_call_fn, lstm_cell_173_layer_call_and_return_conditional_losses, lstm_cell_172_layer_call_fn while saving (showing 5 of 10). These functions will not be directly callable after loading.\n"
     ]
    },
    {
     "name": "stdout",
     "output_type": "stream",
     "text": [
      "INFO:tensorflow:Assets written to: LSTM_train_visual/assets\n"
     ]
    },
    {
     "name": "stderr",
     "output_type": "stream",
     "text": [
      "INFO:tensorflow:Assets written to: LSTM_train_visual/assets\n"
     ]
    },
    {
     "name": "stdout",
     "output_type": "stream",
     "text": [
      "Epoch 1/10\n",
      "1/1 [==============================] - 3s 3s/step - loss: 0.1045 - mean_absolute_error: 0.3232\n",
      "Epoch 2/10\n",
      "1/1 [==============================] - 0s 170ms/step - loss: 0.0164 - mean_absolute_error: 0.1279\n",
      "Epoch 3/10\n",
      "1/1 [==============================] - 0s 176ms/step - loss: 4.8077e-04 - mean_absolute_error: 0.0219\n",
      "Epoch 4/10\n",
      "1/1 [==============================] - 0s 170ms/step - loss: 0.0055 - mean_absolute_error: 0.0743\n",
      "Epoch 5/10\n",
      "1/1 [==============================] - 0s 172ms/step - loss: 0.0104 - mean_absolute_error: 0.1019\n",
      "Epoch 6/10\n",
      "1/1 [==============================] - 0s 175ms/step - loss: 0.0096 - mean_absolute_error: 0.0981\n",
      "Epoch 7/10\n",
      "1/1 [==============================] - 0s 179ms/step - loss: 0.0072 - mean_absolute_error: 0.0851\n",
      "Epoch 8/10\n",
      "1/1 [==============================] - 0s 168ms/step - loss: 0.0019 - mean_absolute_error: 0.0434\n",
      "Epoch 9/10\n",
      "1/1 [==============================] - 0s 211ms/step - loss: 0.0011 - mean_absolute_error: 0.0332\n",
      "Epoch 10/10\n",
      "1/1 [==============================] - 0s 169ms/step - loss: 8.8701e-05 - mean_absolute_error: 0.0094\n",
      "WARNING:tensorflow:11 out of the last 11 calls to <function Model.make_test_function.<locals>.test_function at 0x7fc050b87040> triggered tf.function retracing. Tracing is expensive and the excessive number of tracings could be due to (1) creating @tf.function repeatedly in a loop, (2) passing tensors with different shapes, (3) passing Python objects instead of tensors. For (1), please define your @tf.function outside of the loop. For (2), @tf.function has experimental_relax_shapes=True option that relaxes argument shapes that can avoid unnecessary retracing. For (3), please refer to https://www.tensorflow.org/guide/function#controlling_retracing and https://www.tensorflow.org/api_docs/python/tf/function for  more details.\n"
     ]
    },
    {
     "name": "stderr",
     "output_type": "stream",
     "text": [
      "WARNING:tensorflow:11 out of the last 11 calls to <function Model.make_test_function.<locals>.test_function at 0x7fc050b87040> triggered tf.function retracing. Tracing is expensive and the excessive number of tracings could be due to (1) creating @tf.function repeatedly in a loop, (2) passing tensors with different shapes, (3) passing Python objects instead of tensors. For (1), please define your @tf.function outside of the loop. For (2), @tf.function has experimental_relax_shapes=True option that relaxes argument shapes that can avoid unnecessary retracing. For (3), please refer to https://www.tensorflow.org/guide/function#controlling_retracing and https://www.tensorflow.org/api_docs/python/tf/function for  more details.\n",
      "WARNING:absl:Found untraced functions such as lstm_cell_174_layer_call_fn, lstm_cell_174_layer_call_and_return_conditional_losses, lstm_cell_175_layer_call_fn, lstm_cell_175_layer_call_and_return_conditional_losses, lstm_cell_174_layer_call_fn while saving (showing 5 of 10). These functions will not be directly callable after loading.\n",
      "WARNING:absl:Found untraced functions such as lstm_cell_174_layer_call_fn, lstm_cell_174_layer_call_and_return_conditional_losses, lstm_cell_175_layer_call_fn, lstm_cell_175_layer_call_and_return_conditional_losses, lstm_cell_174_layer_call_fn while saving (showing 5 of 10). These functions will not be directly callable after loading.\n"
     ]
    },
    {
     "name": "stdout",
     "output_type": "stream",
     "text": [
      "INFO:tensorflow:Assets written to: LSTM_train_visual/assets\n"
     ]
    },
    {
     "name": "stderr",
     "output_type": "stream",
     "text": [
      "INFO:tensorflow:Assets written to: LSTM_train_visual/assets\n"
     ]
    },
    {
     "name": "stdout",
     "output_type": "stream",
     "text": [
      "Epoch 1/10\n",
      "1/1 [==============================] - 3s 3s/step - loss: 1.1695 - mean_absolute_error: 1.0814\n",
      "Epoch 2/10\n",
      "1/1 [==============================] - 0s 423ms/step - loss: 0.7472 - mean_absolute_error: 0.8644\n",
      "Epoch 3/10\n",
      "1/1 [==============================] - 0s 468ms/step - loss: 0.4979 - mean_absolute_error: 0.7056\n",
      "Epoch 4/10\n",
      "1/1 [==============================] - 0s 427ms/step - loss: 0.3000 - mean_absolute_error: 0.5477\n",
      "Epoch 5/10\n",
      "1/1 [==============================] - 0s 473ms/step - loss: 0.1718 - mean_absolute_error: 0.4145\n",
      "Epoch 6/10\n",
      "1/1 [==============================] - 0s 422ms/step - loss: 0.0757 - mean_absolute_error: 0.2752\n",
      "Epoch 7/10\n",
      "1/1 [==============================] - 0s 423ms/step - loss: 0.0323 - mean_absolute_error: 0.1798\n",
      "Epoch 8/10\n",
      "1/1 [==============================] - 0s 442ms/step - loss: 2.8436e-05 - mean_absolute_error: 0.0053\n",
      "Epoch 9/10\n",
      "1/1 [==============================] - 0s 479ms/step - loss: 0.0132 - mean_absolute_error: 0.1147\n",
      "Epoch 10/10\n",
      "1/1 [==============================] - 0s 473ms/step - loss: 0.0285 - mean_absolute_error: 0.1687\n",
      "WARNING:tensorflow:11 out of the last 11 calls to <function Model.make_test_function.<locals>.test_function at 0x7fc03d2308b0> triggered tf.function retracing. Tracing is expensive and the excessive number of tracings could be due to (1) creating @tf.function repeatedly in a loop, (2) passing tensors with different shapes, (3) passing Python objects instead of tensors. For (1), please define your @tf.function outside of the loop. For (2), @tf.function has experimental_relax_shapes=True option that relaxes argument shapes that can avoid unnecessary retracing. For (3), please refer to https://www.tensorflow.org/guide/function#controlling_retracing and https://www.tensorflow.org/api_docs/python/tf/function for  more details.\n"
     ]
    },
    {
     "name": "stderr",
     "output_type": "stream",
     "text": [
      "WARNING:tensorflow:11 out of the last 11 calls to <function Model.make_test_function.<locals>.test_function at 0x7fc03d2308b0> triggered tf.function retracing. Tracing is expensive and the excessive number of tracings could be due to (1) creating @tf.function repeatedly in a loop, (2) passing tensors with different shapes, (3) passing Python objects instead of tensors. For (1), please define your @tf.function outside of the loop. For (2), @tf.function has experimental_relax_shapes=True option that relaxes argument shapes that can avoid unnecessary retracing. For (3), please refer to https://www.tensorflow.org/guide/function#controlling_retracing and https://www.tensorflow.org/api_docs/python/tf/function for  more details.\n",
      "WARNING:absl:Found untraced functions such as lstm_cell_176_layer_call_fn, lstm_cell_176_layer_call_and_return_conditional_losses, lstm_cell_177_layer_call_fn, lstm_cell_177_layer_call_and_return_conditional_losses, lstm_cell_176_layer_call_fn while saving (showing 5 of 10). These functions will not be directly callable after loading.\n",
      "WARNING:absl:Found untraced functions such as lstm_cell_176_layer_call_fn, lstm_cell_176_layer_call_and_return_conditional_losses, lstm_cell_177_layer_call_fn, lstm_cell_177_layer_call_and_return_conditional_losses, lstm_cell_176_layer_call_fn while saving (showing 5 of 10). These functions will not be directly callable after loading.\n"
     ]
    },
    {
     "name": "stdout",
     "output_type": "stream",
     "text": [
      "INFO:tensorflow:Assets written to: LSTM_train_visual/assets\n"
     ]
    },
    {
     "name": "stderr",
     "output_type": "stream",
     "text": [
      "INFO:tensorflow:Assets written to: LSTM_train_visual/assets\n"
     ]
    },
    {
     "name": "stdout",
     "output_type": "stream",
     "text": [
      "Epoch 1/10\n",
      "1/1 [==============================] - 2s 2s/step - loss: 0.0415 - mean_absolute_error: 0.2036\n",
      "Epoch 2/10\n",
      "1/1 [==============================] - 0s 341ms/step - loss: 3.4213e-04 - mean_absolute_error: 0.0185\n",
      "Epoch 3/10\n",
      "1/1 [==============================] - 0s 334ms/step - loss: 0.0203 - mean_absolute_error: 0.1425\n",
      "Epoch 4/10\n",
      "1/1 [==============================] - 0s 337ms/step - loss: 0.0136 - mean_absolute_error: 0.1168\n",
      "Epoch 5/10\n",
      "1/1 [==============================] - 0s 342ms/step - loss: 0.0039 - mean_absolute_error: 0.0623\n",
      "Epoch 6/10\n",
      "1/1 [==============================] - 0s 372ms/step - loss: 7.7357e-05 - mean_absolute_error: 0.0088\n",
      "Epoch 7/10\n",
      "1/1 [==============================] - 0s 336ms/step - loss: 0.0012 - mean_absolute_error: 0.0349\n",
      "Epoch 8/10\n",
      "1/1 [==============================] - 0s 368ms/step - loss: 0.0033 - mean_absolute_error: 0.0571\n",
      "Epoch 9/10\n",
      "1/1 [==============================] - 0s 337ms/step - loss: 0.0044 - mean_absolute_error: 0.0663\n",
      "Epoch 10/10\n",
      "1/1 [==============================] - 0s 336ms/step - loss: 0.0028 - mean_absolute_error: 0.0530\n",
      "WARNING:tensorflow:11 out of the last 11 calls to <function Model.make_test_function.<locals>.test_function at 0x7fc050b7d550> triggered tf.function retracing. Tracing is expensive and the excessive number of tracings could be due to (1) creating @tf.function repeatedly in a loop, (2) passing tensors with different shapes, (3) passing Python objects instead of tensors. For (1), please define your @tf.function outside of the loop. For (2), @tf.function has experimental_relax_shapes=True option that relaxes argument shapes that can avoid unnecessary retracing. For (3), please refer to https://www.tensorflow.org/guide/function#controlling_retracing and https://www.tensorflow.org/api_docs/python/tf/function for  more details.\n"
     ]
    },
    {
     "name": "stderr",
     "output_type": "stream",
     "text": [
      "WARNING:tensorflow:11 out of the last 11 calls to <function Model.make_test_function.<locals>.test_function at 0x7fc050b7d550> triggered tf.function retracing. Tracing is expensive and the excessive number of tracings could be due to (1) creating @tf.function repeatedly in a loop, (2) passing tensors with different shapes, (3) passing Python objects instead of tensors. For (1), please define your @tf.function outside of the loop. For (2), @tf.function has experimental_relax_shapes=True option that relaxes argument shapes that can avoid unnecessary retracing. For (3), please refer to https://www.tensorflow.org/guide/function#controlling_retracing and https://www.tensorflow.org/api_docs/python/tf/function for  more details.\n",
      "WARNING:absl:Found untraced functions such as lstm_cell_178_layer_call_fn, lstm_cell_178_layer_call_and_return_conditional_losses, lstm_cell_179_layer_call_fn, lstm_cell_179_layer_call_and_return_conditional_losses, lstm_cell_178_layer_call_fn while saving (showing 5 of 10). These functions will not be directly callable after loading.\n",
      "WARNING:absl:Found untraced functions such as lstm_cell_178_layer_call_fn, lstm_cell_178_layer_call_and_return_conditional_losses, lstm_cell_179_layer_call_fn, lstm_cell_179_layer_call_and_return_conditional_losses, lstm_cell_178_layer_call_fn while saving (showing 5 of 10). These functions will not be directly callable after loading.\n"
     ]
    },
    {
     "name": "stdout",
     "output_type": "stream",
     "text": [
      "INFO:tensorflow:Assets written to: LSTM_train_visual/assets\n"
     ]
    },
    {
     "name": "stderr",
     "output_type": "stream",
     "text": [
      "INFO:tensorflow:Assets written to: LSTM_train_visual/assets\n"
     ]
    },
    {
     "name": "stdout",
     "output_type": "stream",
     "text": [
      "Epoch 1/10\n",
      "1/1 [==============================] - 3s 3s/step - loss: 0.2982 - mean_absolute_error: 0.5461\n",
      "Epoch 2/10\n",
      "1/1 [==============================] - 0s 145ms/step - loss: 0.0451 - mean_absolute_error: 0.2124\n",
      "Epoch 3/10\n",
      "1/1 [==============================] - 0s 140ms/step - loss: 8.0188e-04 - mean_absolute_error: 0.0283\n",
      "Epoch 4/10\n",
      "1/1 [==============================] - 0s 117ms/step - loss: 0.0147 - mean_absolute_error: 0.1214\n",
      "Epoch 5/10\n",
      "1/1 [==============================] - 0s 121ms/step - loss: 0.0246 - mean_absolute_error: 0.1569\n",
      "Epoch 6/10\n",
      "1/1 [==============================] - 0s 143ms/step - loss: 0.0223 - mean_absolute_error: 0.1493\n",
      "Epoch 7/10\n",
      "1/1 [==============================] - 0s 128ms/step - loss: 0.0127 - mean_absolute_error: 0.1127\n",
      "Epoch 8/10\n",
      "1/1 [==============================] - 0s 116ms/step - loss: 0.0041 - mean_absolute_error: 0.0643\n",
      "Epoch 9/10\n",
      "1/1 [==============================] - 0s 115ms/step - loss: 1.2610e-05 - mean_absolute_error: 0.0036\n",
      "Epoch 10/10\n",
      "1/1 [==============================] - 0s 121ms/step - loss: 2.0464e-04 - mean_absolute_error: 0.0143\n",
      "WARNING:tensorflow:11 out of the last 11 calls to <function Model.make_test_function.<locals>.test_function at 0x7fc050b5c0d0> triggered tf.function retracing. Tracing is expensive and the excessive number of tracings could be due to (1) creating @tf.function repeatedly in a loop, (2) passing tensors with different shapes, (3) passing Python objects instead of tensors. For (1), please define your @tf.function outside of the loop. For (2), @tf.function has experimental_relax_shapes=True option that relaxes argument shapes that can avoid unnecessary retracing. For (3), please refer to https://www.tensorflow.org/guide/function#controlling_retracing and https://www.tensorflow.org/api_docs/python/tf/function for  more details.\n"
     ]
    },
    {
     "name": "stderr",
     "output_type": "stream",
     "text": [
      "WARNING:tensorflow:11 out of the last 11 calls to <function Model.make_test_function.<locals>.test_function at 0x7fc050b5c0d0> triggered tf.function retracing. Tracing is expensive and the excessive number of tracings could be due to (1) creating @tf.function repeatedly in a loop, (2) passing tensors with different shapes, (3) passing Python objects instead of tensors. For (1), please define your @tf.function outside of the loop. For (2), @tf.function has experimental_relax_shapes=True option that relaxes argument shapes that can avoid unnecessary retracing. For (3), please refer to https://www.tensorflow.org/guide/function#controlling_retracing and https://www.tensorflow.org/api_docs/python/tf/function for  more details.\n",
      "WARNING:absl:Found untraced functions such as lstm_cell_180_layer_call_fn, lstm_cell_180_layer_call_and_return_conditional_losses, lstm_cell_181_layer_call_fn, lstm_cell_181_layer_call_and_return_conditional_losses, lstm_cell_180_layer_call_fn while saving (showing 5 of 10). These functions will not be directly callable after loading.\n",
      "WARNING:absl:Found untraced functions such as lstm_cell_180_layer_call_fn, lstm_cell_180_layer_call_and_return_conditional_losses, lstm_cell_181_layer_call_fn, lstm_cell_181_layer_call_and_return_conditional_losses, lstm_cell_180_layer_call_fn while saving (showing 5 of 10). These functions will not be directly callable after loading.\n"
     ]
    },
    {
     "name": "stdout",
     "output_type": "stream",
     "text": [
      "INFO:tensorflow:Assets written to: LSTM_train_visual/assets\n"
     ]
    },
    {
     "name": "stderr",
     "output_type": "stream",
     "text": [
      "INFO:tensorflow:Assets written to: LSTM_train_visual/assets\n"
     ]
    },
    {
     "name": "stdout",
     "output_type": "stream",
     "text": [
      "Epoch 1/10\n",
      "1/1 [==============================] - 2s 2s/step - loss: 5.3684 - mean_absolute_error: 2.3170\n",
      "Epoch 2/10\n",
      "1/1 [==============================] - 0s 117ms/step - loss: 4.5658 - mean_absolute_error: 2.1368\n",
      "Epoch 3/10\n",
      "1/1 [==============================] - 0s 136ms/step - loss: 3.7280 - mean_absolute_error: 1.9308\n",
      "Epoch 4/10\n",
      "1/1 [==============================] - 0s 110ms/step - loss: 3.2523 - mean_absolute_error: 1.8034\n",
      "Epoch 5/10\n",
      "1/1 [==============================] - 0s 123ms/step - loss: 2.8007 - mean_absolute_error: 1.6735\n",
      "Epoch 6/10\n",
      "1/1 [==============================] - 0s 109ms/step - loss: 2.4168 - mean_absolute_error: 1.5546\n",
      "Epoch 7/10\n",
      "1/1 [==============================] - 0s 115ms/step - loss: 2.0330 - mean_absolute_error: 1.4258\n",
      "Epoch 8/10\n",
      "1/1 [==============================] - 0s 109ms/step - loss: 1.6976 - mean_absolute_error: 1.3029\n",
      "Epoch 9/10\n",
      "1/1 [==============================] - 0s 111ms/step - loss: 1.3869 - mean_absolute_error: 1.1777\n",
      "Epoch 10/10\n",
      "1/1 [==============================] - 0s 111ms/step - loss: 1.0328 - mean_absolute_error: 1.0163\n",
      "WARNING:tensorflow:11 out of the last 11 calls to <function Model.make_test_function.<locals>.test_function at 0x7fbf3fed6d30> triggered tf.function retracing. Tracing is expensive and the excessive number of tracings could be due to (1) creating @tf.function repeatedly in a loop, (2) passing tensors with different shapes, (3) passing Python objects instead of tensors. For (1), please define your @tf.function outside of the loop. For (2), @tf.function has experimental_relax_shapes=True option that relaxes argument shapes that can avoid unnecessary retracing. For (3), please refer to https://www.tensorflow.org/guide/function#controlling_retracing and https://www.tensorflow.org/api_docs/python/tf/function for  more details.\n"
     ]
    },
    {
     "name": "stderr",
     "output_type": "stream",
     "text": [
      "WARNING:tensorflow:11 out of the last 11 calls to <function Model.make_test_function.<locals>.test_function at 0x7fbf3fed6d30> triggered tf.function retracing. Tracing is expensive and the excessive number of tracings could be due to (1) creating @tf.function repeatedly in a loop, (2) passing tensors with different shapes, (3) passing Python objects instead of tensors. For (1), please define your @tf.function outside of the loop. For (2), @tf.function has experimental_relax_shapes=True option that relaxes argument shapes that can avoid unnecessary retracing. For (3), please refer to https://www.tensorflow.org/guide/function#controlling_retracing and https://www.tensorflow.org/api_docs/python/tf/function for  more details.\n",
      "WARNING:absl:Found untraced functions such as lstm_cell_182_layer_call_fn, lstm_cell_182_layer_call_and_return_conditional_losses, lstm_cell_183_layer_call_fn, lstm_cell_183_layer_call_and_return_conditional_losses, lstm_cell_182_layer_call_fn while saving (showing 5 of 10). These functions will not be directly callable after loading.\n",
      "WARNING:absl:Found untraced functions such as lstm_cell_182_layer_call_fn, lstm_cell_182_layer_call_and_return_conditional_losses, lstm_cell_183_layer_call_fn, lstm_cell_183_layer_call_and_return_conditional_losses, lstm_cell_182_layer_call_fn while saving (showing 5 of 10). These functions will not be directly callable after loading.\n"
     ]
    },
    {
     "name": "stdout",
     "output_type": "stream",
     "text": [
      "INFO:tensorflow:Assets written to: LSTM_train_visual/assets\n"
     ]
    },
    {
     "name": "stderr",
     "output_type": "stream",
     "text": [
      "INFO:tensorflow:Assets written to: LSTM_train_visual/assets\n"
     ]
    },
    {
     "name": "stdout",
     "output_type": "stream",
     "text": [
      "Epoch 1/10\n",
      "1/1 [==============================] - 3s 3s/step - loss: 3.2412 - mean_absolute_error: 1.8003\n",
      "Epoch 2/10\n",
      "1/1 [==============================] - 1s 990ms/step - loss: 2.5266 - mean_absolute_error: 1.5895\n",
      "Epoch 3/10\n",
      "1/1 [==============================] - 1s 895ms/step - loss: 1.4981 - mean_absolute_error: 1.2240\n",
      "Epoch 4/10\n",
      "1/1 [==============================] - 1s 891ms/step - loss: 0.8476 - mean_absolute_error: 0.9207\n",
      "Epoch 5/10\n",
      "1/1 [==============================] - 1s 1s/step - loss: 0.2447 - mean_absolute_error: 0.4947\n",
      "Epoch 6/10\n",
      "1/1 [==============================] - 1s 936ms/step - loss: 0.0192 - mean_absolute_error: 0.1385\n",
      "Epoch 7/10\n",
      "1/1 [==============================] - 1s 986ms/step - loss: 0.1891 - mean_absolute_error: 0.4348\n",
      "Epoch 8/10\n",
      "1/1 [==============================] - 1s 935ms/step - loss: 0.1774 - mean_absolute_error: 0.4212\n",
      "Epoch 9/10\n",
      "1/1 [==============================] - 1s 958ms/step - loss: 0.0884 - mean_absolute_error: 0.2973\n",
      "Epoch 10/10\n",
      "1/1 [==============================] - 1s 935ms/step - loss: 0.0299 - mean_absolute_error: 0.1730\n",
      "WARNING:tensorflow:11 out of the last 11 calls to <function Model.make_test_function.<locals>.test_function at 0x7fc02fd57ca0> triggered tf.function retracing. Tracing is expensive and the excessive number of tracings could be due to (1) creating @tf.function repeatedly in a loop, (2) passing tensors with different shapes, (3) passing Python objects instead of tensors. For (1), please define your @tf.function outside of the loop. For (2), @tf.function has experimental_relax_shapes=True option that relaxes argument shapes that can avoid unnecessary retracing. For (3), please refer to https://www.tensorflow.org/guide/function#controlling_retracing and https://www.tensorflow.org/api_docs/python/tf/function for  more details.\n"
     ]
    },
    {
     "name": "stderr",
     "output_type": "stream",
     "text": [
      "WARNING:tensorflow:11 out of the last 11 calls to <function Model.make_test_function.<locals>.test_function at 0x7fc02fd57ca0> triggered tf.function retracing. Tracing is expensive and the excessive number of tracings could be due to (1) creating @tf.function repeatedly in a loop, (2) passing tensors with different shapes, (3) passing Python objects instead of tensors. For (1), please define your @tf.function outside of the loop. For (2), @tf.function has experimental_relax_shapes=True option that relaxes argument shapes that can avoid unnecessary retracing. For (3), please refer to https://www.tensorflow.org/guide/function#controlling_retracing and https://www.tensorflow.org/api_docs/python/tf/function for  more details.\n",
      "WARNING:absl:Found untraced functions such as lstm_cell_184_layer_call_fn, lstm_cell_184_layer_call_and_return_conditional_losses, lstm_cell_185_layer_call_fn, lstm_cell_185_layer_call_and_return_conditional_losses, lstm_cell_184_layer_call_fn while saving (showing 5 of 10). These functions will not be directly callable after loading.\n",
      "WARNING:absl:Found untraced functions such as lstm_cell_184_layer_call_fn, lstm_cell_184_layer_call_and_return_conditional_losses, lstm_cell_185_layer_call_fn, lstm_cell_185_layer_call_and_return_conditional_losses, lstm_cell_184_layer_call_fn while saving (showing 5 of 10). These functions will not be directly callable after loading.\n"
     ]
    },
    {
     "name": "stdout",
     "output_type": "stream",
     "text": [
      "INFO:tensorflow:Assets written to: LSTM_train_visual/assets\n"
     ]
    },
    {
     "name": "stderr",
     "output_type": "stream",
     "text": [
      "INFO:tensorflow:Assets written to: LSTM_train_visual/assets\n"
     ]
    },
    {
     "name": "stdout",
     "output_type": "stream",
     "text": [
      "Epoch 1/10\n",
      "1/1 [==============================] - 3s 3s/step - loss: 0.0775 - mean_absolute_error: 0.2784\n",
      "Epoch 2/10\n",
      "1/1 [==============================] - 1s 1s/step - loss: 0.0174 - mean_absolute_error: 0.1318\n",
      "Epoch 3/10\n",
      "1/1 [==============================] - 1s 1s/step - loss: 0.0156 - mean_absolute_error: 0.1249\n",
      "Epoch 4/10\n",
      "1/1 [==============================] - 1s 1s/step - loss: 0.0114 - mean_absolute_error: 0.1067\n",
      "Epoch 5/10\n",
      "1/1 [==============================] - 1s 1s/step - loss: 0.0048 - mean_absolute_error: 0.0690\n",
      "Epoch 6/10\n",
      "1/1 [==============================] - 2s 2s/step - loss: 2.9911e-04 - mean_absolute_error: 0.0173\n",
      "Epoch 7/10\n",
      "1/1 [==============================] - 1s 1s/step - loss: 1.8324e-04 - mean_absolute_error: 0.0135\n",
      "Epoch 8/10\n",
      "1/1 [==============================] - 1s 1s/step - loss: 0.0025 - mean_absolute_error: 0.0504\n",
      "Epoch 9/10\n",
      "1/1 [==============================] - 1s 1s/step - loss: 0.0017 - mean_absolute_error: 0.0414\n",
      "Epoch 10/10\n",
      "1/1 [==============================] - 1s 1s/step - loss: 0.0015 - mean_absolute_error: 0.0385\n",
      "WARNING:tensorflow:11 out of the last 11 calls to <function Model.make_test_function.<locals>.test_function at 0x7fbfda8ea940> triggered tf.function retracing. Tracing is expensive and the excessive number of tracings could be due to (1) creating @tf.function repeatedly in a loop, (2) passing tensors with different shapes, (3) passing Python objects instead of tensors. For (1), please define your @tf.function outside of the loop. For (2), @tf.function has experimental_relax_shapes=True option that relaxes argument shapes that can avoid unnecessary retracing. For (3), please refer to https://www.tensorflow.org/guide/function#controlling_retracing and https://www.tensorflow.org/api_docs/python/tf/function for  more details.\n"
     ]
    },
    {
     "name": "stderr",
     "output_type": "stream",
     "text": [
      "WARNING:tensorflow:11 out of the last 11 calls to <function Model.make_test_function.<locals>.test_function at 0x7fbfda8ea940> triggered tf.function retracing. Tracing is expensive and the excessive number of tracings could be due to (1) creating @tf.function repeatedly in a loop, (2) passing tensors with different shapes, (3) passing Python objects instead of tensors. For (1), please define your @tf.function outside of the loop. For (2), @tf.function has experimental_relax_shapes=True option that relaxes argument shapes that can avoid unnecessary retracing. For (3), please refer to https://www.tensorflow.org/guide/function#controlling_retracing and https://www.tensorflow.org/api_docs/python/tf/function for  more details.\n",
      "WARNING:absl:Found untraced functions such as lstm_cell_186_layer_call_fn, lstm_cell_186_layer_call_and_return_conditional_losses, lstm_cell_187_layer_call_fn, lstm_cell_187_layer_call_and_return_conditional_losses, lstm_cell_186_layer_call_fn while saving (showing 5 of 10). These functions will not be directly callable after loading.\n",
      "WARNING:absl:Found untraced functions such as lstm_cell_186_layer_call_fn, lstm_cell_186_layer_call_and_return_conditional_losses, lstm_cell_187_layer_call_fn, lstm_cell_187_layer_call_and_return_conditional_losses, lstm_cell_186_layer_call_fn while saving (showing 5 of 10). These functions will not be directly callable after loading.\n"
     ]
    },
    {
     "name": "stdout",
     "output_type": "stream",
     "text": [
      "INFO:tensorflow:Assets written to: LSTM_train_visual/assets\n"
     ]
    },
    {
     "name": "stderr",
     "output_type": "stream",
     "text": [
      "INFO:tensorflow:Assets written to: LSTM_train_visual/assets\n"
     ]
    },
    {
     "name": "stdout",
     "output_type": "stream",
     "text": [
      "Epoch 1/10\n",
      "1/1 [==============================] - 3s 3s/step - loss: 1.1906 - mean_absolute_error: 1.0911\n",
      "Epoch 2/10\n",
      "1/1 [==============================] - 0s 265ms/step - loss: 0.9192 - mean_absolute_error: 0.9587\n",
      "Epoch 3/10\n",
      "1/1 [==============================] - 0s 263ms/step - loss: 0.7157 - mean_absolute_error: 0.8460\n",
      "Epoch 4/10\n",
      "1/1 [==============================] - 0s 213ms/step - loss: 0.5117 - mean_absolute_error: 0.7153\n",
      "Epoch 5/10\n",
      "1/1 [==============================] - 0s 215ms/step - loss: 0.3455 - mean_absolute_error: 0.5878\n",
      "Epoch 6/10\n",
      "1/1 [==============================] - 0s 211ms/step - loss: 0.1820 - mean_absolute_error: 0.4266\n",
      "Epoch 7/10\n",
      "1/1 [==============================] - 0s 211ms/step - loss: 0.0617 - mean_absolute_error: 0.2483\n",
      "Epoch 8/10\n",
      "1/1 [==============================] - 0s 208ms/step - loss: 0.0026 - mean_absolute_error: 0.0514\n",
      "Epoch 9/10\n",
      "1/1 [==============================] - 0s 210ms/step - loss: 0.0237 - mean_absolute_error: 0.1538\n",
      "Epoch 10/10\n",
      "1/1 [==============================] - 0s 211ms/step - loss: 0.0682 - mean_absolute_error: 0.2612\n",
      "WARNING:tensorflow:11 out of the last 11 calls to <function Model.make_test_function.<locals>.test_function at 0x7fbfda88b280> triggered tf.function retracing. Tracing is expensive and the excessive number of tracings could be due to (1) creating @tf.function repeatedly in a loop, (2) passing tensors with different shapes, (3) passing Python objects instead of tensors. For (1), please define your @tf.function outside of the loop. For (2), @tf.function has experimental_relax_shapes=True option that relaxes argument shapes that can avoid unnecessary retracing. For (3), please refer to https://www.tensorflow.org/guide/function#controlling_retracing and https://www.tensorflow.org/api_docs/python/tf/function for  more details.\n"
     ]
    },
    {
     "name": "stderr",
     "output_type": "stream",
     "text": [
      "WARNING:tensorflow:11 out of the last 11 calls to <function Model.make_test_function.<locals>.test_function at 0x7fbfda88b280> triggered tf.function retracing. Tracing is expensive and the excessive number of tracings could be due to (1) creating @tf.function repeatedly in a loop, (2) passing tensors with different shapes, (3) passing Python objects instead of tensors. For (1), please define your @tf.function outside of the loop. For (2), @tf.function has experimental_relax_shapes=True option that relaxes argument shapes that can avoid unnecessary retracing. For (3), please refer to https://www.tensorflow.org/guide/function#controlling_retracing and https://www.tensorflow.org/api_docs/python/tf/function for  more details.\n",
      "WARNING:absl:Found untraced functions such as lstm_cell_188_layer_call_fn, lstm_cell_188_layer_call_and_return_conditional_losses, lstm_cell_189_layer_call_fn, lstm_cell_189_layer_call_and_return_conditional_losses, lstm_cell_188_layer_call_fn while saving (showing 5 of 10). These functions will not be directly callable after loading.\n",
      "WARNING:absl:Found untraced functions such as lstm_cell_188_layer_call_fn, lstm_cell_188_layer_call_and_return_conditional_losses, lstm_cell_189_layer_call_fn, lstm_cell_189_layer_call_and_return_conditional_losses, lstm_cell_188_layer_call_fn while saving (showing 5 of 10). These functions will not be directly callable after loading.\n"
     ]
    },
    {
     "name": "stdout",
     "output_type": "stream",
     "text": [
      "INFO:tensorflow:Assets written to: LSTM_train_visual/assets\n"
     ]
    },
    {
     "name": "stderr",
     "output_type": "stream",
     "text": [
      "INFO:tensorflow:Assets written to: LSTM_train_visual/assets\n"
     ]
    },
    {
     "name": "stdout",
     "output_type": "stream",
     "text": [
      "Epoch 1/10\n",
      "1/1 [==============================] - 3s 3s/step - loss: 3.2924 - mean_absolute_error: 1.8145\n",
      "Epoch 2/10\n",
      "1/1 [==============================] - 0s 344ms/step - loss: 1.8500 - mean_absolute_error: 1.3601\n",
      "Epoch 3/10\n",
      "1/1 [==============================] - 0s 339ms/step - loss: 1.1633 - mean_absolute_error: 1.0786\n",
      "Epoch 4/10\n",
      "1/1 [==============================] - 0s 420ms/step - loss: 0.6006 - mean_absolute_error: 0.7750\n",
      "Epoch 5/10\n",
      "1/1 [==============================] - 0s 418ms/step - loss: 0.1735 - mean_absolute_error: 0.4165\n",
      "Epoch 6/10\n",
      "1/1 [==============================] - 0s 343ms/step - loss: 0.0119 - mean_absolute_error: 0.1090\n",
      "Epoch 7/10\n",
      "1/1 [==============================] - 0s 346ms/step - loss: 0.0842 - mean_absolute_error: 0.2902\n",
      "Epoch 8/10\n",
      "1/1 [==============================] - 0s 344ms/step - loss: 0.1107 - mean_absolute_error: 0.3328\n",
      "Epoch 9/10\n",
      "1/1 [==============================] - 0s 342ms/step - loss: 0.0958 - mean_absolute_error: 0.3096\n",
      "Epoch 10/10\n",
      "1/1 [==============================] - 0s 345ms/step - loss: 0.0455 - mean_absolute_error: 0.2133\n",
      "WARNING:tensorflow:11 out of the last 11 calls to <function Model.make_test_function.<locals>.test_function at 0x7fc050738c10> triggered tf.function retracing. Tracing is expensive and the excessive number of tracings could be due to (1) creating @tf.function repeatedly in a loop, (2) passing tensors with different shapes, (3) passing Python objects instead of tensors. For (1), please define your @tf.function outside of the loop. For (2), @tf.function has experimental_relax_shapes=True option that relaxes argument shapes that can avoid unnecessary retracing. For (3), please refer to https://www.tensorflow.org/guide/function#controlling_retracing and https://www.tensorflow.org/api_docs/python/tf/function for  more details.\n"
     ]
    },
    {
     "name": "stderr",
     "output_type": "stream",
     "text": [
      "WARNING:tensorflow:11 out of the last 11 calls to <function Model.make_test_function.<locals>.test_function at 0x7fc050738c10> triggered tf.function retracing. Tracing is expensive and the excessive number of tracings could be due to (1) creating @tf.function repeatedly in a loop, (2) passing tensors with different shapes, (3) passing Python objects instead of tensors. For (1), please define your @tf.function outside of the loop. For (2), @tf.function has experimental_relax_shapes=True option that relaxes argument shapes that can avoid unnecessary retracing. For (3), please refer to https://www.tensorflow.org/guide/function#controlling_retracing and https://www.tensorflow.org/api_docs/python/tf/function for  more details.\n",
      "WARNING:absl:Found untraced functions such as lstm_cell_190_layer_call_fn, lstm_cell_190_layer_call_and_return_conditional_losses, lstm_cell_191_layer_call_fn, lstm_cell_191_layer_call_and_return_conditional_losses, lstm_cell_190_layer_call_fn while saving (showing 5 of 10). These functions will not be directly callable after loading.\n",
      "WARNING:absl:Found untraced functions such as lstm_cell_190_layer_call_fn, lstm_cell_190_layer_call_and_return_conditional_losses, lstm_cell_191_layer_call_fn, lstm_cell_191_layer_call_and_return_conditional_losses, lstm_cell_190_layer_call_fn while saving (showing 5 of 10). These functions will not be directly callable after loading.\n"
     ]
    },
    {
     "name": "stdout",
     "output_type": "stream",
     "text": [
      "INFO:tensorflow:Assets written to: LSTM_train_visual/assets\n"
     ]
    },
    {
     "name": "stderr",
     "output_type": "stream",
     "text": [
      "INFO:tensorflow:Assets written to: LSTM_train_visual/assets\n"
     ]
    },
    {
     "name": "stdout",
     "output_type": "stream",
     "text": [
      "Epoch 1/10\n",
      "1/1 [==============================] - 3s 3s/step - loss: 1.2617 - mean_absolute_error: 1.1232\n",
      "Epoch 2/10\n",
      "1/1 [==============================] - 0s 276ms/step - loss: 0.3723 - mean_absolute_error: 0.6101\n",
      "Epoch 3/10\n",
      "1/1 [==============================] - 0s 273ms/step - loss: 0.1014 - mean_absolute_error: 0.3184\n",
      "Epoch 4/10\n",
      "1/1 [==============================] - 0s 270ms/step - loss: 0.0023 - mean_absolute_error: 0.0477\n",
      "Epoch 5/10\n",
      "1/1 [==============================] - 0s 295ms/step - loss: 0.0326 - mean_absolute_error: 0.1807\n",
      "Epoch 6/10\n",
      "1/1 [==============================] - 0s 273ms/step - loss: 0.0607 - mean_absolute_error: 0.2465\n",
      "Epoch 7/10\n",
      "1/1 [==============================] - 0s 275ms/step - loss: 0.0453 - mean_absolute_error: 0.2128\n",
      "Epoch 8/10\n",
      "1/1 [==============================] - 0s 270ms/step - loss: 0.0430 - mean_absolute_error: 0.2073\n",
      "Epoch 9/10\n",
      "1/1 [==============================] - 0s 312ms/step - loss: 0.0258 - mean_absolute_error: 0.1608\n",
      "Epoch 10/10\n",
      "1/1 [==============================] - 0s 276ms/step - loss: 0.0077 - mean_absolute_error: 0.0880\n",
      "WARNING:tensorflow:11 out of the last 11 calls to <function Model.make_test_function.<locals>.test_function at 0x7fbf64176280> triggered tf.function retracing. Tracing is expensive and the excessive number of tracings could be due to (1) creating @tf.function repeatedly in a loop, (2) passing tensors with different shapes, (3) passing Python objects instead of tensors. For (1), please define your @tf.function outside of the loop. For (2), @tf.function has experimental_relax_shapes=True option that relaxes argument shapes that can avoid unnecessary retracing. For (3), please refer to https://www.tensorflow.org/guide/function#controlling_retracing and https://www.tensorflow.org/api_docs/python/tf/function for  more details.\n"
     ]
    },
    {
     "name": "stderr",
     "output_type": "stream",
     "text": [
      "WARNING:tensorflow:11 out of the last 11 calls to <function Model.make_test_function.<locals>.test_function at 0x7fbf64176280> triggered tf.function retracing. Tracing is expensive and the excessive number of tracings could be due to (1) creating @tf.function repeatedly in a loop, (2) passing tensors with different shapes, (3) passing Python objects instead of tensors. For (1), please define your @tf.function outside of the loop. For (2), @tf.function has experimental_relax_shapes=True option that relaxes argument shapes that can avoid unnecessary retracing. For (3), please refer to https://www.tensorflow.org/guide/function#controlling_retracing and https://www.tensorflow.org/api_docs/python/tf/function for  more details.\n",
      "WARNING:absl:Found untraced functions such as lstm_cell_192_layer_call_fn, lstm_cell_192_layer_call_and_return_conditional_losses, lstm_cell_193_layer_call_fn, lstm_cell_193_layer_call_and_return_conditional_losses, lstm_cell_192_layer_call_fn while saving (showing 5 of 10). These functions will not be directly callable after loading.\n",
      "WARNING:absl:Found untraced functions such as lstm_cell_192_layer_call_fn, lstm_cell_192_layer_call_and_return_conditional_losses, lstm_cell_193_layer_call_fn, lstm_cell_193_layer_call_and_return_conditional_losses, lstm_cell_192_layer_call_fn while saving (showing 5 of 10). These functions will not be directly callable after loading.\n"
     ]
    },
    {
     "name": "stdout",
     "output_type": "stream",
     "text": [
      "INFO:tensorflow:Assets written to: LSTM_train_visual/assets\n"
     ]
    },
    {
     "name": "stderr",
     "output_type": "stream",
     "text": [
      "INFO:tensorflow:Assets written to: LSTM_train_visual/assets\n"
     ]
    },
    {
     "name": "stdout",
     "output_type": "stream",
     "text": [
      "Epoch 1/10\n",
      "1/1 [==============================] - 3s 3s/step - loss: 1.0180 - mean_absolute_error: 1.0090\n",
      "Epoch 2/10\n",
      "1/1 [==============================] - 0s 137ms/step - loss: 0.5019 - mean_absolute_error: 0.7084\n",
      "Epoch 3/10\n",
      "1/1 [==============================] - 0s 113ms/step - loss: 0.2844 - mean_absolute_error: 0.5333\n",
      "Epoch 4/10\n",
      "1/1 [==============================] - 0s 112ms/step - loss: 0.0323 - mean_absolute_error: 0.1797\n",
      "Epoch 5/10\n",
      "1/1 [==============================] - 0s 112ms/step - loss: 0.0237 - mean_absolute_error: 0.1540\n",
      "Epoch 6/10\n",
      "1/1 [==============================] - 0s 112ms/step - loss: 0.1060 - mean_absolute_error: 0.3255\n",
      "Epoch 7/10\n",
      "1/1 [==============================] - 0s 124ms/step - loss: 0.1009 - mean_absolute_error: 0.3176\n",
      "Epoch 8/10\n",
      "1/1 [==============================] - 0s 143ms/step - loss: 0.0611 - mean_absolute_error: 0.2471\n",
      "Epoch 9/10\n",
      "1/1 [==============================] - 0s 112ms/step - loss: 0.0213 - mean_absolute_error: 0.1460\n",
      "Epoch 10/10\n",
      "1/1 [==============================] - 0s 113ms/step - loss: 0.0141 - mean_absolute_error: 0.1188\n",
      "WARNING:tensorflow:11 out of the last 11 calls to <function Model.make_test_function.<locals>.test_function at 0x7fbf9afdf940> triggered tf.function retracing. Tracing is expensive and the excessive number of tracings could be due to (1) creating @tf.function repeatedly in a loop, (2) passing tensors with different shapes, (3) passing Python objects instead of tensors. For (1), please define your @tf.function outside of the loop. For (2), @tf.function has experimental_relax_shapes=True option that relaxes argument shapes that can avoid unnecessary retracing. For (3), please refer to https://www.tensorflow.org/guide/function#controlling_retracing and https://www.tensorflow.org/api_docs/python/tf/function for  more details.\n"
     ]
    },
    {
     "name": "stderr",
     "output_type": "stream",
     "text": [
      "WARNING:tensorflow:11 out of the last 11 calls to <function Model.make_test_function.<locals>.test_function at 0x7fbf9afdf940> triggered tf.function retracing. Tracing is expensive and the excessive number of tracings could be due to (1) creating @tf.function repeatedly in a loop, (2) passing tensors with different shapes, (3) passing Python objects instead of tensors. For (1), please define your @tf.function outside of the loop. For (2), @tf.function has experimental_relax_shapes=True option that relaxes argument shapes that can avoid unnecessary retracing. For (3), please refer to https://www.tensorflow.org/guide/function#controlling_retracing and https://www.tensorflow.org/api_docs/python/tf/function for  more details.\n",
      "WARNING:absl:Found untraced functions such as lstm_cell_194_layer_call_fn, lstm_cell_194_layer_call_and_return_conditional_losses, lstm_cell_195_layer_call_fn, lstm_cell_195_layer_call_and_return_conditional_losses, lstm_cell_194_layer_call_fn while saving (showing 5 of 10). These functions will not be directly callable after loading.\n",
      "WARNING:absl:Found untraced functions such as lstm_cell_194_layer_call_fn, lstm_cell_194_layer_call_and_return_conditional_losses, lstm_cell_195_layer_call_fn, lstm_cell_195_layer_call_and_return_conditional_losses, lstm_cell_194_layer_call_fn while saving (showing 5 of 10). These functions will not be directly callable after loading.\n"
     ]
    },
    {
     "name": "stdout",
     "output_type": "stream",
     "text": [
      "INFO:tensorflow:Assets written to: LSTM_train_visual/assets\n"
     ]
    },
    {
     "name": "stderr",
     "output_type": "stream",
     "text": [
      "INFO:tensorflow:Assets written to: LSTM_train_visual/assets\n"
     ]
    },
    {
     "name": "stdout",
     "output_type": "stream",
     "text": [
      "Epoch 1/10\n",
      "1/1 [==============================] - 3s 3s/step - loss: 1.5222 - mean_absolute_error: 1.2338\n",
      "Epoch 2/10\n",
      "1/1 [==============================] - 0s 159ms/step - loss: 0.2227 - mean_absolute_error: 0.4719\n",
      "Epoch 3/10\n",
      "1/1 [==============================] - 0s 158ms/step - loss: 0.0139 - mean_absolute_error: 0.1178\n",
      "Epoch 4/10\n",
      "1/1 [==============================] - 0s 159ms/step - loss: 0.0103 - mean_absolute_error: 0.1014\n",
      "Epoch 5/10\n",
      "1/1 [==============================] - 0s 157ms/step - loss: 0.0403 - mean_absolute_error: 0.2007\n",
      "Epoch 6/10\n",
      "1/1 [==============================] - 0s 176ms/step - loss: 0.0745 - mean_absolute_error: 0.2730\n",
      "Epoch 7/10\n",
      "1/1 [==============================] - 0s 197ms/step - loss: 0.0495 - mean_absolute_error: 0.2224\n",
      "Epoch 8/10\n",
      "1/1 [==============================] - 0s 163ms/step - loss: 0.0331 - mean_absolute_error: 0.1818\n",
      "Epoch 9/10\n",
      "1/1 [==============================] - 0s 158ms/step - loss: 0.0074 - mean_absolute_error: 0.0862\n",
      "Epoch 10/10\n",
      "1/1 [==============================] - 0s 176ms/step - loss: 0.0111 - mean_absolute_error: 0.1053\n",
      "WARNING:tensorflow:11 out of the last 11 calls to <function Model.make_test_function.<locals>.test_function at 0x7fbf64176940> triggered tf.function retracing. Tracing is expensive and the excessive number of tracings could be due to (1) creating @tf.function repeatedly in a loop, (2) passing tensors with different shapes, (3) passing Python objects instead of tensors. For (1), please define your @tf.function outside of the loop. For (2), @tf.function has experimental_relax_shapes=True option that relaxes argument shapes that can avoid unnecessary retracing. For (3), please refer to https://www.tensorflow.org/guide/function#controlling_retracing and https://www.tensorflow.org/api_docs/python/tf/function for  more details.\n"
     ]
    },
    {
     "name": "stderr",
     "output_type": "stream",
     "text": [
      "WARNING:tensorflow:11 out of the last 11 calls to <function Model.make_test_function.<locals>.test_function at 0x7fbf64176940> triggered tf.function retracing. Tracing is expensive and the excessive number of tracings could be due to (1) creating @tf.function repeatedly in a loop, (2) passing tensors with different shapes, (3) passing Python objects instead of tensors. For (1), please define your @tf.function outside of the loop. For (2), @tf.function has experimental_relax_shapes=True option that relaxes argument shapes that can avoid unnecessary retracing. For (3), please refer to https://www.tensorflow.org/guide/function#controlling_retracing and https://www.tensorflow.org/api_docs/python/tf/function for  more details.\n",
      "WARNING:absl:Found untraced functions such as lstm_cell_196_layer_call_fn, lstm_cell_196_layer_call_and_return_conditional_losses, lstm_cell_197_layer_call_fn, lstm_cell_197_layer_call_and_return_conditional_losses, lstm_cell_196_layer_call_fn while saving (showing 5 of 10). These functions will not be directly callable after loading.\n",
      "WARNING:absl:Found untraced functions such as lstm_cell_196_layer_call_fn, lstm_cell_196_layer_call_and_return_conditional_losses, lstm_cell_197_layer_call_fn, lstm_cell_197_layer_call_and_return_conditional_losses, lstm_cell_196_layer_call_fn while saving (showing 5 of 10). These functions will not be directly callable after loading.\n"
     ]
    },
    {
     "name": "stdout",
     "output_type": "stream",
     "text": [
      "INFO:tensorflow:Assets written to: LSTM_train_visual/assets\n"
     ]
    },
    {
     "name": "stderr",
     "output_type": "stream",
     "text": [
      "INFO:tensorflow:Assets written to: LSTM_train_visual/assets\n"
     ]
    },
    {
     "name": "stdout",
     "output_type": "stream",
     "text": [
      "Epoch 1/10\n",
      "1/1 [==============================] - 3s 3s/step - loss: 1.5782 - mean_absolute_error: 1.2563\n",
      "Epoch 2/10\n",
      "1/1 [==============================] - 1s 847ms/step - loss: 1.1158 - mean_absolute_error: 1.0563\n",
      "Epoch 3/10\n",
      "1/1 [==============================] - 1s 712ms/step - loss: 0.7972 - mean_absolute_error: 0.8929\n",
      "Epoch 4/10\n",
      "1/1 [==============================] - 1s 714ms/step - loss: 0.5266 - mean_absolute_error: 0.7257\n",
      "Epoch 5/10\n",
      "1/1 [==============================] - 1s 711ms/step - loss: 0.2667 - mean_absolute_error: 0.5164\n",
      "Epoch 6/10\n",
      "1/1 [==============================] - 1s 723ms/step - loss: 0.1041 - mean_absolute_error: 0.3226\n",
      "Epoch 7/10\n",
      "1/1 [==============================] - 1s 790ms/step - loss: 0.0021 - mean_absolute_error: 0.0455\n",
      "Epoch 8/10\n",
      "1/1 [==============================] - 1s 710ms/step - loss: 0.0502 - mean_absolute_error: 0.2240\n",
      "Epoch 9/10\n",
      "1/1 [==============================] - 1s 709ms/step - loss: 0.1192 - mean_absolute_error: 0.3453\n",
      "Epoch 10/10\n",
      "1/1 [==============================] - 1s 734ms/step - loss: 0.1489 - mean_absolute_error: 0.3859\n",
      "WARNING:tensorflow:11 out of the last 11 calls to <function Model.make_test_function.<locals>.test_function at 0x7fbf3ff2e5e0> triggered tf.function retracing. Tracing is expensive and the excessive number of tracings could be due to (1) creating @tf.function repeatedly in a loop, (2) passing tensors with different shapes, (3) passing Python objects instead of tensors. For (1), please define your @tf.function outside of the loop. For (2), @tf.function has experimental_relax_shapes=True option that relaxes argument shapes that can avoid unnecessary retracing. For (3), please refer to https://www.tensorflow.org/guide/function#controlling_retracing and https://www.tensorflow.org/api_docs/python/tf/function for  more details.\n"
     ]
    },
    {
     "name": "stderr",
     "output_type": "stream",
     "text": [
      "WARNING:tensorflow:11 out of the last 11 calls to <function Model.make_test_function.<locals>.test_function at 0x7fbf3ff2e5e0> triggered tf.function retracing. Tracing is expensive and the excessive number of tracings could be due to (1) creating @tf.function repeatedly in a loop, (2) passing tensors with different shapes, (3) passing Python objects instead of tensors. For (1), please define your @tf.function outside of the loop. For (2), @tf.function has experimental_relax_shapes=True option that relaxes argument shapes that can avoid unnecessary retracing. For (3), please refer to https://www.tensorflow.org/guide/function#controlling_retracing and https://www.tensorflow.org/api_docs/python/tf/function for  more details.\n",
      "WARNING:absl:Found untraced functions such as lstm_cell_198_layer_call_fn, lstm_cell_198_layer_call_and_return_conditional_losses, lstm_cell_199_layer_call_fn, lstm_cell_199_layer_call_and_return_conditional_losses, lstm_cell_198_layer_call_fn while saving (showing 5 of 10). These functions will not be directly callable after loading.\n",
      "WARNING:absl:Found untraced functions such as lstm_cell_198_layer_call_fn, lstm_cell_198_layer_call_and_return_conditional_losses, lstm_cell_199_layer_call_fn, lstm_cell_199_layer_call_and_return_conditional_losses, lstm_cell_198_layer_call_fn while saving (showing 5 of 10). These functions will not be directly callable after loading.\n"
     ]
    },
    {
     "name": "stdout",
     "output_type": "stream",
     "text": [
      "INFO:tensorflow:Assets written to: LSTM_train_visual/assets\n"
     ]
    },
    {
     "name": "stderr",
     "output_type": "stream",
     "text": [
      "INFO:tensorflow:Assets written to: LSTM_train_visual/assets\n"
     ]
    },
    {
     "name": "stdout",
     "output_type": "stream",
     "text": [
      "Epoch 1/10\n",
      "1/1 [==============================] - 2s 2s/step - loss: 8.3727 - mean_absolute_error: 2.8936\n",
      "Epoch 2/10\n",
      "1/1 [==============================] - 0s 153ms/step - loss: 5.9690 - mean_absolute_error: 2.4431\n",
      "Epoch 3/10\n",
      "1/1 [==============================] - 0s 149ms/step - loss: 4.0801 - mean_absolute_error: 2.0199\n",
      "Epoch 4/10\n",
      "1/1 [==============================] - 0s 156ms/step - loss: 3.2192 - mean_absolute_error: 1.7942\n",
      "Epoch 5/10\n",
      "1/1 [==============================] - 0s 148ms/step - loss: 2.6502 - mean_absolute_error: 1.6280\n",
      "Epoch 6/10\n",
      "1/1 [==============================] - 0s 148ms/step - loss: 2.2847 - mean_absolute_error: 1.5115\n",
      "Epoch 7/10\n",
      "1/1 [==============================] - 0s 165ms/step - loss: 2.0257 - mean_absolute_error: 1.4233\n",
      "Epoch 8/10\n",
      "1/1 [==============================] - 0s 184ms/step - loss: 1.8296 - mean_absolute_error: 1.3526\n",
      "Epoch 9/10\n",
      "1/1 [==============================] - 0s 155ms/step - loss: 1.6605 - mean_absolute_error: 1.2886\n",
      "Epoch 10/10\n",
      "1/1 [==============================] - 0s 146ms/step - loss: 1.5103 - mean_absolute_error: 1.2290\n",
      "WARNING:tensorflow:11 out of the last 11 calls to <function Model.make_test_function.<locals>.test_function at 0x7fc050738d30> triggered tf.function retracing. Tracing is expensive and the excessive number of tracings could be due to (1) creating @tf.function repeatedly in a loop, (2) passing tensors with different shapes, (3) passing Python objects instead of tensors. For (1), please define your @tf.function outside of the loop. For (2), @tf.function has experimental_relax_shapes=True option that relaxes argument shapes that can avoid unnecessary retracing. For (3), please refer to https://www.tensorflow.org/guide/function#controlling_retracing and https://www.tensorflow.org/api_docs/python/tf/function for  more details.\n"
     ]
    },
    {
     "name": "stderr",
     "output_type": "stream",
     "text": [
      "WARNING:tensorflow:11 out of the last 11 calls to <function Model.make_test_function.<locals>.test_function at 0x7fc050738d30> triggered tf.function retracing. Tracing is expensive and the excessive number of tracings could be due to (1) creating @tf.function repeatedly in a loop, (2) passing tensors with different shapes, (3) passing Python objects instead of tensors. For (1), please define your @tf.function outside of the loop. For (2), @tf.function has experimental_relax_shapes=True option that relaxes argument shapes that can avoid unnecessary retracing. For (3), please refer to https://www.tensorflow.org/guide/function#controlling_retracing and https://www.tensorflow.org/api_docs/python/tf/function for  more details.\n",
      "WARNING:absl:Found untraced functions such as lstm_cell_200_layer_call_fn, lstm_cell_200_layer_call_and_return_conditional_losses, lstm_cell_201_layer_call_fn, lstm_cell_201_layer_call_and_return_conditional_losses, lstm_cell_200_layer_call_fn while saving (showing 5 of 10). These functions will not be directly callable after loading.\n",
      "WARNING:absl:Found untraced functions such as lstm_cell_200_layer_call_fn, lstm_cell_200_layer_call_and_return_conditional_losses, lstm_cell_201_layer_call_fn, lstm_cell_201_layer_call_and_return_conditional_losses, lstm_cell_200_layer_call_fn while saving (showing 5 of 10). These functions will not be directly callable after loading.\n"
     ]
    },
    {
     "name": "stdout",
     "output_type": "stream",
     "text": [
      "INFO:tensorflow:Assets written to: LSTM_train_visual/assets\n"
     ]
    },
    {
     "name": "stderr",
     "output_type": "stream",
     "text": [
      "INFO:tensorflow:Assets written to: LSTM_train_visual/assets\n"
     ]
    },
    {
     "name": "stdout",
     "output_type": "stream",
     "text": [
      "Epoch 1/10\n",
      "1/1 [==============================] - 2s 2s/step - loss: 2.8142 - mean_absolute_error: 1.6775\n",
      "Epoch 2/10\n",
      "1/1 [==============================] - 0s 316ms/step - loss: 2.0691 - mean_absolute_error: 1.4385\n",
      "Epoch 3/10\n",
      "1/1 [==============================] - 0s 293ms/step - loss: 1.6389 - mean_absolute_error: 1.2802\n",
      "Epoch 4/10\n",
      "1/1 [==============================] - 0s 310ms/step - loss: 1.2992 - mean_absolute_error: 1.1398\n",
      "Epoch 5/10\n",
      "1/1 [==============================] - 0s 348ms/step - loss: 1.0364 - mean_absolute_error: 1.0180\n",
      "Epoch 6/10\n",
      "1/1 [==============================] - 0s 284ms/step - loss: 0.7906 - mean_absolute_error: 0.8892\n",
      "Epoch 7/10\n",
      "1/1 [==============================] - 0s 284ms/step - loss: 0.5771 - mean_absolute_error: 0.7596\n",
      "Epoch 8/10\n",
      "1/1 [==============================] - 0s 282ms/step - loss: 0.4284 - mean_absolute_error: 0.6545\n",
      "Epoch 9/10\n",
      "1/1 [==============================] - 0s 310ms/step - loss: 0.2822 - mean_absolute_error: 0.5312\n",
      "Epoch 10/10\n",
      "1/1 [==============================] - 0s 339ms/step - loss: 0.1569 - mean_absolute_error: 0.3961\n",
      "WARNING:tensorflow:11 out of the last 11 calls to <function Model.make_test_function.<locals>.test_function at 0x7fbfda8eadc0> triggered tf.function retracing. Tracing is expensive and the excessive number of tracings could be due to (1) creating @tf.function repeatedly in a loop, (2) passing tensors with different shapes, (3) passing Python objects instead of tensors. For (1), please define your @tf.function outside of the loop. For (2), @tf.function has experimental_relax_shapes=True option that relaxes argument shapes that can avoid unnecessary retracing. For (3), please refer to https://www.tensorflow.org/guide/function#controlling_retracing and https://www.tensorflow.org/api_docs/python/tf/function for  more details.\n"
     ]
    },
    {
     "name": "stderr",
     "output_type": "stream",
     "text": [
      "WARNING:tensorflow:11 out of the last 11 calls to <function Model.make_test_function.<locals>.test_function at 0x7fbfda8eadc0> triggered tf.function retracing. Tracing is expensive and the excessive number of tracings could be due to (1) creating @tf.function repeatedly in a loop, (2) passing tensors with different shapes, (3) passing Python objects instead of tensors. For (1), please define your @tf.function outside of the loop. For (2), @tf.function has experimental_relax_shapes=True option that relaxes argument shapes that can avoid unnecessary retracing. For (3), please refer to https://www.tensorflow.org/guide/function#controlling_retracing and https://www.tensorflow.org/api_docs/python/tf/function for  more details.\n",
      "WARNING:absl:Found untraced functions such as lstm_cell_202_layer_call_fn, lstm_cell_202_layer_call_and_return_conditional_losses, lstm_cell_203_layer_call_fn, lstm_cell_203_layer_call_and_return_conditional_losses, lstm_cell_202_layer_call_fn while saving (showing 5 of 10). These functions will not be directly callable after loading.\n",
      "WARNING:absl:Found untraced functions such as lstm_cell_202_layer_call_fn, lstm_cell_202_layer_call_and_return_conditional_losses, lstm_cell_203_layer_call_fn, lstm_cell_203_layer_call_and_return_conditional_losses, lstm_cell_202_layer_call_fn while saving (showing 5 of 10). These functions will not be directly callable after loading.\n"
     ]
    },
    {
     "name": "stdout",
     "output_type": "stream",
     "text": [
      "INFO:tensorflow:Assets written to: LSTM_train_visual/assets\n"
     ]
    },
    {
     "name": "stderr",
     "output_type": "stream",
     "text": [
      "INFO:tensorflow:Assets written to: LSTM_train_visual/assets\n"
     ]
    },
    {
     "name": "stdout",
     "output_type": "stream",
     "text": [
      "Epoch 1/10\n",
      "1/1 [==============================] - 2s 2s/step - loss: 0.0433 - mean_absolute_error: 0.2080\n",
      "Epoch 2/10\n",
      "1/1 [==============================] - 0s 239ms/step - loss: 2.3858e-05 - mean_absolute_error: 0.0049\n",
      "Epoch 3/10\n",
      "1/1 [==============================] - 0s 240ms/step - loss: 0.0219 - mean_absolute_error: 0.1479\n",
      "Epoch 4/10\n",
      "1/1 [==============================] - 0s 241ms/step - loss: 0.0118 - mean_absolute_error: 0.1086\n",
      "Epoch 5/10\n",
      "1/1 [==============================] - 0s 240ms/step - loss: 0.0022 - mean_absolute_error: 0.0469\n",
      "Epoch 6/10\n",
      "1/1 [==============================] - 0s 262ms/step - loss: 8.5749e-04 - mean_absolute_error: 0.0293\n",
      "Epoch 7/10\n",
      "1/1 [==============================] - 0s 241ms/step - loss: 0.0039 - mean_absolute_error: 0.0625\n",
      "Epoch 8/10\n",
      "1/1 [==============================] - 0s 237ms/step - loss: 0.0050 - mean_absolute_error: 0.0707\n",
      "Epoch 9/10\n",
      "1/1 [==============================] - 0s 240ms/step - loss: 0.0032 - mean_absolute_error: 0.0568\n",
      "Epoch 10/10\n",
      "1/1 [==============================] - 0s 294ms/step - loss: 0.0014 - mean_absolute_error: 0.0377\n",
      "WARNING:tensorflow:11 out of the last 11 calls to <function Model.make_test_function.<locals>.test_function at 0x7fc05043ec10> triggered tf.function retracing. Tracing is expensive and the excessive number of tracings could be due to (1) creating @tf.function repeatedly in a loop, (2) passing tensors with different shapes, (3) passing Python objects instead of tensors. For (1), please define your @tf.function outside of the loop. For (2), @tf.function has experimental_relax_shapes=True option that relaxes argument shapes that can avoid unnecessary retracing. For (3), please refer to https://www.tensorflow.org/guide/function#controlling_retracing and https://www.tensorflow.org/api_docs/python/tf/function for  more details.\n"
     ]
    },
    {
     "name": "stderr",
     "output_type": "stream",
     "text": [
      "WARNING:tensorflow:11 out of the last 11 calls to <function Model.make_test_function.<locals>.test_function at 0x7fc05043ec10> triggered tf.function retracing. Tracing is expensive and the excessive number of tracings could be due to (1) creating @tf.function repeatedly in a loop, (2) passing tensors with different shapes, (3) passing Python objects instead of tensors. For (1), please define your @tf.function outside of the loop. For (2), @tf.function has experimental_relax_shapes=True option that relaxes argument shapes that can avoid unnecessary retracing. For (3), please refer to https://www.tensorflow.org/guide/function#controlling_retracing and https://www.tensorflow.org/api_docs/python/tf/function for  more details.\n",
      "WARNING:absl:Found untraced functions such as lstm_cell_204_layer_call_fn, lstm_cell_204_layer_call_and_return_conditional_losses, lstm_cell_205_layer_call_fn, lstm_cell_205_layer_call_and_return_conditional_losses, lstm_cell_204_layer_call_fn while saving (showing 5 of 10). These functions will not be directly callable after loading.\n",
      "WARNING:absl:Found untraced functions such as lstm_cell_204_layer_call_fn, lstm_cell_204_layer_call_and_return_conditional_losses, lstm_cell_205_layer_call_fn, lstm_cell_205_layer_call_and_return_conditional_losses, lstm_cell_204_layer_call_fn while saving (showing 5 of 10). These functions will not be directly callable after loading.\n"
     ]
    },
    {
     "name": "stdout",
     "output_type": "stream",
     "text": [
      "INFO:tensorflow:Assets written to: LSTM_train_visual/assets\n"
     ]
    },
    {
     "name": "stderr",
     "output_type": "stream",
     "text": [
      "INFO:tensorflow:Assets written to: LSTM_train_visual/assets\n"
     ]
    },
    {
     "name": "stdout",
     "output_type": "stream",
     "text": [
      "Epoch 1/10\n",
      "1/1 [==============================] - 2s 2s/step - loss: 1.7261 - mean_absolute_error: 1.3138\n",
      "Epoch 2/10\n",
      "1/1 [==============================] - 0s 135ms/step - loss: 1.3065 - mean_absolute_error: 1.1430\n",
      "Epoch 3/10\n",
      "1/1 [==============================] - 0s 147ms/step - loss: 0.8955 - mean_absolute_error: 0.9463\n",
      "Epoch 4/10\n",
      "1/1 [==============================] - 0s 141ms/step - loss: 0.3791 - mean_absolute_error: 0.6157\n",
      "Epoch 5/10\n",
      "1/1 [==============================] - 0s 133ms/step - loss: 0.2407 - mean_absolute_error: 0.4906\n",
      "Epoch 6/10\n",
      "1/1 [==============================] - 0s 134ms/step - loss: 0.1304 - mean_absolute_error: 0.3611\n",
      "Epoch 7/10\n",
      "1/1 [==============================] - 0s 159ms/step - loss: 0.0531 - mean_absolute_error: 0.2304\n",
      "Epoch 8/10\n",
      "1/1 [==============================] - 0s 139ms/step - loss: 0.0110 - mean_absolute_error: 0.1049\n",
      "Epoch 9/10\n",
      "1/1 [==============================] - 0s 134ms/step - loss: 8.8760e-05 - mean_absolute_error: 0.0094\n",
      "Epoch 10/10\n",
      "1/1 [==============================] - 0s 133ms/step - loss: 0.0123 - mean_absolute_error: 0.1107\n",
      "WARNING:tensorflow:11 out of the last 11 calls to <function Model.make_test_function.<locals>.test_function at 0x7fbf506184c0> triggered tf.function retracing. Tracing is expensive and the excessive number of tracings could be due to (1) creating @tf.function repeatedly in a loop, (2) passing tensors with different shapes, (3) passing Python objects instead of tensors. For (1), please define your @tf.function outside of the loop. For (2), @tf.function has experimental_relax_shapes=True option that relaxes argument shapes that can avoid unnecessary retracing. For (3), please refer to https://www.tensorflow.org/guide/function#controlling_retracing and https://www.tensorflow.org/api_docs/python/tf/function for  more details.\n"
     ]
    },
    {
     "name": "stderr",
     "output_type": "stream",
     "text": [
      "WARNING:tensorflow:11 out of the last 11 calls to <function Model.make_test_function.<locals>.test_function at 0x7fbf506184c0> triggered tf.function retracing. Tracing is expensive and the excessive number of tracings could be due to (1) creating @tf.function repeatedly in a loop, (2) passing tensors with different shapes, (3) passing Python objects instead of tensors. For (1), please define your @tf.function outside of the loop. For (2), @tf.function has experimental_relax_shapes=True option that relaxes argument shapes that can avoid unnecessary retracing. For (3), please refer to https://www.tensorflow.org/guide/function#controlling_retracing and https://www.tensorflow.org/api_docs/python/tf/function for  more details.\n",
      "WARNING:absl:Found untraced functions such as lstm_cell_206_layer_call_fn, lstm_cell_206_layer_call_and_return_conditional_losses, lstm_cell_207_layer_call_fn, lstm_cell_207_layer_call_and_return_conditional_losses, lstm_cell_206_layer_call_fn while saving (showing 5 of 10). These functions will not be directly callable after loading.\n",
      "WARNING:absl:Found untraced functions such as lstm_cell_206_layer_call_fn, lstm_cell_206_layer_call_and_return_conditional_losses, lstm_cell_207_layer_call_fn, lstm_cell_207_layer_call_and_return_conditional_losses, lstm_cell_206_layer_call_fn while saving (showing 5 of 10). These functions will not be directly callable after loading.\n"
     ]
    },
    {
     "name": "stdout",
     "output_type": "stream",
     "text": [
      "INFO:tensorflow:Assets written to: LSTM_train_visual/assets\n"
     ]
    },
    {
     "name": "stderr",
     "output_type": "stream",
     "text": [
      "INFO:tensorflow:Assets written to: LSTM_train_visual/assets\n"
     ]
    }
   ],
   "source": [
    "train_index = 0\n",
    "\n",
    "train_eval = []\n",
    "train_loss = []\n",
    "train_mae = []\n",
    "\n",
    "for file in x_train:\n",
    "        file = np.array(file).reshape((1, file.shape[0], -1))\n",
    "        model.fit(x=file, \n",
    "                y=y_train[train_index], \n",
    "                epochs=10,\n",
    "                batch_size = len(file))    \n",
    "                \n",
    "        scores = model.evaluate(file, y_train[train_index], verbose = 0)\n",
    "        train_eval.append(scores)\n",
    "        train_loss.append(scores[0])\n",
    "        train_mae.append(scores[1])\n",
    "                \n",
    "        model.save(r'LSTM_train_visual', include_optimizer=True) # Save model configuration to Saved_models.\n",
    "        model = keras.models.load_model(r'LSTM_train_visual') # Load model configuration from Saved_models.\n",
    "                \n",
    "        train_index += 1  "
   ]
  },
  {
   "cell_type": "markdown",
   "metadata": {},
   "source": [
    "#### Model evaluation - train set"
   ]
  },
  {
   "cell_type": "code",
   "execution_count": 15,
   "metadata": {},
   "outputs": [
    {
     "name": "stdout",
     "output_type": "stream",
     "text": [
      "Train loss (avg): 0.06997884366495992 Train MAE (avg): 0.17465797815328607\n"
     ]
    }
   ],
   "source": [
    "avg_train_loss = sum(train_loss) / len(train_loss)\n",
    "avg_train_mae = sum(train_mae) / len(train_mae)\n",
    "print(\"Train loss (avg):\", avg_train_loss, \"Train MAE (avg):\", avg_train_mae)"
   ]
  },
  {
   "cell_type": "code",
   "execution_count": 16,
   "metadata": {},
   "outputs": [
    {
     "name": "stdout",
     "output_type": "stream",
     "text": [
      "AVG MSE: 15.563\n",
      "AVG MAE: 16.728\n"
     ]
    }
   ],
   "source": [
    "real_train_loss = round(float(scaler.inverse_transform(np.array(avg_train_loss).reshape(-1,1))), 3)\n",
    "real_train_mae = round(float(scaler.inverse_transform(np.array(avg_train_mae).reshape(-1,1))), 3)\n",
    "\n",
    "print(f'AVG MSE: {real_train_loss}')\n",
    "print(f'AVG MAE: {real_train_mae}')"
   ]
  },
  {
   "cell_type": "code",
   "execution_count": 17,
   "metadata": {},
   "outputs": [
    {
     "data": {
      "image/png": "[encoded data removed]",
      "text/plain": [
       "<Figure size 432x288 with 1 Axes>"
      ]
     },
     "metadata": {
      "needs_background": "light"
     },
     "output_type": "display_data"
    }
   ],
   "source": [
    "plt.xlabel(\"Iterations\")\n",
    "plt.ylabel(\"Scaled YMRS value\")\n",
    "plt.plot(train_loss, label=\"MSE\")\n",
    "plt.plot(train_mae, label=\"MAE\")\n",
    "plt.legend()\n",
    "plt.show()"
   ]
  },
  {
   "cell_type": "markdown",
   "metadata": {},
   "source": [
    "### Model evaluation  - validation set"
   ]
  },
  {
   "cell_type": "markdown",
   "metadata": {},
   "source": [
    "Subset taken from test data is defined as a validation set."
   ]
  },
  {
   "cell_type": "code",
   "execution_count": 18,
   "metadata": {},
   "outputs": [],
   "source": [
    "x_val, y_val = x_test[:30], y_test[:30]"
   ]
  },
  {
   "cell_type": "code",
   "execution_count": 19,
   "metadata": {},
   "outputs": [
    {
     "name": "stdout",
     "output_type": "stream",
     "text": [
      "WARNING:tensorflow:11 out of the last 11 calls to <function Model.make_test_function.<locals>.test_function at 0x7fbf59fc3d30> triggered tf.function retracing. Tracing is expensive and the excessive number of tracings could be due to (1) creating @tf.function repeatedly in a loop, (2) passing tensors with different shapes, (3) passing Python objects instead of tensors. For (1), please define your @tf.function outside of the loop. For (2), @tf.function has experimental_relax_shapes=True option that relaxes argument shapes that can avoid unnecessary retracing. For (3), please refer to https://www.tensorflow.org/guide/function#controlling_retracing and https://www.tensorflow.org/api_docs/python/tf/function for  more details.\n"
     ]
    },
    {
     "name": "stderr",
     "output_type": "stream",
     "text": [
      "WARNING:tensorflow:11 out of the last 11 calls to <function Model.make_test_function.<locals>.test_function at 0x7fbf59fc3d30> triggered tf.function retracing. Tracing is expensive and the excessive number of tracings could be due to (1) creating @tf.function repeatedly in a loop, (2) passing tensors with different shapes, (3) passing Python objects instead of tensors. For (1), please define your @tf.function outside of the loop. For (2), @tf.function has experimental_relax_shapes=True option that relaxes argument shapes that can avoid unnecessary retracing. For (3), please refer to https://www.tensorflow.org/guide/function#controlling_retracing and https://www.tensorflow.org/api_docs/python/tf/function for  more details.\n"
     ]
    },
    {
     "name": "stdout",
     "output_type": "stream",
     "text": [
      "WARNING:tensorflow:11 out of the last 11 calls to <function Model.make_test_function.<locals>.test_function at 0x7fbf59fc3d30> triggered tf.function retracing. Tracing is expensive and the excessive number of tracings could be due to (1) creating @tf.function repeatedly in a loop, (2) passing tensors with different shapes, (3) passing Python objects instead of tensors. For (1), please define your @tf.function outside of the loop. For (2), @tf.function has experimental_relax_shapes=True option that relaxes argument shapes that can avoid unnecessary retracing. For (3), please refer to https://www.tensorflow.org/guide/function#controlling_retracing and https://www.tensorflow.org/api_docs/python/tf/function for  more details.\n"
     ]
    },
    {
     "name": "stderr",
     "output_type": "stream",
     "text": [
      "WARNING:tensorflow:11 out of the last 11 calls to <function Model.make_test_function.<locals>.test_function at 0x7fbf59fc3d30> triggered tf.function retracing. Tracing is expensive and the excessive number of tracings could be due to (1) creating @tf.function repeatedly in a loop, (2) passing tensors with different shapes, (3) passing Python objects instead of tensors. For (1), please define your @tf.function outside of the loop. For (2), @tf.function has experimental_relax_shapes=True option that relaxes argument shapes that can avoid unnecessary retracing. For (3), please refer to https://www.tensorflow.org/guide/function#controlling_retracing and https://www.tensorflow.org/api_docs/python/tf/function for  more details.\n"
     ]
    },
    {
     "name": "stdout",
     "output_type": "stream",
     "text": [
      "WARNING:tensorflow:11 out of the last 11 calls to <function Model.make_test_function.<locals>.test_function at 0x7fbf59fc3d30> triggered tf.function retracing. Tracing is expensive and the excessive number of tracings could be due to (1) creating @tf.function repeatedly in a loop, (2) passing tensors with different shapes, (3) passing Python objects instead of tensors. For (1), please define your @tf.function outside of the loop. For (2), @tf.function has experimental_relax_shapes=True option that relaxes argument shapes that can avoid unnecessary retracing. For (3), please refer to https://www.tensorflow.org/guide/function#controlling_retracing and https://www.tensorflow.org/api_docs/python/tf/function for  more details.\n"
     ]
    },
    {
     "name": "stderr",
     "output_type": "stream",
     "text": [
      "WARNING:tensorflow:11 out of the last 11 calls to <function Model.make_test_function.<locals>.test_function at 0x7fbf59fc3d30> triggered tf.function retracing. Tracing is expensive and the excessive number of tracings could be due to (1) creating @tf.function repeatedly in a loop, (2) passing tensors with different shapes, (3) passing Python objects instead of tensors. For (1), please define your @tf.function outside of the loop. For (2), @tf.function has experimental_relax_shapes=True option that relaxes argument shapes that can avoid unnecessary retracing. For (3), please refer to https://www.tensorflow.org/guide/function#controlling_retracing and https://www.tensorflow.org/api_docs/python/tf/function for  more details.\n"
     ]
    }
   ],
   "source": [
    "eval_loss = []\n",
    "eval_mae = []\n",
    "eval_index = 0\n",
    "\n",
    "for input in x_val:\n",
    "    input = reshape_X(input)\n",
    "    scores = model.evaluate(input, y_val[eval_index], verbose = 0)\n",
    "    \n",
    "    eval_loss.append(scores[0])\n",
    "    eval_mae.append(scores[1])\n",
    "    \n",
    "    eval_index += 1"
   ]
  },
  {
   "cell_type": "code",
   "execution_count": 20,
   "metadata": {},
   "outputs": [
    {
     "name": "stdout",
     "output_type": "stream",
     "text": [
      "Validation loss (avg): 0.8667726815212518 Validation MAE (avg): 0.7923996195197105\n"
     ]
    }
   ],
   "source": [
    "avg_eval_loss = sum(eval_loss) / len(eval_loss)\n",
    "avg_eval_mae = sum(eval_mae) / len(eval_mae)\n",
    "print(\"Validation loss (avg):\", avg_eval_loss, \"Validation MAE (avg):\", avg_eval_mae)"
   ]
  },
  {
   "cell_type": "code",
   "execution_count": 21,
   "metadata": {},
   "outputs": [
    {
     "name": "stdout",
     "output_type": "stream",
     "text": [
      "AVG MSE: 24.435\n",
      "AVG MAE: 23.607\n"
     ]
    }
   ],
   "source": [
    "real_eval_loss = round(float(scaler.inverse_transform(np.array(avg_eval_loss).reshape(-1,1))), 3)\n",
    "real_eval_mae = round(float(scaler.inverse_transform(np.array(avg_eval_mae).reshape(-1,1))), 3)\n",
    "\n",
    "print(f'AVG MSE: {real_eval_loss}')\n",
    "print(f'AVG MAE: {real_eval_mae}')"
   ]
  },
  {
   "cell_type": "code",
   "execution_count": 22,
   "metadata": {},
   "outputs": [
    {
     "data": {
      "image/png": "[encoded data removed]",
      "text/plain": [
       "<Figure size 432x288 with 1 Axes>"
      ]
     },
     "metadata": {
      "needs_background": "light"
     },
     "output_type": "display_data"
    }
   ],
   "source": [
    "plt.xlabel(\"Iterations\")\n",
    "plt.ylabel(\"Scaled YMRS value\")\n",
    "plt.plot(eval_loss, label=\"MSE\")\n",
    "plt.plot(eval_mae, label=\"MAE\")\n",
    "plt.legend()\n",
    "plt.show()"
   ]
  },
  {
   "cell_type": "markdown",
   "metadata": {},
   "source": [
    "## Prediction"
   ]
  },
  {
   "cell_type": "markdown",
   "metadata": {},
   "source": [
    "Prediction is made on different subset taken from the test dataset. Then actual and predicted YMRS values are compared."
   ]
  },
  {
   "cell_type": "code",
   "execution_count": 23,
   "metadata": {},
   "outputs": [],
   "source": [
    "x_pred, y_pred_actual = x_test[30:], y_test[30:]"
   ]
  },
  {
   "cell_type": "code",
   "execution_count": 24,
   "metadata": {},
   "outputs": [],
   "source": [
    "y_prediction = []\n",
    "\n",
    "pred_scores = []\n",
    "pred_loss = []\n",
    "pred_mae = []\n",
    "\n",
    "pred_index = 0\n",
    "\n",
    "for file in x_pred:\n",
    "    file = np.array(file).reshape(1, file.shape[0], -1)\n",
    "    pred_y = y_prediction.append(model.predict(file))\n",
    "    \n",
    "    scores = model.evaluate(file, y_pred_actual[pred_index], verbose=0)\n",
    "    pred_scores.append(scores)\n",
    "    pred_loss.append(scores[0])\n",
    "    pred_mae.append(scores[1])\n",
    "    \n",
    "    pred_index += 1"
   ]
  },
  {
   "cell_type": "markdown",
   "metadata": {},
   "source": [
    "### Model evaluation - prediction set"
   ]
  },
  {
   "cell_type": "code",
   "execution_count": 25,
   "metadata": {},
   "outputs": [
    {
     "name": "stdout",
     "output_type": "stream",
     "text": [
      "Prediction loss (avg): 1.1652743007366857 Prediction MAE (avg): 0.9977534646789233\n"
     ]
    }
   ],
   "source": [
    "avg_pred_loss = sum(pred_loss) / len(pred_loss)\n",
    "avg_pred_mae = sum(pred_mae) / len(pred_mae)\n",
    "print(\"Prediction loss (avg):\", avg_pred_loss, \"Prediction MAE (avg):\", avg_pred_mae)"
   ]
  },
  {
   "cell_type": "code",
   "execution_count": 26,
   "metadata": {},
   "outputs": [
    {
     "name": "stdout",
     "output_type": "stream",
     "text": [
      "AVG MSE: 27.759\n",
      "AVG MAE: 25.894\n"
     ]
    }
   ],
   "source": [
    "real_pred_loss = round(float(scaler.inverse_transform(np.array(avg_pred_loss).reshape(-1,1))), 3)\n",
    "real_pred_mae = round(float(scaler.inverse_transform(np.array(avg_pred_mae).reshape(-1,1))), 3)\n",
    "\n",
    "print(f'AVG MSE: {real_pred_loss}')\n",
    "print(f'AVG MAE: {real_pred_mae}')"
   ]
  },
  {
   "cell_type": "code",
   "execution_count": 27,
   "metadata": {},
   "outputs": [
    {
     "data": {
      "image/png": "[encoded data removed]",
      "text/plain": [
       "<Figure size 432x288 with 1 Axes>"
      ]
     },
     "metadata": {
      "needs_background": "light"
     },
     "output_type": "display_data"
    }
   ],
   "source": [
    "plt.xlabel(\"Iterations\")\n",
    "plt.ylabel(\"Scaled YMRS value\")\n",
    "plt.plot(pred_loss, label=\"MSE\")\n",
    "plt.plot(pred_mae, label=\"MAE\")\n",
    "plt.legend()\n",
    "plt.show()"
   ]
  },
  {
   "cell_type": "markdown",
   "metadata": {},
   "source": [
    "### Actual vs predicted comparison"
   ]
  },
  {
   "cell_type": "code",
   "execution_count": 28,
   "metadata": {},
   "outputs": [],
   "source": [
    "y_prediction = np.array(y_prediction).reshape(-1, 1)\n",
    "y_pred_actual = np.array(y_pred_actual).reshape(-1,1)\n",
    "\n",
    "y_prediction = unscale_Y(y_prediction, scaler)\n",
    "y_pred_actual = unscale_Y(y_pred_actual, scaler)"
   ]
  },
  {
   "cell_type": "code",
   "execution_count": 29,
   "metadata": {},
   "outputs": [
    {
     "data": {
      "text/html": [
       "<div>\n",
       "<style scoped>\n",
       "    .dataframe tbody tr th:only-of-type {\n",
       "        vertical-align: middle;\n",
       "    }\n",
       "\n",
       "    .dataframe tbody tr th {\n",
       "        vertical-align: top;\n",
       "    }\n",
       "\n",
       "    .dataframe thead th {\n",
       "        text-align: right;\n",
       "    }\n",
       "</style>\n",
       "<table border=\"1\" class=\"dataframe\">\n",
       "  <thead>\n",
       "    <tr style=\"text-align: right;\">\n",
       "      <th></th>\n",
       "      <th>index</th>\n",
       "      <th>y_actual</th>\n",
       "      <th>y_pred</th>\n",
       "      <th>pred_error</th>\n",
       "    </tr>\n",
       "  </thead>\n",
       "  <tbody>\n",
       "    <tr>\n",
       "      <th>0</th>\n",
       "      <td>0</td>\n",
       "      <td>0</td>\n",
       "      <td>17.463762</td>\n",
       "      <td>-17.463762</td>\n",
       "    </tr>\n",
       "    <tr>\n",
       "      <th>1</th>\n",
       "      <td>1</td>\n",
       "      <td>0</td>\n",
       "      <td>17.314323</td>\n",
       "      <td>-17.314323</td>\n",
       "    </tr>\n",
       "    <tr>\n",
       "      <th>2</th>\n",
       "      <td>27</td>\n",
       "      <td>0</td>\n",
       "      <td>19.261677</td>\n",
       "      <td>-19.261677</td>\n",
       "    </tr>\n",
       "    <tr>\n",
       "      <th>3</th>\n",
       "      <td>22</td>\n",
       "      <td>0</td>\n",
       "      <td>15.654448</td>\n",
       "      <td>-15.654448</td>\n",
       "    </tr>\n",
       "    <tr>\n",
       "      <th>4</th>\n",
       "      <td>16</td>\n",
       "      <td>0</td>\n",
       "      <td>15.309143</td>\n",
       "      <td>-15.309143</td>\n",
       "    </tr>\n",
       "    <tr>\n",
       "      <th>5</th>\n",
       "      <td>6</td>\n",
       "      <td>0</td>\n",
       "      <td>14.559443</td>\n",
       "      <td>-14.559443</td>\n",
       "    </tr>\n",
       "    <tr>\n",
       "      <th>6</th>\n",
       "      <td>10</td>\n",
       "      <td>1</td>\n",
       "      <td>17.929913</td>\n",
       "      <td>-16.929913</td>\n",
       "    </tr>\n",
       "    <tr>\n",
       "      <th>7</th>\n",
       "      <td>29</td>\n",
       "      <td>2</td>\n",
       "      <td>15.045964</td>\n",
       "      <td>-13.045964</td>\n",
       "    </tr>\n",
       "    <tr>\n",
       "      <th>8</th>\n",
       "      <td>11</td>\n",
       "      <td>3</td>\n",
       "      <td>17.914438</td>\n",
       "      <td>-14.914438</td>\n",
       "    </tr>\n",
       "    <tr>\n",
       "      <th>9</th>\n",
       "      <td>17</td>\n",
       "      <td>3</td>\n",
       "      <td>16.791561</td>\n",
       "      <td>-13.791561</td>\n",
       "    </tr>\n",
       "    <tr>\n",
       "      <th>10</th>\n",
       "      <td>23</td>\n",
       "      <td>3</td>\n",
       "      <td>15.153370</td>\n",
       "      <td>-12.153370</td>\n",
       "    </tr>\n",
       "    <tr>\n",
       "      <th>11</th>\n",
       "      <td>19</td>\n",
       "      <td>3</td>\n",
       "      <td>16.107367</td>\n",
       "      <td>-13.107367</td>\n",
       "    </tr>\n",
       "    <tr>\n",
       "      <th>12</th>\n",
       "      <td>18</td>\n",
       "      <td>6</td>\n",
       "      <td>13.454265</td>\n",
       "      <td>-7.454265</td>\n",
       "    </tr>\n",
       "    <tr>\n",
       "      <th>13</th>\n",
       "      <td>4</td>\n",
       "      <td>8</td>\n",
       "      <td>17.834066</td>\n",
       "      <td>-9.834066</td>\n",
       "    </tr>\n",
       "    <tr>\n",
       "      <th>14</th>\n",
       "      <td>5</td>\n",
       "      <td>11</td>\n",
       "      <td>17.002861</td>\n",
       "      <td>-6.002861</td>\n",
       "    </tr>\n",
       "    <tr>\n",
       "      <th>15</th>\n",
       "      <td>13</td>\n",
       "      <td>11</td>\n",
       "      <td>19.458153</td>\n",
       "      <td>-8.458153</td>\n",
       "    </tr>\n",
       "    <tr>\n",
       "      <th>16</th>\n",
       "      <td>3</td>\n",
       "      <td>11</td>\n",
       "      <td>17.681988</td>\n",
       "      <td>-6.681988</td>\n",
       "    </tr>\n",
       "    <tr>\n",
       "      <th>17</th>\n",
       "      <td>28</td>\n",
       "      <td>14</td>\n",
       "      <td>20.311569</td>\n",
       "      <td>-6.311569</td>\n",
       "    </tr>\n",
       "    <tr>\n",
       "      <th>18</th>\n",
       "      <td>26</td>\n",
       "      <td>16</td>\n",
       "      <td>16.828472</td>\n",
       "      <td>-0.828472</td>\n",
       "    </tr>\n",
       "    <tr>\n",
       "      <th>19</th>\n",
       "      <td>15</td>\n",
       "      <td>19</td>\n",
       "      <td>16.706961</td>\n",
       "      <td>2.293039</td>\n",
       "    </tr>\n",
       "    <tr>\n",
       "      <th>20</th>\n",
       "      <td>2</td>\n",
       "      <td>24</td>\n",
       "      <td>14.483201</td>\n",
       "      <td>9.516799</td>\n",
       "    </tr>\n",
       "    <tr>\n",
       "      <th>21</th>\n",
       "      <td>8</td>\n",
       "      <td>24</td>\n",
       "      <td>15.398904</td>\n",
       "      <td>8.601096</td>\n",
       "    </tr>\n",
       "    <tr>\n",
       "      <th>22</th>\n",
       "      <td>20</td>\n",
       "      <td>24</td>\n",
       "      <td>18.357910</td>\n",
       "      <td>5.642090</td>\n",
       "    </tr>\n",
       "    <tr>\n",
       "      <th>23</th>\n",
       "      <td>25</td>\n",
       "      <td>26</td>\n",
       "      <td>16.746269</td>\n",
       "      <td>9.253731</td>\n",
       "    </tr>\n",
       "    <tr>\n",
       "      <th>24</th>\n",
       "      <td>21</td>\n",
       "      <td>27</td>\n",
       "      <td>19.628592</td>\n",
       "      <td>7.371408</td>\n",
       "    </tr>\n",
       "    <tr>\n",
       "      <th>25</th>\n",
       "      <td>14</td>\n",
       "      <td>27</td>\n",
       "      <td>15.589067</td>\n",
       "      <td>11.410933</td>\n",
       "    </tr>\n",
       "    <tr>\n",
       "      <th>26</th>\n",
       "      <td>9</td>\n",
       "      <td>29</td>\n",
       "      <td>20.350451</td>\n",
       "      <td>8.649549</td>\n",
       "    </tr>\n",
       "    <tr>\n",
       "      <th>27</th>\n",
       "      <td>12</td>\n",
       "      <td>30</td>\n",
       "      <td>18.782200</td>\n",
       "      <td>11.217800</td>\n",
       "    </tr>\n",
       "    <tr>\n",
       "      <th>28</th>\n",
       "      <td>7</td>\n",
       "      <td>32</td>\n",
       "      <td>18.006195</td>\n",
       "      <td>13.993805</td>\n",
       "    </tr>\n",
       "    <tr>\n",
       "      <th>29</th>\n",
       "      <td>24</td>\n",
       "      <td>33</td>\n",
       "      <td>16.707550</td>\n",
       "      <td>16.292450</td>\n",
       "    </tr>\n",
       "  </tbody>\n",
       "</table>\n",
       "</div>"
      ],
      "text/plain": [
       "    index  y_actual     y_pred  pred_error\n",
       "0       0         0  17.463762  -17.463762\n",
       "1       1         0  17.314323  -17.314323\n",
       "2      27         0  19.261677  -19.261677\n",
       "3      22         0  15.654448  -15.654448\n",
       "4      16         0  15.309143  -15.309143\n",
       "5       6         0  14.559443  -14.559443\n",
       "6      10         1  17.929913  -16.929913\n",
       "7      29         2  15.045964  -13.045964\n",
       "8      11         3  17.914438  -14.914438\n",
       "9      17         3  16.791561  -13.791561\n",
       "10     23         3  15.153370  -12.153370\n",
       "11     19         3  16.107367  -13.107367\n",
       "12     18         6  13.454265   -7.454265\n",
       "13      4         8  17.834066   -9.834066\n",
       "14      5        11  17.002861   -6.002861\n",
       "15     13        11  19.458153   -8.458153\n",
       "16      3        11  17.681988   -6.681988\n",
       "17     28        14  20.311569   -6.311569\n",
       "18     26        16  16.828472   -0.828472\n",
       "19     15        19  16.706961    2.293039\n",
       "20      2        24  14.483201    9.516799\n",
       "21      8        24  15.398904    8.601096\n",
       "22     20        24  18.357910    5.642090\n",
       "23     25        26  16.746269    9.253731\n",
       "24     21        27  19.628592    7.371408\n",
       "25     14        27  15.589067   11.410933\n",
       "26      9        29  20.350451    8.649549\n",
       "27     12        30  18.782200   11.217800\n",
       "28      7        32  18.006195   13.993805\n",
       "29     24        33  16.707550   16.292450"
      ]
     },
     "execution_count": 29,
     "metadata": {},
     "output_type": "execute_result"
    }
   ],
   "source": [
    "pred_df = pd.DataFrame(data=np.column_stack((y_pred_actual,y_prediction)),columns=['y_actual','y_pred'])\n",
    "pred_df['pred_error'] = pred_df['y_actual'] - pred_df['y_pred']\n",
    "pred_df = pred_df.sort_values(by=['y_actual']).reset_index()\n",
    "pred_df['y_actual'] = pred_df['y_actual'].apply(np.int64)\n",
    "pred_df"
   ]
  },
  {
   "cell_type": "code",
   "execution_count": 30,
   "metadata": {},
   "outputs": [
    {
     "data": {
      "image/png": "[encoded data removed]",
      "text/plain": [
       "<Figure size 432x288 with 1 Axes>"
      ]
     },
     "metadata": {
      "needs_background": "light"
     },
     "output_type": "display_data"
    }
   ],
   "source": [
    "pred_df.plot('y_actual', 'y_pred', kind='scatter')\n",
    "plt.xlabel(\"Actual YMRS\")\n",
    "plt.ylabel(\"Predicted YMRS\")\n",
    "plt.show()"
   ]
  },
  {
   "cell_type": "code",
   "execution_count": 31,
   "metadata": {},
   "outputs": [
    {
     "data": {
      "image/png": "[encoded data removed]",
      "text/plain": [
       "<Figure size 432x288 with 1 Axes>"
      ]
     },
     "metadata": {
      "needs_background": "light"
     },
     "output_type": "display_data"
    }
   ],
   "source": [
    "pred_df.plot('y_actual', 'pred_error', kind='scatter')\n",
    "plt.xlabel(\"Actual YMRS\")\n",
    "plt.ylabel(\"Prediction error\")\n",
    "plt.show()"
   ]
  },
  {
   "cell_type": "code",
   "execution_count": 32,
   "metadata": {},
   "outputs": [
    {
     "data": {
      "image/png": "[encoded data removed]",
      "text/plain": [
       "<Figure size 432x288 with 1 Axes>"
      ]
     },
     "metadata": {
      "needs_background": "light"
     },
     "output_type": "display_data"
    }
   ],
   "source": [
    "plt.xlabel(\"Iterations\")\n",
    "plt.ylabel(\"Target value (YMRS)\")\n",
    "plt.plot(pred_df['y_actual'], label=\"Actual\")\n",
    "plt.plot(pred_df['y_pred'], label=\"Predicted\")\n",
    "plt.legend()\n",
    "plt.show()"
   ]
  }
 ],
 "metadata": {
  "interpreter": {
   "hash": "d7357180ab0aea027c2b76ff246d615b9a5a4459a76ec15419f48cf45c2c81d4"
  },
  "kernelspec": {
   "display_name": "Python 3.8.13 ('gpu')",
   "language": "python",
   "name": "python3"
  },
  "language_info": {
   "codemirror_mode": {
    "name": "ipython",
    "version": 3
   },
   "file_extension": ".py",
   "mimetype": "text/x-python",
   "name": "python",
   "nbconvert_exporter": "python",
   "pygments_lexer": "ipython3",
   "version": "3.8.13"
  },
  "orig_nbformat": 4
 },
 "nbformat": 4,
 "nbformat_minor": 2
}
